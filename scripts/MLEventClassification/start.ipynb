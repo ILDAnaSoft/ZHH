{
 "cells": [
  {
   "cell_type": "code",
   "execution_count": 1,
   "metadata": {},
   "outputs": [],
   "source": [
    "from glob import glob"
   ]
  },
  {
   "cell_type": "code",
   "execution_count": 5,
   "metadata": {},
   "outputs": [
    {
     "name": "stdout",
     "output_type": "stream",
     "text": [
      "Found 40:40 sig:bkg files\n"
     ]
    }
   ],
   "source": [
    "sig = glob('/nfs/dust/ilc/user/bliewert/zhh/FastSimSGV/550-hh-fast/*Pqqhh*')\n",
    "bkg = glob('/nfs/dust/ilc/user/bliewert/zhh/FastSimSGV/550-hh-fast/*Pqqqqh*')\n",
    "\n",
    "sig.sort()\n",
    "bkg.sort()\n",
    "\n",
    "print(f'Found {len(sig)}:{len(bkg)} sig:bkg files')"
   ]
  }
 ],
 "metadata": {
  "kernelspec": {
   "display_name": "zhhvenv",
   "language": "python",
   "name": "python3"
  },
  "language_info": {
   "codemirror_mode": {
    "name": "ipython",
    "version": 3
   },
   "file_extension": ".py",
   "mimetype": "text/x-python",
   "name": "python",
   "nbconvert_exporter": "python",
   "pygments_lexer": "ipython3",
   "version": "3.11.9"
  }
 },
 "nbformat": 4,
 "nbformat_minor": 2
}
