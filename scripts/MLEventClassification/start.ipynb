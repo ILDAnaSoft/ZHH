{
 "cells": [
  {
   "cell_type": "code",
   "execution_count": 1,
   "metadata": {},
   "outputs": [],
   "source": [
    "from glob import glob"
   ]
  },
  {
   "cell_type": "code",
   "execution_count": 5,
   "metadata": {},
   "outputs": [
    {
     "name": "stdout",
     "output_type": "stream",
     "text": [
      "Found 40:40 sig:bkg files\n"
     ]
    }
   ],
   "source": [
    "sig = glob('/nfs/dust/ilc/user/bliewert/zhh/FastSimSGV/550-hh-fast/*Pqqhh*')\n",
    "bkg = glob('/nfs/dust/ilc/user/bliewert/zhh/FastSimSGV/550-hh-fast/*Pqqqqh*')\n",
    "\n",
    "sig.sort()\n",
    "bkg.sort()\n",
    "\n",
    "print(f'Found {len(sig)}:{len(bkg)} sig:bkg files')"
   ]
  },
  {
   "cell_type": "code",
   "execution_count": 9,
   "metadata": {},
   "outputs": [
    {
     "name": "stdout",
     "output_type": "stream",
     "text": [
      "/nfs/dust/ilc/user/bliewert/zhh/FastSimSGV/550-hh-fast/E550-Test.Pqqhh.Gwhizard-2_8_5.eL.pR.I404009.0.slcio\n",
      "/nfs/dust/ilc/user/bliewert/zhh/FastSimSGV/550-hh-fast/E550-Test.Pqqhh.Gwhizard-2_8_5.eL.pR.I404009.1.slcio\n",
      "/nfs/dust/ilc/user/bliewert/zhh/FastSimSGV/550-hh-fast/E550-Test.Pqqhh.Gwhizard-2_8_5.eL.pR.I404009.10.slcio\n",
      "/nfs/dust/ilc/user/bliewert/zhh/FastSimSGV/550-hh-fast/E550-Test.Pqqhh.Gwhizard-2_8_5.eL.pR.I404009.11.slcio\n",
      "/nfs/dust/ilc/user/bliewert/zhh/FastSimSGV/550-hh-fast/E550-Test.Pqqhh.Gwhizard-2_8_5.eL.pR.I404009.12.slcio\n",
      "/nfs/dust/ilc/user/bliewert/zhh/FastSimSGV/550-hh-fast/E550-Test.Pqqhh.Gwhizard-2_8_5.eL.pR.I404009.13.slcio\n",
      "/nfs/dust/ilc/user/bliewert/zhh/FastSimSGV/550-hh-fast/E550-Test.Pqqhh.Gwhizard-2_8_5.eL.pR.I404009.14.slcio\n",
      "/nfs/dust/ilc/user/bliewert/zhh/FastSimSGV/550-hh-fast/E550-Test.Pqqhh.Gwhizard-2_8_5.eL.pR.I404009.15.slcio\n",
      "/nfs/dust/ilc/user/bliewert/zhh/FastSimSGV/550-hh-fast/E550-Test.Pqqhh.Gwhizard-2_8_5.eL.pR.I404009.16.slcio\n",
      "/nfs/dust/ilc/user/bliewert/zhh/FastSimSGV/550-hh-fast/E550-Test.Pqqhh.Gwhizard-2_8_5.eL.pR.I404009.17.slcio\n",
      "/nfs/dust/ilc/user/bliewert/zhh/FastSimSGV/550-hh-fast/E550-Test.Pqqhh.Gwhizard-2_8_5.eL.pR.I404009.18.slcio\n",
      "/nfs/dust/ilc/user/bliewert/zhh/FastSimSGV/550-hh-fast/E550-Test.Pqqhh.Gwhizard-2_8_5.eL.pR.I404009.19.slcio\n",
      "/nfs/dust/ilc/user/bliewert/zhh/FastSimSGV/550-hh-fast/E550-Test.Pqqhh.Gwhizard-2_8_5.eL.pR.I404009.2.slcio\n",
      "/nfs/dust/ilc/user/bliewert/zhh/FastSimSGV/550-hh-fast/E550-Test.Pqqhh.Gwhizard-2_8_5.eL.pR.I404009.3.slcio\n",
      "/nfs/dust/ilc/user/bliewert/zhh/FastSimSGV/550-hh-fast/E550-Test.Pqqhh.Gwhizard-2_8_5.eL.pR.I404009.4.slcio\n",
      "/nfs/dust/ilc/user/bliewert/zhh/FastSimSGV/550-hh-fast/E550-Test.Pqqhh.Gwhizard-2_8_5.eL.pR.I404009.5.slcio\n",
      "/nfs/dust/ilc/user/bliewert/zhh/FastSimSGV/550-hh-fast/E550-Test.Pqqhh.Gwhizard-2_8_5.eL.pR.I404009.6.slcio\n",
      "/nfs/dust/ilc/user/bliewert/zhh/FastSimSGV/550-hh-fast/E550-Test.Pqqhh.Gwhizard-2_8_5.eL.pR.I404009.7.slcio\n",
      "/nfs/dust/ilc/user/bliewert/zhh/FastSimSGV/550-hh-fast/E550-Test.Pqqhh.Gwhizard-2_8_5.eL.pR.I404009.8.slcio\n",
      "/nfs/dust/ilc/user/bliewert/zhh/FastSimSGV/550-hh-fast/E550-Test.Pqqhh.Gwhizard-2_8_5.eL.pR.I404009.9.slcio\n",
      "/nfs/dust/ilc/user/bliewert/zhh/FastSimSGV/550-hh-fast/E550-Test.Pqqhh.Gwhizard-2_8_5.eR.pL.I404010.0.slcio\n",
      "/nfs/dust/ilc/user/bliewert/zhh/FastSimSGV/550-hh-fast/E550-Test.Pqqhh.Gwhizard-2_8_5.eR.pL.I404010.1.slcio\n",
      "/nfs/dust/ilc/user/bliewert/zhh/FastSimSGV/550-hh-fast/E550-Test.Pqqhh.Gwhizard-2_8_5.eR.pL.I404010.10.slcio\n",
      "/nfs/dust/ilc/user/bliewert/zhh/FastSimSGV/550-hh-fast/E550-Test.Pqqhh.Gwhizard-2_8_5.eR.pL.I404010.11.slcio\n",
      "/nfs/dust/ilc/user/bliewert/zhh/FastSimSGV/550-hh-fast/E550-Test.Pqqhh.Gwhizard-2_8_5.eR.pL.I404010.12.slcio\n",
      "/nfs/dust/ilc/user/bliewert/zhh/FastSimSGV/550-hh-fast/E550-Test.Pqqhh.Gwhizard-2_8_5.eR.pL.I404010.13.slcio\n",
      "/nfs/dust/ilc/user/bliewert/zhh/FastSimSGV/550-hh-fast/E550-Test.Pqqhh.Gwhizard-2_8_5.eR.pL.I404010.14.slcio\n",
      "/nfs/dust/ilc/user/bliewert/zhh/FastSimSGV/550-hh-fast/E550-Test.Pqqhh.Gwhizard-2_8_5.eR.pL.I404010.15.slcio\n",
      "/nfs/dust/ilc/user/bliewert/zhh/FastSimSGV/550-hh-fast/E550-Test.Pqqhh.Gwhizard-2_8_5.eR.pL.I404010.16.slcio\n",
      "/nfs/dust/ilc/user/bliewert/zhh/FastSimSGV/550-hh-fast/E550-Test.Pqqhh.Gwhizard-2_8_5.eR.pL.I404010.17.slcio\n",
      "/nfs/dust/ilc/user/bliewert/zhh/FastSimSGV/550-hh-fast/E550-Test.Pqqhh.Gwhizard-2_8_5.eR.pL.I404010.18.slcio\n",
      "/nfs/dust/ilc/user/bliewert/zhh/FastSimSGV/550-hh-fast/E550-Test.Pqqhh.Gwhizard-2_8_5.eR.pL.I404010.19.slcio\n",
      "/nfs/dust/ilc/user/bliewert/zhh/FastSimSGV/550-hh-fast/E550-Test.Pqqhh.Gwhizard-2_8_5.eR.pL.I404010.2.slcio\n",
      "/nfs/dust/ilc/user/bliewert/zhh/FastSimSGV/550-hh-fast/E550-Test.Pqqhh.Gwhizard-2_8_5.eR.pL.I404010.3.slcio\n",
      "/nfs/dust/ilc/user/bliewert/zhh/FastSimSGV/550-hh-fast/E550-Test.Pqqhh.Gwhizard-2_8_5.eR.pL.I404010.4.slcio\n",
      "/nfs/dust/ilc/user/bliewert/zhh/FastSimSGV/550-hh-fast/E550-Test.Pqqhh.Gwhizard-2_8_5.eR.pL.I404010.5.slcio\n",
      "/nfs/dust/ilc/user/bliewert/zhh/FastSimSGV/550-hh-fast/E550-Test.Pqqhh.Gwhizard-2_8_5.eR.pL.I404010.6.slcio\n",
      "/nfs/dust/ilc/user/bliewert/zhh/FastSimSGV/550-hh-fast/E550-Test.Pqqhh.Gwhizard-2_8_5.eR.pL.I404010.7.slcio\n",
      "/nfs/dust/ilc/user/bliewert/zhh/FastSimSGV/550-hh-fast/E550-Test.Pqqhh.Gwhizard-2_8_5.eR.pL.I404010.8.slcio\n",
      "/nfs/dust/ilc/user/bliewert/zhh/FastSimSGV/550-hh-fast/E550-Test.Pqqhh.Gwhizard-2_8_5.eR.pL.I404010.9.slcio\n"
     ]
    }
   ],
   "source": [
    "print('\\n'.join(sig))"
   ]
  },
  {
   "cell_type": "code",
   "execution_count": 11,
   "metadata": {},
   "outputs": [
    {
     "name": "stdout",
     "output_type": "stream",
     "text": [
      "/nfs/dust/ilc/user/bliewert/zhh/FastSimSGV/550-hh-fast/E550-Test.Pqqqqh.Gwhizard-2_8_5.eL.pR.I404019.0.slcio\n",
      "/nfs/dust/ilc/user/bliewert/zhh/FastSimSGV/550-hh-fast/E550-Test.Pqqqqh.Gwhizard-2_8_5.eL.pR.I404019.1.slcio\n",
      "/nfs/dust/ilc/user/bliewert/zhh/FastSimSGV/550-hh-fast/E550-Test.Pqqqqh.Gwhizard-2_8_5.eL.pR.I404019.10.slcio\n",
      "/nfs/dust/ilc/user/bliewert/zhh/FastSimSGV/550-hh-fast/E550-Test.Pqqqqh.Gwhizard-2_8_5.eL.pR.I404019.11.slcio\n",
      "/nfs/dust/ilc/user/bliewert/zhh/FastSimSGV/550-hh-fast/E550-Test.Pqqqqh.Gwhizard-2_8_5.eL.pR.I404019.12.slcio\n",
      "/nfs/dust/ilc/user/bliewert/zhh/FastSimSGV/550-hh-fast/E550-Test.Pqqqqh.Gwhizard-2_8_5.eL.pR.I404019.13.slcio\n",
      "/nfs/dust/ilc/user/bliewert/zhh/FastSimSGV/550-hh-fast/E550-Test.Pqqqqh.Gwhizard-2_8_5.eL.pR.I404019.14.slcio\n",
      "/nfs/dust/ilc/user/bliewert/zhh/FastSimSGV/550-hh-fast/E550-Test.Pqqqqh.Gwhizard-2_8_5.eL.pR.I404019.15.slcio\n",
      "/nfs/dust/ilc/user/bliewert/zhh/FastSimSGV/550-hh-fast/E550-Test.Pqqqqh.Gwhizard-2_8_5.eL.pR.I404019.16.slcio\n",
      "/nfs/dust/ilc/user/bliewert/zhh/FastSimSGV/550-hh-fast/E550-Test.Pqqqqh.Gwhizard-2_8_5.eL.pR.I404019.17.slcio\n",
      "/nfs/dust/ilc/user/bliewert/zhh/FastSimSGV/550-hh-fast/E550-Test.Pqqqqh.Gwhizard-2_8_5.eL.pR.I404019.18.slcio\n",
      "/nfs/dust/ilc/user/bliewert/zhh/FastSimSGV/550-hh-fast/E550-Test.Pqqqqh.Gwhizard-2_8_5.eL.pR.I404019.19.slcio\n",
      "/nfs/dust/ilc/user/bliewert/zhh/FastSimSGV/550-hh-fast/E550-Test.Pqqqqh.Gwhizard-2_8_5.eL.pR.I404019.2.slcio\n",
      "/nfs/dust/ilc/user/bliewert/zhh/FastSimSGV/550-hh-fast/E550-Test.Pqqqqh.Gwhizard-2_8_5.eL.pR.I404019.3.slcio\n",
      "/nfs/dust/ilc/user/bliewert/zhh/FastSimSGV/550-hh-fast/E550-Test.Pqqqqh.Gwhizard-2_8_5.eL.pR.I404019.4.slcio\n",
      "/nfs/dust/ilc/user/bliewert/zhh/FastSimSGV/550-hh-fast/E550-Test.Pqqqqh.Gwhizard-2_8_5.eL.pR.I404019.5.slcio\n",
      "/nfs/dust/ilc/user/bliewert/zhh/FastSimSGV/550-hh-fast/E550-Test.Pqqqqh.Gwhizard-2_8_5.eL.pR.I404019.6.slcio\n",
      "/nfs/dust/ilc/user/bliewert/zhh/FastSimSGV/550-hh-fast/E550-Test.Pqqqqh.Gwhizard-2_8_5.eL.pR.I404019.7.slcio\n",
      "/nfs/dust/ilc/user/bliewert/zhh/FastSimSGV/550-hh-fast/E550-Test.Pqqqqh.Gwhizard-2_8_5.eL.pR.I404019.8.slcio\n",
      "/nfs/dust/ilc/user/bliewert/zhh/FastSimSGV/550-hh-fast/E550-Test.Pqqqqh.Gwhizard-2_8_5.eL.pR.I404019.9.slcio\n",
      "/nfs/dust/ilc/user/bliewert/zhh/FastSimSGV/550-hh-fast/E550-Test.Pqqqqh.Gwhizard-2_8_5.eR.pL.I404020.0.slcio\n",
      "/nfs/dust/ilc/user/bliewert/zhh/FastSimSGV/550-hh-fast/E550-Test.Pqqqqh.Gwhizard-2_8_5.eR.pL.I404020.1.slcio\n",
      "/nfs/dust/ilc/user/bliewert/zhh/FastSimSGV/550-hh-fast/E550-Test.Pqqqqh.Gwhizard-2_8_5.eR.pL.I404020.10.slcio\n",
      "/nfs/dust/ilc/user/bliewert/zhh/FastSimSGV/550-hh-fast/E550-Test.Pqqqqh.Gwhizard-2_8_5.eR.pL.I404020.11.slcio\n",
      "/nfs/dust/ilc/user/bliewert/zhh/FastSimSGV/550-hh-fast/E550-Test.Pqqqqh.Gwhizard-2_8_5.eR.pL.I404020.12.slcio\n",
      "/nfs/dust/ilc/user/bliewert/zhh/FastSimSGV/550-hh-fast/E550-Test.Pqqqqh.Gwhizard-2_8_5.eR.pL.I404020.13.slcio\n",
      "/nfs/dust/ilc/user/bliewert/zhh/FastSimSGV/550-hh-fast/E550-Test.Pqqqqh.Gwhizard-2_8_5.eR.pL.I404020.14.slcio\n",
      "/nfs/dust/ilc/user/bliewert/zhh/FastSimSGV/550-hh-fast/E550-Test.Pqqqqh.Gwhizard-2_8_5.eR.pL.I404020.15.slcio\n",
      "/nfs/dust/ilc/user/bliewert/zhh/FastSimSGV/550-hh-fast/E550-Test.Pqqqqh.Gwhizard-2_8_5.eR.pL.I404020.16.slcio\n",
      "/nfs/dust/ilc/user/bliewert/zhh/FastSimSGV/550-hh-fast/E550-Test.Pqqqqh.Gwhizard-2_8_5.eR.pL.I404020.17.slcio\n",
      "/nfs/dust/ilc/user/bliewert/zhh/FastSimSGV/550-hh-fast/E550-Test.Pqqqqh.Gwhizard-2_8_5.eR.pL.I404020.18.slcio\n",
      "/nfs/dust/ilc/user/bliewert/zhh/FastSimSGV/550-hh-fast/E550-Test.Pqqqqh.Gwhizard-2_8_5.eR.pL.I404020.19.slcio\n",
      "/nfs/dust/ilc/user/bliewert/zhh/FastSimSGV/550-hh-fast/E550-Test.Pqqqqh.Gwhizard-2_8_5.eR.pL.I404020.2.slcio\n",
      "/nfs/dust/ilc/user/bliewert/zhh/FastSimSGV/550-hh-fast/E550-Test.Pqqqqh.Gwhizard-2_8_5.eR.pL.I404020.3.slcio\n",
      "/nfs/dust/ilc/user/bliewert/zhh/FastSimSGV/550-hh-fast/E550-Test.Pqqqqh.Gwhizard-2_8_5.eR.pL.I404020.4.slcio\n",
      "/nfs/dust/ilc/user/bliewert/zhh/FastSimSGV/550-hh-fast/E550-Test.Pqqqqh.Gwhizard-2_8_5.eR.pL.I404020.5.slcio\n",
      "/nfs/dust/ilc/user/bliewert/zhh/FastSimSGV/550-hh-fast/E550-Test.Pqqqqh.Gwhizard-2_8_5.eR.pL.I404020.6.slcio\n",
      "/nfs/dust/ilc/user/bliewert/zhh/FastSimSGV/550-hh-fast/E550-Test.Pqqqqh.Gwhizard-2_8_5.eR.pL.I404020.7.slcio\n",
      "/nfs/dust/ilc/user/bliewert/zhh/FastSimSGV/550-hh-fast/E550-Test.Pqqqqh.Gwhizard-2_8_5.eR.pL.I404020.8.slcio\n",
      "/nfs/dust/ilc/user/bliewert/zhh/FastSimSGV/550-hh-fast/E550-Test.Pqqqqh.Gwhizard-2_8_5.eR.pL.I404020.9.slcio\n"
     ]
    }
   ],
   "source": [
    "print('\\n'.join(bkg))"
   ]
  },
  {
   "cell_type": "code",
   "execution_count": null,
   "metadata": {},
   "outputs": [],
   "source": []
  }
 ],
 "metadata": {
  "kernelspec": {
   "display_name": "zhhvenv",
   "language": "python",
   "name": "python3"
  },
  "language_info": {
   "codemirror_mode": {
    "name": "ipython",
    "version": 3
   },
   "file_extension": ".py",
   "mimetype": "text/x-python",
   "name": "python",
   "nbconvert_exporter": "python",
   "pygments_lexer": "ipython3",
   "version": "3.11.9"
  }
 },
 "nbformat": 4,
 "nbformat_minor": 2
}
