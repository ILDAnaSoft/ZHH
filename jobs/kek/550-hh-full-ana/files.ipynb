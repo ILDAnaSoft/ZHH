{
 "cells": [
  {
   "cell_type": "code",
   "execution_count": 1,
   "metadata": {},
   "outputs": [],
   "source": [
    "from glob import glob\n",
    "\n",
    "def get_process(path:str):\n",
    "    return path.split('E550')[1].split('.P')[1].split('.')[0]\n",
    "\n",
    "def get_proc_pol(path:str):\n",
    "    return path.split('E550')[1].split('.P')[1].split('.n')[0]\n",
    "\n",
    "statistics = .3\n",
    "files = glob(f'/group/ilc/grid/storm/prod/ilc/mc-2020/ild/dst-merged/550-Test/hh/ILD_l5_o1_v02/v02-02-03/**/*.slcio', recursive=True)\n",
    "#files = list(filter(lambda path: any([elem in get_process(path) for elem in ['e1e1', 'e2e2', 'v', 'l']]), files))\n",
    "files.sort()\n",
    "\n",
    "counts_max = {}\n",
    "counts_is = {}\n",
    "for file in files:\n",
    "    proc_pol = get_proc_pol(file)\n",
    "    if proc_pol not in counts_max:\n",
    "        counts_is[proc_pol] = 0\n",
    "        counts_max[proc_pol] = 0\n",
    "    else:\n",
    "        counts_max[proc_pol] += 1 \n",
    "\n",
    "output = []\n",
    "for file in files:\n",
    "    proc_pol = get_proc_pol(file)\n",
    "    if counts_is[proc_pol] < statistics * counts_max[proc_pol]:\n",
    "        counts_is[proc_pol] += 1\n",
    "        output.append(file)\n",
    "\n",
    "with open('files.txt', 'w') as f:\n",
    "    f.write('\\n'.join(output))"
   ]
  },
  {
   "cell_type": "code",
   "execution_count": 2,
   "metadata": {},
   "outputs": [
    {
     "data": {
      "text/plain": [
       "{'e2e2hh.eL.pR': 35,\n",
       " 'e2e2hh.eR.pL': 35,\n",
       " 'e3e3hh.eL.pR': 36,\n",
       " 'e3e3hh.eR.pL': 36,\n",
       " 'e2e2qqh.eL.pR': 35,\n",
       " 'e2e2qqh.eR.pL': 35,\n",
       " 'e3e3qqh.eL.pR': 36,\n",
       " 'e3e3qqh.eR.pL': 36,\n",
       " 'n1n1hh.eL.pR': 34,\n",
       " 'n1n1hh.eR.pL': 34,\n",
       " 'n23n23hh.eL.pR': 34,\n",
       " 'n23n23hh.eR.pL': 34,\n",
       " 'n1n1qqh.eL.pR': 33,\n",
       " 'n1n1qqh.eR.pL': 33,\n",
       " 'n23n23qqh.eL.pR': 33,\n",
       " 'n23n23qqh.eR.pL': 32,\n",
       " 'qqhh.eL.pR': 49,\n",
       " 'qqhh.eR.pL': 49,\n",
       " 'qqqqh.eL.pR': 48,\n",
       " 'qqqqh.eR.pL': 49,\n",
       " 'e1e1hh.eL.pL': 36,\n",
       " 'e1e1hh.eL.pR': 36,\n",
       " 'e1e1hh.eR.pL': 36,\n",
       " 'e1e1hh.eR.pR': 36,\n",
       " 'e1e1qqh.eL.pL': 34,\n",
       " 'e1e1qqh.eL.pR': 35,\n",
       " 'e1e1qqh.eR.pL': 35,\n",
       " 'e1e1qqh.eR.pR': 34}"
      ]
     },
     "execution_count": 2,
     "metadata": {},
     "output_type": "execute_result"
    }
   ],
   "source": [
    "counts_is"
   ]
  },
  {
   "cell_type": "code",
   "execution_count": null,
   "metadata": {},
   "outputs": [],
   "source": []
  }
 ],
 "metadata": {
  "kernelspec": {
   "display_name": "zhhvenv",
   "language": "python",
   "name": "python3"
  },
  "language_info": {
   "codemirror_mode": {
    "name": "ipython",
    "version": 3
   },
   "file_extension": ".py",
   "mimetype": "text/x-python",
   "name": "python",
   "nbconvert_exporter": "python",
   "pygments_lexer": "ipython3",
   "version": "3.11.9"
  }
 },
 "nbformat": 4,
 "nbformat_minor": 2
}
