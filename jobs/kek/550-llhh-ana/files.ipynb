{
 "cells": [
  {
   "cell_type": "code",
   "execution_count": 4,
   "metadata": {},
   "outputs": [],
   "source": [
    "from glob import glob\n",
    "\n",
    "prefix = '/home/ilc/bliewert/jobresults/550-hh-sgv/'\n",
    "files = glob(f'{prefix}/*.slcio')\n",
    "output = list(filter(lambda path: any([elem in path for elem in ['e1e1', 'e2e2', 'e3e3', 'n1n1', 'n23n23']]), files))\n",
    "output.sort()\n",
    "\n",
    "with open(f'/home/ilc/bliewert/DevRepositories/ZHH/jobs/kek/550-llhh-ana/files.txt', 'w') as f:\n",
    "    f.write('\\n'.join(output))"
   ]
  },
  {
   "cell_type": "code",
   "execution_count": null,
   "metadata": {},
   "outputs": [],
   "source": []
  }
 ],
 "metadata": {
  "kernelspec": {
   "display_name": "zhhvenv",
   "language": "python",
   "name": "python3"
  },
  "language_info": {
   "codemirror_mode": {
    "name": "ipython",
    "version": 3
   },
   "file_extension": ".py",
   "mimetype": "text/x-python",
   "name": "python",
   "nbconvert_exporter": "python",
   "pygments_lexer": "ipython3",
   "version": "3.11.9"
  }
 },
 "nbformat": 4,
 "nbformat_minor": 2
}
