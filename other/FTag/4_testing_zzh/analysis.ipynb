{
 "cells": [
  {
   "cell_type": "code",
   "execution_count": 1,
   "metadata": {},
   "outputs": [],
   "source": [
    "import numpy as np\n",
    "import os.path as osp\n",
    "import uproot as ur\n",
    "from glob import glob"
   ]
  },
  {
   "cell_type": "code",
   "execution_count": 2,
   "metadata": {},
   "outputs": [
    {
     "name": "stdout",
     "output_type": "stream",
     "text": [
      "[('/afs/desy.de/group/flc/pool/bliewert/MarlinWorkdirs/ZHH/scripts/AIDAFile_zzh_bbbb.root.root', '/afs/desy.de/group/flc/pool/bliewert/MarlinWorkdirs/ZHH/scripts/FinalStates_zzh_bbbb.root')]\n"
     ]
    }
   ],
   "source": [
    "debug = True\n",
    "\n",
    "if debug:\n",
    "    filesAIDA = glob('/afs/desy.de/group/flc/pool/bliewert/MarlinWorkdirs/ZHH/scripts/AIDAFile_zzh_bbbb.*.root')\n",
    "else:\n",
    "    filesAIDA = glob('/nfs/dust/ilc/user/bliewert/FT_ParticleNet4Tags/MarlinTestingZZH/output/AIDAFile_e2e2qqh.*.root')\n",
    "    \n",
    "filesAIDA.sort()\n",
    "\n",
    "filesFinalStates:list[str] =  []\n",
    "\n",
    "for file in filesAIDA:\n",
    "    dn = osp.dirname(file)\n",
    "    bn = osp.basename(file)\n",
    "    \n",
    "    totalsuffix = bn.replace('AIDAFile_', '').replace('.root.root', '')\n",
    "    p = osp.join(dn, f'FinalStates_{totalsuffix}.root')\n",
    "    \n",
    "    filesFinalStates.append(p)\n",
    "    \n",
    "print(list(zip(filesAIDA, filesFinalStates)))"
   ]
  },
  {
   "cell_type": "code",
   "execution_count": 3,
   "metadata": {},
   "outputs": [],
   "source": [
    "fsf = ur.open('/afs/desy.de/group/flc/pool/bliewert/MarlinWorkdirs/ZHH/scripts/FinalStates_zzh_bbbb.root')\n",
    "aff = ur.open('/afs/desy.de/group/flc/pool/bliewert/MarlinWorkdirs/ZHH/scripts/AIDAFile_zzh_bbbb.root.root')"
   ]
  },
  {
   "cell_type": "code",
   "execution_count": 4,
   "metadata": {},
   "outputs": [
    {
     "data": {
      "text/html": [
       "<pre>[0,\n",
       " 0,\n",
       " 0,\n",
       " 0,\n",
       " 1,\n",
       " 1,\n",
       " 1,\n",
       " 1,\n",
       " 2,\n",
       " 2,\n",
       " ...,\n",
       " 12,\n",
       " 13,\n",
       " 13,\n",
       " 13,\n",
       " 13,\n",
       " 14,\n",
       " 14,\n",
       " 14,\n",
       " 14]\n",
       "----------------\n",
       "type: 60 * int32</pre>"
      ],
      "text/plain": [
       "<Array [0, 0, 0, 0, 1, 1, 1, ..., 13, 13, 13, 14, 14, 14, 14] type='60 * int32'>"
      ]
     },
     "execution_count": 4,
     "metadata": {},
     "output_type": "execute_result"
    }
   ],
   "source": [
    "aff['Jets']['Event'].array()"
   ]
  },
  {
   "cell_type": "code",
   "execution_count": 5,
   "metadata": {},
   "outputs": [
    {
     "data": {
      "text/html": [
       "<pre>[121,\n",
       " 94.5,\n",
       " 90.1,\n",
       " 58.4,\n",
       " 94.9,\n",
       " 84.6,\n",
       " 41.1,\n",
       " 26,\n",
       " 85.8,\n",
       " 63.3,\n",
       " ...,\n",
       " 49.2,\n",
       " 118,\n",
       " 111,\n",
       " 83.4,\n",
       " 54.2,\n",
       " 108,\n",
       " 88.5,\n",
       " 79.7,\n",
       " 60.4]\n",
       "------------------\n",
       "type: 60 * float64</pre>"
      ],
      "text/plain": [
       "<Array [121, 94.5, 90.1, 58.4, ..., 108, 88.5, 79.7, 60.4] type='60 * float64'>"
      ]
     },
     "execution_count": 5,
     "metadata": {},
     "output_type": "execute_result"
    }
   ],
   "source": [
    "aff['Jets']['JetEnergy'].array()"
   ]
  },
  {
   "cell_type": "code",
   "execution_count": 6,
   "metadata": {},
   "outputs": [
    {
     "data": {
      "text/plain": [
       "60"
      ]
     },
     "execution_count": 6,
     "metadata": {},
     "output_type": "execute_result"
    }
   ],
   "source": [
    "np.sum(aff['JetTaggingComparison']['energy'].array() == aff['Jets']['JetEnergy'].array())"
   ]
  },
  {
   "cell_type": "code",
   "execution_count": null,
   "metadata": {},
   "outputs": [
    {
     "name": "stderr",
     "output_type": "stream",
     "text": [
      "/cvmfs/sw.hsf.org/key4hep/releases/2024-10-03/x86_64-almalinux9-gcc14.2.0-opt/py-tqdm/4.66.3-gay4aw/lib/python3.11/site-packages/tqdm/auto.py:21: TqdmWarning: IProgress not found. Please update jupyter and ipywidgets. See https://ipywidgets.readthedocs.io/en/stable/user_install.html\n",
      "  from .autonotebook import tqdm as notebook_tqdm\n"
     ]
    }
   ],
   "source": [
    "from zhh.analysis.FlavorTagging import parse_files, get_tot_length"
   ]
  },
  {
   "cell_type": "code",
   "execution_count": 18,
   "metadata": {},
   "outputs": [
    {
     "name": "stdout",
     "output_type": "stream",
     "text": [
      "(array([ 2,  4,  5, 99], dtype=int32), array([ 4, 30, 22,  4]))\n",
      "(array([2, 4, 5], dtype=int32), array([ 4, 30, 22]))\n"
     ]
    }
   ],
   "source": [
    "length, y_true, tags1, tags2, valid_jets_mask = parse_files(filesAIDA[0], filesFinalStates[0])\n",
    "\n",
    "print(np.unique(y_true, return_counts=True))\n",
    "\n",
    "tags1 = tags1[valid_jets_mask]\n",
    "tags2 = tags2[valid_jets_mask]\n",
    "y_true = y_true[valid_jets_mask]\n",
    "length = len(y_true)\n",
    "\n",
    "print(np.unique(y_true, return_counts=True))"
   ]
  },
  {
   "cell_type": "code",
   "execution_count": 22,
   "metadata": {},
   "outputs": [],
   "source": [
    "from tqdm.auto import tqdm\n",
    "\n",
    "def load_ftag_results(filesAIDA:list[str], n_tags1:int=3, n_tags2:int=3):\n",
    "        \n",
    "    filesFinalStates:list[str] = []\n",
    "    for file in filesAIDA:\n",
    "        dn = osp.dirname(file)\n",
    "        bn = osp.basename(file)\n",
    "        \n",
    "        totalsuffix = bn.replace('AIDAFile_', '').replace('.root', '')\n",
    "        p = osp.join(dn, f'FinalStates_{totalsuffix}.root')\n",
    "        \n",
    "        filesFinalStates.append(p)\n",
    "        \n",
    "    tot_length = get_tot_length(filesAIDA)\n",
    "        \n",
    "    tags1 = np.zeros((tot_length, n_tags1))\n",
    "    tags2 = np.zeros((tot_length, n_tags2))\n",
    "    pdgs = np.zeros(tot_length, dtype='B')\n",
    "    valid_jets_mask = np.zeros(tot_length, dtype=bool)\n",
    "    pointer_valid = 0\n",
    "    pointer_all = 0\n",
    "\n",
    "    for fileFinalStates, fileAIDA in (pbar := tqdm(list(zip(filesFinalStates, filesAIDA)))):\n",
    "        pbar.set_description(fileAIDA)\n",
    "        \n",
    "        chunk_length, chunk_pdgs, chunk_tags1, chunk_tags2, chunk_valid_jets_mask = parse_files(fileAIDA, fileFinalStates)\n",
    "        \n",
    "        pdgs[pointer_valid:pointer_valid+chunk_length] = chunk_pdgs\n",
    "        tags1[pointer_valid:pointer_valid+chunk_length] = chunk_tags1\n",
    "        tags2[pointer_valid:pointer_valid+chunk_length] = chunk_tags2\n",
    "        valid_jets_mask[pointer_all:pointer_all+chunk_length] = chunk_valid_jets_mask\n",
    "        \n",
    "        pointer_valid += chunk_length\n",
    "        pointer_all += len(chunk_valid_jets_mask)\n",
    "\n",
    "    #tagsPNet = tagsPNet[:pointer_valid]\n",
    "    #tagsLCFI = tagsLCFI[:pointer_valid]\n",
    "    #valid_jets_mask = valid_jets_mask[:pointer_all]\n",
    "    \n",
    "    y_true = np.zeros(len(pdgs), dtype='B')\n",
    "    for needle, replace in [\n",
    "        (1, 2),\n",
    "        (2, 2),\n",
    "        (3, 2),\n",
    "        (4, 1),\n",
    "        (5, 0)\n",
    "    ]:\n",
    "        y_true[pdgs == needle] = replace\n",
    "    \n",
    "    return y_true, tags1, tags2, valid_jets_mask"
   ]
  },
  {
   "cell_type": "code",
   "execution_count": 38,
   "metadata": {},
   "outputs": [
    {
     "name": "stderr",
     "output_type": "stream",
     "text": [
      "/afs/desy.de/group/flc/pool/bliewert/MarlinWorkdirs/ZHH/scripts/AIDAFile_zzh_bbbb.root.root: 100%|██████████| 1/1 [00:00<00:00, 23.39it/s]\n"
     ]
    }
   ],
   "source": [
    "y_true, tags1, tags2, valid_jets_mask = load_ftag_results(filesAIDA)"
   ]
  },
  {
   "cell_type": "code",
   "execution_count": 39,
   "metadata": {},
   "outputs": [
    {
     "name": "stdout",
     "output_type": "stream",
     "text": [
      "60 4600\n"
     ]
    }
   ],
   "source": [
    "print(tot_length, len(valid_jets_mask))"
   ]
  },
  {
   "cell_type": "code",
   "execution_count": 40,
   "metadata": {},
   "outputs": [
    {
     "data": {
      "text/plain": [
       "(array([0, 1, 2], dtype=uint8), array([1967, 2329,  304]))"
      ]
     },
     "execution_count": 40,
     "metadata": {},
     "output_type": "execute_result"
    }
   ],
   "source": [
    "np.unique(y_true, return_counts=True)"
   ]
  },
  {
   "cell_type": "code",
   "execution_count": null,
   "metadata": {},
   "outputs": [],
   "source": []
  },
  {
   "cell_type": "code",
   "execution_count": 47,
   "metadata": {},
   "outputs": [],
   "source": [
    "def merge(source:dict, destination:dict)->dict:\n",
    "    for key, value in source.items():\n",
    "        if isinstance(value, dict):\n",
    "            node = destination.setdefault(key, {})\n",
    "            merge(value, node)\n",
    "        else:\n",
    "            destination[key] = value\n",
    "    \n",
    "    return destination\n",
    "\n",
    "class OptionDict():\n",
    "    properties:dict = {}\n",
    "    \n",
    "    def __init__(self, properties:list[tuple[str, str|int|float]]=[]):\n",
    "        for key, value in properties:\n",
    "            self.addProperty(key, value)\n",
    "    \n",
    "    def addProperty(self, prop, default):\n",
    "        self.properties[prop] = default\n",
    "    \n",
    "    def default(self):\n",
    "        res = {}\n",
    "        for prop in self.properties:\n",
    "            res[prop] = self.properties[prop]\n",
    "        \n",
    "        return res\n",
    "    \n",
    "    def merge(self, values:dict={}):\n",
    "        res = self.default()\n",
    "        return merge(values, res)"
   ]
  },
  {
   "cell_type": "code",
   "execution_count": 59,
   "metadata": {},
   "outputs": [],
   "source": [
    "from sklearn import metrics\n",
    "import matplotlib.pyplot as plt\n",
    "import matplotlib.ticker as ticker\n",
    "\n",
    "plot_opts = OptionDict([\n",
    "    ('xmin', 0),\n",
    "    ('xmax', 1),\n",
    "    ('ymin', 0),\n",
    "    ('ymax', 1),\n",
    "    ('yscale', 'linear')\n",
    "])\n",
    "\n",
    "def plot_roc_two_cases(y_true, tags, methods, to_plot,\n",
    "                       plot_options={},\n",
    "                       tag_names=['b', 'c', 'uds']):\n",
    "    \n",
    "    assert(len(tags) == len(methods))\n",
    "    \n",
    "    figs = []\n",
    "    rocs = {}\n",
    "    \n",
    "    for i, (sig_name, bkg_name) in enumerate(to_plot):\n",
    "        sig_index, bkg_index = tag_names.index(sig_name), tag_names.index(bkg_name)\n",
    "        mask = (y_true == sig_index) | (y_true == bkg_index)\n",
    "        print(f'{sig_name} (ID{sig_index}, n={(y_true == sig_index).sum()}), {bkg_name} (ID{bkg_index}, n={(y_true == bkg_index).sum()})')\n",
    "\n",
    "        fig, ax = plt.subplots(figsize=(6, 6))\n",
    "\n",
    "        for preds, label in zip(tags, methods):\n",
    "            y_true_subs = np.copy(y_true[mask])\n",
    "            pred_sig_subs = np.copy(preds[mask, sig_index])\n",
    "            \n",
    "            mask_sig = y_true_subs == sig_index\n",
    "            mask_bkg = y_true_subs == bkg_index\n",
    "            y_true_subs[mask_sig] = 1\n",
    "            y_true_subs[mask_bkg] = 0\n",
    "            \n",
    "            # invalid predictions: assume signal, but predicted as background\n",
    "            mask_invalid = preds[mask].sum(axis=1) == 0\n",
    "            #print(f'{(mask_invalid).sum()} invalid ({label})')\n",
    "            \n",
    "            y_true_subs[mask_invalid] = 1\n",
    "            pred_sig_subs[mask_invalid] = 0\n",
    "            \n",
    "            # calculate roc curve and plot\n",
    "            fpr, tpr, threshold = metrics.roc_curve(y_true_subs, pred_sig_subs)\n",
    "            roc_auc = metrics.auc(fpr, tpr)\n",
    "\n",
    "            rocs[f'{label}_{sig_name}_vs_{bkg_name}'] = roc_auc\n",
    "            \n",
    "            ax.plot(tpr, fpr, label=f'{label} {sig_name} vs {bkg_name} (AUC = {roc_auc:.4f})');\n",
    "            ax.xaxis.set_minor_locator(ticker.FixedLocator(.1 + np.arange(5)*.2))\n",
    "\n",
    "        ax.set_xlabel(f'True Positive ({sig_name}) Rate')\n",
    "        ax.set_ylabel(f'False Positive ({bkg_name}) Rate')\n",
    "        \n",
    "        plot_opt = {} if i not in plot_options else plot_options[i]\n",
    "        plot_opt = plot_opts.merge(plot_opt)\n",
    "        \n",
    "        ax.set_xlim(plot_opt['xmin'], plot_opt['xmax'])\n",
    "        ax.set_ylim(plot_opt['ymin'], plot_opt['ymax'])\n",
    "        ax.set_yscale(plot_opt['yscale'])\n",
    "        \n",
    "        ax.set_title(f'{sig_name} vs {bkg_name}')\n",
    "        ax.grid()\n",
    "        ax.legend()\n",
    "        \n",
    "        figs.append(fig)\n",
    "\n",
    "    return figs, rocs"
   ]
  },
  {
   "cell_type": "code",
   "execution_count": 63,
   "metadata": {},
   "outputs": [
    {
     "name": "stdout",
     "output_type": "stream",
     "text": [
      "b (ID0, n=1967), c (ID1, n=2329)\n",
      "c (ID1, n=2329), b (ID0, n=1967)\n",
      "b (ID0, n=1967), uds (ID2, n=304)\n",
      "b (ID0, n=1967), uds (ID2, n=304)\n"
     ]
    },
    {
     "data": {
      "text/plain": [
       "[<Figure size 600x600 with 1 Axes>,\n",
       " <Figure size 600x600 with 1 Axes>,\n",
       " <Figure size 600x600 with 1 Axes>,\n",
       " <Figure size 600x600 with 1 Axes>]"
      ]
     },
     "execution_count": 63,
     "metadata": {},
     "output_type": "execute_result"
    },
    {
     "data": {
      "image/png": "[encoded data removed]",
      "text/plain": [
       "<Figure size 600x600 with 1 Axes>"
      ]
     },
     "metadata": {},
     "output_type": "display_data"
    },
    {
     "data": {
      "image/png": "[encoded data removed]",
      "text/plain": [
       "<Figure size 600x600 with 1 Axes>"
      ]
     },
     "metadata": {},
     "output_type": "display_data"
    },
    {
     "data": {
      "image/png": "[encoded data removed]",
      "text/plain": [
       "<Figure size 600x600 with 1 Axes>"
      ]
     },
     "metadata": {},
     "output_type": "display_data"
    },
    {
     "data": {
      "image/png": "[encoded data removed]",
      "text/plain": [
       "<Figure size 600x600 with 1 Axes>"
      ]
     },
     "metadata": {},
     "output_type": "display_data"
    }
   ],
   "source": [
    "plot_roc_two_cases(y_true, [tags1, tags2], ['ParT', 'LCFIPlus Old'],\n",
    "                   to_plot = [('b', 'c'), ('c', 'b'), ('b', 'uds'), ('b', 'uds')],\n",
    "                   plot_options={\n",
    "                       3: { 'yscale': 'log', 'ymin': 1.E-4 }\n",
    "                       })[0]"
   ]
  },
  {
   "cell_type": "code",
   "execution_count": null,
   "metadata": {},
   "outputs": [],
   "source": []
  },
  {
   "cell_type": "code",
   "execution_count": null,
   "metadata": {},
   "outputs": [],
   "source": []
  },
  {
   "cell_type": "code",
   "execution_count": null,
   "metadata": {},
   "outputs": [],
   "source": [
    "np.savez('/afs/desy.de/group/flc/pool/bliewert/MarlinWorkdirs/ZHH/other/FTag/4_testing_zzh/preds_marlin_zzh.npz',\n",
    "         y_true=y_true,\n",
    "         tagsPNet=tagsPNet,\n",
    "         tagsLCFI=tagsLCFI,\n",
    "         valid_jets_mask=valid_jets_mask)"
   ]
  },
  {
   "cell_type": "code",
   "execution_count": 11,
   "metadata": {},
   "outputs": [
    {
     "data": {
      "text/plain": [
       "(163488, 4)"
      ]
     },
     "execution_count": 11,
     "metadata": {},
     "output_type": "execute_result"
    }
   ],
   "source": [
    "tagsPNet.shape"
   ]
  },
  {
   "cell_type": "code",
   "execution_count": null,
   "metadata": {},
   "outputs": [
    {
     "data": {
      "text/plain": [
       "27"
      ]
     },
     "execution_count": 22,
     "metadata": {},
     "output_type": "execute_result"
    }
   ],
   "source": [
    "(tags_LCFI.sum(axis=1) == 0).sum()"
   ]
  },
  {
   "cell_type": "code",
   "execution_count": 12,
   "metadata": {},
   "outputs": [],
   "source": [
    "ff = ur.open(filesFinalStates[0])"
   ]
  },
  {
   "cell_type": "code",
   "execution_count": 30,
   "metadata": {},
   "outputs": [
    {
     "data": {
      "text/plain": [
       "array([ 1,  2,  3,  4,  5,  6, 11, 12, 13, 14, 15, 16, 21, 22, 23, 24, 25],\n",
       "      dtype=int32)"
      ]
     },
     "execution_count": 30,
     "metadata": {},
     "output_type": "execute_result"
    }
   ],
   "source": [
    "pdgs = np.array(ff['FinalStates']['final_state_counts.first'].array(entry_stop=1))[0]\n",
    "pdgs"
   ]
  },
  {
   "cell_type": "code",
   "execution_count": 37,
   "metadata": {},
   "outputs": [
    {
     "data": {
      "text/plain": [
       "array([1])"
      ]
     },
     "execution_count": 37,
     "metadata": {},
     "output_type": "execute_result"
    }
   ],
   "source": [
    "np.where(pdgs == 2)[0]"
   ]
  },
  {
   "cell_type": "code",
   "execution_count": null,
   "metadata": {},
   "outputs": [],
   "source": []
  },
  {
   "cell_type": "code",
   "execution_count": 16,
   "metadata": {},
   "outputs": [
    {
     "data": {
      "text/plain": [
       "['run',\n",
       " 'event',\n",
       " 'error_code',\n",
       " 'final_states',\n",
       " 'final_state_counts',\n",
       " 'final_state_counts/final_state_counts.first',\n",
       " 'final_state_counts/final_state_counts.second',\n",
       " 'process',\n",
       " 'event_category',\n",
       " 'event_category_zhh',\n",
       " 'n_fermion',\n",
       " 'n_higgs',\n",
       " 'n_b_from_higgs',\n",
       " 'n_c_from_higgs',\n",
       " 'passed']"
      ]
     },
     "execution_count": 16,
     "metadata": {},
     "output_type": "execute_result"
    }
   ],
   "source": [
    "ff['FinalStates'].keys()"
   ]
  },
  {
   "cell_type": "code",
   "execution_count": null,
   "metadata": {},
   "outputs": [],
   "source": []
  },
  {
   "cell_type": "code",
   "execution_count": 6,
   "metadata": {},
   "outputs": [
    {
     "data": {
      "text/plain": [
       "4200"
      ]
     },
     "execution_count": 6,
     "metadata": {},
     "output_type": "execute_result"
    }
   ],
   "source": [
    "length"
   ]
  },
  {
   "cell_type": "code",
   "execution_count": 9,
   "metadata": {},
   "outputs": [
    {
     "data": {
      "text/plain": [
       "array([[0, 0, 0, ..., 0, 0, 0],\n",
       "       [0, 0, 0, ..., 0, 2, 0],\n",
       "       [0, 2, 0, ..., 0, 0, 0],\n",
       "       ...,\n",
       "       [0, 0, 0, ..., 0, 2, 0],\n",
       "       [0, 0, 0, ..., 0, 0, 0],\n",
       "       [0, 0, 0, ..., 0, 0, 0]], dtype=int32)"
      ]
     },
     "execution_count": 9,
     "metadata": {},
     "output_type": "execute_result"
    }
   ],
   "source": [
    "fs_counts[fs_passed_mask]"
   ]
  },
  {
   "cell_type": "code",
   "execution_count": 10,
   "metadata": {},
   "outputs": [
    {
     "data": {
      "text/plain": [
       "array([5, 5, 4, ..., 4, 4, 4], dtype=int32)"
      ]
     },
     "execution_count": 10,
     "metadata": {},
     "output_type": "execute_result"
    }
   ],
   "source": [
    "truth_label = np.abs(np.array(af['Jets']['TrueJetInitialElementonPDG'].array()))\n",
    "truth_label"
   ]
  },
  {
   "cell_type": "code",
   "execution_count": 11,
   "metadata": {},
   "outputs": [
    {
     "data": {
      "text/plain": [
       "(array([ 1,  2,  3,  4,  5, 99], dtype=int32),\n",
       " array([  86,   94,  124, 2329, 1567,  400]))"
      ]
     },
     "execution_count": 11,
     "metadata": {},
     "output_type": "execute_result"
    }
   ],
   "source": [
    "np.unique(truth_label, return_counts=True)"
   ]
  },
  {
   "cell_type": "code",
   "execution_count": 29,
   "metadata": {},
   "outputs": [
    {
     "data": {
      "text/html": [
       "<pre>[[0.998, 0.00139, 0.000182, 0.000102],\n",
       " [0.884, 0.115, 0.000183, 0.00036],\n",
       " [0.381, 0.606, 0.00827, 0.00476],\n",
       " [0.156, 0.84, 0.0028, 0.00135]]\n",
       "--------------------------------------\n",
       "type: 4 * var * float32</pre>"
      ],
      "text/plain": [
       "<Array [[0.998, 0.00139, ..., 0.000102], ..., [...]] type='4 * var * float32'>"
      ]
     },
     "execution_count": 29,
     "metadata": {},
     "output_type": "execute_result"
    }
   ],
   "source": [
    "af['JetTaggingComparison']['tags1'].array()"
   ]
  },
  {
   "cell_type": "code",
   "execution_count": 30,
   "metadata": {},
   "outputs": [
    {
     "data": {
      "text/html": [
       "<pre>[[0.999, 0.000418, 0.000153],\n",
       " [0.605, 0.384, 0.0109],\n",
       " [0.0753, 0.753, 0.172],\n",
       " [0.277, 0.593, 0.129]]\n",
       "-----------------------------\n",
       "type: 4 * var * float32</pre>"
      ],
      "text/plain": [
       "<Array [[0.999, 0.000418, 0.000153], ..., [...]] type='4 * var * float32'>"
      ]
     },
     "execution_count": 30,
     "metadata": {},
     "output_type": "execute_result"
    }
   ],
   "source": [
    "af['JetTaggingComparison']['tags2'].array()"
   ]
  },
  {
   "cell_type": "code",
   "execution_count": null,
   "metadata": {},
   "outputs": [],
   "source": []
  },
  {
   "cell_type": "code",
   "execution_count": 6,
   "metadata": {},
   "outputs": [],
   "source": [
    "def get_tot_length(paths:list[str])->int:\n",
    "    result = 0\n",
    "    for path in paths:\n",
    "        with ur.open(path) as rf:\n",
    "            result += len(rf['JetTaggingComparison']['event'].array())\n",
    "    \n",
    "    return result\n",
    "\n",
    "def parse_file(path:str):    \n",
    "    with ur.open(path) as uf:\n",
    "        comparison = uf['JetTaggingComparison']\n",
    "        \n",
    "        event_nr = np.array(comparison['event'].array(), dtype=int)\n",
    "        \n",
    "        tot_length = len(event_nr)\n",
    "\n",
    "        # get the tags\n",
    "        tagsPNet_raw = np.array(comparison['tags1'].array()).squeeze()\n",
    "\n",
    "        tagsLCFI = np.array(comparison['tags2'].array()).squeeze()\n",
    "        tagsPNet = np.zeros(tagsLCFI.shape)\n",
    "        tagsPNet[:, [0,1,2]] = tagsPNet_raw[:, [0,1,2]]\n",
    "        tagsPNet[:, 2] += tagsPNet_raw[:, 3]\n",
    "\n",
    "        print('pre check', len(tagsPNet), tagsPNet.sum(), tagsLCFI.sum())\n",
    "        \n",
    "        tot_length = len(tagsPNet)\n",
    "        y_true = np.zeros(tot_length)\n",
    "    \n",
    "        return tot_length, y_true, tagsLCFI\n",
    "\n",
    "# TODO: # sort out invalid predictions\n",
    "# some rows in LCFIPlus are zero; TODO: Why?\n",
    "#        mask_invalid = tagsLCFI.sum(axis=1) == 0"
   ]
  },
  {
   "cell_type": "code",
   "execution_count": 7,
   "metadata": {},
   "outputs": [
    {
     "name": "stdout",
     "output_type": "stream",
     "text": [
      "pre check 4 3.999999834195478 4.0\n"
     ]
    }
   ],
   "source": [
    "for file in files:\n",
    "    tot_length, tagsPNet, tagsLCFI = parse_file(file)"
   ]
  },
  {
   "cell_type": "code",
   "execution_count": 8,
   "metadata": {},
   "outputs": [],
   "source": [
    "rf = ur.open(file)"
   ]
  },
  {
   "cell_type": "code",
   "execution_count": 14,
   "metadata": {},
   "outputs": [
    {
     "data": {
      "text/plain": [
       "['JetEnergy',\n",
       " 'JetPt',\n",
       " 'JetMomentum',\n",
       " 'JetTheta',\n",
       " 'JetPhi',\n",
       " 'JetRapidity',\n",
       " 'NCharged',\n",
       " 'NNeutral',\n",
       " 'NSecondaryVertices',\n",
       " 'NPseudoVertices',\n",
       " 'D0bprob',\n",
       " 'D0cprob',\n",
       " 'D0qprob',\n",
       " 'Z0bprob',\n",
       " 'Z0cprob',\n",
       " 'Z0qprob',\n",
       " 'TrkMass',\n",
       " 'JetIndex',\n",
       " 'Event',\n",
       " 'Run',\n",
       " 'TrueJetInitialElementonPDG',\n",
       " 'TrueJetFinalElementonPDG',\n",
       " 'TrueJetType']"
      ]
     },
     "execution_count": 14,
     "metadata": {},
     "output_type": "execute_result"
    }
   ],
   "source": [
    "rf['Jets'].keys()"
   ]
  },
  {
   "cell_type": "code",
   "execution_count": 15,
   "metadata": {},
   "outputs": [
    {
     "data": {
      "text/plain": [
       "array([301,   1,   1,   1], dtype=int32)"
      ]
     },
     "execution_count": 15,
     "metadata": {},
     "output_type": "execute_result"
    }
   ],
   "source": [
    "np.array(rf['Jets']['TrueJetType'].array())"
   ]
  },
  {
   "cell_type": "code",
   "execution_count": 17,
   "metadata": {},
   "outputs": [
    {
     "data": {
      "text/plain": [
       "array([ 1, -5,  4,  4], dtype=int32)"
      ]
     },
     "execution_count": 17,
     "metadata": {},
     "output_type": "execute_result"
    }
   ],
   "source": [
    "np.array(rf['Jets']['TrueJetFinalElementonPDG'].array())"
   ]
  },
  {
   "cell_type": "code",
   "execution_count": null,
   "metadata": {},
   "outputs": [],
   "source": []
  }
 ],
 "metadata": {
  "kernelspec": {
   "display_name": "zhhvenv",
   "language": "python",
   "name": "python3"
  },
  "language_info": {
   "codemirror_mode": {
    "name": "ipython",
    "version": 3
   },
   "file_extension": ".py",
   "mimetype": "text/x-python",
   "name": "python",
   "nbconvert_exporter": "python",
   "pygments_lexer": "ipython3",
   "version": "3.11.9"
  }
 },
 "nbformat": 4,
 "nbformat_minor": 2
}
