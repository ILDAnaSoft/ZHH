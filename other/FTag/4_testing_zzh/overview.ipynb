{
 "cells": [
  {
   "cell_type": "code",
   "execution_count": 1,
   "metadata": {},
   "outputs": [],
   "source": [
    "import numpy as np\n",
    "import os.path as osp\n",
    "from glob import glob"
   ]
  },
  {
   "cell_type": "code",
   "execution_count": 2,
   "metadata": {},
   "outputs": [
    {
     "data": {
      "text/plain": [
       "['/pnfs/desy.de/ilc/prod/ilc/mc-2020/ild/dst-merged/500-TDR_ws/hh/ILD_l5_o1_v02/v02-02-03/00015740/000/rv02-02-03.sv02-02-03.mILD_l5_o1_v02.E500-TDR_ws.I403011.Pe2e2qqh.eL.pR.n000.d_dstm_15740_0.slcio',\n",
       " '/pnfs/desy.de/ilc/prod/ilc/mc-2020/ild/dst-merged/500-TDR_ws/hh/ILD_l5_o1_v02/v02-02-03/00015740/000/rv02-02-03.sv02-02-03.mILD_l5_o1_v02.E500-TDR_ws.I403011.Pe2e2qqh.eL.pR.n000.d_dstm_15740_1.slcio',\n",
       " '/pnfs/desy.de/ilc/prod/ilc/mc-2020/ild/dst-merged/500-TDR_ws/hh/ILD_l5_o1_v02/v02-02-03/00015740/000/rv02-02-03.sv02-02-03.mILD_l5_o1_v02.E500-TDR_ws.I403011.Pe2e2qqh.eL.pR.n000.d_dstm_15740_2.slcio',\n",
       " '/pnfs/desy.de/ilc/prod/ilc/mc-2020/ild/dst-merged/500-TDR_ws/hh/ILD_l5_o1_v02/v02-02-03/00015740/000/rv02-02-03.sv02-02-03.mILD_l5_o1_v02.E500-TDR_ws.I403011.Pe2e2qqh.eL.pR.n000.d_dstm_15740_3.slcio',\n",
       " '/pnfs/desy.de/ilc/prod/ilc/mc-2020/ild/dst-merged/500-TDR_ws/hh/ILD_l5_o1_v02/v02-02-03/00015740/000/rv02-02-03.sv02-02-03.mILD_l5_o1_v02.E500-TDR_ws.I403011.Pe2e2qqh.eL.pR.n000.d_dstm_15740_4.slcio',\n",
       " '/pnfs/desy.de/ilc/prod/ilc/mc-2020/ild/dst-merged/500-TDR_ws/hh/ILD_l5_o1_v02/v02-02-03/00015740/000/rv02-02-03.sv02-02-03.mILD_l5_o1_v02.E500-TDR_ws.I403011.Pe2e2qqh.eL.pR.n000.d_dstm_15740_5.slcio',\n",
       " '/pnfs/desy.de/ilc/prod/ilc/mc-2020/ild/dst-merged/500-TDR_ws/hh/ILD_l5_o1_v02/v02-02-03/00015740/000/rv02-02-03.sv02-02-03.mILD_l5_o1_v02.E500-TDR_ws.I403011.Pe2e2qqh.eL.pR.n000.d_dstm_15740_6.slcio',\n",
       " '/pnfs/desy.de/ilc/prod/ilc/mc-2020/ild/dst-merged/500-TDR_ws/hh/ILD_l5_o1_v02/v02-02-03/00015740/000/rv02-02-03.sv02-02-03.mILD_l5_o1_v02.E500-TDR_ws.I403011.Pe2e2qqh.eL.pR.n000.d_dstm_15740_7.slcio',\n",
       " '/pnfs/desy.de/ilc/prod/ilc/mc-2020/ild/dst-merged/500-TDR_ws/hh/ILD_l5_o1_v02/v02-02-03/00015740/000/rv02-02-03.sv02-02-03.mILD_l5_o1_v02.E500-TDR_ws.I403011.Pe2e2qqh.eL.pR.n000.d_dstm_15740_8.slcio',\n",
       " '/pnfs/desy.de/ilc/prod/ilc/mc-2020/ild/dst-merged/500-TDR_ws/hh/ILD_l5_o1_v02/v02-02-03/00015740/000/rv02-02-03.sv02-02-03.mILD_l5_o1_v02.E500-TDR_ws.I403011.Pe2e2qqh.eL.pR.n001.d_dstm_15740_10.slcio',\n",
       " '/pnfs/desy.de/ilc/prod/ilc/mc-2020/ild/dst-merged/500-TDR_ws/hh/ILD_l5_o1_v02/v02-02-03/00015740/000/rv02-02-03.sv02-02-03.mILD_l5_o1_v02.E500-TDR_ws.I403011.Pe2e2qqh.eL.pR.n001.d_dstm_15740_11.slcio',\n",
       " '/pnfs/desy.de/ilc/prod/ilc/mc-2020/ild/dst-merged/500-TDR_ws/hh/ILD_l5_o1_v02/v02-02-03/00015740/000/rv02-02-03.sv02-02-03.mILD_l5_o1_v02.E500-TDR_ws.I403011.Pe2e2qqh.eL.pR.n001.d_dstm_15740_12.slcio',\n",
       " '/pnfs/desy.de/ilc/prod/ilc/mc-2020/ild/dst-merged/500-TDR_ws/hh/ILD_l5_o1_v02/v02-02-03/00015740/000/rv02-02-03.sv02-02-03.mILD_l5_o1_v02.E500-TDR_ws.I403011.Pe2e2qqh.eL.pR.n001.d_dstm_15740_13.slcio',\n",
       " '/pnfs/desy.de/ilc/prod/ilc/mc-2020/ild/dst-merged/500-TDR_ws/hh/ILD_l5_o1_v02/v02-02-03/00015740/000/rv02-02-03.sv02-02-03.mILD_l5_o1_v02.E500-TDR_ws.I403011.Pe2e2qqh.eL.pR.n001.d_dstm_15740_14.slcio',\n",
       " '/pnfs/desy.de/ilc/prod/ilc/mc-2020/ild/dst-merged/500-TDR_ws/hh/ILD_l5_o1_v02/v02-02-03/00015740/000/rv02-02-03.sv02-02-03.mILD_l5_o1_v02.E500-TDR_ws.I403011.Pe2e2qqh.eL.pR.n001.d_dstm_15740_15.slcio',\n",
       " '/pnfs/desy.de/ilc/prod/ilc/mc-2020/ild/dst-merged/500-TDR_ws/hh/ILD_l5_o1_v02/v02-02-03/00015740/000/rv02-02-03.sv02-02-03.mILD_l5_o1_v02.E500-TDR_ws.I403011.Pe2e2qqh.eL.pR.n001.d_dstm_15740_16.slcio',\n",
       " '/pnfs/desy.de/ilc/prod/ilc/mc-2020/ild/dst-merged/500-TDR_ws/hh/ILD_l5_o1_v02/v02-02-03/00015740/000/rv02-02-03.sv02-02-03.mILD_l5_o1_v02.E500-TDR_ws.I403011.Pe2e2qqh.eL.pR.n001.d_dstm_15740_17.slcio',\n",
       " '/pnfs/desy.de/ilc/prod/ilc/mc-2020/ild/dst-merged/500-TDR_ws/hh/ILD_l5_o1_v02/v02-02-03/00015740/000/rv02-02-03.sv02-02-03.mILD_l5_o1_v02.E500-TDR_ws.I403011.Pe2e2qqh.eL.pR.n001.d_dstm_15740_18.slcio',\n",
       " '/pnfs/desy.de/ilc/prod/ilc/mc-2020/ild/dst-merged/500-TDR_ws/hh/ILD_l5_o1_v02/v02-02-03/00015740/000/rv02-02-03.sv02-02-03.mILD_l5_o1_v02.E500-TDR_ws.I403011.Pe2e2qqh.eL.pR.n001.d_dstm_15740_9.slcio',\n",
       " '/pnfs/desy.de/ilc/prod/ilc/mc-2020/ild/dst-merged/500-TDR_ws/hh/ILD_l5_o1_v02/v02-02-03/00015740/000/rv02-02-03.sv02-02-03.mILD_l5_o1_v02.E500-TDR_ws.I403012.Pe2e2qqh.eR.pL.n000.d_dstm_15740_0.slcio',\n",
       " '/pnfs/desy.de/ilc/prod/ilc/mc-2020/ild/dst-merged/500-TDR_ws/hh/ILD_l5_o1_v02/v02-02-03/00015740/000/rv02-02-03.sv02-02-03.mILD_l5_o1_v02.E500-TDR_ws.I403012.Pe2e2qqh.eR.pL.n000.d_dstm_15740_1.slcio',\n",
       " '/pnfs/desy.de/ilc/prod/ilc/mc-2020/ild/dst-merged/500-TDR_ws/hh/ILD_l5_o1_v02/v02-02-03/00015740/000/rv02-02-03.sv02-02-03.mILD_l5_o1_v02.E500-TDR_ws.I403012.Pe2e2qqh.eR.pL.n000.d_dstm_15740_2.slcio',\n",
       " '/pnfs/desy.de/ilc/prod/ilc/mc-2020/ild/dst-merged/500-TDR_ws/hh/ILD_l5_o1_v02/v02-02-03/00015740/000/rv02-02-03.sv02-02-03.mILD_l5_o1_v02.E500-TDR_ws.I403012.Pe2e2qqh.eR.pL.n000.d_dstm_15740_3.slcio',\n",
       " '/pnfs/desy.de/ilc/prod/ilc/mc-2020/ild/dst-merged/500-TDR_ws/hh/ILD_l5_o1_v02/v02-02-03/00015740/000/rv02-02-03.sv02-02-03.mILD_l5_o1_v02.E500-TDR_ws.I403012.Pe2e2qqh.eR.pL.n000.d_dstm_15740_4.slcio',\n",
       " '/pnfs/desy.de/ilc/prod/ilc/mc-2020/ild/dst-merged/500-TDR_ws/hh/ILD_l5_o1_v02/v02-02-03/00015740/000/rv02-02-03.sv02-02-03.mILD_l5_o1_v02.E500-TDR_ws.I403012.Pe2e2qqh.eR.pL.n000.d_dstm_15740_5.slcio',\n",
       " '/pnfs/desy.de/ilc/prod/ilc/mc-2020/ild/dst-merged/500-TDR_ws/hh/ILD_l5_o1_v02/v02-02-03/00015740/000/rv02-02-03.sv02-02-03.mILD_l5_o1_v02.E500-TDR_ws.I403012.Pe2e2qqh.eR.pL.n000.d_dstm_15740_6.slcio',\n",
       " '/pnfs/desy.de/ilc/prod/ilc/mc-2020/ild/dst-merged/500-TDR_ws/hh/ILD_l5_o1_v02/v02-02-03/00015740/000/rv02-02-03.sv02-02-03.mILD_l5_o1_v02.E500-TDR_ws.I403012.Pe2e2qqh.eR.pL.n000.d_dstm_15740_7.slcio',\n",
       " '/pnfs/desy.de/ilc/prod/ilc/mc-2020/ild/dst-merged/500-TDR_ws/hh/ILD_l5_o1_v02/v02-02-03/00015740/000/rv02-02-03.sv02-02-03.mILD_l5_o1_v02.E500-TDR_ws.I403012.Pe2e2qqh.eR.pL.n000.d_dstm_15740_8.slcio',\n",
       " '/pnfs/desy.de/ilc/prod/ilc/mc-2020/ild/dst-merged/500-TDR_ws/hh/ILD_l5_o1_v02/v02-02-03/00015740/000/rv02-02-03.sv02-02-03.mILD_l5_o1_v02.E500-TDR_ws.I403012.Pe2e2qqh.eR.pL.n001.d_dstm_15740_10.slcio',\n",
       " '/pnfs/desy.de/ilc/prod/ilc/mc-2020/ild/dst-merged/500-TDR_ws/hh/ILD_l5_o1_v02/v02-02-03/00015740/000/rv02-02-03.sv02-02-03.mILD_l5_o1_v02.E500-TDR_ws.I403012.Pe2e2qqh.eR.pL.n001.d_dstm_15740_11.slcio',\n",
       " '/pnfs/desy.de/ilc/prod/ilc/mc-2020/ild/dst-merged/500-TDR_ws/hh/ILD_l5_o1_v02/v02-02-03/00015740/000/rv02-02-03.sv02-02-03.mILD_l5_o1_v02.E500-TDR_ws.I403012.Pe2e2qqh.eR.pL.n001.d_dstm_15740_12.slcio',\n",
       " '/pnfs/desy.de/ilc/prod/ilc/mc-2020/ild/dst-merged/500-TDR_ws/hh/ILD_l5_o1_v02/v02-02-03/00015740/000/rv02-02-03.sv02-02-03.mILD_l5_o1_v02.E500-TDR_ws.I403012.Pe2e2qqh.eR.pL.n001.d_dstm_15740_13.slcio',\n",
       " '/pnfs/desy.de/ilc/prod/ilc/mc-2020/ild/dst-merged/500-TDR_ws/hh/ILD_l5_o1_v02/v02-02-03/00015740/000/rv02-02-03.sv02-02-03.mILD_l5_o1_v02.E500-TDR_ws.I403012.Pe2e2qqh.eR.pL.n001.d_dstm_15740_14.slcio',\n",
       " '/pnfs/desy.de/ilc/prod/ilc/mc-2020/ild/dst-merged/500-TDR_ws/hh/ILD_l5_o1_v02/v02-02-03/00015740/000/rv02-02-03.sv02-02-03.mILD_l5_o1_v02.E500-TDR_ws.I403012.Pe2e2qqh.eR.pL.n001.d_dstm_15740_15.slcio',\n",
       " '/pnfs/desy.de/ilc/prod/ilc/mc-2020/ild/dst-merged/500-TDR_ws/hh/ILD_l5_o1_v02/v02-02-03/00015740/000/rv02-02-03.sv02-02-03.mILD_l5_o1_v02.E500-TDR_ws.I403012.Pe2e2qqh.eR.pL.n001.d_dstm_15740_16.slcio',\n",
       " '/pnfs/desy.de/ilc/prod/ilc/mc-2020/ild/dst-merged/500-TDR_ws/hh/ILD_l5_o1_v02/v02-02-03/00015740/000/rv02-02-03.sv02-02-03.mILD_l5_o1_v02.E500-TDR_ws.I403012.Pe2e2qqh.eR.pL.n001.d_dstm_15740_17.slcio',\n",
       " '/pnfs/desy.de/ilc/prod/ilc/mc-2020/ild/dst-merged/500-TDR_ws/hh/ILD_l5_o1_v02/v02-02-03/00015740/000/rv02-02-03.sv02-02-03.mILD_l5_o1_v02.E500-TDR_ws.I403012.Pe2e2qqh.eR.pL.n001.d_dstm_15740_18.slcio',\n",
       " '/pnfs/desy.de/ilc/prod/ilc/mc-2020/ild/dst-merged/500-TDR_ws/hh/ILD_l5_o1_v02/v02-02-03/00015740/000/rv02-02-03.sv02-02-03.mILD_l5_o1_v02.E500-TDR_ws.I403012.Pe2e2qqh.eR.pL.n001.d_dstm_15740_9.slcio']"
      ]
     },
     "execution_count": 2,
     "metadata": {},
     "output_type": "execute_result"
    }
   ],
   "source": [
    "files = glob('/pnfs/desy.de/ilc/prod/ilc/mc-2020/ild/dst-merged/500-TDR_ws/hh/ILD_l5_o1_v02/v02-02-03/00015740/000/*e2e2qqh*')\n",
    "files.sort()\n",
    "files"
   ]
  },
  {
   "cell_type": "code",
   "execution_count": 4,
   "metadata": {},
   "outputs": [
    {
     "name": "stdout",
     "output_type": "stream",
     "text": [
      "/pnfs/desy.de/ilc/prod/ilc/mc-2020/ild/dst-merged/500-TDR_ws/hh/ILD_l5_o1_v02/v02-02-03/00015740/000/rv02-02-03.sv02-02-03.mILD_l5_o1_v02.E500-TDR_ws.I403011.Pe2e2qqh.eL.pR.n000.d_dstm_15740_0.slcio,e2e2qqh.eL.pR.n000.d_dstm_15740_0,/afs/desy.de/group/flc/pool/bliewert/MarlinWorkdirs/ZHH/other/FTag/.env\n",
      "/pnfs/desy.de/ilc/prod/ilc/mc-2020/ild/dst-merged/500-TDR_ws/hh/ILD_l5_o1_v02/v02-02-03/00015740/000/rv02-02-03.sv02-02-03.mILD_l5_o1_v02.E500-TDR_ws.I403011.Pe2e2qqh.eL.pR.n000.d_dstm_15740_1.slcio,e2e2qqh.eL.pR.n000.d_dstm_15740_1,/afs/desy.de/group/flc/pool/bliewert/MarlinWorkdirs/ZHH/other/FTag/.env\n",
      "/pnfs/desy.de/ilc/prod/ilc/mc-2020/ild/dst-merged/500-TDR_ws/hh/ILD_l5_o1_v02/v02-02-03/00015740/000/rv02-02-03.sv02-02-03.mILD_l5_o1_v02.E500-TDR_ws.I403011.Pe2e2qqh.eL.pR.n000.d_dstm_15740_2.slcio,e2e2qqh.eL.pR.n000.d_dstm_15740_2,/afs/desy.de/group/flc/pool/bliewert/MarlinWorkdirs/ZHH/other/FTag/.env\n",
      "/pnfs/desy.de/ilc/prod/ilc/mc-2020/ild/dst-merged/500-TDR_ws/hh/ILD_l5_o1_v02/v02-02-03/00015740/000/rv02-02-03.sv02-02-03.mILD_l5_o1_v02.E500-TDR_ws.I403011.Pe2e2qqh.eL.pR.n000.d_dstm_15740_3.slcio,e2e2qqh.eL.pR.n000.d_dstm_15740_3,/afs/desy.de/group/flc/pool/bliewert/MarlinWorkdirs/ZHH/other/FTag/.env\n",
      "/pnfs/desy.de/ilc/prod/ilc/mc-2020/ild/dst-merged/500-TDR_ws/hh/ILD_l5_o1_v02/v02-02-03/00015740/000/rv02-02-03.sv02-02-03.mILD_l5_o1_v02.E500-TDR_ws.I403011.Pe2e2qqh.eL.pR.n000.d_dstm_15740_4.slcio,e2e2qqh.eL.pR.n000.d_dstm_15740_4,/afs/desy.de/group/flc/pool/bliewert/MarlinWorkdirs/ZHH/other/FTag/.env\n",
      "/pnfs/desy.de/ilc/prod/ilc/mc-2020/ild/dst-merged/500-TDR_ws/hh/ILD_l5_o1_v02/v02-02-03/00015740/000/rv02-02-03.sv02-02-03.mILD_l5_o1_v02.E500-TDR_ws.I403011.Pe2e2qqh.eL.pR.n000.d_dstm_15740_5.slcio,e2e2qqh.eL.pR.n000.d_dstm_15740_5,/afs/desy.de/group/flc/pool/bliewert/MarlinWorkdirs/ZHH/other/FTag/.env\n",
      "/pnfs/desy.de/ilc/prod/ilc/mc-2020/ild/dst-merged/500-TDR_ws/hh/ILD_l5_o1_v02/v02-02-03/00015740/000/rv02-02-03.sv02-02-03.mILD_l5_o1_v02.E500-TDR_ws.I403011.Pe2e2qqh.eL.pR.n000.d_dstm_15740_6.slcio,e2e2qqh.eL.pR.n000.d_dstm_15740_6,/afs/desy.de/group/flc/pool/bliewert/MarlinWorkdirs/ZHH/other/FTag/.env\n",
      "/pnfs/desy.de/ilc/prod/ilc/mc-2020/ild/dst-merged/500-TDR_ws/hh/ILD_l5_o1_v02/v02-02-03/00015740/000/rv02-02-03.sv02-02-03.mILD_l5_o1_v02.E500-TDR_ws.I403011.Pe2e2qqh.eL.pR.n000.d_dstm_15740_7.slcio,e2e2qqh.eL.pR.n000.d_dstm_15740_7,/afs/desy.de/group/flc/pool/bliewert/MarlinWorkdirs/ZHH/other/FTag/.env\n",
      "/pnfs/desy.de/ilc/prod/ilc/mc-2020/ild/dst-merged/500-TDR_ws/hh/ILD_l5_o1_v02/v02-02-03/00015740/000/rv02-02-03.sv02-02-03.mILD_l5_o1_v02.E500-TDR_ws.I403011.Pe2e2qqh.eL.pR.n000.d_dstm_15740_8.slcio,e2e2qqh.eL.pR.n000.d_dstm_15740_8,/afs/desy.de/group/flc/pool/bliewert/MarlinWorkdirs/ZHH/other/FTag/.env\n",
      "/pnfs/desy.de/ilc/prod/ilc/mc-2020/ild/dst-merged/500-TDR_ws/hh/ILD_l5_o1_v02/v02-02-03/00015740/000/rv02-02-03.sv02-02-03.mILD_l5_o1_v02.E500-TDR_ws.I403011.Pe2e2qqh.eL.pR.n001.d_dstm_15740_10.slcio,e2e2qqh.eL.pR.n001.d_dstm_15740_10,/afs/desy.de/group/flc/pool/bliewert/MarlinWorkdirs/ZHH/other/FTag/.env\n",
      "/pnfs/desy.de/ilc/prod/ilc/mc-2020/ild/dst-merged/500-TDR_ws/hh/ILD_l5_o1_v02/v02-02-03/00015740/000/rv02-02-03.sv02-02-03.mILD_l5_o1_v02.E500-TDR_ws.I403011.Pe2e2qqh.eL.pR.n001.d_dstm_15740_11.slcio,e2e2qqh.eL.pR.n001.d_dstm_15740_11,/afs/desy.de/group/flc/pool/bliewert/MarlinWorkdirs/ZHH/other/FTag/.env\n",
      "/pnfs/desy.de/ilc/prod/ilc/mc-2020/ild/dst-merged/500-TDR_ws/hh/ILD_l5_o1_v02/v02-02-03/00015740/000/rv02-02-03.sv02-02-03.mILD_l5_o1_v02.E500-TDR_ws.I403011.Pe2e2qqh.eL.pR.n001.d_dstm_15740_12.slcio,e2e2qqh.eL.pR.n001.d_dstm_15740_12,/afs/desy.de/group/flc/pool/bliewert/MarlinWorkdirs/ZHH/other/FTag/.env\n",
      "/pnfs/desy.de/ilc/prod/ilc/mc-2020/ild/dst-merged/500-TDR_ws/hh/ILD_l5_o1_v02/v02-02-03/00015740/000/rv02-02-03.sv02-02-03.mILD_l5_o1_v02.E500-TDR_ws.I403011.Pe2e2qqh.eL.pR.n001.d_dstm_15740_13.slcio,e2e2qqh.eL.pR.n001.d_dstm_15740_13,/afs/desy.de/group/flc/pool/bliewert/MarlinWorkdirs/ZHH/other/FTag/.env\n",
      "/pnfs/desy.de/ilc/prod/ilc/mc-2020/ild/dst-merged/500-TDR_ws/hh/ILD_l5_o1_v02/v02-02-03/00015740/000/rv02-02-03.sv02-02-03.mILD_l5_o1_v02.E500-TDR_ws.I403011.Pe2e2qqh.eL.pR.n001.d_dstm_15740_14.slcio,e2e2qqh.eL.pR.n001.d_dstm_15740_14,/afs/desy.de/group/flc/pool/bliewert/MarlinWorkdirs/ZHH/other/FTag/.env\n",
      "/pnfs/desy.de/ilc/prod/ilc/mc-2020/ild/dst-merged/500-TDR_ws/hh/ILD_l5_o1_v02/v02-02-03/00015740/000/rv02-02-03.sv02-02-03.mILD_l5_o1_v02.E500-TDR_ws.I403011.Pe2e2qqh.eL.pR.n001.d_dstm_15740_15.slcio,e2e2qqh.eL.pR.n001.d_dstm_15740_15,/afs/desy.de/group/flc/pool/bliewert/MarlinWorkdirs/ZHH/other/FTag/.env\n",
      "/pnfs/desy.de/ilc/prod/ilc/mc-2020/ild/dst-merged/500-TDR_ws/hh/ILD_l5_o1_v02/v02-02-03/00015740/000/rv02-02-03.sv02-02-03.mILD_l5_o1_v02.E500-TDR_ws.I403011.Pe2e2qqh.eL.pR.n001.d_dstm_15740_16.slcio,e2e2qqh.eL.pR.n001.d_dstm_15740_16,/afs/desy.de/group/flc/pool/bliewert/MarlinWorkdirs/ZHH/other/FTag/.env\n",
      "/pnfs/desy.de/ilc/prod/ilc/mc-2020/ild/dst-merged/500-TDR_ws/hh/ILD_l5_o1_v02/v02-02-03/00015740/000/rv02-02-03.sv02-02-03.mILD_l5_o1_v02.E500-TDR_ws.I403011.Pe2e2qqh.eL.pR.n001.d_dstm_15740_17.slcio,e2e2qqh.eL.pR.n001.d_dstm_15740_17,/afs/desy.de/group/flc/pool/bliewert/MarlinWorkdirs/ZHH/other/FTag/.env\n",
      "/pnfs/desy.de/ilc/prod/ilc/mc-2020/ild/dst-merged/500-TDR_ws/hh/ILD_l5_o1_v02/v02-02-03/00015740/000/rv02-02-03.sv02-02-03.mILD_l5_o1_v02.E500-TDR_ws.I403011.Pe2e2qqh.eL.pR.n001.d_dstm_15740_18.slcio,e2e2qqh.eL.pR.n001.d_dstm_15740_18,/afs/desy.de/group/flc/pool/bliewert/MarlinWorkdirs/ZHH/other/FTag/.env\n",
      "/pnfs/desy.de/ilc/prod/ilc/mc-2020/ild/dst-merged/500-TDR_ws/hh/ILD_l5_o1_v02/v02-02-03/00015740/000/rv02-02-03.sv02-02-03.mILD_l5_o1_v02.E500-TDR_ws.I403011.Pe2e2qqh.eL.pR.n001.d_dstm_15740_9.slcio,e2e2qqh.eL.pR.n001.d_dstm_15740_9,/afs/desy.de/group/flc/pool/bliewert/MarlinWorkdirs/ZHH/other/FTag/.env\n",
      "/pnfs/desy.de/ilc/prod/ilc/mc-2020/ild/dst-merged/500-TDR_ws/hh/ILD_l5_o1_v02/v02-02-03/00015740/000/rv02-02-03.sv02-02-03.mILD_l5_o1_v02.E500-TDR_ws.I403012.Pe2e2qqh.eR.pL.n000.d_dstm_15740_0.slcio,e2e2qqh.eR.pL.n000.d_dstm_15740_0,/afs/desy.de/group/flc/pool/bliewert/MarlinWorkdirs/ZHH/other/FTag/.env\n",
      "/pnfs/desy.de/ilc/prod/ilc/mc-2020/ild/dst-merged/500-TDR_ws/hh/ILD_l5_o1_v02/v02-02-03/00015740/000/rv02-02-03.sv02-02-03.mILD_l5_o1_v02.E500-TDR_ws.I403012.Pe2e2qqh.eR.pL.n000.d_dstm_15740_1.slcio,e2e2qqh.eR.pL.n000.d_dstm_15740_1,/afs/desy.de/group/flc/pool/bliewert/MarlinWorkdirs/ZHH/other/FTag/.env\n",
      "/pnfs/desy.de/ilc/prod/ilc/mc-2020/ild/dst-merged/500-TDR_ws/hh/ILD_l5_o1_v02/v02-02-03/00015740/000/rv02-02-03.sv02-02-03.mILD_l5_o1_v02.E500-TDR_ws.I403012.Pe2e2qqh.eR.pL.n000.d_dstm_15740_2.slcio,e2e2qqh.eR.pL.n000.d_dstm_15740_2,/afs/desy.de/group/flc/pool/bliewert/MarlinWorkdirs/ZHH/other/FTag/.env\n",
      "/pnfs/desy.de/ilc/prod/ilc/mc-2020/ild/dst-merged/500-TDR_ws/hh/ILD_l5_o1_v02/v02-02-03/00015740/000/rv02-02-03.sv02-02-03.mILD_l5_o1_v02.E500-TDR_ws.I403012.Pe2e2qqh.eR.pL.n000.d_dstm_15740_3.slcio,e2e2qqh.eR.pL.n000.d_dstm_15740_3,/afs/desy.de/group/flc/pool/bliewert/MarlinWorkdirs/ZHH/other/FTag/.env\n",
      "/pnfs/desy.de/ilc/prod/ilc/mc-2020/ild/dst-merged/500-TDR_ws/hh/ILD_l5_o1_v02/v02-02-03/00015740/000/rv02-02-03.sv02-02-03.mILD_l5_o1_v02.E500-TDR_ws.I403012.Pe2e2qqh.eR.pL.n000.d_dstm_15740_4.slcio,e2e2qqh.eR.pL.n000.d_dstm_15740_4,/afs/desy.de/group/flc/pool/bliewert/MarlinWorkdirs/ZHH/other/FTag/.env\n",
      "/pnfs/desy.de/ilc/prod/ilc/mc-2020/ild/dst-merged/500-TDR_ws/hh/ILD_l5_o1_v02/v02-02-03/00015740/000/rv02-02-03.sv02-02-03.mILD_l5_o1_v02.E500-TDR_ws.I403012.Pe2e2qqh.eR.pL.n000.d_dstm_15740_5.slcio,e2e2qqh.eR.pL.n000.d_dstm_15740_5,/afs/desy.de/group/flc/pool/bliewert/MarlinWorkdirs/ZHH/other/FTag/.env\n",
      "/pnfs/desy.de/ilc/prod/ilc/mc-2020/ild/dst-merged/500-TDR_ws/hh/ILD_l5_o1_v02/v02-02-03/00015740/000/rv02-02-03.sv02-02-03.mILD_l5_o1_v02.E500-TDR_ws.I403012.Pe2e2qqh.eR.pL.n000.d_dstm_15740_6.slcio,e2e2qqh.eR.pL.n000.d_dstm_15740_6,/afs/desy.de/group/flc/pool/bliewert/MarlinWorkdirs/ZHH/other/FTag/.env\n",
      "/pnfs/desy.de/ilc/prod/ilc/mc-2020/ild/dst-merged/500-TDR_ws/hh/ILD_l5_o1_v02/v02-02-03/00015740/000/rv02-02-03.sv02-02-03.mILD_l5_o1_v02.E500-TDR_ws.I403012.Pe2e2qqh.eR.pL.n000.d_dstm_15740_7.slcio,e2e2qqh.eR.pL.n000.d_dstm_15740_7,/afs/desy.de/group/flc/pool/bliewert/MarlinWorkdirs/ZHH/other/FTag/.env\n",
      "/pnfs/desy.de/ilc/prod/ilc/mc-2020/ild/dst-merged/500-TDR_ws/hh/ILD_l5_o1_v02/v02-02-03/00015740/000/rv02-02-03.sv02-02-03.mILD_l5_o1_v02.E500-TDR_ws.I403012.Pe2e2qqh.eR.pL.n000.d_dstm_15740_8.slcio,e2e2qqh.eR.pL.n000.d_dstm_15740_8,/afs/desy.de/group/flc/pool/bliewert/MarlinWorkdirs/ZHH/other/FTag/.env\n",
      "/pnfs/desy.de/ilc/prod/ilc/mc-2020/ild/dst-merged/500-TDR_ws/hh/ILD_l5_o1_v02/v02-02-03/00015740/000/rv02-02-03.sv02-02-03.mILD_l5_o1_v02.E500-TDR_ws.I403012.Pe2e2qqh.eR.pL.n001.d_dstm_15740_10.slcio,e2e2qqh.eR.pL.n001.d_dstm_15740_10,/afs/desy.de/group/flc/pool/bliewert/MarlinWorkdirs/ZHH/other/FTag/.env\n",
      "/pnfs/desy.de/ilc/prod/ilc/mc-2020/ild/dst-merged/500-TDR_ws/hh/ILD_l5_o1_v02/v02-02-03/00015740/000/rv02-02-03.sv02-02-03.mILD_l5_o1_v02.E500-TDR_ws.I403012.Pe2e2qqh.eR.pL.n001.d_dstm_15740_11.slcio,e2e2qqh.eR.pL.n001.d_dstm_15740_11,/afs/desy.de/group/flc/pool/bliewert/MarlinWorkdirs/ZHH/other/FTag/.env\n",
      "/pnfs/desy.de/ilc/prod/ilc/mc-2020/ild/dst-merged/500-TDR_ws/hh/ILD_l5_o1_v02/v02-02-03/00015740/000/rv02-02-03.sv02-02-03.mILD_l5_o1_v02.E500-TDR_ws.I403012.Pe2e2qqh.eR.pL.n001.d_dstm_15740_12.slcio,e2e2qqh.eR.pL.n001.d_dstm_15740_12,/afs/desy.de/group/flc/pool/bliewert/MarlinWorkdirs/ZHH/other/FTag/.env\n",
      "/pnfs/desy.de/ilc/prod/ilc/mc-2020/ild/dst-merged/500-TDR_ws/hh/ILD_l5_o1_v02/v02-02-03/00015740/000/rv02-02-03.sv02-02-03.mILD_l5_o1_v02.E500-TDR_ws.I403012.Pe2e2qqh.eR.pL.n001.d_dstm_15740_13.slcio,e2e2qqh.eR.pL.n001.d_dstm_15740_13,/afs/desy.de/group/flc/pool/bliewert/MarlinWorkdirs/ZHH/other/FTag/.env\n",
      "/pnfs/desy.de/ilc/prod/ilc/mc-2020/ild/dst-merged/500-TDR_ws/hh/ILD_l5_o1_v02/v02-02-03/00015740/000/rv02-02-03.sv02-02-03.mILD_l5_o1_v02.E500-TDR_ws.I403012.Pe2e2qqh.eR.pL.n001.d_dstm_15740_14.slcio,e2e2qqh.eR.pL.n001.d_dstm_15740_14,/afs/desy.de/group/flc/pool/bliewert/MarlinWorkdirs/ZHH/other/FTag/.env\n",
      "/pnfs/desy.de/ilc/prod/ilc/mc-2020/ild/dst-merged/500-TDR_ws/hh/ILD_l5_o1_v02/v02-02-03/00015740/000/rv02-02-03.sv02-02-03.mILD_l5_o1_v02.E500-TDR_ws.I403012.Pe2e2qqh.eR.pL.n001.d_dstm_15740_15.slcio,e2e2qqh.eR.pL.n001.d_dstm_15740_15,/afs/desy.de/group/flc/pool/bliewert/MarlinWorkdirs/ZHH/other/FTag/.env\n",
      "/pnfs/desy.de/ilc/prod/ilc/mc-2020/ild/dst-merged/500-TDR_ws/hh/ILD_l5_o1_v02/v02-02-03/00015740/000/rv02-02-03.sv02-02-03.mILD_l5_o1_v02.E500-TDR_ws.I403012.Pe2e2qqh.eR.pL.n001.d_dstm_15740_16.slcio,e2e2qqh.eR.pL.n001.d_dstm_15740_16,/afs/desy.de/group/flc/pool/bliewert/MarlinWorkdirs/ZHH/other/FTag/.env\n",
      "/pnfs/desy.de/ilc/prod/ilc/mc-2020/ild/dst-merged/500-TDR_ws/hh/ILD_l5_o1_v02/v02-02-03/00015740/000/rv02-02-03.sv02-02-03.mILD_l5_o1_v02.E500-TDR_ws.I403012.Pe2e2qqh.eR.pL.n001.d_dstm_15740_17.slcio,e2e2qqh.eR.pL.n001.d_dstm_15740_17,/afs/desy.de/group/flc/pool/bliewert/MarlinWorkdirs/ZHH/other/FTag/.env\n",
      "/pnfs/desy.de/ilc/prod/ilc/mc-2020/ild/dst-merged/500-TDR_ws/hh/ILD_l5_o1_v02/v02-02-03/00015740/000/rv02-02-03.sv02-02-03.mILD_l5_o1_v02.E500-TDR_ws.I403012.Pe2e2qqh.eR.pL.n001.d_dstm_15740_18.slcio,e2e2qqh.eR.pL.n001.d_dstm_15740_18,/afs/desy.de/group/flc/pool/bliewert/MarlinWorkdirs/ZHH/other/FTag/.env\n",
      "/pnfs/desy.de/ilc/prod/ilc/mc-2020/ild/dst-merged/500-TDR_ws/hh/ILD_l5_o1_v02/v02-02-03/00015740/000/rv02-02-03.sv02-02-03.mILD_l5_o1_v02.E500-TDR_ws.I403012.Pe2e2qqh.eR.pL.n001.d_dstm_15740_9.slcio,e2e2qqh.eR.pL.n001.d_dstm_15740_9,/afs/desy.de/group/flc/pool/bliewert/MarlinWorkdirs/ZHH/other/FTag/.env\n",
      "\n"
     ]
    }
   ],
   "source": [
    "parameters = \"\"\n",
    "env_loc = \"/afs/desy.de/group/flc/pool/bliewert/MarlinWorkdirs/ZHH/other/FTag/.env\"\n",
    "\n",
    "for file in files:\n",
    "    suffix = osp.splitext(osp.basename(file))[0].split('.P')[1]\n",
    "    parameters += f'{file},{suffix},{env_loc}\\n'\n",
    "        \n",
    "with open('paramlist.txt', 'w') as file:\n",
    "    file.write(parameters)\n",
    "\n",
    "print(parameters)"
   ]
  },
  {
   "cell_type": "code",
   "execution_count": null,
   "metadata": {},
   "outputs": [],
   "source": []
  }
 ],
 "metadata": {
  "kernelspec": {
   "display_name": "zhhvenv",
   "language": "python",
   "name": "python3"
  },
  "language_info": {
   "codemirror_mode": {
    "name": "ipython",
    "version": 3
   },
   "file_extension": ".py",
   "mimetype": "text/x-python",
   "name": "python",
   "nbconvert_exporter": "python",
   "pygments_lexer": "ipython3",
   "version": "3.11.9"
  }
 },
 "nbformat": 4,
 "nbformat_minor": 2
}
