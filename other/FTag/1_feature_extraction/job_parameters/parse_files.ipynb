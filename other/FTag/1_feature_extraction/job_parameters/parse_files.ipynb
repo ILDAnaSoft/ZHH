{
 "cells": [
  {
   "cell_type": "code",
   "execution_count": 2,
   "metadata": {},
   "outputs": [],
   "source": [
    "from glob import glob\n",
    "import sys, os\n",
    "import os.path as osp\n",
    "\n",
    "job_parameters = os.path.abspath(\"\")"
   ]
  },
  {
   "cell_type": "code",
   "execution_count": 3,
   "metadata": {},
   "outputs": [],
   "source": [
    "flavors = ['b', 's', 'c', 'u', 'd']\n",
    "dotenvfile = osp.join(osp.dirname(osp.dirname(job_parameters)), '.env')\n",
    "\n",
    "def parse_lines(files, fl_str):\n",
    "    out = ''\n",
    "    \n",
    "    for i, f in enumerate(files):\n",
    "        out += f'{f},{fl_str}_{i},{dotenvfile}\\n'\n",
    "        \n",
    "    return out\n",
    "\n",
    "for flavor in flavors:\n",
    "    fl_str = (flavor * 6)\n",
    "    files = glob(f'/pnfs/desy.de/ilc/prod/ilc/mc-opt-3/ild/dst-merged/500-TDR_ws/flavortag/ILD_l5_o1_v02/v02-00-01/*.P{fl_str}.*')\n",
    "    files.sort()\n",
    "    \n",
    "    with open(f'{job_parameters}/paramlist_{flavor}.txt', 'w') as tfile:\n",
    "        tfile.write(parse_lines(files, fl_str))\n",
    "        \n",
    "    with open(f'{job_parameters}/paramlist_{flavor}_test.txt', 'w') as tfile:\n",
    "        tfile.write(parse_lines([files[0]], fl_str))\n",
    "        \n",
    "with open(f'{job_parameters}/paramlist_ud.txt', 'w') as tfile:\n",
    "    with open(f'{job_parameters}/paramlist_u.txt', 'r') as readfile:\n",
    "        tfile.write(readfile.read())\n",
    "    \n",
    "    with open(f'{job_parameters}/paramlist_d.txt', 'r') as readfile:\n",
    "        tfile.write(readfile.read())\n",
    "\n",
    "with open(f'{job_parameters}/paramlist_ud_test.txt', 'w') as tfile:\n",
    "    with open(f'{job_parameters}/paramlist_u_test.txt', 'r') as readfile:\n",
    "        tfile.write(readfile.read())\n",
    "    \n",
    "    with open(f'{job_parameters}/paramlist_d_test.txt', 'r') as readfile:\n",
    "        tfile.write(readfile.read())\n",
    "\n",
    "for (suffix_target, suffix_source) in (\n",
    "    ('all', ''),\n",
    "    ('test', '_test')\n",
    "):\n",
    "    with open(f'{job_parameters}/paramlist_{suffix_target}.txt', 'w') as tfile:\n",
    "        for type in ['b', 'c', 's', 'ud']:\n",
    "            with open(f'{job_parameters}/paramlist_{type}{suffix_source}.txt', 'r') as readfile:\n",
    "                tfile.write(readfile.read())\n",
    "\n",
    "os.remove(f'{job_parameters}/paramlist_u.txt')\n",
    "os.remove(f'{job_parameters}/paramlist_d.txt')\n",
    "os.remove(f'{job_parameters}/paramlist_u_test.txt')\n",
    "os.remove(f'{job_parameters}/paramlist_d_test.txt')"
   ]
  },
  {
   "cell_type": "code",
   "execution_count": null,
   "metadata": {},
   "outputs": [],
   "source": []
  }
 ],
 "metadata": {
  "kernelspec": {
   "display_name": "zhhvenv",
   "language": "python",
   "name": "python3"
  },
  "language_info": {
   "codemirror_mode": {
    "name": "ipython",
    "version": 3
   },
   "file_extension": ".py",
   "mimetype": "text/x-python",
   "name": "python",
   "nbconvert_exporter": "python",
   "pygments_lexer": "ipython3",
   "version": "3.10.13"
  }
 },
 "nbformat": 4,
 "nbformat_minor": 2
}
