{
 "cells": [
  {
   "cell_type": "code",
   "execution_count": null,
   "metadata": {},
   "outputs": [
    {
     "name": "stderr",
     "output_type": "stream",
     "text": [
      "/cvmfs/sw.hsf.org/key4hep/releases/2024-10-03/x86_64-almalinux9-gcc14.2.0-opt/py-tqdm/4.66.3-gay4aw/lib/python3.11/site-packages/tqdm/auto.py:21: TqdmWarning: IProgress not found. Please update jupyter and ipywidgets. See https://ipywidgets.readthedocs.io/en/stable/user_install.html\n",
      "  from .autonotebook import tqdm as notebook_tqdm\n"
     ]
    }
   ],
   "source": [
    "import uproot as ur\n",
    "import h5py, sys, os, yaml\n",
    "\n",
    "import torch, os, yaml, argparse, h5py\n",
    "from tqdm.auto import tqdm\n",
    "import pandas as pd\n",
    "import numpy as np\n",
    "from glob import glob\n",
    "import uproot as ur\n",
    "from typing import Callable, cast\n",
    "\n",
    "import FlavorTag.utils.helperfunctions_ntags as helperfunctions\n",
    "import FlavorTag.utils.helperfunctions_ParticleNet as helperfunctions_ParticleNet\n",
    "from FlavorTag.training_data.ParticleNet.create_dataframes_ParticleNet import create_dataframes\n",
    "from FlavorTag.utils.helperfunctions_ntags import calc_df_specification, get_rename_dicts, \\\n",
    "    extract_feature_columns, ttree_to_array, sanitize_array, init_df"
   ]
  },
  {
   "cell_type": "code",
   "execution_count": 2,
   "metadata": {},
   "outputs": [],
   "source": [
    "config = '/afs/desy.de/group/flc/pool/bliewert/MarlinWorkdirs/ZHH/dependencies/FlavourTaggingML/FlavorTag/configs/ParticleNet_4tags_v2.yaml'\n",
    "with open(config) as fs:\n",
    "    parameters = yaml.safe_load(fs)"
   ]
  },
  {
   "cell_type": "code",
   "execution_count": 3,
   "metadata": {},
   "outputs": [],
   "source": [
    "mask_b = '/nfs/dust/ilc/user/bliewert/FT_ParticleNet4Tags/FeatureExtraction/output/*_bbbbbb_*.root'\n",
    "files_b = glob(mask_b)\n",
    "files_b.sort()"
   ]
  },
  {
   "cell_type": "code",
   "execution_count": 4,
   "metadata": {},
   "outputs": [],
   "source": [
    "if False:\n",
    "    files_b[0] = '/afs/desy.de/group/flc/pool/bliewert/MarlinWorkdirs/ZHH/scripts/AIDAFile_.root.root'\n",
    "    rb = ur.open(files_b[0])"
   ]
  },
  {
   "cell_type": "code",
   "execution_count": 7,
   "metadata": {},
   "outputs": [
    {
     "data": {
      "text/plain": [
       "['Charge',\n",
       " 'Momentum',\n",
       " 'MomentumX',\n",
       " 'MomentumY',\n",
       " 'MomentumZ',\n",
       " 'TransverseMomentum',\n",
       " 'TransverseMomentumLOG',\n",
       " 'TransverseMomentumFrac',\n",
       " 'TransverseMomentumFracLOG',\n",
       " 'Energy',\n",
       " 'EnergyLOG',\n",
       " 'TrackMomentumFrac',\n",
       " 'EnergyFrac',\n",
       " 'EnergyFracLOG',\n",
       " 'TrackThetaRelJet',\n",
       " 'TrackPtRelJet',\n",
       " 'TrackJetDotProduct',\n",
       " 'TrackJetDotProductNorm',\n",
       " 'DeltaRJet',\n",
       " 'DeltaRJetRapidity',\n",
       " 'DeltaRTrackSecVertex',\n",
       " 'PhiRelJet',\n",
       " 'RapidityRelJet',\n",
       " 'Rapidity',\n",
       " 'IsElectron',\n",
       " 'IsMuon',\n",
       " 'IsPhoton',\n",
       " 'IsChargedHadron',\n",
       " 'IsNeutralHadron',\n",
       " 'D0Sig',\n",
       " 'D0',\n",
       " 'Z0',\n",
       " 'Z0Sig',\n",
       " '3DImpactPar',\n",
       " '3DImpactParSig',\n",
       " 'Chi2NDF',\n",
       " 'NDF',\n",
       " 'TrackUsedinPrimVertex',\n",
       " 'LeptonMomRelJet',\n",
       " 'LeptonPtRelJet',\n",
       " 'LeptonMomFraction',\n",
       " 'CPID11ness',\n",
       " 'CPID13ness',\n",
       " 'CPID211ness',\n",
       " 'CPID321ness',\n",
       " 'CPID2212ness',\n",
       " 'D0bprob',\n",
       " 'D0cprob',\n",
       " 'D0qprob',\n",
       " 'Z0bprob',\n",
       " 'Z0cprob',\n",
       " 'Z0qprob',\n",
       " 'JetIndex',\n",
       " 'Kaoness',\n",
       " 'WeightedKaonnessMomFrac',\n",
       " 'isOverlay']"
      ]
     },
     "execution_count": 7,
     "metadata": {},
     "output_type": "execute_result"
    }
   ],
   "source": [
    "rb['ChargedJetConstituents'].keys()"
   ]
  },
  {
   "cell_type": "code",
   "execution_count": 8,
   "metadata": {},
   "outputs": [
    {
     "data": {
      "text/plain": [
       "54"
      ]
     },
     "execution_count": 8,
     "metadata": {},
     "output_type": "execute_result"
    }
   ],
   "source": [
    "rb['Jets'].num_entries"
   ]
  },
  {
   "cell_type": "code",
   "execution_count": 9,
   "metadata": {},
   "outputs": [
    {
     "data": {
      "text/plain": [
       "['JetEnergy',\n",
       " 'JetPt',\n",
       " 'JetMomentum',\n",
       " 'JetTheta',\n",
       " 'JetPhi',\n",
       " 'JetRapidity',\n",
       " 'JetIndex']"
      ]
     },
     "execution_count": 9,
     "metadata": {},
     "output_type": "execute_result"
    }
   ],
   "source": [
    "rb['Jets'].keys(filter_name='*Jet*')"
   ]
  },
  {
   "cell_type": "code",
   "execution_count": null,
   "metadata": {},
   "outputs": [],
   "source": []
  },
  {
   "cell_type": "code",
   "execution_count": 10,
   "metadata": {},
   "outputs": [
    {
     "data": {
      "text/plain": [
       "array([1, 4, 3, 4])"
      ]
     },
     "execution_count": 10,
     "metadata": {},
     "output_type": "execute_result"
    }
   ],
   "source": [
    "np.array([1,2,3,4,5,6])[[0,3,2,3]]"
   ]
  },
  {
   "cell_type": "code",
   "execution_count": null,
   "metadata": {},
   "outputs": [],
   "source": []
  },
  {
   "cell_type": "code",
   "execution_count": null,
   "metadata": {},
   "outputs": [],
   "source": []
  },
  {
   "cell_type": "code",
   "execution_count": 155,
   "metadata": {},
   "outputs": [
    {
     "name": "stdout",
     "output_type": "stream",
     "text": [
      "Feature <HCalFrac> not found for charged PFOs for group <HCalFrac> in inputs. Setting to None\n",
      "Feature <D0bprob> not found for neutral PFOs for group <D0bprob> in inputs. Setting to None\n",
      "Feature <D0cprob> not found for neutral PFOs for group <D0cprob> in inputs. Setting to None\n",
      "Feature <D0qprob> not found for neutral PFOs for group <D0qprob> in inputs. Setting to None\n",
      "Feature <Z0bprob> not found for neutral PFOs for group <Z0bprob> in inputs. Setting to None\n",
      "Feature <Z0cprob> not found for neutral PFOs for group <Z0cprob> in inputs. Setting to None\n",
      "Feature <Z0qprob> not found for neutral PFOs for group <Z0qprob> in inputs. Setting to None\n",
      "Feature <TrackUsedinPrimVertex> not found for neutral PFOs for group <TrackUsedinPrimVertex> in inputs. Setting to None\n",
      "Feature <LeptonMomRelJet> not found for neutral PFOs for group <LeptonMomRelJet> in inputs. Setting to None\n",
      "Feature <Kaoness> not found for neutral PFOs for group <Kaoness> in inputs. Setting to None\n",
      "Feature <Chi2NDF> not found for neutral PFOs for group <Chi2NDF> in inputs. Setting to None\n",
      "Feature <LeptonMomFraction> not found for neutral PFOs for group <LeptonMomFraction> in inputs. Setting to None\n",
      "Feature <WeightedKaonnessMomFrac> not found for neutral PFOs for group <WeightedKaonnessMomFrac> in inputs. Setting to None\n",
      "Feature <TrackJetDotProductNorm> not found for neutral PFOs for group <TrackJetDotProductNorm> in inputs. Setting to None\n"
     ]
    }
   ],
   "source": [
    "pf_charged_columns, pf_neutral_columns, sv_columns, mappings_by_group = extract_input_columns(\n",
    "    parameters['inputs'],\n",
    "    rb['ChargedJetConstituents'].keys(),\n",
    "    rb['NeutralJetConstituents'].keys(),\n",
    "    rb['SecondaryVertices'].keys(),\n",
    "    verbose_fn=print\n",
    ")"
   ]
  },
  {
   "cell_type": "code",
   "execution_count": 156,
   "metadata": {},
   "outputs": [
    {
     "data": {
      "text/plain": [
       "{'pf_points': {'source': [1, 2], 'target': [0, 1], 'target_none': []},\n",
       " 'pf_features': {'source': [1,\n",
       "   3,\n",
       "   2,\n",
       "   4,\n",
       "   5,\n",
       "   6,\n",
       "   7,\n",
       "   8,\n",
       "   9,\n",
       "   10,\n",
       "   11,\n",
       "   12,\n",
       "   13,\n",
       "   14,\n",
       "   15,\n",
       "   16,\n",
       "   17,\n",
       "   18,\n",
       "   19,\n",
       "   20,\n",
       "   21,\n",
       "   22,\n",
       "   23,\n",
       "   24,\n",
       "   25,\n",
       "   26,\n",
       "   27,\n",
       "   28,\n",
       "   29,\n",
       "   30,\n",
       "   31,\n",
       "   32,\n",
       "   33,\n",
       "   34],\n",
       "  'target': [0,\n",
       "   1,\n",
       "   2,\n",
       "   3,\n",
       "   4,\n",
       "   5,\n",
       "   6,\n",
       "   7,\n",
       "   8,\n",
       "   9,\n",
       "   10,\n",
       "   11,\n",
       "   12,\n",
       "   13,\n",
       "   14,\n",
       "   15,\n",
       "   16,\n",
       "   17,\n",
       "   18,\n",
       "   19,\n",
       "   20,\n",
       "   21,\n",
       "   22,\n",
       "   23,\n",
       "   24,\n",
       "   25,\n",
       "   26,\n",
       "   27,\n",
       "   28,\n",
       "   29,\n",
       "   30,\n",
       "   31,\n",
       "   32],\n",
       "  'target_none': [33]},\n",
       " 'sv_points': {'source': [1, 2], 'target': [0, 1], 'target_none': []},\n",
       " 'sv_features': {'source': [1, 3, 2, 4, 5, 6, 7, 8, 9, 10, 11, 12, 13, 14],\n",
       "  'target': [0, 1, 2, 3, 4, 5, 6, 7, 8, 9, 10, 11, 12, 13],\n",
       "  'target_none': []}}"
      ]
     },
     "execution_count": 156,
     "metadata": {},
     "output_type": "execute_result"
    }
   ],
   "source": [
    "mappings_by_group"
   ]
  },
  {
   "cell_type": "code",
   "execution_count": 157,
   "metadata": {},
   "outputs": [
    {
     "data": {
      "text/plain": [
       "{'JetIndex': 0,\n",
       " 'RapidityRelJet': 1,\n",
       " 'PhiRelJet': 2,\n",
       " 'Rapidity': 3,\n",
       " 'TransverseMomentumLOG': 4,\n",
       " 'EnergyLOG': 5,\n",
       " 'TransverseMomentumFracLOG': 6,\n",
       " 'EnergyFracLOG': 7,\n",
       " 'DeltaRJet': 8,\n",
       " 'D0': 9,\n",
       " 'D0Sig': 10,\n",
       " 'Z0': 11,\n",
       " 'Z0Sig': 12,\n",
       " '3DImpactPar': 13,\n",
       " '3DImpactParSig': 14,\n",
       " 'Charge': 15,\n",
       " 'IsElectron': 16,\n",
       " 'IsMuon': 17,\n",
       " 'IsChargedHadron': 18,\n",
       " 'IsNeutralHadron': 19,\n",
       " 'IsPhoton': 20,\n",
       " 'D0bprob': 21,\n",
       " 'D0cprob': 22,\n",
       " 'D0qprob': 23,\n",
       " 'Z0bprob': 24,\n",
       " 'Z0cprob': 25,\n",
       " 'Z0qprob': 26,\n",
       " 'TrackUsedinPrimVertex': 27,\n",
       " 'LeptonMomRelJet': 28,\n",
       " 'Kaoness': 29,\n",
       " 'Chi2NDF': 30,\n",
       " 'LeptonMomFraction': 31,\n",
       " 'WeightedKaonnessMomFrac': 32,\n",
       " 'TrackJetDotProductNorm': 33,\n",
       " 'HCalFrac': None}"
      ]
     },
     "execution_count": 157,
     "metadata": {},
     "output_type": "execute_result"
    }
   ],
   "source": [
    "pf_charged_columns"
   ]
  },
  {
   "cell_type": "code",
   "execution_count": 158,
   "metadata": {},
   "outputs": [
    {
     "data": {
      "text/plain": [
       "{'pf_points': {'source': [1, 2], 'target': [0, 1], 'target_none': []},\n",
       " 'pf_features': {'source': [1,\n",
       "   3,\n",
       "   2,\n",
       "   4,\n",
       "   5,\n",
       "   6,\n",
       "   7,\n",
       "   8,\n",
       "   9,\n",
       "   10,\n",
       "   11,\n",
       "   12,\n",
       "   13,\n",
       "   14,\n",
       "   15,\n",
       "   16,\n",
       "   17,\n",
       "   18,\n",
       "   19,\n",
       "   20,\n",
       "   21,\n",
       "   22,\n",
       "   23,\n",
       "   24,\n",
       "   25,\n",
       "   26,\n",
       "   27,\n",
       "   28,\n",
       "   29,\n",
       "   30,\n",
       "   31,\n",
       "   32,\n",
       "   33,\n",
       "   34],\n",
       "  'target': [0,\n",
       "   1,\n",
       "   2,\n",
       "   3,\n",
       "   4,\n",
       "   5,\n",
       "   6,\n",
       "   7,\n",
       "   8,\n",
       "   9,\n",
       "   10,\n",
       "   11,\n",
       "   12,\n",
       "   13,\n",
       "   14,\n",
       "   15,\n",
       "   16,\n",
       "   17,\n",
       "   18,\n",
       "   19,\n",
       "   20,\n",
       "   21,\n",
       "   22,\n",
       "   23,\n",
       "   24,\n",
       "   25,\n",
       "   26,\n",
       "   27,\n",
       "   28,\n",
       "   29,\n",
       "   30,\n",
       "   31,\n",
       "   32],\n",
       "  'target_none': [33]},\n",
       " 'sv_points': {'source': [1, 2], 'target': [0, 1], 'target_none': []},\n",
       " 'sv_features': {'source': [1, 3, 2, 4, 5, 6, 7, 8, 9, 10, 11, 12, 13, 14],\n",
       "  'target': [0, 1, 2, 3, 4, 5, 6, 7, 8, 9, 10, 11, 12, 13],\n",
       "  'target_none': []}}"
      ]
     },
     "execution_count": 158,
     "metadata": {},
     "output_type": "execute_result"
    }
   ],
   "source": [
    "mappings_by_group"
   ]
  },
  {
   "cell_type": "code",
   "execution_count": null,
   "metadata": {},
   "outputs": [],
   "source": []
  },
  {
   "cell_type": "code",
   "execution_count": null,
   "metadata": {},
   "outputs": [],
   "source": []
  },
  {
   "cell_type": "code",
   "execution_count": null,
   "metadata": {},
   "outputs": [],
   "source": [
    "from typing import Optional\n",
    "\n"
   ]
  },
  {
   "cell_type": "code",
   "execution_count": 176,
   "metadata": {},
   "outputs": [
    {
     "data": {
      "text/plain": [
       "{'pf_mask': ('B', (10, 110)),\n",
       " 'sv_mask': ('B', (10, 2)),\n",
       " 'labels': ('B', 10),\n",
       " 'pf_points': ('f', (10, 110, 2)),\n",
       " 'pf_features': ('f', (10, 110, 34)),\n",
       " 'sv_points': ('f', (10, 2, 2)),\n",
       " 'sv_features': ('f', (10, 2, 14))}"
      ]
     },
     "execution_count": 176,
     "metadata": {},
     "output_type": "execute_result"
    }
   ],
   "source": [
    "calc_df_specification(10, parameters)"
   ]
  },
  {
   "cell_type": "code",
   "execution_count": 177,
   "metadata": {},
   "outputs": [
    {
     "name": "stderr",
     "output_type": "stream",
     "text": [
      "  0%|          | 0/1 [00:00<?, ?it/s]"
     ]
    },
    {
     "name": "stderr",
     "output_type": "stream",
     "text": [
      "Processed 0/54 jets...: 100%|██████████| 1/1 [00:00<00:00, 18.91it/s]                        \n"
     ]
    }
   ],
   "source": [
    "h5p = '/afs/desy.de/group/flc/pool/bliewert/MarlinWorkdirs/ZHH/scripts/test.h5'\n",
    "os.remove(h5p)\n",
    "rb = ur.open('/afs/desy.de/group/flc/pool/bliewert/MarlinWorkdirs/ZHH/scripts/AIDAFile_.root.root')\n",
    "\n",
    "a = root_files_to_hdf5(h5p, parameters, [rb], 0, lengths=[rb['Jets'].num_entries], file_fraction=1.0)"
   ]
  },
  {
   "cell_type": "code",
   "execution_count": null,
   "metadata": {},
   "outputs": [],
   "source": []
  },
  {
   "cell_type": "code",
   "execution_count": 14,
   "metadata": {},
   "outputs": [],
   "source": [
    "pf_charged_column_list = []\n",
    "\n",
    "for key, value in pf_charged_columns.items():\n",
    "    if value is not None:\n",
    "        pf_charged_column_list.append(key)"
   ]
  },
  {
   "cell_type": "code",
   "execution_count": 15,
   "metadata": {},
   "outputs": [],
   "source": [
    "a = ttree_to_array(rb['ChargedJetConstituents'], columns=pf_charged_column_list, force_type=np.float32)"
   ]
  },
  {
   "cell_type": "code",
   "execution_count": null,
   "metadata": {},
   "outputs": [],
   "source": []
  },
  {
   "cell_type": "code",
   "execution_count": 21,
   "metadata": {},
   "outputs": [],
   "source": [
    "from typing import Optional, cast\n",
    "import torch.utils.data as torch_data\n",
    "import os.path as osp\n",
    "import os\n",
    "\n",
    "class RootDataset(torch_data.Dataset):\n",
    "    \"\"\"Map-style dataset for using ROOT files. Converts inputs to HDF5\n",
    "    for fast reading of individual events or a list of events.\n",
    "\n",
    "    Args:\n",
    "        hdf5_filepath (str): can be omitted only if root_files is provided\n",
    "        root_files (list[str]): can be omitted only if hdf5_filepath is provided\n",
    "    \"\"\"\n",
    "    \n",
    "    def __init__(self, hdf5_filepath:str, root_files:Optional[list[str]]=None, label:Optional[int]=None, transform=None,\n",
    "                 file_fraction:Optional[int]=1., device:Optional[torch.device]=None, verbose_fn:Callable=lambda x: x):\n",
    "        \n",
    "        if not osp.isfile(hdf5_filepath):\n",
    "            if root_files is None or label is None:\n",
    "                raise ValueError('hdf5_filepath not found and either root_files or label not provided')\n",
    "            \n",
    "            root_files = root_files\n",
    "            root_handles = [ur.open(root_file) for root_file in root_files]\n",
    "            file_lengths = [rh['Jets'].num_entries for rh in root_handles]\n",
    "            \n",
    "            self._length = int(np.floor(np.sum(file_lengths)*file_fraction))\n",
    "            \n",
    "            verbose_fn(f'HDF5 file not found, converting {len(self)} ROOT files with a total of {self._length} events...')\n",
    "            \n",
    "            root_files_to_hdf5(hdf5_filepath, parameters, root_handles, label, lengths=file_lengths, file_fraction=1.0)\n",
    "        else:\n",
    "            self._h5f = h5py.File(hdf5_filepath, 'r')\n",
    "            self._length = len(self._h5f['labels'])\n",
    "        \n",
    "        self._transform = transform\n",
    "        self._device = device\n",
    "        \n",
    "    def __len__(self):\n",
    "        return self._length\n",
    "    \n",
    "    def __getitem__(self, index):\n",
    "        sample = {}\n",
    "        \n",
    "        \n",
    "        sample = {\n",
    "            'pf_points': torch.tensor(self.pf_points[index], dtype=torch.float32, device=self.device),\n",
    "            'pf_features': torch.tensor(self.pf_features[index], dtype=torch.float32, device=self.device),\n",
    "            'pf_mask': torch.tensor(self.pf_mask[index], dtype=torch.bool, device=self.device),\n",
    "            'sv_points': torch.tensor(self.sv_points[index], dtype=torch.float32, device=self.device),\n",
    "            'sv_features': torch.tensor(self.sv_features[index], dtype=torch.float32, device=self.device),\n",
    "            'sv_mask': torch.tensor(self.sv_mask[index], dtype=torch.bool, device=self.device),\n",
    "            'labels': torch.tensor(self.labels[index], device=self.device).type(torch.LongTensor)\n",
    "        }\n",
    "\n",
    "        if self._transform:\n",
    "            sample = self._transform(sample)\n",
    "\n",
    "        return sample, sample['labels']\n",
    "    \n",
    "def _cleanup_nans(pf_features, pf_mask, sv_features, sv_mask):\n",
    "    # Prepare dataset, calculate mean,stddev\n",
    "    pf_features[(pf_features == -10.)] = np.nan\n",
    "    pf_features[~pf_mask[:, :, 0]] = np.nan\n",
    "    \n",
    "    pf_mean = np.nanmean(pf_features, axis=(0,1))\n",
    "    pf_std = np.nanstd(pf_features, axis=(0,1))\n",
    "\n",
    "    sv_features[(sv_features == -10.)] = np.nan\n",
    "    sv_features[~sv_mask] = np.nan\n",
    "    \n",
    "    sv_mean = np.nanmean(sv_features, axis=(0,1))\n",
    "    sv_std = np.nanstd(sv_features, axis=(0,1))\n",
    "\n",
    "    # rewrite NaNs\n",
    "    pf_features[np.isnan(pf_features)] = 0\n",
    "    sv_features[np.isnan(sv_features)] = 0"
   ]
  },
  {
   "cell_type": "code",
   "execution_count": null,
   "metadata": {},
   "outputs": [],
   "source": []
  }
 ],
 "metadata": {
  "kernelspec": {
   "display_name": "zhhvenv",
   "language": "python",
   "name": "python3"
  },
  "language_info": {
   "codemirror_mode": {
    "name": "ipython",
    "version": 3
   },
   "file_extension": ".py",
   "mimetype": "text/x-python",
   "name": "python",
   "nbconvert_exporter": "python",
   "pygments_lexer": "ipython3",
   "version": "3.11.9"
  }
 },
 "nbformat": 4,
 "nbformat_minor": 2
}
