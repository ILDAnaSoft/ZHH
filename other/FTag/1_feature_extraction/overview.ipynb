{
 "cells": [
  {
   "cell_type": "code",
   "execution_count": null,
   "metadata": {},
   "outputs": [
    {
     "name": "stderr",
     "output_type": "stream",
     "text": [
      "/cvmfs/sw.hsf.org/key4hep/releases/2024-10-03/x86_64-almalinux9-gcc14.2.0-opt/py-tqdm/4.66.3-gay4aw/lib/python3.11/site-packages/tqdm/auto.py:21: TqdmWarning: IProgress not found. Please update jupyter and ipywidgets. See https://ipywidgets.readthedocs.io/en/stable/user_install.html\n",
      "  from .autonotebook import tqdm as notebook_tqdm\n"
     ]
    }
   ],
   "source": [
    "import uproot as ur\n",
    "import h5py, sys, os, yaml\n",
    "\n",
    "import torch, os, yaml, argparse, h5py\n",
    "from tqdm.auto import tqdm\n",
    "import pandas as pd\n",
    "import numpy as np\n",
    "from glob import glob\n",
    "import uproot as ur\n",
    "from typing import Callable, cast\n",
    "\n",
    "import FlavorTag.utils.helperfunctions_ntags as helperfunctions\n",
    "import FlavorTag.utils.helperfunctions_ParticleNet as helperfunctions_ParticleNet\n",
    "from FlavorTag.training_data.ParticleNet.create_dataframes_ParticleNet import create_dataframes\n",
    "from FlavorTag.utils.helperfunctions_ntags import calc_df_specification, get_rename_dicts, \\\n",
    "    extract_feature_columns, ttree_to_array, sanitize_array, init_df"
   ]
  },
  {
   "cell_type": "code",
   "execution_count": 2,
   "metadata": {},
   "outputs": [],
   "source": [
    "config = '/afs/desy.de/group/flc/pool/bliewert/MarlinWorkdirs/ZHH/dependencies/FlavourTaggingML/FlavorTag/configs/ParticleNet_4tags_v2.yaml'\n",
    "with open(config) as fs:\n",
    "    parameters = yaml.safe_load(fs)"
   ]
  },
  {
   "cell_type": "code",
   "execution_count": 3,
   "metadata": {},
   "outputs": [],
   "source": [
    "mask_b = '/nfs/dust/ilc/user/bliewert/FT_ParticleNet4Tags/FeatureExtraction/output/*_bbbbbb_*.root'\n",
    "files_b = glob(mask_b)\n",
    "files_b.sort()"
   ]
  }
 ],
 "metadata": {
  "kernelspec": {
   "display_name": "zhhvenv",
   "language": "python",
   "name": "python3"
  },
  "language_info": {
   "codemirror_mode": {
    "name": "ipython",
    "version": 3
   },
   "file_extension": ".py",
   "mimetype": "text/x-python",
   "name": "python",
   "nbconvert_exporter": "python",
   "pygments_lexer": "ipython3",
   "version": "3.11.9"
  }
 },
 "nbformat": 4,
 "nbformat_minor": 2
}
