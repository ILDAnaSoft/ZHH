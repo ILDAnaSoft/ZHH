{
 "cells": [
  {
   "cell_type": "code",
   "execution_count": 1,
   "metadata": {},
   "outputs": [
    {
     "name": "stdout",
     "output_type": "stream",
     "text": [
      "Loading LCIO ROOT dictionaries ...\n"
     ]
    }
   ],
   "source": [
    "from pyLCIO import IOIMPL, EVENT, UTIL\n",
    "from os import environ as env\n",
    "import os.path as osp"
   ]
  },
  {
   "cell_type": "code",
   "execution_count": 2,
   "metadata": {},
   "outputs": [],
   "source": [
    "reader = IOIMPL.LCFactory.getInstance().createLCReader()\n",
    "reader.open(osp.abspath(f'{env[\"REPO_ROOT\"]}/scripts/CPID.slcio'))"
   ]
  },
  {
   "cell_type": "code",
   "execution_count": 3,
   "metadata": {},
   "outputs": [],
   "source": [
    "#col_pfo2mc = event.getCollection('RecoMCTruthLink')\n",
    "#rel_pfo2mc = UTIL.LCRelationNavigator(col_pfo2mc)"
   ]
  },
  {
   "cell_type": "code",
   "execution_count": 4,
   "metadata": {},
   "outputs": [],
   "source": [
    "event = reader.readNextEvent()\n",
    "\n",
    "col = event.getCollection('PandoraPFOs')\n",
    "params = col.getParameters()\n",
    "\n",
    "PIDAlgNames = EVENT.StringVec()\n",
    "PIDAlgIDs   = EVENT.IntVec()\n",
    "\n",
    "params.getStringVals('PIDAlgorithmTypeName', PIDAlgNames)\n",
    "params.getIntVals('PIDAlgorithmTypeID', PIDAlgIDs)\n",
    "\n",
    "cpid_name = 'TMVA_BDT_MC_12bins_singleP'\n",
    "cpid_idx = -1\n",
    "\n",
    "for i, alg_name in enumerate(PIDAlgNames):\n",
    "    if alg_name == cpid_name:\n",
    "        cpid_idx = PIDAlgIDs[i]\n",
    "        break\n",
    "\n",
    "def extract_el_mu_ness(pfo, cpid_idx):\n",
    "    pandora_type = pfo.getType()\n",
    "    cpid_11ness = 0.\n",
    "    cpid_13ness = 0.\n",
    "    cpid_type = 0\n",
    "    \n",
    "    for pid in pfo.getParticleIDs():\n",
    "        if pid.getAlgorithmType() == cpid_idx:\n",
    "            cpid_params = pid.getParameters()\n",
    "            cpid_11ness = float(cpid_params[0])\n",
    "            cpid_13ness = float(cpid_params[1])\n",
    "            cpid_type = pid.getType()\n",
    "            break\n",
    "        \n",
    "    return pandora_type, cpid_type, cpid_11ness, cpid_13ness"
   ]
  },
  {
   "cell_type": "code",
   "execution_count": null,
   "metadata": {},
   "outputs": [
    {
     "ename": "AttributeError",
     "evalue": "'ParticleIDIOImpl' object has no attribute 'getTo'",
     "output_type": "error",
     "traceback": [
      "\u001b[0;31m---------------------------------------------------------------------------\u001b[0m",
      "\u001b[0;31mAttributeError\u001b[0m                            Traceback (most recent call last)",
      "Cell \u001b[0;32mIn[9], line 45\u001b[0m\n\u001b[1;32m     42\u001b[0m \u001b[38;5;28;01mif\u001b[39;00m best_idx \u001b[38;5;241m!=\u001b[39m \u001b[38;5;241m-\u001b[39m\u001b[38;5;241m1\u001b[39m:\n\u001b[1;32m     43\u001b[0m     truth_pdg\u001b[38;5;241m.\u001b[39mappend(mcp_pdg)\n\u001b[0;32m---> 45\u001b[0m     pandora_type, cpid_type, cpid_11ness, cpid_13ness \u001b[38;5;241m=\u001b[39m extract_el_mu_ness(\u001b[43mpfovec\u001b[49m\u001b[43m[\u001b[49m\u001b[43mbest_idx\u001b[49m\u001b[43m]\u001b[49m\u001b[38;5;241;43m.\u001b[39;49m\u001b[43mgetTo\u001b[49m(), cpid_idx)\n\u001b[1;32m     46\u001b[0m     pandora_pdg\u001b[38;5;241m.\u001b[39mappend(pandora_type)\n\u001b[1;32m     47\u001b[0m     cpid_pdg\u001b[38;5;241m.\u001b[39mappend(cpid_type)\n",
      "\u001b[0;31mAttributeError\u001b[0m: 'ParticleIDIOImpl' object has no attribute 'getTo'"
     ]
    }
   ],
   "source": [
    "# from https://github.com/iLCSoft/MarlinReco/blob/e6c420abe8c80814fbbd3d34641b14dc90a23f5f/Analysis/PIDTools/src/ComprehensivePIDProcessor.cc\n",
    "\n",
    "rel_mc2pfo = UTIL.LCRelationNavigator(event.getCollection('MCTruthRecoLink'))\n",
    "\n",
    "truth_pdg = []\n",
    "pandora_pdg = []\n",
    "cpid_pdg = []\n",
    "cpid_11_ness = []\n",
    "cpid_13_ness = []\n",
    "\n",
    "n_events = 100\n",
    "\n",
    "bla = None\n",
    "\n",
    "for n_evt in range(n_events):\n",
    "    event = reader.readNextEvent()\n",
    "    \n",
    "    if event is None:\n",
    "        break\n",
    "    \n",
    "    for mcp in event.getCollection('MCParticle'):\n",
    "        if abs(mcp.getPDG()) in [11, 13]:\n",
    "            mcp_pdg = abs(mcp.getPDG())\n",
    "            bestwei = 0\n",
    "            best_idx = -1\n",
    "            \n",
    "            pfovec = rel_mc2pfo.getRelatedToObjects(mcp)\n",
    "            weivec = rel_mc2pfo.getRelatedToWeights(mcp)\n",
    "            \n",
    "            bla = pfovec\n",
    "            \n",
    "            for i in range(len(weivec)):\n",
    "                trkwei = (int(weivec[i])%10000)/1000.\n",
    "                cluwei = (int(weivec[i])/10000)/1000.\n",
    "                \n",
    "                mcparwei = trkwei if trkwei>cluwei else cluwei\n",
    "                weight = weivec[i]\n",
    "                \n",
    "                if weight > bestwei:\n",
    "                    best_idx = i\n",
    "                    \n",
    "            if best_idx != -1 and :\n",
    "                truth_pdg.append(mcp_pdg)\n",
    "                \n",
    "                pandora_type, cpid_type, cpid_11ness, cpid_13ness = extract_el_mu_ness(pfovec[best_idx].getTo(), cpid_idx)\n",
    "                pandora_pdg.append(pandora_type)\n",
    "                cpid_pdg.append(cpid_type)\n",
    "                cpid_11_ness.append(cpid_11ness)\n",
    "                cpid_11_ness.append(cpid_13ness)"
   ]
  },
  {
   "cell_type": "code",
   "execution_count": 17,
   "metadata": {},
   "outputs": [],
   "source": [
    "t = pfovec[best_idx]"
   ]
  },
  {
   "cell_type": "code",
   "execution_count": null,
   "metadata": {},
   "outputs": [],
   "source": []
  },
  {
   "cell_type": "code",
   "execution_count": 16,
   "metadata": {},
   "outputs": [
    {
     "data": {
      "text/plain": [
       "0.9791661466039452"
      ]
     },
     "execution_count": 16,
     "metadata": {},
     "output_type": "execute_result"
    }
   ],
   "source": [
    "mcp.getEnergy()"
   ]
  },
  {
   "cell_type": "code",
   "execution_count": null,
   "metadata": {},
   "outputs": [],
   "source": []
  },
  {
   "cell_type": "code",
   "execution_count": null,
   "metadata": {},
   "outputs": [],
   "source": []
  },
  {
   "cell_type": "code",
   "execution_count": null,
   "metadata": {},
   "outputs": [
    {
     "ename": "TypeError",
     "evalue": "none of the 3 overloaded methods succeeded. Full details:\n  MCParticleIOImpl::MCParticleIOImpl(IOIMPL::MCParticleIOImpl&&) =>\n    ValueError: could not convert argument 1 (object is not an rvalue)\n  MCParticleIOImpl::MCParticleIOImpl(const IOIMPL::MCParticleIOImpl&) =>\n    TypeError: could not convert argument 1\n  MCParticleIOImpl::MCParticleIOImpl() =>\n    TypeError: takes at most 0 arguments (1 given)",
     "output_type": "error",
     "traceback": [
      "\u001b[0;31m---------------------------------------------------------------------------\u001b[0m",
      "\u001b[0;31mTypeError\u001b[0m                                 Traceback (most recent call last)",
      "Cell \u001b[0;32mIn[18], line 1\u001b[0m\n\u001b[0;32m----> 1\u001b[0m \u001b[43mIOIMPL\u001b[49m\u001b[38;5;241;43m.\u001b[39;49m\u001b[43mMCParticleIOImpl\u001b[49m\u001b[43m(\u001b[49m\u001b[43mbla\u001b[49m\u001b[43m[\u001b[49m\u001b[38;5;241;43m0\u001b[39;49m\u001b[43m]\u001b[49m\u001b[43m)\u001b[49m\n",
      "\u001b[0;31mTypeError\u001b[0m: none of the 3 overloaded methods succeeded. Full details:\n  MCParticleIOImpl::MCParticleIOImpl(IOIMPL::MCParticleIOImpl&&) =>\n    ValueError: could not convert argument 1 (object is not an rvalue)\n  MCParticleIOImpl::MCParticleIOImpl(const IOIMPL::MCParticleIOImpl&) =>\n    TypeError: could not convert argument 1\n  MCParticleIOImpl::MCParticleIOImpl() =>\n    TypeError: takes at most 0 arguments (1 given)"
     ]
    }
   ],
   "source": [
    "IOIMPL.MCParticleIOImpl(bla[0])"
   ]
  },
  {
   "cell_type": "code",
   "execution_count": null,
   "metadata": {},
   "outputs": [],
   "source": []
  },
  {
   "cell_type": "code",
   "execution_count": null,
   "metadata": {},
   "outputs": [],
   "source": []
  },
  {
   "cell_type": "code",
   "execution_count": null,
   "metadata": {},
   "outputs": [
    {
     "ename": "",
     "evalue": "",
     "output_type": "error",
     "traceback": [
      "\u001b[1;31mThe Kernel crashed while executing code in the current cell or a previous cell. \n",
      "\u001b[1;31mPlease review the code in the cell(s) to identify a possible cause of the failure. \n",
      "\u001b[1;31mClick <a href='https://aka.ms/vscodeJupyterKernelCrash'>here</a> for more info. \n",
      "\u001b[1;31mView Jupyter <a href='command:jupyter.viewOutput'>log</a> for further details."
     ]
    }
   ],
   "source": [
    "rel_mc2pfo = UTIL.LCRelationNavigator(event.getCollection('MCTruthRecoLink'))\n",
    "\n",
    "truth_pdg = []\n",
    "pandora_pdg = []\n",
    "cpid_pdg = []\n",
    "cpid_11_ness = []\n",
    "cpid_13_ness = []\n",
    "\n",
    "n_events = 100\n",
    "\n",
    "for n_evt in range(n_events):\n",
    "    event = reader.readNextEvent()\n",
    "    \n",
    "    if event is None:\n",
    "        break\n",
    "    \n",
    "    for mcp in event.getCollection('MCParticle'):\n",
    "        if abs(mcp.getPDG()) in [11, 13]:\n",
    "            mcp_pdg = abs(mcp.getPDG())\n",
    "            bestwei = 0\n",
    "            best_idx = -1\n",
    "            \n",
    "            pfovec = rel_mc2pfo.getRelatedToObjects(mcp)"
   ]
  },
  {
   "cell_type": "code",
   "execution_count": null,
   "metadata": {},
   "outputs": [],
   "source": [
    "1 + 1"
   ]
  },
  {
   "cell_type": "code",
   "execution_count": 29,
   "metadata": {},
   "outputs": [
    {
     "data": {
      "text/plain": [
       "vector<string>{ \"11-ness\", \"13-ness\", \"211-ness\", \"321-ness\", \"2212-ness\" }"
      ]
     },
     "execution_count": 29,
     "metadata": {},
     "output_type": "execute_result"
    }
   ],
   "source": [
    "params.getStringVals('ParameterNames_TMVA_BDT_MC_12bins_singleP', string_vec)"
   ]
  },
  {
   "cell_type": "code",
   "execution_count": null,
   "metadata": {},
   "outputs": [],
   "source": [
    "\"11-ness\", \"13-ness\", \"211-ness\", \"321-ness\", \"2212-ness\""
   ]
  },
  {
   "cell_type": "code",
   "execution_count": null,
   "metadata": {},
   "outputs": [],
   "source": []
  },
  {
   "cell_type": "code",
   "execution_count": 11,
   "metadata": {},
   "outputs": [],
   "source": [
    "reader.close()"
   ]
  },
  {
   "cell_type": "code",
   "execution_count": null,
   "metadata": {},
   "outputs": [],
   "source": []
  },
  {
   "cell_type": "code",
   "execution_count": null,
   "metadata": {},
   "outputs": [],
   "source": [
    "r\n",
    "\n",
    "result = []\n",
    "\n",
    "for event in (pbar := tqdm(range(reader.getNumberOfEvents()))):\n",
    "    event = reader.readNextEvent()\n",
    "    pbar.set_description(f'Processing event {event.getEventNumber()}')\n",
    "\n",
    "    # Iterate through the MCParticle collection and find muon and anti muon\n",
    "    # see page 5 on https://pdg.lbl.gov/2019/reviews/rpp2019-rev-monte-carlo-numbering.pdf\n",
    "    iso_leptons = event.getCollection('ISOLeptons')\n",
    "    \n",
    "    E = 0\n",
    "    pX = 0\n",
    "    pY = 0\n",
    "    pZ = 0\n",
    "    n_muons = 0\n",
    "    \n",
    "    for iso_lepton in iso_leptons:\n",
    "        if abs(iso_lepton.getType()) == 13:\n",
    "            mom = iso_lepton.getMomentum()\n",
    "            \n",
    "            E += iso_lepton.getEnergy()\n",
    "            pX += mom[0]\n",
    "            pY += mom[1]\n",
    "            pZ += mom[2]\n",
    "            n_muons += 1\n",
    "\n",
    "    if n_muons == 2:\n",
    "        result.append([E, pX, pY, pZ])\n",
    "        \n",
    "    # break\n",
    "\n",
    "reader.getNumberOfEvents()"
   ]
  }
 ],
 "metadata": {
  "kernelspec": {
   "display_name": "zhhvenv",
   "language": "python",
   "name": "python3"
  },
  "language_info": {
   "codemirror_mode": {
    "name": "ipython",
    "version": 3
   },
   "file_extension": ".py",
   "mimetype": "text/x-python",
   "name": "python",
   "nbconvert_exporter": "python",
   "pygments_lexer": "ipython3",
   "version": "3.11.9"
  }
 },
 "nbformat": 4,
 "nbformat_minor": 2
}
