{
 "cells": [
  {
   "cell_type": "code",
   "execution_count": 53,
   "metadata": {},
   "outputs": [],
   "source": [
    "import ROOT\n",
    "import numpy as np"
   ]
  },
  {
   "cell_type": "code",
   "execution_count": 184,
   "metadata": {},
   "outputs": [],
   "source": [
    "# TLorentzVector v1, TLorentzVector v2\n",
    "def GetVariablesInRestFrame(v1, v2):\n",
    "    v0 = v1 + v2\n",
    "    q2 = v0.M2()\n",
    "\n",
    "    v10 = None\n",
    "    v20 = None\n",
    "\n",
    "    if v0.Vect().Mag()/v0.E() > 1.E-6:\n",
    "      # only do boost when beta > 1.E-6\n",
    "      # redefine the axis\n",
    "      # TVector3\n",
    "      axiszOrig = ROOT.TVector3(0., 0., 1.)\n",
    "      axis0z    = v0.Vect().Unit()\n",
    "      axis0x    = axis0z.Cross(axiszOrig).Unit()\n",
    "      axis0y    = axis0z.Cross(axis0x)\n",
    "\n",
    "      # boost to rest frame\n",
    "      bst  = ROOT.TVector3(0., 0., v0.Vect().Mag()/v0.E())\n",
    "      v10  = ROOT.TLorentzVector(v1.Vect()*axis0x,v1.Vect()*axis0y,v1.Vect()*axis0z,v1.E())\n",
    "      v20  = ROOT.TLorentzVector(v2.Vect()*axis0x,v2.Vect()*axis0y,v2.Vect()*axis0z,v2.E())\n",
    "      \n",
    "      v10.Boost(-bst)\n",
    "      v20.Boost(-bst)\n",
    "      costheta = v10.CosTheta()\n",
    "      phi = v10.Phi()\n",
    "    else:\n",
    "      costheta = v1.CosTheta()\n",
    "      phi = v1.Phi()\n",
    "\n",
    "    return (q2, costheta, phi, v10, v20)\n"
   ]
  },
  {
   "cell_type": "code",
   "execution_count": 185,
   "metadata": {},
   "outputs": [],
   "source": [
    "v1 = ROOT.TLorentzVector(-0.5, -1, 2, 1)\n",
    "v2 = ROOT.TLorentzVector(1, 1, -1, 2)"
   ]
  },
  {
   "cell_type": "code",
   "execution_count": 186,
   "metadata": {},
   "outputs": [],
   "source": [
    "# Only for non-boosted! \n",
    "def theta(v):\n",
    "    if v[2] == 0:\n",
    "        if v[0] * v[1] == 0:\n",
    "            raise Exception(\"Invalid operation\")\n",
    "        else:\n",
    "            return np.pi/2\n",
    "    else:\n",
    "        return ( np.arctan(np.sqrt(v[0]**2 + v[1]**2)/v[2]) + (np.pi if (v[2] < 0) else 0) )\n",
    "\n",
    "def costheta(v):\n",
    "    return v[2]/v.Vect().Mag()"
   ]
  },
  {
   "cell_type": "code",
   "execution_count": 188,
   "metadata": {},
   "outputs": [
    {
     "name": "stdout",
     "output_type": "stream",
     "text": [
      "(7.75, -0.6091095901015048, 2.2113186394743214)\n",
      "(7.75, 0.6091095901015048, -0.9302740141154721)\n"
     ]
    }
   ],
   "source": [
    "q21, costheta1, phi1, v101, v201 = GetVariablesInRestFrame(v2, v1)\n",
    "q22, costheta2, phi2, v102, v202 = GetVariablesInRestFrame(v1, v2)\n",
    "\n",
    "print((q21, costheta1, phi1))\n",
    "print((q22, costheta2, phi2))"
   ]
  },
  {
   "cell_type": "code",
   "execution_count": 190,
   "metadata": {},
   "outputs": [
    {
     "name": "stderr",
     "output_type": "stream",
     "text": [
      "Warning in <TCanvas::Constructor>: Deleting canvas with same name: c_name\n"
     ]
    },
    {
     "data": {
      "image/png": "[encoded data removed]",
      "text/plain": [
       "<IPython.core.display.Image object>"
      ]
     },
     "metadata": {},
     "output_type": "display_data"
    }
   ],
   "source": [
    "canv = ROOT.TCanvas(\"c_name\", \"c_title\", 800, 600)\n",
    "#canv.SetTheta(45)\n",
    "#canv.SetPhi(60)\n",
    "canv.SetTheta(90)\n",
    "canv.SetPhi(0)\n",
    "\n",
    "g = ROOT.TGraph2D()\n",
    "g.SetPoint(0, min(v1[0], v2[0]), min(v1[1], v2[1]), min(v1[2], v2[2]))\n",
    "g.SetPoint(1, max(v1[0], v2[0]), max(v1[1], v2[1]), max(v1[2], v2[2]))\n",
    "g.SetPoint(2, 0, 0, 0)\n",
    "g.Draw(\"P0\")\n",
    "\n",
    "xaxis = g.GetXaxis()\n",
    "yaxis = g.GetYaxis()\n",
    "zaxis = g.GetZaxis()\n",
    "\n",
    "xaxis.SetTitle(\"X\")\n",
    "yaxis.SetTitle(\"Y\")\n",
    "zaxis.SetTitle(\"Z\")\n",
    "\n",
    "l1 = ROOT.TPolyLine3D(2)\n",
    "l1.SetPoint(0, 0, 0, 0)\n",
    "l1.SetPoint(1, v1[0], v1[1], v1[2])\n",
    "l1.SetLineColor(2)\n",
    "l1.Draw()\n",
    "\n",
    "l2 = ROOT.TPolyLine3D(2)\n",
    "l2.SetPoint(0, 0, 0, 0)\n",
    "l2.SetPoint(1, v2[0], v2[1], v2[2])\n",
    "l2.SetLineColor(3)\n",
    "l2.Draw()\n",
    "\n",
    "canv.Draw()"
   ]
  },
  {
   "cell_type": "code",
   "execution_count": null,
   "metadata": {},
   "outputs": [],
   "source": []
  },
  {
   "cell_type": "code",
   "execution_count": null,
   "metadata": {},
   "outputs": [],
   "source": []
  }
 ],
 "metadata": {
  "kernelspec": {
   "display_name": "py311",
   "language": "python",
   "name": "python3"
  },
  "language_info": {
   "codemirror_mode": {
    "name": "ipython",
    "version": 3
   },
   "file_extension": ".py",
   "mimetype": "text/x-python",
   "name": "python",
   "nbconvert_exporter": "python",
   "pygments_lexer": "ipython3",
   "version": "3.11.3"
  },
  "orig_nbformat": 4
 },
 "nbformat": 4,
 "nbformat_minor": 2
}
