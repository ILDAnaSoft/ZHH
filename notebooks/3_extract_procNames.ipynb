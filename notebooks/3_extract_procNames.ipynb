{
 "cells": [
  {
   "cell_type": "code",
   "execution_count": 32,
   "metadata": {},
   "outputs": [],
   "source": [
    "from os import environ, path as osp ; environ[\"REPO_ROOT\"] = \"/afs/desy.de/user/b/bliewert/public/MarlinWorkdirs/ZHH\"\n",
    "\n",
    "import uproot as ur\n",
    "import matplotlib as plt\n",
    "import numpy as np\n",
    "import seaborn as sns\n",
    "from glob import glob\n",
    "from phc import module_reload, reload_phc\n",
    "reload_phc(); module_reload('zhh')\n",
    "from tqdm.auto import tqdm"
   ]
  },
  {
   "cell_type": "code",
   "execution_count": 33,
   "metadata": {},
   "outputs": [
    {
     "name": "stdout",
     "output_type": "stream",
     "text": [
      "Info: Added sample 2f_Z_bhabhag\n"
     ]
    },
    {
     "name": "stdout",
     "output_type": "stream",
     "text": [
      "Info: Reading /pnfs/desy.de/ilc/prod/ilc/mc-opt-3/ild/dst-merged/500-TDR_ws/2f_Z_bhabhag/ILD_l5_o1_v02/v02-00-01/rv02-00-01.sv02-00-01.mILD_l5_o1_v02.E500-TDR_ws.I250101.P2f_z_bhabhag.eL.pL.n001.d_dstm_10366_0.slcio\n",
      "Info: Added process 2f_z_bhabhag for sample 2f_Z_bhabhag\n",
      "Info: Added sample 2f_Z_bhabhaNg\n",
      "Info: Added sample 2f_Z_hadronic\n",
      "Info: Reading /pnfs/desy.de/ilc/prod/ilc/mc-opt-3/ild/dst-merged/500-TDR_ws/2f_Z_hadronic/ILD_l5_o1_v02/v02-00-01/rv02-00-01.sv02-00-01.mILD_l5_o1_v02.E500-TDR_ws.I250114.P2f_z_h.eL.pR.n001.d_dstm_10410_0.slcio\n",
      "Info: Added process 2f_z_h for sample 2f_Z_hadronic\n",
      "Info: Added sample 2f_Z_leptonic\n",
      "Info: Reading /pnfs/desy.de/ilc/prod/ilc/mc-opt-3/ild/dst-merged/500-TDR_ws/2f_Z_leptonic/ILD_l5_o1_v02/v02-00-01/rv02-00-01.sv02-00-01.mILD_l5_o1_v02.E500-TDR_ws.I250106.P2f_z_l.eL.pR.n001.d_dstm_10255_0.slcio\n",
      "Info: Added process 2f_z_l for sample 2f_Z_leptonic\n",
      "Info: Added sample 2f_Z_nuNg\n",
      "Info: Reading /pnfs/desy.de/ilc/prod/ilc/mc-opt-3/ild/dst-merged/500-TDR_ws/2f_Z_nuNg/ILD_l5_o1_v02/v02-00-01/rv02-00-01.sv02-00-01.mILD_l5_o1_v02.E500-TDR_ws.I250130.P2f_z_nung.eL.pR.n001.d_dstm_10589_0.slcio\n",
      "Info: Added process 2f_z_nung for sample 2f_Z_nuNg\n"
     ]
    }
   ],
   "source": [
    "from pyLCIO import IOIMPL\n",
    "from zhh import is_readable\n",
    "\n",
    "sample_list = []\n",
    "sample_process_dict = {}\n",
    "\n",
    "SAMPLE_ROOT = '/pnfs/desy.de/ilc/prod/ilc/mc-opt-3/ild/dst-merged/500-TDR_ws'\n",
    "\n",
    "for path in glob(f'{SAMPLE_ROOT}/*'):\n",
    "    sample = osp.basename(path)\n",
    "    \n",
    "    sample_list.append(sample)\n",
    "    if not (sample in sample_process_dict):\n",
    "        sample_process_dict[sample] = []\n",
    "        print(f'Info: Added sample {sample}')\n",
    "    \n",
    "    sample_files = glob(f'{SAMPLE_ROOT}/{sample}/**/*.slcio', recursive=True)\n",
    "    for file in sample_files:\n",
    "        print(f'Info: Reading {file}')\n",
    "        if is_readable(file):\n",
    "            reader = IOIMPL.LCFactory.getInstance().createLCReader()\n",
    "            reader.open(file)\n",
    "            \n",
    "            event = reader.readNextEvent()\n",
    "            params = event.getParameters()\n",
    "            process = params.getStringVal('processName')\n",
    "            \n",
    "            if not (process in sample_process_dict[sample]):\n",
    "                sample_process_dict[sample].append(process)\n",
    "                print(f'Info: Added process {process} for sample {sample}')\n",
    "            \n",
    "            reader.close()\n",
    "        else:\n",
    "            print(f'Error: Cannot read file {file}')"
   ]
  },
  {
   "cell_type": "code",
   "execution_count": 34,
   "metadata": {},
   "outputs": [
    {
     "data": {
      "text/plain": [
       "{'2f_Z_bhabhag': ['2f_z_bhabhag'],\n",
       " '2f_Z_bhabhaNg': [],\n",
       " '2f_Z_hadronic': ['2f_z_h'],\n",
       " '2f_Z_leptonic': ['2f_z_l'],\n",
       " '2f_Z_nuNg': ['2f_z_nung']}"
      ]
     },
     "execution_count": 34,
     "metadata": {},
     "output_type": "execute_result"
    }
   ],
   "source": [
    "sample_process_dict"
   ]
  },
  {
   "cell_type": "code",
   "execution_count": null,
   "metadata": {},
   "outputs": [],
   "source": []
  }
 ],
 "metadata": {
  "kernelspec": {
   "display_name": "py311",
   "language": "python",
   "name": "python3"
  },
  "language_info": {
   "codemirror_mode": {
    "name": "ipython",
    "version": 3
   },
   "file_extension": ".py",
   "mimetype": "text/x-python",
   "name": "python",
   "nbconvert_exporter": "python",
   "pygments_lexer": "ipython3",
   "version": "3.11.9"
  }
 },
 "nbformat": 4,
 "nbformat_minor": 2
}
