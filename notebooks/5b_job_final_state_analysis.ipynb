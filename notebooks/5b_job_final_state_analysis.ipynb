{
 "cells": [
  {
   "cell_type": "code",
   "execution_count": 1,
   "metadata": {},
   "outputs": [],
   "source": [
    "from glob import glob\n",
    "from typing import Union, Optional\n",
    "from tqdm.auto import tqdm\n",
    "import uproot as ur\n",
    "import numpy as np\n",
    "import json\n",
    "from phc import module_reload\n",
    "module_reload('zhh')\n",
    "from zhh import get_raw_files, get_preselection_meta, get_preselection_summary, default_locations, EVENT_CATEGORY_TRUE\n",
    "\n",
    "version = 'v1'\n",
    "REPO_ROOT = '/afs/desy.de/user/b/bliewert/public/MarlinWorkdirs/ZHH'\n",
    "DATA_ROOT = f'/nfs/dust/ilc/user/bliewert/zhh/Preselection/{version}'"
   ]
  },
  {
   "cell_type": "code",
   "execution_count": 154,
   "metadata": {},
   "outputs": [],
   "source": [
    "all_files = glob(f'/pnfs/desy.de/ilc/prod/ilc/ild/copy/dst-merged/500-TDR_ws/**/*.slcio', recursive=True)"
   ]
  },
  {
   "cell_type": "code",
   "execution_count": 165,
   "metadata": {},
   "outputs": [
    {
     "name": "stdout",
     "output_type": "stream",
     "text": [
      "Passing non-s5: 3322 (-4123)\n",
      "Passing non-s5 + in default locations: 2691 (-631)\n"
     ]
    }
   ],
   "source": [
    "pass_s5 = list(filter(lambda a: 'ILD_s5_o1_v02' not in a, all_files))\n",
    "print(f'Passing non-s5: {len(pass_s5)} (-{len(all_files) - len(pass_s5)})')\n",
    "\n",
    "pass_s5_a_dl = list(filter(lambda a: any(loc in a for loc in default_locations), pass_s5))\n",
    "print(f'Passing non-s5 + in default locations: {len(pass_s5_a_dl)} (-{len(pass_s5) - len(pass_s5_a_dl)})')"
   ]
  },
  {
   "cell_type": "code",
   "execution_count": 147,
   "metadata": {},
   "outputs": [
    {
     "name": "stdout",
     "output_type": "stream",
     "text": [
      "116\n"
     ]
    }
   ],
   "source": [
    "rf = get_raw_files(debug=True)\n",
    "print(len(rf))"
   ]
  },
  {
   "cell_type": "code",
   "execution_count": 2,
   "metadata": {},
   "outputs": [],
   "source": [
    "meta = get_preselection_meta(DATA_ROOT)"
   ]
  },
  {
   "cell_type": "code",
   "execution_count": 3,
   "metadata": {},
   "outputs": [
    {
     "name": "stdout",
     "output_type": "stream",
     "text": [
      "{'job_id': '265702.24', 'branches': [24], 'status': 'running', 'code': 0, 'error': None, 'extra': {'log': '/nfs/dust/ilc/user/bliewert/zhh/Preselection/v1/stdall_24To25.txt'}}\n",
      "{'job_id': '265702.69', 'branches': [69], 'status': 'running', 'code': 0, 'error': None, 'extra': {'log': '/nfs/dust/ilc/user/bliewert/zhh/Preselection/v1/stdall_69To70.txt'}}\n",
      "{'job_id': '265702.70', 'branches': [70], 'status': 'running', 'code': 0, 'error': None, 'extra': {'log': '/nfs/dust/ilc/user/bliewert/zhh/Preselection/v1/stdall_70To71.txt'}}\n",
      "{'job_id': '265702.88', 'branches': [88], 'status': 'running', 'code': 0, 'error': None, 'extra': {'log': '/nfs/dust/ilc/user/bliewert/zhh/Preselection/v1/stdall_88To89.txt'}}\n",
      "{'job_id': '265702.89', 'branches': [89], 'status': 'running', 'code': 0, 'error': None, 'extra': {'log': '/nfs/dust/ilc/user/bliewert/zhh/Preselection/v1/stdall_89To90.txt'}}\n",
      "{'job_id': '265702.90', 'branches': [90], 'status': 'running', 'code': 0, 'error': None, 'extra': {'log': '/nfs/dust/ilc/user/bliewert/zhh/Preselection/v1/stdall_90To91.txt'}}\n",
      "{'job_id': '265702.91', 'branches': [91], 'status': 'running', 'code': 0, 'error': None, 'extra': {'log': '/nfs/dust/ilc/user/bliewert/zhh/Preselection/v1/stdall_91To92.txt'}}\n",
      "{'job_id': '265702.92', 'branches': [92], 'status': 'running', 'code': 0, 'error': None, 'extra': {'log': '/nfs/dust/ilc/user/bliewert/zhh/Preselection/v1/stdall_92To93.txt'}}\n",
      "{'job_id': '265702.93', 'branches': [93], 'status': 'running', 'code': 0, 'error': None, 'extra': {'log': '/nfs/dust/ilc/user/bliewert/zhh/Preselection/v1/stdall_93To94.txt'}}\n",
      "{'job_id': '265702.94', 'branches': [94], 'status': 'running', 'code': 0, 'error': None, 'extra': {'log': '/nfs/dust/ilc/user/bliewert/zhh/Preselection/v1/stdall_94To95.txt'}}\n",
      "{'job_id': '265702.95', 'branches': [95], 'status': 'running', 'code': 0, 'error': None, 'extra': {'log': '/nfs/dust/ilc/user/bliewert/zhh/Preselection/v1/stdall_95To96.txt'}}\n",
      "{'job_id': '265702.96', 'branches': [96], 'status': 'running', 'code': 0, 'error': None, 'extra': {'log': '/nfs/dust/ilc/user/bliewert/zhh/Preselection/v1/stdall_96To97.txt'}}\n",
      "{'job_id': '265702.97', 'branches': [97], 'status': 'running', 'code': 0, 'error': None, 'extra': {'log': '/nfs/dust/ilc/user/bliewert/zhh/Preselection/v1/stdall_97To98.txt'}}\n",
      "{'job_id': '265702.98', 'branches': [98], 'status': 'running', 'code': 0, 'error': None, 'extra': {'log': '/nfs/dust/ilc/user/bliewert/zhh/Preselection/v1/stdall_98To99.txt'}}\n",
      "{'job_id': '265702.99', 'branches': [99], 'status': 'running', 'code': 0, 'error': None, 'extra': {'log': '/nfs/dust/ilc/user/bliewert/zhh/Preselection/v1/stdall_99To100.txt'}}\n",
      "{'job_id': '265702.100', 'branches': [100], 'status': 'running', 'code': 0, 'error': None, 'extra': {'log': '/nfs/dust/ilc/user/bliewert/zhh/Preselection/v1/stdall_100To101.txt'}}\n",
      "{'job_id': '265702.101', 'branches': [101], 'status': 'running', 'code': 0, 'error': None, 'extra': {'log': '/nfs/dust/ilc/user/bliewert/zhh/Preselection/v1/stdall_101To102.txt'}}\n",
      "{'job_id': '265702.102', 'branches': [102], 'status': 'running', 'code': 0, 'error': None, 'extra': {'log': '/nfs/dust/ilc/user/bliewert/zhh/Preselection/v1/stdall_102To103.txt'}}\n",
      "{'job_id': '265702.103', 'branches': [103], 'status': 'running', 'code': 0, 'error': None, 'extra': {'log': '/nfs/dust/ilc/user/bliewert/zhh/Preselection/v1/stdall_103To104.txt'}}\n",
      "{'job_id': '265702.104', 'branches': [104], 'status': 'running', 'code': 0, 'error': None, 'extra': {'log': '/nfs/dust/ilc/user/bliewert/zhh/Preselection/v1/stdall_104To105.txt'}}\n",
      "{'job_id': '265702.105', 'branches': [105], 'status': 'running', 'code': 0, 'error': None, 'extra': {'log': '/nfs/dust/ilc/user/bliewert/zhh/Preselection/v1/stdall_105To106.txt'}}\n",
      "{'job_id': '265702.106', 'branches': [106], 'status': 'running', 'code': 0, 'error': None, 'extra': {'log': '/nfs/dust/ilc/user/bliewert/zhh/Preselection/v1/stdall_106To107.txt'}}\n",
      "{'job_id': '265702.107', 'branches': [107], 'status': 'running', 'code': 0, 'error': None, 'extra': {'log': '/nfs/dust/ilc/user/bliewert/zhh/Preselection/v1/stdall_107To108.txt'}}\n",
      "{'job_id': '265702.108', 'branches': [108], 'status': 'running', 'code': 0, 'error': None, 'extra': {'log': '/nfs/dust/ilc/user/bliewert/zhh/Preselection/v1/stdall_108To109.txt'}}\n",
      "{'job_id': '265702.109', 'branches': [109], 'status': 'running', 'code': 0, 'error': None, 'extra': {'log': '/nfs/dust/ilc/user/bliewert/zhh/Preselection/v1/stdall_109To110.txt'}}\n",
      "{'job_id': '265702.110', 'branches': [110], 'status': 'running', 'code': 0, 'error': None, 'extra': {'log': '/nfs/dust/ilc/user/bliewert/zhh/Preselection/v1/stdall_110To111.txt'}}\n",
      "{'job_id': '265702.111', 'branches': [111], 'status': 'running', 'code': 0, 'error': None, 'extra': {'log': '/nfs/dust/ilc/user/bliewert/zhh/Preselection/v1/stdall_111To112.txt'}}\n",
      "{'job_id': '265702.112', 'branches': [112], 'status': 'running', 'code': 0, 'error': None, 'extra': {'log': '/nfs/dust/ilc/user/bliewert/zhh/Preselection/v1/stdall_112To113.txt'}}\n",
      "{'job_id': '265702.113', 'branches': [113], 'status': 'running', 'code': 0, 'error': None, 'extra': {'log': '/nfs/dust/ilc/user/bliewert/zhh/Preselection/v1/stdall_113To114.txt'}}\n",
      "{'job_id': '265702.114', 'branches': [114], 'status': 'running', 'code': 0, 'error': None, 'extra': {'log': '/nfs/dust/ilc/user/bliewert/zhh/Preselection/v1/stdall_114To115.txt'}}\n",
      "{'job_id': '265702.115', 'branches': [115], 'status': 'running', 'code': 0, 'error': None, 'extra': {'log': '/nfs/dust/ilc/user/bliewert/zhh/Preselection/v1/stdall_115To116.txt'}}\n"
     ]
    }
   ],
   "source": [
    "jobs = meta['jobs']\n",
    "for job_key in jobs:\n",
    "    job = jobs[job_key]\n",
    "    if job['status'] != 'finished':\n",
    "        print(job)"
   ]
  },
  {
   "cell_type": "code",
   "execution_count": 4,
   "metadata": {},
   "outputs": [],
   "source": [
    "results = get_preselection_summary(DATA_ROOT, meta)"
   ]
  },
  {
   "cell_type": "code",
   "execution_count": 5,
   "metadata": {},
   "outputs": [
    {
     "data": {
      "text/plain": [
       "array([('finished',   0, '2f_Z_bhabhaNg', '2f_z_bhabhang', -1, -1, '/pnfs/desy.de/ilc/prod/ilc/ild/copy/dst-merged/500-TDR_ws/2f_Z_bhabhaNg/ILD_l5_o1_v02/v02-00-01/rv02-00-01.sv02-00-01.mILD_l5_o1_v02.E500-TDR_ws.I250126.P2f_z_bhabhang.eL.pL.n001.d_dstm_10602_0.slcio', 1.7215996e+09, 1.7215997e+09,   87.4801  , 0),\n",
       "       ('finished',   1, '2f_Z_bhabhaNg', '2f_z_bhabhang', -1,  1, '/pnfs/desy.de/ilc/prod/ilc/ild/copy/dst-merged/500-TDR_ws/2f_Z_bhabhaNg/ILD_l5_o1_v02/v02-00-01/rv02-00-01.sv02-00-01.mILD_l5_o1_v02.E500-TDR_ws.I250127.P2f_z_bhabhang.eL.pR.n001.d_dstm_10609_0.slcio', 1.7215996e+09, 1.7215997e+09,   93.96858 , 0),\n",
       "       ('finished',   2, '2f_Z_bhabhaNg', '2f_z_bhabhang',  1, -1, '/pnfs/desy.de/ilc/prod/ilc/ild/copy/dst-merged/500-TDR_ws/2f_Z_bhabhaNg/ILD_l5_o1_v02/v02-00-01/rv02-00-01.sv02-00-01.mILD_l5_o1_v02.E500-TDR_ws.I250128.P2f_z_bhabhang.eR.pL.n001.d_dstm_10618_0.slcio', 1.7215996e+09, 1.7215997e+09,   78.44456 , 0),\n",
       "       ('finished',   3, '2f_Z_bhabhaNg', '2f_z_bhabhang',  1,  1, '/pnfs/desy.de/ilc/prod/ilc/ild/copy/dst-merged/500-TDR_ws/2f_Z_bhabhaNg/ILD_l5_o1_v02/v02-00-01/rv02-00-01.sv02-00-01.mILD_l5_o1_v02.E500-TDR_ws.I250129.P2f_z_bhabhang.eR.pR.n001.d_dstm_10630_0.slcio', 1.7215996e+09, 1.7215997e+09,  120.364716, 0),\n",
       "       ('finished',   4, '2f_Z_bhabhag', '2f_z_bhabhag', -1, -1, '/pnfs/desy.de/ilc/prod/ilc/ild/copy/dst-merged/500-TDR_ws/2f_Z_bhabhag/ILD_l5_o1_v02/v02-00-01/rv02-00-01.sv02-00-01.mILD_l5_o1_v02.E500-TDR_ws.I250101.P2f_z_bhabhag.eL.pL.n001.d_dstm_10366_1.slcio', 1.7215996e+09, 1.7215997e+09,   84.24092 , 0),\n",
       "       ('finished',   5, '2f_Z_bhabhag', '2f_z_bhabhag', -1,  1, '/pnfs/desy.de/ilc/prod/ilc/ild/copy/dst-merged/500-TDR_ws/2f_Z_bhabhag/ILD_l5_o1_v02/v02-00-01/rv02-00-01.sv02-00-01.mILD_l5_o1_v02.E500-TDR_ws.I250102.P2f_z_bhabhag.eL.pR.n001.d_dstm_10366_0.slcio', 1.7215996e+09, 1.7215997e+09,   86.76706 , 0),\n",
       "       ('finished',   6, '2f_Z_bhabhag', '2f_z_bhabhag',  1,  1, '/pnfs/desy.de/ilc/prod/ilc/ild/copy/dst-merged/500-TDR_ws/2f_Z_bhabhag/ILD_l5_o1_v02/v02-00-01/rv02-00-01.sv02-00-01.mILD_l5_o1_v02.E500-TDR_ws.I250103.P2f_z_bhabhag.eR.pR.n001.d_dstm_10366_0.slcio', 1.7215996e+09, 1.7215997e+09,   99.14818 , 0),\n",
       "       ('finished',   7, '2f_Z_bhabhag', '2f_z_bhabhag',  1, -1, '/pnfs/desy.de/ilc/prod/ilc/ild/copy/dst-merged/500-TDR_ws/2f_Z_bhabhag/ILD_l5_o1_v02/v02-00-01/rv02-00-01.sv02-00-01.mILD_l5_o1_v02.E500-TDR_ws.I250104.P2f_z_bhabhag.eR.pL.n001.d_dstm_10366_0.slcio', 1.7215996e+09, 1.7215997e+09,   95.56312 , 0),\n",
       "       ('finished',   8, '2f_Z_hadronic', '2f_z_h', -1,  1, '/pnfs/desy.de/ilc/prod/ilc/ild/copy/dst-merged/500-TDR_ws/2f_Z_hadronic/ILD_l5_o1_v02/v02-00-01/rv02-00-01.sv02-00-01.mILD_l5_o1_v02.E500-TDR_ws.I250114.P2f_z_h.eL.pR.n001.d_dstm_10410_1.slcio', 1.7215996e+09, 1.7216009e+09, 1221.8179  , 0),\n",
       "       ('finished',   9, '2f_Z_hadronic', '2f_z_h',  1, -1, '/pnfs/desy.de/ilc/prod/ilc/ild/copy/dst-merged/500-TDR_ws/2f_Z_hadronic/ILD_l5_o1_v02/v02-00-01/rv02-00-01.sv02-00-01.mILD_l5_o1_v02.E500-TDR_ws.I250116.P2f_z_h.eR.pL.n001.d_dstm_10410_1.slcio', 1.7215996e+09, 1.7216008e+09, 1107.229   , 0),\n",
       "       ('finished',  10, '2f_Z_leptonic', '2f_z_l', -1,  1, '/pnfs/desy.de/ilc/prod/ilc/ild/copy/dst-merged/500-TDR_ws/2f_Z_leptonic/ILD_l5_o1_v02/v02-00-01/rv02-00-01.sv02-00-01.mILD_l5_o1_v02.E500-TDR_ws.I250106.P2f_z_l.eL.pR.n001.d_dstm_10255_0.slcio', 1.7215996e+09, 1.7215997e+09,  111.39908 , 0),\n",
       "       ('finished',  11, '2f_Z_leptonic', '2f_z_l',  1, -1, '/pnfs/desy.de/ilc/prod/ilc/ild/copy/dst-merged/500-TDR_ws/2f_Z_leptonic/ILD_l5_o1_v02/v02-00-01/rv02-00-01.sv02-00-01.mILD_l5_o1_v02.E500-TDR_ws.I250108.P2f_z_l.eR.pL.n001.d_dstm_10255_0.slcio', 1.7215996e+09, 1.7215997e+09,   67.632545, 0),\n",
       "       ('finished',  12, '2f_Z_nuNg', '2f_z_nung', -1,  1, '/pnfs/desy.de/ilc/prod/ilc/ild/copy/dst-merged/500-TDR_ws/2f_Z_nuNg/ILD_l5_o1_v02/v02-00-01/rv02-00-01.sv02-00-01.mILD_l5_o1_v02.E500-TDR_ws.I250130.P2f_z_nung.eL.pR.n001.d_dstm_10589_2.slcio', 1.7215996e+09, 1.7215997e+09,   63.297558, 0),\n",
       "       ('finished',  13, '2f_Z_nuNg', '2f_z_nung',  1, -1, '/pnfs/desy.de/ilc/prod/ilc/ild/copy/dst-merged/500-TDR_ws/2f_Z_nuNg/ILD_l5_o1_v02/v02-00-01/rv02-00-01.sv02-00-01.mILD_l5_o1_v02.E500-TDR_ws.I250131.P2f_z_nung.eR.pL.n001.d_dstm_10589_0.slcio', 1.7215996e+09, 1.7215997e+09,   76.601074, 0),\n",
       "       ('finished',  14, '4f_WW_hadronic', '4f_ww_h', -1,  1, '/pnfs/desy.de/ilc/prod/ilc/ild/copy/dst-merged/500-TDR_ws/4f_WW_hadronic/ILD_l5_o1_v02/v02-00-01/rv02-00-01.sv02-00-01.mILD_l5_o1_v02.E500-TDR_ws.I250006.P4f_ww_h.eL.pR.n001.d_dstm_10398_0.slcio', 1.7215996e+09, 1.7215999e+09,  212.23853 , 0),\n",
       "       ('finished',  15, '4f_WW_hadronic', '4f_ww_h',  1, -1, '/pnfs/desy.de/ilc/prod/ilc/ild/copy/dst-merged/500-TDR_ws/4f_WW_hadronic/ILD_l5_o1_v02/v02-00-01/rv02-00-01.sv02-00-01.mILD_l5_o1_v02.E500-TDR_ws.I250008.P4f_ww_h.eR.pL.n001.d_dstm_10398_0.slcio', 1.7215996e+09, 1.7216001e+09,  442.94342 , 0),\n",
       "       ('finished',  16, '4f_WW_leptonic', '4f_ww_l', -1,  1, '/pnfs/desy.de/ilc/prod/ilc/ild/copy/dst-merged/500-TDR_ws/4f_WW_leptonic/ILD_l5_o1_v02/v02-00-01/rv02-00-01.sv02-00-01.mILD_l5_o1_v02.E500-TDR_ws.I250026.P4f_ww_l.eL.pR.n001.d_dstm_10305_0.slcio', 1.7215996e+09, 1.7215997e+09,   87.411674, 0),\n",
       "       ('finished',  17, '4f_WW_leptonic', '4f_ww_l',  1, -1, '/pnfs/desy.de/ilc/prod/ilc/ild/copy/dst-merged/500-TDR_ws/4f_WW_leptonic/ILD_l5_o1_v02/v02-00-01/rv02-00-01.sv02-00-01.mILD_l5_o1_v02.E500-TDR_ws.I250028.P4f_ww_l.eR.pL.n001.d_dstm_10305_0.slcio', 1.7215996e+09, 1.7215997e+09,  133.86461 , 0),\n",
       "       ('finished',  18, '4f_WW_semileptonic', '4f_ww_sl', -1,  1, '/pnfs/desy.de/ilc/prod/ilc/ild/copy/dst-merged/500-TDR_ws/4f_WW_semileptonic/ILD_l5_o1_v02/v02-00-01/rv02-00-01.sv02-00-01.mILD_l5_o1_v02.E500-TDR_ws.I250018.P4f_ww_sl.eL.pR.n001.d_dstm_10318_1.slcio', 1.7215996e+09, 1.7215997e+09,  151.3082  , 0),\n",
       "       ('finished',  19, '4f_WW_semileptonic', '4f_ww_sl',  1, -1, '/pnfs/desy.de/ilc/prod/ilc/ild/copy/dst-merged/500-TDR_ws/4f_WW_semileptonic/ILD_l5_o1_v02/v02-00-01/rv02-00-01.sv02-00-01.mILD_l5_o1_v02.E500-TDR_ws.I250020.P4f_ww_sl.eR.pL.n001.d_dstm_10318_0.slcio', 1.7215996e+09, 1.7216000e+09,  335.19278 , 0),\n",
       "       ('finished',  20, '4f_ZZWWMix_hadronic', '4f_zzorww_h', -1,  1, '/pnfs/desy.de/ilc/prod/ilc/ild/copy/dst-merged/500-TDR_ws/4f_ZZWWMix_hadronic/ILD_l5_o1_v02/v02-00-01/rv02-00-01.sv02-00-01.mILD_l5_o1_v02.E500-TDR_ws.I250010.P4f_zzorww_h.eL.pR.n001.d_dstm_10405_0.slcio', 1.7215997e+09, 1.7216000e+09,  329.56555 , 0),\n",
       "       ('finished',  21, '4f_ZZWWMix_hadronic', '4f_zzorww_h',  1, -1, '/pnfs/desy.de/ilc/prod/ilc/ild/copy/dst-merged/500-TDR_ws/4f_ZZWWMix_hadronic/ILD_l5_o1_v02/v02-00-01/rv02-00-01.sv02-00-01.mILD_l5_o1_v02.E500-TDR_ws.I250012.P4f_zzorww_h.eR.pL.n001.d_dstm_10405_2.slcio', 1.7215996e+09, 1.7215999e+09,  260.85107 , 0),\n",
       "       ('finished',  22, '4f_ZZWWMix_leptonic', '4f_zzorww_l', -1,  1, '/pnfs/desy.de/ilc/prod/ilc/ild/copy/dst-merged/500-TDR_ws/4f_ZZWWMix_leptonic/ILD_l5_o1_v02/v02-00-01/rv02-00-01.sv02-00-01.mILD_l5_o1_v02.E500-TDR_ws.I250030.P4f_zzorww_l.eL.pR.n001.d_dstm_10314_0.slcio', 1.7215996e+09, 1.7215997e+09,  102.56699 , 0),\n",
       "       ('finished',  23, '4f_ZZWWMix_leptonic', '4f_zzorww_l',  1, -1, '/pnfs/desy.de/ilc/prod/ilc/ild/copy/dst-merged/500-TDR_ws/4f_ZZWWMix_leptonic/ILD_l5_o1_v02/v02-00-01/rv02-00-01.sv02-00-01.mILD_l5_o1_v02.E500-TDR_ws.I250032.P4f_zzorww_l.eR.pL.n001.d_dstm_10314_0.slcio', 1.7215996e+09, 1.7215997e+09,   89.39527 , 0),\n",
       "       ('running',  24, '', '',  0,  0, '', 0.0000000e+00, 0.0000000e+00,    0.      , 0),\n",
       "       ('finished',  25, '4f_ZZ_hadronic', '4f_zz_h',  1, -1, '/pnfs/desy.de/ilc/prod/ilc/ild/copy/dst-merged/500-TDR_ws/4f_ZZ_hadronic/ILD_l5_o1_v02/v02-00-01/rv02-00-01.sv02-00-01.mILD_l5_o1_v02.E500-TDR_ws.I250004.P4f_zz_h.eR.pL.n001.d_dstm_10402_0.slcio', 1.7215996e+09, 1.7216018e+09, 2132.133   , 0),\n",
       "       ('finished',  26, '4f_ZZ_leptonic', '4f_zz_l', -1,  1, '/pnfs/desy.de/ilc/prod/ilc/ild/copy/dst-merged/500-TDR_ws/4f_ZZ_leptonic/ILD_l5_o1_v02/v02-00-01/rv02-00-01.sv02-00-01.mILD_l5_o1_v02.E500-TDR_ws.I250022.P4f_zz_l.eL.pR.n001.d_dstm_10310_0.slcio', 1.7215996e+09, 1.7215997e+09,  115.49911 , 0),\n",
       "       ('finished',  27, '4f_ZZ_leptonic', '4f_zz_l',  1, -1, '/pnfs/desy.de/ilc/prod/ilc/ild/copy/dst-merged/500-TDR_ws/4f_ZZ_leptonic/ILD_l5_o1_v02/v02-00-01/rv02-00-01.sv02-00-01.mILD_l5_o1_v02.E500-TDR_ws.I250024.P4f_zz_l.eR.pL.n001.d_dstm_10310_0.slcio', 1.7215996e+09, 1.7215997e+09,  107.4332  , 0),\n",
       "       ('finished',  28, '4f_ZZ_semileptonic', '4f_zz_sl', -1,  1, '/pnfs/desy.de/ilc/prod/ilc/ild/copy/dst-merged/500-TDR_ws/4f_ZZ_semileptonic/ILD_l5_o1_v02/v02-00-01/rv02-00-01.sv02-00-01.mILD_l5_o1_v02.E500-TDR_ws.I250014.P4f_zz_sl.eL.pR.n001.d_dstm_10301_0.slcio', 1.7215996e+09, 1.7216004e+09,  763.46466 , 0),\n",
       "       ('finished',  29, '4f_ZZ_semileptonic', '4f_zz_sl',  1, -1, '/pnfs/desy.de/ilc/prod/ilc/ild/copy/dst-merged/500-TDR_ws/4f_ZZ_semileptonic/ILD_l5_o1_v02/v02-00-01/rv02-00-01.sv02-00-01.mILD_l5_o1_v02.E500-TDR_ws.I250016.P4f_zz_sl.eR.pL.n001.d_dstm_10301_0.slcio', 1.7215996e+09, 1.7216012e+09, 1545.2808  , 0),\n",
       "       ('finished',  30, '4f_lowmee_singleZee_leptonic', '4f_lowmee_sze_l', -1, -1, '/pnfs/desy.de/ilc/prod/ilc/ild/copy/dst-merged/500-TDR_ws/4f_lowmee_singleZee_leptonic/ILD_l5_o1_v02/v02-00-01/rv02-00-01.sv02-00-01.mILD_l5_o1_v02.E500-TDR_ws.I250118.P4f_lowmee_sze_l.eL.pL.n001.d_dstm_10623_0.slcio', 1.7215996e+09, 1.7215996e+09,   31.212433, 0),\n",
       "       ('finished',  31, '4f_lowmee_singleZee_leptonic', '4f_lowmee_sze_l', -1,  1, '/pnfs/desy.de/ilc/prod/ilc/ild/copy/dst-merged/500-TDR_ws/4f_lowmee_singleZee_leptonic/ILD_l5_o1_v02/v02-00-01/rv02-00-01.sv02-00-01.mILD_l5_o1_v02.E500-TDR_ws.I250119.P4f_lowmee_sze_l.eL.pR.n001.d_dstm_10623_0.slcio', 1.7215996e+09, 1.7215997e+09,   87.37545 , 0),\n",
       "       ('finished',  32, '4f_lowmee_singleZee_leptonic', '4f_lowmee_sze_l',  1,  1, '/pnfs/desy.de/ilc/prod/ilc/ild/copy/dst-merged/500-TDR_ws/4f_lowmee_singleZee_leptonic/ILD_l5_o1_v02/v02-00-01/rv02-00-01.sv02-00-01.mILD_l5_o1_v02.E500-TDR_ws.I250120.P4f_lowmee_sze_l.eR.pR.n001.d_dstm_10623_0.slcio', 1.7215996e+09, 1.7215996e+09,   33.858467, 0),\n",
       "       ('finished',  33, '4f_lowmee_singleZee_leptonic', '4f_lowmee_sze_l',  1, -1, '/pnfs/desy.de/ilc/prod/ilc/ild/copy/dst-merged/500-TDR_ws/4f_lowmee_singleZee_leptonic/ILD_l5_o1_v02/v02-00-01/rv02-00-01.sv02-00-01.mILD_l5_o1_v02.E500-TDR_ws.I250121.P4f_lowmee_sze_l.eR.pL.n001.d_dstm_10623_0.slcio', 1.7215996e+09, 1.7215996e+09,   51.29613 , 0),\n",
       "       ('finished',  34, '4f_lowmee_singleZsingleWMix_lept', '4f_lowmee_szeorsw_l', -1,  1, '/pnfs/desy.de/ilc/prod/ilc/ild/copy/dst-merged/500-TDR_ws/4f_lowmee_singleZsingleWMix_leptonic/ILD_l5_o1_v02/v02-00-01/rv02-00-01.sv02-00-01.mILD_l5_o1_v02.E500-TDR_ws.I250123.P4f_lowmee_szeorsw_l.eL.pR.n001.d_dstm_10625_0.slcio', 1.7215996e+09, 1.7215997e+09,   77.74916 , 0),\n",
       "       ('finished',  35, '4f_lowmee_singleZsingleWMix_lept', '4f_lowmee_szeorsw_l',  1,  1, '/pnfs/desy.de/ilc/prod/ilc/ild/copy/dst-merged/500-TDR_ws/4f_lowmee_singleZsingleWMix_leptonic/ILD_l5_o1_v02/v02-00-01/rv02-00-01.sv02-00-01.mILD_l5_o1_v02.E500-TDR_ws.I250124.P4f_lowmee_szeorsw_l.eR.pR.n001.d_dstm_10625_0.slcio', 1.7215996e+09, 1.7215996e+09,   42.16532 , 0),\n",
       "       ('finished',  36, '4f_lowmee_singleZsingleWMix_lept', '4f_lowmee_szeorsw_l',  1, -1, '/pnfs/desy.de/ilc/prod/ilc/ild/copy/dst-merged/500-TDR_ws/4f_lowmee_singleZsingleWMix_leptonic/ILD_l5_o1_v02/v02-00-01/rv02-00-01.sv02-00-01.mILD_l5_o1_v02.E500-TDR_ws.I250125.P4f_lowmee_szeorsw_l.eR.pL.n001.d_dstm_10625_0.slcio', 1.7215996e+09, 1.7215997e+09,   50.485912, 0),\n",
       "       ('finished',  37, '4f_singleW_leptonic', '4f_sw_l', -1, -1, '/pnfs/desy.de/ilc/prod/ilc/ild/copy/dst-merged/500-TDR_ws/4f_singleW_leptonic/ILD_l5_o1_v02/v02-00-01/rv02-00-01.sv02-00-01.mILD_l5_o1_v02.E500-TDR_ws.I250045.P4f_sw_l.eL.pL.n001.d_dstm_10267_0.slcio', 1.7215996e+09, 1.7215997e+09,   92.623726, 0),\n",
       "       ('finished',  38, '4f_singleW_leptonic', '4f_sw_l', -1,  1, '/pnfs/desy.de/ilc/prod/ilc/ild/copy/dst-merged/500-TDR_ws/4f_singleW_leptonic/ILD_l5_o1_v02/v02-00-01/rv02-00-01.sv02-00-01.mILD_l5_o1_v02.E500-TDR_ws.I250046.P4f_sw_l.eL.pR.n001.d_dstm_10267_1.slcio', 1.7215996e+09, 1.7215997e+09,   99.88899 , 0),\n",
       "       ('finished',  39, '4f_singleW_leptonic', '4f_sw_l',  1,  1, '/pnfs/desy.de/ilc/prod/ilc/ild/copy/dst-merged/500-TDR_ws/4f_singleW_leptonic/ILD_l5_o1_v02/v02-00-01/rv02-00-01.sv02-00-01.mILD_l5_o1_v02.E500-TDR_ws.I250047.P4f_sw_l.eR.pR.n001.d_dstm_10267_0.slcio', 1.7215996e+09, 1.7215997e+09,   86.51166 , 0),\n",
       "       ('finished',  40, '4f_singleW_semileptonic', '4f_sw_sl', -1, -1, '/pnfs/desy.de/ilc/prod/ilc/ild/copy/dst-merged/500-TDR_ws/4f_singleW_semileptonic/ILD_l5_o1_v02/v02-00-01/rv02-00-01.sv02-00-01.mILD_l5_o1_v02.E500-TDR_ws.I250041.P4f_sw_sl.eL.pL.n001.d_dstm_10417_1.slcio', 1.7215996e+09, 1.7215997e+09,  170.65582 , 0),\n",
       "       ('finished',  41, '4f_singleW_semileptonic', '4f_sw_sl', -1,  1, '/pnfs/desy.de/ilc/prod/ilc/ild/copy/dst-merged/500-TDR_ws/4f_singleW_semileptonic/ILD_l5_o1_v02/v02-00-01/rv02-00-01.sv02-00-01.mILD_l5_o1_v02.E500-TDR_ws.I250042.P4f_sw_sl.eL.pR.n001.d_dstm_10417_1.slcio', 1.7215996e+09, 1.7215999e+09,  183.53139 , 0),\n",
       "       ('finished',  42, '4f_singleW_semileptonic', '4f_sw_sl',  1,  1, '/pnfs/desy.de/ilc/prod/ilc/ild/copy/dst-merged/500-TDR_ws/4f_singleW_semileptonic/ILD_l5_o1_v02/v02-00-01/rv02-00-01.sv02-00-01.mILD_l5_o1_v02.E500-TDR_ws.I250043.P4f_sw_sl.eR.pR.n001.d_dstm_10417_0.slcio', 1.7215996e+09, 1.7215999e+09,  178.35567 , 0),\n",
       "       ('finished',  43, '4f_singleW_semileptonic', '4f_sw_sl',  1, -1, '/pnfs/desy.de/ilc/prod/ilc/ild/copy/dst-merged/500-TDR_ws/4f_singleW_semileptonic/ILD_l5_o1_v02/v02-00-01/rv02-00-01.sv02-00-01.mILD_l5_o1_v02.E500-TDR_ws.I250044.P4f_sw_sl.eR.pL.n001.d_dstm_10417_0.slcio', 1.7215996e+09, 1.7215999e+09,  268.1586  , 0),\n",
       "       ('finished',  44, '4f_singleZee_leptonic', '4f_sze_l', -1, -1, '/pnfs/desy.de/ilc/prod/ilc/ild/copy/dst-merged/500-TDR_ws/4f_singleZee_leptonic/ILD_l5_o1_v02/v02-00-01/rv02-00-01.sv02-00-01.mILD_l5_o1_v02.E500-TDR_ws.I250033.P4f_sze_l.eL.pL.n001.d_dstm_10442_0.slcio', 1.7215996e+09, 1.7215997e+09,   78.026695, 0),\n",
       "       ('finished',  45, '4f_singleZee_leptonic', '4f_sze_l', -1,  1, '/pnfs/desy.de/ilc/prod/ilc/ild/copy/dst-merged/500-TDR_ws/4f_singleZee_leptonic/ILD_l5_o1_v02/v02-00-01/rv02-00-01.sv02-00-01.mILD_l5_o1_v02.E500-TDR_ws.I250034.P4f_sze_l.eL.pR.n001.d_dstm_10446_0.slcio', 1.7215996e+09, 1.7215997e+09,   80.212814, 0),\n",
       "       ('finished',  46, '4f_singleZee_leptonic', '4f_sze_l',  1,  1, '/pnfs/desy.de/ilc/prod/ilc/ild/copy/dst-merged/500-TDR_ws/4f_singleZee_leptonic/ILD_l5_o1_v02/v02-00-01/rv02-00-01.sv02-00-01.mILD_l5_o1_v02.E500-TDR_ws.I250035.P4f_sze_l.eR.pR.n001.d_dstm_10450_0.slcio', 1.7215996e+09, 1.7215997e+09,   88.97293 , 0),\n",
       "       ('finished',  47, '4f_singleZee_leptonic', '4f_sze_l',  1, -1, '/pnfs/desy.de/ilc/prod/ilc/ild/copy/dst-merged/500-TDR_ws/4f_singleZee_leptonic/ILD_l5_o1_v02/v02-00-01/rv02-00-01.sv02-00-01.mILD_l5_o1_v02.E500-TDR_ws.I250036.P4f_sze_l.eR.pL.n001.d_dstm_10475_1.slcio', 1.7215996e+09, 1.7215997e+09,   86.09781 , 0),\n",
       "       ('finished',  48, '4f_singleZee_semileptonic', '4f_sze_sl', -1, -1, '/pnfs/desy.de/ilc/prod/ilc/ild/copy/dst-merged/500-TDR_ws/4f_singleZee_semileptonic/ILD_l5_o1_v02/v02-00-01/rv02-00-01.sv02-00-01.mILD_l5_o1_v02.E500-TDR_ws.I250037.P4f_sze_sl.eL.pL.n001.d_dstm_10421_1.slcio', 1.7215996e+09, 1.7216000e+09,  370.8409  , 0),\n",
       "       ('finished',  49, '4f_singleZee_semileptonic', '4f_sze_sl', -1,  1, '/pnfs/desy.de/ilc/prod/ilc/ild/copy/dst-merged/500-TDR_ws/4f_singleZee_semileptonic/ILD_l5_o1_v02/v02-00-01/rv02-00-01.sv02-00-01.mILD_l5_o1_v02.E500-TDR_ws.I250038.P4f_sze_sl.eL.pR.n001.d_dstm_10421_1.slcio', 1.7215996e+09, 1.7215999e+09,  243.76671 , 0),\n",
       "       ('finished',  50, '4f_singleZee_semileptonic', '4f_sze_sl',  1,  1, '/pnfs/desy.de/ilc/prod/ilc/ild/copy/dst-merged/500-TDR_ws/4f_singleZee_semileptonic/ILD_l5_o1_v02/v02-00-01/rv02-00-01.sv02-00-01.mILD_l5_o1_v02.E500-TDR_ws.I250039.P4f_sze_sl.eR.pR.n001.d_dstm_10421_0.slcio', 1.7215996e+09, 1.7215999e+09,  301.5906  , 0),\n",
       "       ('finished',  51, '4f_singleZee_semileptonic', '4f_sze_sl',  1, -1, '/pnfs/desy.de/ilc/prod/ilc/ild/copy/dst-merged/500-TDR_ws/4f_singleZee_semileptonic/ILD_l5_o1_v02/v02-00-01/rv02-00-01.sv02-00-01.mILD_l5_o1_v02.E500-TDR_ws.I250040.P4f_sze_sl.eR.pL.n001.d_dstm_10421_0.slcio', 1.7215996e+09, 1.7215999e+09,  237.84569 , 0),\n",
       "       ('finished',  52, '4f_singleZnunu_leptonic', '4f_sznu_l', -1,  1, '/pnfs/desy.de/ilc/prod/ilc/ild/copy/dst-merged/500-TDR_ws/4f_singleZnunu_leptonic/ILD_l5_o1_v02/v02-00-01/rv02-00-01.sv02-00-01.mILD_l5_o1_v02.E500-TDR_ws.I250054.P4f_sznu_l.eL.pR.n001.d_dstm_10290_0.slcio', 1.7215996e+09, 1.7215997e+09,   84.5461  , 0),\n",
       "       ('finished',  53, '4f_singleZnunu_leptonic', '4f_sznu_l',  1, -1, '/pnfs/desy.de/ilc/prod/ilc/ild/copy/dst-merged/500-TDR_ws/4f_singleZnunu_leptonic/ILD_l5_o1_v02/v02-00-01/rv02-00-01.sv02-00-01.mILD_l5_o1_v02.E500-TDR_ws.I250056.P4f_sznu_l.eR.pL.n001.d_dstm_10290_0.slcio', 1.7215996e+09, 1.7215997e+09,   90.45171 , 0),\n",
       "       ('finished',  54, '4f_singleZnunu_semileptonic', '4f_sznu_sl', -1,  1, '/pnfs/desy.de/ilc/prod/ilc/ild/copy/dst-merged/500-TDR_ws/4f_singleZnunu_semileptonic/ILD_l5_o1_v02/v02-00-01/rv02-00-01.sv02-00-01.mILD_l5_o1_v02.E500-TDR_ws.I250058.P4f_sznu_sl.eL.pR.n002.d_dstm_10425_4.slcio', 1.7215996e+09, 1.7216008e+09, 1179.707   , 0),\n",
       "       ('finished',  55, '4f_singleZnunu_semileptonic', '4f_sznu_sl',  1, -1, '/pnfs/desy.de/ilc/prod/ilc/ild/copy/dst-merged/500-TDR_ws/4f_singleZnunu_semileptonic/ILD_l5_o1_v02/v02-00-01/rv02-00-01.sv02-00-01.mILD_l5_o1_v02.E500-TDR_ws.I250060.P4f_sznu_sl.eR.pL.n001.d_dstm_10425_0.slcio', 1.7215996e+09, 1.7216009e+09, 1267.6635  , 0),\n",
       "       ('finished',  56, '4f_singleZsingleWMix_leptonic', '4f_szeorsw_l', -1, -1, '/pnfs/desy.de/ilc/prod/ilc/ild/copy/dst-merged/500-TDR_ws/4f_singleZsingleWMix_leptonic/ILD_l5_o1_v02/v02-00-01/rv02-00-01.sv02-00-01.mILD_l5_o1_v02.E500-TDR_ws.I250049.P4f_szeorsw_l.eL.pL.n001.d_dstm_10293_0.slcio', 1.7215996e+09, 1.7215997e+09,   75.57664 , 0),\n",
       "       ('finished',  57, '4f_singleZsingleWMix_leptonic', '4f_szeorsw_l', -1,  1, '/pnfs/desy.de/ilc/prod/ilc/ild/copy/dst-merged/500-TDR_ws/4f_singleZsingleWMix_leptonic/ILD_l5_o1_v02/v02-00-01/rv02-00-01.sv02-00-01.mILD_l5_o1_v02.E500-TDR_ws.I250050.P4f_szeorsw_l.eL.pR.n001.d_dstm_10293_0.slcio', 1.7215996e+09, 1.7215997e+09,   74.43265 , 0),\n",
       "       ('finished',  58, '4f_singleZsingleWMix_leptonic', '4f_szeorsw_l',  1,  1, '/pnfs/desy.de/ilc/prod/ilc/ild/copy/dst-merged/500-TDR_ws/4f_singleZsingleWMix_leptonic/ILD_l5_o1_v02/v02-00-01/rv02-00-01.sv02-00-01.mILD_l5_o1_v02.E500-TDR_ws.I250051.P4f_szeorsw_l.eR.pR.n001.d_dstm_10293_0.slcio', 1.7215996e+09, 1.7215997e+09,   69.9468  , 0),\n",
       "       ('finished',  59, '4f_singleZsingleWMix_leptonic', '4f_szeorsw_l',  1, -1, '/pnfs/desy.de/ilc/prod/ilc/ild/copy/dst-merged/500-TDR_ws/4f_singleZsingleWMix_leptonic/ILD_l5_o1_v02/v02-00-01/rv02-00-01.sv02-00-01.mILD_l5_o1_v02.E500-TDR_ws.I250052.P4f_szeorsw_l.eR.pL.n001.d_dstm_10293_0.slcio', 1.7215996e+09, 1.7215997e+09,   74.15132 , 0),\n",
       "       ('finished',  60, '6f_eeWW', 'eeveev', -1, -1, '/pnfs/desy.de/ilc/prod/ilc/ild/copy/dst-merged/500-TDR_ws/6f_eeWW/ILD_l5_o1_v02/v02-00-01/rv02-00-01.sv02-00-01.mILD_l5_o1_v02.E500-TDR_ws.I108619.Peeveev.eL.pL.n001.d_dstm_10322_0.slcio', 1.7215996e+09, 1.7215997e+09,   55.763325, 0),\n",
       "       ('finished',  61, '6f_eeWW', 'eeveev', -1,  1, '/pnfs/desy.de/ilc/prod/ilc/ild/copy/dst-merged/500-TDR_ws/6f_eeWW/ILD_l5_o1_v02/v02-00-01/rv02-00-01.sv02-00-01.mILD_l5_o1_v02.E500-TDR_ws.I108620.Peeveev.eL.pR.n001.d_dstm_10322_0.slcio', 1.7215996e+09, 1.7215997e+09,   56.653038, 0),\n",
       "       ('finished',  62, '6f_eeWW', 'eeveev',  1, -1, '/pnfs/desy.de/ilc/prod/ilc/ild/copy/dst-merged/500-TDR_ws/6f_eeWW/ILD_l5_o1_v02/v02-00-01/rv02-00-01.sv02-00-01.mILD_l5_o1_v02.E500-TDR_ws.I108621.Peeveev.eR.pL.n001.d_dstm_10322_0.slcio', 1.7215996e+09, 1.7215997e+09,   93.97488 , 0),\n",
       "       ('finished',  63, '6f_eeWW', 'eeveev',  1,  1, '/pnfs/desy.de/ilc/prod/ilc/ild/copy/dst-merged/500-TDR_ws/6f_eeWW/ILD_l5_o1_v02/v02-00-01/rv02-00-01.sv02-00-01.mILD_l5_o1_v02.E500-TDR_ws.I108622.Peeveev.eR.pR.n001.d_dstm_10322_0.slcio', 1.7215996e+09, 1.7215997e+09,   91.35259 , 0),\n",
       "       ('finished',  64, '6f_llWW', 'llvelv', -1, -1, '/pnfs/desy.de/ilc/prod/ilc/ild/copy/dst-merged/500-TDR_ws/6f_llWW/ILD_l5_o1_v02/v02-00-01/rv02-00-01.sv02-00-01.mILD_l5_o1_v02.E500-TDR_ws.I108575.Pllvelv.eL.pL.n001.d_dstm_10358_0.slcio', 1.7215996e+09, 1.7215997e+09,  115.00755 , 0),\n",
       "       ('finished',  65, '6f_llWW', 'llvelv', -1,  1, '/pnfs/desy.de/ilc/prod/ilc/ild/copy/dst-merged/500-TDR_ws/6f_llWW/ILD_l5_o1_v02/v02-00-01/rv02-00-01.sv02-00-01.mILD_l5_o1_v02.E500-TDR_ws.I108576.Pllvelv.eL.pR.n001.d_dstm_10358_0.slcio', 1.7215996e+09, 1.7215997e+09,  125.03564 , 0),\n",
       "       ('finished',  66, '6f_llWW', 'llvelv',  1, -1, '/pnfs/desy.de/ilc/prod/ilc/ild/copy/dst-merged/500-TDR_ws/6f_llWW/ILD_l5_o1_v02/v02-00-01/rv02-00-01.sv02-00-01.mILD_l5_o1_v02.E500-TDR_ws.I108577.Pllvelv.eR.pL.n001.d_dstm_10358_0.slcio', 1.7215996e+09, 1.7215997e+09,  150.14224 , 0),\n",
       "       ('finished',  67, '6f_llWW', 'llxyev',  1,  1, '/pnfs/desy.de/ilc/prod/ilc/ild/copy/dst-merged/500-TDR_ws/6f_llWW/ILD_l5_o1_v02/v02-00-01/rv02-00-01.sv02-00-01.mILD_l5_o1_v02.E500-TDR_ws.I108588.Pllxyev.eR.pR.n001.d_dstm_10358_0.slcio', 1.7215996e+09, 1.7215999e+09,  229.01263 , 0),\n",
       "       ('finished',  68, '6f_ttbar', 'yyveev', -1, -1, '/pnfs/desy.de/ilc/prod/ilc/ild/copy/dst-merged/500-TDR_ws/6f_ttbar/ILD_l5_o1_v02/v02-00-01/rv02-00-01.sv02-00-01.mILD_l5_o1_v02.E500-TDR_ws.I108655.Pyyveev.eL.pL.n001.d_dstm_10271_0.slcio', 1.7215996e+09, 1.7216018e+09, 2163.819   , 0),\n",
       "       ('running',  69, '', '',  0,  0, '', 0.0000000e+00, 0.0000000e+00,    0.      , 0),\n",
       "       ('running',  70, '', '',  0,  0, '', 0.0000000e+00, 0.0000000e+00,    0.      , 0),\n",
       "       ('finished',  71, '6f_ttbar', 'yyveev',  1,  1, '/pnfs/desy.de/ilc/prod/ilc/ild/copy/dst-merged/500-TDR_ws/6f_ttbar/ILD_l5_o1_v02/v02-00-01/rv02-00-01.sv02-00-01.mILD_l5_o1_v02.E500-TDR_ws.I108658.Pyyveev.eR.pR.n001.d_dstm_10271_0.slcio', 1.7215996e+09, 1.7216018e+09, 2218.9727  , 0),\n",
       "       ('finished',  72, '6f_vvWW', 'vvveev', -1, -1, '/pnfs/desy.de/ilc/prod/ilc/ild/copy/dst-merged/500-TDR_ws/6f_vvWW/ILD_l5_o1_v02/v02-00-01/rv02-00-01.sv02-00-01.mILD_l5_o1_v02.E500-TDR_ws.I108595.Pvvveev.eL.pL.n001.d_dstm_10354_0.slcio', 1.7215996e+09, 1.7215997e+09,   93.592804, 0),\n",
       "       ('finished',  73, '6f_vvWW', 'vvveev', -1,  1, '/pnfs/desy.de/ilc/prod/ilc/ild/copy/dst-merged/500-TDR_ws/6f_vvWW/ILD_l5_o1_v02/v02-00-01/rv02-00-01.sv02-00-01.mILD_l5_o1_v02.E500-TDR_ws.I108596.Pvvveev.eL.pR.n001.d_dstm_10354_0.slcio', 1.7215996e+09, 1.7215997e+09,   97.657295, 0),\n",
       "       ('finished',  74, '6f_vvWW', 'vvveev',  1, -1, '/pnfs/desy.de/ilc/prod/ilc/ild/copy/dst-merged/500-TDR_ws/6f_vvWW/ILD_l5_o1_v02/v02-00-01/rv02-00-01.sv02-00-01.mILD_l5_o1_v02.E500-TDR_ws.I108597.Pvvveev.eR.pL.n001.d_dstm_10354_0.slcio', 1.7215996e+09, 1.7215997e+09,  101.18729 , 0),\n",
       "       ('finished',  75, '6f_vvWW', 'vvvlev',  1,  1, '/pnfs/desy.de/ilc/prod/ilc/ild/copy/dst-merged/500-TDR_ws/6f_vvWW/ILD_l5_o1_v02/v02-00-01/rv02-00-01.sv02-00-01.mILD_l5_o1_v02.E500-TDR_ws.I108604.Pvvvlev.eR.pR.n001.d_dstm_10349_0.slcio', 1.7215996e+09, 1.7215997e+09,  108.77366 , 0),\n",
       "       ('finished',  76, '6f_xxWW', 'xxveev', -1, -1, '/pnfs/desy.de/ilc/prod/ilc/ild/copy/dst-merged/500-TDR_ws/6f_xxWW/ILD_l5_o1_v02/v02-00-01/rv02-00-01.sv02-00-01.mILD_l5_o1_v02.E500-TDR_ws.I108501.Pxxveev.eL.pL.n001.d_dstm_10346_0.slcio', 1.7215996e+09, 1.7215999e+09,  244.81726 , 0),\n",
       "       ('finished',  77, '6f_xxWW', 'xxveev', -1,  1, '/pnfs/desy.de/ilc/prod/ilc/ild/copy/dst-merged/500-TDR_ws/6f_xxWW/ILD_l5_o1_v02/v02-00-01/rv02-00-01.sv02-00-01.mILD_l5_o1_v02.E500-TDR_ws.I108502.Pxxveev.eL.pR.n001.d_dstm_10346_0.slcio', 1.7215996e+09, 1.7215999e+09,  265.67563 , 0),\n",
       "       ('finished',  78, '6f_xxWW', 'xxveev',  1, -1, '/pnfs/desy.de/ilc/prod/ilc/ild/copy/dst-merged/500-TDR_ws/6f_xxWW/ILD_l5_o1_v02/v02-00-01/rv02-00-01.sv02-00-01.mILD_l5_o1_v02.E500-TDR_ws.I108503.Pxxveev.eR.pL.n001.d_dstm_10346_0.slcio', 1.7215996e+09, 1.7216000e+09,  365.10538 , 0),\n",
       "       ('finished',  79, '6f_xxWW', 'xxveev',  1,  1, '/pnfs/desy.de/ilc/prod/ilc/ild/copy/dst-merged/500-TDR_ws/6f_xxWW/ILD_l5_o1_v02/v02-00-01/rv02-00-01.sv02-00-01.mILD_l5_o1_v02.E500-TDR_ws.I108504.Pxxveev.eR.pR.n001.d_dstm_10346_0.slcio', 1.7215996e+09, 1.7215999e+09,  255.47104 , 0),\n",
       "       ('finished',  80, '6f_xxxxZ', 'vvvvxx', -1,  1, '/pnfs/desy.de/ilc/prod/ilc/ild/copy/dst-merged/500-TDR_ws/6f_xxxxZ/ILD_l5_o1_v02/v02-00-01/rv02-00-01.sv02-00-01.mILD_l5_o1_v02.E500-TDR_ws.I108523.Pvvvvxx.eL.pR.n001.d_dstm_10338_0.slcio', 1.7215996e+09, 1.7215999e+09,  243.13715 , 0),\n",
       "       ('finished',  81, '6f_xxxxZ', 'xxxxee', -1, -1, '/pnfs/desy.de/ilc/prod/ilc/ild/copy/dst-merged/500-TDR_ws/6f_xxxxZ/ILD_l5_o1_v02/v02-00-01/rv02-00-01.sv02-00-01.mILD_l5_o1_v02.E500-TDR_ws.I108527.Pxxxxee.eL.pL.n001.d_dstm_10338_0.slcio', 1.7215996e+09, 1.7216000e+09,  307.36957 , 0),\n",
       "       ('finished',  82, '6f_xxxxZ', 'xxxxee',  1, -1, '/pnfs/desy.de/ilc/prod/ilc/ild/copy/dst-merged/500-TDR_ws/6f_xxxxZ/ILD_l5_o1_v02/v02-00-01/rv02-00-01.sv02-00-01.mILD_l5_o1_v02.E500-TDR_ws.I108529.Pxxxxee.eR.pL.n001.d_dstm_10338_0.slcio', 1.7215996e+09, 1.7216000e+09,  320.2121  , 0),\n",
       "       ('finished',  83, '6f_xxxxZ', 'xxxxee',  1,  1, '/pnfs/desy.de/ilc/prod/ilc/ild/copy/dst-merged/500-TDR_ws/6f_xxxxZ/ILD_l5_o1_v02/v02-00-01/rv02-00-01.sv02-00-01.mILD_l5_o1_v02.E500-TDR_ws.I108530.Pxxxxee.eR.pR.n001.d_dstm_10338_0.slcio', 1.7215996e+09, 1.7216000e+09,  317.43832 , 0),\n",
       "       ('finished',  84, '6f_yyyyZ', 'eeeeee', -1, -1, '/pnfs/desy.de/ilc/prod/ilc/ild/copy/dst-merged/500-TDR_ws/6f_yyyyZ/ILD_l5_o1_v02/v02-00-01/rv02-00-01.sv02-00-01.mILD_l5_o1_v02.E500-TDR_ws.I108537.Peeeeee.eL.pL.n001.d_dstm_10330_0.slcio', 1.7215996e+09, 1.7215997e+09,  107.409256, 0),\n",
       "       ('finished',  85, '6f_yyyyZ', 'eeeeee', -1,  1, '/pnfs/desy.de/ilc/prod/ilc/ild/copy/dst-merged/500-TDR_ws/6f_yyyyZ/ILD_l5_o1_v02/v02-00-01/rv02-00-01.sv02-00-01.mILD_l5_o1_v02.E500-TDR_ws.I108538.Peeeeee.eL.pR.n001.d_dstm_10330_0.slcio', 1.7215996e+09, 1.7215997e+09,  109.37315 , 0),\n",
       "       ('finished',  86, '6f_yyyyZ', 'eeeeee',  1, -1, '/pnfs/desy.de/ilc/prod/ilc/ild/copy/dst-merged/500-TDR_ws/6f_yyyyZ/ILD_l5_o1_v02/v02-00-01/rv02-00-01.sv02-00-01.mILD_l5_o1_v02.E500-TDR_ws.I108539.Peeeeee.eR.pL.n001.d_dstm_10330_0.slcio', 1.7215996e+09, 1.7215997e+09,  113.81862 , 0),\n",
       "       ('finished',  87, '6f_yyyyZ', 'eeeeee',  1,  1, '/pnfs/desy.de/ilc/prod/ilc/ild/copy/dst-merged/500-TDR_ws/6f_yyyyZ/ILD_l5_o1_v02/v02-00-01/rv02-00-01.sv02-00-01.mILD_l5_o1_v02.E500-TDR_ws.I108540.Peeeeee.eR.pR.n001.d_dstm_10330_0.slcio', 1.7215996e+09, 1.7215997e+09,  106.56556 , 0),\n",
       "       ('running',  88, '', '',  0,  0, '', 0.0000000e+00, 0.0000000e+00,    0.      , 0),\n",
       "       ('running',  89, '', '',  0,  0, '', 0.0000000e+00, 0.0000000e+00,    0.      , 0),\n",
       "       ('running',  90, '', '',  0,  0, '', 0.0000000e+00, 0.0000000e+00,    0.      , 0),\n",
       "       ('running',  91, '', '',  0,  0, '', 0.0000000e+00, 0.0000000e+00,    0.      , 0),\n",
       "       ('running',  92, '', '',  0,  0, '', 0.0000000e+00, 0.0000000e+00,    0.      , 0),\n",
       "       ('running',  93, '', '',  0,  0, '', 0.0000000e+00, 0.0000000e+00,    0.      , 0),\n",
       "       ('running',  94, '', '',  0,  0, '', 0.0000000e+00, 0.0000000e+00,    0.      , 0),\n",
       "       ('running',  95, '', '',  0,  0, '', 0.0000000e+00, 0.0000000e+00,    0.      , 0),\n",
       "       ('running',  96, '', '',  0,  0, '', 0.0000000e+00, 0.0000000e+00,    0.      , 0),\n",
       "       ('running',  97, '', '',  0,  0, '', 0.0000000e+00, 0.0000000e+00,    0.      , 0),\n",
       "       ('running',  98, '', '',  0,  0, '', 0.0000000e+00, 0.0000000e+00,    0.      , 0),\n",
       "       ('running',  99, '', '',  0,  0, '', 0.0000000e+00, 0.0000000e+00,    0.      , 0),\n",
       "       ('running', 100, '', '',  0,  0, '', 0.0000000e+00, 0.0000000e+00,    0.      , 0),\n",
       "       ('running', 101, '', '',  0,  0, '', 0.0000000e+00, 0.0000000e+00,    0.      , 0),\n",
       "       ('running', 102, '', '',  0,  0, '', 0.0000000e+00, 0.0000000e+00,    0.      , 0),\n",
       "       ('running', 103, '', '',  0,  0, '', 0.0000000e+00, 0.0000000e+00,    0.      , 0),\n",
       "       ('running', 104, '', '',  0,  0, '', 0.0000000e+00, 0.0000000e+00,    0.      , 0),\n",
       "       ('running', 105, '', '',  0,  0, '', 0.0000000e+00, 0.0000000e+00,    0.      , 0),\n",
       "       ('running', 106, '', '',  0,  0, '', 0.0000000e+00, 0.0000000e+00,    0.      , 0),\n",
       "       ('running', 107, '', '',  0,  0, '', 0.0000000e+00, 0.0000000e+00,    0.      , 0),\n",
       "       ('running', 108, '', '',  0,  0, '', 0.0000000e+00, 0.0000000e+00,    0.      , 0),\n",
       "       ('running', 109, '', '',  0,  0, '', 0.0000000e+00, 0.0000000e+00,    0.      , 0),\n",
       "       ('running', 110, '', '',  0,  0, '', 0.0000000e+00, 0.0000000e+00,    0.      , 0),\n",
       "       ('running', 111, '', '',  0,  0, '', 0.0000000e+00, 0.0000000e+00,    0.      , 0),\n",
       "       ('running', 112, '', '',  0,  0, '', 0.0000000e+00, 0.0000000e+00,    0.      , 0),\n",
       "       ('running', 113, '', '',  0,  0, '', 0.0000000e+00, 0.0000000e+00,    0.      , 0),\n",
       "       ('running', 114, '', '',  0,  0, '', 0.0000000e+00, 0.0000000e+00,    0.      , 0),\n",
       "       ('running', 115, '', '',  0,  0, '', 0.0000000e+00, 0.0000000e+00,    0.      , 0)],\n",
       "      dtype=[('status', '<U16'), ('branch', '<i4'), ('loc', '<U32'), ('process', '<U32'), ('pol_e', '<i4'), ('pol_p', '<i4'), ('src', '<U255'), ('tStart', '<f4'), ('tEnd', '<f4'), ('tDuration', '<f4'), ('exitCode', '<i4')])"
      ]
     },
     "execution_count": 5,
     "metadata": {},
     "output_type": "execute_result"
    }
   ],
   "source": [
    "results"
   ]
  },
  {
   "cell_type": "code",
   "execution_count": 170,
   "metadata": {},
   "outputs": [
    {
     "data": {
      "text/plain": [
       "dtype([('status', '<U16'), ('branch', '<i4'), ('loc', '<U32'), ('process', '<U32'), ('pol_e', '<i4'), ('pol_p', '<i4'), ('src', '<U255'), ('tStart', '<f4'), ('tEnd', '<f4'), ('tDuration', '<f4'), ('exitCode', '<i4')])"
      ]
     },
     "execution_count": 170,
     "metadata": {},
     "output_type": "execute_result"
    }
   ],
   "source": [
    "results.dtype"
   ]
  },
  {
   "cell_type": "code",
   "execution_count": 171,
   "metadata": {},
   "outputs": [
    {
     "data": {
      "text/plain": [
       "array([('hh', 'e1e1qqh',  1,  1, 1866.8632),\n",
       "       ('hh', 'e2e2hh', -1,  1, 2025.1527),\n",
       "       ('hh', 'e2e2hh',  1, -1, 2037.1294),\n",
       "       ('hh', 'n1n1hh',  1, -1, 2196.8389),\n",
       "       ('hh', 'e3e3hh', -1,  1, 2196.8726),\n",
       "       ('hh', 'qqqqh', -1,  1, 2213.761 ),\n",
       "       ('hh', 'e1e1qqh', -1, -1, 2235.6978),\n",
       "       ('6f_ttbar', 'yyveev', -1,  1, 2261.2031),\n",
       "       ('4f_ZZ_hadronic', '4f_zz_h', -1,  1, 2308.8687),\n",
       "       ('6f_ttbar', 'yyveev',  1, -1, 2389.0977),\n",
       "       ('hh', 'n1n1hh', -1,  1, 2393.8633),\n",
       "       ('hh', 'e3e3hh',  1, -1, 2464.3025),\n",
       "       ('hh', 'qqqqh',  1, -1, 2761.6877),\n",
       "       ('hh', 'n1n1qqh', -1,  1, 2975.173 ),\n",
       "       ('hh', 'n1n1qqh',  1, -1, 2997.345 ),\n",
       "       ('hh', 'n23n23qqh',  1, -1, 3160.3406),\n",
       "       ('hh', 'e1e1hh', -1, -1, 3358.022 ),\n",
       "       ('hh', 'n23n23qqh', -1,  1, 3457.6848),\n",
       "       ('hh', 'e1e1hh',  1, -1, 3565.2056),\n",
       "       ('hh', 'e1e1hh', -1,  1, 3722.674 ),\n",
       "       ('hh', 'e1e1hh',  1,  1, 4573.676 ),\n",
       "       ('hh', 'n23n23hh',  1, -1, 4603.499 ),\n",
       "       ('hh', 'n23n23hh', -1,  1, 4861.395 ),\n",
       "       ('hh', 'qqhh',  1, -1, 4977.4536)],\n",
       "      dtype={'names': ['loc', 'process', 'pol_e', 'pol_p', 'tDuration'], 'formats': ['<U32', '<U32', '<i4', '<i4', '<f4'], 'offsets': [68, 196, 324, 328, 1360], 'itemsize': 1368})"
      ]
     },
     "execution_count": 171,
     "metadata": {},
     "output_type": "execute_result"
    }
   ],
   "source": [
    "np.sort(results.view()[results['tDuration'] > 1800][['loc', 'process', 'pol_e', 'pol_p', 'tDuration']], order=['tDuration'])"
   ]
  },
  {
   "cell_type": "markdown",
   "metadata": {},
   "source": [
    "Final State Analysis"
   ]
  },
  {
   "cell_type": "code",
   "execution_count": 6,
   "metadata": {},
   "outputs": [],
   "source": [
    "def get_fs_errors(branch:int):\n",
    "    try:\n",
    "        with ur.open(f'{DATA_ROOT}/{branch}_FinalStates.root') as rf:\n",
    "            errors = rf['eventTree']['error_code'].array()\n",
    "        \n",
    "        return errors\n",
    "    except:\n",
    "        return []"
   ]
  },
  {
   "cell_type": "code",
   "execution_count": 7,
   "metadata": {},
   "outputs": [
    {
     "name": "stdout",
     "output_type": "stream",
     "text": [
      "Found errors in:\n",
      "Branch 30 | Loc 4f_lowmee_singleZee_leptonic | Process 4f_lowmee_sze_l | CumErr 1176392\n",
      "Branch 31 | Loc 4f_lowmee_singleZee_leptonic | Process 4f_lowmee_sze_l | CumErr 5983994\n",
      "Branch 32 | Loc 4f_lowmee_singleZee_leptonic | Process 4f_lowmee_sze_l | CumErr 1176392\n",
      "Branch 33 | Loc 4f_lowmee_singleZee_leptonic | Process 4f_lowmee_sze_l | CumErr 5983994\n",
      "Branch 34 | Loc 4f_lowmee_singleZsingleWMix_lept | Process 4f_lowmee_szeorsw_l | CumErr 5989996\n",
      "Branch 35 | Loc 4f_lowmee_singleZsingleWMix_lept | Process 4f_lowmee_szeorsw_l | CumErr 1836612\n",
      "Branch 36 | Loc 4f_lowmee_singleZsingleWMix_lept | Process 4f_lowmee_szeorsw_l | CumErr 5269756\n"
     ]
    }
   ],
   "source": [
    "print('Found errors in:')\n",
    "for result in results:\n",
    "    if result['status'] == 'finished':\n",
    "        branch, location, proc = result['branch'], result['loc'], result['process']\n",
    "        n_errors = np.sum(get_fs_errors(branch))\n",
    "        \n",
    "        if n_errors > 0:\n",
    "            print(f'Branch {branch} | Loc {location} | Process {proc} | CumErr {n_errors}')"
   ]
  },
  {
   "cell_type": "code",
   "execution_count": null,
   "metadata": {},
   "outputs": [],
   "source": []
  },
  {
   "cell_type": "code",
   "execution_count": 186,
   "metadata": {},
   "outputs": [],
   "source": [
    "def get_fs_output(branch:int)->Optional[np.ndarray]:\n",
    "    try:\n",
    "        with ur.open(f'{DATA_ROOT}/{branch}_FinalStates.root') as rf:\n",
    "            #fs_counts = rf['eventTree']['final_state_counts'].array()                        \n",
    "            event = rf['eventTree']['event'].array()\n",
    "            \n",
    "            res = np.zeros(len(event), dtype=[\n",
    "                ('event', 'i'),\n",
    "                ('category', 'i')])\n",
    "            \n",
    "            res['category'] = rf['eventTree']['event_category'].array()\n",
    "            res['event'] = event\n",
    "        \n",
    "        return res\n",
    "    except:\n",
    "        return None"
   ]
  },
  {
   "cell_type": "code",
   "execution_count": 191,
   "metadata": {},
   "outputs": [
    {
     "name": "stdout",
     "output_type": "stream",
     "text": [
      "Found errors in:\n",
      "Branch 0 | Loc 2f_Z_bhabhaNg | Process 2f_z_bhabhang | OK\n",
      "Branch 1 | Loc 2f_Z_bhabhaNg | Process 2f_z_bhabhang | OK\n",
      "Branch 2 | Loc 2f_Z_bhabhaNg | Process 2f_z_bhabhang | OK\n",
      "Branch 3 | Loc 2f_Z_bhabhaNg | Process 2f_z_bhabhang | OK\n",
      "Branch 4 | Loc 2f_Z_bhabhag | Process 2f_z_bhabhag | OK\n",
      "Branch 5 | Loc 2f_Z_bhabhag | Process 2f_z_bhabhag | OK\n",
      "Branch 6 | Loc 2f_Z_bhabhag | Process 2f_z_bhabhag | OK\n",
      "Branch 7 | Loc 2f_Z_bhabhag | Process 2f_z_bhabhag | OK\n",
      "Branch 8 | Loc 2f_Z_hadronic | Process 2f_z_h | OK\n",
      "Branch 9 | Loc 2f_Z_hadronic | Process 2f_z_h | OK\n",
      "Branch 10 | Loc 2f_Z_leptonic | Process 2f_z_l | OK\n",
      "Branch 11 | Loc 2f_Z_leptonic | Process 2f_z_l | OK\n",
      "Branch 12 | Loc 2f_Z_nuNg | Process 2f_z_nung | OK\n",
      "Branch 13 | Loc 2f_Z_nuNg | Process 2f_z_nung | OK\n",
      "Branch 14 | Loc 4f_WW_hadronic | Process 4f_ww_h | OK\n",
      "Branch 15 | Loc 4f_WW_hadronic | Process 4f_ww_h | OK\n",
      "Branch 16 | Loc 4f_WW_leptonic | Process 4f_ww_l | OK\n",
      "Branch 17 | Loc 4f_WW_leptonic | Process 4f_ww_l | OK\n",
      "Branch 18 | Loc 4f_WW_semileptonic | Process 4f_ww_sl | OK\n",
      "Branch 19 | Loc 4f_WW_semileptonic | Process 4f_ww_sl | OK\n",
      "Branch 20 | Loc 4f_ZZWWMix_hadronic | Process 4f_zzorww_h | OK\n",
      "Branch 21 | Loc 4f_ZZWWMix_hadronic | Process 4f_zzorww_h | OK\n",
      "Branch 22 | Loc 4f_ZZWWMix_leptonic | Process 4f_zzorww_l | OK\n",
      "Branch 23 | Loc 4f_ZZWWMix_leptonic | Process 4f_zzorww_l | OK\n",
      "Branch 24 | Loc 4f_ZZ_hadronic | Process 4f_zz_h | OK\n",
      "Branch 25 | Loc 4f_ZZ_hadronic | Process 4f_zz_h | OK\n",
      "Branch 26 | Loc 4f_ZZ_leptonic | Process 4f_zz_l | OK\n",
      "Branch 27 | Loc 4f_ZZ_leptonic | Process 4f_zz_l | OK\n",
      "Branch 28 | Loc 4f_ZZ_semileptonic | Process 4f_zz_sl | OK\n",
      "Branch 29 | Loc 4f_ZZ_semileptonic | Process 4f_zz_sl | OK\n",
      "Branch 30 | Loc 4f_lowmee_singleZee_leptonic | Process 4f_lowmee_sze_l | CLASS_ERROR (first at 0)\n",
      "Branch 31 | Loc 4f_lowmee_singleZee_leptonic | Process 4f_lowmee_sze_l | CLASS_ERROR (first at 0)\n",
      "Branch 32 | Loc 4f_lowmee_singleZee_leptonic | Process 4f_lowmee_sze_l | CLASS_ERROR (first at 0)\n",
      "Branch 33 | Loc 4f_lowmee_singleZee_leptonic | Process 4f_lowmee_sze_l | CLASS_ERROR (first at 0)\n",
      "Branch 34 | Loc 4f_lowmee_singleZsingleWMix_lept | Process 4f_lowmee_szeorsw_l | CLASS_ERROR (first at 0)\n",
      "Branch 35 | Loc 4f_lowmee_singleZsingleWMix_lept | Process 4f_lowmee_szeorsw_l | CLASS_ERROR (first at 0)\n",
      "Branch 36 | Loc 4f_lowmee_singleZsingleWMix_lept | Process 4f_lowmee_szeorsw_l | CLASS_ERROR (first at 0)\n",
      "Branch 37 | Loc 4f_singleW_leptonic | Process 4f_sw_l | OK\n",
      "Branch 38 | Loc 4f_singleW_leptonic | Process 4f_sw_l | OK\n",
      "Branch 39 | Loc 4f_singleW_leptonic | Process 4f_sw_l | OK\n",
      "Branch 40 | Loc 4f_singleW_semileptonic | Process 4f_sw_sl | OK\n",
      "Branch 41 | Loc 4f_singleW_semileptonic | Process 4f_sw_sl | OK\n",
      "Branch 42 | Loc 4f_singleW_semileptonic | Process 4f_sw_sl | OK\n",
      "Branch 43 | Loc 4f_singleW_semileptonic | Process 4f_sw_sl | OK\n",
      "Branch 44 | Loc 4f_singleZee_leptonic | Process 4f_sze_l | OK\n",
      "Branch 45 | Loc 4f_singleZee_leptonic | Process 4f_sze_l | OK\n",
      "Branch 46 | Loc 4f_singleZee_leptonic | Process 4f_sze_l | OK\n",
      "Branch 47 | Loc 4f_singleZee_leptonic | Process 4f_sze_l | OK\n",
      "Branch 48 | Loc 4f_singleZee_semileptonic | Process 4f_sze_sl | OK\n",
      "Branch 49 | Loc 4f_singleZee_semileptonic | Process 4f_sze_sl | OK\n",
      "Branch 50 | Loc 4f_singleZee_semileptonic | Process 4f_sze_sl | OK\n",
      "Branch 51 | Loc 4f_singleZee_semileptonic | Process 4f_sze_sl | OK\n",
      "Branch 52 | Loc 4f_singleZnunu_leptonic | Process 4f_sznu_l | OK\n",
      "Branch 53 | Loc 4f_singleZnunu_leptonic | Process 4f_sznu_l | OK\n",
      "Branch 54 | Loc 4f_singleZnunu_semileptonic | Process 4f_sznu_sl | OK\n",
      "Branch 55 | Loc 4f_singleZnunu_semileptonic | Process 4f_sznu_sl | OK\n",
      "Branch 56 | Loc 4f_singleZsingleWMix_leptonic | Process 4f_szeorsw_l | OK\n",
      "Branch 57 | Loc 4f_singleZsingleWMix_leptonic | Process 4f_szeorsw_l | OK\n",
      "Branch 58 | Loc 4f_singleZsingleWMix_leptonic | Process 4f_szeorsw_l | OK\n",
      "Branch 59 | Loc 4f_singleZsingleWMix_leptonic | Process 4f_szeorsw_l | OK\n",
      "Branch 60 | Loc 6f_eeWW | Process eeveev | OK\n",
      "Branch 61 | Loc 6f_eeWW | Process eeveev | OK\n",
      "Branch 62 | Loc 6f_eeWW | Process eeveev | OK\n",
      "Branch 63 | Loc 6f_eeWW | Process eeveev | OK\n",
      "Branch 64 | Loc 6f_llWW | Process llvelv | OK\n",
      "Branch 65 | Loc 6f_llWW | Process llvelv | OK\n",
      "Branch 66 | Loc 6f_llWW | Process llvelv | OK\n",
      "Branch 67 | Loc 6f_llWW | Process llxyev | OK\n",
      "Branch 68 | Loc 6f_ttbar | Process yyveev | OK\n",
      "Branch 69 | Loc 6f_ttbar | Process yyveev | OK\n",
      "Branch 70 | Loc 6f_ttbar | Process yyveev | OK\n",
      "Branch 71 | Loc 6f_ttbar | Process yyveev | OK\n",
      "Branch 72 | Loc 6f_vvWW | Process vvveev | OK\n",
      "Branch 73 | Loc 6f_vvWW | Process vvveev | OK\n",
      "Branch 74 | Loc 6f_vvWW | Process vvveev | OK\n",
      "Branch 75 | Loc 6f_vvWW | Process vvvlev | OK\n",
      "Branch 76 | Loc 6f_xxWW | Process xxveev | OK\n",
      "Branch 77 | Loc 6f_xxWW | Process xxveev | OK\n",
      "Branch 78 | Loc 6f_xxWW | Process xxveev | OK\n",
      "Branch 79 | Loc 6f_xxWW | Process xxveev | OK\n",
      "Branch 80 | Loc 6f_xxxxZ | Process vvvvxx | OK\n",
      "Branch 81 | Loc 6f_xxxxZ | Process xxxxee | OK\n",
      "Branch 82 | Loc 6f_xxxxZ | Process xxxxee | OK\n",
      "Branch 83 | Loc 6f_xxxxZ | Process xxxxee | OK\n",
      "Branch 84 | Loc 6f_yyyyZ | Process eeeeee | OK\n",
      "Branch 85 | Loc 6f_yyyyZ | Process eeeeee | OK\n",
      "Branch 86 | Loc 6f_yyyyZ | Process eeeeee | OK\n",
      "Branch 87 | Loc 6f_yyyyZ | Process eeeeee | OK\n",
      "Branch 88 | Loc hh | Process e2e2hh | OK\n",
      "Branch 89 | Loc hh | Process e2e2hh | OK\n",
      "Branch 90 | Loc hh | Process e3e3hh | OK\n",
      "Branch 91 | Loc hh | Process e3e3hh | OK\n",
      "Branch 92 | Loc hh | Process e2e2qqh | OK\n",
      "Branch 93 | Loc hh | Process e2e2qqh | OK\n",
      "Branch 94 | Loc hh | Process e3e3qqh | OK\n",
      "Branch 95 | Loc hh | Process e3e3qqh | OK\n",
      "Branch 96 | Loc hh | Process n1n1hh | OK\n",
      "Branch 97 | Loc hh | Process n1n1hh | OK\n",
      "Branch 98 | Loc hh | Process n23n23hh | OK\n",
      "Branch 99 | Loc hh | Process n23n23hh | OK\n",
      "Branch 100 | Loc hh | Process n1n1qqh | OK\n",
      "Branch 101 | Loc hh | Process n1n1qqh | OK\n",
      "Branch 102 | Loc hh | Process n23n23qqh | OK\n",
      "Branch 103 | Loc hh | Process n23n23qqh | OK\n",
      "Branch 104 | Loc hh | Process e1e1hh | OK\n",
      "Branch 105 | Loc hh | Process e1e1hh | OK\n",
      "Branch 106 | Loc hh | Process e1e1hh | OK\n",
      "Branch 107 | Loc hh | Process e1e1hh | OK\n",
      "Branch 108 | Loc hh | Process e1e1qqh | OK\n",
      "Branch 109 | Loc hh | Process e1e1qqh | OK\n",
      "Branch 110 | Loc hh | Process e1e1qqh | OK\n",
      "Branch 111 | Loc hh | Process e1e1qqh | OK\n",
      "Branch 112 | Loc  | Process  | INVALID\n",
      "Branch 113 | Loc hh | Process qqhh | OK\n",
      "Branch 114 | Loc hh | Process qqqqh | OK\n",
      "Branch 115 | Loc hh | Process qqqqh | OK\n"
     ]
    }
   ],
   "source": [
    "print('Found errors in:')\n",
    "for result in results:\n",
    "    branch, location, proc = result['branch'], result['loc'], result['process']\n",
    "    output = get_fs_output(branch)\n",
    "    where = -1\n",
    "    \n",
    "    if output is None:\n",
    "        state = 'INVALID'\n",
    "    else:\n",
    "        if np.sum(output['category'] == EVENT_CATEGORY_TRUE.OTHER) == 0:\n",
    "            state = 'OK'\n",
    "        else:\n",
    "            state = 'CLASS_ERROR'\n",
    "            where = output['event'][output['category'] == EVENT_CATEGORY_TRUE.OTHER][0]\n",
    "        \n",
    "    print(f'Branch {branch} | Loc {location} | Process {proc} | {state}' + ('' if where == -1 else f' (first at {where})'))"
   ]
  },
  {
   "cell_type": "code",
   "execution_count": null,
   "metadata": {},
   "outputs": [],
   "source": []
  }
 ],
 "metadata": {
  "kernelspec": {
   "display_name": "graphjet_pyg",
   "language": "python",
   "name": "python3"
  },
  "language_info": {
   "codemirror_mode": {
    "name": "ipython",
    "version": 3
   },
   "file_extension": ".py",
   "mimetype": "text/x-python",
   "name": "python",
   "nbconvert_exporter": "python",
   "pygments_lexer": "ipython3",
   "version": "3.11.4"
  }
 },
 "nbformat": 4,
 "nbformat_minor": 2
}
