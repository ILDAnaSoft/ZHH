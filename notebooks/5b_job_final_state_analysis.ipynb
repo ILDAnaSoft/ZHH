{
 "cells": [
  {
   "cell_type": "code",
   "execution_count": 1,
   "metadata": {},
   "outputs": [],
   "source": [
    "from glob import glob\n",
    "from typing import Union, Optional\n",
    "from tqdm.auto import tqdm\n",
    "import uproot as ur\n",
    "import numpy as np\n",
    "import json\n",
    "from phc import module_reload\n",
    "module_reload('zhh')\n",
    "from zhh import get_raw_files, get_preselection_meta, get_preselection_summary, default_locations, EVENT_CATEGORY_TRUE\n",
    "\n",
    "version = 'v1'\n",
    "REPO_ROOT = '/afs/desy.de/user/b/bliewert/public/MarlinWorkdirs/ZHH'\n",
    "DATA_ROOT = f'/nfs/dust/ilc/user/bliewert/zhh/Preselection/{version}'"
   ]
  },
  {
   "cell_type": "code",
   "execution_count": 154,
   "metadata": {},
   "outputs": [],
   "source": [
    "all_files = glob(f'/pnfs/desy.de/ilc/prod/ilc/ild/copy/dst-merged/500-TDR_ws/**/*.slcio', recursive=True)"
   ]
  },
  {
   "cell_type": "code",
   "execution_count": 165,
   "metadata": {},
   "outputs": [
    {
     "name": "stdout",
     "output_type": "stream",
     "text": [
      "Passing non-s5: 3322 (-4123)\n",
      "Passing non-s5 + in default locations: 2691 (-631)\n"
     ]
    }
   ],
   "source": [
    "pass_s5 = list(filter(lambda a: 'ILD_s5_o1_v02' not in a, all_files))\n",
    "print(f'Passing non-s5: {len(pass_s5)} (-{len(all_files) - len(pass_s5)})')\n",
    "\n",
    "pass_s5_a_dl = list(filter(lambda a: any(loc in a for loc in default_locations), pass_s5))\n",
    "print(f'Passing non-s5 + in default locations: {len(pass_s5_a_dl)} (-{len(pass_s5) - len(pass_s5_a_dl)})')"
   ]
  },
  {
   "cell_type": "code",
   "execution_count": 147,
   "metadata": {},
   "outputs": [
    {
     "name": "stdout",
     "output_type": "stream",
     "text": [
      "116\n"
     ]
    }
   ],
   "source": [
    "rf = get_raw_files(debug=True)\n",
    "print(len(rf))"
   ]
  },
  {
   "cell_type": "code",
   "execution_count": 2,
   "metadata": {},
   "outputs": [],
   "source": [
    "meta = get_preselection_meta(DATA_ROOT)"
   ]
  },
  {
   "cell_type": "code",
   "execution_count": 4,
   "metadata": {},
   "outputs": [],
   "source": [
    "results = get_preselection_summary(DATA_ROOT, meta)"
   ]
  },
  {
   "cell_type": "code",
   "execution_count": 171,
   "metadata": {},
   "outputs": [
    {
     "data": {
      "text/plain": [
       "array([('hh', 'e1e1qqh',  1,  1, 1866.8632),\n",
       "       ('hh', 'e2e2hh', -1,  1, 2025.1527),\n",
       "       ('hh', 'e2e2hh',  1, -1, 2037.1294),\n",
       "       ('hh', 'n1n1hh',  1, -1, 2196.8389),\n",
       "       ('hh', 'e3e3hh', -1,  1, 2196.8726),\n",
       "       ('hh', 'qqqqh', -1,  1, 2213.761 ),\n",
       "       ('hh', 'e1e1qqh', -1, -1, 2235.6978),\n",
       "       ('6f_ttbar', 'yyveev', -1,  1, 2261.2031),\n",
       "       ('4f_ZZ_hadronic', '4f_zz_h', -1,  1, 2308.8687),\n",
       "       ('6f_ttbar', 'yyveev',  1, -1, 2389.0977),\n",
       "       ('hh', 'n1n1hh', -1,  1, 2393.8633),\n",
       "       ('hh', 'e3e3hh',  1, -1, 2464.3025),\n",
       "       ('hh', 'qqqqh',  1, -1, 2761.6877),\n",
       "       ('hh', 'n1n1qqh', -1,  1, 2975.173 ),\n",
       "       ('hh', 'n1n1qqh',  1, -1, 2997.345 ),\n",
       "       ('hh', 'n23n23qqh',  1, -1, 3160.3406),\n",
       "       ('hh', 'e1e1hh', -1, -1, 3358.022 ),\n",
       "       ('hh', 'n23n23qqh', -1,  1, 3457.6848),\n",
       "       ('hh', 'e1e1hh',  1, -1, 3565.2056),\n",
       "       ('hh', 'e1e1hh', -1,  1, 3722.674 ),\n",
       "       ('hh', 'e1e1hh',  1,  1, 4573.676 ),\n",
       "       ('hh', 'n23n23hh',  1, -1, 4603.499 ),\n",
       "       ('hh', 'n23n23hh', -1,  1, 4861.395 ),\n",
       "       ('hh', 'qqhh',  1, -1, 4977.4536)],\n",
       "      dtype={'names': ['loc', 'process', 'pol_e', 'pol_p', 'tDuration'], 'formats': ['<U32', '<U32', '<i4', '<i4', '<f4'], 'offsets': [68, 196, 324, 328, 1360], 'itemsize': 1368})"
      ]
     },
     "execution_count": 171,
     "metadata": {},
     "output_type": "execute_result"
    }
   ],
   "source": [
    "np.sort(results.view()[results['tDuration'] > 1800][['loc', 'process', 'pol_e', 'pol_p', 'tDuration']], order=['tDuration'])"
   ]
  },
  {
   "cell_type": "markdown",
   "metadata": {},
   "source": [
    "Final State Analysis"
   ]
  },
  {
   "cell_type": "code",
   "execution_count": 6,
   "metadata": {},
   "outputs": [],
   "source": [
    "def get_fs_errors(branch:int):\n",
    "    try:\n",
    "        with ur.open(f'{DATA_ROOT}/{branch}_FinalStates.root') as rf:\n",
    "            errors = rf['eventTree']['error_code'].array()\n",
    "        \n",
    "        return errors\n",
    "    except:\n",
    "        return []"
   ]
  },
  {
   "cell_type": "code",
   "execution_count": 7,
   "metadata": {},
   "outputs": [
    {
     "name": "stdout",
     "output_type": "stream",
     "text": [
      "Found errors in:\n",
      "Branch 30 | Loc 4f_lowmee_singleZee_leptonic | Process 4f_lowmee_sze_l | CumErr 1176392\n",
      "Branch 31 | Loc 4f_lowmee_singleZee_leptonic | Process 4f_lowmee_sze_l | CumErr 5983994\n",
      "Branch 32 | Loc 4f_lowmee_singleZee_leptonic | Process 4f_lowmee_sze_l | CumErr 1176392\n",
      "Branch 33 | Loc 4f_lowmee_singleZee_leptonic | Process 4f_lowmee_sze_l | CumErr 5983994\n",
      "Branch 34 | Loc 4f_lowmee_singleZsingleWMix_lept | Process 4f_lowmee_szeorsw_l | CumErr 5989996\n",
      "Branch 35 | Loc 4f_lowmee_singleZsingleWMix_lept | Process 4f_lowmee_szeorsw_l | CumErr 1836612\n",
      "Branch 36 | Loc 4f_lowmee_singleZsingleWMix_lept | Process 4f_lowmee_szeorsw_l | CumErr 5269756\n"
     ]
    }
   ],
   "source": [
    "print('Found errors in:')\n",
    "for result in results:\n",
    "    if result['status'] == 'finished':\n",
    "        branch, location, proc = result['branch'], result['loc'], result['process']\n",
    "        n_errors = np.sum(get_fs_errors(branch))\n",
    "        \n",
    "        if n_errors > 0:\n",
    "            print(f'Branch {branch} | Loc {location} | Process {proc} | CumErr {n_errors}')"
   ]
  },
  {
   "cell_type": "code",
   "execution_count": null,
   "metadata": {},
   "outputs": [],
   "source": []
  },
  {
   "cell_type": "code",
   "execution_count": 186,
   "metadata": {},
   "outputs": [],
   "source": [
    "def get_fs_output(branch:int)->Optional[np.ndarray]:\n",
    "    try:\n",
    "        with ur.open(f'{DATA_ROOT}/{branch}_FinalStates.root') as rf:\n",
    "            #fs_counts = rf['eventTree']['final_state_counts'].array()                        \n",
    "            event = rf['eventTree']['event'].array()\n",
    "            \n",
    "            res = np.zeros(len(event), dtype=[\n",
    "                ('event', 'i'),\n",
    "                ('category', 'i')])\n",
    "            \n",
    "            res['category'] = rf['eventTree']['event_category'].array()\n",
    "            res['event'] = event\n",
    "        \n",
    "        return res\n",
    "    except:\n",
    "        return None"
   ]
  },
  {
   "cell_type": "code",
   "execution_count": 191,
   "metadata": {},
   "outputs": [
    {
     "name": "stdout",
     "output_type": "stream",
     "text": [
      "Found errors in:\n",
      "Branch 0 | Loc 2f_Z_bhabhaNg | Process 2f_z_bhabhang | OK\n",
      "Branch 1 | Loc 2f_Z_bhabhaNg | Process 2f_z_bhabhang | OK\n",
      "Branch 2 | Loc 2f_Z_bhabhaNg | Process 2f_z_bhabhang | OK\n",
      "Branch 3 | Loc 2f_Z_bhabhaNg | Process 2f_z_bhabhang | OK\n",
      "Branch 4 | Loc 2f_Z_bhabhag | Process 2f_z_bhabhag | OK\n",
      "Branch 5 | Loc 2f_Z_bhabhag | Process 2f_z_bhabhag | OK\n",
      "Branch 6 | Loc 2f_Z_bhabhag | Process 2f_z_bhabhag | OK\n",
      "Branch 7 | Loc 2f_Z_bhabhag | Process 2f_z_bhabhag | OK\n",
      "Branch 8 | Loc 2f_Z_hadronic | Process 2f_z_h | OK\n",
      "Branch 9 | Loc 2f_Z_hadronic | Process 2f_z_h | OK\n",
      "Branch 10 | Loc 2f_Z_leptonic | Process 2f_z_l | OK\n",
      "Branch 11 | Loc 2f_Z_leptonic | Process 2f_z_l | OK\n",
      "Branch 12 | Loc 2f_Z_nuNg | Process 2f_z_nung | OK\n",
      "Branch 13 | Loc 2f_Z_nuNg | Process 2f_z_nung | OK\n",
      "Branch 14 | Loc 4f_WW_hadronic | Process 4f_ww_h | OK\n",
      "Branch 15 | Loc 4f_WW_hadronic | Process 4f_ww_h | OK\n",
      "Branch 16 | Loc 4f_WW_leptonic | Process 4f_ww_l | OK\n",
      "Branch 17 | Loc 4f_WW_leptonic | Process 4f_ww_l | OK\n",
      "Branch 18 | Loc 4f_WW_semileptonic | Process 4f_ww_sl | OK\n",
      "Branch 19 | Loc 4f_WW_semileptonic | Process 4f_ww_sl | OK\n",
      "Branch 20 | Loc 4f_ZZWWMix_hadronic | Process 4f_zzorww_h | OK\n",
      "Branch 21 | Loc 4f_ZZWWMix_hadronic | Process 4f_zzorww_h | OK\n",
      "Branch 22 | Loc 4f_ZZWWMix_leptonic | Process 4f_zzorww_l | OK\n",
      "Branch 23 | Loc 4f_ZZWWMix_leptonic | Process 4f_zzorww_l | OK\n",
      "Branch 24 | Loc 4f_ZZ_hadronic | Process 4f_zz_h | OK\n",
      "Branch 25 | Loc 4f_ZZ_hadronic | Process 4f_zz_h | OK\n",
      "Branch 26 | Loc 4f_ZZ_leptonic | Process 4f_zz_l | OK\n",
      "Branch 27 | Loc 4f_ZZ_leptonic | Process 4f_zz_l | OK\n",
      "Branch 28 | Loc 4f_ZZ_semileptonic | Process 4f_zz_sl | OK\n",
      "Branch 29 | Loc 4f_ZZ_semileptonic | Process 4f_zz_sl | OK\n",
      "Branch 30 | Loc 4f_lowmee_singleZee_leptonic | Process 4f_lowmee_sze_l | CLASS_ERROR (first at 0)\n",
      "Branch 31 | Loc 4f_lowmee_singleZee_leptonic | Process 4f_lowmee_sze_l | CLASS_ERROR (first at 0)\n",
      "Branch 32 | Loc 4f_lowmee_singleZee_leptonic | Process 4f_lowmee_sze_l | CLASS_ERROR (first at 0)\n",
      "Branch 33 | Loc 4f_lowmee_singleZee_leptonic | Process 4f_lowmee_sze_l | CLASS_ERROR (first at 0)\n",
      "Branch 34 | Loc 4f_lowmee_singleZsingleWMix_lept | Process 4f_lowmee_szeorsw_l | CLASS_ERROR (first at 0)\n",
      "Branch 35 | Loc 4f_lowmee_singleZsingleWMix_lept | Process 4f_lowmee_szeorsw_l | CLASS_ERROR (first at 0)\n",
      "Branch 36 | Loc 4f_lowmee_singleZsingleWMix_lept | Process 4f_lowmee_szeorsw_l | CLASS_ERROR (first at 0)\n",
      "Branch 37 | Loc 4f_singleW_leptonic | Process 4f_sw_l | OK\n",
      "Branch 38 | Loc 4f_singleW_leptonic | Process 4f_sw_l | OK\n",
      "Branch 39 | Loc 4f_singleW_leptonic | Process 4f_sw_l | OK\n",
      "Branch 40 | Loc 4f_singleW_semileptonic | Process 4f_sw_sl | OK\n",
      "Branch 41 | Loc 4f_singleW_semileptonic | Process 4f_sw_sl | OK\n",
      "Branch 42 | Loc 4f_singleW_semileptonic | Process 4f_sw_sl | OK\n",
      "Branch 43 | Loc 4f_singleW_semileptonic | Process 4f_sw_sl | OK\n",
      "Branch 44 | Loc 4f_singleZee_leptonic | Process 4f_sze_l | OK\n",
      "Branch 45 | Loc 4f_singleZee_leptonic | Process 4f_sze_l | OK\n",
      "Branch 46 | Loc 4f_singleZee_leptonic | Process 4f_sze_l | OK\n",
      "Branch 47 | Loc 4f_singleZee_leptonic | Process 4f_sze_l | OK\n",
      "Branch 48 | Loc 4f_singleZee_semileptonic | Process 4f_sze_sl | OK\n",
      "Branch 49 | Loc 4f_singleZee_semileptonic | Process 4f_sze_sl | OK\n",
      "Branch 50 | Loc 4f_singleZee_semileptonic | Process 4f_sze_sl | OK\n",
      "Branch 51 | Loc 4f_singleZee_semileptonic | Process 4f_sze_sl | OK\n",
      "Branch 52 | Loc 4f_singleZnunu_leptonic | Process 4f_sznu_l | OK\n",
      "Branch 53 | Loc 4f_singleZnunu_leptonic | Process 4f_sznu_l | OK\n",
      "Branch 54 | Loc 4f_singleZnunu_semileptonic | Process 4f_sznu_sl | OK\n",
      "Branch 55 | Loc 4f_singleZnunu_semileptonic | Process 4f_sznu_sl | OK\n",
      "Branch 56 | Loc 4f_singleZsingleWMix_leptonic | Process 4f_szeorsw_l | OK\n",
      "Branch 57 | Loc 4f_singleZsingleWMix_leptonic | Process 4f_szeorsw_l | OK\n",
      "Branch 58 | Loc 4f_singleZsingleWMix_leptonic | Process 4f_szeorsw_l | OK\n",
      "Branch 59 | Loc 4f_singleZsingleWMix_leptonic | Process 4f_szeorsw_l | OK\n",
      "Branch 60 | Loc 6f_eeWW | Process eeveev | OK\n",
      "Branch 61 | Loc 6f_eeWW | Process eeveev | OK\n",
      "Branch 62 | Loc 6f_eeWW | Process eeveev | OK\n",
      "Branch 63 | Loc 6f_eeWW | Process eeveev | OK\n",
      "Branch 64 | Loc 6f_llWW | Process llvelv | OK\n",
      "Branch 65 | Loc 6f_llWW | Process llvelv | OK\n",
      "Branch 66 | Loc 6f_llWW | Process llvelv | OK\n",
      "Branch 67 | Loc 6f_llWW | Process llxyev | OK\n",
      "Branch 68 | Loc 6f_ttbar | Process yyveev | OK\n",
      "Branch 69 | Loc 6f_ttbar | Process yyveev | OK\n",
      "Branch 70 | Loc 6f_ttbar | Process yyveev | OK\n",
      "Branch 71 | Loc 6f_ttbar | Process yyveev | OK\n",
      "Branch 72 | Loc 6f_vvWW | Process vvveev | OK\n",
      "Branch 73 | Loc 6f_vvWW | Process vvveev | OK\n",
      "Branch 74 | Loc 6f_vvWW | Process vvveev | OK\n",
      "Branch 75 | Loc 6f_vvWW | Process vvvlev | OK\n",
      "Branch 76 | Loc 6f_xxWW | Process xxveev | OK\n",
      "Branch 77 | Loc 6f_xxWW | Process xxveev | OK\n",
      "Branch 78 | Loc 6f_xxWW | Process xxveev | OK\n",
      "Branch 79 | Loc 6f_xxWW | Process xxveev | OK\n",
      "Branch 80 | Loc 6f_xxxxZ | Process vvvvxx | OK\n",
      "Branch 81 | Loc 6f_xxxxZ | Process xxxxee | OK\n",
      "Branch 82 | Loc 6f_xxxxZ | Process xxxxee | OK\n",
      "Branch 83 | Loc 6f_xxxxZ | Process xxxxee | OK\n",
      "Branch 84 | Loc 6f_yyyyZ | Process eeeeee | OK\n",
      "Branch 85 | Loc 6f_yyyyZ | Process eeeeee | OK\n",
      "Branch 86 | Loc 6f_yyyyZ | Process eeeeee | OK\n",
      "Branch 87 | Loc 6f_yyyyZ | Process eeeeee | OK\n",
      "Branch 88 | Loc hh | Process e2e2hh | OK\n",
      "Branch 89 | Loc hh | Process e2e2hh | OK\n",
      "Branch 90 | Loc hh | Process e3e3hh | OK\n",
      "Branch 91 | Loc hh | Process e3e3hh | OK\n",
      "Branch 92 | Loc hh | Process e2e2qqh | OK\n",
      "Branch 93 | Loc hh | Process e2e2qqh | OK\n",
      "Branch 94 | Loc hh | Process e3e3qqh | OK\n",
      "Branch 95 | Loc hh | Process e3e3qqh | OK\n",
      "Branch 96 | Loc hh | Process n1n1hh | OK\n",
      "Branch 97 | Loc hh | Process n1n1hh | OK\n",
      "Branch 98 | Loc hh | Process n23n23hh | OK\n",
      "Branch 99 | Loc hh | Process n23n23hh | OK\n",
      "Branch 100 | Loc hh | Process n1n1qqh | OK\n",
      "Branch 101 | Loc hh | Process n1n1qqh | OK\n",
      "Branch 102 | Loc hh | Process n23n23qqh | OK\n",
      "Branch 103 | Loc hh | Process n23n23qqh | OK\n",
      "Branch 104 | Loc hh | Process e1e1hh | OK\n",
      "Branch 105 | Loc hh | Process e1e1hh | OK\n",
      "Branch 106 | Loc hh | Process e1e1hh | OK\n",
      "Branch 107 | Loc hh | Process e1e1hh | OK\n",
      "Branch 108 | Loc hh | Process e1e1qqh | OK\n",
      "Branch 109 | Loc hh | Process e1e1qqh | OK\n",
      "Branch 110 | Loc hh | Process e1e1qqh | OK\n",
      "Branch 111 | Loc hh | Process e1e1qqh | OK\n",
      "Branch 112 | Loc  | Process  | INVALID\n",
      "Branch 113 | Loc hh | Process qqhh | OK\n",
      "Branch 114 | Loc hh | Process qqqqh | OK\n",
      "Branch 115 | Loc hh | Process qqqqh | OK\n"
     ]
    }
   ],
   "source": [
    "print('Found errors in:')\n",
    "for result in results:\n",
    "    branch, location, proc = result['branch'], result['loc'], result['process']\n",
    "    output = get_fs_output(branch)\n",
    "    where = -1\n",
    "    \n",
    "    if output is None:\n",
    "        state = 'INVALID'\n",
    "    else:\n",
    "        if np.sum(output['category'] == EVENT_CATEGORY_TRUE.OTHER) == 0:\n",
    "            state = 'OK'\n",
    "        else:\n",
    "            state = 'CLASS_ERROR'\n",
    "            where = output['event'][output['category'] == EVENT_CATEGORY_TRUE.OTHER][0]\n",
    "        \n",
    "    print(f'Branch {branch} | Loc {location} | Process {proc} | {state}' + ('' if where == -1 else f' (first at {where})'))"
   ]
  },
  {
   "cell_type": "code",
   "execution_count": null,
   "metadata": {},
   "outputs": [],
   "source": []
  }
 ],
 "metadata": {
  "kernelspec": {
   "display_name": "graphjet_pyg",
   "language": "python",
   "name": "python3"
  },
  "language_info": {
   "codemirror_mode": {
    "name": "ipython",
    "version": 3
   },
   "file_extension": ".py",
   "mimetype": "text/x-python",
   "name": "python",
   "nbconvert_exporter": "python",
   "pygments_lexer": "ipython3",
   "version": "3.11.4"
  }
 },
 "nbformat": 4,
 "nbformat_minor": 2
}
