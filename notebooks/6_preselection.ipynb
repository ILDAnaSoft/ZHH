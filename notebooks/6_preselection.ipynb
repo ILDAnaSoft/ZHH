{
 "cells": [
  {
   "cell_type": "code",
   "execution_count": 1,
   "metadata": {},
   "outputs": [],
   "source": [
    "from glob import glob\n",
    "import uproot as ur\n",
    "import numpy as np\n",
    "import json, os\n",
    "import os.path as osp\n",
    "from tqdm.auto import tqdm\n",
    "from json import load\n",
    "from phc import module_reload, plot_hist\n",
    "module_reload('zhh')\n",
    "from zhh import parse_sample_path, get_preselection_passes, ProcessIndex, get_chunks_factual, EventCategories, sample_weight, presel_stack\n",
    "version = 'v1'\n",
    "\n",
    "REPO_ROOT = '/afs/desy.de/user/b/bliewert/public/MarlinWorkdirs/ZHH'\n",
    "DATA_ROOT = f'/nfs/dust/ilc/user/bliewert/zhh/PreselectionFinal/{version}'\n",
    "INDEX_DIR = '/nfs/dust/ilc/user/bliewert/zhh/CreateRawIndex/v1'\n",
    "\n",
    "processes = np.load(f'{INDEX_DIR}/processes.npy')\n",
    "samples = np.load(f'{INDEX_DIR}/samples.npy')\n",
    "chunks = np.load(f'{DATA_ROOT}/../../CreatePreselectionChunks/v1/chunks.npy')"
   ]
  },
  {
   "cell_type": "markdown",
   "metadata": {},
   "source": [
    "Validate chunks"
   ]
  },
  {
   "cell_type": "code",
   "execution_count": 5,
   "metadata": {},
   "outputs": [
    {
     "ename": "Exception",
     "evalue": "Chunk mismatch for branch <0> : 3583 vs 3600",
     "output_type": "error",
     "traceback": [
      "\u001b[0;31m---------------------------------------------------------------------------\u001b[0m",
      "\u001b[0;31mException\u001b[0m                                 Traceback (most recent call last)",
      "Cell \u001b[0;32mIn[5], line 6\u001b[0m\n\u001b[1;32m      3\u001b[0m meta \u001b[38;5;241m=\u001b[39m load(metaf)\n\u001b[1;32m      5\u001b[0m \u001b[38;5;28;01mif\u001b[39;00m meta[\u001b[38;5;124m'\u001b[39m\u001b[38;5;124mnEvtSum\u001b[39m\u001b[38;5;124m'\u001b[39m] \u001b[38;5;241m!=\u001b[39m chunk[\u001b[38;5;124m'\u001b[39m\u001b[38;5;124mchunk_size\u001b[39m\u001b[38;5;124m'\u001b[39m]:\n\u001b[0;32m----> 6\u001b[0m     \u001b[38;5;28;01mraise\u001b[39;00m \u001b[38;5;167;01mException\u001b[39;00m(\u001b[38;5;124mf\u001b[39m\u001b[38;5;124m\"\u001b[39m\u001b[38;5;124mChunk mismatch for branch <\u001b[39m\u001b[38;5;132;01m{\u001b[39;00mchunk[\u001b[38;5;124m'\u001b[39m\u001b[38;5;124mbranch\u001b[39m\u001b[38;5;124m'\u001b[39m]\u001b[38;5;132;01m}\u001b[39;00m\u001b[38;5;124m> : \u001b[39m\u001b[38;5;132;01m{\u001b[39;00mmeta[\u001b[38;5;124m'\u001b[39m\u001b[38;5;124mnEvtSum\u001b[39m\u001b[38;5;124m'\u001b[39m]\u001b[38;5;132;01m}\u001b[39;00m\u001b[38;5;124m vs \u001b[39m\u001b[38;5;132;01m{\u001b[39;00mchunk[\u001b[38;5;124m'\u001b[39m\u001b[38;5;124mchunk_size\u001b[39m\u001b[38;5;124m'\u001b[39m]\u001b[38;5;132;01m}\u001b[39;00m\u001b[38;5;124m\"\u001b[39m)\n",
      "\u001b[0;31mException\u001b[0m: Chunk mismatch for branch <0> : 3583 vs 3600"
     ]
    }
   ],
   "source": [
    "for chunk in chunks:\n",
    "    with open(f'{DATA_ROOT}/{chunk[\"branch\"]}_FinalStateMeta.json') as metaf:\n",
    "        meta = load(metaf)\n",
    "        \n",
    "        if meta['nEvtSum'] != chunk['chunk_size']:\n",
    "            raise Exception(f\"Chunk mismatch for branch <{chunk['branch']}> : {meta['nEvtSum']} vs {chunk['chunk_size']}\")"
   ]
  },
  {
   "cell_type": "code",
   "execution_count": null,
   "metadata": {},
   "outputs": [],
   "source": []
  },
  {
   "cell_type": "markdown",
   "metadata": {},
   "source": []
  },
  {
   "cell_type": "code",
   "execution_count": 5,
   "metadata": {},
   "outputs": [],
   "source": [
    "files = ['_PreSelection_llHH.root',\n",
    "         '_PreSelection_vvHH.root',\n",
    "         '_PreSelection_qqHH.root',\n",
    "         '_FinalStates.root',\n",
    "         '_FinalStateMeta.json',\n",
    "         '.slcio',\n",
    "         '_Source.txt']\n",
    "\n",
    "sel_chunks = chunks[chunks['chunk_start'] == 0]\n",
    "to_delete = []\n",
    "for chunk in sel_chunks:\n",
    "    for f in files:\n",
    "        path = f'{DATA_ROOT}/{chunk[\"branch\"]}{f}'\n",
    "        if osp.isfile(path):\n",
    "            to_delete.append(path)\n",
    "\n",
    "for p in tqdm(to_delete):\n",
    "    os.remove(p)"
   ]
  },
  {
   "cell_type": "code",
   "execution_count": 5,
   "metadata": {},
   "outputs": [
    {
     "data": {
      "text/plain": [
       "array([(12902, 'eeveev', 'eeveev_RR', '/pnfs/desy.de/ilc/prod/ilc/ild/copy/dst-merged/500-TDR_ws/6f_eeWW/ILD_l5_o1_v02/v02-00-01/rv02-00-01.sv02-00-01.mILD_l5_o1_v02.E500-TDR_ws.I108622.Peeveev.eR.pR.n001.d_dstm_10322_0.slcio', 0, 0, 1)],\n",
       "      dtype=[('branch', '<i4'), ('process', '<U60'), ('proc_pol', '<U64'), ('location', '<U512'), ('n_chunks', '<i4'), ('chunk_start', '<i4'), ('chunk_size', '<i4')])"
      ]
     },
     "execution_count": 5,
     "metadata": {},
     "output_type": "execute_result"
    }
   ],
   "source": [
    "chunks[chunks['branch'] == 12902]"
   ]
  },
  {
   "cell_type": "markdown",
   "metadata": {},
   "source": [
    "Introduce indices on samples and processes (included in future runs)"
   ]
  },
  {
   "cell_type": "code",
   "execution_count": 12,
   "metadata": {},
   "outputs": [
    {
     "name": "stdout",
     "output_type": "stream",
     "text": [
      "Conversion successful\n"
     ]
    }
   ],
   "source": [
    "dtype_sample = ProcessIndex.dtype_sample\n",
    "dtype_process = ProcessIndex.dtype_process\n",
    "\n",
    "if not 'sid' in samples.dtype.names:\n",
    "    samples_new = np.empty(len(samples), dtype=dtype_sample)\n",
    "    samples_new['sid'] = np.arange(len(samples))\n",
    "    for col in samples.dtype.names:\n",
    "        samples_new[col] = samples[col]\n",
    "        \n",
    "    if len(samples) == len(samples_new):\n",
    "        np.save(f'{INDEX_DIR}/samples.npy', samples_new)\n",
    "\n",
    "if not 'pid' in processes.dtype.names:\n",
    "    #processes_new = np.array([pids, *(processes[col] for col in processes.dtype.names)], dtype=dtype_process)\n",
    "    processes_new = np.empty(len(processes), dtype=dtype_process)\n",
    "    processes_new['pid'] = np.arange(len(processes))\n",
    "    for col in processes.dtype.names:\n",
    "        processes_new[col] = processes[col]\n",
    "\n",
    "    if len(processes) == len(processes_new):\n",
    "        np.save(f'{INDEX_DIR}/processes.npy', processes_new)\n",
    "        \n",
    "print('Conversion successful')"
   ]
  },
  {
   "cell_type": "markdown",
   "metadata": {},
   "source": [
    "Prototyping"
   ]
  },
  {
   "cell_type": "code",
   "execution_count": 16,
   "metadata": {},
   "outputs": [
    {
     "data": {
      "application/vnd.jupyter.widget-view+json": {
       "model_id": "e2e80f8702a54d2f967c3d5acdd7e708",
       "version_major": 2,
       "version_minor": 0
      },
      "text/plain": [
       "  0%|          | 0/15497 [00:00<?, ?it/s]"
      ]
     },
     "metadata": {},
     "output_type": "display_data"
    }
   ],
   "source": [
    "results = get_preselection_passes(DATA_ROOT)"
   ]
  },
  {
   "cell_type": "code",
   "execution_count": 17,
   "metadata": {},
   "outputs": [],
   "source": [
    "np.save(f'{REPO_ROOT}/preselection.npy', results)"
   ]
  },
  {
   "cell_type": "code",
   "execution_count": 10,
   "metadata": {},
   "outputs": [],
   "source": [
    "results = np.load(f'{REPO_ROOT}/preselection.npy')"
   ]
  },
  {
   "cell_type": "code",
   "execution_count": null,
   "metadata": {},
   "outputs": [],
   "source": []
  },
  {
   "cell_type": "code",
   "execution_count": 15,
   "metadata": {},
   "outputs": [],
   "source": [
    "from ast import literal_eval as make_tuple\n",
    "import json\n",
    "\n",
    "def test_meta_files(DATA_ROOT:str=DATA_ROOT)->bool:\n",
    "    files = glob(f'{DATA_ROOT}/*_Source.txt')\n",
    "    #branches = list(map(lambda x: x.split(f'{DATA_ROOT}/')[1].split('_Source.txt')[0], files))\n",
    "\n",
    "    for f in tqdm(files):\n",
    "        branch = f.split(f'{DATA_ROOT}/')[1].split('_Source.txt')[0]\n",
    "        \n",
    "        if osp.isfile(f'{DATA_ROOT}/{branch}_FinalStateMeta.json'):\n",
    "            with open(f, 'r') as file:\n",
    "                src_spec = file.read()\n",
    "                if src_spec.startswith('('):\n",
    "                    src_file, chunk_start, chunk_end = make_tuple(src_spec)\n",
    "                else:\n",
    "                    src_file = src_spec\n",
    "            \n",
    "            # Read metadata\n",
    "            with open(f'{DATA_ROOT}/{branch}_FinalStateMeta.json', 'r') as file:\n",
    "                meta = json.load(file)\n",
    "\n",
    "            n_gen = meta['nEvtSum']\n",
    "            proc = meta[\"processName\"]\n",
    "            \n",
    "            if proc == '' or n_gen == 0:\n",
    "                print(src_file)\n",
    "                raise Exception(branch)\n",
    "    \n",
    "    return True"
   ]
  },
  {
   "cell_type": "code",
   "execution_count": 16,
   "metadata": {},
   "outputs": [
    {
     "data": {
      "application/vnd.jupyter.widget-view+json": {
       "model_id": "4d2d975f796f44c99c34faa1a2447bc0",
       "version_major": 2,
       "version_minor": 0
      },
      "text/plain": [
       "  0%|          | 0/14449 [00:00<?, ?it/s]"
      ]
     },
     "metadata": {},
     "output_type": "display_data"
    },
    {
     "data": {
      "text/plain": [
       "True"
      ]
     },
     "execution_count": 16,
     "metadata": {},
     "output_type": "execute_result"
    }
   ],
   "source": [
    "test_meta_files()"
   ]
  },
  {
   "cell_type": "code",
   "execution_count": null,
   "metadata": {},
   "outputs": [],
   "source": [
    "for entry in results:\n",
    "    print(f'{entry[\"proc_pol\"]} | {entry[\"n_gen\"]} events | wt: {entry[\"weight\"]} | {entry[\"n_pass_llhh\"]} : {entry[\"n_pass_vvhh\"]} : {entry[\"n_pass_qqhh\"]}')\n",
    "    \n",
    "#np.save(f'{REPO_ROOT}/results.npy', results)"
   ]
  },
  {
   "cell_type": "markdown",
   "metadata": {},
   "source": [
    "Preselection Detailed"
   ]
  },
  {
   "cell_type": "code",
   "execution_count": 11,
   "metadata": {},
   "outputs": [],
   "source": [
    "a = ur.open(f'{DATA_ROOT}/{branch}_PreSelection_{presel}.root:eventTree')"
   ]
  },
  {
   "cell_type": "code",
   "execution_count": 10,
   "metadata": {},
   "outputs": [],
   "source": [
    "if True:\n",
    "    DATA_ROOT = f'/nfs/dust/ilc/user/bliewert/zhh/PreselectionFinal/{version}'\n",
    "    branch = 0\n",
    "    presel = 'llHH'\n",
    "else:\n",
    "    DATA_ROOT = f'/afs/desy.de/user/b/bliewert/public/MarlinWorkdirs/ZHH/output'\n",
    "    branch = 'zhh'\n",
    "    presel = 'llHH'"
   ]
  },
  {
   "cell_type": "code",
   "execution_count": 3,
   "metadata": {},
   "outputs": [],
   "source": [
    "a = ur.open(f'{DATA_ROOT}/{branch}_FinalStates.root')\n",
    "b = a['eventTree']"
   ]
  },
  {
   "cell_type": "code",
   "execution_count": 3,
   "metadata": {},
   "outputs": [],
   "source": [
    "chunks_factual = get_chunks_factual(DATA_ROOT, chunks)"
   ]
  },
  {
   "cell_type": "code",
   "execution_count": 16,
   "metadata": {},
   "outputs": [
    {
     "data": {
      "application/vnd.jupyter.widget-view+json": {
       "model_id": "404dfcb6820048f3b218b532d08518a6",
       "version_major": 2,
       "version_minor": 0
      },
      "text/plain": [
       "  0%|          | 0/2 [00:00<?, ?it/s]"
      ]
     },
     "metadata": {},
     "output_type": "display_data"
    }
   ],
   "source": [
    "module_reload('zhh')\n",
    "from zhh import presel_stack\n",
    "\n",
    "presel_results = presel_stack(DATA_ROOT, processes, chunks_factual, [0,1])#chunks['branch'])"
   ]
  },
  {
   "cell_type": "code",
   "execution_count": 20,
   "metadata": {},
   "outputs": [
    {
     "data": {
      "text/plain": [
       "array([(    0, '2f_z_bhabhag', '2f_z_bhabhag_LL', '/pnfs/desy.de/ilc/prod/ilc/ild/copy/dst-merged/500-TDR_ws/2f_Z_bhabhag/ILD_l5_o1_v02/v02-00-01/rv02-00-01.sv02-00-01.mILD_l5_o1_v02.E500-TDR_ws.I250101.P2f_z_bhabhag.eL.pL.n001.d_dstm_10366_8.slcio', 0,    0, 3600, 3583),\n",
       "       (    1, '2f_z_bhabhag', '2f_z_bhabhag_LL', '/pnfs/desy.de/ilc/prod/ilc/ild/copy/dst-merged/500-TDR_ws/2f_Z_bhabhag/ILD_l5_o1_v02/v02-00-01/rv02-00-01.sv02-00-01.mILD_l5_o1_v02.E500-TDR_ws.I250101.P2f_z_bhabhag.eL.pL.n001.d_dstm_10366_8.slcio', 1, 3600, 3600, 3582),\n",
       "       (    2, '2f_z_bhabhag', '2f_z_bhabhag_LL', '/pnfs/desy.de/ilc/prod/ilc/ild/copy/dst-merged/500-TDR_ws/2f_Z_bhabhag/ILD_l5_o1_v02/v02-00-01/rv02-00-01.sv02-00-01.mILD_l5_o1_v02.E500-TDR_ws.I250101.P2f_z_bhabhag.eL.pL.n001.d_dstm_10366_8.slcio', 2, 7200, 3600, 3582),\n",
       "       ...,\n",
       "       (15494, 'yyyyvv', 'yyyyvv_RL', '/pnfs/desy.de/ilc/prod/ilc/ild/copy/dst-merged/500-TDR_ws/6f_yyyyZ/ILD_l5_o1_v02/v02-00-01/rv02-00-01.sv02-00-01.mILD_l5_o1_v02.E500-TDR_ws.I108686.Pyyyyvv.eR.pL.n001.d_dstm_10330_0.slcio', 0,    0,    1,    1),\n",
       "       (15495, 'yyyyyy', 'yyyyyy_LR', '/pnfs/desy.de/ilc/prod/ilc/ild/copy/dst-merged/500-TDR_ws/6f_yyyyZ/ILD_l5_o1_v02/v02-00-01/rv02-00-01.sv02-00-01.mILD_l5_o1_v02.E500-TDR_ws.I108573.Pyyyyyy.eL.pR.n001.d_dstm_10330_0.slcio', 0,    0,   15,   15),\n",
       "       (15496, 'yyyyyy', 'yyyyyy_RL', '/pnfs/desy.de/ilc/prod/ilc/ild/copy/dst-merged/500-TDR_ws/6f_yyyyZ/ILD_l5_o1_v02/v02-00-01/rv02-00-01.sv02-00-01.mILD_l5_o1_v02.E500-TDR_ws.I108574.Pyyyyyy.eR.pL.n001.d_dstm_10330_1.slcio', 0,    0,    1,    1)],\n",
       "      dtype=[('branch', '<i4'), ('process', '<U60'), ('proc_pol', '<U64'), ('location', '<U512'), ('n_chunks', '<i4'), ('chunk_start', '<i4'), ('chunk_size', '<i4'), ('chunk_size_factual', '<u4')])"
      ]
     },
     "execution_count": 20,
     "metadata": {},
     "output_type": "execute_result"
    }
   ],
   "source": [
    "chunks_factual"
   ]
  },
  {
   "cell_type": "code",
   "execution_count": 21,
   "metadata": {},
   "outputs": [
    {
     "data": {
      "application/vnd.jupyter.widget-view+json": {
       "model_id": "3ceaabea426a4445ae2238b47b25f64b",
       "version_major": 2,
       "version_minor": 0
      },
      "text/plain": [
       "  0%|          | 0/16 [00:00<?, ?it/s]"
      ]
     },
     "metadata": {},
     "output_type": "display_data"
    }
   ],
   "source": [
    "files = glob(f'/nfs/dust/ilc/user/bliewert/zhh/PreselectionSummary/v1/[0-9]*.npy')\n",
    "size_tot = chunks_factual['chunk_size_factual'].sum()\n",
    "presel_results = None\n",
    "pointer = 0\n",
    "\n",
    "for file in tqdm(files):\n",
    "    part = np.load(file)\n",
    "    if presel_results is None:\n",
    "        presel_results = np.zeros(size_tot, dtype=part.dtype)\n",
    "        \n",
    "    presel_results[pointer:(pointer+len(part))] = part\n",
    "    pointer += len(part)"
   ]
  },
  {
   "cell_type": "code",
   "execution_count": null,
   "metadata": {},
   "outputs": [],
   "source": []
  },
  {
   "cell_type": "code",
   "execution_count": 23,
   "metadata": {},
   "outputs": [],
   "source": [
    "pids = np.unique(presel_results['pid'])\n",
    "weights = np.zeros(len(pids), dtype=[('pid', 'H'), ('weight', 'f')])\n",
    "weights['pid'] = pids\n",
    "\n",
    "for pid in pids:\n",
    "    process = processes[processes['pid'] == pid][0]\n",
    "    pol_em, pol_ep = process['pol_e'], process['pol_p']\n",
    "    cross_sec = process['cross_sec']\n",
    "    \n",
    "    n_gen = np.sum(presel_results['pid'] == pid)\n",
    "    \n",
    "    weights['weight'][weights['pid'] == pid] = sample_weight(cross_sec, (pol_em, pol_ep), n_gen)"
   ]
  },
  {
   "cell_type": "code",
   "execution_count": 25,
   "metadata": {},
   "outputs": [],
   "source": [
    "if False:\n",
    "    presel_results = np.load(f'/nfs/dust/ilc/user/bliewert/zhh/PreselectionSummary/v1/presel_results.npy')\n",
    "    weights = np.load(f'/nfs/dust/ilc/user/bliewert/zhh/PreselectionSummary/v1/presel_weights.npy')\n",
    "else:\n",
    "    np.save(f'/nfs/dust/ilc/user/bliewert/zhh/PreselectionSummary/v1/presel_results.npy', presel_results)\n",
    "    np.save(f'/nfs/dust/ilc/user/bliewert/zhh/PreselectionSummary/v1/presel_weights.npy', weights)"
   ]
  },
  {
   "cell_type": "code",
   "execution_count": 28,
   "metadata": {},
   "outputs": [],
   "source": [
    "import matplotlib.pyplot as plt\n",
    "category_map = { key:value for key, value in EventCategories.EVENT_CATEGORY_TRUE.__dict__.items() if not key.startswith('__') and not callable(key)}\n",
    "category_map_inv = { v: k for k, v in category_map.items() }"
   ]
  },
  {
   "cell_type": "code",
   "execution_count": 29,
   "metadata": {},
   "outputs": [
    {
     "name": "stdout",
     "output_type": "stream",
     "text": [
      "expected llHH: 41.17 events\n"
     ]
    }
   ],
   "source": [
    "unq_processes = np.unique(processes['process'])\n",
    "expected_events = np.zeros(len(unq_processes), dtype=[('process', '<U60'), ('evt_expeceted', 'f')])\n",
    "expected_events['process'] = unq_processes\n",
    "\n",
    "for process_name in unq_processes:\n",
    "    for process in processes[processes['process'] == process_name]:\n",
    "        weight = weights['weight'][weights['pid'] == process['pid']][0]\n",
    "        expected_events['evt_expeceted'][expected_events['process'] == process_name] += np.sum(chunks_factual['chunk_size_factual'][chunks_factual['proc_pol'] == process['proc_pol']])*weight\n",
    "        \n",
    "res = 0.\n",
    "for process_name in ['e1e1hh', 'e2e2hh', 'e3e3hh']:\n",
    "    res += expected_events['evt_expeceted'][expected_events['process'] == process_name][0]\n",
    "\n",
    "print(f'expected llHH: {res:.2f} events')"
   ]
  },
  {
   "cell_type": "code",
   "execution_count": null,
   "metadata": {},
   "outputs": [],
   "source": []
  },
  {
   "cell_type": "code",
   "execution_count": 30,
   "metadata": {},
   "outputs": [
    {
     "data": {
      "application/vnd.jupyter.widget-view+json": {
       "model_id": "63ce44e5f35447ca829001c6055dea92",
       "version_major": 2,
       "version_minor": 0
      },
      "text/plain": [
       "  0%|          | 0/21 [00:00<?, ?it/s]"
      ]
     },
     "metadata": {},
     "output_type": "display_data"
    },
    {
     "data": {
      "application/vnd.jupyter.widget-view+json": {
       "model_id": "1f7040a83c074d73928444deed38defc",
       "version_major": 2,
       "version_minor": 0
      },
      "text/plain": [
       "  0%|          | 0/21 [00:00<?, ?it/s]"
      ]
     },
     "metadata": {},
     "output_type": "display_data"
    },
    {
     "data": {
      "application/vnd.jupyter.widget-view+json": {
       "model_id": "fc0cc69791284493aebfc86b0906c4d5",
       "version_major": 2,
       "version_minor": 0
      },
      "text/plain": [
       "  0%|          | 0/21 [00:00<?, ?it/s]"
      ]
     },
     "metadata": {},
     "output_type": "display_data"
    },
    {
     "data": {
      "image/png": "[encoded data removed]",
      "text/plain": [
       "<Figure size 1200x300 with 1 Axes>"
      ]
     },
     "metadata": {},
     "output_type": "display_data"
    },
    {
     "data": {
      "image/png": "[encoded data removed]",
      "text/plain": [
       "<Figure size 1200x300 with 1 Axes>"
      ]
     },
     "metadata": {},
     "output_type": "display_data"
    },
    {
     "data": {
      "image/png": "[encoded data removed]",
      "text/plain": [
       "<Figure size 1200x300 with 1 Axes>"
      ]
     },
     "metadata": {},
     "output_type": "display_data"
    }
   ],
   "source": [
    "event_categories = np.unique(presel_results['event_category'])\n",
    "event_categories = event_categories[event_categories != 0]\n",
    "per_cat = {}\n",
    "\n",
    "for presel in ['ll', 'vv', 'qq']:\n",
    "    dtype = [\n",
    "        ('category', 'i'),\n",
    "        ('passes', 'f')\n",
    "    ]\n",
    "    passes_per_cat = np.zeros(len(event_categories), dtype=dtype)\n",
    "    passes_per_cat['category'] = event_categories\n",
    "    \n",
    "    i = 0\n",
    "    for category in tqdm(event_categories):\n",
    "        passes_per_cat[i]['category'] = category\n",
    "        events = presel_results[presel_results['event_category'] == category]\n",
    "        \n",
    "        res = 0.\n",
    "        for pid in np.unique(events['pid']):\n",
    "            subset = events[events['pid'] == pid]\n",
    "            res += np.sum(subset[f'{presel}_pass'] == 1) * weights['weight'][weights['pid'] == pid][0]\n",
    "        \n",
    "        passes_per_cat[i]['passes'] = res\n",
    "        \n",
    "        i += 1\n",
    "            \n",
    "    per_cat[presel] = passes_per_cat\n",
    "        \n",
    "    sorted = passes_per_cat[np.argsort(-passes_per_cat['passes'])][:11]\n",
    "    categories = []\n",
    "    for s in sorted:\n",
    "        categories.append(category_map_inv[s['category']])\n",
    "    \n",
    "    fig, ax = plt.subplots(figsize=(12, 3))\n",
    "    ax.bar(categories, sorted['passes'])\n",
    "    ax.set_title(f'{presel}HH')\n",
    "    ax.set_yscale('log')\n",
    "    ax.set_ylabel('passes (unweighted)')"
   ]
  },
  {
   "cell_type": "code",
   "execution_count": 8,
   "metadata": {},
   "outputs": [
    {
     "name": "stdout",
     "output_type": "stream",
     "text": [
      "(127, 95, 88168, 70, 0, 0, 1)\n",
      "88168\n"
     ]
    }
   ],
   "source": [
    "pres = presel_results[presel_results['event_category'] == category_map['OTHER_TTBAR']][0]\n",
    "print(pres)\n",
    "print(pres['event'])"
   ]
  },
  {
   "cell_type": "code",
   "execution_count": 13,
   "metadata": {},
   "outputs": [
    {
     "data": {
      "text/plain": [
       "127"
      ]
     },
     "execution_count": 13,
     "metadata": {},
     "output_type": "execute_result"
    }
   ],
   "source": [
    "presel_results['sid'][-20]"
   ]
  },
  {
   "cell_type": "code",
   "execution_count": 109,
   "metadata": {},
   "outputs": [
    {
     "data": {
      "text/plain": [
       "array(['/pnfs/desy.de/ilc/prod/ilc/ild/copy/dst-merged/500-TDR_ws/6f_llWW/ILD_l5_o1_v02/v02-00-01/rv02-00-01.sv02-00-01.mILD_l5_o1_v02.E500-TDR_ws.I108581.Pllvllv.eL.pR.n001.d_dstm_10358_0.slcio',\n",
       "       '/pnfs/desy.de/ilc/prod/ilc/ild/copy/dst-merged/500-TDR_ws/6f_llWW/ILD_l5_o1_v02/v02-00-01/rv02-00-01.sv02-00-01.mILD_l5_o1_v02.E500-TDR_ws.I108582.Pllvllv.eR.pL.n001.d_dstm_10358_0.slcio'],\n",
       "      dtype='<U512')"
      ]
     },
     "execution_count": 109,
     "metadata": {},
     "output_type": "execute_result"
    }
   ],
   "source": [
    "chunks['location'][chunks['process'] == 'llvllv']"
   ]
  },
  {
   "cell_type": "code",
   "execution_count": null,
   "metadata": {},
   "outputs": [],
   "source": []
  }
 ],
 "metadata": {
  "kernelspec": {
   "display_name": "graphjet_pyg",
   "language": "python",
   "name": "python3"
  },
  "language_info": {
   "codemirror_mode": {
    "name": "ipython",
    "version": 3
   },
   "file_extension": ".py",
   "mimetype": "text/x-python",
   "name": "python",
   "nbconvert_exporter": "python",
   "pygments_lexer": "ipython3",
   "version": "3.11.4"
  }
 },
 "nbformat": 4,
 "nbformat_minor": 2
}
