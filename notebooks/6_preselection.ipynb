{
 "cells": [
  {
   "cell_type": "code",
   "execution_count": 26,
   "metadata": {},
   "outputs": [],
   "source": [
    "from glob import glob\n",
    "import uproot as ur\n",
    "import numpy as np\n",
    "import json, os\n",
    "import os.path as osp\n",
    "from tqdm.auto import tqdm\n",
    "from typing import Optional\n",
    "from json import load\n",
    "from phc import module_reload, plot_hist\n",
    "module_reload('zhh')\n",
    "from zhh import parse_sample_path, get_preselection_passes, ProcessIndex, \\\n",
    "    get_chunks_factual, EventCategories, sample_weight, presel_stack, \\\n",
    "    parse_json, get_pol_key, get_final_state_counts\n",
    "version = 'v1'\n",
    "\n",
    "REPO_ROOT = '/afs/desy.de/user/b/bliewert/public/MarlinWorkdirs/ZHH'\n",
    "DATA_ROOT = f'/nfs/dust/ilc/user/bliewert/zhh/PreselectionFinal/{version}'\n",
    "INDEX_DIR = '/nfs/dust/ilc/user/bliewert/zhh/CreateRawIndex/v1'\n",
    "\n",
    "processes = np.load(f'{INDEX_DIR}/processes.npy')\n",
    "samples = np.load(f'{INDEX_DIR}/samples.npy')\n",
    "chunks = np.load(f'{DATA_ROOT}/../../CreatePreselectionChunks/v1/chunks.npy')"
   ]
  },
  {
   "cell_type": "code",
   "execution_count": 2,
   "metadata": {},
   "outputs": [],
   "source": [
    "chunks_f = get_chunks_factual(DATA_ROOT, chunks_in=chunks)"
   ]
  },
  {
   "cell_type": "markdown",
   "metadata": {},
   "source": [
    "Validate chunks"
   ]
  },
  {
   "cell_type": "code",
   "execution_count": 5,
   "metadata": {},
   "outputs": [
    {
     "name": "stdout",
     "output_type": "stream",
     "text": [
      "Chunks OK\n"
     ]
    }
   ],
   "source": [
    "subset = chunks_f[chunks_f['chunk_size_factual'] <= 0]\n",
    "if len(subset) > 0:\n",
    "    raise Exception(f\"Invalid chunk length mismatch for branch <{subset['branch']}>\")\n",
    "else:\n",
    "    print('Chunks OK')"
   ]
  },
  {
   "cell_type": "markdown",
   "metadata": {},
   "source": [
    "Introduce indices on samples and processes (included in future runs)"
   ]
  },
  {
   "cell_type": "code",
   "execution_count": 12,
   "metadata": {},
   "outputs": [
    {
     "name": "stdout",
     "output_type": "stream",
     "text": [
      "Conversion successful\n"
     ]
    }
   ],
   "source": [
    "dtype_sample = ProcessIndex.dtype_sample\n",
    "dtype_process = ProcessIndex.dtype_process\n",
    "\n",
    "if not 'sid' in samples.dtype.names:\n",
    "    samples_new = np.empty(len(samples), dtype=dtype_sample)\n",
    "    samples_new['sid'] = np.arange(len(samples))\n",
    "    for col in samples.dtype.names:\n",
    "        samples_new[col] = samples[col]\n",
    "        \n",
    "    if len(samples) == len(samples_new):\n",
    "        np.save(f'{INDEX_DIR}/samples.npy', samples_new)\n",
    "\n",
    "if not 'pid' in processes.dtype.names:\n",
    "    #processes_new = np.array([pids, *(processes[col] for col in processes.dtype.names)], dtype=dtype_process)\n",
    "    processes_new = np.empty(len(processes), dtype=dtype_process)\n",
    "    processes_new['pid'] = np.arange(len(processes))\n",
    "    for col in processes.dtype.names:\n",
    "        processes_new[col] = processes[col]\n",
    "\n",
    "    if len(processes) == len(processes_new):\n",
    "        np.save(f'{INDEX_DIR}/processes.npy', processes_new)\n",
    "        \n",
    "print('Conversion successful')"
   ]
  },
  {
   "cell_type": "markdown",
   "metadata": {},
   "source": [
    "Prototyping"
   ]
  },
  {
   "cell_type": "code",
   "execution_count": 16,
   "metadata": {},
   "outputs": [
    {
     "data": {
      "application/vnd.jupyter.widget-view+json": {
       "model_id": "e2e80f8702a54d2f967c3d5acdd7e708",
       "version_major": 2,
       "version_minor": 0
      },
      "text/plain": [
       "  0%|          | 0/15497 [00:00<?, ?it/s]"
      ]
     },
     "metadata": {},
     "output_type": "display_data"
    }
   ],
   "source": [
    "results = get_preselection_passes(DATA_ROOT)"
   ]
  },
  {
   "cell_type": "code",
   "execution_count": 17,
   "metadata": {},
   "outputs": [],
   "source": [
    "np.save(f'{REPO_ROOT}/preselection.npy', results)"
   ]
  },
  {
   "cell_type": "code",
   "execution_count": 10,
   "metadata": {},
   "outputs": [],
   "source": [
    "results = np.load(f'{REPO_ROOT}/preselection.npy')"
   ]
  },
  {
   "cell_type": "code",
   "execution_count": null,
   "metadata": {},
   "outputs": [],
   "source": []
  },
  {
   "cell_type": "code",
   "execution_count": 15,
   "metadata": {},
   "outputs": [],
   "source": [
    "from ast import literal_eval as make_tuple\n",
    "import json\n",
    "\n",
    "def test_meta_files(DATA_ROOT:str=DATA_ROOT)->bool:\n",
    "    files = glob(f'{DATA_ROOT}/*_Source.txt')\n",
    "    #branches = list(map(lambda x: x.split(f'{DATA_ROOT}/')[1].split('_Source.txt')[0], files))\n",
    "\n",
    "    for f in tqdm(files):\n",
    "        branch = f.split(f'{DATA_ROOT}/')[1].split('_Source.txt')[0]\n",
    "        \n",
    "        if osp.isfile(f'{DATA_ROOT}/{branch}_FinalStateMeta.json'):\n",
    "            with open(f, 'r') as file:\n",
    "                src_spec = file.read()\n",
    "                if src_spec.startswith('('):\n",
    "                    src_file, chunk_start, chunk_end = make_tuple(src_spec)\n",
    "                else:\n",
    "                    src_file = src_spec\n",
    "            \n",
    "            # Read metadata\n",
    "            with open(f'{DATA_ROOT}/{branch}_FinalStateMeta.json', 'r') as file:\n",
    "                meta = json.load(file)\n",
    "\n",
    "            n_gen = meta['nEvtSum']\n",
    "            proc = meta[\"processName\"]\n",
    "            \n",
    "            if proc == '' or n_gen == 0:\n",
    "                print(src_file)\n",
    "                raise Exception(branch)\n",
    "    \n",
    "    return True"
   ]
  },
  {
   "cell_type": "code",
   "execution_count": 16,
   "metadata": {},
   "outputs": [
    {
     "data": {
      "application/vnd.jupyter.widget-view+json": {
       "model_id": "4d2d975f796f44c99c34faa1a2447bc0",
       "version_major": 2,
       "version_minor": 0
      },
      "text/plain": [
       "  0%|          | 0/14449 [00:00<?, ?it/s]"
      ]
     },
     "metadata": {},
     "output_type": "display_data"
    },
    {
     "data": {
      "text/plain": [
       "True"
      ]
     },
     "execution_count": 16,
     "metadata": {},
     "output_type": "execute_result"
    }
   ],
   "source": [
    "test_meta_files()"
   ]
  },
  {
   "cell_type": "code",
   "execution_count": null,
   "metadata": {},
   "outputs": [],
   "source": [
    "for entry in results:\n",
    "    print(f'{entry[\"proc_pol\"]} | {entry[\"n_gen\"]} events | wt: {entry[\"weight\"]} | {entry[\"n_pass_llhh\"]} : {entry[\"n_pass_vvhh\"]} : {entry[\"n_pass_qqhh\"]}')\n",
    "    \n",
    "#np.save(f'{REPO_ROOT}/results.npy', results)"
   ]
  },
  {
   "cell_type": "markdown",
   "metadata": {},
   "source": [
    "Preselection Detailed"
   ]
  },
  {
   "cell_type": "code",
   "execution_count": null,
   "metadata": {},
   "outputs": [],
   "source": [
    "mode = 'prod'\n",
    "\n",
    "if mode == 'prod':\n",
    "    DATA_R = f'/nfs/dust/ilc/user/bliewert/zhh/PreselectionFinal/{version}'\n",
    "    branches = [14336]\n",
    "    presel = 'llHH'\n",
    "elif mode == 'debug':\n",
    "    DATA_R = f'{REPO_ROOT}/output'\n",
    "    branches = ['zhh']\n",
    "    presel = 'llHH'\n",
    "\n",
    "get_final_state_counts(DATA_R, branches, chunks_f)"
   ]
  },
  {
   "cell_type": "code",
   "execution_count": null,
   "metadata": {},
   "outputs": [],
   "source": []
  },
  {
   "cell_type": "code",
   "execution_count": 22,
   "metadata": {},
   "outputs": [
    {
     "data": {
      "application/vnd.jupyter.widget-view+json": {
       "model_id": "823358cd71ee4c8faf0480a5da67a01d",
       "version_major": 2,
       "version_minor": 0
      },
      "text/plain": [
       "  0%|          | 0/16 [00:00<?, ?it/s]"
      ]
     },
     "metadata": {},
     "output_type": "display_data"
    },
    {
     "data": {
      "application/vnd.jupyter.widget-view+json": {
       "model_id": "617a41f8a499493d9a626b14816fcae4",
       "version_major": 2,
       "version_minor": 0
      },
      "text/plain": [
       "  0%|          | 0/276 [00:00<?, ?it/s]"
      ]
     },
     "metadata": {},
     "output_type": "display_data"
    }
   ],
   "source": [
    "module_reload('zhh')\n",
    "from zhh import presel_stack\n",
    "\n",
    "if mode == 'prod-debug':\n",
    "    # create PreselectionSummary results here\n",
    "    presel_results = presel_stack(DATA_ROOT, processes, chunks_f, [0,1])#chunks['branch'])\n",
    "elif mode == 'prod':\n",
    "    # use PreselectionSummary results\n",
    "    files = glob(f'/nfs/dust/ilc/user/bliewert/zhh/PreselectionSummary/v1/[0-9]*.npy')\n",
    "    size_tot = chunks_f['chunk_size_factual'].sum()\n",
    "    presel_results = None\n",
    "    pointer = 0\n",
    "\n",
    "    for file in tqdm(files):\n",
    "        part = np.load(file)\n",
    "        if presel_results is None:\n",
    "            presel_results = np.zeros(size_tot, dtype=part.dtype)\n",
    "            \n",
    "        presel_results[pointer:(pointer+len(part))] = part\n",
    "        pointer += len(part)\n",
    "elif mode == 'debug':\n",
    "    branch = 'zhh'\n",
    "    meta = parse_json(f'{REPO_ROOT}/output/{branch}_FinalStateMeta.json')\n",
    "    \n",
    "    chunks_f_deb = np.zeros(1, dtype=[('branch', f'<U{len(branch)}'), ('proc_pol', '<U32'), ('chunk_size_factual', 'I')])\n",
    "    chunks_f_deb['branch'] = 'zhh'\n",
    "    chunks_f_deb['proc_pol'] = f\"{meta['processName']}_{get_pol_key(meta['polElectron'], meta['polPositron'])}\"\n",
    "    chunks_f_deb['chunk_size_factual'] = meta['nEvtSum']\n",
    "    \n",
    "    presel_results = presel_stack(f'{REPO_ROOT}/output', processes, chunks_f_deb, [branch], kinematics=True)\n",
    "    \n",
    "# Calculate weights\n",
    "pids = np.unique(presel_results['pid'])\n",
    "weights = np.zeros(len(pids), dtype=[('pid', 'H'), ('weight', 'f')])\n",
    "weights['pid'] = pids\n",
    "\n",
    "for pid in tqdm(pids):\n",
    "    process = processes[processes['pid'] == pid][0]\n",
    "    pol_em, pol_ep = process['pol_e'], process['pol_p']\n",
    "    cross_sec = process['cross_sec']\n",
    "    \n",
    "    n_gen = np.sum(presel_results['pid'] == pid)\n",
    "    \n",
    "    weights['weight'][weights['pid'] == pid] = sample_weight(cross_sec, (pol_em, pol_ep), n_gen)"
   ]
  },
  {
   "cell_type": "code",
   "execution_count": null,
   "metadata": {},
   "outputs": [],
   "source": []
  },
  {
   "cell_type": "code",
   "execution_count": 9,
   "metadata": {},
   "outputs": [],
   "source": [
    "if False:\n",
    "    presel_results = np.load(f'/nfs/dust/ilc/user/bliewert/zhh/PreselectionSummary/v1/presel_results.npy')\n",
    "    weights = np.load(f'/nfs/dust/ilc/user/bliewert/zhh/PreselectionSummary/v1/presel_weights.npy')\n",
    "else:\n",
    "    np.save(f'/nfs/dust/ilc/user/bliewert/zhh/PreselectionSummary/v1/presel_results.npy', presel_results)\n",
    "    np.save(f'/nfs/dust/ilc/user/bliewert/zhh/PreselectionSummary/v1/presel_weights.npy', weights)"
   ]
  },
  {
   "cell_type": "code",
   "execution_count": 23,
   "metadata": {},
   "outputs": [],
   "source": [
    "import matplotlib.pyplot as plt\n",
    "import seaborn as sns\n",
    "category_map = { key:value for key, value in EventCategories.EVENT_CATEGORY_TRUE.__dict__.items() if not key.startswith('__') and not callable(key)}\n",
    "category_map_inv = { v: k for k, v in category_map.items() }\n",
    "\n",
    "category_arr = np.zeros(len(category_map_inv.keys()), dtype=[('evt_cat', 'I'), ('name', '<U16')])\n",
    "category_arr['evt_cat'] = list(category_map_inv.keys())\n",
    "category_arr['name'] = list(category_map_inv.values())"
   ]
  },
  {
   "cell_type": "code",
   "execution_count": 39,
   "metadata": {},
   "outputs": [
    {
     "data": {
      "image/png": "[encoded data removed]",
      "text/plain": [
       "<Figure size 2400x400 with 1 Axes>"
      ]
     },
     "metadata": {},
     "output_type": "display_data"
    }
   ],
   "source": [
    "unq_cat, unq_counts = np.unique(presel_results['event_category'], return_counts=True)\n",
    "mask = np.argsort(-unq_counts)\n",
    "\n",
    "unq_cat = unq_cat[mask]\n",
    "unq_counts = unq_counts[mask]\n",
    "cat_counts = dict(zip(unq_cat, unq_counts))\n",
    "unq_labels = category_arr['name'][np.isin(category_arr['evt_cat'], unq_cat)][mask]\n",
    "\n",
    "fig, ax = plt.subplots(figsize=(24, 4))\n",
    "\n",
    "ax.bar(unq_labels, unq_counts)\n",
    "for rect, label in zip(ax.patches, unq_counts):\n",
    "    height = rect.get_height()\n",
    "    ax.text(\n",
    "        rect.get_x() + rect.get_width() / 2, height + 5, label, ha=\"center\", va=\"bottom\"\n",
    "    )\n",
    "    \n",
    "ax.set_yscale('log')\n",
    "ax.set_xlim(-0.5, len(unq_labels)-.5)\n",
    "fig.set_tight_layout({\"pad\": .0})"
   ]
  },
  {
   "cell_type": "code",
   "execution_count": null,
   "metadata": {},
   "outputs": [],
   "source": []
  },
  {
   "cell_type": "code",
   "execution_count": 29,
   "metadata": {},
   "outputs": [
    {
     "name": "stdout",
     "output_type": "stream",
     "text": [
      "expected llHH: 41.17 events\n"
     ]
    }
   ],
   "source": [
    "unq_processes = np.unique(processes['process'])\n",
    "expected_events = np.zeros(len(unq_processes), dtype=[('process', '<U60'), ('evt_expeceted', 'f')])\n",
    "expected_events['process'] = unq_processes\n",
    "\n",
    "for process_name in unq_processes:\n",
    "    for process in processes[processes['process'] == process_name]:\n",
    "        weight = weights['weight'][weights['pid'] == process['pid']][0]\n",
    "        expected_events['evt_expeceted'][expected_events['process'] == process_name] += np.sum(chunks_f['chunk_size_factual'][chunks_f['proc_pol'] == process['proc_pol']])*weight\n",
    "        \n",
    "res = 0.\n",
    "for process_name in ['e1e1hh', 'e2e2hh', 'e3e3hh']:\n",
    "    res += expected_events['evt_expeceted'][expected_events['process'] == process_name][0]\n",
    "\n",
    "print(f'expected llHH: {res:.2f} events')"
   ]
  },
  {
   "cell_type": "code",
   "execution_count": null,
   "metadata": {},
   "outputs": [],
   "source": []
  },
  {
   "cell_type": "code",
   "execution_count": 40,
   "metadata": {},
   "outputs": [
    {
     "data": {
      "application/vnd.jupyter.widget-view+json": {
       "model_id": "9b254be594574fd78f5d597dcda76a63",
       "version_major": 2,
       "version_minor": 0
      },
      "text/plain": [
       "  0%|          | 0/38 [00:00<?, ?it/s]"
      ]
     },
     "metadata": {},
     "output_type": "display_data"
    },
    {
     "data": {
      "application/vnd.jupyter.widget-view+json": {
       "model_id": "e081b7d09833467aa08d59ab1dcb79a6",
       "version_major": 2,
       "version_minor": 0
      },
      "text/plain": [
       "  0%|          | 0/38 [00:00<?, ?it/s]"
      ]
     },
     "metadata": {},
     "output_type": "display_data"
    },
    {
     "data": {
      "application/vnd.jupyter.widget-view+json": {
       "model_id": "7e889ed9bba94110902a05edc837d9c2",
       "version_major": 2,
       "version_minor": 0
      },
      "text/plain": [
       "  0%|          | 0/38 [00:00<?, ?it/s]"
      ]
     },
     "metadata": {},
     "output_type": "display_data"
    },
    {
     "data": {
      "image/png": "[encoded data removed]",
      "text/plain": [
       "<Figure size 1200x300 with 1 Axes>"
      ]
     },
     "metadata": {},
     "output_type": "display_data"
    },
    {
     "data": {
      "image/png": "[encoded data removed]",
      "text/plain": [
       "<Figure size 1200x300 with 1 Axes>"
      ]
     },
     "metadata": {},
     "output_type": "display_data"
    },
    {
     "data": {
      "image/png": "[encoded data removed]",
      "text/plain": [
       "<Figure size 1200x300 with 1 Axes>"
      ]
     },
     "metadata": {},
     "output_type": "display_data"
    }
   ],
   "source": [
    "#event_categories = event_categories[event_categories != 0]\n",
    "per_cat = {}\n",
    "\n",
    "for presel in ['ll', 'vv', 'qq']:\n",
    "    dtype = [\n",
    "        ('category', 'i'),\n",
    "        ('passes', 'f')\n",
    "    ]\n",
    "    passes_per_cat = np.zeros(len(unq_cat), dtype=dtype)\n",
    "    passes_per_cat['category'] = unq_cat\n",
    "    \n",
    "    i = 0\n",
    "    for category in tqdm(unq_cat):\n",
    "        passes_per_cat[i]['category'] = category\n",
    "        events = presel_results[presel_results['event_category'] == category]\n",
    "        \n",
    "        res = 0.\n",
    "        for pid in np.unique(events['pid']):\n",
    "            subset = events[events['pid'] == pid]\n",
    "            res += np.sum(subset[f'{presel}_pass'] == 1) * weights['weight'][weights['pid'] == pid][0]\n",
    "        \n",
    "        passes_per_cat[i]['passes'] = res / cat_counts[category]\n",
    "        \n",
    "        i += 1\n",
    "            \n",
    "    per_cat[presel] = passes_per_cat\n",
    "        \n",
    "    sorted = passes_per_cat[np.argsort(-passes_per_cat['passes'])][:11]\n",
    "    categories = []\n",
    "    for s in sorted:\n",
    "        categories.append(category_map_inv[s['category']])\n",
    "    \n",
    "    fig, ax = plt.subplots(figsize=(12, 3))\n",
    "    ax.bar(categories, sorted['passes'])\n",
    "    ax.set_title(f'{presel}HH')\n",
    "    ax.set_yscale('log')\n",
    "    ax.set_ylabel('passes (unweighted)')"
   ]
  },
  {
   "cell_type": "code",
   "execution_count": 24,
   "metadata": {},
   "outputs": [
    {
     "data": {
      "text/plain": [
       "array([(13569, 259, 0, 0, 0, 0, 0), (13570, 262, 0, 0, 0, 0, 0)],\n",
       "      dtype=[('branch', '<i4'), ('pid', '<u2'), ('event', '<u4'), ('event_category', 'u1'), ('ll_pass', 'u1'), ('vv_pass', 'u1'), ('qq_pass', 'u1')])"
      ]
     },
     "execution_count": 24,
     "metadata": {},
     "output_type": "execute_result"
    }
   ],
   "source": [
    "presel_results[presel_results['event_category'] == category_map['OTHER']]"
   ]
  },
  {
   "cell_type": "code",
   "execution_count": 27,
   "metadata": {},
   "outputs": [],
   "source": [
    "pres = presel_results[presel_results['event_category'] == category_map['OTHER_TTBAR']]\n",
    "subset = pres[['branch', 'event']]"
   ]
  },
  {
   "cell_type": "code",
   "execution_count": 29,
   "metadata": {},
   "outputs": [
    {
     "name": "stdout",
     "output_type": "stream",
     "text": [
      "1441\n"
     ]
    }
   ],
   "source": [
    "branches = np.unique(subset['branch'])\n",
    "print(len(branches))"
   ]
  },
  {
   "cell_type": "code",
   "execution_count": 36,
   "metadata": {},
   "outputs": [
    {
     "data": {
      "application/vnd.jupyter.widget-view+json": {
       "model_id": "9b39ae574ed1457ea9a83e676666cf96",
       "version_major": 2,
       "version_minor": 0
      },
      "text/plain": [
       "  0%|          | 0/1441 [00:00<?, ?it/s]"
      ]
     },
     "metadata": {},
     "output_type": "display_data"
    }
   ],
   "source": [
    "module_reload('zhh')\n",
    "from zhh import get_final_state_counts\n",
    "\n",
    "fsc = get_final_state_counts(DATA_R, branches, chunks_f)"
   ]
  },
  {
   "cell_type": "code",
   "execution_count": 37,
   "metadata": {},
   "outputs": [
    {
     "data": {
      "text/plain": [
       "array([(13680,  88168, 1, 0, 1, 2, 2, 0, 0, 0, 0, 0, 0, 0, 0, 0, 0, 0, 0),\n",
       "       (13680,  88169, 1, 0, 1, 2, 2, 0, 0, 0, 0, 0, 0, 0, 0, 0, 0, 0, 0),\n",
       "       (13680,  88170, 0, 0, 2, 2, 2, 0, 0, 0, 0, 0, 0, 0, 0, 0, 0, 0, 0),\n",
       "       ...,\n",
       "       (15483, 178527, 0, 0, 1, 1, 2, 0, 0, 0, 0, 0, 1, 1, 0, 0, 0, 0, 0),\n",
       "       (15483, 178528, 1, 1, 0, 0, 2, 0, 0, 0, 1, 1, 0, 0, 0, 0, 0, 0, 0),\n",
       "       (15483, 178529, 0, 0, 1, 1, 2, 0, 0, 0, 0, 0, 1, 1, 0, 0, 0, 0, 0)],\n",
       "      dtype=[('branch', '<i4'), ('event', '<u4'), ('Nd', 'u1'), ('Nu', 'u1'), ('Ns', 'u1'), ('Nc', 'u1'), ('Nb', 'u1'), ('Nt', 'u1'), ('Ne1', 'u1'), ('Nn1', 'u1'), ('Ne2', 'u1'), ('Nn2', 'u1'), ('Ne3', 'u1'), ('Nv3', 'u1'), ('Ng', 'u1'), ('Ny', 'u1'), ('NZ', 'u1'), ('NW', 'u1'), ('NH', 'u1')])"
      ]
     },
     "execution_count": 37,
     "metadata": {},
     "output_type": "execute_result"
    }
   ],
   "source": [
    "fsc"
   ]
  },
  {
   "cell_type": "code",
   "execution_count": null,
   "metadata": {},
   "outputs": [],
   "source": []
  }
 ],
 "metadata": {
  "kernelspec": {
   "display_name": "graphjet_pyg",
   "language": "python",
   "name": "python3"
  },
  "language_info": {
   "codemirror_mode": {
    "name": "ipython",
    "version": 3
   },
   "file_extension": ".py",
   "mimetype": "text/x-python",
   "name": "python",
   "nbconvert_exporter": "python",
   "pygments_lexer": "ipython3",
   "version": "3.11.4"
  }
 },
 "nbformat": 4,
 "nbformat_minor": 2
}
