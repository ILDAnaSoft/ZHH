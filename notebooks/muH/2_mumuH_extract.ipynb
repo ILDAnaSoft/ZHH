{
 "cells": [
  {
   "cell_type": "code",
   "execution_count": 1,
   "metadata": {},
   "outputs": [
    {
     "name": "stdout",
     "output_type": "stream",
     "text": [
      "Welcome to JupyROOT 6.30/04\n",
      "Loading LCIO ROOT dictionaries ...\n"
     ]
    }
   ],
   "source": [
    "from pyLCIO import IOIMPL\n",
    "from tqdm.auto import tqdm\n",
    "from glob import glob\n",
    "from math import sqrt\n",
    "import os.path as osp\n",
    "import matplotlib.pyplot as plt\n",
    "import numpy as np"
   ]
  },
  {
   "cell_type": "markdown",
   "metadata": {},
   "source": [
    "ee ZH mumu"
   ]
  },
  {
   "cell_type": "code",
   "execution_count": 16,
   "metadata": {},
   "outputs": [
    {
     "data": {
      "application/vnd.jupyter.widget-view+json": {
       "model_id": "a966b0efb68a4a04aac2884f726c7121",
       "version_major": 2,
       "version_minor": 0
      },
      "text/plain": [
       "  0%|          | 0/9400 [00:00<?, ?it/s]"
      ]
     },
     "metadata": {},
     "output_type": "display_data"
    }
   ],
   "source": [
    "reader = IOIMPL.LCFactory.getInstance().createLCReader()\n",
    "reader.open(osp.abspath(\"zh.slcio\"))\n",
    "result = []\n",
    "\n",
    "for event in (pbar := tqdm(range(reader.getNumberOfEvents()))):\n",
    "    event = reader.readNextEvent()\n",
    "    pbar.set_description(f'Processing event {event.getEventNumber()}')\n",
    "\n",
    "    # Iterate through the MCParticle collection and find muon and anti muon\n",
    "    # see page 5 on https://pdg.lbl.gov/2019/reviews/rpp2019-rev-monte-carlo-numbering.pdf\n",
    "    iso_leptons = event.getCollection('ISOLeptons')\n",
    "    \n",
    "    E = 0\n",
    "    pX = 0\n",
    "    pY = 0\n",
    "    pZ = 0\n",
    "    n_muons = 0\n",
    "    \n",
    "    for iso_lepton in iso_leptons:\n",
    "        if abs(iso_lepton.getType()) == 13:\n",
    "            mom = iso_lepton.getMomentum()\n",
    "            \n",
    "            E += iso_lepton.getEnergy()\n",
    "            pX += mom[0]\n",
    "            pY += mom[1]\n",
    "            pZ += mom[2]\n",
    "            n_muons += 1\n",
    "\n",
    "    if n_muons == 2:\n",
    "        result.append([E, pX, pY, pZ])\n",
    "        \n",
    "    # break\n",
    "\n",
    "reader.getNumberOfEvents()\n",
    "\n",
    "result = np.array(result)"
   ]
  },
  {
   "cell_type": "code",
   "execution_count": 14,
   "metadata": {},
   "outputs": [
    {
     "data": {
      "text/plain": [
       "9400"
      ]
     },
     "execution_count": 14,
     "metadata": {},
     "output_type": "execute_result"
    }
   ],
   "source": [
    "reader.getNumberOfEvents()"
   ]
  },
  {
   "cell_type": "code",
   "execution_count": 17,
   "metadata": {},
   "outputs": [
    {
     "data": {
      "text/plain": [
       "8355"
      ]
     },
     "execution_count": 17,
     "metadata": {},
     "output_type": "execute_result"
    }
   ],
   "source": [
    "len(result)"
   ]
  },
  {
   "cell_type": "code",
   "execution_count": 18,
   "metadata": {},
   "outputs": [],
   "source": [
    "np.save('mumuH_250.npy', result)"
   ]
  },
  {
   "cell_type": "markdown",
   "metadata": {},
   "source": [
    "ee ZH ee"
   ]
  },
  {
   "cell_type": "code",
   "execution_count": 6,
   "metadata": {},
   "outputs": [
    {
     "data": {
      "application/vnd.jupyter.widget-view+json": {
       "model_id": "241d05551d9b40ac99a46b2741d3d0da",
       "version_major": 2,
       "version_minor": 0
      },
      "text/plain": [
       "  0%|          | 0/8400 [00:00<?, ?it/s]"
      ]
     },
     "metadata": {},
     "output_type": "display_data"
    }
   ],
   "source": [
    "reader = IOIMPL.LCFactory.getInstance().createLCReader()\n",
    "reader.open(osp.abspath(\"zh_epem.slcio\"))\n",
    "result = []\n",
    "\n",
    "for event in (pbar := tqdm(range(reader.getNumberOfEvents()))):\n",
    "    event = reader.readNextEvent()\n",
    "    pbar.set_description(f'Processing event {event.getEventNumber()}')\n",
    "\n",
    "    # Iterate through the MCParticle collection and find muon and anti muon\n",
    "    # see page 5 on https://pdg.lbl.gov/2019/reviews/rpp2019-rev-monte-carlo-numbering.pdf\n",
    "    iso_leptons = event.getCollection('ISOLeptons')\n",
    "    \n",
    "    E = 0\n",
    "    pX = 0\n",
    "    pY = 0\n",
    "    pZ = 0\n",
    "    n_epem = 0\n",
    "    \n",
    "    for iso_lepton in iso_leptons:\n",
    "        if abs(iso_lepton.getType()) == 11:\n",
    "            mom = iso_lepton.getMomentum()\n",
    "            \n",
    "            E += iso_lepton.getEnergy()\n",
    "            pX += mom[0]\n",
    "            pY += mom[1]\n",
    "            pZ += mom[2]\n",
    "            n_epem += 1\n",
    "\n",
    "    if n_epem == 2:\n",
    "        result.append([E, pX, pY, pZ])\n",
    "        \n",
    "    # break\n",
    "\n",
    "reader.getNumberOfEvents()\n",
    "\n",
    "result = np.array(result)"
   ]
  },
  {
   "cell_type": "code",
   "execution_count": 7,
   "metadata": {},
   "outputs": [],
   "source": [
    "np.save('eeH_250.npy', result)"
   ]
  },
  {
   "cell_type": "code",
   "execution_count": 8,
   "metadata": {},
   "outputs": [
    {
     "data": {
      "text/plain": [
       "6905"
      ]
     },
     "execution_count": 8,
     "metadata": {},
     "output_type": "execute_result"
    }
   ],
   "source": [
    "len(result)"
   ]
  },
  {
   "cell_type": "markdown",
   "metadata": {},
   "source": [
    "Test (calculate Higgs mass directly)"
   ]
  },
  {
   "cell_type": "code",
   "execution_count": 3,
   "metadata": {},
   "outputs": [
    {
     "data": {
      "application/vnd.jupyter.widget-view+json": {
       "model_id": "ebdc7c36d3f94ff09f99053a79288050",
       "version_major": 2,
       "version_minor": 0
      },
      "text/plain": [
       "  0%|          | 0/9400 [00:00<?, ?it/s]"
      ]
     },
     "metadata": {},
     "output_type": "display_data"
    }
   ],
   "source": [
    "reader = IOIMPL.LCFactory.getInstance().createLCReader()\n",
    "reader.open(osp.abspath(\"zh.slcio\"))\n",
    "result = []\n",
    "\n",
    "for event in (pbar := tqdm(range(reader.getNumberOfEvents()))):\n",
    "    event = reader.readNextEvent()\n",
    "    pbar.set_description(f'Processing event {event.getEventNumber()}')\n",
    "\n",
    "    # Iterate through the MCParticle collection and find muon and anti muon\n",
    "    # see page 5 on https://pdg.lbl.gov/2019/reviews/rpp2019-rev-monte-carlo-numbering.pdf\n",
    "    mc_particles = event.getCollection('MCParticlesSkimmed')\n",
    "    \n",
    "    E = 0.\n",
    "    pX = 0.\n",
    "    pY = 0.\n",
    "    pZ = 0.\n",
    "    mH = 0.\n",
    "    \n",
    "    for mc_particle in mc_particles:\n",
    "        if abs(mc_particle.getPDG()) == 25:\n",
    "            mom = mc_particle.getMomentum()\n",
    "            \n",
    "            E += mc_particle.getEnergy()\n",
    "            pX += mom[0]\n",
    "            pY += mom[1]\n",
    "            pZ += mom[2]\n",
    "            mH = E**2 - (pX**2 + pY**2 + pZ**2)\n",
    "            \n",
    "            break\n",
    "\n",
    "    if mH != 0.:\n",
    "        result.append(mH)\n",
    "        \n",
    "    # break\n",
    "\n",
    "reader.close()\n",
    "result = np.array(result)"
   ]
  },
  {
   "cell_type": "code",
   "execution_count": 16,
   "metadata": {},
   "outputs": [
    {
     "name": "stderr",
     "output_type": "stream",
     "text": [
      "No artists with labels found to put in legend.  Note that artists whose label start with an underscore are ignored when legend() is called with no argument.\n"
     ]
    },
    {
     "data": {
      "text/plain": [
       "<matplotlib.legend.Legend at 0x7f1962abeb90>"
      ]
     },
     "execution_count": 16,
     "metadata": {},
     "output_type": "execute_result"
    },
    {
     "data": {
      "image/png": "[encoded data removed]",
      "text/plain": [
       "<Figure size 640x480 with 1 Axes>"
      ]
     },
     "metadata": {},
     "output_type": "display_data"
    }
   ],
   "source": [
    "fig, ax = plt.subplots()\n",
    "ax.hist(np.sqrt(result), density=True, bins=64, range=(100, 150))\n",
    "ax.set_xlabel(\"mH [GeV]\")\n",
    "ax.legend()"
   ]
  },
  {
   "cell_type": "code",
   "execution_count": 22,
   "metadata": {},
   "outputs": [],
   "source": [
    "def p4_invmass(p4:np.ndarray):\n",
    "    return p4[0]**2 - (p4[1]**2 + p4[2]**2 + p4[3]**2)"
   ]
  },
  {
   "cell_type": "code",
   "execution_count": 28,
   "metadata": {},
   "outputs": [
    {
     "data": {
      "application/vnd.jupyter.widget-view+json": {
       "model_id": "8ebd8c3497664f6193fa8c9f426e0b6e",
       "version_major": 2,
       "version_minor": 0
      },
      "text/plain": [
       "  0%|          | 0/1000 [00:00<?, ?it/s]"
      ]
     },
     "metadata": {},
     "output_type": "display_data"
    }
   ],
   "source": [
    "reader = IOIMPL.LCFactory.getInstance().createLCReader()\n",
    "reader.open(osp.abspath(\"zh.slcio\"))\n",
    "\n",
    "n_events = 1000  # reader.getNumberOfEvents()\n",
    "result = np.zeros(n_events, dtype=np.float64)\n",
    "\n",
    "for i_event in (pbar := tqdm(range(n_events))):\n",
    "    event = reader.readNextEvent()\n",
    "    pbar.set_description(f'Processing event {event.getEventNumber()}')\n",
    "\n",
    "    # Iterate through the MCParticle collection and find muon and anti muon\n",
    "    # see page 5 on https://pdg.lbl.gov/2019/reviews/rpp2019-rev-monte-carlo-numbering.pdf\n",
    "    mc_particles = event.getCollection('MCParticlesSkimmed')\n",
    "    \n",
    "    # Fill the 4-momentum of the initial electron and positron\n",
    "    p4_CM = np.zeros(4, dtype=np.float64)\n",
    "    for i in range(2):\n",
    "        mc_particle = mc_particles[i]\n",
    "        mom = mc_particle.getMomentum()\n",
    "        E = mc_particle.getEnergy()\n",
    "        p4_CM += np.array([E, mom[0], mom[1], mom[2]])\n",
    "    \n",
    "    # Fill the 4-momentum of the Z boson and the photon\n",
    "    p4_Z = np.zeros(4, dtype=np.float64)\n",
    "    p4_gamma = np.zeros(4, dtype=np.float64)    \n",
    "    \n",
    "    n_muons = 0\n",
    "    i_particle = 2\n",
    "    i_max = len(mc_particles)\n",
    "\n",
    "    while (n_muons != 2) and i_particle < i_max:\n",
    "        mc_particle = mc_particles[i_particle]\n",
    "        pdg = abs(mc_particle.getPDG())\n",
    "        \n",
    "        if pdg in [13, 22]:\n",
    "            mom = mc_particle.getMomentum()\n",
    "            E = mc_particle.getEnergy()\n",
    "            \n",
    "            pX = mom[0]\n",
    "            pY = mom[1]\n",
    "            pZ = mom[2]\n",
    "            \n",
    "            target = p4_Z if pdg == 13 else p4_gamma\n",
    "            target += np.array([E, pX, pY, pZ])\n",
    "        \n",
    "            if pdg == 13:\n",
    "                n_muons += 1\n",
    "                \n",
    "        i_particle += 1\n",
    "                \n",
    "    mH = sqrt(p4_invmass(p4_CM - p4_Z - p4_gamma))\n",
    "    result[i_event] = mH\n",
    "        \n",
    "    # break\n",
    "\n",
    "reader.close()\n",
    "result = np.array(result)"
   ]
  },
  {
   "cell_type": "code",
   "execution_count": 29,
   "metadata": {},
   "outputs": [
    {
     "name": "stderr",
     "output_type": "stream",
     "text": [
      "No artists with labels found to put in legend.  Note that artists whose label start with an underscore are ignored when legend() is called with no argument.\n"
     ]
    },
    {
     "data": {
      "text/plain": [
       "<matplotlib.legend.Legend at 0x7f1962c3d110>"
      ]
     },
     "execution_count": 29,
     "metadata": {},
     "output_type": "execute_result"
    },
    {
     "data": {
      "image/png": "[encoded data removed]",
      "text/plain": [
       "<Figure size 640x480 with 1 Axes>"
      ]
     },
     "metadata": {},
     "output_type": "display_data"
    }
   ],
   "source": [
    "fig, ax = plt.subplots()\n",
    "ax.hist(result, density=True, bins=64, range=(100, 150))\n",
    "ax.set_xlabel(\"mH [GeV]\")\n",
    "ax.legend()"
   ]
  },
  {
   "cell_type": "code",
   "execution_count": null,
   "metadata": {},
   "outputs": [],
   "source": []
  }
 ],
 "metadata": {
  "kernelspec": {
   "display_name": "py311",
   "language": "python",
   "name": "python3"
  },
  "language_info": {
   "codemirror_mode": {
    "name": "ipython",
    "version": 3
   },
   "file_extension": ".py",
   "mimetype": "text/x-python",
   "name": "python",
   "nbconvert_exporter": "python",
   "pygments_lexer": "ipython3",
   "version": "3.11.9"
  }
 },
 "nbformat": 4,
 "nbformat_minor": 2
}
