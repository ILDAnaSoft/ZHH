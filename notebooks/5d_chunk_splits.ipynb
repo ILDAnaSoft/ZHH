{
 "cells": [
  {
   "cell_type": "code",
   "execution_count": 1,
   "metadata": {},
   "outputs": [],
   "source": [
    "import numpy as np\n",
    "from phc import module_reload, json_file_readable\n",
    "\n",
    "INDEX_DIR = '/nfs/dust/ilc/user/bliewert/zhh/CreateRawIndex/v1'\n",
    "DATA_ROOT = '/nfs/dust/ilc/user/bliewert/zhh/PreselectionRuntime/v1'\n",
    "\n",
    "processes = np.load(f'{INDEX_DIR}/processes.npy')\n",
    "samples = np.load(f'{INDEX_DIR}/samples.npy')"
   ]
  },
  {
   "cell_type": "code",
   "execution_count": 3,
   "metadata": {},
   "outputs": [
    {
     "data": {
      "text/plain": [
       "True"
      ]
     },
     "execution_count": 3,
     "metadata": {},
     "output_type": "execute_result"
    }
   ],
   "source": [
    "json_file_readable('/afs/desy.de/user/b/bliewert/public/MarlinWorkdirs/ZHH/zhh_FinalStateMeta.json')"
   ]
  },
  {
   "cell_type": "code",
   "execution_count": 4,
   "metadata": {},
   "outputs": [],
   "source": [
    "module_reload('zhh')\n",
    "from zhh import get_adjusted_time_per_event, get_runtime_analysis, get_process_normalization, get_sample_chunk_splits\n",
    "\n",
    "runtime_analysis = get_runtime_analysis(DATA_ROOT)\n",
    "\n",
    "pn = get_process_normalization(processes, samples, RATIO_BY_EXPECT=0.1)\n",
    "atpe = get_adjusted_time_per_event(runtime_analysis, True)\n",
    "\n",
    "chunks = get_sample_chunk_splits(samples, process_normalization=pn, adjusted_time_per_event=atpe, MAXIMUM_TIME_PER_JOB=7200)"
   ]
  },
  {
   "cell_type": "code",
   "execution_count": 6,
   "metadata": {},
   "outputs": [
    {
     "name": "stdout",
     "output_type": "stream",
     "text": [
      "n failing: 0\n"
     ]
    }
   ],
   "source": [
    "failing = 0\n",
    "for sample in samples:\n",
    "    loc = sample['location']\n",
    "    n_events = sample['n_events']\n",
    "    \n",
    "    for entry in chunks[chunks['location'] == loc]:\n",
    "        if entry['chunk_start'] + entry['chunk_size'] > n_events:\n",
    "            failing += 1\n",
    "            print(f\"{entry['chunk_start'] + entry['chunk_size']} > {n_events}\")\n",
    "            \n",
    "            #print(chunks[chunks['location'] == loc])\n",
    "            #print(sample)\n",
    "            #break\n",
    "    else:\n",
    "        continue\n",
    "    break\n",
    "            \n",
    "print(f'n failing: {failing}')"
   ]
  },
  {
   "cell_type": "code",
   "execution_count": 7,
   "metadata": {},
   "outputs": [
    {
     "data": {
      "text/plain": [
       "21901"
      ]
     },
     "execution_count": 7,
     "metadata": {},
     "output_type": "execute_result"
    }
   ],
   "source": [
    "len(chunks)"
   ]
  },
  {
   "cell_type": "markdown",
   "metadata": {},
   "source": [
    "Check worflow results"
   ]
  },
  {
   "cell_type": "code",
   "execution_count": 4,
   "metadata": {},
   "outputs": [],
   "source": [
    "chunks = np.load('/nfs/dust/ilc/user/bliewert/zhh/CreatePreselectionChunks/v1/chunks.npy')"
   ]
  },
  {
   "cell_type": "code",
   "execution_count": 5,
   "metadata": {},
   "outputs": [
    {
     "data": {
      "text/plain": [
       "25549"
      ]
     },
     "execution_count": 5,
     "metadata": {},
     "output_type": "execute_result"
    }
   ],
   "source": [
    "len(chunks)"
   ]
  },
  {
   "cell_type": "code",
   "execution_count": null,
   "metadata": {},
   "outputs": [],
   "source": []
  }
 ],
 "metadata": {
  "kernelspec": {
   "display_name": "Python 3",
   "language": "python",
   "name": "python3"
  },
  "language_info": {
   "codemirror_mode": {
    "name": "ipython",
    "version": 3
   },
   "file_extension": ".py",
   "mimetype": "text/x-python",
   "name": "python",
   "nbconvert_exporter": "python",
   "pygments_lexer": "ipython3",
   "version": "3.11.4"
  }
 },
 "nbformat": 4,
 "nbformat_minor": 2
}
