{
 "cells": [
  {
   "cell_type": "code",
   "execution_count": 1,
   "metadata": {},
   "outputs": [],
   "source": [
    "import numpy as np\n",
    "from phc import module_reload, json_file_readable\n",
    "\n",
    "INDEX_DIR = '/nfs/dust/ilc/user/bliewert/zhh/CreateRawIndex/v1'\n",
    "DATA_ROOT = '/nfs/dust/ilc/user/bliewert/zhh/PreselectionRuntime/v1'\n",
    "\n",
    "processes = np.load(f'{INDEX_DIR}/processes.npy')\n",
    "samples = np.load(f'{INDEX_DIR}/samples.npy')"
   ]
  },
  {
   "cell_type": "code",
   "execution_count": 3,
   "metadata": {},
   "outputs": [
    {
     "data": {
      "text/plain": [
       "True"
      ]
     },
     "execution_count": 3,
     "metadata": {},
     "output_type": "execute_result"
    }
   ],
   "source": [
    "json_file_readable('/afs/desy.de/user/b/bliewert/public/MarlinWorkdirs/ZHH/zhh_FinalStateMeta.json')"
   ]
  },
  {
   "cell_type": "code",
   "execution_count": 14,
   "metadata": {},
   "outputs": [],
   "source": [
    "module_reload('zhh')\n",
    "from zhh import get_adjusted_time_per_event, get_runtime_analysis, get_process_normalization, get_sample_chunk_splits\n",
    "\n",
    "runtime_analysis = get_runtime_analysis(DATA_ROOT)\n",
    "\n",
    "pn = get_process_normalization(processes, samples, RATIO_BY_EXPECT=0.1)\n",
    "atpe = get_adjusted_time_per_event(runtime_analysis, True)\n",
    "\n",
    "chunks = get_sample_chunk_splits(samples, process_normalization=pn, adjusted_time_per_event=atpe, MAXIMUM_TIME_PER_JOB=7200)"
   ]
  },
  {
   "cell_type": "code",
   "execution_count": 15,
   "metadata": {},
   "outputs": [],
   "source": [
    "failing = 0\n",
    "for sample in samples:\n",
    "    loc = sample['location']\n",
    "    n_events = sample['n_events']\n",
    "    \n",
    "    for entry in chunks[chunks['location'] == loc]:\n",
    "        if entry['chunk_start'] + entry['chunk_size'] > n_events:\n",
    "            failing += 1\n",
    "            print(f\"{entry['chunk_start'] + entry['chunk_size']} > {n_events}\")\n",
    "            \n",
    "            #print(chunks[chunks['location'] == loc])\n",
    "            #print(sample)\n",
    "            #break\n",
    "    else:\n",
    "        continue\n",
    "    break\n",
    "            \n",
    "print(f'n failing: {failing}')"
   ]
  },
  {
   "cell_type": "code",
   "execution_count": 13,
   "metadata": {},
   "outputs": [
    {
     "data": {
      "text/plain": [
       "array([(    0, '2f_z_bhabhag', '2f_z_bhabhag_LL', '/pnfs/desy.de/ilc/prod/ilc/ild/copy/dst-merged/500-TDR_ws/2f_Z_bhabhag/ILD_l5_o1_v02/v02-00-01/rv02-00-01.sv02-00-01.mILD_l5_o1_v02.E500-TDR_ws.I250101.P2f_z_bhabhag.eL.pL.n001.d_dstm_10366_8.slcio', 0,    0, 2880),\n",
       "       (    1, '2f_z_bhabhag', '2f_z_bhabhag_LL', '/pnfs/desy.de/ilc/prod/ilc/ild/copy/dst-merged/500-TDR_ws/2f_Z_bhabhag/ILD_l5_o1_v02/v02-00-01/rv02-00-01.sv02-00-01.mILD_l5_o1_v02.E500-TDR_ws.I250101.P2f_z_bhabhag.eL.pL.n001.d_dstm_10366_8.slcio', 1, 2880, 2880),\n",
       "       (    2, '2f_z_bhabhag', '2f_z_bhabhag_LL', '/pnfs/desy.de/ilc/prod/ilc/ild/copy/dst-merged/500-TDR_ws/2f_Z_bhabhag/ILD_l5_o1_v02/v02-00-01/rv02-00-01.sv02-00-01.mILD_l5_o1_v02.E500-TDR_ws.I250101.P2f_z_bhabhag.eL.pL.n001.d_dstm_10366_8.slcio', 2, 5760, 2880),\n",
       "       ...,\n",
       "       (27051, 'yyyyyy', 'yyyyyy_LR', '/pnfs/desy.de/ilc/prod/ilc/ild/copy/dst-merged/500-TDR_ws/6f_yyyyZ/ILD_l5_o1_v02/v02-00-01/rv02-00-01.sv02-00-01.mILD_l5_o1_v02.E500-TDR_ws.I108573.Pyyyyyy.eL.pR.n001.d_dstm_10330_0.slcio', 0,    0,   13),\n",
       "       (27052, 'yyyyyy', 'yyyyyy_LR', '/pnfs/desy.de/ilc/prod/ilc/ild/copy/dst-merged/500-TDR_ws/6f_yyyyZ/ILD_l5_o1_v02/v02-00-01/rv02-00-01.sv02-00-01.mILD_l5_o1_v02.E500-TDR_ws.I108573.Pyyyyyy.eL.pR.n001.d_dstm_10330_0.slcio', 1,   13,   13),\n",
       "       (27053, 'yyyyyy', 'yyyyyy_LR', '/pnfs/desy.de/ilc/prod/ilc/ild/copy/dst-merged/500-TDR_ws/6f_yyyyZ/ILD_l5_o1_v02/v02-00-01/rv02-00-01.sv02-00-01.mILD_l5_o1_v02.E500-TDR_ws.I108573.Pyyyyyy.eL.pR.n001.d_dstm_10330_0.slcio', 2,   26,    3)],\n",
       "      dtype=[('branch', '<i4'), ('process', '<U60'), ('proc_pol', '<U64'), ('location', '<U512'), ('n_chunks', '<i4'), ('chunk_start', '<i4'), ('chunk_size', '<i4')])"
      ]
     },
     "execution_count": 13,
     "metadata": {},
     "output_type": "execute_result"
    }
   ],
   "source": [
    "chunks"
   ]
  },
  {
   "cell_type": "markdown",
   "metadata": {},
   "source": [
    "Check worflow results"
   ]
  },
  {
   "cell_type": "code",
   "execution_count": 3,
   "metadata": {},
   "outputs": [],
   "source": [
    "chunks = np.load('/nfs/dust/ilc/user/bliewert/zhh/CreatePreselectionChunks/v1/chunks.npy')"
   ]
  },
  {
   "cell_type": "code",
   "execution_count": 4,
   "metadata": {},
   "outputs": [
    {
     "data": {
      "text/plain": [
       "26004"
      ]
     },
     "execution_count": 4,
     "metadata": {},
     "output_type": "execute_result"
    }
   ],
   "source": [
    "len(chunks)"
   ]
  },
  {
   "cell_type": "code",
   "execution_count": 6,
   "metadata": {},
   "outputs": [
    {
     "data": {
      "text/plain": [
       "array([(    0, '2f_z_bhabhag', '2f_z_bhabhag_LL', '/pnfs/desy.de/ilc/prod/ilc/ild/copy/dst-merged/500-TDR_ws/2f_Z_bhabhag/ILD_l5_o1_v02/v02-00-01/rv02-00-01.sv02-00-01.mILD_l5_o1_v02.E500-TDR_ws.I250101.P2f_z_bhabhag.eL.pL.n001.d_dstm_10366_8.slcio', 0, 52,  3600, 3600),\n",
       "       (    1, '2f_z_bhabhag', '2f_z_bhabhag_LL', '/pnfs/desy.de/ilc/prod/ilc/ild/copy/dst-merged/500-TDR_ws/2f_Z_bhabhag/ILD_l5_o1_v02/v02-00-01/rv02-00-01.sv02-00-01.mILD_l5_o1_v02.E500-TDR_ws.I250101.P2f_z_bhabhag.eL.pL.n001.d_dstm_10366_8.slcio', 1, 52,  7200, 3600),\n",
       "       (    2, '2f_z_bhabhag', '2f_z_bhabhag_LL', '/pnfs/desy.de/ilc/prod/ilc/ild/copy/dst-merged/500-TDR_ws/2f_Z_bhabhag/ILD_l5_o1_v02/v02-00-01/rv02-00-01.sv02-00-01.mILD_l5_o1_v02.E500-TDR_ws.I250101.P2f_z_bhabhag.eL.pL.n001.d_dstm_10366_8.slcio', 2, 52, 10800, 3600),\n",
       "       ...,\n",
       "       (26001, 'yyyyyy', 'yyyyyy_LR', '/pnfs/desy.de/ilc/prod/ilc/ild/copy/dst-merged/500-TDR_ws/6f_yyyyZ/ILD_l5_o1_v02/v02-00-01/rv02-00-01.sv02-00-01.mILD_l5_o1_v02.E500-TDR_ws.I108573.Pyyyyyy.eL.pR.n001.d_dstm_10330_0.slcio', 0,  3,    14,   14),\n",
       "       (26002, 'yyyyyy', 'yyyyyy_LR', '/pnfs/desy.de/ilc/prod/ilc/ild/copy/dst-merged/500-TDR_ws/6f_yyyyZ/ILD_l5_o1_v02/v02-00-01/rv02-00-01.sv02-00-01.mILD_l5_o1_v02.E500-TDR_ws.I108573.Pyyyyyy.eL.pR.n001.d_dstm_10330_0.slcio', 1,  3,    28,   14),\n",
       "       (26003, 'yyyyyy', 'yyyyyy_LR', '/pnfs/desy.de/ilc/prod/ilc/ild/copy/dst-merged/500-TDR_ws/6f_yyyyZ/ILD_l5_o1_v02/v02-00-01/rv02-00-01.sv02-00-01.mILD_l5_o1_v02.E500-TDR_ws.I108573.Pyyyyyy.eL.pR.n001.d_dstm_10330_0.slcio', 2,  3,    29,    1)],\n",
       "      dtype=[('branch', '<i4'), ('process', '<U60'), ('proc_pol', '<U64'), ('location', '<U512'), ('i_chunk', '<i4'), ('n_chunks', '<i4'), ('chunk_start', '<i4'), ('chunk_size', '<i4')])"
      ]
     },
     "execution_count": 6,
     "metadata": {},
     "output_type": "execute_result"
    }
   ],
   "source": [
    "chunks"
   ]
  },
  {
   "cell_type": "code",
   "execution_count": 10,
   "metadata": {},
   "outputs": [
    {
     "data": {
      "text/plain": [
       "array([(250127, '2f_z_bhabhang', '2f_z_bhabhang_LR', 18600, -1,  1, '/pnfs/desy.de/ilc/prod/ilc/ild/copy/dst-merged/500-TDR_ws/2f_Z_bhabhaNg/ILD_l5_o1_v02/v02-00-01/rv02-00-01.sv02-00-01.mILD_l5_o1_v02.E500-TDR_ws.I250127.P2f_z_bhabhang.eL.pR.n005.d_dstm_10609_88.slcio'),\n",
       "       (403010, 'qqhh', 'qqhh_RL',  5988,  1, -1, '/pnfs/desy.de/ilc/prod/ilc/mc-2020/ild/dst-merged/500-TDR_ws/hh/ILD_l5_o1_v02/v02-02-03/00015747/000/rv02-02-03.sv02-02-03.mILD_l5_o1_v02.E500-TDR_ws.I403010.Pqqhh.eR.pL.n012.d_dstm_15747_103.slcio'),\n",
       "       (403003, 'e3e3hh', 'e3e3hh_LR',  8000, -1,  1, '/pnfs/desy.de/ilc/prod/ilc/mc-2020/ild/dst-merged/500-TDR_ws/hh/ILD_l5_o1_v02/v02-02-03/00015740/000/rv02-02-03.sv02-02-03.mILD_l5_o1_v02.E500-TDR_ws.I403003.Pe3e3hh.eL.pR.n001.d_dstm_15740_16.slcio'),\n",
       "       ...,\n",
       "       (250034, '4f_sze_l', '4f_sze_l_LR', 19600, -1,  1, '/pnfs/desy.de/ilc/prod/ilc/ild/copy/dst-merged/500-TDR_ws/4f_singleZee_leptonic/ILD_l5_o1_v02/v02-00-01/rv02-00-01.sv02-00-01.mILD_l5_o1_v02.E500-TDR_ws.I250034.P4f_sze_l.eL.pR.n010.d_dstm_10446_66.slcio'),\n",
       "       (403009, 'qqhh', 'qqhh_LR',  6000, -1,  1, '/pnfs/desy.de/ilc/prod/ilc/mc-2020/ild/dst-merged/500-TDR_ws/hh/ILD_l5_o1_v02/v02-02-03/00015747/000/rv02-02-03.sv02-02-03.mILD_l5_o1_v02.E500-TDR_ws.I403009.Pqqhh.eL.pR.n002.d_dstm_15747_12.slcio'),\n",
       "       (108673, 'yyvlyx', 'yyvlyx_LR',  6942, -1,  1, '/pnfs/desy.de/ilc/prod/ilc/ild/copy/dst-merged/500-TDR_ws/6f_ttbar/ILD_l5_o1_v02/v02-00-01/rv02-00-01.sv02-00-01.mILD_l5_o1_v02.E500-TDR_ws.I108673.Pyyvlyx.eL.pR.n006.d_dstm_10276_14.slcio')],\n",
       "      dtype=[('run_id', '<i4'), ('process', '<U60'), ('proc_pol', '<U64'), ('n_events', '<i4'), ('pol_e', '<i4'), ('pol_p', '<i4'), ('location', '<U512')])"
      ]
     },
     "execution_count": 10,
     "metadata": {},
     "output_type": "execute_result"
    }
   ],
   "source": [
    "samples"
   ]
  },
  {
   "cell_type": "code",
   "execution_count": null,
   "metadata": {},
   "outputs": [],
   "source": [
    "samples"
   ]
  },
  {
   "cell_type": "code",
   "execution_count": null,
   "metadata": {},
   "outputs": [],
   "source": []
  }
 ],
 "metadata": {
  "kernelspec": {
   "display_name": "Python 3",
   "language": "python",
   "name": "python3"
  },
  "language_info": {
   "codemirror_mode": {
    "name": "ipython",
    "version": 3
   },
   "file_extension": ".py",
   "mimetype": "text/x-python",
   "name": "python",
   "nbconvert_exporter": "python",
   "pygments_lexer": "ipython3",
   "version": "3.11.4"
  }
 },
 "nbformat": 4,
 "nbformat_minor": 2
}
