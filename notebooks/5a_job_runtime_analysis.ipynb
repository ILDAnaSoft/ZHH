{
 "cells": [
  {
   "cell_type": "code",
   "execution_count": 47,
   "metadata": {},
   "outputs": [],
   "source": [
    "import numpy as np, json\n",
    "from phc import module_reload\n",
    "module_reload('zhh')\n",
    "import matplotlib.pyplot as plt\n",
    "from zhh import get_runtime_analysis, evaluate_runtime, get_adjusted_time_per_event, get_sample_chunk_splits, get_process_normalization\n",
    "from typing import Optional\n",
    "from math import floor, ceil\n",
    "\n",
    "version = 'v1'\n",
    "REPO_ROOT = '/afs/desy.de/user/b/bliewert/public/MarlinWorkdirs/ZHH'\n",
    "ILD_VERSION = 'ILD_l5_o1_v02'\n",
    "PROD_NAME = '500-TDR_ws'\n",
    "\n",
    "with open(f'{REPO_ROOT}/workflows/analysis/custom_statistics.json') as f:\n",
    "    custom_statistics = json.load(f)\n",
    "\n",
    "DATA_ROOT = f'/nfs/dust/ilc/user/bliewert/zhh'\n",
    "PROCESS_INDEX = f'{DATA_ROOT}/CreateRawIndex/v1/processes.npy'\n",
    "SAMPLE_INDEX = f'{DATA_ROOT}/CreateRawIndex/v1/samples.npy'\n",
    "\n",
    "processes = np.load(PROCESS_INDEX)\n",
    "samples = np.load(SAMPLE_INDEX)\n",
    "\n",
    "DATA_ROOT_OLD = f'/nfs/dust/ilc/user/bliewert/zhh_old'\n",
    "PROCESS_INDEX_OLD = f'{DATA_ROOT_OLD}/CreateRawIndex/v1/processes.npy'\n",
    "SAMPLE_INDEX_OLD = f'{DATA_ROOT_OLD}/CreateRawIndex/v1/samples.npy'\n",
    "\n",
    "processes_OLD = np.load(PROCESS_INDEX)\n",
    "samples_OLD = np.load(SAMPLE_INDEX)"
   ]
  },
  {
   "cell_type": "markdown",
   "metadata": {},
   "source": [
    "Runtime analysis"
   ]
  },
  {
   "cell_type": "code",
   "execution_count": 49,
   "metadata": {},
   "outputs": [],
   "source": [
    "pn = get_process_normalization(processes, samples, RATIO_BY_EXPECT=1.)\n",
    "ra = get_runtime_analysis(DATA_ROOT = f'/nfs/dust/ilc/user/bliewert/zhh/PreselectionRuntime/{version}')\n",
    "atpe = get_adjusted_time_per_event(ra)\n",
    "scs = get_sample_chunk_splits(samples, atpe, pn, custom_statistics=custom_statistics, MAXIMUM_TIME_PER_JOB=7200)"
   ]
  },
  {
   "cell_type": "code",
   "execution_count": 50,
   "metadata": {},
   "outputs": [
    {
     "data": {
      "text/plain": [
       "4458"
      ]
     },
     "execution_count": 50,
     "metadata": {},
     "output_type": "execute_result"
    }
   ],
   "source": [
    "len(scs)"
   ]
  },
  {
   "cell_type": "code",
   "execution_count": 45,
   "metadata": {},
   "outputs": [
    {
     "data": {
      "text/plain": [
       "array([('2f_z_nung',  7.3333335, 3000, 0.01466667),\n",
       "       ('vvveev', 15.5      , 1997, 0.03104657),\n",
       "       ('2f_z_bhabhang', 16.666666 , 5976, 0.0334672 ),\n",
       "       ('4f_sznu_l', 17.25     , 2000, 0.0345    ),\n",
       "       ('4f_szeorsw_l', 17.9      , 4987, 0.03589332),\n",
       "       ('4f_sze_l', 18.5      , 5979, 0.03712995),\n",
       "       ('4f_lowmee_sze_l', 13.75     , 1390, 0.03956835),\n",
       "       ('vvvelv', 22.333334 , 1500, 0.04466667),\n",
       "       ('4f_lowmee_szeorsw_l', 18.5      , 1615, 0.04582043),\n",
       "       ('eeeeee', 25.5      , 1992, 0.05120482),\n",
       "       ('4f_sw_l', 25.8      , 4996, 0.05164131),\n",
       "       ('eeeell', 26.25     , 1992, 0.05271084)],\n",
       "      dtype=[('process', '<U64'), ('tAvg', '<f4'), ('n_processed', '<i4'), ('tPE', '<f4')])"
      ]
     },
     "execution_count": 45,
     "metadata": {},
     "output_type": "execute_result"
    }
   ],
   "source": [
    "sorted_atpe = atpe[np.argsort(atpe['tPE'])][:12]\n",
    "sorted_atpe"
   ]
  },
  {
   "cell_type": "code",
   "execution_count": 48,
   "metadata": {},
   "outputs": [
    {
     "data": {
      "text/plain": [
       "Text(0, 0.5, 'time per event [s]')"
      ]
     },
     "execution_count": 48,
     "metadata": {},
     "output_type": "execute_result"
    },
    {
     "data": {
      "image/png": "[encoded data removed]",
      "text/plain": [
       "<Figure size 1600x500 with 1 Axes>"
      ]
     },
     "metadata": {},
     "output_type": "display_data"
    }
   ],
   "source": [
    "fig, ax = plt.subplots(figsize=(16, 5)) \n",
    "ax.bar(sorted_atpe['process'], sorted_atpe['tPE'])\n",
    "ax.set_ylabel('time per event [s]')"
   ]
  },
  {
   "cell_type": "code",
   "execution_count": null,
   "metadata": {},
   "outputs": [],
   "source": []
  },
  {
   "cell_type": "code",
   "execution_count": 14,
   "metadata": {},
   "outputs": [
    {
     "name": "stdout",
     "output_type": "stream",
     "text": [
      "2f_z_bhabhag -> 40 -> [40.]\n",
      "2f_z_bhabhang -> 646 -> [646.]\n",
      "2f_z_h -> 230 -> [1150.]\n",
      "2f_z_l -> 24 -> [24.]\n",
      "2f_z_nung -> 477 -> [477.]\n",
      "4f_lowmee_sze_l -> 4 -> [4.]\n",
      "4f_lowmee_szeorsw_l -> 4 -> [4.]\n",
      "4f_sw_l -> 56 -> [56.]\n",
      "4f_sw_sl -> 38 -> [190.]\n",
      "4f_sze_l -> 269 -> [269.]\n",
      "4f_sze_sl -> 36 -> [180.]\n",
      "4f_szeorsw_l -> 36 -> [36.]\n",
      "4f_sznu_l -> 5 -> [5.]\n",
      "4f_sznu_sl -> 11 -> [55.]\n",
      "4f_ww_h -> 55 -> [247.5]\n",
      "4f_ww_l -> 7 -> [21.]\n",
      "4f_ww_sl -> 43 -> [172.]\n",
      "4f_zz_h -> 11 -> [55.]\n",
      "4f_zz_l -> 2 -> [2.]\n",
      "4f_zz_sl -> 41 -> [205.]\n",
      "4f_zzorww_h -> 48 -> [240.]\n",
      "4f_zzorww_l -> 15 -> [15.]\n",
      "e1e1hh -> 121 -> [605.]\n",
      "e1e1qqh -> 80 -> [400.]\n",
      "e2e2hh -> 60 -> [300.]\n",
      "e2e2qqh -> 42 -> [210.]\n",
      "e3e3hh -> 59 -> [295.]\n",
      "e3e3qqh -> 42 -> [210.]\n",
      "eeeeee -> 4 -> [4.]\n",
      "eeeell -> 4 -> [4.]\n",
      "eeeexx -> 4 -> [17.]\n",
      "eeeeyy -> 4 -> [20.]\n",
      "eellxx -> 4 -> [20.]\n",
      "eellyy -> 4 -> [20.]\n",
      "eeveev -> 4 -> [4.]\n",
      "eevelv -> 4 -> [12.]\n",
      "eeveyx -> 10 -> [50.]\n",
      "eevlev -> 4 -> [4.]\n",
      "eevllv -> 5 -> [5.]\n",
      "eevlyx -> 14 -> [49.]\n",
      "eexyev -> 10 -> [30.]\n",
      "eexylv -> 13 -> [48.750004]\n",
      "eexyyx -> 19 -> [95.]\n",
      "llllee -> 4 -> [4.]\n",
      "llllll -> 2 -> [8.]\n",
      "llvelv -> 3 -> [3.]\n",
      "llveyx -> 6 -> [20.]\n",
      "llvlev -> 3 -> [3.]\n",
      "llvllv -> 2 -> [2.]\n",
      "llvlyx -> 5 -> [20.]\n",
      "llxyev -> 6 -> [28.]\n",
      "llxylv -> 5 -> [25.]\n",
      "llxyyx -> 5 -> [25.]\n",
      "n1n1hh -> 60 -> [300.]\n",
      "n1n1qqh -> 41 -> [205.]\n",
      "n23n23hh -> 60 -> [300.]\n",
      "n23n23qqh -> 42 -> [210.]\n",
      "qqhh -> 336 -> [1680.]\n",
      "qqqqh -> 166 -> [830.]\n",
      "vvveev -> 4 -> [4.]\n",
      "vvvelv -> 3 -> [3.]\n",
      "vvveyx -> 6 -> [24.]\n",
      "vvvlev -> 3 -> [3.]\n",
      "vvvllv -> 2 -> [2.]\n",
      "vvvlyx -> 5 -> [17.5]\n",
      "vvvvxx -> 2 -> [10.]\n",
      "vvvvyy -> 1 -> [5.]\n",
      "vvxyev -> 6 -> [24.]\n",
      "vvxylv -> 5 -> [22.5]\n",
      "vvxyyx -> 7 -> [35.]\n",
      "xxveev -> 4 -> [20.]\n",
      "xxvelv -> 5 -> [25.]\n",
      "xxveyx -> 6 -> [30.]\n",
      "xxvlev -> 5 -> [25.]\n",
      "xxvllv -> 5 -> [25.]\n",
      "xxvlyx -> 5 -> [25.]\n",
      "xxxxee -> 5 -> [25.]\n",
      "xxxxll -> 4 -> [20.]\n",
      "xxxxvv -> 2 -> [10.]\n",
      "xxxxxx -> 2 -> [10.]\n",
      "xxxyev -> 6 -> [30.]\n",
      "xxxylv -> 5 -> [25.]\n",
      "xxxyyx -> 11 -> [55.]\n",
      "yycyyc -> 75 -> [375.]\n",
      "yycyyu -> 86 -> [430.]\n",
      "yyuyyc -> 86 -> [430.]\n",
      "yyuyyu -> 82 -> [410.]\n",
      "yyveev -> 12 -> [60.]\n",
      "yyvelv -> 17 -> [85.]\n",
      "yyveyx -> 53 -> [265.]\n",
      "yyvlev -> 17 -> [85.]\n",
      "yyvllv -> 27 -> [135.]\n",
      "yyvlyx -> 95 -> [475.]\n",
      "yyxyev -> 55 -> [275.]\n",
      "yyxylv -> 95 -> [475.]\n",
      "yyyyee -> 8 -> [40.]\n",
      "yyyyll -> 4 -> [20.]\n",
      "yyyyvv -> 3 -> [15.]\n",
      "yyyyyy -> 4 -> [20.]\n",
      "Before 4183 | After 14231\n"
     ]
    }
   ],
   "source": [
    "n_before = 0\n",
    "n_after = 0\n",
    "\n",
    "for process in np.unique(samples['process']):\n",
    "    entry = adjusted_time_per_event[adjusted_time_per_event[\"process\"] == process]\n",
    "    \n",
    "    n_samples = np.sum(samples[\"process\"] == process)\n",
    "    n_samples_adj = n_samples*entry['tPE']\n",
    "    print(f'{process} -> {n_samples} -> {n_samples_adj}')\n",
    "    \n",
    "    n_before += n_samples\n",
    "    n_after += ceil(n_samples_adj)\n",
    "    \n",
    "print(f'Before {n_before} | After {n_after}')"
   ]
  }
 ],
 "metadata": {
  "kernelspec": {
   "display_name": "graphjet_pyg",
   "language": "python",
   "name": "python3"
  },
  "language_info": {
   "codemirror_mode": {
    "name": "ipython",
    "version": 3
   },
   "file_extension": ".py",
   "mimetype": "text/x-python",
   "name": "python",
   "nbconvert_exporter": "python",
   "pygments_lexer": "ipython3",
   "version": "3.11.4"
  }
 },
 "nbformat": 4,
 "nbformat_minor": 2
}
