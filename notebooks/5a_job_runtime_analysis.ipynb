{
 "cells": [
  {
   "cell_type": "code",
   "execution_count": 11,
   "metadata": {},
   "outputs": [],
   "source": [
    "import numpy as np, json\n",
    "import os.path as osp\n",
    "from phc import module_reload\n",
    "module_reload('zhh')\n",
    "import matplotlib.pyplot as plt\n",
    "from zhh import get_runtime_analysis, evaluate_runtime, get_adjusted_time_per_event, get_sample_chunk_splits, get_process_normalization\n",
    "from typing import Optional\n",
    "from math import floor, ceil\n",
    "from glob import glob\n",
    "\n",
    "version = 'v1'\n",
    "REPO_ROOT = '/afs/desy.de/user/b/bliewert/public/MarlinWorkdirs/ZHH'\n",
    "ILD_VERSION = 'ILD_l5_o1_v02'\n",
    "PROD_NAME = '500-TDR_ws'\n",
    "\n",
    "with open(f'{REPO_ROOT}/workflows/analysis/custom_statistics.json') as f:\n",
    "    custom_statistics = json.load(f)\n",
    "\n",
    "DATA_ROOT = f'/nfs/dust/ilc/user/bliewert/zhh'\n",
    "PROCESS_INDEX = f'{DATA_ROOT}/CreateRawIndex/v1/processes.npy'\n",
    "SAMPLE_INDEX = f'{DATA_ROOT}/CreateRawIndex/v1/samples.npy'\n",
    "\n",
    "processes = np.load(PROCESS_INDEX)\n",
    "samples = np.load(SAMPLE_INDEX)"
   ]
  },
  {
   "cell_type": "markdown",
   "metadata": {},
   "source": [
    "Runtime analysis"
   ]
  },
  {
   "cell_type": "code",
   "execution_count": 16,
   "metadata": {},
   "outputs": [],
   "source": [
    "module_reload('zhh')\n",
    "from zhh import get_runtime_analysis, evaluate_runtime, get_adjusted_time_per_event, get_sample_chunk_splits, get_process_normalization\n",
    "\n",
    "DR = f'{DATA_ROOT}/PreselectionRuntime/v1/'\n",
    "pn = get_process_normalization(processes, samples, RATIO_BY_EXPECT=1.)\n",
    "ra = get_runtime_analysis(DATA_ROOT=DR)\n",
    "atpe = get_adjusted_time_per_event(ra)\n",
    "scs = get_sample_chunk_splits(samples, atpe, pn, custom_statistics=custom_statistics, MAXIMUM_TIME_PER_JOB=7200)"
   ]
  },
  {
   "cell_type": "code",
   "execution_count": 21,
   "metadata": {},
   "outputs": [
    {
     "name": "stdout",
     "output_type": "stream",
     "text": [
      "2f_z_bhabhag: 681482 / 681482 = 100.00%\n",
      "2f_z_bhabhang: 11961800 / 11961800 = 100.00%\n",
      "2f_z_h: 2351667 / 2351667 = 100.00%\n",
      "2f_z_l: 660806 / 715583 = 92.35%\n",
      "2f_z_nung: 16473530 / 17467466 = 94.31%\n",
      "4f_lowmee_sze_l: 3221 / 4852 = 66.38%\n",
      "4f_lowmee_szeorsw_l: 31988 / 32969 = 97.02%\n",
      "4f_sw_l: 1380000 / 1476839 = 93.44%\n",
      "4f_sw_sl: 432359 / 442174 = 97.78%\n",
      "4f_sze_l: 4184433 / 5395817 = 77.55%\n",
      "4f_sze_sl: 406561 / 406561 = 100.00%\n",
      "4f_szeorsw_l: 606214 / 676521 = 89.61%\n",
      "4f_sznu_l: 140439 / 146824 = 95.65%\n",
      "4f_sznu_sl: 76200 / 101563 = 75.03%\n",
      "4f_ww_h: 378353 / 392767 = 96.33%\n",
      "4f_ww_l: 151820 / 153613 = 98.83%\n",
      "4f_ww_sl: 480312 / 499910 = 96.08%\n",
      "4f_zz_h: 57553 / 58219 = 98.86%\n",
      "4f_zz_l: 31590 / 46427 = 68.04%\n",
      "4f_zz_sl: 324471 / 444373 = 73.02%\n",
      "4f_zzorww_h: 318511 / 333757 = 95.43%\n",
      "4f_zzorww_l: 410042 / 418221 = 98.04%\n",
      "e1e1hh: 1700 / 953154 = 0.18%\n",
      "e1e1qqh: 10500 / 620173 = 1.69%\n",
      "e2e2hh: 1500 / 475696 = 0.32%\n",
      "e2e2qqh: 10000 / 334194 = 2.99%\n",
      "e3e3hh: 1500 / 462214 = 0.32%\n",
      "e3e3qqh: 10000 / 319096 = 3.13%\n",
      "eeeeee: 71 / 40000 = 0.18%\n",
      "eeeell: 364 / 40000 = 0.91%\n",
      "eeeexx: 163 / 40000 = 0.41%\n",
      "eeeeyy: 88 / 39800 = 0.22%\n",
      "eellxx: 410 / 40000 = 1.03%\n",
      "eellyy: 251 / 40000 = 0.63%\n",
      "eeveev: 815 / 40000 = 2.04%\n",
      "eevelv: 1503 / 45115 = 3.33%\n",
      "eeveyx: 4470 / 80188 = 5.57%\n",
      "eevlev: 1474 / 44948 = 3.28%\n",
      "eevllv: 3415 / 69792 = 4.89%\n",
      "eevlyx: 8505 / 122112 = 6.96%\n",
      "eexyev: 4422 / 80276 = 5.51%\n",
      "eexylv: 8501 / 122202 = 6.96%\n",
      "eexyyx: 24566 / 102804 = 23.90%\n",
      "llllee: 478 / 40000 = 1.20%\n",
      "llllll: 12 / 20000 = 0.06%\n",
      "llvelv: 782 / 30000 = 2.61%\n",
      "llveyx: 2299 / 47942 = 4.80%\n",
      "llvlev: 753 / 30000 = 2.51%\n",
      "llvllv: 1245 / 25000 = 4.98%\n",
      "llvlyx: 3423 / 44344 = 7.72%\n",
      "llxyev: 2197 / 47813 = 4.59%\n",
      "llxylv: 3429 / 44265 = 7.75%\n",
      "llxyyx: 10218 / 30334 = 33.68%\n",
      "n1n1hh: 3700 / 493072 = 0.75%\n",
      "n1n1qqh: 36500 / 336664 = 10.84%\n",
      "n23n23hh: 5400 / 480847 = 1.12%\n",
      "n23n23qqh: 31200 / 337318 = 9.25%\n",
      "qqhh: 27500 / 2000000 = 1.38%\n",
      "qqqqh: 503800 / 999900 = 50.39%\n",
      "vvveev: 718 / 40000 = 1.80%\n",
      "vvvelv: 1120 / 33846 = 3.31%\n",
      "vvveyx: 3341 / 56731 = 5.89%\n",
      "vvvlev: 1089 / 33842 = 3.22%\n",
      "vvvllv: 2060 / 35361 = 5.83%\n",
      "vvvlyx: 5647 / 46627 = 12.11%\n",
      "vvvvxx: 358 / 20000 = 1.79%\n",
      "vvvvyy: 596 / 10000 = 5.96%\n",
      "vvxyev: 3265 / 56707 = 5.76%\n",
      "vvxylv: 5658 / 46600 = 12.14%\n",
      "vvxyyx: 17451 / 52259 = 33.39%\n",
      "xxveev: 1025 / 42459 = 2.41%\n",
      "xxvelv: 1408 / 37263 = 3.78%\n",
      "xxveyx: 4020 / 40674 = 9.88%\n",
      "xxvlev: 1364 / 37296 = 3.66%\n",
      "xxvllv: 2607 / 43334 = 6.02%\n",
      "xxvlyx: 6471 / 30582 = 21.16%\n",
      "xxxxee: 133 / 40000 = 0.33%\n",
      "xxxxll: 138 / 20000 = 0.69%\n",
      "xxxxvv: 318 / 20000 = 1.59%\n",
      "xxxxxx: 75 / 10000 = 0.75%\n",
      "xxxyev: 3880 / 40758 = 9.52%\n",
      "xxxylv: 6469 / 30487 = 21.22%\n",
      "xxxyyx: 18388 / 53689 = 34.25%\n",
      "yycyyc: 195331 / 384907 = 50.75%\n",
      "yycyyu: 198093 / 450010 = 44.02%\n",
      "yyuyyc: 196906 / 449890 = 43.77%\n",
      "yyuyyu: 199404 / 433288 = 46.02%\n",
      "yyveev: 24183 / 97963 = 24.69%\n",
      "yyvelv: 47476 / 164989 = 28.78%\n",
      "yyveyx: 140454 / 349639 = 40.17%\n",
      "yyvlev: 47428 / 164964 = 28.75%\n",
      "yyvllv: 94197 / 247552 = 38.05%\n",
      "yyvlyx: 277235 / 656914 = 42.20%\n",
      "yyxyev: 139960 / 367979 = 38.03%\n",
      "yyxylv: 276790 / 663440 = 41.72%\n",
      "yyyyee: 191 / 40000 = 0.48%\n",
      "yyyyll: 320 / 20000 = 1.60%\n",
      "yyyyvv: 874 / 21115 = 4.14%\n",
      "yyyyyy: 299 / 20000 = 1.49%\n"
     ]
    }
   ],
   "source": [
    "for process in np.unique(samples['process']):\n",
    "    n_tot = samples['n_events'][samples['process'] == process].sum()\n",
    "    n_use = scs['chunk_size'][scs['process'] == process].sum()\n",
    "    \n",
    "    print(f'{process}: {n_use} / {n_tot} = {n_use / n_tot :.2%}')"
   ]
  },
  {
   "cell_type": "code",
   "execution_count": 18,
   "metadata": {},
   "outputs": [
    {
     "data": {
      "text/plain": [
       "4404"
      ]
     },
     "execution_count": 18,
     "metadata": {},
     "output_type": "execute_result"
    }
   ],
   "source": [
    "len(scs)"
   ]
  },
  {
   "cell_type": "code",
   "execution_count": 29,
   "metadata": {},
   "outputs": [
    {
     "data": {
      "text/plain": [
       "array([('qqhh', 521.5    , 300, 10.43     ),\n",
       "       ('yyyyyy', 411.25   , 200,  8.225    ),\n",
       "       ('e1e1hh', 383.58334, 600,  7.6716666),\n",
       "       ('yyxylv', 354.16666, 300,  7.0833335),\n",
       "       ('n1n1hh', 312.5    , 300,  6.25     ),\n",
       "       ('yycyyc', 292.5    , 300,  5.85     ),\n",
       "       ('yyxyev', 286.875  , 400,  5.7375   ),\n",
       "       ('yyvlyx', 283.16666, 300,  5.6633334),\n",
       "       ('yyveyx', 274.     , 400,  5.48     ),\n",
       "       ('yyuyyu', 259.     , 300,  5.18     ),\n",
       "       ('yyvllv', 255.5    , 300,  5.11     ),\n",
       "       ('yycyyu', 254.16667, 300,  5.0833335)],\n",
       "      dtype=[('process', '<U64'), ('tAvg', '<f4'), ('n_processed', '<i4'), ('tPE', '<f4')])"
      ]
     },
     "execution_count": 29,
     "metadata": {},
     "output_type": "execute_result"
    }
   ],
   "source": [
    "sorted_atpe = atpe[np.argsort(-atpe['tPE'])][:12]\n",
    "sorted_atpe"
   ]
  },
  {
   "cell_type": "code",
   "execution_count": 30,
   "metadata": {},
   "outputs": [
    {
     "data": {
      "text/plain": [
       "Text(0, 0.5, 'time per event [s]')"
      ]
     },
     "execution_count": 30,
     "metadata": {},
     "output_type": "execute_result"
    },
    {
     "data": {
      "image/png": "[encoded data removed]",
      "text/plain": [
       "<Figure size 2000x500 with 1 Axes>"
      ]
     },
     "metadata": {},
     "output_type": "display_data"
    }
   ],
   "source": [
    "fig, ax = plt.subplots(figsize=(20, 5)) \n",
    "ax.bar(sorted_atpe['process'], sorted_atpe['tPE'])\n",
    "ax.set_ylabel('time per event [s]')"
   ]
  },
  {
   "cell_type": "code",
   "execution_count": null,
   "metadata": {},
   "outputs": [],
   "source": []
  }
 ],
 "metadata": {
  "kernelspec": {
   "display_name": "graphjet_pyg",
   "language": "python",
   "name": "python3"
  },
  "language_info": {
   "codemirror_mode": {
    "name": "ipython",
    "version": 3
   },
   "file_extension": ".py",
   "mimetype": "text/x-python",
   "name": "python",
   "nbconvert_exporter": "python",
   "pygments_lexer": "ipython3",
   "version": "3.11.4"
  }
 },
 "nbformat": 4,
 "nbformat_minor": 2
}
