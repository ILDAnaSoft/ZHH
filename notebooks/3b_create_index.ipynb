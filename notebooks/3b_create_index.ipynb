{
 "cells": [
  {
   "cell_type": "code",
   "execution_count": null,
   "metadata": {},
   "outputs": [],
   "source": [
    "\"\"\"\n",
    "Rewrite format of 3_* to different structure\n",
    "\n",
    "Sample\n",
    "    run_id\n",
    "    proc_pol ({process}_{pol_key})\n",
    "    location\n",
    "    n_events\n",
    "    process\n",
    "    pol_e\n",
    "    pol_p\n",
    "    \n",
    "Process\n",
    "    name\n",
    "    key\n",
    "    polarization\n",
    "    cross_section\n",
    "    cross_section_error \n",
    "\"\"\""
   ]
  },
  {
   "cell_type": "code",
   "execution_count": 2,
   "metadata": {},
   "outputs": [],
   "source": [
    "import json, os\n",
    "import os.path as osp\n",
    "import numpy as np\n",
    "from tqdm.auto import tqdm\n",
    "from IPython import get_ipython\n",
    "from zhh import get_pol_key, get_raw_files, is_readable, ProcessIndex\n",
    "#from pyLCIO import IOIMPL"
   ]
  },
  {
   "cell_type": "code",
   "execution_count": 3,
   "metadata": {},
   "outputs": [],
   "source": [
    "PROCESS_INDEX = '/afs/desy.de/user/b/bliewert/public/MarlinWorkdirs/ZHH/notebooks/checked_processes.npy'\n",
    "SAMPLE_INDEX = '/afs/desy.de/user/b/bliewert/public/MarlinWorkdirs/ZHH/notebooks/checked_files.npy'\n",
    "RAW_FILE_LIST = list(get_raw_files())"
   ]
  },
  {
   "cell_type": "code",
   "execution_count": 4,
   "metadata": {},
   "outputs": [],
   "source": [
    "a = np.load(SAMPLE_INDEX)"
   ]
  },
  {
   "cell_type": "code",
   "execution_count": 5,
   "metadata": {},
   "outputs": [
    {
     "data": {
      "text/plain": [
       "array([(250101, '2f_z_bhabhag', '2f_z_bhabhag_LL', 18800, -1, -1, '/pnfs/desy.de/ilc/prod/ilc/ild/copy/dst-merged/500-TDR_ws/2f_Z_bhabhag/ILD_l5_o1_v02/v02-00-01/rv02-00-01.sv02-00-01.mILD_l5_o1_v02.E500-TDR_ws.I250101.P2f_z_bhabhag.eL.pL.n001.d_dstm_10366_0.slcio'),\n",
       "       (250101, '2f_z_bhabhag', '2f_z_bhabhag_LL', 18800, -1, -1, '/pnfs/desy.de/ilc/prod/ilc/ild/copy/dst-merged/500-TDR_ws/2f_Z_bhabhag/ILD_l5_o1_v02/v02-00-01/rv02-00-01.sv02-00-01.mILD_l5_o1_v02.E500-TDR_ws.I250101.P2f_z_bhabhag.eL.pL.n001.d_dstm_10366_1.slcio'),\n",
       "       (250101, '2f_z_bhabhag', '2f_z_bhabhag_LL', 18800, -1, -1, '/pnfs/desy.de/ilc/prod/ilc/ild/copy/dst-merged/500-TDR_ws/2f_Z_bhabhag/ILD_l5_o1_v02/v02-00-01/rv02-00-01.sv02-00-01.mILD_l5_o1_v02.E500-TDR_ws.I250101.P2f_z_bhabhag.eL.pL.n001.d_dstm_10366_2.slcio'),\n",
       "       ...,\n",
       "       (108573, 'yyyyyy', 'yyyyyy_LR',  5000, -1,  1, '/pnfs/desy.de/ilc/prod/ilc/ild/copy/dst-merged/500-TDR_ws/6f_yyyyZ/ILD_l5_o1_v02/v02-00-01/rv02-00-01.sv02-00-01.mILD_l5_o1_v02.E500-TDR_ws.I108573.Pyyyyyy.eL.pR.n001.d_dstm_10330_1.slcio'),\n",
       "       (108574, 'yyyyyy', 'yyyyyy_RL',  5000,  1, -1, '/pnfs/desy.de/ilc/prod/ilc/ild/copy/dst-merged/500-TDR_ws/6f_yyyyZ/ILD_l5_o1_v02/v02-00-01/rv02-00-01.sv02-00-01.mILD_l5_o1_v02.E500-TDR_ws.I108574.Pyyyyyy.eR.pL.n001.d_dstm_10330_0.slcio'),\n",
       "       (108574, 'yyyyyy', 'yyyyyy_RL',  5000,  1, -1, '/pnfs/desy.de/ilc/prod/ilc/ild/copy/dst-merged/500-TDR_ws/6f_yyyyZ/ILD_l5_o1_v02/v02-00-01/rv02-00-01.sv02-00-01.mILD_l5_o1_v02.E500-TDR_ws.I108574.Pyyyyyy.eR.pL.n001.d_dstm_10330_1.slcio')],\n",
       "      dtype=[('run_id', '<i4'), ('process', '<U60'), ('proc_pol', '<U64'), ('n_events', '<i4'), ('pol_e', '<i4'), ('pol_p', '<i4'), ('location', '<U512')])"
      ]
     },
     "execution_count": 5,
     "metadata": {},
     "output_type": "execute_result"
    }
   ],
   "source": [
    "b = a[np.lexsort((a['location'],a['proc_pol']))]\n",
    "b"
   ]
  },
  {
   "cell_type": "code",
   "execution_count": 7,
   "metadata": {},
   "outputs": [
    {
     "data": {
      "text/plain": [
       "array([(403005, 'n1n1hh', 'n1n1hh_NN', 6800, 0, 0, '/pnfs/desy.de/ilc/prod/ilc/mc-2020/ild/dst-merged/500-TDR_ws/hh/ILD_l5_o1_v02/v02-02-03/00015741/000/rv02-02-03.sv02-02-03.mILD_l5_o1_v02.E500-TDR_ws.I403005.Pn1n1hh.eL.pR.n000.d_dstm_15741_0.slcio'),\n",
       "       (403005, 'n1n1hh', 'n1n1hh_NN', 6800, 0, 0, '/pnfs/desy.de/ilc/prod/ilc/mc-2020/ild/dst-merged/500-TDR_ws/hh/ILD_l5_o1_v02/v02-02-03/00015741/000/rv02-02-03.sv02-02-03.mILD_l5_o1_v02.E500-TDR_ws.I403005.Pn1n1hh.eL.pR.n000.d_dstm_15741_1.slcio'),\n",
       "       (403005, 'n1n1hh', 'n1n1hh_NN', 6400, 0, 0, '/pnfs/desy.de/ilc/prod/ilc/mc-2020/ild/dst-merged/500-TDR_ws/hh/ILD_l5_o1_v02/v02-02-03/00015741/000/rv02-02-03.sv02-02-03.mILD_l5_o1_v02.E500-TDR_ws.I403005.Pn1n1hh.eL.pR.n000.d_dstm_15741_2.slcio'),\n",
       "       (403006, 'n1n1hh', 'n1n1hh_NN', 6800, 0, 0, '/pnfs/desy.de/ilc/prod/ilc/mc-2020/ild/dst-merged/500-TDR_ws/hh/ILD_l5_o1_v02/v02-02-03/00015741/000/rv02-02-03.sv02-02-03.mILD_l5_o1_v02.E500-TDR_ws.I403006.Pn1n1hh.eR.pL.n000.d_dstm_15741_0.slcio'),\n",
       "       (403006, 'n1n1hh', 'n1n1hh_NN', 6800, 0, 0, '/pnfs/desy.de/ilc/prod/ilc/mc-2020/ild/dst-merged/500-TDR_ws/hh/ILD_l5_o1_v02/v02-02-03/00015741/000/rv02-02-03.sv02-02-03.mILD_l5_o1_v02.E500-TDR_ws.I403006.Pn1n1hh.eR.pL.n000.d_dstm_15741_1.slcio'),\n",
       "       (403006, 'n1n1hh', 'n1n1hh_NN', 6400, 0, 0, '/pnfs/desy.de/ilc/prod/ilc/mc-2020/ild/dst-merged/500-TDR_ws/hh/ILD_l5_o1_v02/v02-02-03/00015741/000/rv02-02-03.sv02-02-03.mILD_l5_o1_v02.E500-TDR_ws.I403006.Pn1n1hh.eR.pL.n000.d_dstm_15741_2.slcio'),\n",
       "       (403005, 'n1n1hh', 'n1n1hh_NN', 8600, 0, 0, '/pnfs/desy.de/ilc/prod/ilc/mc-2020/ild/dst-merged/500-TDR_ws/hh/ILD_l5_o1_v02/v02-02-03/00015742/000/rv02-02-03.sv02-02-03.mILD_l5_o1_v02.E500-TDR_ws.I403005.Pn1n1hh.eL.pR.n000.d_dstm_15742_0.slcio'),\n",
       "       (403005, 'n1n1hh', 'n1n1hh_NN', 8600, 0, 0, '/pnfs/desy.de/ilc/prod/ilc/mc-2020/ild/dst-merged/500-TDR_ws/hh/ILD_l5_o1_v02/v02-02-03/00015742/000/rv02-02-03.sv02-02-03.mILD_l5_o1_v02.E500-TDR_ws.I403005.Pn1n1hh.eL.pR.n000.d_dstm_15742_1.slcio'),\n",
       "       (403005, 'n1n1hh', 'n1n1hh_NN', 8600, 0, 0, '/pnfs/desy.de/ilc/prod/ilc/mc-2020/ild/dst-merged/500-TDR_ws/hh/ILD_l5_o1_v02/v02-02-03/00015742/000/rv02-02-03.sv02-02-03.mILD_l5_o1_v02.E500-TDR_ws.I403005.Pn1n1hh.eL.pR.n000.d_dstm_15742_2.slcio'),\n",
       "       (403005, 'n1n1hh', 'n1n1hh_NN', 8600, 0, 0, '/pnfs/desy.de/ilc/prod/ilc/mc-2020/ild/dst-merged/500-TDR_ws/hh/ILD_l5_o1_v02/v02-02-03/00015742/000/rv02-02-03.sv02-02-03.mILD_l5_o1_v02.E500-TDR_ws.I403005.Pn1n1hh.eL.pR.n000.d_dstm_15742_3.slcio'),\n",
       "       (403005, 'n1n1hh', 'n1n1hh_NN', 8600, 0, 0, '/pnfs/desy.de/ilc/prod/ilc/mc-2020/ild/dst-merged/500-TDR_ws/hh/ILD_l5_o1_v02/v02-02-03/00015742/000/rv02-02-03.sv02-02-03.mILD_l5_o1_v02.E500-TDR_ws.I403005.Pn1n1hh.eL.pR.n000.d_dstm_15742_4.slcio'),\n",
       "       (403005, 'n1n1hh', 'n1n1hh_NN', 8600, 0, 0, '/pnfs/desy.de/ilc/prod/ilc/mc-2020/ild/dst-merged/500-TDR_ws/hh/ILD_l5_o1_v02/v02-02-03/00015742/000/rv02-02-03.sv02-02-03.mILD_l5_o1_v02.E500-TDR_ws.I403005.Pn1n1hh.eL.pR.n000.d_dstm_15742_5.slcio'),\n",
       "       (403005, 'n1n1hh', 'n1n1hh_NN', 8600, 0, 0, '/pnfs/desy.de/ilc/prod/ilc/mc-2020/ild/dst-merged/500-TDR_ws/hh/ILD_l5_o1_v02/v02-02-03/00015742/000/rv02-02-03.sv02-02-03.mILD_l5_o1_v02.E500-TDR_ws.I403005.Pn1n1hh.eL.pR.n000.d_dstm_15742_6.slcio'),\n",
       "       (403005, 'n1n1hh', 'n1n1hh_NN', 8428, 0, 0, '/pnfs/desy.de/ilc/prod/ilc/mc-2020/ild/dst-merged/500-TDR_ws/hh/ILD_l5_o1_v02/v02-02-03/00015742/000/rv02-02-03.sv02-02-03.mILD_l5_o1_v02.E500-TDR_ws.I403005.Pn1n1hh.eL.pR.n000.d_dstm_15742_7.slcio'),\n",
       "       (403005, 'n1n1hh', 'n1n1hh_NN', 8600, 0, 0, '/pnfs/desy.de/ilc/prod/ilc/mc-2020/ild/dst-merged/500-TDR_ws/hh/ILD_l5_o1_v02/v02-02-03/00015742/000/rv02-02-03.sv02-02-03.mILD_l5_o1_v02.E500-TDR_ws.I403005.Pn1n1hh.eL.pR.n001.d_dstm_15742_10.slcio'),\n",
       "       (403005, 'n1n1hh', 'n1n1hh_NN', 8600, 0, 0, '/pnfs/desy.de/ilc/prod/ilc/mc-2020/ild/dst-merged/500-TDR_ws/hh/ILD_l5_o1_v02/v02-02-03/00015742/000/rv02-02-03.sv02-02-03.mILD_l5_o1_v02.E500-TDR_ws.I403005.Pn1n1hh.eL.pR.n001.d_dstm_15742_11.slcio'),\n",
       "       (403005, 'n1n1hh', 'n1n1hh_NN', 8600, 0, 0, '/pnfs/desy.de/ilc/prod/ilc/mc-2020/ild/dst-merged/500-TDR_ws/hh/ILD_l5_o1_v02/v02-02-03/00015742/000/rv02-02-03.sv02-02-03.mILD_l5_o1_v02.E500-TDR_ws.I403005.Pn1n1hh.eL.pR.n001.d_dstm_15742_12.slcio'),\n",
       "       (403005, 'n1n1hh', 'n1n1hh_NN', 8600, 0, 0, '/pnfs/desy.de/ilc/prod/ilc/mc-2020/ild/dst-merged/500-TDR_ws/hh/ILD_l5_o1_v02/v02-02-03/00015742/000/rv02-02-03.sv02-02-03.mILD_l5_o1_v02.E500-TDR_ws.I403005.Pn1n1hh.eL.pR.n001.d_dstm_15742_13.slcio'),\n",
       "       (403005, 'n1n1hh', 'n1n1hh_NN', 8600, 0, 0, '/pnfs/desy.de/ilc/prod/ilc/mc-2020/ild/dst-merged/500-TDR_ws/hh/ILD_l5_o1_v02/v02-02-03/00015742/000/rv02-02-03.sv02-02-03.mILD_l5_o1_v02.E500-TDR_ws.I403005.Pn1n1hh.eL.pR.n001.d_dstm_15742_14.slcio'),\n",
       "       (403005, 'n1n1hh', 'n1n1hh_NN', 8600, 0, 0, '/pnfs/desy.de/ilc/prod/ilc/mc-2020/ild/dst-merged/500-TDR_ws/hh/ILD_l5_o1_v02/v02-02-03/00015742/000/rv02-02-03.sv02-02-03.mILD_l5_o1_v02.E500-TDR_ws.I403005.Pn1n1hh.eL.pR.n001.d_dstm_15742_15.slcio'),\n",
       "       (403005, 'n1n1hh', 'n1n1hh_NN', 8558, 0, 0, '/pnfs/desy.de/ilc/prod/ilc/mc-2020/ild/dst-merged/500-TDR_ws/hh/ILD_l5_o1_v02/v02-02-03/00015742/000/rv02-02-03.sv02-02-03.mILD_l5_o1_v02.E500-TDR_ws.I403005.Pn1n1hh.eL.pR.n001.d_dstm_15742_16.slcio'),\n",
       "       (403005, 'n1n1hh', 'n1n1hh_NN', 8600, 0, 0, '/pnfs/desy.de/ilc/prod/ilc/mc-2020/ild/dst-merged/500-TDR_ws/hh/ILD_l5_o1_v02/v02-02-03/00015742/000/rv02-02-03.sv02-02-03.mILD_l5_o1_v02.E500-TDR_ws.I403005.Pn1n1hh.eL.pR.n001.d_dstm_15742_8.slcio'),\n",
       "       (403005, 'n1n1hh', 'n1n1hh_NN', 8600, 0, 0, '/pnfs/desy.de/ilc/prod/ilc/mc-2020/ild/dst-merged/500-TDR_ws/hh/ILD_l5_o1_v02/v02-02-03/00015742/000/rv02-02-03.sv02-02-03.mILD_l5_o1_v02.E500-TDR_ws.I403005.Pn1n1hh.eL.pR.n001.d_dstm_15742_9.slcio'),\n",
       "       (403005, 'n1n1hh', 'n1n1hh_NN', 8600, 0, 0, '/pnfs/desy.de/ilc/prod/ilc/mc-2020/ild/dst-merged/500-TDR_ws/hh/ILD_l5_o1_v02/v02-02-03/00015742/000/rv02-02-03.sv02-02-03.mILD_l5_o1_v02.E500-TDR_ws.I403005.Pn1n1hh.eL.pR.n002.d_dstm_15742_17.slcio'),\n",
       "       (403005, 'n1n1hh', 'n1n1hh_NN', 8600, 0, 0, '/pnfs/desy.de/ilc/prod/ilc/mc-2020/ild/dst-merged/500-TDR_ws/hh/ILD_l5_o1_v02/v02-02-03/00015742/000/rv02-02-03.sv02-02-03.mILD_l5_o1_v02.E500-TDR_ws.I403005.Pn1n1hh.eL.pR.n002.d_dstm_15742_18.slcio'),\n",
       "       (403005, 'n1n1hh', 'n1n1hh_NN', 8600, 0, 0, '/pnfs/desy.de/ilc/prod/ilc/mc-2020/ild/dst-merged/500-TDR_ws/hh/ILD_l5_o1_v02/v02-02-03/00015742/000/rv02-02-03.sv02-02-03.mILD_l5_o1_v02.E500-TDR_ws.I403005.Pn1n1hh.eL.pR.n002.d_dstm_15742_19.slcio'),\n",
       "       (403005, 'n1n1hh', 'n1n1hh_NN', 8600, 0, 0, '/pnfs/desy.de/ilc/prod/ilc/mc-2020/ild/dst-merged/500-TDR_ws/hh/ILD_l5_o1_v02/v02-02-03/00015742/000/rv02-02-03.sv02-02-03.mILD_l5_o1_v02.E500-TDR_ws.I403005.Pn1n1hh.eL.pR.n002.d_dstm_15742_20.slcio'),\n",
       "       (403005, 'n1n1hh', 'n1n1hh_NN', 8600, 0, 0, '/pnfs/desy.de/ilc/prod/ilc/mc-2020/ild/dst-merged/500-TDR_ws/hh/ILD_l5_o1_v02/v02-02-03/00015742/000/rv02-02-03.sv02-02-03.mILD_l5_o1_v02.E500-TDR_ws.I403005.Pn1n1hh.eL.pR.n002.d_dstm_15742_21.slcio'),\n",
       "       (403005, 'n1n1hh', 'n1n1hh_NN', 8600, 0, 0, '/pnfs/desy.de/ilc/prod/ilc/mc-2020/ild/dst-merged/500-TDR_ws/hh/ILD_l5_o1_v02/v02-02-03/00015742/000/rv02-02-03.sv02-02-03.mILD_l5_o1_v02.E500-TDR_ws.I403005.Pn1n1hh.eL.pR.n002.d_dstm_15742_22.slcio'),\n",
       "       (403005, 'n1n1hh', 'n1n1hh_NN', 8600, 0, 0, '/pnfs/desy.de/ilc/prod/ilc/mc-2020/ild/dst-merged/500-TDR_ws/hh/ILD_l5_o1_v02/v02-02-03/00015742/000/rv02-02-03.sv02-02-03.mILD_l5_o1_v02.E500-TDR_ws.I403005.Pn1n1hh.eL.pR.n002.d_dstm_15742_23.slcio'),\n",
       "       (403005, 'n1n1hh', 'n1n1hh_NN', 8600, 0, 0, '/pnfs/desy.de/ilc/prod/ilc/mc-2020/ild/dst-merged/500-TDR_ws/hh/ILD_l5_o1_v02/v02-02-03/00015742/000/rv02-02-03.sv02-02-03.mILD_l5_o1_v02.E500-TDR_ws.I403005.Pn1n1hh.eL.pR.n002.d_dstm_15742_24.slcio'),\n",
       "       (403005, 'n1n1hh', 'n1n1hh_NN', 8600, 0, 0, '/pnfs/desy.de/ilc/prod/ilc/mc-2020/ild/dst-merged/500-TDR_ws/hh/ILD_l5_o1_v02/v02-02-03/00015742/000/rv02-02-03.sv02-02-03.mILD_l5_o1_v02.E500-TDR_ws.I403005.Pn1n1hh.eL.pR.n002.d_dstm_15742_25.slcio'),\n",
       "       (403005, 'n1n1hh', 'n1n1hh_NN', 3084, 0, 0, '/pnfs/desy.de/ilc/prod/ilc/mc-2020/ild/dst-merged/500-TDR_ws/hh/ILD_l5_o1_v02/v02-02-03/00015742/000/rv02-02-03.sv02-02-03.mILD_l5_o1_v02.E500-TDR_ws.I403005.Pn1n1hh.eL.pR.n002.d_dstm_15742_26.slcio'),\n",
       "       (403006, 'n1n1hh', 'n1n1hh_NN', 8600, 0, 0, '/pnfs/desy.de/ilc/prod/ilc/mc-2020/ild/dst-merged/500-TDR_ws/hh/ILD_l5_o1_v02/v02-02-03/00015742/000/rv02-02-03.sv02-02-03.mILD_l5_o1_v02.E500-TDR_ws.I403006.Pn1n1hh.eR.pL.n000.d_dstm_15742_0.slcio'),\n",
       "       (403006, 'n1n1hh', 'n1n1hh_NN', 8600, 0, 0, '/pnfs/desy.de/ilc/prod/ilc/mc-2020/ild/dst-merged/500-TDR_ws/hh/ILD_l5_o1_v02/v02-02-03/00015742/000/rv02-02-03.sv02-02-03.mILD_l5_o1_v02.E500-TDR_ws.I403006.Pn1n1hh.eR.pL.n000.d_dstm_15742_1.slcio'),\n",
       "       (403006, 'n1n1hh', 'n1n1hh_NN', 8600, 0, 0, '/pnfs/desy.de/ilc/prod/ilc/mc-2020/ild/dst-merged/500-TDR_ws/hh/ILD_l5_o1_v02/v02-02-03/00015742/000/rv02-02-03.sv02-02-03.mILD_l5_o1_v02.E500-TDR_ws.I403006.Pn1n1hh.eR.pL.n000.d_dstm_15742_2.slcio'),\n",
       "       (403006, 'n1n1hh', 'n1n1hh_NN', 8600, 0, 0, '/pnfs/desy.de/ilc/prod/ilc/mc-2020/ild/dst-merged/500-TDR_ws/hh/ILD_l5_o1_v02/v02-02-03/00015742/000/rv02-02-03.sv02-02-03.mILD_l5_o1_v02.E500-TDR_ws.I403006.Pn1n1hh.eR.pL.n000.d_dstm_15742_3.slcio'),\n",
       "       (403006, 'n1n1hh', 'n1n1hh_NN', 8600, 0, 0, '/pnfs/desy.de/ilc/prod/ilc/mc-2020/ild/dst-merged/500-TDR_ws/hh/ILD_l5_o1_v02/v02-02-03/00015742/000/rv02-02-03.sv02-02-03.mILD_l5_o1_v02.E500-TDR_ws.I403006.Pn1n1hh.eR.pL.n000.d_dstm_15742_4.slcio'),\n",
       "       (403006, 'n1n1hh', 'n1n1hh_NN', 8600, 0, 0, '/pnfs/desy.de/ilc/prod/ilc/mc-2020/ild/dst-merged/500-TDR_ws/hh/ILD_l5_o1_v02/v02-02-03/00015742/000/rv02-02-03.sv02-02-03.mILD_l5_o1_v02.E500-TDR_ws.I403006.Pn1n1hh.eR.pL.n000.d_dstm_15742_5.slcio'),\n",
       "       (403006, 'n1n1hh', 'n1n1hh_NN', 8600, 0, 0, '/pnfs/desy.de/ilc/prod/ilc/mc-2020/ild/dst-merged/500-TDR_ws/hh/ILD_l5_o1_v02/v02-02-03/00015742/000/rv02-02-03.sv02-02-03.mILD_l5_o1_v02.E500-TDR_ws.I403006.Pn1n1hh.eR.pL.n000.d_dstm_15742_6.slcio'),\n",
       "       (403006, 'n1n1hh', 'n1n1hh_NN', 8560, 0, 0, '/pnfs/desy.de/ilc/prod/ilc/mc-2020/ild/dst-merged/500-TDR_ws/hh/ILD_l5_o1_v02/v02-02-03/00015742/000/rv02-02-03.sv02-02-03.mILD_l5_o1_v02.E500-TDR_ws.I403006.Pn1n1hh.eR.pL.n000.d_dstm_15742_7.slcio'),\n",
       "       (403006, 'n1n1hh', 'n1n1hh_NN', 8600, 0, 0, '/pnfs/desy.de/ilc/prod/ilc/mc-2020/ild/dst-merged/500-TDR_ws/hh/ILD_l5_o1_v02/v02-02-03/00015742/000/rv02-02-03.sv02-02-03.mILD_l5_o1_v02.E500-TDR_ws.I403006.Pn1n1hh.eR.pL.n001.d_dstm_15742_10.slcio'),\n",
       "       (403006, 'n1n1hh', 'n1n1hh_NN', 8600, 0, 0, '/pnfs/desy.de/ilc/prod/ilc/mc-2020/ild/dst-merged/500-TDR_ws/hh/ILD_l5_o1_v02/v02-02-03/00015742/000/rv02-02-03.sv02-02-03.mILD_l5_o1_v02.E500-TDR_ws.I403006.Pn1n1hh.eR.pL.n001.d_dstm_15742_11.slcio'),\n",
       "       (403006, 'n1n1hh', 'n1n1hh_NN', 8600, 0, 0, '/pnfs/desy.de/ilc/prod/ilc/mc-2020/ild/dst-merged/500-TDR_ws/hh/ILD_l5_o1_v02/v02-02-03/00015742/000/rv02-02-03.sv02-02-03.mILD_l5_o1_v02.E500-TDR_ws.I403006.Pn1n1hh.eR.pL.n001.d_dstm_15742_12.slcio'),\n",
       "       (403006, 'n1n1hh', 'n1n1hh_NN', 8600, 0, 0, '/pnfs/desy.de/ilc/prod/ilc/mc-2020/ild/dst-merged/500-TDR_ws/hh/ILD_l5_o1_v02/v02-02-03/00015742/000/rv02-02-03.sv02-02-03.mILD_l5_o1_v02.E500-TDR_ws.I403006.Pn1n1hh.eR.pL.n001.d_dstm_15742_13.slcio'),\n",
       "       (403006, 'n1n1hh', 'n1n1hh_NN', 8600, 0, 0, '/pnfs/desy.de/ilc/prod/ilc/mc-2020/ild/dst-merged/500-TDR_ws/hh/ILD_l5_o1_v02/v02-02-03/00015742/000/rv02-02-03.sv02-02-03.mILD_l5_o1_v02.E500-TDR_ws.I403006.Pn1n1hh.eR.pL.n001.d_dstm_15742_14.slcio'),\n",
       "       (403006, 'n1n1hh', 'n1n1hh_NN', 8600, 0, 0, '/pnfs/desy.de/ilc/prod/ilc/mc-2020/ild/dst-merged/500-TDR_ws/hh/ILD_l5_o1_v02/v02-02-03/00015742/000/rv02-02-03.sv02-02-03.mILD_l5_o1_v02.E500-TDR_ws.I403006.Pn1n1hh.eR.pL.n001.d_dstm_15742_15.slcio'),\n",
       "       (403006, 'n1n1hh', 'n1n1hh_NN', 8437, 0, 0, '/pnfs/desy.de/ilc/prod/ilc/mc-2020/ild/dst-merged/500-TDR_ws/hh/ILD_l5_o1_v02/v02-02-03/00015742/000/rv02-02-03.sv02-02-03.mILD_l5_o1_v02.E500-TDR_ws.I403006.Pn1n1hh.eR.pL.n001.d_dstm_15742_16.slcio'),\n",
       "       (403006, 'n1n1hh', 'n1n1hh_NN', 8600, 0, 0, '/pnfs/desy.de/ilc/prod/ilc/mc-2020/ild/dst-merged/500-TDR_ws/hh/ILD_l5_o1_v02/v02-02-03/00015742/000/rv02-02-03.sv02-02-03.mILD_l5_o1_v02.E500-TDR_ws.I403006.Pn1n1hh.eR.pL.n001.d_dstm_15742_8.slcio'),\n",
       "       (403006, 'n1n1hh', 'n1n1hh_NN', 8600, 0, 0, '/pnfs/desy.de/ilc/prod/ilc/mc-2020/ild/dst-merged/500-TDR_ws/hh/ILD_l5_o1_v02/v02-02-03/00015742/000/rv02-02-03.sv02-02-03.mILD_l5_o1_v02.E500-TDR_ws.I403006.Pn1n1hh.eR.pL.n001.d_dstm_15742_9.slcio'),\n",
       "       (403006, 'n1n1hh', 'n1n1hh_NN', 8600, 0, 0, '/pnfs/desy.de/ilc/prod/ilc/mc-2020/ild/dst-merged/500-TDR_ws/hh/ILD_l5_o1_v02/v02-02-03/00015742/000/rv02-02-03.sv02-02-03.mILD_l5_o1_v02.E500-TDR_ws.I403006.Pn1n1hh.eR.pL.n002.d_dstm_15742_17.slcio'),\n",
       "       (403006, 'n1n1hh', 'n1n1hh_NN', 8600, 0, 0, '/pnfs/desy.de/ilc/prod/ilc/mc-2020/ild/dst-merged/500-TDR_ws/hh/ILD_l5_o1_v02/v02-02-03/00015742/000/rv02-02-03.sv02-02-03.mILD_l5_o1_v02.E500-TDR_ws.I403006.Pn1n1hh.eR.pL.n002.d_dstm_15742_18.slcio'),\n",
       "       (403006, 'n1n1hh', 'n1n1hh_NN', 8600, 0, 0, '/pnfs/desy.de/ilc/prod/ilc/mc-2020/ild/dst-merged/500-TDR_ws/hh/ILD_l5_o1_v02/v02-02-03/00015742/000/rv02-02-03.sv02-02-03.mILD_l5_o1_v02.E500-TDR_ws.I403006.Pn1n1hh.eR.pL.n002.d_dstm_15742_19.slcio'),\n",
       "       (403006, 'n1n1hh', 'n1n1hh_NN', 8600, 0, 0, '/pnfs/desy.de/ilc/prod/ilc/mc-2020/ild/dst-merged/500-TDR_ws/hh/ILD_l5_o1_v02/v02-02-03/00015742/000/rv02-02-03.sv02-02-03.mILD_l5_o1_v02.E500-TDR_ws.I403006.Pn1n1hh.eR.pL.n002.d_dstm_15742_20.slcio'),\n",
       "       (403006, 'n1n1hh', 'n1n1hh_NN', 8600, 0, 0, '/pnfs/desy.de/ilc/prod/ilc/mc-2020/ild/dst-merged/500-TDR_ws/hh/ILD_l5_o1_v02/v02-02-03/00015742/000/rv02-02-03.sv02-02-03.mILD_l5_o1_v02.E500-TDR_ws.I403006.Pn1n1hh.eR.pL.n002.d_dstm_15742_21.slcio'),\n",
       "       (403006, 'n1n1hh', 'n1n1hh_NN', 8600, 0, 0, '/pnfs/desy.de/ilc/prod/ilc/mc-2020/ild/dst-merged/500-TDR_ws/hh/ILD_l5_o1_v02/v02-02-03/00015742/000/rv02-02-03.sv02-02-03.mILD_l5_o1_v02.E500-TDR_ws.I403006.Pn1n1hh.eR.pL.n002.d_dstm_15742_22.slcio'),\n",
       "       (403006, 'n1n1hh', 'n1n1hh_NN', 8600, 0, 0, '/pnfs/desy.de/ilc/prod/ilc/mc-2020/ild/dst-merged/500-TDR_ws/hh/ILD_l5_o1_v02/v02-02-03/00015742/000/rv02-02-03.sv02-02-03.mILD_l5_o1_v02.E500-TDR_ws.I403006.Pn1n1hh.eR.pL.n002.d_dstm_15742_23.slcio'),\n",
       "       (403006, 'n1n1hh', 'n1n1hh_NN', 8600, 0, 0, '/pnfs/desy.de/ilc/prod/ilc/mc-2020/ild/dst-merged/500-TDR_ws/hh/ILD_l5_o1_v02/v02-02-03/00015742/000/rv02-02-03.sv02-02-03.mILD_l5_o1_v02.E500-TDR_ws.I403006.Pn1n1hh.eR.pL.n002.d_dstm_15742_24.slcio'),\n",
       "       (403006, 'n1n1hh', 'n1n1hh_NN', 8600, 0, 0, '/pnfs/desy.de/ilc/prod/ilc/mc-2020/ild/dst-merged/500-TDR_ws/hh/ILD_l5_o1_v02/v02-02-03/00015742/000/rv02-02-03.sv02-02-03.mILD_l5_o1_v02.E500-TDR_ws.I403006.Pn1n1hh.eR.pL.n002.d_dstm_15742_25.slcio'),\n",
       "       (403006, 'n1n1hh', 'n1n1hh_NN', 3205, 0, 0, '/pnfs/desy.de/ilc/prod/ilc/mc-2020/ild/dst-merged/500-TDR_ws/hh/ILD_l5_o1_v02/v02-02-03/00015742/000/rv02-02-03.sv02-02-03.mILD_l5_o1_v02.E500-TDR_ws.I403006.Pn1n1hh.eR.pL.n002.d_dstm_15742_26.slcio')],\n",
       "      dtype=[('run_id', '<i4'), ('process', '<U60'), ('proc_pol', '<U64'), ('n_events', '<i4'), ('pol_e', '<i4'), ('pol_p', '<i4'), ('location', '<U512')])"
      ]
     },
     "execution_count": 7,
     "metadata": {},
     "output_type": "execute_result"
    }
   ],
   "source": [
    "b[b['proc_pol'] == 'n1n1hh_NN']"
   ]
  },
  {
   "cell_type": "code",
   "execution_count": null,
   "metadata": {},
   "outputs": [],
   "source": []
  },
  {
   "cell_type": "code",
   "execution_count": 23,
   "metadata": {},
   "outputs": [
    {
     "data": {
      "text/plain": [
       "260"
      ]
     },
     "execution_count": 23,
     "metadata": {},
     "output_type": "execute_result"
    }
   ],
   "source": [
    "len(np.unique(a['proc_pol']))"
   ]
  },
  {
   "cell_type": "code",
   "execution_count": null,
   "metadata": {},
   "outputs": [],
   "source": []
  },
  {
   "cell_type": "code",
   "execution_count": null,
   "metadata": {},
   "outputs": [],
   "source": []
  },
  {
   "cell_type": "code",
   "execution_count": 3,
   "metadata": {},
   "outputs": [],
   "source": [
    "a = ProcessIndex(PROCESS_INDEX, SAMPLE_INDEX, RAW_FILE_LIST)"
   ]
  },
  {
   "cell_type": "code",
   "execution_count": 4,
   "metadata": {},
   "outputs": [
    {
     "data": {
      "text/plain": [
       "276"
      ]
     },
     "execution_count": 4,
     "metadata": {},
     "output_type": "execute_result"
    }
   ],
   "source": [
    "len(a.samples['run_id'])"
   ]
  },
  {
   "cell_type": "code",
   "execution_count": 5,
   "metadata": {},
   "outputs": [
    {
     "data": {
      "application/vnd.jupyter.widget-view+json": {
       "model_id": "533cab891f304f13b0da25860f89329f",
       "version_major": 2,
       "version_minor": 0
      },
      "text/plain": [
       "  0%|          | 0/50 [00:00<?, ?it/s]"
      ]
     },
     "metadata": {},
     "output_type": "display_data"
    }
   ],
   "source": [
    "a.load(50)"
   ]
  },
  {
   "cell_type": "code",
   "execution_count": 6,
   "metadata": {},
   "outputs": [
    {
     "data": {
      "text/plain": [
       "326"
      ]
     },
     "execution_count": 6,
     "metadata": {},
     "output_type": "execute_result"
    }
   ],
   "source": [
    "len(a.samples['run_id'])"
   ]
  },
  {
   "cell_type": "code",
   "execution_count": 1,
   "metadata": {},
   "outputs": [
    {
     "ename": "NameError",
     "evalue": "name 'a' is not defined",
     "output_type": "error",
     "traceback": [
      "\u001b[0;31m---------------------------------------------------------------------------\u001b[0m",
      "\u001b[0;31mNameError\u001b[0m                                 Traceback (most recent call last)",
      "Cell \u001b[0;32mIn[1], line 1\u001b[0m\n\u001b[0;32m----> 1\u001b[0m \u001b[43ma\u001b[49m\u001b[38;5;241m.\u001b[39msamples\n",
      "\u001b[0;31mNameError\u001b[0m: name 'a' is not defined"
     ]
    }
   ],
   "source": [
    "a.samples"
   ]
  },
  {
   "cell_type": "code",
   "execution_count": 8,
   "metadata": {},
   "outputs": [
    {
     "data": {
      "text/plain": [
       "260"
      ]
     },
     "execution_count": 8,
     "metadata": {},
     "output_type": "execute_result"
    }
   ],
   "source": [
    "len(a.processes)"
   ]
  },
  {
   "cell_type": "code",
   "execution_count": null,
   "metadata": {},
   "outputs": [],
   "source": []
  }
 ],
 "metadata": {
  "kernelspec": {
   "display_name": "Python 3",
   "language": "python",
   "name": "python3"
  },
  "language_info": {
   "codemirror_mode": {
    "name": "ipython",
    "version": 3
   },
   "file_extension": ".py",
   "mimetype": "text/x-python",
   "name": "python",
   "nbconvert_exporter": "python",
   "pygments_lexer": "ipython3",
   "version": "3.11.4"
  }
 },
 "nbformat": 4,
 "nbformat_minor": 2
}
