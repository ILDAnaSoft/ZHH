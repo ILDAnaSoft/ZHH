{
 "cells": [
  {
   "cell_type": "code",
   "execution_count": 18,
   "metadata": {},
   "outputs": [],
   "source": [
    "from glob import glob\n",
    "import json\n",
    "version = 'v1'\n",
    "REPO_ROOT = '/afs/desy.de/user/b/bliewert/public/MarlinWorkdirs/ZHH'\n",
    "DATA_ROOT = f'/nfs/dust/ilc/user/bliewert/zhh/Preselection/{version}'"
   ]
  },
  {
   "cell_type": "code",
   "execution_count": 36,
   "metadata": {},
   "outputs": [],
   "source": [
    "pol = {\n",
    "    \"+\":  0.3,\n",
    "    \"-\": -0.8\n",
    "}\n",
    "\n",
    "def w_prefacs(Pem, Pep):\n",
    "    return (\n",
    "        (1-Pem)*(1+Pep)/4,\n",
    "        (1+Pem)*(1-Pep)/4\n",
    "    )\n",
    "    \n",
    "\n",
    "w_em_ep = {\n",
    "    'LL': 0.315,\n",
    "    'LR': 0.585,\n",
    "    'RL': 0.035,\n",
    "    'RR': 0.065\n",
    "}\n",
    "\n",
    "def get_w_pol(pol_em:int, pol_ep:int)->float:\n",
    "    key_em = ('L' if pol_em == 1 else ('R' if pol_em == -1 else 'N')) \n",
    "    key_ep = ('L' if pol_ep == 1 else ('R' if pol_ep == -1 else 'N')) \n",
    "    \n",
    "    return w_em_ep[key_em + key_ep]\n",
    "\n",
    "def weighting(process_sigma_fb:float, pol_em:int, pol_ep:int, n_gen:int, lum_inv_ab:float=4., ):\n",
    "    w_pol = get_w_pol(pol_em, pol_ep)\n",
    "    return process_sigma_fb*1000 *lum_inv_ab*w_pol/n_gen"
   ]
  },
  {
   "cell_type": "code",
   "execution_count": null,
   "metadata": {},
   "outputs": [],
   "source": [
    "w_prefacs()"
   ]
  },
  {
   "cell_type": "code",
   "execution_count": null,
   "metadata": {},
   "outputs": [],
   "source": []
  },
  {
   "cell_type": "code",
   "execution_count": 35,
   "metadata": {},
   "outputs": [
    {
     "name": "stdout",
     "output_type": "stream",
     "text": [
      "{'crossSection': 1.9198791980743408, 'crossSectionError': 0.002739999908953905, 'eventWeight': 1.0, 'nEvtSum': 10000, 'polElectron': 1.0, 'polPositron': 0.0, 'processId': 37223, 'processName': 'ea_evexy', 'run': 37223}\n",
      "Branch 22 Process ea_evexy Weight 44.51761791087963 Events 10000 Check 0.00\n",
      "{'crossSection': 130234.703125, 'crossSectionError': 75.19999694824219, 'eventWeight': 1.0, 'nEvtSum': 18600, 'polElectron': 1.0, 'polPositron': -1.0, 'processId': 250128, 'processName': '2f_z_bhabhang', 'run': 250128}\n",
      "Branch 0 Process 2f_z_bhabhang Weight 44.51761791087963 Events 18600 Check 0.00\n",
      "{'crossSection': 0.08712207525968552, 'crossSectionError': 0.0008709999965503812, 'eventWeight': 1.0, 'nEvtSum': 5000, 'polElectron': -1.0, 'polPositron': 1.0, 'processId': 108528, 'processName': 'xxxxee', 'run': 108528}\n",
      "Branch 28 Process xxxxee Weight 44.51761791087963 Events 5000 Check 0.00\n",
      "{'crossSection': 0.03332404047250748, 'crossSectionError': 0.0003330000035930425, 'eventWeight': 1.0, 'nEvtSum': 10000, 'polElectron': 1.0, 'polPositron': 1.0, 'processId': 108540, 'processName': 'eeeeee', 'run': 108540}\n",
      "Branch 29 Process eeeeee Weight 44.51761791087963 Events 10000 Check 0.00\n",
      "{'crossSection': 0.005815086420625448, 'crossSectionError': 5.819999933009967e-05, 'eventWeight': 1.0, 'nEvtSum': 10000, 'polElectron': 1.0, 'polPositron': -1.0, 'processId': 108577, 'processName': 'llvelv', 'run': 108577}\n",
      "Branch 24 Process llvelv Weight 44.51761791087963 Events 10000 Check 0.00\n",
      "{'crossSection': 0.007145939860492945, 'crossSectionError': 7.14999987394549e-05, 'eventWeight': 1.0, 'nEvtSum': 10000, 'polElectron': 1.0, 'polPositron': -1.0, 'processId': 108603, 'processName': 'vvvlev', 'run': 108603}\n",
      "Branch 26 Process vvvlev Weight 44.51761791087963 Events 10000 Check 0.00\n",
      "{'crossSection': 6400.10986328125, 'crossSectionError': 8.300000190734863, 'eventWeight': 1.0, 'nEvtSum': 7026, 'polElectron': -1.0, 'polPositron': 1.0, 'processId': 250010, 'processName': '4f_zzorww_h', 'run': 250010}\n",
      "Branch 8 Process 4f_zzorww_h Weight 44.51761791087963 Events 7026 Check 0.00\n",
      "{'crossSection': 28093.099609375, 'crossSectionError': 32.70000076293945, 'eventWeight': 1.0, 'nEvtSum': 37000, 'polElectron': -1.0, 'polPositron': 1.0, 'processId': 250130, 'processName': '2f_z_nung', 'run': 250130}\n",
      "Branch 4 Process 2f_z_nung Weight 44.51761791087963 Events 37000 Check 0.00\n",
      "{'crossSection': 1775.489990234375, 'crossSectionError': 7.289999961853027, 'eventWeight': 1.0, 'nEvtSum': 13000, 'polElectron': -1.0, 'polPositron': -1.0, 'processId': 250037, 'processName': '4f_sze_sl', 'run': 250037}\n",
      "Branch 18 Process 4f_sze_sl Weight 44.51761791087963 Events 13000 Check 0.00\n",
      "{'crossSection': 2961.97998046875, 'crossSectionError': 17.899999618530273, 'eventWeight': 1.0, 'nEvtSum': 18800, 'polElectron': -1.0, 'polPositron': -1.0, 'processId': 250101, 'processName': '2f_z_bhabhag', 'run': 250101}\n",
      "Branch 1 Process 2f_z_bhabhag Weight 44.51761791087963 Events 18800 Check 0.00\n",
      "{'crossSection': 14.850299835205078, 'crossSectionError': 0.033900000154972076, 'eventWeight': 1.0, 'nEvtSum': 7425, 'polElectron': 1.0, 'polPositron': -1.0, 'processId': 250056, 'processName': '4f_sznu_l', 'run': 250056}\n",
      "Branch 19 Process 4f_sznu_l Weight 44.51761791087963 Events 7425 Check 0.00\n",
      "{'crossSection': 0.6124100089073181, 'crossSectionError': 0.006390000227838755, 'eventWeight': 1.0, 'nEvtSum': 306, 'polElectron': 1.0, 'polPositron': 1.0, 'processId': 250124, 'processName': '4f_lowmee_szeorsw_l', 'run': 250124}\n",
      "Branch 14 Process 4f_lowmee_szeorsw_l Weight 44.51761791087963 Events 306 Check 0.00\n",
      "{'crossSection': 0.8305898904800415, 'crossSectionError': 0.007439999841153622, 'eventWeight': 1.0, 'nEvtSum': 12459, 'polElectron': -1.0, 'polPositron': 1.0, 'processId': 108502, 'processName': 'xxveev', 'run': 108502}\n",
      "Branch 27 Process xxveev Weight 44.51761791087963 Events 12459 Check 0.00\n",
      "{'crossSection': 2.993971109390259, 'crossSectionError': 0.014100000262260437, 'eventWeight': 1.0, 'nEvtSum': 11600, 'polElectron': -1.0, 'polPositron': 1.0, 'processId': 108640, 'processName': 'eexyev', 'run': 108640}\n",
      "Branch 23 Process eexyev Weight 44.51761791087963 Events 11600 Check 0.00\n",
      "{'crossSection': 7680.68994140625, 'crossSectionError': 12.199999809265137, 'eventWeight': 1.0, 'nEvtSum': 7200, 'polElectron': -1.0, 'polPositron': 1.0, 'processId': 250006, 'processName': '4f_ww_h', 'run': 250006}\n",
      "Branch 5 Process 4f_ww_h Weight 44.51761791087963 Events 7200 Check 0.00\n",
      "{'crossSection': 0.39157798886299133, 'crossSectionError': 0.0013899999903514981, 'eventWeight': 1.0, 'nEvtSum': 196, 'polElectron': 1.0, 'polPositron': 1.0, 'processId': 250120, 'processName': '4f_lowmee_sze_l', 'run': 250120}\n",
      "Branch 13 Process 4f_lowmee_sze_l Weight 44.51761791087963 Events 196 Check 0.00\n",
      "{'crossSection': 5547.580078125, 'crossSectionError': 50.5, 'eventWeight': 1.0, 'nEvtSum': 32400, 'polElectron': -1.0, 'polPositron': 1.0, 'processId': 250106, 'processName': '2f_z_l', 'run': 250106}\n",
      "Branch 3 Process 2f_z_l Weight 44.51761791087963 Events 32400 Check 0.00\n"
     ]
    }
   ],
   "source": [
    "SRC_NAME = '_Source.txt'\n",
    "FS_META = '_FinalStateMeta.json'\n",
    "finished = glob(f'{DATA_ROOT}/*{SRC_NAME}')\n",
    "\n",
    "for f in finished:\n",
    "    branch = f.split(f'{version}/')[1].split(SRC_NAME)[0]\n",
    "    \n",
    "    with open(f, 'r') as file:\n",
    "        src_file = file.read()\n",
    "        \n",
    "    # Read metadata\n",
    "    with open(f'{DATA_ROOT}/{branch}{FS_META}', 'r') as file:\n",
    "        meta = json.load(file)\n",
    "        \n",
    "        print(meta)\n",
    "    \n",
    "    #w = weighting(meta['crossSection'], meta['polElectron'], meta['polPositron'], meta['nEvtSum'])\n",
    "    #check = w*meta['nEvtSum']/(meta['crossSection']*1000)/4\n",
    "    \n",
    "    print(f'Branch {branch} Process {meta[\"processName\"]} Weight {w} Events {meta[\"nEvtSum\"]} Check {0:0.2f}')\n",
    "        \n",
    "    #for presel in ['llHH', 'vvHH', 'qqHH']:\n",
    "    #    print(presel)"
   ]
  },
  {
   "cell_type": "code",
   "execution_count": null,
   "metadata": {},
   "outputs": [],
   "source": []
  }
 ],
 "metadata": {
  "kernelspec": {
   "display_name": "graphjet_pyg",
   "language": "python",
   "name": "python3"
  },
  "language_info": {
   "codemirror_mode": {
    "name": "ipython",
    "version": 3
   },
   "file_extension": ".py",
   "mimetype": "text/x-python",
   "name": "python",
   "nbconvert_exporter": "python",
   "pygments_lexer": "ipython3",
   "version": "3.11.4"
  }
 },
 "nbformat": 4,
 "nbformat_minor": 2
}
