{
 "cells": [
  {
   "cell_type": "code",
   "execution_count": 1,
   "metadata": {},
   "outputs": [
    {
     "name": "stdout",
     "output_type": "stream",
     "text": [
      "Welcome to JupyROOT 6.30/04\n",
      "Loading LCIO ROOT dictionaries ...\n"
     ]
    }
   ],
   "source": [
    "import re\n",
    "import numpy as np\n",
    "from pyLCIO import IOIMPL"
   ]
  },
  {
   "cell_type": "code",
   "execution_count": 2,
   "metadata": {},
   "outputs": [],
   "source": [
    "root_dir = '/pnfs/desy.de/ilc/prod/ilc/mc-2020/ild'\n",
    "dev_file = f\"{root_dir}/dst-merged/500-TDR_ws/2f_Z_hadronic/ILD_l5_o1_v02/v02-02-03/00015902/000/rv02-02-03.sv02-02-03.mILD_l5_o1_v02.E500-TDR_ws.I500259.P2f_z_h.eL.pR.n000.d_dstm_15902_0.slcio\""
   ]
  },
  {
   "cell_type": "code",
   "execution_count": 3,
   "metadata": {},
   "outputs": [
    {
     "data": {
      "text/plain": [
       "'e2e2hh'"
      ]
     },
     "execution_count": 3,
     "metadata": {},
     "output_type": "execute_result"
    }
   ],
   "source": [
    "process = re.search('P(.+)\\.e', dev_file).group(1)\n",
    "process"
   ]
  },
  {
   "cell_type": "code",
   "execution_count": 22,
   "metadata": {},
   "outputs": [
    {
     "name": "stdout",
     "output_type": "stream",
     "text": [
      "L R\n"
     ]
    }
   ],
   "source": [
    "pol = re.search('\\.e(L|R)\\.p(L|R)\\.', dev_file)\n",
    "pol_em = pol.group(1) # e minus\n",
    "pol_ep = pol.group(2) # e plus\n",
    "\n",
    "print(pol_em, pol_ep)"
   ]
  },
  {
   "cell_type": "code",
   "execution_count": 3,
   "metadata": {},
   "outputs": [],
   "source": [
    "process_final_state_map = {\n",
    "    # /pnfs/desy.de/ilc/prod/ilc/mc-2020/ild/dst-merged/500-TDR_ws\n",
    "    # hh / sig: ZHH\n",
    "    'e1e1hh': [8, 9, 10, 11], # e- e+ h h\n",
    "    'e2e2hh': [8, 9, 10, 11], # mu- mu+ h h\n",
    "    'e3e3hh': [8, 9, 10, 11], # tau- tau+\n",
    "    'n1n1hh': [8, 9, 10, 11], # nue anti-nue h h\n",
    "    'n23n23hh': [8, 9, 10, 11], # nu(mu/tau) anti-nu(mu/tau) hh\n",
    "    'qqhh': [8, 9, 10, 11],\n",
    "    \n",
    "    # hh / bkg: ZZH\n",
    "    'e1e1qqh': [8, 9, 10, 11, 12], # e- e+ q q h\n",
    "    'e2e2qqh': [8, 9, 10, 11, 12], # mu- mu+ q q h\n",
    "    'e3e3qqh': [8, 9, 10, 11, 12], # tau- tau+ q q h\n",
    "    'n1n1qqh': [8, 9, 10, 11, 12], # nue anti-nue q q h\n",
    "    'n23n23qqh': [8, 9, 10, 11, 12], # nu(mu/tau) anti-nu(mu/tau) q q h    \n",
    "    \n",
    "    'qqqqh': [8, 9, 10, 11, 12],\n",
    "    \n",
    "    # 2f_Z_hadronic\n",
    "    'ff': [9, 10], # z(8) f f | processName: z_h0 \n",
    "    \n",
    "    # /pnfs/desy.de/ilc/prod/ilc/mc-opt-3/ild/dst-merged/500-TDR_ws\n",
    "    \n",
    "}\n",
    "\n",
    "filename_process_map = dict((i,i) for i in process_final_state_map.keys())\n",
    "filename_process_map['2f_z_h'] = 'ff'\n",
    "\n",
    "def get_decayed_state(event, process:str, map:dict=process_final_state_map):\n",
    "    final_state_idx = [] + map[process]\n",
    "    find_children_of = []\n",
    "    \n",
    "    n_higgs = process.count('h')\n",
    "    for i in n_higgs:\n",
    "        find_children_of.append(final_state_idx.pop())\n",
    "    \n",
    "    # Resolve items\n",
    "    "
   ]
  },
  {
   "cell_type": "code",
   "execution_count": 26,
   "metadata": {},
   "outputs": [
    {
     "data": {
      "text/plain": [
       "2"
      ]
     },
     "execution_count": 26,
     "metadata": {},
     "output_type": "execute_result"
    }
   ],
   "source": [
    "'asda'.count('a')"
   ]
  },
  {
   "cell_type": "code",
   "execution_count": 4,
   "metadata": {},
   "outputs": [
    {
     "name": "stdout",
     "output_type": "stream",
     "text": [
      "1\n"
     ]
    }
   ],
   "source": [
    "reader = IOIMPL.LCFactory.getInstance().createLCReader()\n",
    "reader.open(dev_file)\n",
    "\n",
    "#reader.skipNEvents( 395 )\n",
    "\n",
    "event = reader.readNextEvent()\n",
    "print(event.getEventNumber())"
   ]
  },
  {
   "cell_type": "code",
   "execution_count": 8,
   "metadata": {},
   "outputs": [],
   "source": [
    "MCP = event.getCollection('MCParticlesSkimmed')\n",
    "params = event.getParameters()\n",
    "process = params.getStringVal('processName')\n",
    "if process == 'z_h0':\n",
    "    mcp1 = MCP[process_final_state_map['ff'][0]]\n",
    "    mcp2 = MCP[process_final_state_map['ff'][1]]\n",
    "    \n",
    "    vec1 = np.array([mcp1.getEnergy(), *[mcp1.getMomentum()[i] for i in range(3)]])\n",
    "    vec2 = np.array([mcp2.getEnergy(), *[mcp2.getMomentum()[i] for i in range(3)]])"
   ]
  },
  {
   "cell_type": "code",
   "execution_count": 14,
   "metadata": {},
   "outputs": [
    {
     "data": {
      "text/plain": [
       "92.25991644364133"
      ]
     },
     "execution_count": 14,
     "metadata": {},
     "output_type": "execute_result"
    }
   ],
   "source": [
    "np.sqrt((vec1[0]+vec2[0])**2 - np.linalg.norm(vec1[1:]+vec2[1:])**2)"
   ]
  },
  {
   "cell_type": "code",
   "execution_count": 12,
   "metadata": {},
   "outputs": [
    {
     "data": {
      "text/plain": [
       "array([ 6.73132038,  3.57406092, -6.78084803])"
      ]
     },
     "execution_count": 12,
     "metadata": {},
     "output_type": "execute_result"
    }
   ],
   "source": [
    "vec1[1:]"
   ]
  },
  {
   "cell_type": "code",
   "execution_count": null,
   "metadata": {},
   "outputs": [],
   "source": []
  }
 ],
 "metadata": {
  "kernelspec": {
   "display_name": "py311",
   "language": "python",
   "name": "python3"
  },
  "language_info": {
   "codemirror_mode": {
    "name": "ipython",
    "version": 3
   },
   "file_extension": ".py",
   "mimetype": "text/x-python",
   "name": "python",
   "nbconvert_exporter": "python",
   "pygments_lexer": "ipython3",
   "version": "3.11.9"
  }
 },
 "nbformat": 4,
 "nbformat_minor": 2
}
