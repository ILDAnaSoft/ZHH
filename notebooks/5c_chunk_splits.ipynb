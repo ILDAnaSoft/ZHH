{
 "cells": [
  {
   "cell_type": "code",
   "execution_count": 1,
   "metadata": {},
   "outputs": [
    {
     "name": "stdout",
     "output_type": "stream",
     "text": [
      "4404\n"
     ]
    }
   ],
   "source": [
    "import numpy as np\n",
    "import json, os\n",
    "from phc import module_reload, json_file_readable\n",
    "import matplotlib.pyplot as plt\n",
    "\n",
    "INDEX_DIR = '/nfs/dust/ilc/user/bliewert/zhh/CreateRawIndex/v1'\n",
    "CHUNK_DIR = '/nfs/dust/ilc/user/bliewert/zhh/CreatePreselectionChunks/v1'\n",
    "DATA_ROOT = '/nfs/dust/ilc/user/bliewert/zhh/PreselectionFinal/v1'\n",
    "DATA_ROOT_RUNTIME = '/nfs/dust/ilc/user/bliewert/zhh/PreselectionRuntime/v1'\n",
    "REPO_ROOT = '/afs/desy.de/user/b/bliewert/public/MarlinWorkdirs/ZHH' if os.name != 'nt' else 'C:/DevRepositories/ZHH'\n",
    "\n",
    "processes = np.load(f'{INDEX_DIR}/processes.npy')\n",
    "samples = np.load(f'{INDEX_DIR}/samples.npy')\n",
    "existing_chunks = np.load(f'{CHUNK_DIR}/chunks.npy')\n",
    "\n",
    "print(len(existing_chunks))"
   ]
  },
  {
   "cell_type": "code",
   "execution_count": 79,
   "metadata": {},
   "outputs": [
    {
     "data": {
      "text/plain": [
       "250"
      ]
     },
     "execution_count": 79,
     "metadata": {},
     "output_type": "execute_result"
    }
   ],
   "source": [
    "(existing_chunks['process'] == 'qqqqh').sum()"
   ]
  },
  {
   "cell_type": "code",
   "execution_count": 80,
   "metadata": {},
   "outputs": [
    {
     "data": {
      "text/plain": [
       "array([2521, 2522, 2523, 2524, 2525, 2526, 2527, 2528, 2529, 2530, 2531,\n",
       "       2532, 2533, 2534, 2535, 2536, 2537, 2538, 2539, 2540, 2541, 2542,\n",
       "       2543, 2544, 2545, 2546, 2547, 2548, 2549, 2550, 2551, 2552, 2553,\n",
       "       2554, 2555, 2556, 2557, 2558, 2559, 2560, 2561, 2562, 2563, 2564,\n",
       "       2565, 2566, 2567, 2568, 2569, 2570, 2571, 2572, 2573, 2574, 2575,\n",
       "       2576, 2577, 2578, 2579, 2580, 2581, 2582, 2583, 2584, 2585, 2586,\n",
       "       2587, 2588, 2589, 2590, 2591, 2592, 2593, 2594, 2595, 2596, 2597,\n",
       "       2598, 2599, 2600, 2601, 2602, 2603, 2604, 2605, 2606, 2607, 2608,\n",
       "       2609, 2610, 2611, 2612, 2613, 2614, 2615, 2616, 2617, 2618, 2619,\n",
       "       2620, 2621, 2622, 2623, 2624, 2625, 2626, 2627, 2628, 2629, 2630,\n",
       "       2631, 2632, 2633, 2634, 2635, 2636, 2637, 2638, 2639, 2640, 2641,\n",
       "       2642, 2643, 2644, 2645, 2646, 2647, 2648, 2649, 2650, 2651, 2652,\n",
       "       2653, 2654, 2655, 2656, 2657, 2658, 2659, 2660, 2661, 2662, 2663,\n",
       "       2664, 2665, 2666, 2667, 2668, 2669, 2670, 2671, 2672, 2673, 2674,\n",
       "       2675, 2676, 2677, 2678, 2679, 2680, 2681, 2682, 2683, 2684, 2685,\n",
       "       2686, 2687, 2688, 2689, 2690, 2691, 2692, 2693, 2694, 2695, 2696,\n",
       "       2697, 2698, 2699, 2700, 2701, 2702, 2703, 2704, 2705, 2706, 2707,\n",
       "       2708, 2709, 2710, 2711, 2712, 2713, 2714, 2715, 2716, 2717, 2718,\n",
       "       2719, 2720, 2721, 2722, 2723, 2724, 2725, 2726, 2727, 2728, 2729,\n",
       "       2730, 2731, 2732, 2733, 2734, 2735, 2736, 2737, 2738, 2739, 2740,\n",
       "       2741, 2742, 2743, 2744, 2745, 2746, 2747, 2748, 2749, 2750, 2751,\n",
       "       2752, 2753, 2754, 2755, 2756, 2757, 2758, 2759, 2760, 2761, 2762,\n",
       "       2763, 2764, 2765, 2766, 2767, 2768, 2769, 2770], dtype=uint32)"
      ]
     },
     "execution_count": 80,
     "metadata": {},
     "output_type": "execute_result"
    }
   ],
   "source": [
    "existing_chunks['branch'][existing_chunks['process'] == 'qqqqh']"
   ]
  },
  {
   "cell_type": "code",
   "execution_count": 3,
   "metadata": {},
   "outputs": [],
   "source": [
    "module_reload('zhh')\n",
    "from zhh import get_adjusted_time_per_event, get_runtime_analysis, \\\n",
    "    get_process_normalization, get_sample_chunk_splits, \\\n",
    "    get_chunks_factual\n",
    "\n",
    "if True:\n",
    "    runtime_analysis = get_runtime_analysis(DATA_ROOT_RUNTIME)\n",
    "    pn = get_process_normalization(processes, samples, RATIO_BY_EXPECT=1.)\n",
    "    atpe = get_adjusted_time_per_event(runtime_analysis)\n",
    "else:\n",
    "    runtime_analysis = np.load(f'{CHUNK_DIR}/runtime_analysis.npy')\n",
    "    pn = np.load(f'{CHUNK_DIR}/process_normalization.npy')\n",
    "    atpe = np.load(f'{CHUNK_DIR}/v1/atpe.npy')\n",
    "\n",
    "with open(f'/afs/desy.de/user/b/bliewert/public/MarlinWorkdirs/ZHH/workflows/analysis/custom_statistics.json', 'r') as file:\n",
    "    custom_statistics = json.load(file)\n",
    "    \n",
    "new_chunks = get_sample_chunk_splits(samples, atpe, pn, custom_statistics=custom_statistics, MAXIMUM_TIME_PER_JOB=7200)"
   ]
  },
  {
   "cell_type": "code",
   "execution_count": 4,
   "metadata": {},
   "outputs": [
    {
     "data": {
      "text/plain": [
       "(4404, 4404)"
      ]
     },
     "execution_count": 4,
     "metadata": {},
     "output_type": "execute_result"
    }
   ],
   "source": [
    "len(existing_chunks), len(new_chunks)"
   ]
  },
  {
   "cell_type": "code",
   "execution_count": 6,
   "metadata": {},
   "outputs": [],
   "source": [
    "from zhh import get_chunks_factual\n",
    "chunks_f = get_chunks_factual(DATA_ROOT, existing_chunks, attach_time=True)\n",
    "np.save(f'{REPO_ROOT}/chunks_f.npy', chunks_f)"
   ]
  },
  {
   "cell_type": "markdown",
   "metadata": {},
   "source": [
    "# (actual) Runtime analysis"
   ]
  },
  {
   "cell_type": "code",
   "execution_count": 7,
   "metadata": {},
   "outputs": [],
   "source": [
    "runtime_analysis_2 = get_runtime_analysis(chunks_factual=chunks_f)\n",
    "pn = get_process_normalization(processes, samples, RATIO_BY_EXPECT=1.)\n",
    "atpe_2 = get_adjusted_time_per_event(runtime_analysis_2)\n",
    "\n",
    "with open(f'/afs/desy.de/user/b/bliewert/public/MarlinWorkdirs/ZHH/workflows/analysis/custom_statistics.json', 'r') as file:\n",
    "    custom_statistics = json.load(file)\n",
    "    \n",
    "better_chunks = get_sample_chunk_splits(samples, atpe_2, pn, custom_statistics=custom_statistics, MAXIMUM_TIME_PER_JOB=7200)"
   ]
  },
  {
   "cell_type": "code",
   "execution_count": 8,
   "metadata": {},
   "outputs": [
    {
     "data": {
      "text/plain": [
       "(4404, 4665)"
      ]
     },
     "execution_count": 8,
     "metadata": {},
     "output_type": "execute_result"
    }
   ],
   "source": [
    "len(existing_chunks), len(better_chunks)"
   ]
  },
  {
   "cell_type": "code",
   "execution_count": 18,
   "metadata": {},
   "outputs": [],
   "source": [
    "selected = np.argsort(-atpe_2['tPE'])[:8]\n",
    "selected_processes = atpe_2['process'][selected]\n",
    "\n",
    "tPE_runtime = np.zeros(len(selected))\n",
    "tPE_better = atpe_2['tPE'][selected]\n",
    "\n",
    "for i, p in enumerate(selected_processes):\n",
    "    tPE_runtime[i] = (atpe['tPE'][atpe['process'] == p])"
   ]
  },
  {
   "cell_type": "code",
   "execution_count": 19,
   "metadata": {},
   "outputs": [
    {
     "data": {
      "image/png": "[encoded data removed]",
      "text/plain": [
       "<Figure size 640x480 with 1 Axes>"
      ]
     },
     "metadata": {},
     "output_type": "display_data"
    }
   ],
   "source": [
    "fig, ax = plt.subplots()\n",
    "\n",
    "X_axis = np.arange(len(selected_processes)) \n",
    "\n",
    "ax.bar(X_axis - 0.2, tPE_runtime, 0.4, color='r', align='center', label='Runtime')\n",
    "ax.bar(X_axis + 0.2, tPE_better, 0.4, color='g', align='center', label='Final')\n",
    "\n",
    "ax.set_xticks(X_axis, selected_processes)\n",
    "plt.legend()\n",
    "\n",
    "plt.show()"
   ]
  },
  {
   "cell_type": "code",
   "execution_count": null,
   "metadata": {},
   "outputs": [],
   "source": []
  },
  {
   "cell_type": "code",
   "execution_count": 84,
   "metadata": {},
   "outputs": [
    {
     "data": {
      "text/plain": [
       "<BarContainer object of 10 artists>"
      ]
     },
     "execution_count": 84,
     "metadata": {},
     "output_type": "execute_result"
    },
    {
     "data": {
      "image/png": "[encoded data removed]",
      "text/plain": [
       "<Figure size 1000x500 with 1 Axes>"
      ]
     },
     "metadata": {},
     "output_type": "display_data"
    }
   ],
   "source": [
    "unq_processes = np.unique(chunks_f['process'])\n",
    "result = np.zeros(len(unq_processes), dtype=[('process', 'U10'), ('tPE', 'f4')])\n",
    "\n",
    "for i, process in enumerate(unq_processes):\n",
    "    chunks = chunks_f[chunks_f['process'] == process]\n",
    "    \n",
    "    result['process'][i] = process\n",
    "    result['tPE'][i] = chunks['runtime'].sum() / chunks['chunk_size_factual'].sum()\n",
    "\n",
    "sorting = np.argsort(-result['tPE'])\n",
    "n_show = 10\n",
    "\n",
    "plt.subplots(figsize=(10, 5))\n",
    "plt.bar(unq_processes[sorting][:n_show], result['tPE'][sorting][:n_show])"
   ]
  },
  {
   "cell_type": "code",
   "execution_count": 73,
   "metadata": {},
   "outputs": [
    {
     "data": {
      "text/plain": [
       "array([5.2942], dtype=float32)"
      ]
     },
     "execution_count": 73,
     "metadata": {},
     "output_type": "execute_result"
    }
   ],
   "source": [
    "result['tPE'][result['process'] == 'qqqqh']"
   ]
  },
  {
   "cell_type": "markdown",
   "metadata": {},
   "source": [
    "# Comparison to assumptions"
   ]
  },
  {
   "cell_type": "code",
   "execution_count": 85,
   "metadata": {},
   "outputs": [
    {
     "data": {
      "text/plain": [
       "<BarContainer object of 10 artists>"
      ]
     },
     "execution_count": 85,
     "metadata": {},
     "output_type": "execute_result"
    },
    {
     "data": {
      "image/png": "[encoded data removed]",
      "text/plain": [
       "<Figure size 1000x500 with 1 Axes>"
      ]
     },
     "metadata": {},
     "output_type": "display_data"
    }
   ],
   "source": [
    "sorting = np.argsort(-atpe['tPE'])\n",
    "\n",
    "plt.subplots(figsize=(10, 5))\n",
    "plt.bar(atpe['process'][sorting][:n_show], atpe['tPE'][sorting][:n_show])"
   ]
  },
  {
   "cell_type": "code",
   "execution_count": 86,
   "metadata": {},
   "outputs": [
    {
     "data": {
      "text/plain": [
       "array([2.97], dtype=float32)"
      ]
     },
     "execution_count": 86,
     "metadata": {},
     "output_type": "execute_result"
    }
   ],
   "source": [
    "atpe['tPE'][result['process'] == 'qqqqh']"
   ]
  },
  {
   "cell_type": "code",
   "execution_count": null,
   "metadata": {},
   "outputs": [],
   "source": []
  },
  {
   "cell_type": "code",
   "execution_count": 87,
   "metadata": {},
   "outputs": [
    {
     "name": "stdout",
     "output_type": "stream",
     "text": [
      "['llllll' 'vvveev' 'vvvlev' 'eeeeee' 'vvvelv' 'llvlev' 'eeeeee' 'llvelv'\n",
      " 'vvveev' 'xxvelv' 'vvxyev' 'llvllv' 'eeveev' 'llvlyx' 'eevelv' 'vvvllv'\n",
      " 'vvveev' 'llllll' 'eeeell' 'llxyyx']\n"
     ]
    },
    {
     "data": {
      "text/plain": [
       "(array([4.267e+03, 1.170e+02, 1.000e+01, 2.000e+00, 0.000e+00, 1.000e+00,\n",
       "        2.000e+00, 2.000e+00, 1.000e+00, 2.000e+00]),\n",
       " array([ 0.09151225,  1.90054282,  3.7095734 ,  5.51860398,  7.32763455,\n",
       "         9.13666513, 10.9456957 , 12.75472628, 14.56375686, 16.37278743,\n",
       "        18.18181801]),\n",
       " <BarContainer object of 10 artists>)"
      ]
     },
     "execution_count": 87,
     "metadata": {},
     "output_type": "execute_result"
    },
    {
     "data": {
      "image/png": "[encoded data removed]",
      "text/plain": [
       "<Figure size 640x480 with 1 Axes>"
      ]
     },
     "metadata": {},
     "output_type": "display_data"
    }
   ],
   "source": [
    "fractions = np.zeros(len(chunks_f), dtype=float)\n",
    "for i, chunk in enumerate(chunks_f):\n",
    "    fractions[i] = (chunk['runtime'] / chunk['chunk_size_factual'])/atpe['tPE'][atpe['process'] == chunk['process']]\n",
    "    \n",
    "sorting = np.argsort(-fractions)\n",
    "print(chunks_f['process'][sorting][:20])\n",
    "\n",
    "plt.hist(fractions)"
   ]
  },
  {
   "cell_type": "code",
   "execution_count": 88,
   "metadata": {},
   "outputs": [
    {
     "data": {
      "text/plain": [
       "(array([  70., 1605.,   66.,   37.,    9., 1753.,   75.,  125.,   58.,\n",
       "         606.]),\n",
       " array([0.98842258, 0.98958032, 0.99073806, 0.9918958 , 0.99305355,\n",
       "        0.99421129, 0.99536903, 0.99652677, 0.99768452, 0.99884226,\n",
       "        1.        ]),\n",
       " <BarContainer object of 10 artists>)"
      ]
     },
     "execution_count": 88,
     "metadata": {},
     "output_type": "execute_result"
    },
    {
     "data": {
      "image/png": "[encoded data removed]",
      "text/plain": [
       "<Figure size 640x480 with 1 Axes>"
      ]
     },
     "metadata": {},
     "output_type": "display_data"
    }
   ],
   "source": [
    "plt.hist(chunks_f['chunk_size_factual']/chunks_f['chunk_size'])"
   ]
  },
  {
   "cell_type": "code",
   "execution_count": null,
   "metadata": {},
   "outputs": [],
   "source": []
  },
  {
   "cell_type": "code",
   "execution_count": null,
   "metadata": {},
   "outputs": [],
   "source": []
  },
  {
   "cell_type": "code",
   "execution_count": 17,
   "metadata": {},
   "outputs": [
    {
     "name": "stdout",
     "output_type": "stream",
     "text": [
      "(2548, 'qqqqh', 'qqqqh_LR', '/pnfs/desy.de/ilc/prod/ilc/mc-2020/ild/dst-merged/500-TDR_ws/hh/ILD_l5_o1_v02/v02-02-03/00015747/000/rv02-02-03.sv02-02-03.mILD_l5_o1_v02.E500-TDR_ws.I403019.Pqqqqh.eL.pR.n001.d_dstm_15747_13.slcio', 27, 2424, 2424)\n"
     ]
    },
    {
     "data": {
      "text/plain": [
       "7199.280069351196"
      ]
     },
     "execution_count": 17,
     "metadata": {},
     "output_type": "execute_result"
    }
   ],
   "source": [
    "print(existing_chunks[2548])\n",
    "\n",
    "atpe['tPE'][atpe['process'] == 'qqqqh'][0] * existing_chunks['chunk_size'][2548]"
   ]
  },
  {
   "cell_type": "code",
   "execution_count": 4,
   "metadata": {},
   "outputs": [
    {
     "name": "stdout",
     "output_type": "stream",
     "text": [
      "[('e1e1hh', 'e1e1hh_LL', 0.00027244, 1.8007195e-07, 953154,  0.1716363 , 1)\n",
      " ('e1e1hh', 'e1e1hh_LR', 0.01141446, 1.4011289e-05, 953154, 13.354916  , 3)\n",
      " ('e1e1hh', 'e1e1hh_RL', 0.00724756, 5.3226370e-07, 953154,  0.5073292 , 1)\n",
      " ('e1e1hh', 'e1e1hh_RR', 0.00027244, 3.7157957e-08, 953154,  0.03541726, 1)]\n",
      "[('e2e2hh', 'e2e2hh_LR', 0.01116575, 2.7462776e-05, 475696, 13.063933 , 2)\n",
      " ('e2e2hh', 'e2e2hh_RL', 0.00714938, 1.0520512e-06, 475696,  0.5004566, 1)]\n",
      "[('e3e3hh', 'e3e3hh_LR', 0.01114067, 2.8200320e-05, 462214, 13.034582  , 2)\n",
      " ('e3e3hh', 'e3e3hh_RL', 0.00713333, 1.0803079e-06, 462214,  0.49933344, 1)]\n",
      "[('n1n1hh', 'n1n1hh_LR', 0.03004878, 7.1302115e-05, 493072, 35.157074 , 6)\n",
      " ('n1n1hh', 'n1n1hh_RL', 0.01413045, 2.0060588e-06, 493072,  0.9891315, 1)]\n",
      "[('n23n23hh', 'n23n23hh_LR', 0.0441279 , 1.07372296e-04, 480847, 51.629646 , 8)\n",
      " ('n23n23hh', 'n23n23hh_RL', 0.02827151, 4.11566543e-06, 480847,  1.9790053, 1)]\n",
      "[('qqhh', 'qqhh_LR', 0.22561218, 1.3198312e-04, 2000000, 263.96625 , 40)\n",
      " ('qqhh', 'qqhh_RL', 0.14452237, 5.0582830e-06, 2000000,  10.116566,  2)]\n"
     ]
    }
   ],
   "source": [
    "hh = list(filter(lambda x: 'hh' in x, np.unique(chunks['process'])))\n",
    "\n",
    "for process in hh:\n",
    "    print(pn[pn['process'] == process])"
   ]
  },
  {
   "cell_type": "code",
   "execution_count": 16,
   "metadata": {},
   "outputs": [
    {
     "name": "stdout",
     "output_type": "stream",
     "text": [
      "41.16760444641113\n"
     ]
    }
   ],
   "source": [
    "s = 0\n",
    "for process in ['e1e1hh', 'e2e2hh', 'e3e3hh']:\n",
    "    s += np.sum(pn['n_events_expected'][pn['process'] == process])\n",
    "\n",
    "print(s)"
   ]
  },
  {
   "cell_type": "code",
   "execution_count": 5,
   "metadata": {},
   "outputs": [
    {
     "name": "stdout",
     "output_type": "stream",
     "text": [
      "[(16758, 'e1e1hh', 'e1e1hh_LL', '/pnfs/desy.de/ilc/prod/ilc/mc-2020/ild/dst-merged/500-TDR_ws/hh/ILD_l5_o1_v02/v02-02-03/00015744/000/rv02-02-03.sv02-02-03.mILD_l5_o1_v02.E500-TDR_ws.I403021.Pe1e1hh.eL.pL.n001.d_dstm_15744_14.slcio', 0, 0, 1)\n",
      " (16759, 'e1e1hh', 'e1e1hh_LR', '/pnfs/desy.de/ilc/prod/ilc/mc-2020/ild/dst-merged/500-TDR_ws/hh/ILD_l5_o1_v02/v02-02-03/00015744/000/rv02-02-03.sv02-02-03.mILD_l5_o1_v02.E500-TDR_ws.I403022.Pe1e1hh.eL.pR.n002.d_dstm_15744_26.slcio', 0, 0, 3)\n",
      " (16760, 'e1e1hh', 'e1e1hh_RL', '/pnfs/desy.de/ilc/prod/ilc/mc-2020/ild/dst-merged/500-TDR_ws/hh/ILD_l5_o1_v02/v02-02-03/00015744/000/rv02-02-03.sv02-02-03.mILD_l5_o1_v02.E500-TDR_ws.I403023.Pe1e1hh.eR.pL.n000.d_dstm_15744_6.slcio', 0, 0, 1)\n",
      " (16761, 'e1e1hh', 'e1e1hh_RR', '/pnfs/desy.de/ilc/prod/ilc/mc-2020/ild/dst-merged/500-TDR_ws/hh/ILD_l5_o1_v02/v02-02-03/00015743/000/rv02-02-03.sv02-02-03.mILD_l5_o1_v02.E500-TDR_ws.I403024.Pe1e1hh.eR.pR.n000.d_dstm_15743_2.slcio', 0, 0, 1)]\n",
      "[(16766, 'e2e2hh', 'e2e2hh_LR', '/pnfs/desy.de/ilc/prod/ilc/mc-2020/ild/dst-merged/500-TDR_ws/hh/ILD_l5_o1_v02/v02-02-03/00015740/000/rv02-02-03.sv02-02-03.mILD_l5_o1_v02.E500-TDR_ws.I403001.Pe2e2hh.eL.pR.n001.d_dstm_15740_10.slcio', 0, 0, 2)\n",
      " (16767, 'e2e2hh', 'e2e2hh_RL', '/pnfs/desy.de/ilc/prod/ilc/mc-2020/ild/dst-merged/500-TDR_ws/hh/ILD_l5_o1_v02/v02-02-03/00015740/000/rv02-02-03.sv02-02-03.mILD_l5_o1_v02.E500-TDR_ws.I403002.Pe2e2hh.eR.pL.n000.d_dstm_15740_8.slcio', 0, 0, 1)]\n",
      "[(16770, 'e3e3hh', 'e3e3hh_LR', '/pnfs/desy.de/ilc/prod/ilc/mc-2020/ild/dst-merged/500-TDR_ws/hh/ILD_l5_o1_v02/v02-02-03/00015740/000/rv02-02-03.sv02-02-03.mILD_l5_o1_v02.E500-TDR_ws.I403003.Pe3e3hh.eL.pR.n001.d_dstm_15740_16.slcio', 0, 0, 2)\n",
      " (16771, 'e3e3hh', 'e3e3hh_RL', '/pnfs/desy.de/ilc/prod/ilc/mc-2020/ild/dst-merged/500-TDR_ws/hh/ILD_l5_o1_v02/v02-02-03/00015740/000/rv02-02-03.sv02-02-03.mILD_l5_o1_v02.E500-TDR_ws.I403004.Pe3e3hh.eR.pL.n001.d_dstm_15740_9.slcio', 0, 0, 1)]\n",
      "[(16869, 'n1n1hh', 'n1n1hh_LR', '/pnfs/desy.de/ilc/prod/ilc/mc-2020/ild/dst-merged/500-TDR_ws/hh/ILD_l5_o1_v02/v02-02-03/00015742/000/rv02-02-03.sv02-02-03.mILD_l5_o1_v02.E500-TDR_ws.I403005.Pn1n1hh.eL.pR.n002.d_dstm_15742_24.slcio', 0, 0, 6)\n",
      " (16870, 'n1n1hh', 'n1n1hh_RL', '/pnfs/desy.de/ilc/prod/ilc/mc-2020/ild/dst-merged/500-TDR_ws/hh/ILD_l5_o1_v02/v02-02-03/00015742/000/rv02-02-03.sv02-02-03.mILD_l5_o1_v02.E500-TDR_ws.I403006.Pn1n1hh.eR.pL.n001.d_dstm_15742_9.slcio', 0, 0, 1)]\n",
      "[(16873, 'n23n23hh', 'n23n23hh_LR', '/pnfs/desy.de/ilc/prod/ilc/mc-2020/ild/dst-merged/500-TDR_ws/hh/ILD_l5_o1_v02/v02-02-03/00015742/000/rv02-02-03.sv02-02-03.mILD_l5_o1_v02.E500-TDR_ws.I403007.Pn23n23hh.eL.pR.n001.d_dstm_15742_13.slcio', 0, 0, 8)\n",
      " (16874, 'n23n23hh', 'n23n23hh_RL', '/pnfs/desy.de/ilc/prod/ilc/mc-2020/ild/dst-merged/500-TDR_ws/hh/ILD_l5_o1_v02/v02-02-03/00015741/000/rv02-02-03.sv02-02-03.mILD_l5_o1_v02.E500-TDR_ws.I403008.Pn23n23hh.eR.pL.n000.d_dstm_15741_3.slcio', 0, 0, 1)]\n",
      "[(16878, 'qqhh', 'qqhh_LR', '/pnfs/desy.de/ilc/prod/ilc/mc-2020/ild/dst-merged/500-TDR_ws/hh/ILD_l5_o1_v02/v02-02-03/00015747/000/rv02-02-03.sv02-02-03.mILD_l5_o1_v02.E500-TDR_ws.I403009.Pqqhh.eL.pR.n001.d_dstm_15747_6.slcio', 0,  0, 15)\n",
      " (16879, 'qqhh', 'qqhh_LR', '/pnfs/desy.de/ilc/prod/ilc/mc-2020/ild/dst-merged/500-TDR_ws/hh/ILD_l5_o1_v02/v02-02-03/00015747/000/rv02-02-03.sv02-02-03.mILD_l5_o1_v02.E500-TDR_ws.I403009.Pqqhh.eL.pR.n001.d_dstm_15747_6.slcio', 1, 15, 15)\n",
      " (16880, 'qqhh', 'qqhh_LR', '/pnfs/desy.de/ilc/prod/ilc/mc-2020/ild/dst-merged/500-TDR_ws/hh/ILD_l5_o1_v02/v02-02-03/00015747/000/rv02-02-03.sv02-02-03.mILD_l5_o1_v02.E500-TDR_ws.I403009.Pqqhh.eL.pR.n001.d_dstm_15747_6.slcio', 2, 30, 10)\n",
      " (16881, 'qqhh', 'qqhh_RL', '/pnfs/desy.de/ilc/prod/ilc/mc-2020/ild/dst-merged/500-TDR_ws/hh/ILD_l5_o1_v02/v02-02-03/00015747/000/rv02-02-03.sv02-02-03.mILD_l5_o1_v02.E500-TDR_ws.I403010.Pqqhh.eR.pL.n012.d_dstm_15747_103.slcio', 0,  0,  2)]\n"
     ]
    }
   ],
   "source": [
    "hh = list(filter(lambda x: 'hh' in x, np.unique(chunks['process'])))\n",
    "\n",
    "for process in hh:\n",
    "    print(chunks[chunks['process'] == process])"
   ]
  },
  {
   "cell_type": "code",
   "execution_count": null,
   "metadata": {},
   "outputs": [],
   "source": []
  },
  {
   "cell_type": "code",
   "execution_count": 6,
   "metadata": {},
   "outputs": [
    {
     "name": "stdout",
     "output_type": "stream",
     "text": [
      "n failing: 0\n"
     ]
    }
   ],
   "source": [
    "failing = 0\n",
    "for sample in samples:\n",
    "    loc = sample['location']\n",
    "    n_events = sample['n_events']\n",
    "    \n",
    "    for entry in chunks[chunks['location'] == loc]:\n",
    "        if entry['chunk_start'] + entry['chunk_size'] > n_events:\n",
    "            failing += 1\n",
    "            print(f\"{entry['chunk_start'] + entry['chunk_size']} > {n_events}\")\n",
    "            \n",
    "            #print(chunks[chunks['location'] == loc])\n",
    "            #print(sample)\n",
    "            #break\n",
    "    else:\n",
    "        continue\n",
    "    break\n",
    "            \n",
    "print(f'n failing: {failing}')"
   ]
  },
  {
   "cell_type": "code",
   "execution_count": 7,
   "metadata": {},
   "outputs": [
    {
     "data": {
      "text/plain": [
       "21901"
      ]
     },
     "execution_count": 7,
     "metadata": {},
     "output_type": "execute_result"
    }
   ],
   "source": [
    "len(chunks)"
   ]
  },
  {
   "cell_type": "markdown",
   "metadata": {},
   "source": [
    "Check worflow results"
   ]
  },
  {
   "cell_type": "code",
   "execution_count": 2,
   "metadata": {},
   "outputs": [],
   "source": [
    "chunks = np.load('/nfs/dust/ilc/user/bliewert/zhh/CreatePreselectionChunks/v1/chunks.npy')"
   ]
  },
  {
   "cell_type": "code",
   "execution_count": 4,
   "metadata": {},
   "outputs": [
    {
     "data": {
      "text/plain": [
       "array([(13488, 'e1e1hh', 'e1e1hh_LL', '/pnfs/desy.de/ilc/prod/ilc/mc-2020/ild/dst-merged/500-TDR_ws/hh/ILD_l5_o1_v02/v02-02-03/00015744/000/rv02-02-03.sv02-02-03.mILD_l5_o1_v02.E500-TDR_ws.I403021.Pe1e1hh.eL.pL.n001.d_dstm_15744_14.slcio', 0, 0, 1),\n",
       "       (13489, 'e1e1hh', 'e1e1hh_LR', '/pnfs/desy.de/ilc/prod/ilc/mc-2020/ild/dst-merged/500-TDR_ws/hh/ILD_l5_o1_v02/v02-02-03/00015744/000/rv02-02-03.sv02-02-03.mILD_l5_o1_v02.E500-TDR_ws.I403022.Pe1e1hh.eL.pR.n002.d_dstm_15744_26.slcio', 0, 0, 1),\n",
       "       (13490, 'e1e1hh', 'e1e1hh_RL', '/pnfs/desy.de/ilc/prod/ilc/mc-2020/ild/dst-merged/500-TDR_ws/hh/ILD_l5_o1_v02/v02-02-03/00015744/000/rv02-02-03.sv02-02-03.mILD_l5_o1_v02.E500-TDR_ws.I403023.Pe1e1hh.eR.pL.n000.d_dstm_15744_6.slcio', 0, 0, 1),\n",
       "       (13491, 'e1e1hh', 'e1e1hh_RR', '/pnfs/desy.de/ilc/prod/ilc/mc-2020/ild/dst-merged/500-TDR_ws/hh/ILD_l5_o1_v02/v02-02-03/00015743/000/rv02-02-03.sv02-02-03.mILD_l5_o1_v02.E500-TDR_ws.I403024.Pe1e1hh.eR.pR.n000.d_dstm_15743_2.slcio', 0, 0, 1)],\n",
       "      dtype=[('branch', '<i4'), ('process', '<U60'), ('proc_pol', '<U64'), ('location', '<U512'), ('n_chunks', '<i4'), ('chunk_start', '<i4'), ('chunk_size', '<i4')])"
      ]
     },
     "execution_count": 4,
     "metadata": {},
     "output_type": "execute_result"
    }
   ],
   "source": [
    "chunks[chunks['process'] == 'e1e1hh']"
   ]
  },
  {
   "cell_type": "code",
   "execution_count": 6,
   "metadata": {},
   "outputs": [
    {
     "data": {
      "text/plain": [
       "15497"
      ]
     },
     "execution_count": 6,
     "metadata": {},
     "output_type": "execute_result"
    }
   ],
   "source": [
    "len(chunks)"
   ]
  },
  {
   "cell_type": "code",
   "execution_count": null,
   "metadata": {},
   "outputs": [
    {
     "data": {
      "text/plain": [
       "15497"
      ]
     },
     "execution_count": 4,
     "metadata": {},
     "output_type": "execute_result"
    }
   ],
   "source": [
    "len(chunks)"
   ]
  },
  {
   "cell_type": "markdown",
   "metadata": {},
   "source": []
  }
 ],
 "metadata": {
  "kernelspec": {
   "display_name": "Python 3",
   "language": "python",
   "name": "python3"
  },
  "language_info": {
   "codemirror_mode": {
    "name": "ipython",
    "version": 3
   },
   "file_extension": ".py",
   "mimetype": "text/x-python",
   "name": "python",
   "nbconvert_exporter": "python",
   "pygments_lexer": "ipython3",
   "version": "3.11.4"
  }
 },
 "nbformat": 4,
 "nbformat_minor": 2
}
