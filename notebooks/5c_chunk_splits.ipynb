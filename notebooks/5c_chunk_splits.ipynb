{
 "cells": [
  {
   "cell_type": "code",
   "execution_count": 1,
   "metadata": {},
   "outputs": [
    {
     "name": "stdout",
     "output_type": "stream",
     "text": [
      "4404\n"
     ]
    }
   ],
   "source": [
    "import numpy as np\n",
    "import json\n",
    "from phc import module_reload, json_file_readable\n",
    "\n",
    "INDEX_DIR = '/nfs/dust/ilc/user/bliewert/zhh/CreateRawIndex/v1'\n",
    "DATA_ROOT = '/nfs/dust/ilc/user/bliewert/zhh/PreselectionRuntime/v1'\n",
    "\n",
    "processes = np.load(f'{INDEX_DIR}/processes.npy')\n",
    "samples = np.load(f'{INDEX_DIR}/samples.npy')\n",
    "existing_chunks = np.load('/nfs/dust/ilc/user/bliewert/zhh/CreatePreselectionChunks/v1/chunks.npy')\n",
    "\n",
    "print(len(existing_chunks))"
   ]
  },
  {
   "cell_type": "code",
   "execution_count": 25,
   "metadata": {},
   "outputs": [
    {
     "data": {
      "text/plain": [
       "250"
      ]
     },
     "execution_count": 25,
     "metadata": {},
     "output_type": "execute_result"
    }
   ],
   "source": [
    "(existing_chunks['process'] == 'qqqqh').sum()"
   ]
  },
  {
   "cell_type": "code",
   "execution_count": 10,
   "metadata": {},
   "outputs": [],
   "source": [
    "module_reload('zhh')\n",
    "from zhh import get_adjusted_time_per_event, get_runtime_analysis, get_process_normalization, get_sample_chunk_splits\n",
    "\n",
    "if True:\n",
    "    runtime_analysis = get_runtime_analysis(DATA_ROOT)\n",
    "    pn = get_process_normalization(processes, samples, RATIO_BY_EXPECT=1.)\n",
    "    atpe = get_adjusted_time_per_event(runtime_analysis)\n",
    "else:\n",
    "    runtime_analysis = np.load('/nfs/dust/ilc/user/bliewert/zhh/CreatePreselectionChunks/v1/runtime_analysis.npy')\n",
    "    pn = np.load('/nfs/dust/ilc/user/bliewert/zhh/CreatePreselectionChunks/v1/process_normalization.npy')\n",
    "    atpe = np.load('/nfs/dust/ilc/user/bliewert/zhh/CreatePreselectionChunks/v1/atpe.npy')\n",
    "\n",
    "with open(f'/afs/desy.de/user/b/bliewert/public/MarlinWorkdirs/ZHH/workflows/analysis/custom_statistics.json', 'r') as file:\n",
    "    custom_statistics = json.load(file)\n",
    "    \n",
    "new_chunks = get_sample_chunk_splits(samples, atpe, pn, custom_statistics=custom_statistics,\n",
    "                                 MAXIMUM_TIME_PER_JOB=7200)"
   ]
  },
  {
   "cell_type": "code",
   "execution_count": 11,
   "metadata": {},
   "outputs": [
    {
     "data": {
      "text/plain": [
       "(4404, 4404)"
      ]
     },
     "execution_count": 11,
     "metadata": {},
     "output_type": "execute_result"
    }
   ],
   "source": [
    "len(existing_chunks), len(new_chunks)"
   ]
  },
  {
   "cell_type": "code",
   "execution_count": 17,
   "metadata": {},
   "outputs": [
    {
     "name": "stdout",
     "output_type": "stream",
     "text": [
      "(2548, 'qqqqh', 'qqqqh_LR', '/pnfs/desy.de/ilc/prod/ilc/mc-2020/ild/dst-merged/500-TDR_ws/hh/ILD_l5_o1_v02/v02-02-03/00015747/000/rv02-02-03.sv02-02-03.mILD_l5_o1_v02.E500-TDR_ws.I403019.Pqqqqh.eL.pR.n001.d_dstm_15747_13.slcio', 27, 2424, 2424)\n"
     ]
    },
    {
     "data": {
      "text/plain": [
       "7199.280069351196"
      ]
     },
     "execution_count": 17,
     "metadata": {},
     "output_type": "execute_result"
    }
   ],
   "source": [
    "print(existing_chunks[2548])\n",
    "\n",
    "atpe['tPE'][atpe['process'] == 'qqqqh'][0] * existing_chunks['chunk_size'][2548]"
   ]
  },
  {
   "cell_type": "code",
   "execution_count": 4,
   "metadata": {},
   "outputs": [
    {
     "name": "stdout",
     "output_type": "stream",
     "text": [
      "[('e1e1hh', 'e1e1hh_LL', 0.00027244, 1.8007195e-07, 953154,  0.1716363 , 1)\n",
      " ('e1e1hh', 'e1e1hh_LR', 0.01141446, 1.4011289e-05, 953154, 13.354916  , 3)\n",
      " ('e1e1hh', 'e1e1hh_RL', 0.00724756, 5.3226370e-07, 953154,  0.5073292 , 1)\n",
      " ('e1e1hh', 'e1e1hh_RR', 0.00027244, 3.7157957e-08, 953154,  0.03541726, 1)]\n",
      "[('e2e2hh', 'e2e2hh_LR', 0.01116575, 2.7462776e-05, 475696, 13.063933 , 2)\n",
      " ('e2e2hh', 'e2e2hh_RL', 0.00714938, 1.0520512e-06, 475696,  0.5004566, 1)]\n",
      "[('e3e3hh', 'e3e3hh_LR', 0.01114067, 2.8200320e-05, 462214, 13.034582  , 2)\n",
      " ('e3e3hh', 'e3e3hh_RL', 0.00713333, 1.0803079e-06, 462214,  0.49933344, 1)]\n",
      "[('n1n1hh', 'n1n1hh_LR', 0.03004878, 7.1302115e-05, 493072, 35.157074 , 6)\n",
      " ('n1n1hh', 'n1n1hh_RL', 0.01413045, 2.0060588e-06, 493072,  0.9891315, 1)]\n",
      "[('n23n23hh', 'n23n23hh_LR', 0.0441279 , 1.07372296e-04, 480847, 51.629646 , 8)\n",
      " ('n23n23hh', 'n23n23hh_RL', 0.02827151, 4.11566543e-06, 480847,  1.9790053, 1)]\n",
      "[('qqhh', 'qqhh_LR', 0.22561218, 1.3198312e-04, 2000000, 263.96625 , 40)\n",
      " ('qqhh', 'qqhh_RL', 0.14452237, 5.0582830e-06, 2000000,  10.116566,  2)]\n"
     ]
    }
   ],
   "source": [
    "hh = list(filter(lambda x: 'hh' in x, np.unique(chunks['process'])))\n",
    "\n",
    "for process in hh:\n",
    "    print(pn[pn['process'] == process])"
   ]
  },
  {
   "cell_type": "code",
   "execution_count": 16,
   "metadata": {},
   "outputs": [
    {
     "name": "stdout",
     "output_type": "stream",
     "text": [
      "41.16760444641113\n"
     ]
    }
   ],
   "source": [
    "s = 0\n",
    "for process in ['e1e1hh', 'e2e2hh', 'e3e3hh']:\n",
    "    s += np.sum(pn['n_events_expected'][pn['process'] == process])\n",
    "\n",
    "print(s)"
   ]
  },
  {
   "cell_type": "code",
   "execution_count": 5,
   "metadata": {},
   "outputs": [
    {
     "name": "stdout",
     "output_type": "stream",
     "text": [
      "[(16758, 'e1e1hh', 'e1e1hh_LL', '/pnfs/desy.de/ilc/prod/ilc/mc-2020/ild/dst-merged/500-TDR_ws/hh/ILD_l5_o1_v02/v02-02-03/00015744/000/rv02-02-03.sv02-02-03.mILD_l5_o1_v02.E500-TDR_ws.I403021.Pe1e1hh.eL.pL.n001.d_dstm_15744_14.slcio', 0, 0, 1)\n",
      " (16759, 'e1e1hh', 'e1e1hh_LR', '/pnfs/desy.de/ilc/prod/ilc/mc-2020/ild/dst-merged/500-TDR_ws/hh/ILD_l5_o1_v02/v02-02-03/00015744/000/rv02-02-03.sv02-02-03.mILD_l5_o1_v02.E500-TDR_ws.I403022.Pe1e1hh.eL.pR.n002.d_dstm_15744_26.slcio', 0, 0, 3)\n",
      " (16760, 'e1e1hh', 'e1e1hh_RL', '/pnfs/desy.de/ilc/prod/ilc/mc-2020/ild/dst-merged/500-TDR_ws/hh/ILD_l5_o1_v02/v02-02-03/00015744/000/rv02-02-03.sv02-02-03.mILD_l5_o1_v02.E500-TDR_ws.I403023.Pe1e1hh.eR.pL.n000.d_dstm_15744_6.slcio', 0, 0, 1)\n",
      " (16761, 'e1e1hh', 'e1e1hh_RR', '/pnfs/desy.de/ilc/prod/ilc/mc-2020/ild/dst-merged/500-TDR_ws/hh/ILD_l5_o1_v02/v02-02-03/00015743/000/rv02-02-03.sv02-02-03.mILD_l5_o1_v02.E500-TDR_ws.I403024.Pe1e1hh.eR.pR.n000.d_dstm_15743_2.slcio', 0, 0, 1)]\n",
      "[(16766, 'e2e2hh', 'e2e2hh_LR', '/pnfs/desy.de/ilc/prod/ilc/mc-2020/ild/dst-merged/500-TDR_ws/hh/ILD_l5_o1_v02/v02-02-03/00015740/000/rv02-02-03.sv02-02-03.mILD_l5_o1_v02.E500-TDR_ws.I403001.Pe2e2hh.eL.pR.n001.d_dstm_15740_10.slcio', 0, 0, 2)\n",
      " (16767, 'e2e2hh', 'e2e2hh_RL', '/pnfs/desy.de/ilc/prod/ilc/mc-2020/ild/dst-merged/500-TDR_ws/hh/ILD_l5_o1_v02/v02-02-03/00015740/000/rv02-02-03.sv02-02-03.mILD_l5_o1_v02.E500-TDR_ws.I403002.Pe2e2hh.eR.pL.n000.d_dstm_15740_8.slcio', 0, 0, 1)]\n",
      "[(16770, 'e3e3hh', 'e3e3hh_LR', '/pnfs/desy.de/ilc/prod/ilc/mc-2020/ild/dst-merged/500-TDR_ws/hh/ILD_l5_o1_v02/v02-02-03/00015740/000/rv02-02-03.sv02-02-03.mILD_l5_o1_v02.E500-TDR_ws.I403003.Pe3e3hh.eL.pR.n001.d_dstm_15740_16.slcio', 0, 0, 2)\n",
      " (16771, 'e3e3hh', 'e3e3hh_RL', '/pnfs/desy.de/ilc/prod/ilc/mc-2020/ild/dst-merged/500-TDR_ws/hh/ILD_l5_o1_v02/v02-02-03/00015740/000/rv02-02-03.sv02-02-03.mILD_l5_o1_v02.E500-TDR_ws.I403004.Pe3e3hh.eR.pL.n001.d_dstm_15740_9.slcio', 0, 0, 1)]\n",
      "[(16869, 'n1n1hh', 'n1n1hh_LR', '/pnfs/desy.de/ilc/prod/ilc/mc-2020/ild/dst-merged/500-TDR_ws/hh/ILD_l5_o1_v02/v02-02-03/00015742/000/rv02-02-03.sv02-02-03.mILD_l5_o1_v02.E500-TDR_ws.I403005.Pn1n1hh.eL.pR.n002.d_dstm_15742_24.slcio', 0, 0, 6)\n",
      " (16870, 'n1n1hh', 'n1n1hh_RL', '/pnfs/desy.de/ilc/prod/ilc/mc-2020/ild/dst-merged/500-TDR_ws/hh/ILD_l5_o1_v02/v02-02-03/00015742/000/rv02-02-03.sv02-02-03.mILD_l5_o1_v02.E500-TDR_ws.I403006.Pn1n1hh.eR.pL.n001.d_dstm_15742_9.slcio', 0, 0, 1)]\n",
      "[(16873, 'n23n23hh', 'n23n23hh_LR', '/pnfs/desy.de/ilc/prod/ilc/mc-2020/ild/dst-merged/500-TDR_ws/hh/ILD_l5_o1_v02/v02-02-03/00015742/000/rv02-02-03.sv02-02-03.mILD_l5_o1_v02.E500-TDR_ws.I403007.Pn23n23hh.eL.pR.n001.d_dstm_15742_13.slcio', 0, 0, 8)\n",
      " (16874, 'n23n23hh', 'n23n23hh_RL', '/pnfs/desy.de/ilc/prod/ilc/mc-2020/ild/dst-merged/500-TDR_ws/hh/ILD_l5_o1_v02/v02-02-03/00015741/000/rv02-02-03.sv02-02-03.mILD_l5_o1_v02.E500-TDR_ws.I403008.Pn23n23hh.eR.pL.n000.d_dstm_15741_3.slcio', 0, 0, 1)]\n",
      "[(16878, 'qqhh', 'qqhh_LR', '/pnfs/desy.de/ilc/prod/ilc/mc-2020/ild/dst-merged/500-TDR_ws/hh/ILD_l5_o1_v02/v02-02-03/00015747/000/rv02-02-03.sv02-02-03.mILD_l5_o1_v02.E500-TDR_ws.I403009.Pqqhh.eL.pR.n001.d_dstm_15747_6.slcio', 0,  0, 15)\n",
      " (16879, 'qqhh', 'qqhh_LR', '/pnfs/desy.de/ilc/prod/ilc/mc-2020/ild/dst-merged/500-TDR_ws/hh/ILD_l5_o1_v02/v02-02-03/00015747/000/rv02-02-03.sv02-02-03.mILD_l5_o1_v02.E500-TDR_ws.I403009.Pqqhh.eL.pR.n001.d_dstm_15747_6.slcio', 1, 15, 15)\n",
      " (16880, 'qqhh', 'qqhh_LR', '/pnfs/desy.de/ilc/prod/ilc/mc-2020/ild/dst-merged/500-TDR_ws/hh/ILD_l5_o1_v02/v02-02-03/00015747/000/rv02-02-03.sv02-02-03.mILD_l5_o1_v02.E500-TDR_ws.I403009.Pqqhh.eL.pR.n001.d_dstm_15747_6.slcio', 2, 30, 10)\n",
      " (16881, 'qqhh', 'qqhh_RL', '/pnfs/desy.de/ilc/prod/ilc/mc-2020/ild/dst-merged/500-TDR_ws/hh/ILD_l5_o1_v02/v02-02-03/00015747/000/rv02-02-03.sv02-02-03.mILD_l5_o1_v02.E500-TDR_ws.I403010.Pqqhh.eR.pL.n012.d_dstm_15747_103.slcio', 0,  0,  2)]\n"
     ]
    }
   ],
   "source": [
    "hh = list(filter(lambda x: 'hh' in x, np.unique(chunks['process'])))\n",
    "\n",
    "for process in hh:\n",
    "    print(chunks[chunks['process'] == process])"
   ]
  },
  {
   "cell_type": "code",
   "execution_count": null,
   "metadata": {},
   "outputs": [],
   "source": []
  },
  {
   "cell_type": "code",
   "execution_count": 6,
   "metadata": {},
   "outputs": [
    {
     "name": "stdout",
     "output_type": "stream",
     "text": [
      "n failing: 0\n"
     ]
    }
   ],
   "source": [
    "failing = 0\n",
    "for sample in samples:\n",
    "    loc = sample['location']\n",
    "    n_events = sample['n_events']\n",
    "    \n",
    "    for entry in chunks[chunks['location'] == loc]:\n",
    "        if entry['chunk_start'] + entry['chunk_size'] > n_events:\n",
    "            failing += 1\n",
    "            print(f\"{entry['chunk_start'] + entry['chunk_size']} > {n_events}\")\n",
    "            \n",
    "            #print(chunks[chunks['location'] == loc])\n",
    "            #print(sample)\n",
    "            #break\n",
    "    else:\n",
    "        continue\n",
    "    break\n",
    "            \n",
    "print(f'n failing: {failing}')"
   ]
  },
  {
   "cell_type": "code",
   "execution_count": 7,
   "metadata": {},
   "outputs": [
    {
     "data": {
      "text/plain": [
       "21901"
      ]
     },
     "execution_count": 7,
     "metadata": {},
     "output_type": "execute_result"
    }
   ],
   "source": [
    "len(chunks)"
   ]
  },
  {
   "cell_type": "markdown",
   "metadata": {},
   "source": [
    "Check worflow results"
   ]
  },
  {
   "cell_type": "code",
   "execution_count": 2,
   "metadata": {},
   "outputs": [],
   "source": [
    "chunks = np.load('/nfs/dust/ilc/user/bliewert/zhh/CreatePreselectionChunks/v1/chunks.npy')"
   ]
  },
  {
   "cell_type": "code",
   "execution_count": 4,
   "metadata": {},
   "outputs": [
    {
     "data": {
      "text/plain": [
       "array([(13488, 'e1e1hh', 'e1e1hh_LL', '/pnfs/desy.de/ilc/prod/ilc/mc-2020/ild/dst-merged/500-TDR_ws/hh/ILD_l5_o1_v02/v02-02-03/00015744/000/rv02-02-03.sv02-02-03.mILD_l5_o1_v02.E500-TDR_ws.I403021.Pe1e1hh.eL.pL.n001.d_dstm_15744_14.slcio', 0, 0, 1),\n",
       "       (13489, 'e1e1hh', 'e1e1hh_LR', '/pnfs/desy.de/ilc/prod/ilc/mc-2020/ild/dst-merged/500-TDR_ws/hh/ILD_l5_o1_v02/v02-02-03/00015744/000/rv02-02-03.sv02-02-03.mILD_l5_o1_v02.E500-TDR_ws.I403022.Pe1e1hh.eL.pR.n002.d_dstm_15744_26.slcio', 0, 0, 1),\n",
       "       (13490, 'e1e1hh', 'e1e1hh_RL', '/pnfs/desy.de/ilc/prod/ilc/mc-2020/ild/dst-merged/500-TDR_ws/hh/ILD_l5_o1_v02/v02-02-03/00015744/000/rv02-02-03.sv02-02-03.mILD_l5_o1_v02.E500-TDR_ws.I403023.Pe1e1hh.eR.pL.n000.d_dstm_15744_6.slcio', 0, 0, 1),\n",
       "       (13491, 'e1e1hh', 'e1e1hh_RR', '/pnfs/desy.de/ilc/prod/ilc/mc-2020/ild/dst-merged/500-TDR_ws/hh/ILD_l5_o1_v02/v02-02-03/00015743/000/rv02-02-03.sv02-02-03.mILD_l5_o1_v02.E500-TDR_ws.I403024.Pe1e1hh.eR.pR.n000.d_dstm_15743_2.slcio', 0, 0, 1)],\n",
       "      dtype=[('branch', '<i4'), ('process', '<U60'), ('proc_pol', '<U64'), ('location', '<U512'), ('n_chunks', '<i4'), ('chunk_start', '<i4'), ('chunk_size', '<i4')])"
      ]
     },
     "execution_count": 4,
     "metadata": {},
     "output_type": "execute_result"
    }
   ],
   "source": [
    "chunks[chunks['process'] == 'e1e1hh']"
   ]
  },
  {
   "cell_type": "code",
   "execution_count": 6,
   "metadata": {},
   "outputs": [
    {
     "data": {
      "text/plain": [
       "15497"
      ]
     },
     "execution_count": 6,
     "metadata": {},
     "output_type": "execute_result"
    }
   ],
   "source": [
    "len(chunks)"
   ]
  },
  {
   "cell_type": "code",
   "execution_count": null,
   "metadata": {},
   "outputs": [
    {
     "data": {
      "text/plain": [
       "15497"
      ]
     },
     "execution_count": 4,
     "metadata": {},
     "output_type": "execute_result"
    }
   ],
   "source": [
    "len(chunks)"
   ]
  },
  {
   "cell_type": "markdown",
   "metadata": {},
   "source": []
  }
 ],
 "metadata": {
  "kernelspec": {
   "display_name": "Python 3",
   "language": "python",
   "name": "python3"
  },
  "language_info": {
   "codemirror_mode": {
    "name": "ipython",
    "version": 3
   },
   "file_extension": ".py",
   "mimetype": "text/x-python",
   "name": "python",
   "nbconvert_exporter": "python",
   "pygments_lexer": "ipython3",
   "version": "3.11.4"
  }
 },
 "nbformat": 4,
 "nbformat_minor": 2
}
