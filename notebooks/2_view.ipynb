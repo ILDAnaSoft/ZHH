{
 "cells": [
  {
   "cell_type": "code",
   "execution_count": 29,
   "metadata": {},
   "outputs": [],
   "source": [
    "import uproot as ur\n",
    "import matplotlib as plt\n",
    "import numpy as np\n",
    "import seaborn as sns"
   ]
  },
  {
   "cell_type": "code",
   "execution_count": 68,
   "metadata": {},
   "outputs": [],
   "source": [
    "df = ur.open(\"output/zhh_PreSelection.root\")[\"eventTree\"]"
   ]
  },
  {
   "cell_type": "code",
   "execution_count": 69,
   "metadata": {},
   "outputs": [
    {
     "name": "stdout",
     "output_type": "stream",
     "text": [
      "name                 | typename                 | interpretation                \n",
      "---------------------+--------------------------+-------------------------------\n",
      "run                  | int32_t                  | AsDtype('>i4')\n",
      "event                | int32_t                  | AsDtype('>i4')\n",
      "nJets                | int32_t                  | AsDtype('>i4')\n",
      "nIsoLeptons          | int32_t                  | AsDtype('>i4')\n",
      "missingPT            | float                    | AsDtype('>f4')\n",
      "Evis                 | float                    | AsDtype('>f4')\n",
      "thrust               | float                    | AsDtype('>f4')\n",
      "dileptonMass         | float                    | AsDtype('>f4')\n",
      "dileptonMassDiff     | float                    | AsDtype('>f4')\n",
      "dijetMass            | std::vector<float>       | AsJagged(AsDtype('>f4'), he...\n",
      "dijetMassDiff        | std::vector<float>       | AsJagged(AsDtype('>f4'), he...\n",
      "dihiggsMass          | float                    | AsDtype('>f4')\n",
      "nbjets               | int32_t                  | AsDtype('>i4')\n",
      "preselsPassedVec     | std::vector<int32_t>     | AsJagged(AsDtype('>i4'), he...\n",
      "preselsPassedAll     | int32_t                  | AsDtype('>i4')\n",
      "preselsPassedConsec  | int32_t                  | AsDtype('>i4')\n",
      "preselPassed         | int32_t                  | AsDtype('>i4')\n",
      "process              | std::string              | AsStrings()\n"
     ]
    }
   ],
   "source": [
    "df.show()"
   ]
  },
  {
   "cell_type": "code",
   "execution_count": 70,
   "metadata": {},
   "outputs": [],
   "source": [
    "col = df['process']"
   ]
  },
  {
   "cell_type": "code",
   "execution_count": 71,
   "metadata": {},
   "outputs": [
    {
     "data": {
      "text/html": [
       "<pre>[&#x27;qqhh&#x27;,\n",
       " &#x27;qqhh&#x27;,\n",
       " &#x27;qqhh&#x27;,\n",
       " &#x27;qqhh&#x27;,\n",
       " &#x27;qqhh&#x27;,\n",
       " &#x27;qqhh&#x27;,\n",
       " &#x27;qqhh&#x27;,\n",
       " &#x27;qqhh&#x27;,\n",
       " &#x27;qqhh&#x27;,\n",
       " &#x27;qqhh&#x27;,\n",
       " ...,\n",
       " &#x27;qqhh&#x27;,\n",
       " &#x27;qqhh&#x27;,\n",
       " &#x27;qqhh&#x27;,\n",
       " &#x27;qqhh&#x27;,\n",
       " &#x27;qqhh&#x27;,\n",
       " &#x27;qqhh&#x27;,\n",
       " &#x27;qqhh&#x27;,\n",
       " &#x27;qqhh&#x27;,\n",
       " &#x27;qqhh&#x27;]\n",
       "-----------------\n",
       "type: 99 * string</pre>"
      ],
      "text/plain": [
       "<Array ['qqhh', 'qqhh', 'qqhh', ..., 'qqhh', 'qqhh', 'qqhh'] type='99 * string'>"
      ]
     },
     "execution_count": 71,
     "metadata": {},
     "output_type": "execute_result"
    }
   ],
   "source": [
    "col.array()"
   ]
  },
  {
   "cell_type": "code",
   "execution_count": 37,
   "metadata": {},
   "outputs": [
    {
     "data": {
      "text/plain": [
       "array([[1, 0, 1, ..., 1, 1, 1],\n",
       "       [1, 0, 1, ..., 1, 1, 1],\n",
       "       [1, 0, 1, ..., 1, 1, 1],\n",
       "       ...,\n",
       "       [1, 0, 1, ..., 1, 1, 1],\n",
       "       [1, 0, 1, ..., 1, 1, 1],\n",
       "       [1, 0, 1, ..., 1, 1, 1]], dtype=int32)"
      ]
     },
     "execution_count": 37,
     "metadata": {},
     "output_type": "execute_result"
    }
   ],
   "source": [
    "vec = np.array(df['preselsPassedVec'].array())\n",
    "vec"
   ]
  },
  {
   "cell_type": "code",
   "execution_count": 27,
   "metadata": {},
   "outputs": [],
   "source": [
    "consec = df['preselsPassedConsec'].array()"
   ]
  },
  {
   "cell_type": "code",
   "execution_count": 28,
   "metadata": {},
   "outputs": [
    {
     "data": {
      "text/html": [
       "<pre>[1,\n",
       " 1,\n",
       " 1,\n",
       " 1,\n",
       " 1,\n",
       " 1,\n",
       " 4,\n",
       " 1,\n",
       " 1,\n",
       " 1,\n",
       " ...,\n",
       " 1,\n",
       " 1,\n",
       " 1,\n",
       " 1,\n",
       " 1,\n",
       " 1,\n",
       " 1,\n",
       " 1,\n",
       " 1]\n",
       "-------------------\n",
       "type: 12023 * int32</pre>"
      ],
      "text/plain": [
       "<Array [1, 1, 1, 1, 1, 1, 4, 1, ..., 1, 1, 1, 1, 1, 1, 1] type='12023 * int32'>"
      ]
     },
     "execution_count": 28,
     "metadata": {},
     "output_type": "execute_result"
    }
   ],
   "source": [
    "consec"
   ]
  },
  {
   "cell_type": "code",
   "execution_count": 30,
   "metadata": {},
   "outputs": [
    {
     "data": {
      "text/plain": [
       "<Axes: ylabel='Count'>"
      ]
     },
     "execution_count": 30,
     "metadata": {},
     "output_type": "execute_result"
    },
    {
     "data": {
      "image/png": "[encoded data removed]",
      "text/plain": [
       "<Figure size 640x480 with 1 Axes>"
      ]
     },
     "metadata": {},
     "output_type": "display_data"
    }
   ],
   "source": [
    "sns.histplot(consec)"
   ]
  },
  {
   "cell_type": "code",
   "execution_count": 48,
   "metadata": {},
   "outputs": [
    {
     "data": {
      "text/plain": [
       "12"
      ]
     },
     "execution_count": 48,
     "metadata": {},
     "output_type": "execute_result"
    }
   ],
   "source": [
    "len(vec.T)"
   ]
  },
  {
   "cell_type": "code",
   "execution_count": 54,
   "metadata": {},
   "outputs": [],
   "source": [
    "bars = list(range(len(vec.T) + 1))\n",
    "vals = [len(vec)]\n",
    "\n",
    "temp = np.ones(len(vec), dtype=int)\n",
    "for i in range(len(vec.T)):\n",
    "    temp = temp & vec.T[i]\n",
    "    vals.append(np.sum(temp))\n",
    "    \n",
    "del temp"
   ]
  },
  {
   "cell_type": "code",
   "execution_count": 55,
   "metadata": {},
   "outputs": [
    {
     "data": {
      "text/plain": [
       "([0, 1, 2, 3, 4, 5, 6, 7, 8, 9, 10, 11, 12],\n",
       " [12023, 12023, 249, 164, 162, 150, 150, 143, 109, 109, 109, 109, 109])"
      ]
     },
     "execution_count": 55,
     "metadata": {},
     "output_type": "execute_result"
    }
   ],
   "source": [
    "bars, vals"
   ]
  },
  {
   "cell_type": "code",
   "execution_count": 86,
   "metadata": {},
   "outputs": [
    {
     "name": "stderr",
     "output_type": "stream",
     "text": [
      "/tmp/ipykernel_418773/3617261500.py:24: UserWarning: set_ticklabels() should only be used with a fixed number of ticks, i.e. after set_ticks() or using a FixedLocator.\n",
      "  ax.set_xticklabels(desc, rotation=45)\n"
     ]
    },
    {
     "data": {
      "text/plain": [
       "[Text(0, 0, 'All'),\n",
       " Text(1, 0, 'nJets'),\n",
       " Text(2, 0, 'nIsoLeps'),\n",
       " Text(3, 0, 'DiLepMDif'),\n",
       " Text(4, 0, 'DiJetMDif1'),\n",
       " Text(5, 0, 'DiJetMWdw1'),\n",
       " Text(6, 0, 'DiJetMDif2'),\n",
       " Text(7, 0, 'DiJetMWdw2'),\n",
       " Text(8, 0, 'MissPTWdw'),\n",
       " Text(9, 0, 'Thrust'),\n",
       " Text(10, 0, 'Evis'),\n",
       " Text(11, 0, 'MinHHMass'),\n",
       " Text(12, 0, 'nBJets')]"
      ]
     },
     "execution_count": 86,
     "metadata": {},
     "output_type": "execute_result"
    },
    {
     "data": {
      "image/png": "[encoded data removed]",
      "text/plain": [
       "<Figure size 640x480 with 1 Axes>"
      ]
     },
     "metadata": {},
     "output_type": "display_data"
    }
   ],
   "source": [
    "ax = sns.barplot(x=bars, y=vals, )\n",
    "ax.set_yscale('log')\n",
    "ax.set_ylabel('Number of events')\n",
    "ax.set_xlabel('Preselection cut')\n",
    "ax.set_title('Events surviving cats')\n",
    "\n",
    "desc = [\n",
    "    'All',\n",
    "    'nJets',\n",
    "    'nIsoLeps',\n",
    "    'DiLepMDif',\n",
    "    \n",
    "    'DiJetMDif1',\n",
    "    'DiJetMWdw1',\n",
    "    'DiJetMDif2',\n",
    "    'DiJetMWdw2',\n",
    "    \n",
    "    'MissPTWdw',\n",
    "    'Thrust',\n",
    "    'Evis',\n",
    "    'MinHHMass',\n",
    "    'nBJets',\n",
    "]\n",
    "ax.set_xticklabels(desc, rotation=45)"
   ]
  },
  {
   "cell_type": "code",
   "execution_count": null,
   "metadata": {},
   "outputs": [],
   "source": []
  }
 ],
 "metadata": {
  "kernelspec": {
   "display_name": "py311",
   "language": "python",
   "name": "python3"
  },
  "language_info": {
   "codemirror_mode": {
    "name": "ipython",
    "version": 3
   },
   "file_extension": ".py",
   "mimetype": "text/x-python",
   "name": "python",
   "nbconvert_exporter": "python",
   "pygments_lexer": "ipython3",
   "version": "3.11.9"
  }
 },
 "nbformat": 4,
 "nbformat_minor": 2
}
