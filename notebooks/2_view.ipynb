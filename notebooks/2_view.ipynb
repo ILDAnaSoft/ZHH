{
 "cells": [
  {
   "cell_type": "code",
   "execution_count": 1,
   "metadata": {},
   "outputs": [],
   "source": [
    "import uproot as ur\n",
    "import matplotlib as plt\n",
    "import numpy as np\n",
    "import seaborn as sns"
   ]
  },
  {
   "cell_type": "code",
   "execution_count": 25,
   "metadata": {},
   "outputs": [],
   "source": [
    "df = ur.open(\"output/zhh_PreSelection.root\")[\"eventTree\"]"
   ]
  },
  {
   "cell_type": "code",
   "execution_count": 26,
   "metadata": {},
   "outputs": [
    {
     "name": "stdout",
     "output_type": "stream",
     "text": [
      "name                 | typename                 | interpretation                \n",
      "---------------------+--------------------------+-------------------------------\n",
      "run                  | int32_t                  | AsDtype('>i4')\n",
      "event                | int32_t                  | AsDtype('>i4')\n",
      "nJets                | int32_t                  | AsDtype('>i4')\n",
      "nIsoLeptons          | int32_t                  | AsDtype('>i4')\n",
      "missingPT            | float                    | AsDtype('>f4')\n",
      "Evis                 | float                    | AsDtype('>f4')\n",
      "thrust               | float                    | AsDtype('>f4')\n",
      "dileptonMass         | float                    | AsDtype('>f4')\n",
      "dileptonMassDiff     | float                    | AsDtype('>f4')\n",
      "dijetChi2min         | float                    | AsDtype('>f4')\n",
      "dijetMass            | std::vector<float>       | AsJagged(AsDtype('>f4'), he...\n",
      "dijetMassDiff        | std::vector<float>       | AsJagged(AsDtype('>f4'), he...\n",
      "dihiggsMass          | float                    | AsDtype('>f4')\n",
      "nbjets               | int32_t                  | AsDtype('>i4')\n",
      "preselsPassedVec     | std::vector<int32_t>     | AsJagged(AsDtype('>i4'), he...\n",
      "preselsPassedAll     | int32_t                  | AsDtype('>i4')\n",
      "preselsPassedConsec  | int32_t                  | AsDtype('>i4')\n",
      "preselPassed         | int32_t                  | AsDtype('>i4')\n",
      "process              | std::string              | AsStrings()\n"
     ]
    }
   ],
   "source": [
    "df.show()"
   ]
  },
  {
   "cell_type": "code",
   "execution_count": 27,
   "metadata": {},
   "outputs": [
    {
     "data": {
      "text/html": [
       "<pre>[&#x27;z_h0&#x27;,\n",
       " &#x27;z_h0&#x27;,\n",
       " &#x27;z_h0&#x27;,\n",
       " &#x27;z_h0&#x27;,\n",
       " &#x27;z_h0&#x27;,\n",
       " &#x27;z_h0&#x27;,\n",
       " &#x27;z_h0&#x27;,\n",
       " &#x27;z_h0&#x27;,\n",
       " &#x27;z_h0&#x27;,\n",
       " &#x27;z_h0&#x27;,\n",
       " ...,\n",
       " &#x27;z_h0&#x27;,\n",
       " &#x27;z_h0&#x27;,\n",
       " &#x27;z_h0&#x27;,\n",
       " &#x27;z_h0&#x27;,\n",
       " &#x27;z_h0&#x27;,\n",
       " &#x27;z_h0&#x27;,\n",
       " &#x27;z_h0&#x27;,\n",
       " &#x27;z_h0&#x27;,\n",
       " &#x27;z_h0&#x27;]\n",
       "------------------\n",
       "type: 497 * string</pre>"
      ],
      "text/plain": [
       "<Array ['z_h0', 'z_h0', 'z_h0', ..., 'z_h0', 'z_h0'] type='497 * string'>"
      ]
     },
     "execution_count": 27,
     "metadata": {},
     "output_type": "execute_result"
    }
   ],
   "source": [
    "col = df['process']\n",
    "col.array()"
   ]
  },
  {
   "cell_type": "code",
   "execution_count": 28,
   "metadata": {},
   "outputs": [
    {
     "data": {
      "text/plain": [
       "array([[1, 0, 1, ..., 1, 1, 1],\n",
       "       [1, 0, 1, ..., 1, 1, 1],\n",
       "       [1, 0, 1, ..., 1, 1, 1],\n",
       "       ...,\n",
       "       [1, 0, 1, ..., 1, 1, 1],\n",
       "       [1, 0, 1, ..., 1, 1, 1],\n",
       "       [1, 0, 1, ..., 1, 1, 1]], dtype=int32)"
      ]
     },
     "execution_count": 28,
     "metadata": {},
     "output_type": "execute_result"
    }
   ],
   "source": [
    "vec = np.array(df['preselsPassedVec'].array())\n",
    "vec"
   ]
  },
  {
   "cell_type": "code",
   "execution_count": 29,
   "metadata": {},
   "outputs": [],
   "source": [
    "consec = df['preselsPassedConsec'].array()"
   ]
  },
  {
   "cell_type": "code",
   "execution_count": 30,
   "metadata": {},
   "outputs": [
    {
     "data": {
      "text/html": [
       "<pre>[1,\n",
       " 1,\n",
       " 1,\n",
       " 1,\n",
       " 1,\n",
       " 1,\n",
       " 1,\n",
       " 1,\n",
       " 1,\n",
       " 1,\n",
       " ...,\n",
       " 1,\n",
       " 1,\n",
       " 1,\n",
       " 2,\n",
       " 1,\n",
       " 1,\n",
       " 1,\n",
       " 1,\n",
       " 1]\n",
       "-----------------\n",
       "type: 497 * int32</pre>"
      ],
      "text/plain": [
       "<Array [1, 1, 1, 1, 1, 1, 1, 1, ..., 1, 1, 2, 1, 1, 1, 1, 1] type='497 * int32'>"
      ]
     },
     "execution_count": 30,
     "metadata": {},
     "output_type": "execute_result"
    }
   ],
   "source": [
    "consec"
   ]
  },
  {
   "cell_type": "code",
   "execution_count": 31,
   "metadata": {},
   "outputs": [
    {
     "data": {
      "text/plain": [
       "<Axes: ylabel='Count'>"
      ]
     },
     "execution_count": 31,
     "metadata": {},
     "output_type": "execute_result"
    },
    {
     "data": {
      "image/png": "[encoded data removed]",
      "text/plain": [
       "<Figure size 640x480 with 1 Axes>"
      ]
     },
     "metadata": {},
     "output_type": "display_data"
    }
   ],
   "source": [
    "sns.histplot(consec)"
   ]
  },
  {
   "cell_type": "code",
   "execution_count": 32,
   "metadata": {},
   "outputs": [
    {
     "data": {
      "text/plain": [
       "12"
      ]
     },
     "execution_count": 32,
     "metadata": {},
     "output_type": "execute_result"
    }
   ],
   "source": [
    "len(vec.T)"
   ]
  },
  {
   "cell_type": "code",
   "execution_count": 33,
   "metadata": {},
   "outputs": [
    {
     "name": "stdout",
     "output_type": "stream",
     "text": [
      "Events which passed: []\n"
     ]
    }
   ],
   "source": [
    "bars = list(range(len(vec.T) + 1))\n",
    "vals = [len(vec)]\n",
    "\n",
    "temp = np.ones(len(vec), dtype=int)\n",
    "\n",
    "for i in range(len(vec.T)):\n",
    "    temp = temp & vec.T[i]\n",
    "    vals.append(np.sum(temp))\n",
    "    \n",
    "    if i == len(vec.T) - 1:\n",
    "        mask_final = temp == 1\n",
    "    \n",
    "del temp\n",
    "\n",
    "print(f\"Events which passed: {df['event'].array()[mask_final]}\")"
   ]
  },
  {
   "cell_type": "code",
   "execution_count": 34,
   "metadata": {},
   "outputs": [
    {
     "data": {
      "text/plain": [
       "([0, 1, 2, 3, 4, 5, 6, 7, 8, 9, 10, 11, 12],\n",
       " [497, 497, 2, 0, 0, 0, 0, 0, 0, 0, 0, 0, 0])"
      ]
     },
     "execution_count": 34,
     "metadata": {},
     "output_type": "execute_result"
    }
   ],
   "source": [
    "bars, vals"
   ]
  },
  {
   "cell_type": "code",
   "execution_count": 35,
   "metadata": {},
   "outputs": [
    {
     "name": "stderr",
     "output_type": "stream",
     "text": [
      "/tmp/ipykernel_927131/3617261500.py:24: UserWarning: set_ticklabels() should only be used with a fixed number of ticks, i.e. after set_ticks() or using a FixedLocator.\n",
      "  ax.set_xticklabels(desc, rotation=45)\n"
     ]
    },
    {
     "data": {
      "text/plain": [
       "[Text(0, 0, 'All'),\n",
       " Text(1, 0, 'nJets'),\n",
       " Text(2, 0, 'nIsoLeps'),\n",
       " Text(3, 0, 'DiLepMDif'),\n",
       " Text(4, 0, 'DiJetMDif1'),\n",
       " Text(5, 0, 'DiJetMWdw1'),\n",
       " Text(6, 0, 'DiJetMDif2'),\n",
       " Text(7, 0, 'DiJetMWdw2'),\n",
       " Text(8, 0, 'MissPTWdw'),\n",
       " Text(9, 0, 'Thrust'),\n",
       " Text(10, 0, 'Evis'),\n",
       " Text(11, 0, 'MinHHMass'),\n",
       " Text(12, 0, 'nBJets')]"
      ]
     },
     "execution_count": 35,
     "metadata": {},
     "output_type": "execute_result"
    },
    {
     "data": {
      "image/png": "[encoded data removed]",
      "text/plain": [
       "<Figure size 640x480 with 1 Axes>"
      ]
     },
     "metadata": {},
     "output_type": "display_data"
    }
   ],
   "source": [
    "ax = sns.barplot(x=bars, y=vals, )\n",
    "ax.set_yscale('log')\n",
    "ax.set_ylabel('Number of events')\n",
    "ax.set_xlabel('Preselection cut')\n",
    "ax.set_title('Events surviving cats')\n",
    "\n",
    "desc = [\n",
    "    'All',\n",
    "    'nJets',\n",
    "    'nIsoLeps',\n",
    "    'DiLepMDif',\n",
    "    \n",
    "    'DiJetMDif1',\n",
    "    'DiJetMWdw1',\n",
    "    'DiJetMDif2',\n",
    "    'DiJetMWdw2',\n",
    "    \n",
    "    'MissPTWdw',\n",
    "    'Thrust',\n",
    "    'Evis',\n",
    "    'MinHHMass',\n",
    "    'nBJets',\n",
    "]\n",
    "ax.set_xticklabels(desc, rotation=45)"
   ]
  },
  {
   "cell_type": "code",
   "execution_count": 49,
   "metadata": {},
   "outputs": [
    {
     "data": {
      "text/plain": [
       "{0: '/pnfs/desy.de/ilc/prod/ilc/mc-2020/ild/dst-merged/500-TDR_ws/2f_Z_hadronic/ILD_l5_o1_v02/v02-02-03/00015902/000/rv02-02-03.sv02-02-03.mILD_l5_o1_v02.E500-TDR_ws.I500259.P2f_z_h.eL.pR.n000.d_dstm_15902_0.slcio',\n",
       " 1: '/pnfs/desy.de/ilc/prod/ilc/mc-2020/ild/dst-merged/500-TDR_ws/2f_Z_hadronic/ILD_l5_o1_v02/v02-02-03/00015902/000/rv02-02-03.sv02-02-03.mILD_l5_o1_v02.E500-TDR_ws.I500259.P2f_z_h.eL.pR.n000.d_dstm_15902_1.slcio'}"
      ]
     },
     "execution_count": 49,
     "metadata": {},
     "output_type": "execute_result"
    }
   ],
   "source": [
    "from glob import glob\n",
    "\n",
    "def get_files() -> dict[int, str]:\n",
    "    arr = glob(\"/pnfs/desy.de/ilc/prod/ilc/mc-2020/ild/dst-merged/500-TDR_ws/2f_Z_hadronic/ILD_l5_o1_v02/v02-02-03/*/*/*.slcio\")\n",
    "    arr.sort()\n",
    "    \n",
    "    res = { k: v for k, v in zip(list(range(len(arr))), arr) }\n",
    "    \n",
    "    return res\n",
    "\n",
    "get_files()"
   ]
  },
  {
   "cell_type": "code",
   "execution_count": 48,
   "metadata": {},
   "outputs": [
    {
     "ename": "AttributeError",
     "evalue": "'list' object has no attribute 'values'",
     "output_type": "error",
     "traceback": [
      "\u001b[0;31m---------------------------------------------------------------------------\u001b[0m",
      "\u001b[0;31mAttributeError\u001b[0m                            Traceback (most recent call last)",
      "Cell \u001b[0;32mIn[48], line 1\u001b[0m\n\u001b[0;32m----> 1\u001b[0m \u001b[43m[\u001b[49m\u001b[43m]\u001b[49m\u001b[38;5;241;43m.\u001b[39;49m\u001b[43mvalues\u001b[49m()\n",
      "\u001b[0;31mAttributeError\u001b[0m: 'list' object has no attribute 'values'"
     ]
    }
   ],
   "source": []
  },
  {
   "cell_type": "code",
   "execution_count": null,
   "metadata": {},
   "outputs": [],
   "source": []
  }
 ],
 "metadata": {
  "kernelspec": {
   "display_name": "py311",
   "language": "python",
   "name": "python3"
  },
  "language_info": {
   "codemirror_mode": {
    "name": "ipython",
    "version": 3
   },
   "file_extension": ".py",
   "mimetype": "text/x-python",
   "name": "python",
   "nbconvert_exporter": "python",
   "pygments_lexer": "ipython3",
   "version": "3.11.9"
  }
 },
 "nbformat": 4,
 "nbformat_minor": 2
}
