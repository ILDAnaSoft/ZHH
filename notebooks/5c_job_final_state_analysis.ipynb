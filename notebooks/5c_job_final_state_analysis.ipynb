{
 "cells": [
  {
   "cell_type": "code",
   "execution_count": 138,
   "metadata": {},
   "outputs": [],
   "source": [
    "from glob import glob\n",
    "from typing import Union, Optional\n",
    "from tqdm.auto import tqdm\n",
    "import uproot as ur\n",
    "import numpy as np\n",
    "import json\n",
    "from phc import module_reload\n",
    "module_reload('zhh')\n",
    "from zhh import get_raw_files, get_preselection_meta, get_preselection_summary\n",
    "\n",
    "version = 'v1'\n",
    "REPO_ROOT = '/afs/desy.de/user/b/bliewert/public/MarlinWorkdirs/ZHH'\n",
    "DATA_ROOT = f'/nfs/dust/ilc/user/bliewert/zhh/Preselection/{version}'"
   ]
  },
  {
   "cell_type": "code",
   "execution_count": 139,
   "metadata": {},
   "outputs": [
    {
     "name": "stdout",
     "output_type": "stream",
     "text": [
      "116\n"
     ]
    }
   ],
   "source": [
    "rf = get_raw_files(debug=True)\n",
    "print(len(rf))"
   ]
  },
  {
   "cell_type": "code",
   "execution_count": 140,
   "metadata": {},
   "outputs": [],
   "source": [
    "meta = get_preselection_meta(DATA_ROOT)"
   ]
  },
  {
   "cell_type": "code",
   "execution_count": 141,
   "metadata": {},
   "outputs": [
    {
     "name": "stdout",
     "output_type": "stream",
     "text": [
      "{'job_id': 'dummy_job_id', 'branches': [0], 'status': 'retry', 'code': 0, 'error': 'unknown job id', 'extra': {'log': '/nfs/dust/ilc/user/bliewert/zhh/Preselection/v1/stdall_0To1.txt'}}\n",
      "{'job_id': 'dummy_job_id', 'branches': [1], 'status': 'retry', 'code': 0, 'error': 'unknown job id', 'extra': {'log': '/nfs/dust/ilc/user/bliewert/zhh/Preselection/v1/stdall_1To2.txt'}}\n",
      "{'job_id': 'dummy_job_id', 'branches': [2], 'status': 'retry', 'code': 0, 'error': 'unknown job id', 'extra': {'log': '/nfs/dust/ilc/user/bliewert/zhh/Preselection/v1/stdall_2To3.txt'}}\n",
      "{'job_id': 'dummy_job_id', 'branches': [3], 'status': 'retry', 'code': 0, 'error': 'unknown job id', 'extra': {'log': '/nfs/dust/ilc/user/bliewert/zhh/Preselection/v1/stdall_3To4.txt'}}\n",
      "{'job_id': 'dummy_job_id', 'branches': [4], 'status': 'retry', 'code': 0, 'error': 'unknown job id', 'extra': {'log': '/nfs/dust/ilc/user/bliewert/zhh/Preselection/v1/stdall_4To5.txt'}}\n",
      "{'job_id': 'dummy_job_id', 'branches': [5], 'status': 'retry', 'code': 0, 'error': 'unknown job id', 'extra': {'log': '/nfs/dust/ilc/user/bliewert/zhh/Preselection/v1/stdall_5To6.txt'}}\n",
      "{'job_id': 'dummy_job_id', 'branches': [6], 'status': 'retry', 'code': 0, 'error': 'unknown job id', 'extra': {'log': '/nfs/dust/ilc/user/bliewert/zhh/Preselection/v1/stdall_6To7.txt'}}\n",
      "{'job_id': 'dummy_job_id', 'branches': [7], 'status': 'retry', 'code': 0, 'error': 'unknown job id', 'extra': {'log': '/nfs/dust/ilc/user/bliewert/zhh/Preselection/v1/stdall_7To8.txt'}}\n",
      "{'job_id': 'dummy_job_id', 'branches': [8], 'status': 'retry', 'code': 0, 'error': 'unknown job id', 'extra': {'log': '/nfs/dust/ilc/user/bliewert/zhh/Preselection/v1/stdall_8To9.txt'}}\n",
      "{'job_id': 'dummy_job_id', 'branches': [9], 'status': 'retry', 'code': 0, 'error': 'unknown job id', 'extra': {'log': '/nfs/dust/ilc/user/bliewert/zhh/Preselection/v1/stdall_9To10.txt'}}\n",
      "{'job_id': 'dummy_job_id', 'branches': [10], 'status': 'retry', 'code': 0, 'error': 'unknown job id', 'extra': {'log': '/nfs/dust/ilc/user/bliewert/zhh/Preselection/v1/stdall_10To11.txt'}}\n",
      "{'job_id': 'dummy_job_id', 'branches': [11], 'status': 'retry', 'code': 0, 'error': 'unknown job id', 'extra': {'log': '/nfs/dust/ilc/user/bliewert/zhh/Preselection/v1/stdall_11To12.txt'}}\n",
      "{'job_id': 'dummy_job_id', 'branches': [12], 'status': 'retry', 'code': 0, 'error': 'unknown job id', 'extra': {'log': '/nfs/dust/ilc/user/bliewert/zhh/Preselection/v1/stdall_12To13.txt'}}\n",
      "{'job_id': 'dummy_job_id', 'branches': [13], 'status': 'retry', 'code': 0, 'error': 'unknown job id', 'extra': {'log': '/nfs/dust/ilc/user/bliewert/zhh/Preselection/v1/stdall_13To14.txt'}}\n",
      "{'job_id': 'dummy_job_id', 'branches': [14], 'status': 'retry', 'code': 0, 'error': 'unknown job id', 'extra': {'log': '/nfs/dust/ilc/user/bliewert/zhh/Preselection/v1/stdall_14To15.txt'}}\n",
      "{'job_id': 'dummy_job_id', 'branches': [15], 'status': 'retry', 'code': 0, 'error': 'unknown job id', 'extra': {'log': '/nfs/dust/ilc/user/bliewert/zhh/Preselection/v1/stdall_15To16.txt'}}\n",
      "{'job_id': 'dummy_job_id', 'branches': [16], 'status': 'retry', 'code': 0, 'error': 'unknown job id', 'extra': {'log': '/nfs/dust/ilc/user/bliewert/zhh/Preselection/v1/stdall_16To17.txt'}}\n",
      "{'job_id': 'dummy_job_id', 'branches': [17], 'status': 'retry', 'code': 0, 'error': 'unknown job id', 'extra': {'log': '/nfs/dust/ilc/user/bliewert/zhh/Preselection/v1/stdall_17To18.txt'}}\n",
      "{'job_id': 'dummy_job_id', 'branches': [18], 'status': 'retry', 'code': 0, 'error': 'unknown job id', 'extra': {'log': '/nfs/dust/ilc/user/bliewert/zhh/Preselection/v1/stdall_18To19.txt'}}\n",
      "{'job_id': 'dummy_job_id', 'branches': [19], 'status': 'retry', 'code': 0, 'error': 'unknown job id', 'extra': {'log': '/nfs/dust/ilc/user/bliewert/zhh/Preselection/v1/stdall_19To20.txt'}}\n",
      "{'job_id': 'dummy_job_id', 'branches': [20], 'status': 'retry', 'code': 0, 'error': 'unknown job id', 'extra': {'log': '/nfs/dust/ilc/user/bliewert/zhh/Preselection/v1/stdall_20To21.txt'}}\n",
      "{'job_id': 'dummy_job_id', 'branches': [21], 'status': 'retry', 'code': 0, 'error': 'unknown job id', 'extra': {'log': '/nfs/dust/ilc/user/bliewert/zhh/Preselection/v1/stdall_21To22.txt'}}\n",
      "{'job_id': 'dummy_job_id', 'branches': [22], 'status': 'retry', 'code': 0, 'error': 'unknown job id', 'extra': {'log': '/nfs/dust/ilc/user/bliewert/zhh/Preselection/v1/stdall_22To23.txt'}}\n",
      "{'job_id': 'dummy_job_id', 'branches': [23], 'status': 'retry', 'code': 0, 'error': 'unknown job id', 'extra': {'log': '/nfs/dust/ilc/user/bliewert/zhh/Preselection/v1/stdall_23To24.txt'}}\n",
      "{'job_id': '262462.24', 'branches': [24], 'status': 'running', 'code': 0, 'error': None, 'extra': {'log': '/nfs/dust/ilc/user/bliewert/zhh/Preselection/v1/stdall_24To25.txt'}}\n",
      "{'job_id': '262462.25', 'branches': [25], 'status': 'running', 'code': 0, 'error': None, 'extra': {'log': '/nfs/dust/ilc/user/bliewert/zhh/Preselection/v1/stdall_25To26.txt'}}\n",
      "{'job_id': 'dummy_job_id', 'branches': [26], 'status': 'retry', 'code': 0, 'error': 'unknown job id', 'extra': {'log': '/nfs/dust/ilc/user/bliewert/zhh/Preselection/v1/stdall_26To27.txt'}}\n",
      "{'job_id': 'dummy_job_id', 'branches': [27], 'status': 'retry', 'code': 0, 'error': 'unknown job id', 'extra': {'log': '/nfs/dust/ilc/user/bliewert/zhh/Preselection/v1/stdall_27To28.txt'}}\n",
      "{'job_id': 'dummy_job_id', 'branches': [28], 'status': 'retry', 'code': 0, 'error': 'unknown job id', 'extra': {'log': '/nfs/dust/ilc/user/bliewert/zhh/Preselection/v1/stdall_28To29.txt'}}\n",
      "{'job_id': '262462.29', 'branches': [29], 'status': 'running', 'code': 0, 'error': None, 'extra': {'log': '/nfs/dust/ilc/user/bliewert/zhh/Preselection/v1/stdall_29To30.txt'}}\n",
      "{'job_id': 'dummy_job_id', 'branches': [30], 'status': 'retry', 'code': 0, 'error': 'unknown job id', 'extra': {'log': '/nfs/dust/ilc/user/bliewert/zhh/Preselection/v1/stdall_30To31.txt'}}\n",
      "{'job_id': 'dummy_job_id', 'branches': [31], 'status': 'retry', 'code': 0, 'error': 'unknown job id', 'extra': {'log': '/nfs/dust/ilc/user/bliewert/zhh/Preselection/v1/stdall_31To32.txt'}}\n",
      "{'job_id': 'dummy_job_id', 'branches': [32], 'status': 'retry', 'code': 0, 'error': 'unknown job id', 'extra': {'log': '/nfs/dust/ilc/user/bliewert/zhh/Preselection/v1/stdall_32To33.txt'}}\n",
      "{'job_id': 'dummy_job_id', 'branches': [33], 'status': 'retry', 'code': 0, 'error': 'unknown job id', 'extra': {'log': '/nfs/dust/ilc/user/bliewert/zhh/Preselection/v1/stdall_33To34.txt'}}\n",
      "{'job_id': 'dummy_job_id', 'branches': [34], 'status': 'retry', 'code': 0, 'error': 'unknown job id', 'extra': {'log': '/nfs/dust/ilc/user/bliewert/zhh/Preselection/v1/stdall_34To35.txt'}}\n",
      "{'job_id': 'dummy_job_id', 'branches': [35], 'status': 'retry', 'code': 0, 'error': 'unknown job id', 'extra': {'log': '/nfs/dust/ilc/user/bliewert/zhh/Preselection/v1/stdall_35To36.txt'}}\n",
      "{'job_id': 'dummy_job_id', 'branches': [36], 'status': 'retry', 'code': 0, 'error': 'unknown job id', 'extra': {'log': '/nfs/dust/ilc/user/bliewert/zhh/Preselection/v1/stdall_36To37.txt'}}\n",
      "{'job_id': 'dummy_job_id', 'branches': [37], 'status': 'retry', 'code': 0, 'error': 'unknown job id', 'extra': {'log': '/nfs/dust/ilc/user/bliewert/zhh/Preselection/v1/stdall_37To38.txt'}}\n",
      "{'job_id': 'dummy_job_id', 'branches': [38], 'status': 'retry', 'code': 0, 'error': 'unknown job id', 'extra': {'log': '/nfs/dust/ilc/user/bliewert/zhh/Preselection/v1/stdall_38To39.txt'}}\n",
      "{'job_id': 'dummy_job_id', 'branches': [39], 'status': 'retry', 'code': 0, 'error': 'unknown job id', 'extra': {'log': '/nfs/dust/ilc/user/bliewert/zhh/Preselection/v1/stdall_39To40.txt'}}\n",
      "{'job_id': 'dummy_job_id', 'branches': [40], 'status': 'retry', 'code': 0, 'error': 'unknown job id', 'extra': {'log': '/nfs/dust/ilc/user/bliewert/zhh/Preselection/v1/stdall_40To41.txt'}}\n",
      "{'job_id': 'dummy_job_id', 'branches': [41], 'status': 'retry', 'code': 0, 'error': 'unknown job id', 'extra': {'log': '/nfs/dust/ilc/user/bliewert/zhh/Preselection/v1/stdall_41To42.txt'}}\n",
      "{'job_id': 'dummy_job_id', 'branches': [42], 'status': 'retry', 'code': 0, 'error': 'unknown job id', 'extra': {'log': '/nfs/dust/ilc/user/bliewert/zhh/Preselection/v1/stdall_42To43.txt'}}\n",
      "{'job_id': 'dummy_job_id', 'branches': [43], 'status': 'retry', 'code': 0, 'error': 'unknown job id', 'extra': {'log': '/nfs/dust/ilc/user/bliewert/zhh/Preselection/v1/stdall_43To44.txt'}}\n",
      "{'job_id': 'dummy_job_id', 'branches': [44], 'status': 'retry', 'code': 0, 'error': 'unknown job id', 'extra': {'log': '/nfs/dust/ilc/user/bliewert/zhh/Preselection/v1/stdall_44To45.txt'}}\n",
      "{'job_id': 'dummy_job_id', 'branches': [45], 'status': 'retry', 'code': 0, 'error': 'unknown job id', 'extra': {'log': '/nfs/dust/ilc/user/bliewert/zhh/Preselection/v1/stdall_45To46.txt'}}\n",
      "{'job_id': 'dummy_job_id', 'branches': [46], 'status': 'retry', 'code': 0, 'error': 'unknown job id', 'extra': {'log': '/nfs/dust/ilc/user/bliewert/zhh/Preselection/v1/stdall_46To47.txt'}}\n",
      "{'job_id': 'dummy_job_id', 'branches': [47], 'status': 'retry', 'code': 0, 'error': 'unknown job id', 'extra': {'log': '/nfs/dust/ilc/user/bliewert/zhh/Preselection/v1/stdall_47To48.txt'}}\n",
      "{'job_id': 'dummy_job_id', 'branches': [48], 'status': 'retry', 'code': 0, 'error': 'unknown job id', 'extra': {'log': '/nfs/dust/ilc/user/bliewert/zhh/Preselection/v1/stdall_48To49.txt'}}\n",
      "{'job_id': 'dummy_job_id', 'branches': [49], 'status': 'retry', 'code': 0, 'error': 'unknown job id', 'extra': {'log': '/nfs/dust/ilc/user/bliewert/zhh/Preselection/v1/stdall_49To50.txt'}}\n",
      "{'job_id': 'dummy_job_id', 'branches': [50], 'status': 'retry', 'code': 0, 'error': 'unknown job id', 'extra': {'log': '/nfs/dust/ilc/user/bliewert/zhh/Preselection/v1/stdall_50To51.txt'}}\n",
      "{'job_id': 'dummy_job_id', 'branches': [51], 'status': 'retry', 'code': 0, 'error': 'unknown job id', 'extra': {'log': '/nfs/dust/ilc/user/bliewert/zhh/Preselection/v1/stdall_51To52.txt'}}\n",
      "{'job_id': 'dummy_job_id', 'branches': [52], 'status': 'retry', 'code': 0, 'error': 'unknown job id', 'extra': {'log': '/nfs/dust/ilc/user/bliewert/zhh/Preselection/v1/stdall_52To53.txt'}}\n",
      "{'job_id': 'dummy_job_id', 'branches': [53], 'status': 'retry', 'code': 0, 'error': 'unknown job id', 'extra': {'log': '/nfs/dust/ilc/user/bliewert/zhh/Preselection/v1/stdall_53To54.txt'}}\n",
      "{'job_id': 'dummy_job_id', 'branches': [54], 'status': 'retry', 'code': 0, 'error': 'unknown job id', 'extra': {'log': '/nfs/dust/ilc/user/bliewert/zhh/Preselection/v1/stdall_54To55.txt'}}\n",
      "{'job_id': 'dummy_job_id', 'branches': [55], 'status': 'retry', 'code': 0, 'error': 'unknown job id', 'extra': {'log': '/nfs/dust/ilc/user/bliewert/zhh/Preselection/v1/stdall_55To56.txt'}}\n",
      "{'job_id': 'dummy_job_id', 'branches': [56], 'status': 'retry', 'code': 0, 'error': 'unknown job id', 'extra': {'log': '/nfs/dust/ilc/user/bliewert/zhh/Preselection/v1/stdall_56To57.txt'}}\n",
      "{'job_id': 'dummy_job_id', 'branches': [57], 'status': 'retry', 'code': 0, 'error': 'unknown job id', 'extra': {'log': '/nfs/dust/ilc/user/bliewert/zhh/Preselection/v1/stdall_57To58.txt'}}\n",
      "{'job_id': 'dummy_job_id', 'branches': [58], 'status': 'retry', 'code': 0, 'error': 'unknown job id', 'extra': {'log': '/nfs/dust/ilc/user/bliewert/zhh/Preselection/v1/stdall_58To59.txt'}}\n",
      "{'job_id': 'dummy_job_id', 'branches': [59], 'status': 'retry', 'code': 0, 'error': 'unknown job id', 'extra': {'log': '/nfs/dust/ilc/user/bliewert/zhh/Preselection/v1/stdall_59To60.txt'}}\n",
      "{'job_id': 'dummy_job_id', 'branches': [60], 'status': 'retry', 'code': 0, 'error': 'unknown job id', 'extra': {'log': '/nfs/dust/ilc/user/bliewert/zhh/Preselection/v1/stdall_60To61.txt'}}\n",
      "{'job_id': 'dummy_job_id', 'branches': [61], 'status': 'retry', 'code': 0, 'error': 'unknown job id', 'extra': {'log': '/nfs/dust/ilc/user/bliewert/zhh/Preselection/v1/stdall_61To62.txt'}}\n",
      "{'job_id': 'dummy_job_id', 'branches': [62], 'status': 'retry', 'code': 0, 'error': 'unknown job id', 'extra': {'log': '/nfs/dust/ilc/user/bliewert/zhh/Preselection/v1/stdall_62To63.txt'}}\n",
      "{'job_id': 'dummy_job_id', 'branches': [63], 'status': 'retry', 'code': 0, 'error': 'unknown job id', 'extra': {'log': '/nfs/dust/ilc/user/bliewert/zhh/Preselection/v1/stdall_63To64.txt'}}\n",
      "{'job_id': 'dummy_job_id', 'branches': [64], 'status': 'retry', 'code': 0, 'error': 'unknown job id', 'extra': {'log': '/nfs/dust/ilc/user/bliewert/zhh/Preselection/v1/stdall_64To65.txt'}}\n",
      "{'job_id': 'dummy_job_id', 'branches': [65], 'status': 'retry', 'code': 0, 'error': 'unknown job id', 'extra': {'log': '/nfs/dust/ilc/user/bliewert/zhh/Preselection/v1/stdall_65To66.txt'}}\n",
      "{'job_id': 'dummy_job_id', 'branches': [66], 'status': 'retry', 'code': 0, 'error': 'unknown job id', 'extra': {'log': '/nfs/dust/ilc/user/bliewert/zhh/Preselection/v1/stdall_66To67.txt'}}\n",
      "{'job_id': 'dummy_job_id', 'branches': [67], 'status': 'retry', 'code': 0, 'error': 'unknown job id', 'extra': {'log': '/nfs/dust/ilc/user/bliewert/zhh/Preselection/v1/stdall_67To68.txt'}}\n",
      "{'job_id': '262462.68', 'branches': [68], 'status': 'running', 'code': 0, 'error': None, 'extra': {'log': '/nfs/dust/ilc/user/bliewert/zhh/Preselection/v1/stdall_68To69.txt'}}\n",
      "{'job_id': '262462.69', 'branches': [69], 'status': 'running', 'code': 0, 'error': None, 'extra': {'log': '/nfs/dust/ilc/user/bliewert/zhh/Preselection/v1/stdall_69To70.txt'}}\n",
      "{'job_id': '262462.70', 'branches': [70], 'status': 'running', 'code': 0, 'error': None, 'extra': {'log': '/nfs/dust/ilc/user/bliewert/zhh/Preselection/v1/stdall_70To71.txt'}}\n",
      "{'job_id': '262462.71', 'branches': [71], 'status': 'running', 'code': 0, 'error': None, 'extra': {'log': '/nfs/dust/ilc/user/bliewert/zhh/Preselection/v1/stdall_71To72.txt'}}\n",
      "{'job_id': 'dummy_job_id', 'branches': [72], 'status': 'retry', 'code': 0, 'error': 'unknown job id', 'extra': {'log': '/nfs/dust/ilc/user/bliewert/zhh/Preselection/v1/stdall_72To73.txt'}}\n",
      "{'job_id': 'dummy_job_id', 'branches': [73], 'status': 'retry', 'code': 0, 'error': 'unknown job id', 'extra': {'log': '/nfs/dust/ilc/user/bliewert/zhh/Preselection/v1/stdall_73To74.txt'}}\n",
      "{'job_id': 'dummy_job_id', 'branches': [74], 'status': 'retry', 'code': 0, 'error': 'unknown job id', 'extra': {'log': '/nfs/dust/ilc/user/bliewert/zhh/Preselection/v1/stdall_74To75.txt'}}\n",
      "{'job_id': 'dummy_job_id', 'branches': [75], 'status': 'retry', 'code': 0, 'error': 'unknown job id', 'extra': {'log': '/nfs/dust/ilc/user/bliewert/zhh/Preselection/v1/stdall_75To76.txt'}}\n",
      "{'job_id': 'dummy_job_id', 'branches': [76], 'status': 'retry', 'code': 0, 'error': 'unknown job id', 'extra': {'log': '/nfs/dust/ilc/user/bliewert/zhh/Preselection/v1/stdall_76To77.txt'}}\n",
      "{'job_id': 'dummy_job_id', 'branches': [77], 'status': 'retry', 'code': 0, 'error': 'unknown job id', 'extra': {'log': '/nfs/dust/ilc/user/bliewert/zhh/Preselection/v1/stdall_77To78.txt'}}\n",
      "{'job_id': 'dummy_job_id', 'branches': [78], 'status': 'retry', 'code': 0, 'error': 'unknown job id', 'extra': {'log': '/nfs/dust/ilc/user/bliewert/zhh/Preselection/v1/stdall_78To79.txt'}}\n",
      "{'job_id': 'dummy_job_id', 'branches': [79], 'status': 'retry', 'code': 0, 'error': 'unknown job id', 'extra': {'log': '/nfs/dust/ilc/user/bliewert/zhh/Preselection/v1/stdall_79To80.txt'}}\n",
      "{'job_id': 'dummy_job_id', 'branches': [80], 'status': 'retry', 'code': 0, 'error': 'unknown job id', 'extra': {'log': '/nfs/dust/ilc/user/bliewert/zhh/Preselection/v1/stdall_80To81.txt'}}\n",
      "{'job_id': 'dummy_job_id', 'branches': [81], 'status': 'retry', 'code': 0, 'error': 'unknown job id', 'extra': {'log': '/nfs/dust/ilc/user/bliewert/zhh/Preselection/v1/stdall_81To82.txt'}}\n",
      "{'job_id': 'dummy_job_id', 'branches': [82], 'status': 'retry', 'code': 0, 'error': 'unknown job id', 'extra': {'log': '/nfs/dust/ilc/user/bliewert/zhh/Preselection/v1/stdall_82To83.txt'}}\n",
      "{'job_id': 'dummy_job_id', 'branches': [83], 'status': 'retry', 'code': 0, 'error': 'unknown job id', 'extra': {'log': '/nfs/dust/ilc/user/bliewert/zhh/Preselection/v1/stdall_83To84.txt'}}\n",
      "{'job_id': 'dummy_job_id', 'branches': [84], 'status': 'retry', 'code': 0, 'error': 'unknown job id', 'extra': {'log': '/nfs/dust/ilc/user/bliewert/zhh/Preselection/v1/stdall_84To85.txt'}}\n",
      "{'job_id': 'dummy_job_id', 'branches': [85], 'status': 'retry', 'code': 0, 'error': 'unknown job id', 'extra': {'log': '/nfs/dust/ilc/user/bliewert/zhh/Preselection/v1/stdall_85To86.txt'}}\n",
      "{'job_id': 'dummy_job_id', 'branches': [86], 'status': 'retry', 'code': 0, 'error': 'unknown job id', 'extra': {'log': '/nfs/dust/ilc/user/bliewert/zhh/Preselection/v1/stdall_86To87.txt'}}\n",
      "{'job_id': 'dummy_job_id', 'branches': [87], 'status': 'retry', 'code': 0, 'error': 'unknown job id', 'extra': {'log': '/nfs/dust/ilc/user/bliewert/zhh/Preselection/v1/stdall_87To88.txt'}}\n",
      "{'job_id': '262488.0', 'branches': [88], 'status': 'running', 'code': 0, 'error': None, 'extra': {'log': '/nfs/dust/ilc/user/bliewert/zhh/Preselection/v1/stdall_88To89.txt'}}\n",
      "{'job_id': '262483.0', 'branches': [89], 'status': 'retry', 'code': 60, 'error': \"job status set to 'failed' due to non-zero exit code 60\", 'extra': {'log': '/nfs/dust/ilc/user/bliewert/zhh/Preselection/v1/stdall_89To90.txt'}}\n",
      "{'job_id': '262492.0', 'branches': [90], 'status': 'failed', 'code': 60, 'error': \"job status set to 'failed' due to non-zero exit code 60\", 'extra': {'log': '/nfs/dust/ilc/user/bliewert/zhh/Preselection/v1/stdall_90To91.txt'}}\n",
      "{'job_id': '262493.0', 'branches': [91], 'status': 'retry', 'code': 60, 'error': \"job status set to 'failed' due to non-zero exit code 60\", 'extra': {'log': '/nfs/dust/ilc/user/bliewert/zhh/Preselection/v1/stdall_91To92.txt'}}\n",
      "{'job_id': '262489.0', 'branches': [92], 'status': 'running', 'code': 0, 'error': None, 'extra': {'log': '/nfs/dust/ilc/user/bliewert/zhh/Preselection/v1/stdall_92To93.txt'}}\n",
      "{'job_id': '262491.0', 'branches': [93], 'status': 'failed', 'code': 60, 'error': \"job status set to 'failed' due to non-zero exit code 60\", 'extra': {'log': '/nfs/dust/ilc/user/bliewert/zhh/Preselection/v1/stdall_93To94.txt'}}\n",
      "{'job_id': '262497.0', 'branches': [94], 'status': 'running', 'code': 0, 'error': None, 'extra': {'log': '/nfs/dust/ilc/user/bliewert/zhh/Preselection/v1/stdall_94To95.txt'}}\n",
      "{'job_id': '262491.1', 'branches': [95], 'status': 'failed', 'code': 60, 'error': \"job status set to 'failed' due to non-zero exit code 60\", 'extra': {'log': '/nfs/dust/ilc/user/bliewert/zhh/Preselection/v1/stdall_95To96.txt'}}\n",
      "{'job_id': '262493.1', 'branches': [96], 'status': 'failed', 'code': 60, 'error': \"job status set to 'failed' due to non-zero exit code 60\", 'extra': {'log': '/nfs/dust/ilc/user/bliewert/zhh/Preselection/v1/stdall_96To97.txt'}}\n",
      "{'job_id': '262495.0', 'branches': [97], 'status': 'running', 'code': 0, 'error': None, 'extra': {'log': '/nfs/dust/ilc/user/bliewert/zhh/Preselection/v1/stdall_97To98.txt'}}\n",
      "{'job_id': '262499.0', 'branches': [98], 'status': 'running', 'code': 0, 'error': None, 'extra': {'log': '/nfs/dust/ilc/user/bliewert/zhh/Preselection/v1/stdall_98To99.txt'}}\n",
      "{'job_id': '262492.1', 'branches': [99], 'status': 'failed', 'code': 60, 'error': \"job status set to 'failed' due to non-zero exit code 60\", 'extra': {'log': '/nfs/dust/ilc/user/bliewert/zhh/Preselection/v1/stdall_99To100.txt'}}\n",
      "{'job_id': '262496.0', 'branches': [100], 'status': 'running', 'code': 0, 'error': None, 'extra': {'log': '/nfs/dust/ilc/user/bliewert/zhh/Preselection/v1/stdall_100To101.txt'}}\n",
      "{'job_id': '262486.0', 'branches': [101], 'status': 'retry', 'code': 60, 'error': \"job status set to 'failed' due to non-zero exit code 60\", 'extra': {'log': '/nfs/dust/ilc/user/bliewert/zhh/Preselection/v1/stdall_101To102.txt'}}\n",
      "{'job_id': '262498.0', 'branches': [102], 'status': 'running', 'code': 0, 'error': None, 'extra': {'log': '/nfs/dust/ilc/user/bliewert/zhh/Preselection/v1/stdall_102To103.txt'}}\n",
      "{'job_id': '262495.1', 'branches': [103], 'status': 'running', 'code': 0, 'error': None, 'extra': {'log': '/nfs/dust/ilc/user/bliewert/zhh/Preselection/v1/stdall_103To104.txt'}}\n",
      "{'job_id': '262496.1', 'branches': [104], 'status': 'running', 'code': 0, 'error': None, 'extra': {'log': '/nfs/dust/ilc/user/bliewert/zhh/Preselection/v1/stdall_104To105.txt'}}\n",
      "{'job_id': '262498.1', 'branches': [105], 'status': 'running', 'code': 0, 'error': None, 'extra': {'log': '/nfs/dust/ilc/user/bliewert/zhh/Preselection/v1/stdall_105To106.txt'}}\n",
      "{'job_id': '262497.1', 'branches': [106], 'status': 'running', 'code': 0, 'error': None, 'extra': {'log': '/nfs/dust/ilc/user/bliewert/zhh/Preselection/v1/stdall_106To107.txt'}}\n",
      "{'job_id': '262494.0', 'branches': [107], 'status': 'running', 'code': 0, 'error': None, 'extra': {'log': '/nfs/dust/ilc/user/bliewert/zhh/Preselection/v1/stdall_107To108.txt'}}\n",
      "{'job_id': '262493.2', 'branches': [108], 'status': 'failed', 'code': 60, 'error': \"job status set to 'failed' due to non-zero exit code 60\", 'extra': {'log': '/nfs/dust/ilc/user/bliewert/zhh/Preselection/v1/stdall_108To109.txt'}}\n",
      "{'job_id': '262500.0', 'branches': [109], 'status': 'running', 'code': 0, 'error': None, 'extra': {'log': '/nfs/dust/ilc/user/bliewert/zhh/Preselection/v1/stdall_109To110.txt'}}\n",
      "{'job_id': '262500.1', 'branches': [110], 'status': 'running', 'code': 0, 'error': None, 'extra': {'log': '/nfs/dust/ilc/user/bliewert/zhh/Preselection/v1/stdall_110To111.txt'}}\n",
      "{'job_id': '262489.1', 'branches': [111], 'status': 'running', 'code': 0, 'error': None, 'extra': {'log': '/nfs/dust/ilc/user/bliewert/zhh/Preselection/v1/stdall_111To112.txt'}}\n",
      "{'job_id': '262498.3', 'branches': [112], 'status': 'retry', 'code': 3, 'error': \"job status set to 'failed' due to non-zero exit code 3\", 'extra': {'log': '/nfs/dust/ilc/user/bliewert/zhh/Preselection/v1/stdall_112To113.txt'}}\n",
      "{'job_id': '262475.2', 'branches': [113], 'status': 'retry', 'code': 60, 'error': \"job status set to 'failed' due to non-zero exit code 60\", 'extra': {'log': '/nfs/dust/ilc/user/bliewert/zhh/Preselection/v1/stdall_113To114.txt'}}\n",
      "{'job_id': '262490.2', 'branches': [114], 'status': 'failed', 'code': 60, 'error': \"job status set to 'failed' due to non-zero exit code 60\", 'extra': {'log': '/nfs/dust/ilc/user/bliewert/zhh/Preselection/v1/stdall_114To115.txt'}}\n",
      "{'job_id': '262490.3', 'branches': [115], 'status': 'running', 'code': 0, 'error': None, 'extra': {'log': '/nfs/dust/ilc/user/bliewert/zhh/Preselection/v1/stdall_115To116.txt'}}\n"
     ]
    }
   ],
   "source": [
    "jobs = meta['jobs']\n",
    "for job_key in jobs:\n",
    "    job = jobs[job_key]\n",
    "    if job['status'] != 'finished':\n",
    "        print(job)"
   ]
  },
  {
   "cell_type": "code",
   "execution_count": 142,
   "metadata": {},
   "outputs": [],
   "source": [
    "results = get_preselection_summary(DATA_ROOT, meta)"
   ]
  },
  {
   "cell_type": "code",
   "execution_count": 143,
   "metadata": {},
   "outputs": [
    {
     "data": {
      "text/plain": [
       "array([('retry',   0, '2f_Z_bhabhaNg', '2f_z_bhabhang', -1, -1, '/pnfs/desy.de/ilc/prod/ilc/ild/copy/dst-merged/500-TDR_ws/2f_Z_bhabhaNg/ILD_l5_o1_v02/v02-00-01/rv02-00-01.sv02-00-01.mILD_l5_o1_v02.E500-TDR_ws.I250126.P2f_z_bhabhang.eL.pL.n001.d_dstm_10602_0.slcio', 1.7215213e+09, 1.7215213e+09,   72.389244,  0),\n",
       "       ('retry',   1, '2f_Z_bhabhaNg', '2f_z_bhabhang', -1,  1, '/pnfs/desy.de/ilc/prod/ilc/ild/copy/dst-merged/500-TDR_ws/2f_Z_bhabhaNg/ILD_l5_o1_v02/v02-00-01/rv02-00-01.sv02-00-01.mILD_l5_o1_v02.E500-TDR_ws.I250127.P2f_z_bhabhang.eL.pR.n001.d_dstm_10609_0.slcio', 1.7215213e+09, 1.7215213e+09,   45.122982,  0),\n",
       "       ('retry',   2, '2f_Z_bhabhaNg', '2f_z_bhabhang',  1, -1, '/pnfs/desy.de/ilc/prod/ilc/ild/copy/dst-merged/500-TDR_ws/2f_Z_bhabhaNg/ILD_l5_o1_v02/v02-00-01/rv02-00-01.sv02-00-01.mILD_l5_o1_v02.E500-TDR_ws.I250128.P2f_z_bhabhang.eR.pL.n001.d_dstm_10618_0.slcio', 1.7215213e+09, 1.7215213e+09,   73.733894,  0),\n",
       "       ('retry',   3, '2f_Z_bhabhaNg', '2f_z_bhabhang',  1,  1, '/pnfs/desy.de/ilc/prod/ilc/ild/copy/dst-merged/500-TDR_ws/2f_Z_bhabhaNg/ILD_l5_o1_v02/v02-00-01/rv02-00-01.sv02-00-01.mILD_l5_o1_v02.E500-TDR_ws.I250129.P2f_z_bhabhang.eR.pR.n001.d_dstm_10630_0.slcio', 1.7215213e+09, 1.7215213e+09,   56.102676,  0),\n",
       "       ('retry',   4, '2f_Z_bhabhag', '2f_z_bhabhag', -1, -1, '/pnfs/desy.de/ilc/prod/ilc/ild/copy/dst-merged/500-TDR_ws/2f_Z_bhabhag/ILD_l5_o1_v02/v02-00-01/rv02-00-01.sv02-00-01.mILD_l5_o1_v02.E500-TDR_ws.I250101.P2f_z_bhabhag.eL.pL.n001.d_dstm_10366_1.slcio', 1.7215213e+09, 1.7215213e+09,   48.113384,  0),\n",
       "       ('retry',   5, '2f_Z_bhabhag', '2f_z_bhabhag', -1,  1, '/pnfs/desy.de/ilc/prod/ilc/ild/copy/dst-merged/500-TDR_ws/2f_Z_bhabhag/ILD_l5_o1_v02/v02-00-01/rv02-00-01.sv02-00-01.mILD_l5_o1_v02.E500-TDR_ws.I250102.P2f_z_bhabhag.eL.pR.n001.d_dstm_10366_0.slcio', 1.7215213e+09, 1.7215213e+09,   49.338135,  0),\n",
       "       ('retry',   6, '2f_Z_bhabhag', '2f_z_bhabhag',  1,  1, '/pnfs/desy.de/ilc/prod/ilc/ild/copy/dst-merged/500-TDR_ws/2f_Z_bhabhag/ILD_l5_o1_v02/v02-00-01/rv02-00-01.sv02-00-01.mILD_l5_o1_v02.E500-TDR_ws.I250103.P2f_z_bhabhag.eR.pR.n001.d_dstm_10366_0.slcio', 1.7215213e+09, 1.7215213e+09,   70.9082  ,  0),\n",
       "       ('retry',   7, '2f_Z_bhabhag', '2f_z_bhabhag',  1, -1, '/pnfs/desy.de/ilc/prod/ilc/ild/copy/dst-merged/500-TDR_ws/2f_Z_bhabhag/ILD_l5_o1_v02/v02-00-01/rv02-00-01.sv02-00-01.mILD_l5_o1_v02.E500-TDR_ws.I250104.P2f_z_bhabhag.eR.pL.n001.d_dstm_10366_0.slcio', 1.7215213e+09, 1.7215213e+09,   60.1282  ,  0),\n",
       "       ('retry',   8, '2f_Z_hadronic', '2f_z_h', -1,  1, '/pnfs/desy.de/ilc/prod/ilc/ild/copy/dst-merged/500-TDR_ws/2f_Z_hadronic/ILD_l5_o1_v02/v02-00-01/rv02-00-01.sv02-00-01.mILD_l5_o1_v02.E500-TDR_ws.I250114.P2f_z_h.eL.pR.n001.d_dstm_10410_1.slcio', 1.7215213e+09, 1.7215219e+09,  624.5932  ,  0),\n",
       "       ('retry',   9, '2f_Z_hadronic', '2f_z_h',  1, -1, '/pnfs/desy.de/ilc/prod/ilc/ild/copy/dst-merged/500-TDR_ws/2f_Z_hadronic/ILD_l5_o1_v02/v02-00-01/rv02-00-01.sv02-00-01.mILD_l5_o1_v02.E500-TDR_ws.I250116.P2f_z_h.eR.pL.n001.d_dstm_10410_1.slcio', 1.7215213e+09, 1.7215218e+09,  557.14874 ,  0),\n",
       "       ('retry',  10, '2f_Z_leptonic', '2f_z_l', -1,  1, '/pnfs/desy.de/ilc/prod/ilc/ild/copy/dst-merged/500-TDR_ws/2f_Z_leptonic/ILD_l5_o1_v02/v02-00-01/rv02-00-01.sv02-00-01.mILD_l5_o1_v02.E500-TDR_ws.I250106.P2f_z_l.eL.pR.n001.d_dstm_10255_0.slcio', 1.7215213e+09, 1.7215213e+09,   61.80951 ,  0),\n",
       "       ('retry',  11, '2f_Z_leptonic', '2f_z_l',  1, -1, '/pnfs/desy.de/ilc/prod/ilc/ild/copy/dst-merged/500-TDR_ws/2f_Z_leptonic/ILD_l5_o1_v02/v02-00-01/rv02-00-01.sv02-00-01.mILD_l5_o1_v02.E500-TDR_ws.I250108.P2f_z_l.eR.pL.n001.d_dstm_10255_0.slcio', 1.7215213e+09, 1.7215213e+09,   59.740437,  0),\n",
       "       ('retry',  12, '2f_Z_nuNg', '2f_z_nung', -1,  1, '/pnfs/desy.de/ilc/prod/ilc/ild/copy/dst-merged/500-TDR_ws/2f_Z_nuNg/ILD_l5_o1_v02/v02-00-01/rv02-00-01.sv02-00-01.mILD_l5_o1_v02.E500-TDR_ws.I250130.P2f_z_nung.eL.pR.n001.d_dstm_10589_2.slcio', 1.7215213e+09, 1.7215213e+09,   41.26126 ,  0),\n",
       "       ('retry',  13, '2f_Z_nuNg', '2f_z_nung',  1, -1, '/pnfs/desy.de/ilc/prod/ilc/ild/copy/dst-merged/500-TDR_ws/2f_Z_nuNg/ILD_l5_o1_v02/v02-00-01/rv02-00-01.sv02-00-01.mILD_l5_o1_v02.E500-TDR_ws.I250131.P2f_z_nung.eR.pL.n001.d_dstm_10589_0.slcio', 1.7215213e+09, 1.7215213e+09,   40.044365,  0),\n",
       "       ('retry',  14, '4f_WW_hadronic', '4f_ww_h', -1,  1, '/pnfs/desy.de/ilc/prod/ilc/ild/copy/dst-merged/500-TDR_ws/4f_WW_hadronic/ILD_l5_o1_v02/v02-00-01/rv02-00-01.sv02-00-01.mILD_l5_o1_v02.E500-TDR_ws.I250006.P4f_ww_h.eL.pR.n001.d_dstm_10398_0.slcio', 1.7215213e+09, 1.7215213e+09,  108.12866 ,  0),\n",
       "       ('retry',  15, '4f_WW_hadronic', '4f_ww_h',  1, -1, '/pnfs/desy.de/ilc/prod/ilc/ild/copy/dst-merged/500-TDR_ws/4f_WW_hadronic/ILD_l5_o1_v02/v02-00-01/rv02-00-01.sv02-00-01.mILD_l5_o1_v02.E500-TDR_ws.I250008.P4f_ww_h.eR.pL.n001.d_dstm_10398_0.slcio', 1.7215213e+09, 1.7215214e+09,  205.69228 ,  0),\n",
       "       ('retry',  16, '4f_WW_leptonic', '4f_ww_l', -1,  1, '/pnfs/desy.de/ilc/prod/ilc/ild/copy/dst-merged/500-TDR_ws/4f_WW_leptonic/ILD_l5_o1_v02/v02-00-01/rv02-00-01.sv02-00-01.mILD_l5_o1_v02.E500-TDR_ws.I250026.P4f_ww_l.eL.pR.n001.d_dstm_10305_0.slcio', 1.7215213e+09, 1.7215213e+09,   66.89136 ,  0),\n",
       "       ('retry',  17, '4f_WW_leptonic', '4f_ww_l',  1, -1, '/pnfs/desy.de/ilc/prod/ilc/ild/copy/dst-merged/500-TDR_ws/4f_WW_leptonic/ILD_l5_o1_v02/v02-00-01/rv02-00-01.sv02-00-01.mILD_l5_o1_v02.E500-TDR_ws.I250028.P4f_ww_l.eR.pL.n001.d_dstm_10305_0.slcio', 1.7215213e+09, 1.7215213e+09,   52.69423 ,  0),\n",
       "       ('retry',  18, '4f_WW_semileptonic', '4f_ww_sl', -1,  1, '/pnfs/desy.de/ilc/prod/ilc/ild/copy/dst-merged/500-TDR_ws/4f_WW_semileptonic/ILD_l5_o1_v02/v02-00-01/rv02-00-01.sv02-00-01.mILD_l5_o1_v02.E500-TDR_ws.I250018.P4f_ww_sl.eL.pR.n001.d_dstm_10318_1.slcio', 1.7215213e+09, 1.7215213e+09,  116.52649 ,  0),\n",
       "       ('retry',  19, '4f_WW_semileptonic', '4f_ww_sl',  1, -1, '/pnfs/desy.de/ilc/prod/ilc/ild/copy/dst-merged/500-TDR_ws/4f_WW_semileptonic/ILD_l5_o1_v02/v02-00-01/rv02-00-01.sv02-00-01.mILD_l5_o1_v02.E500-TDR_ws.I250020.P4f_ww_sl.eR.pL.n001.d_dstm_10318_0.slcio', 1.7215213e+09, 1.7215214e+09,  127.6121  ,  0),\n",
       "       ('retry',  20, '4f_ZZWWMix_hadronic', '4f_zzorww_h', -1,  1, '/pnfs/desy.de/ilc/prod/ilc/ild/copy/dst-merged/500-TDR_ws/4f_ZZWWMix_hadronic/ILD_l5_o1_v02/v02-00-01/rv02-00-01.sv02-00-01.mILD_l5_o1_v02.E500-TDR_ws.I250010.P4f_zzorww_h.eL.pR.n001.d_dstm_10405_0.slcio', 1.7215213e+09, 1.7215214e+09,  142.77016 ,  0),\n",
       "       ('retry',  21, '4f_ZZWWMix_hadronic', '4f_zzorww_h',  1, -1, '/pnfs/desy.de/ilc/prod/ilc/ild/copy/dst-merged/500-TDR_ws/4f_ZZWWMix_hadronic/ILD_l5_o1_v02/v02-00-01/rv02-00-01.sv02-00-01.mILD_l5_o1_v02.E500-TDR_ws.I250012.P4f_zzorww_h.eR.pL.n001.d_dstm_10405_2.slcio', 1.7215213e+09, 1.7215214e+09,  133.46695 ,  0),\n",
       "       ('retry',  22, '4f_ZZWWMix_leptonic', '4f_zzorww_l', -1,  1, '/pnfs/desy.de/ilc/prod/ilc/ild/copy/dst-merged/500-TDR_ws/4f_ZZWWMix_leptonic/ILD_l5_o1_v02/v02-00-01/rv02-00-01.sv02-00-01.mILD_l5_o1_v02.E500-TDR_ws.I250030.P4f_zzorww_l.eL.pR.n001.d_dstm_10314_0.slcio', 1.7215213e+09, 1.7215213e+09,   56.299263,  0),\n",
       "       ('retry',  23, '4f_ZZWWMix_leptonic', '4f_zzorww_l',  1, -1, '/pnfs/desy.de/ilc/prod/ilc/ild/copy/dst-merged/500-TDR_ws/4f_ZZWWMix_leptonic/ILD_l5_o1_v02/v02-00-01/rv02-00-01.sv02-00-01.mILD_l5_o1_v02.E500-TDR_ws.I250032.P4f_zzorww_l.eR.pL.n001.d_dstm_10314_0.slcio', 1.7215213e+09, 1.7215213e+09,   46.576416,  0),\n",
       "       ('running',  24, '4f_ZZ_hadronic', '4f_zz_h', -1,  1, '/pnfs/desy.de/ilc/prod/ilc/ild/copy/dst-merged/500-TDR_ws/4f_ZZ_hadronic/ILD_l5_o1_v02/v02-00-01/rv02-00-01.sv02-00-01.mILD_l5_o1_v02.E500-TDR_ws.I250002.P4f_zz_h.eL.pR.n001.d_dstm_10402_0.slcio', 1.7215213e+09, 1.7215233e+09, 2040.098   ,  0),\n",
       "       ('running',  25, '4f_ZZ_hadronic', '4f_zz_h',  1, -1, '/pnfs/desy.de/ilc/prod/ilc/ild/copy/dst-merged/500-TDR_ws/4f_ZZ_hadronic/ILD_l5_o1_v02/v02-00-01/rv02-00-01.sv02-00-01.mILD_l5_o1_v02.E500-TDR_ws.I250004.P4f_zz_h.eR.pL.n001.d_dstm_10402_0.slcio', 1.7215213e+09, 1.7215224e+09, 1211.9833  ,  0),\n",
       "       ('retry',  26, '4f_ZZ_leptonic', '4f_zz_l', -1,  1, '/pnfs/desy.de/ilc/prod/ilc/ild/copy/dst-merged/500-TDR_ws/4f_ZZ_leptonic/ILD_l5_o1_v02/v02-00-01/rv02-00-01.sv02-00-01.mILD_l5_o1_v02.E500-TDR_ws.I250022.P4f_zz_l.eL.pR.n001.d_dstm_10310_0.slcio', 1.7215213e+09, 1.7215213e+09,   65.43866 ,  0),\n",
       "       ('retry',  27, '4f_ZZ_leptonic', '4f_zz_l',  1, -1, '/pnfs/desy.de/ilc/prod/ilc/ild/copy/dst-merged/500-TDR_ws/4f_ZZ_leptonic/ILD_l5_o1_v02/v02-00-01/rv02-00-01.sv02-00-01.mILD_l5_o1_v02.E500-TDR_ws.I250024.P4f_zz_l.eR.pL.n001.d_dstm_10310_0.slcio', 1.7215213e+09, 1.7215213e+09,   60.563538,  0),\n",
       "       ('retry',  28, '4f_ZZ_semileptonic', '4f_zz_sl', -1,  1, '/pnfs/desy.de/ilc/prod/ilc/ild/copy/dst-merged/500-TDR_ws/4f_ZZ_semileptonic/ILD_l5_o1_v02/v02-00-01/rv02-00-01.sv02-00-01.mILD_l5_o1_v02.E500-TDR_ws.I250014.P4f_zz_sl.eL.pR.n001.d_dstm_10301_0.slcio', 1.7215213e+09, 1.7215218e+09,  528.4062  ,  0),\n",
       "       ('running',  29, '4f_ZZ_semileptonic', '4f_zz_sl',  1, -1, '/pnfs/desy.de/ilc/prod/ilc/ild/copy/dst-merged/500-TDR_ws/4f_ZZ_semileptonic/ILD_l5_o1_v02/v02-00-01/rv02-00-01.sv02-00-01.mILD_l5_o1_v02.E500-TDR_ws.I250016.P4f_zz_sl.eR.pL.n001.d_dstm_10301_0.slcio', 1.7215213e+09, 1.7215219e+09,  755.01886 ,  0),\n",
       "       ('retry',  30, '4f_lowmee_singleZee_leptonic', '4f_lowmee_sze_l', -1, -1, '/pnfs/desy.de/ilc/prod/ilc/ild/copy/dst-merged/500-TDR_ws/4f_lowmee_singleZee_leptonic/ILD_l5_o1_v02/v02-00-01/rv02-00-01.sv02-00-01.mILD_l5_o1_v02.E500-TDR_ws.I250118.P4f_lowmee_sze_l.eL.pL.n001.d_dstm_10623_0.slcio', 1.7215213e+09, 1.7215213e+09,   34.048134,  0),\n",
       "       ('retry',  31, '4f_lowmee_singleZee_leptonic', '4f_lowmee_sze_l', -1,  1, '/pnfs/desy.de/ilc/prod/ilc/ild/copy/dst-merged/500-TDR_ws/4f_lowmee_singleZee_leptonic/ILD_l5_o1_v02/v02-00-01/rv02-00-01.sv02-00-01.mILD_l5_o1_v02.E500-TDR_ws.I250119.P4f_lowmee_sze_l.eL.pR.n001.d_dstm_10623_0.slcio', 1.7215213e+09, 1.7215213e+09,   33.01098 ,  0),\n",
       "       ('retry',  32, '4f_lowmee_singleZee_leptonic', '4f_lowmee_sze_l',  1,  1, '/pnfs/desy.de/ilc/prod/ilc/ild/copy/dst-merged/500-TDR_ws/4f_lowmee_singleZee_leptonic/ILD_l5_o1_v02/v02-00-01/rv02-00-01.sv02-00-01.mILD_l5_o1_v02.E500-TDR_ws.I250120.P4f_lowmee_sze_l.eR.pR.n001.d_dstm_10623_0.slcio', 1.7215213e+09, 1.7215213e+09,   36.582912,  0),\n",
       "       ('retry',  33, '4f_lowmee_singleZee_leptonic', '4f_lowmee_sze_l',  1, -1, '/pnfs/desy.de/ilc/prod/ilc/ild/copy/dst-merged/500-TDR_ws/4f_lowmee_singleZee_leptonic/ILD_l5_o1_v02/v02-00-01/rv02-00-01.sv02-00-01.mILD_l5_o1_v02.E500-TDR_ws.I250121.P4f_lowmee_sze_l.eR.pL.n001.d_dstm_10623_0.slcio', 1.7215213e+09, 1.7215213e+09,   50.46077 ,  0),\n",
       "       ('retry',  34, '4f_lowmee_singleZsingleWMix_lept', '4f_lowmee_szeorsw_l', -1,  1, '/pnfs/desy.de/ilc/prod/ilc/ild/copy/dst-merged/500-TDR_ws/4f_lowmee_singleZsingleWMix_leptonic/ILD_l5_o1_v02/v02-00-01/rv02-00-01.sv02-00-01.mILD_l5_o1_v02.E500-TDR_ws.I250123.P4f_lowmee_szeorsw_l.eL.pR.n001.d_dstm_10625_0.slcio', 1.7215213e+09, 1.7215213e+09,   32.75157 ,  0),\n",
       "       ('retry',  35, '4f_lowmee_singleZsingleWMix_lept', '4f_lowmee_szeorsw_l',  1,  1, '/pnfs/desy.de/ilc/prod/ilc/ild/copy/dst-merged/500-TDR_ws/4f_lowmee_singleZsingleWMix_leptonic/ILD_l5_o1_v02/v02-00-01/rv02-00-01.sv02-00-01.mILD_l5_o1_v02.E500-TDR_ws.I250124.P4f_lowmee_szeorsw_l.eR.pR.n001.d_dstm_10625_0.slcio', 1.7215213e+09, 1.7215213e+09,   39.04909 ,  0),\n",
       "       ('retry',  36, '4f_lowmee_singleZsingleWMix_lept', '4f_lowmee_szeorsw_l',  1, -1, '/pnfs/desy.de/ilc/prod/ilc/ild/copy/dst-merged/500-TDR_ws/4f_lowmee_singleZsingleWMix_leptonic/ILD_l5_o1_v02/v02-00-01/rv02-00-01.sv02-00-01.mILD_l5_o1_v02.E500-TDR_ws.I250125.P4f_lowmee_szeorsw_l.eR.pL.n001.d_dstm_10625_0.slcio', 1.7215213e+09, 1.7215213e+09,   40.41824 ,  0),\n",
       "       ('retry',  37, '4f_singleW_leptonic', '4f_sw_l', -1, -1, '/pnfs/desy.de/ilc/prod/ilc/ild/copy/dst-merged/500-TDR_ws/4f_singleW_leptonic/ILD_l5_o1_v02/v02-00-01/rv02-00-01.sv02-00-01.mILD_l5_o1_v02.E500-TDR_ws.I250045.P4f_sw_l.eL.pL.n001.d_dstm_10267_0.slcio', 1.7215213e+09, 1.7215213e+09,   47.307095,  0),\n",
       "       ('retry',  38, '4f_singleW_leptonic', '4f_sw_l', -1,  1, '/pnfs/desy.de/ilc/prod/ilc/ild/copy/dst-merged/500-TDR_ws/4f_singleW_leptonic/ILD_l5_o1_v02/v02-00-01/rv02-00-01.sv02-00-01.mILD_l5_o1_v02.E500-TDR_ws.I250046.P4f_sw_l.eL.pR.n001.d_dstm_10267_1.slcio', 1.7215213e+09, 1.7215213e+09,   43.571003,  0),\n",
       "       ('retry',  39, '4f_singleW_leptonic', '4f_sw_l',  1,  1, '/pnfs/desy.de/ilc/prod/ilc/ild/copy/dst-merged/500-TDR_ws/4f_singleW_leptonic/ILD_l5_o1_v02/v02-00-01/rv02-00-01.sv02-00-01.mILD_l5_o1_v02.E500-TDR_ws.I250047.P4f_sw_l.eR.pR.n001.d_dstm_10267_0.slcio', 1.7215213e+09, 1.7215213e+09,   37.159706,  0),\n",
       "       ('retry',  40, '4f_singleW_semileptonic', '4f_sw_sl', -1, -1, '/pnfs/desy.de/ilc/prod/ilc/ild/copy/dst-merged/500-TDR_ws/4f_singleW_semileptonic/ILD_l5_o1_v02/v02-00-01/rv02-00-01.sv02-00-01.mILD_l5_o1_v02.E500-TDR_ws.I250041.P4f_sw_sl.eL.pL.n001.d_dstm_10417_1.slcio', 1.7215213e+09, 1.7215213e+09,   86.26706 ,  0),\n",
       "       ('retry',  41, '4f_singleW_semileptonic', '4f_sw_sl', -1,  1, '/pnfs/desy.de/ilc/prod/ilc/ild/copy/dst-merged/500-TDR_ws/4f_singleW_semileptonic/ILD_l5_o1_v02/v02-00-01/rv02-00-01.sv02-00-01.mILD_l5_o1_v02.E500-TDR_ws.I250042.P4f_sw_sl.eL.pR.n001.d_dstm_10417_1.slcio', 1.7215213e+09, 1.7215213e+09,   88.42794 ,  0),\n",
       "       ('retry',  42, '4f_singleW_semileptonic', '4f_sw_sl',  1,  1, '/pnfs/desy.de/ilc/prod/ilc/ild/copy/dst-merged/500-TDR_ws/4f_singleW_semileptonic/ILD_l5_o1_v02/v02-00-01/rv02-00-01.sv02-00-01.mILD_l5_o1_v02.E500-TDR_ws.I250043.P4f_sw_sl.eR.pR.n001.d_dstm_10417_0.slcio', 1.7215213e+09, 1.7215213e+09,   83.104095,  0),\n",
       "       ('retry',  43, '4f_singleW_semileptonic', '4f_sw_sl',  1, -1, '/pnfs/desy.de/ilc/prod/ilc/ild/copy/dst-merged/500-TDR_ws/4f_singleW_semileptonic/ILD_l5_o1_v02/v02-00-01/rv02-00-01.sv02-00-01.mILD_l5_o1_v02.E500-TDR_ws.I250044.P4f_sw_sl.eR.pL.n001.d_dstm_10417_0.slcio', 1.7215213e+09, 1.7215214e+09,  135.31812 ,  0),\n",
       "       ('retry',  44, '4f_singleZee_leptonic', '4f_sze_l', -1, -1, '/pnfs/desy.de/ilc/prod/ilc/ild/copy/dst-merged/500-TDR_ws/4f_singleZee_leptonic/ILD_l5_o1_v02/v02-00-01/rv02-00-01.sv02-00-01.mILD_l5_o1_v02.E500-TDR_ws.I250033.P4f_sze_l.eL.pL.n001.d_dstm_10442_0.slcio', 1.7215213e+09, 1.7215213e+09,   42.888554,  0),\n",
       "       ('retry',  45, '4f_singleZee_leptonic', '4f_sze_l', -1,  1, '/pnfs/desy.de/ilc/prod/ilc/ild/copy/dst-merged/500-TDR_ws/4f_singleZee_leptonic/ILD_l5_o1_v02/v02-00-01/rv02-00-01.sv02-00-01.mILD_l5_o1_v02.E500-TDR_ws.I250034.P4f_sze_l.eL.pR.n001.d_dstm_10446_0.slcio', 1.7215213e+09, 1.7215213e+09,   43.016247,  0),\n",
       "       ('retry',  46, '4f_singleZee_leptonic', '4f_sze_l',  1,  1, '/pnfs/desy.de/ilc/prod/ilc/ild/copy/dst-merged/500-TDR_ws/4f_singleZee_leptonic/ILD_l5_o1_v02/v02-00-01/rv02-00-01.sv02-00-01.mILD_l5_o1_v02.E500-TDR_ws.I250035.P4f_sze_l.eR.pR.n001.d_dstm_10450_0.slcio', 1.7215213e+09, 1.7215213e+09,   42.87877 ,  0),\n",
       "       ('retry',  47, '4f_singleZee_leptonic', '4f_sze_l',  1, -1, '/pnfs/desy.de/ilc/prod/ilc/ild/copy/dst-merged/500-TDR_ws/4f_singleZee_leptonic/ILD_l5_o1_v02/v02-00-01/rv02-00-01.sv02-00-01.mILD_l5_o1_v02.E500-TDR_ws.I250036.P4f_sze_l.eR.pL.n001.d_dstm_10475_1.slcio', 1.7215213e+09, 1.7215213e+09,   50.163944,  0),\n",
       "       ('retry',  48, '4f_singleZee_semileptonic', '4f_sze_sl', -1, -1, '/pnfs/desy.de/ilc/prod/ilc/ild/copy/dst-merged/500-TDR_ws/4f_singleZee_semileptonic/ILD_l5_o1_v02/v02-00-01/rv02-00-01.sv02-00-01.mILD_l5_o1_v02.E500-TDR_ws.I250037.P4f_sze_sl.eL.pL.n001.d_dstm_10421_1.slcio', 1.7215213e+09, 1.7215214e+09,  193.04877 ,  0),\n",
       "       ('retry',  49, '4f_singleZee_semileptonic', '4f_sze_sl', -1,  1, '/pnfs/desy.de/ilc/prod/ilc/ild/copy/dst-merged/500-TDR_ws/4f_singleZee_semileptonic/ILD_l5_o1_v02/v02-00-01/rv02-00-01.sv02-00-01.mILD_l5_o1_v02.E500-TDR_ws.I250038.P4f_sze_sl.eL.pR.n001.d_dstm_10421_1.slcio', 1.7215213e+09, 1.7215214e+09,  146.10648 ,  0),\n",
       "       ('retry',  50, '4f_singleZee_semileptonic', '4f_sze_sl',  1,  1, '/pnfs/desy.de/ilc/prod/ilc/ild/copy/dst-merged/500-TDR_ws/4f_singleZee_semileptonic/ILD_l5_o1_v02/v02-00-01/rv02-00-01.sv02-00-01.mILD_l5_o1_v02.E500-TDR_ws.I250039.P4f_sze_sl.eR.pR.n001.d_dstm_10421_0.slcio', 1.7215213e+09, 1.7215214e+09,  152.54063 ,  0),\n",
       "       ('retry',  51, '4f_singleZee_semileptonic', '4f_sze_sl',  1, -1, '/pnfs/desy.de/ilc/prod/ilc/ild/copy/dst-merged/500-TDR_ws/4f_singleZee_semileptonic/ILD_l5_o1_v02/v02-00-01/rv02-00-01.sv02-00-01.mILD_l5_o1_v02.E500-TDR_ws.I250040.P4f_sze_sl.eR.pL.n001.d_dstm_10421_0.slcio', 1.7215213e+09, 1.7215214e+09,  121.40612 ,  0),\n",
       "       ('retry',  52, '4f_singleZnunu_leptonic', '4f_sznu_l', -1,  1, '/pnfs/desy.de/ilc/prod/ilc/ild/copy/dst-merged/500-TDR_ws/4f_singleZnunu_leptonic/ILD_l5_o1_v02/v02-00-01/rv02-00-01.sv02-00-01.mILD_l5_o1_v02.E500-TDR_ws.I250054.P4f_sznu_l.eL.pR.n001.d_dstm_10290_0.slcio', 1.7215213e+09, 1.7215213e+09,   47.955288,  0),\n",
       "       ('retry',  53, '4f_singleZnunu_leptonic', '4f_sznu_l',  1, -1, '/pnfs/desy.de/ilc/prod/ilc/ild/copy/dst-merged/500-TDR_ws/4f_singleZnunu_leptonic/ILD_l5_o1_v02/v02-00-01/rv02-00-01.sv02-00-01.mILD_l5_o1_v02.E500-TDR_ws.I250056.P4f_sznu_l.eR.pL.n001.d_dstm_10290_0.slcio', 1.7215213e+09, 1.7215213e+09,   37.7666  ,  0),\n",
       "       ('retry',  54, '4f_singleZnunu_semileptonic', '4f_sznu_sl', -1,  1, '/pnfs/desy.de/ilc/prod/ilc/ild/copy/dst-merged/500-TDR_ws/4f_singleZnunu_semileptonic/ILD_l5_o1_v02/v02-00-01/rv02-00-01.sv02-00-01.mILD_l5_o1_v02.E500-TDR_ws.I250058.P4f_sznu_sl.eL.pR.n002.d_dstm_10425_4.slcio', 1.7215213e+09, 1.7215218e+09,  528.3587  ,  0),\n",
       "       ('retry',  55, '4f_singleZnunu_semileptonic', '4f_sznu_sl',  1, -1, '/pnfs/desy.de/ilc/prod/ilc/ild/copy/dst-merged/500-TDR_ws/4f_singleZnunu_semileptonic/ILD_l5_o1_v02/v02-00-01/rv02-00-01.sv02-00-01.mILD_l5_o1_v02.E500-TDR_ws.I250060.P4f_sznu_sl.eR.pL.n001.d_dstm_10425_0.slcio', 1.7215213e+09, 1.7215218e+09,  622.28314 ,  0),\n",
       "       ('retry',  56, '4f_singleZsingleWMix_leptonic', '4f_szeorsw_l', -1, -1, '/pnfs/desy.de/ilc/prod/ilc/ild/copy/dst-merged/500-TDR_ws/4f_singleZsingleWMix_leptonic/ILD_l5_o1_v02/v02-00-01/rv02-00-01.sv02-00-01.mILD_l5_o1_v02.E500-TDR_ws.I250049.P4f_szeorsw_l.eL.pL.n001.d_dstm_10293_0.slcio', 1.7215213e+09, 1.7215213e+09,   42.905373,  0),\n",
       "       ('retry',  57, '4f_singleZsingleWMix_leptonic', '4f_szeorsw_l', -1,  1, '/pnfs/desy.de/ilc/prod/ilc/ild/copy/dst-merged/500-TDR_ws/4f_singleZsingleWMix_leptonic/ILD_l5_o1_v02/v02-00-01/rv02-00-01.sv02-00-01.mILD_l5_o1_v02.E500-TDR_ws.I250050.P4f_szeorsw_l.eL.pR.n001.d_dstm_10293_0.slcio', 1.7215213e+09, 1.7215213e+09,   43.256702,  0),\n",
       "       ('retry',  58, '4f_singleZsingleWMix_leptonic', '4f_szeorsw_l',  1,  1, '/pnfs/desy.de/ilc/prod/ilc/ild/copy/dst-merged/500-TDR_ws/4f_singleZsingleWMix_leptonic/ILD_l5_o1_v02/v02-00-01/rv02-00-01.sv02-00-01.mILD_l5_o1_v02.E500-TDR_ws.I250051.P4f_szeorsw_l.eR.pR.n001.d_dstm_10293_0.slcio', 1.7215213e+09, 1.7215213e+09,   45.21789 ,  0),\n",
       "       ('retry',  59, '4f_singleZsingleWMix_leptonic', '4f_szeorsw_l',  1, -1, '/pnfs/desy.de/ilc/prod/ilc/ild/copy/dst-merged/500-TDR_ws/4f_singleZsingleWMix_leptonic/ILD_l5_o1_v02/v02-00-01/rv02-00-01.sv02-00-01.mILD_l5_o1_v02.E500-TDR_ws.I250052.P4f_szeorsw_l.eR.pL.n001.d_dstm_10293_0.slcio', 1.7215213e+09, 1.7215213e+09,   44.431538,  0),\n",
       "       ('retry',  60, '6f_eeWW', 'eeveev', -1, -1, '/pnfs/desy.de/ilc/prod/ilc/ild/copy/dst-merged/500-TDR_ws/6f_eeWW/ILD_l5_o1_v02/v02-00-01/rv02-00-01.sv02-00-01.mILD_l5_o1_v02.E500-TDR_ws.I108619.Peeveev.eL.pL.n001.d_dstm_10322_0.slcio', 1.7215213e+09, 1.7215213e+09,   41.611485,  0),\n",
       "       ('retry',  61, '6f_eeWW', 'eeveev', -1,  1, '/pnfs/desy.de/ilc/prod/ilc/ild/copy/dst-merged/500-TDR_ws/6f_eeWW/ILD_l5_o1_v02/v02-00-01/rv02-00-01.sv02-00-01.mILD_l5_o1_v02.E500-TDR_ws.I108620.Peeveev.eL.pR.n001.d_dstm_10322_0.slcio', 1.7215213e+09, 1.7215213e+09,   46.86315 ,  0),\n",
       "       ('retry',  62, '6f_eeWW', 'eeveev',  1, -1, '/pnfs/desy.de/ilc/prod/ilc/ild/copy/dst-merged/500-TDR_ws/6f_eeWW/ILD_l5_o1_v02/v02-00-01/rv02-00-01.sv02-00-01.mILD_l5_o1_v02.E500-TDR_ws.I108621.Peeveev.eR.pL.n001.d_dstm_10322_0.slcio', 1.7215213e+09, 1.7215213e+09,   41.01249 ,  0),\n",
       "       ('retry',  63, '6f_eeWW', 'eeveev',  1,  1, '/pnfs/desy.de/ilc/prod/ilc/ild/copy/dst-merged/500-TDR_ws/6f_eeWW/ILD_l5_o1_v02/v02-00-01/rv02-00-01.sv02-00-01.mILD_l5_o1_v02.E500-TDR_ws.I108622.Peeveev.eR.pR.n001.d_dstm_10322_0.slcio', 1.7215213e+09, 1.7215213e+09,   42.364227,  0),\n",
       "       ('retry',  64, '6f_llWW', 'llvelv', -1, -1, '/pnfs/desy.de/ilc/prod/ilc/ild/copy/dst-merged/500-TDR_ws/6f_llWW/ILD_l5_o1_v02/v02-00-01/rv02-00-01.sv02-00-01.mILD_l5_o1_v02.E500-TDR_ws.I108575.Pllvelv.eL.pL.n001.d_dstm_10358_0.slcio', 1.7215213e+09, 1.7215213e+09,   63.15233 ,  0),\n",
       "       ('retry',  65, '6f_llWW', 'llvelv', -1,  1, '/pnfs/desy.de/ilc/prod/ilc/ild/copy/dst-merged/500-TDR_ws/6f_llWW/ILD_l5_o1_v02/v02-00-01/rv02-00-01.sv02-00-01.mILD_l5_o1_v02.E500-TDR_ws.I108576.Pllvelv.eL.pR.n001.d_dstm_10358_0.slcio', 1.7215213e+09, 1.7215213e+09,   65.06451 ,  0),\n",
       "       ('retry',  66, '6f_llWW', 'llvelv',  1, -1, '/pnfs/desy.de/ilc/prod/ilc/ild/copy/dst-merged/500-TDR_ws/6f_llWW/ILD_l5_o1_v02/v02-00-01/rv02-00-01.sv02-00-01.mILD_l5_o1_v02.E500-TDR_ws.I108577.Pllvelv.eR.pL.n001.d_dstm_10358_0.slcio', 1.7215213e+09, 1.7215213e+09,   57.939022,  0),\n",
       "       ('retry',  67, '6f_llWW', 'llxyev',  1,  1, '/pnfs/desy.de/ilc/prod/ilc/ild/copy/dst-merged/500-TDR_ws/6f_llWW/ILD_l5_o1_v02/v02-00-01/rv02-00-01.sv02-00-01.mILD_l5_o1_v02.E500-TDR_ws.I108588.Pllxyev.eR.pR.n001.d_dstm_10358_0.slcio', 1.7215213e+09, 1.7215213e+09,   82.515144,  0),\n",
       "       ('running',  68, '6f_ttbar', 'yyveev', -1, -1, '/pnfs/desy.de/ilc/prod/ilc/ild/copy/dst-merged/500-TDR_ws/6f_ttbar/ILD_l5_o1_v02/v02-00-01/rv02-00-01.sv02-00-01.mILD_l5_o1_v02.E500-TDR_ws.I108655.Pyyveev.eL.pL.n001.d_dstm_10271_0.slcio', 1.7215213e+09, 1.7215220e+09,  793.98755 ,  0),\n",
       "       ('running',  69, '6f_ttbar', 'yyveev', -1,  1, '/pnfs/desy.de/ilc/prod/ilc/ild/copy/dst-merged/500-TDR_ws/6f_ttbar/ILD_l5_o1_v02/v02-00-01/rv02-00-01.sv02-00-01.mILD_l5_o1_v02.E500-TDR_ws.I108656.Pyyveev.eL.pR.n001.d_dstm_10271_0.slcio', 1.7215213e+09, 1.7215233e+09, 2122.1782  ,  0),\n",
       "       ('running',  70, '6f_ttbar', 'yyveev',  1, -1, '/pnfs/desy.de/ilc/prod/ilc/ild/copy/dst-merged/500-TDR_ws/6f_ttbar/ILD_l5_o1_v02/v02-00-01/rv02-00-01.sv02-00-01.mILD_l5_o1_v02.E500-TDR_ws.I108657.Pyyveev.eR.pL.n001.d_dstm_10271_0.slcio', 1.7215213e+09, 1.7215250e+09, 3808.7197  ,  0),\n",
       "       ('running',  71, '6f_ttbar', 'yyveev',  1,  1, '/pnfs/desy.de/ilc/prod/ilc/ild/copy/dst-merged/500-TDR_ws/6f_ttbar/ILD_l5_o1_v02/v02-00-01/rv02-00-01.sv02-00-01.mILD_l5_o1_v02.E500-TDR_ws.I108658.Pyyveev.eR.pR.n001.d_dstm_10271_0.slcio', 1.7215213e+09, 1.7215223e+09, 1110.9629  ,  0),\n",
       "       ('retry',  72, '6f_vvWW', 'vvveev', -1, -1, '/pnfs/desy.de/ilc/prod/ilc/ild/copy/dst-merged/500-TDR_ws/6f_vvWW/ILD_l5_o1_v02/v02-00-01/rv02-00-01.sv02-00-01.mILD_l5_o1_v02.E500-TDR_ws.I108595.Pvvveev.eL.pL.n001.d_dstm_10354_0.slcio', 1.7215213e+09, 1.7215213e+09,   42.225376,  0),\n",
       "       ('retry',  73, '6f_vvWW', 'vvveev', -1,  1, '/pnfs/desy.de/ilc/prod/ilc/ild/copy/dst-merged/500-TDR_ws/6f_vvWW/ILD_l5_o1_v02/v02-00-01/rv02-00-01.sv02-00-01.mILD_l5_o1_v02.E500-TDR_ws.I108596.Pvvveev.eL.pR.n001.d_dstm_10354_0.slcio', 1.7215213e+09, 1.7215213e+09,   44.504486,  0),\n",
       "       ('retry',  74, '6f_vvWW', 'vvveev',  1, -1, '/pnfs/desy.de/ilc/prod/ilc/ild/copy/dst-merged/500-TDR_ws/6f_vvWW/ILD_l5_o1_v02/v02-00-01/rv02-00-01.sv02-00-01.mILD_l5_o1_v02.E500-TDR_ws.I108597.Pvvveev.eR.pL.n001.d_dstm_10354_0.slcio', 1.7215213e+09, 1.7215213e+09,   45.415916,  0),\n",
       "       ('retry',  75, '6f_vvWW', 'vvvlev',  1,  1, '/pnfs/desy.de/ilc/prod/ilc/ild/copy/dst-merged/500-TDR_ws/6f_vvWW/ILD_l5_o1_v02/v02-00-01/rv02-00-01.sv02-00-01.mILD_l5_o1_v02.E500-TDR_ws.I108604.Pvvvlev.eR.pR.n001.d_dstm_10349_0.slcio', 1.7215213e+09, 1.7215213e+09,   44.481613,  0),\n",
       "       ('retry',  76, '6f_xxWW', 'xxveev', -1, -1, '/pnfs/desy.de/ilc/prod/ilc/ild/copy/dst-merged/500-TDR_ws/6f_xxWW/ILD_l5_o1_v02/v02-00-01/rv02-00-01.sv02-00-01.mILD_l5_o1_v02.E500-TDR_ws.I108501.Pxxveev.eL.pL.n001.d_dstm_10346_0.slcio', 1.7215213e+09, 1.7215213e+09,  113.02329 ,  0),\n",
       "       ('retry',  77, '6f_xxWW', 'xxveev', -1,  1, '/pnfs/desy.de/ilc/prod/ilc/ild/copy/dst-merged/500-TDR_ws/6f_xxWW/ILD_l5_o1_v02/v02-00-01/rv02-00-01.sv02-00-01.mILD_l5_o1_v02.E500-TDR_ws.I108502.Pxxveev.eL.pR.n001.d_dstm_10346_0.slcio', 1.7215213e+09, 1.7215213e+09,  113.20116 ,  0),\n",
       "       ('retry',  78, '6f_xxWW', 'xxveev',  1, -1, '/pnfs/desy.de/ilc/prod/ilc/ild/copy/dst-merged/500-TDR_ws/6f_xxWW/ILD_l5_o1_v02/v02-00-01/rv02-00-01.sv02-00-01.mILD_l5_o1_v02.E500-TDR_ws.I108503.Pxxveev.eR.pL.n001.d_dstm_10346_0.slcio', 1.7215213e+09, 1.7215214e+09,  205.7875  ,  0),\n",
       "       ('retry',  79, '6f_xxWW', 'xxveev',  1,  1, '/pnfs/desy.de/ilc/prod/ilc/ild/copy/dst-merged/500-TDR_ws/6f_xxWW/ILD_l5_o1_v02/v02-00-01/rv02-00-01.sv02-00-01.mILD_l5_o1_v02.E500-TDR_ws.I108504.Pxxveev.eR.pR.n001.d_dstm_10346_0.slcio', 1.7215213e+09, 1.7215214e+09,  124.42204 ,  0),\n",
       "       ('retry',  80, '6f_xxxxZ', 'vvvvxx', -1,  1, '/pnfs/desy.de/ilc/prod/ilc/ild/copy/dst-merged/500-TDR_ws/6f_xxxxZ/ILD_l5_o1_v02/v02-00-01/rv02-00-01.sv02-00-01.mILD_l5_o1_v02.E500-TDR_ws.I108523.Pvvvvxx.eL.pR.n001.d_dstm_10338_0.slcio', 1.7215213e+09, 1.7215214e+09,  122.03901 ,  0),\n",
       "       ('retry',  81, '6f_xxxxZ', 'xxxxee', -1, -1, '/pnfs/desy.de/ilc/prod/ilc/ild/copy/dst-merged/500-TDR_ws/6f_xxxxZ/ILD_l5_o1_v02/v02-00-01/rv02-00-01.sv02-00-01.mILD_l5_o1_v02.E500-TDR_ws.I108527.Pxxxxee.eL.pL.n001.d_dstm_10338_0.slcio', 1.7215213e+09, 1.7215214e+09,  147.51317 ,  0),\n",
       "       ('retry',  82, '6f_xxxxZ', 'xxxxee',  1, -1, '/pnfs/desy.de/ilc/prod/ilc/ild/copy/dst-merged/500-TDR_ws/6f_xxxxZ/ILD_l5_o1_v02/v02-00-01/rv02-00-01.sv02-00-01.mILD_l5_o1_v02.E500-TDR_ws.I108529.Pxxxxee.eR.pL.n001.d_dstm_10338_0.slcio', 1.7215213e+09, 1.7215214e+09,  182.68744 ,  0),\n",
       "       ('retry',  83, '6f_xxxxZ', 'xxxxee',  1,  1, '/pnfs/desy.de/ilc/prod/ilc/ild/copy/dst-merged/500-TDR_ws/6f_xxxxZ/ILD_l5_o1_v02/v02-00-01/rv02-00-01.sv02-00-01.mILD_l5_o1_v02.E500-TDR_ws.I108530.Pxxxxee.eR.pR.n001.d_dstm_10338_0.slcio', 1.7215213e+09, 1.7215214e+09,  148.0447  ,  0),\n",
       "       ('retry',  84, '6f_yyyyZ', 'eeeeee', -1, -1, '/pnfs/desy.de/ilc/prod/ilc/ild/copy/dst-merged/500-TDR_ws/6f_yyyyZ/ILD_l5_o1_v02/v02-00-01/rv02-00-01.sv02-00-01.mILD_l5_o1_v02.E500-TDR_ws.I108537.Peeeeee.eL.pL.n001.d_dstm_10330_0.slcio', 1.7215213e+09, 1.7215213e+09,   52.334713,  0),\n",
       "       ('retry',  85, '6f_yyyyZ', 'eeeeee', -1,  1, '/pnfs/desy.de/ilc/prod/ilc/ild/copy/dst-merged/500-TDR_ws/6f_yyyyZ/ILD_l5_o1_v02/v02-00-01/rv02-00-01.sv02-00-01.mILD_l5_o1_v02.E500-TDR_ws.I108538.Peeeeee.eL.pR.n001.d_dstm_10330_0.slcio', 1.7215213e+09, 1.7215213e+09,   49.313698,  0),\n",
       "       ('retry',  86, '6f_yyyyZ', 'eeeeee',  1, -1, '/pnfs/desy.de/ilc/prod/ilc/ild/copy/dst-merged/500-TDR_ws/6f_yyyyZ/ILD_l5_o1_v02/v02-00-01/rv02-00-01.sv02-00-01.mILD_l5_o1_v02.E500-TDR_ws.I108539.Peeeeee.eR.pL.n001.d_dstm_10330_0.slcio', 1.7215213e+09, 1.7215213e+09,   46.881767,  0),\n",
       "       ('retry',  87, '6f_yyyyZ', 'eeeeee',  1,  1, '/pnfs/desy.de/ilc/prod/ilc/ild/copy/dst-merged/500-TDR_ws/6f_yyyyZ/ILD_l5_o1_v02/v02-00-01/rv02-00-01.sv02-00-01.mILD_l5_o1_v02.E500-TDR_ws.I108540.Peeeeee.eR.pR.n001.d_dstm_10330_0.slcio', 1.7215213e+09, 1.7215213e+09,   45.93928 ,  0),\n",
       "       ('running',  88, 'hh', '', -1,  1, '/pnfs/desy.de/ilc/prod/ilc/mc-2020/ild/dst-merged/500-TDR_ws/hh/ILD_l5_o1_v02/v02-02-03/00015739/000/rv02-02-03.sv02-02-03.mILD_l5_o1_v02.E500-TDR_ws.I403011.Pe2e2qqh.eL.pR.n000.d_dstm_15739_0.slcio', 1.7215218e+09, 1.7215223e+09,  512.7585  , 60),\n",
       "       ('retry',  89, 'hh', '',  1, -1, '/pnfs/desy.de/ilc/prod/ilc/mc-2020/ild/dst-merged/500-TDR_ws/hh/ILD_l5_o1_v02/v02-02-03/00015741/000/rv02-02-03.sv02-02-03.mILD_l5_o1_v02.E500-TDR_ws.I403016.Pn1n1qqh.eR.pL.n000.d_dstm_15741_0.slcio', 1.7215217e+09, 1.7215219e+09,  271.1605  , 60),\n",
       "       ('failed',  90, 'hh', '', -1,  1, '/pnfs/desy.de/ilc/prod/ilc/mc-2020/ild/dst-merged/500-TDR_ws/hh/ILD_l5_o1_v02/v02-02-03/00015739/000/rv02-02-03.sv02-02-03.mILD_l5_o1_v02.E500-TDR_ws.I403003.Pe3e3hh.eL.pR.n000.d_dstm_15739_0.slcio', 1.7215218e+09, 1.7215219e+09,  139.7517  , 60),\n",
       "       ('retry',  91, 'hh', '',  1, -1, '/pnfs/desy.de/ilc/prod/ilc/mc-2020/ild/dst-merged/500-TDR_ws/hh/ILD_l5_o1_v02/v02-02-03/00015739/000/rv02-02-03.sv02-02-03.mILD_l5_o1_v02.E500-TDR_ws.I403004.Pe3e3hh.eR.pL.n000.d_dstm_15739_0.slcio', 1.7215218e+09, 1.7215219e+09,  141.27884 , 60),\n",
       "       ('running',  92, 'hh', '', -1,  1, '/pnfs/desy.de/ilc/prod/ilc/mc-2020/ild/dst-merged/500-TDR_ws/hh/ILD_l5_o1_v02/v02-02-03/00015739/000/rv02-02-03.sv02-02-03.mILD_l5_o1_v02.E500-TDR_ws.I403011.Pe2e2qqh.eL.pR.n000.d_dstm_15739_0.slcio', 1.7215218e+09, 1.7215222e+09,  445.5741  , 60),\n",
       "       ('failed',  93, 'hh', '',  1, -1, '/pnfs/desy.de/ilc/prod/ilc/mc-2020/ild/dst-merged/500-TDR_ws/hh/ILD_l5_o1_v02/v02-02-03/00015739/000/rv02-02-03.sv02-02-03.mILD_l5_o1_v02.E500-TDR_ws.I403004.Pe3e3hh.eR.pL.n000.d_dstm_15739_0.slcio', 1.7215218e+09, 1.7215219e+09,  139.96196 , 60),\n",
       "       ('running',  94, 'hh', '', -1,  1, '/pnfs/desy.de/ilc/prod/ilc/mc-2020/ild/dst-merged/500-TDR_ws/hh/ILD_l5_o1_v02/v02-02-03/00015739/000/rv02-02-03.sv02-02-03.mILD_l5_o1_v02.E500-TDR_ws.I403013.Pe3e3qqh.eL.pR.n000.d_dstm_15739_0.slcio', 1.7215219e+09, 1.7215220e+09,  134.70187 , 60),\n",
       "       ('failed',  95, 'hh', '',  1, -1, '/pnfs/desy.de/ilc/prod/ilc/mc-2020/ild/dst-merged/500-TDR_ws/hh/ILD_l5_o1_v02/v02-02-03/00015739/000/rv02-02-03.sv02-02-03.mILD_l5_o1_v02.E500-TDR_ws.I403014.Pe3e3qqh.eR.pL.n000.d_dstm_15739_0.slcio', 1.7215218e+09, 1.7215219e+09,  141.56892 , 60),\n",
       "       ('failed',  96, 'hh', '', -1,  1, '/pnfs/desy.de/ilc/prod/ilc/mc-2020/ild/dst-merged/500-TDR_ws/hh/ILD_l5_o1_v02/v02-02-03/00015741/000/rv02-02-03.sv02-02-03.mILD_l5_o1_v02.E500-TDR_ws.I403005.Pn1n1hh.eL.pR.n000.d_dstm_15741_0.slcio', 1.7215218e+09, 1.7215219e+09,  106.011955, 60),\n",
       "       ('running',  97, 'hh', '',  1, -1, '/pnfs/desy.de/ilc/prod/ilc/mc-2020/ild/dst-merged/500-TDR_ws/hh/ILD_l5_o1_v02/v02-02-03/00015741/000/rv02-02-03.sv02-02-03.mILD_l5_o1_v02.E500-TDR_ws.I403006.Pn1n1hh.eR.pL.n000.d_dstm_15741_0.slcio', 1.7215218e+09, 1.7215220e+09,  232.8308  , 60),\n",
       "       ('running',  98, 'hh', '', -1,  1, '/pnfs/desy.de/ilc/prod/ilc/mc-2020/ild/dst-merged/500-TDR_ws/hh/ILD_l5_o1_v02/v02-02-03/00015743/000/rv02-02-03.sv02-02-03.mILD_l5_o1_v02.E500-TDR_ws.I403026.Pe1e1qqh.eL.pR.n000.d_dstm_15743_0.slcio', 1.7215219e+09, 1.7215222e+09,  270.68274 , 60),\n",
       "       ('failed',  99, 'hh', '',  1, -1, '/pnfs/desy.de/ilc/prod/ilc/mc-2020/ild/dst-merged/500-TDR_ws/hh/ILD_l5_o1_v02/v02-02-03/00015741/000/rv02-02-03.sv02-02-03.mILD_l5_o1_v02.E500-TDR_ws.I403008.Pn23n23hh.eR.pL.n000.d_dstm_15741_0.slcio', 1.7215218e+09, 1.7215219e+09,  112.6322  , 60),\n",
       "       ('running', 100, 'hh', '', -1,  1, '/pnfs/desy.de/ilc/prod/ilc/mc-2020/ild/dst-merged/500-TDR_ws/hh/ILD_l5_o1_v02/v02-02-03/00015741/000/rv02-02-03.sv02-02-03.mILD_l5_o1_v02.E500-TDR_ws.I403015.Pn1n1qqh.eL.pR.n000.d_dstm_15741_0.slcio', 1.7215219e+09, 1.7215220e+09,  160.12561 , 60),\n",
       "       ('retry', 101, 'hh', '',  1, -1, '/pnfs/desy.de/ilc/prod/ilc/mc-2020/ild/dst-merged/500-TDR_ws/hh/ILD_l5_o1_v02/v02-02-03/00015741/000/rv02-02-03.sv02-02-03.mILD_l5_o1_v02.E500-TDR_ws.I403016.Pn1n1qqh.eR.pL.n000.d_dstm_15741_0.slcio', 1.7215217e+09, 1.7215219e+09,  264.48383 , 60),\n",
       "       ('running', 102, 'hh', '', -1,  1, '/pnfs/desy.de/ilc/prod/ilc/mc-2020/ild/dst-merged/500-TDR_ws/hh/ILD_l5_o1_v02/v02-02-03/00015743/000/rv02-02-03.sv02-02-03.mILD_l5_o1_v02.E500-TDR_ws.I403026.Pe1e1qqh.eL.pR.n000.d_dstm_15743_0.slcio', 1.7215219e+09, 1.7215223e+09,  324.7754  , 60),\n",
       "       ('running', 103, 'hh', '',  1, -1, '/pnfs/desy.de/ilc/prod/ilc/mc-2020/ild/dst-merged/500-TDR_ws/hh/ILD_l5_o1_v02/v02-02-03/00015741/000/rv02-02-03.sv02-02-03.mILD_l5_o1_v02.E500-TDR_ws.I403018.Pn23n23qqh.eR.pL.n000.d_dstm_15741_0.slcio', 1.7215218e+09, 1.7215220e+09,  250.94212 , 60),\n",
       "       ('running', 104, 'hh', '', -1, -1, '/pnfs/desy.de/ilc/prod/ilc/mc-2020/ild/dst-merged/500-TDR_ws/hh/ILD_l5_o1_v02/v02-02-03/00015743/000/rv02-02-03.sv02-02-03.mILD_l5_o1_v02.E500-TDR_ws.I403021.Pe1e1hh.eL.pL.n000.d_dstm_15743_0.slcio', 1.7215219e+09, 1.7215220e+09,  118.33696 , 60),\n",
       "       ('running', 105, 'hh', '', -1,  1, '/pnfs/desy.de/ilc/prod/ilc/mc-2020/ild/dst-merged/500-TDR_ws/hh/ILD_l5_o1_v02/v02-02-03/00015743/000/rv02-02-03.sv02-02-03.mILD_l5_o1_v02.E500-TDR_ws.I403022.Pe1e1hh.eL.pR.n000.d_dstm_15743_0.slcio', 1.7215219e+09, 1.7215220e+09,  127.75106 , 60),\n",
       "       ('running', 106, 'hh', '',  1, -1, '/pnfs/desy.de/ilc/prod/ilc/mc-2020/ild/dst-merged/500-TDR_ws/hh/ILD_l5_o1_v02/v02-02-03/00015743/000/rv02-02-03.sv02-02-03.mILD_l5_o1_v02.E500-TDR_ws.I403023.Pe1e1hh.eR.pL.n000.d_dstm_15743_0.slcio', 1.7215219e+09, 1.7215220e+09,  110.79049 , 60),\n",
       "       ('running', 107, 'hh', '', -1,  1, '/pnfs/desy.de/ilc/prod/ilc/mc-2020/ild/dst-merged/500-TDR_ws/hh/ILD_l5_o1_v02/v02-02-03/00015739/000/rv02-02-03.sv02-02-03.mILD_l5_o1_v02.E500-TDR_ws.I403013.Pe3e3qqh.eL.pR.n000.d_dstm_15739_0.slcio', 1.7215219e+09, 1.7215220e+09,  127.56312 , 60),\n",
       "       ('failed', 108, 'hh', '', -1, -1, '/pnfs/desy.de/ilc/prod/ilc/mc-2020/ild/dst-merged/500-TDR_ws/hh/ILD_l5_o1_v02/v02-02-03/00015743/000/rv02-02-03.sv02-02-03.mILD_l5_o1_v02.E500-TDR_ws.I403025.Pe1e1qqh.eL.pL.n000.d_dstm_15743_0.slcio', 1.7215218e+09, 1.7215219e+09,  110.016   , 60),\n",
       "       ('running', 109, 'hh', '', -1,  1, '/pnfs/desy.de/ilc/prod/ilc/mc-2020/ild/dst-merged/500-TDR_ws/hh/ILD_l5_o1_v02/v02-02-03/00015743/000/rv02-02-03.sv02-02-03.mILD_l5_o1_v02.E500-TDR_ws.I403026.Pe1e1qqh.eL.pR.n000.d_dstm_15743_0.slcio', 1.7215219e+09, 1.7215222e+09,  301.81546 , 60),\n",
       "       ('running', 110, 'hh', '',  1, -1, '/pnfs/desy.de/ilc/prod/ilc/mc-2020/ild/dst-merged/500-TDR_ws/hh/ILD_l5_o1_v02/v02-02-03/00015743/000/rv02-02-03.sv02-02-03.mILD_l5_o1_v02.E500-TDR_ws.I403027.Pe1e1qqh.eR.pL.n000.d_dstm_15743_0.slcio', 1.7215219e+09, 1.7215222e+09,  303.5649  , 60),\n",
       "       ('running', 111, 'hh', '',  1,  1, '/pnfs/desy.de/ilc/prod/ilc/mc-2020/ild/dst-merged/500-TDR_ws/hh/ILD_l5_o1_v02/v02-02-03/00015743/000/rv02-02-03.sv02-02-03.mILD_l5_o1_v02.E500-TDR_ws.I403028.Pe1e1qqh.eR.pR.n000.d_dstm_15743_0.slcio', 1.7215218e+09, 1.7215222e+09,  467.60437 , 60),\n",
       "       ('retry', 112, '', '',  0,  0, '', 0.0000000e+00, 0.0000000e+00,    0.      ,  0),\n",
       "       ('retry', 113, 'hh', '',  1, -1, '/pnfs/desy.de/ilc/prod/ilc/mc-2020/ild/dst-merged/500-TDR_ws/hh/ILD_l5_o1_v02/v02-02-03/00015746/000/rv02-02-03.sv02-02-03.mILD_l5_o1_v02.E500-TDR_ws.I403010.Pqqhh.eR.pL.n000.d_dstm_15746_0.slcio', 1.7215215e+09, 1.7215219e+09,  407.4384  , 60),\n",
       "       ('failed', 114, 'hh', '', -1,  1, '/pnfs/desy.de/ilc/prod/ilc/mc-2020/ild/dst-merged/500-TDR_ws/hh/ILD_l5_o1_v02/v02-02-03/00015746/000/rv02-02-03.sv02-02-03.mILD_l5_o1_v02.E500-TDR_ws.I403019.Pqqqqh.eL.pR.n000.d_dstm_15746_0.slcio', 1.7215218e+09, 1.7215219e+09,  162.11281 , 60),\n",
       "       ('running', 115, 'hh', '',  1, -1, '/pnfs/desy.de/ilc/prod/ilc/mc-2020/ild/dst-merged/500-TDR_ws/hh/ILD_l5_o1_v02/v02-02-03/00015746/000/rv02-02-03.sv02-02-03.mILD_l5_o1_v02.E500-TDR_ws.I403020.Pqqqqh.eR.pL.n000.d_dstm_15746_0.slcio', 1.7215218e+09, 1.7215222e+09,  384.0971  , 60)],\n",
       "      dtype=[('status', '<U16'), ('branch', '<i4'), ('loc', '<U32'), ('process', '<U32'), ('pol_e', '<i4'), ('pol_p', '<i4'), ('src', '<U255'), ('tStart', '<f4'), ('tEnd', '<f4'), ('tDuration', '<f4'), ('exitCode', '<i4')])"
      ]
     },
     "execution_count": 143,
     "metadata": {},
     "output_type": "execute_result"
    }
   ],
   "source": [
    "results"
   ]
  },
  {
   "cell_type": "code",
   "execution_count": null,
   "metadata": {},
   "outputs": [],
   "source": []
  },
  {
   "cell_type": "code",
   "execution_count": 52,
   "metadata": {},
   "outputs": [
    {
     "data": {
      "text/plain": [
       "dtype([('branch', '<i4'), ('loc', '<U32'), ('process', '<U32'), ('pol_e', '<i4'), ('pol_p', '<i4'), ('src', '<U255'), ('tStart', '<f4'), ('tEnd', '<f4'), ('tDuration', '<f4'), ('exitCode', '<i4')])"
      ]
     },
     "execution_count": 52,
     "metadata": {},
     "output_type": "execute_result"
    }
   ],
   "source": [
    "results.dtype"
   ]
  },
  {
   "cell_type": "code",
   "execution_count": 55,
   "metadata": {},
   "outputs": [
    {
     "data": {
      "text/plain": [
       "array([('hh', 'e1e1qqh',  1,  1, 1851.1285),\n",
       "       ('4f_ZZ_hadronic', '4f_zz_h', -1,  1, 1924.0931),\n",
       "       ('6f_ttbar', 'yyveev',  1, -1, 1981.2855),\n",
       "       ('hh', 'e3e3qqh',  1, -1, 2055.5198),\n",
       "       ('hh', 'e1e1hh',  1, -1, 2183.336 ),\n",
       "       ('hh', 'e1e1qqh', -1,  1, 2205.9746),\n",
       "       ('hh', 'e1e1qqh', -1, -1, 2301.943 ),\n",
       "       ('hh', 'e1e1qqh',  1, -1, 2327.4797),\n",
       "       ('hh', 'n23n23qqh',  1, -1, 2331.2405),\n",
       "       ('hh', 'e2e2qqh', -1,  1, 2417.748 ),\n",
       "       ('hh', 'e1e1hh', -1, -1, 2447.5864),\n",
       "       ('hh', 'n1n1hh',  1, -1, 2633.0767),\n",
       "       ('hh', 'n23n23qqh', -1,  1, 2834.8425),\n",
       "       ('hh', 'n1n1hh', -1,  1, 2887.1274),\n",
       "       ('hh', 'e3e3qqh', -1,  1, 3078.8477),\n",
       "       ('hh', 'e1e1hh', -1,  1, 3278.5688),\n",
       "       ('6f_ttbar', 'yyveev', -1,  1, 3349.6062),\n",
       "       ('hh', 'e2e2hh', -1,  1, 3437.5408),\n",
       "       ('hh', 'e2e2hh',  1, -1, 3550.467 ),\n",
       "       ('hh', 'n23n23hh',  1, -1, 3659.1785),\n",
       "       ('hh', 'e1e1hh',  1,  1, 3950.0093),\n",
       "       ('hh', 'n23n23hh', -1,  1, 4006.2188),\n",
       "       ('hh', 'e3e3hh', -1,  1, 4203.5137),\n",
       "       ('hh', 'e3e3hh',  1, -1, 4834.223 ),\n",
       "       ('hh', 'qqhh',  1, -1, 5036.167 ),\n",
       "       ('hh', 'qqhh', -1,  1, 7473.0625)],\n",
       "      dtype={'names': ['loc', 'process', 'pol_e', 'pol_p', 'tDuration'], 'formats': ['<U32', '<U32', '<i4', '<i4', '<f4'], 'offsets': [4, 132, 260, 264, 1296], 'itemsize': 1304})"
      ]
     },
     "execution_count": 55,
     "metadata": {},
     "output_type": "execute_result"
    }
   ],
   "source": [
    "np.sort(results.view()[results['tDuration'] > 1800][['loc', 'process', 'pol_e', 'pol_p', 'tDuration']], order=['tDuration'])"
   ]
  },
  {
   "cell_type": "markdown",
   "metadata": {},
   "source": [
    "Final State Analysis"
   ]
  },
  {
   "cell_type": "code",
   "execution_count": 144,
   "metadata": {},
   "outputs": [],
   "source": [
    "def get_fs_errors(branch:int):\n",
    "    with ur.open(f'{DATA_ROOT}/{branch}_FinalStates.root') as rf:\n",
    "        errors = rf['eventTree']['error_code'].array()\n",
    "        \n",
    "    return errors"
   ]
  },
  {
   "cell_type": "code",
   "execution_count": 145,
   "metadata": {},
   "outputs": [
    {
     "data": {
      "text/html": [
       "<pre>[0,\n",
       " 0,\n",
       " 0,\n",
       " 0,\n",
       " 0,\n",
       " 0,\n",
       " 0,\n",
       " 0,\n",
       " 0,\n",
       " 0,\n",
       " ...,\n",
       " 0,\n",
       " 0,\n",
       " 0,\n",
       " 0,\n",
       " 0,\n",
       " 0,\n",
       " 0,\n",
       " 0,\n",
       " 0]\n",
       "-----------------\n",
       "type: 995 * int32</pre>"
      ],
      "text/plain": [
       "<Array [0, 0, 0, 0, 0, 0, 0, 0, ..., 0, 0, 0, 0, 0, 0, 0, 0] type='995 * int32'>"
      ]
     },
     "execution_count": 145,
     "metadata": {},
     "output_type": "execute_result"
    }
   ],
   "source": [
    "get_fs_errors(0)"
   ]
  },
  {
   "cell_type": "code",
   "execution_count": null,
   "metadata": {},
   "outputs": [],
   "source": []
  },
  {
   "cell_type": "code",
   "execution_count": 57,
   "metadata": {},
   "outputs": [
    {
     "name": "stdout",
     "output_type": "stream",
     "text": [
      "Found errors in:\n",
      "Branch 0 | Loc 2f_Z_bhabhaNg | CumErr 5970995\n",
      "Branch 1 | Loc 2f_Z_bhabhaNg | CumErr 5970995\n",
      "Branch 2 | Loc 2f_Z_bhabhaNg | CumErr 5970995\n",
      "Branch 3 | Loc 2f_Z_bhabhaNg | CumErr 5970995\n",
      "Branch 4 | Loc 2f_Z_bhabhag | CumErr 5970995\n",
      "Branch 5 | Loc 2f_Z_bhabhag | CumErr 5970995\n",
      "Branch 6 | Loc 2f_Z_bhabhag | CumErr 5970995\n",
      "Branch 7 | Loc 2f_Z_bhabhag | CumErr 5970995\n",
      "Branch 8 | Loc 2f_Z_hadronic | CumErr 5970995\n",
      "Branch 9 | Loc 2f_Z_hadronic | CumErr 5970995\n",
      "Branch 10 | Loc 2f_Z_leptonic | CumErr 5988998\n",
      "Branch 11 | Loc 2f_Z_leptonic | CumErr 5988998\n",
      "Branch 12 | Loc 2f_Z_nuNg | CumErr 5994999\n",
      "Branch 13 | Loc 2f_Z_nuNg | CumErr 5988998\n",
      "Branch 14 | Loc 4f_WW_hadronic | CumErr 5940990\n",
      "Branch 15 | Loc 4f_WW_hadronic | CumErr 5940990\n",
      "Branch 16 | Loc 4f_WW_leptonic | CumErr 5994999\n",
      "Branch 17 | Loc 4f_WW_leptonic | CumErr 5994999\n",
      "Branch 18 | Loc 4f_WW_semileptonic | CumErr 5970995\n",
      "Branch 19 | Loc 4f_WW_semileptonic | CumErr 5970995\n",
      "Branch 20 | Loc 4f_ZZWWMix_hadronic | CumErr 5970995\n",
      "Branch 21 | Loc 4f_ZZWWMix_hadronic | CumErr 5940990\n",
      "Branch 22 | Loc 4f_ZZWWMix_leptonic | CumErr 5988998\n",
      "Branch 23 | Loc 4f_ZZWWMix_leptonic | CumErr 5994999\n",
      "Branch 24 | Loc 4f_ZZ_hadronic | CumErr 5940990\n",
      "Branch 25 | Loc 4f_ZZ_hadronic | CumErr 5940990\n",
      "Branch 26 | Loc 4f_ZZ_leptonic | CumErr 5994999\n",
      "Branch 27 | Loc 4f_ZZ_leptonic | CumErr 5994999\n",
      "Branch 28 | Loc 4f_ZZ_semileptonic | CumErr 5970995\n",
      "Branch 29 | Loc 4f_ZZ_semileptonic | CumErr 5970995\n",
      "Branch 30 | Loc 4f_lowmee_singleZee_leptonic | CumErr 1176196\n",
      "Branch 31 | Loc 4f_lowmee_singleZee_leptonic | CumErr 5982997\n",
      "Branch 32 | Loc 4f_lowmee_singleZee_leptonic | CumErr 1176196\n",
      "Branch 33 | Loc 4f_lowmee_singleZee_leptonic | CumErr 5982997\n",
      "Branch 34 | Loc 4f_lowmee_singleZsingleWMix_lept | CumErr 5988998\n",
      "Branch 35 | Loc 4f_lowmee_singleZsingleWMix_lept | CumErr 1836306\n",
      "Branch 36 | Loc 4f_lowmee_singleZsingleWMix_lept | CumErr 5268878\n",
      "Branch 37 | Loc 4f_singleW_leptonic | CumErr 5988998\n",
      "Branch 38 | Loc 4f_singleW_leptonic | CumErr 5982997\n",
      "Branch 39 | Loc 4f_singleW_leptonic | CumErr 5988998\n",
      "Branch 40 | Loc 4f_singleW_semileptonic | CumErr 5970995\n",
      "Branch 41 | Loc 4f_singleW_semileptonic | CumErr 5970995\n",
      "Branch 42 | Loc 4f_singleW_semileptonic | CumErr 5970995\n",
      "Branch 43 | Loc 4f_singleW_semileptonic | CumErr 5970995\n",
      "Branch 44 | Loc 4f_singleZee_leptonic | CumErr 5970995\n",
      "Branch 45 | Loc 4f_singleZee_leptonic | CumErr 5970995\n",
      "Branch 46 | Loc 4f_singleZee_leptonic | CumErr 5982997\n",
      "Branch 47 | Loc 4f_singleZee_leptonic | CumErr 5970995\n",
      "Branch 48 | Loc 4f_singleZee_semileptonic | CumErr 5970995\n",
      "Branch 49 | Loc 4f_singleZee_semileptonic | CumErr 5970995\n",
      "Branch 50 | Loc 4f_singleZee_semileptonic | CumErr 5970995\n",
      "Branch 51 | Loc 4f_singleZee_semileptonic | CumErr 5970995\n",
      "Branch 52 | Loc 4f_singleZnunu_leptonic | CumErr 5994999\n",
      "Branch 53 | Loc 4f_singleZnunu_leptonic | CumErr 5994999\n",
      "Branch 54 | Loc 4f_singleZnunu_semileptonic | CumErr 5970995\n",
      "Branch 55 | Loc 4f_singleZnunu_semileptonic | CumErr 5970995\n",
      "Branch 56 | Loc 4f_singleZsingleWMix_leptonic | CumErr 5982997\n",
      "Branch 57 | Loc 4f_singleZsingleWMix_leptonic | CumErr 5970995\n",
      "Branch 58 | Loc 4f_singleZsingleWMix_leptonic | CumErr 5982997\n",
      "Branch 59 | Loc 4f_singleZsingleWMix_leptonic | CumErr 5982997\n",
      "Branch 60 | Loc 6f_eeWW | CumErr 5970995\n",
      "Branch 61 | Loc 6f_eeWW | CumErr 5970995\n",
      "Branch 62 | Loc 6f_eeWW | CumErr 5970995\n",
      "Branch 63 | Loc 6f_eeWW | CumErr 5970995\n",
      "Branch 64 | Loc 6f_llWW | CumErr 5988998\n",
      "Branch 65 | Loc 6f_llWW | CumErr 5982997\n",
      "Branch 66 | Loc 6f_llWW | CumErr 5988998\n",
      "Branch 67 | Loc 6f_llWW | CumErr 5970995\n",
      "Branch 68 | Loc 6f_ttbar | CumErr 5970995\n",
      "Branch 69 | Loc 6f_ttbar | CumErr 5970995\n",
      "Branch 70 | Loc 6f_ttbar | CumErr 5970995\n",
      "Branch 71 | Loc 6f_ttbar | CumErr 5970995\n",
      "Branch 72 | Loc 6f_vvWW | CumErr 5982997\n",
      "Branch 73 | Loc 6f_vvWW | CumErr 5982997\n",
      "Branch 74 | Loc 6f_vvWW | CumErr 5988998\n",
      "Branch 75 | Loc 6f_vvWW | CumErr 5988998\n",
      "Branch 76 | Loc 6f_xxWW | CumErr 5970995\n",
      "Branch 77 | Loc 6f_xxWW | CumErr 5970995\n",
      "Branch 78 | Loc 6f_xxWW | CumErr 5970995\n",
      "Branch 79 | Loc 6f_xxWW | CumErr 5970995\n",
      "Branch 80 | Loc 6f_xxxxZ | CumErr 5982997\n",
      "Branch 81 | Loc 6f_xxxxZ | CumErr 5970995\n",
      "Branch 82 | Loc 6f_xxxxZ | CumErr 5940990\n",
      "Branch 83 | Loc 6f_xxxxZ | CumErr 5970995\n",
      "Branch 84 | Loc 6f_yyyyZ | CumErr 5970995\n",
      "Branch 85 | Loc 6f_yyyyZ | CumErr 5970995\n",
      "Branch 86 | Loc 6f_yyyyZ | CumErr 5970995\n",
      "Branch 87 | Loc 6f_yyyyZ | CumErr 5970995\n",
      "Branch 88 | Loc hh | CumErr 5970995\n",
      "Branch 89 | Loc hh | CumErr 5940990\n",
      "Branch 90 | Loc hh | CumErr 5940990\n",
      "Branch 91 | Loc hh | CumErr 5970995\n",
      "Branch 92 | Loc hh | CumErr 5970995\n",
      "Branch 93 | Loc hh | CumErr 5970995\n",
      "Branch 94 | Loc hh | CumErr 5970995\n",
      "Branch 95 | Loc hh | CumErr 5970995\n",
      "Branch 96 | Loc hh | CumErr 5970995\n",
      "Branch 97 | Loc hh | CumErr 5970995\n",
      "Branch 98 | Loc hh | CumErr 5970995\n",
      "Branch 99 | Loc hh | CumErr 5970995\n",
      "Branch 100 | Loc hh | CumErr 5970995\n",
      "Branch 101 | Loc hh | CumErr 5970995\n",
      "Branch 102 | Loc hh | CumErr 5970995\n",
      "Branch 103 | Loc hh | CumErr 5970995\n",
      "Branch 104 | Loc hh | CumErr 5940990\n",
      "Branch 105 | Loc hh | CumErr 5940990\n",
      "Branch 106 | Loc hh | CumErr 5940990\n",
      "Branch 107 | Loc hh | CumErr 5940990\n",
      "Branch 108 | Loc hh | CumErr 5940990\n",
      "Branch 109 | Loc hh | CumErr 5940990\n",
      "Branch 110 | Loc hh | CumErr 5940990\n",
      "Branch 111 | Loc hh | CumErr 5940990\n",
      "Branch 112 | Loc hh | CumErr 5940990\n",
      "Branch 113 | Loc hh | CumErr 5940990\n",
      "Branch 114 | Loc hh | CumErr 5940990\n",
      "Branch 115 | Loc hh | CumErr 5940990\n"
     ]
    }
   ],
   "source": [
    "print('Found errors in:')\n",
    "for result in results:\n",
    "    branch, location = result['branch'], result['loc']\n",
    "    n_errors = np.sum(get_fs_errors(branch))\n",
    "    \n",
    "    if n_errors > 0:\n",
    "        print(f'Branch {branch} | Loc {location} | CumErr {n_errors}')"
   ]
  },
  {
   "cell_type": "code",
   "execution_count": 59,
   "metadata": {},
   "outputs": [
    {
     "data": {
      "text/plain": [
       "116"
      ]
     },
     "execution_count": 59,
     "metadata": {},
     "output_type": "execute_result"
    }
   ],
   "source": [
    "len(results)"
   ]
  },
  {
   "cell_type": "code",
   "execution_count": null,
   "metadata": {},
   "outputs": [],
   "source": []
  },
  {
   "cell_type": "code",
   "execution_count": null,
   "metadata": {},
   "outputs": [],
   "source": [
    "print('Found errors in:')\n",
    "for result in results:\n",
    "    branch, location = result['branch'], result['loc']\n",
    "    n_errors = np.sum(get_fs_errors(branch))\n",
    "    \n",
    "    if n_errors > 0:\n",
    "        print(f'Branch {branch} | Loc {location} | CumErr {n_errors}')"
   ]
  }
 ],
 "metadata": {
  "kernelspec": {
   "display_name": "graphjet_pyg",
   "language": "python",
   "name": "python3"
  },
  "language_info": {
   "codemirror_mode": {
    "name": "ipython",
    "version": 3
   },
   "file_extension": ".py",
   "mimetype": "text/x-python",
   "name": "python",
   "nbconvert_exporter": "python",
   "pygments_lexer": "ipython3",
   "version": "3.11.4"
  }
 },
 "nbformat": 4,
 "nbformat_minor": 2
}
