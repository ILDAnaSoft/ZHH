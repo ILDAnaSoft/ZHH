{
 "cells": [
  {
   "cell_type": "code",
   "execution_count": 4,
   "metadata": {},
   "outputs": [],
   "source": [
    "from pyLCIO import IOIMPL\n",
    "from tqdm.auto import tqdm\n",
    "from glob import glob\n",
    "import os.path as osp\n",
    "import numpy as np"
   ]
  },
  {
   "cell_type": "code",
   "execution_count": 16,
   "metadata": {},
   "outputs": [
    {
     "data": {
      "application/vnd.jupyter.widget-view+json": {
       "model_id": "a966b0efb68a4a04aac2884f726c7121",
       "version_major": 2,
       "version_minor": 0
      },
      "text/plain": [
       "  0%|          | 0/9400 [00:00<?, ?it/s]"
      ]
     },
     "metadata": {},
     "output_type": "display_data"
    }
   ],
   "source": [
    "reader = IOIMPL.LCFactory.getInstance().createLCReader()\n",
    "reader.open(osp.abspath(\"zh.slcio\"))\n",
    "result = []\n",
    "\n",
    "for event in (pbar := tqdm(range(reader.getNumberOfEvents()))):\n",
    "    event = reader.readNextEvent()\n",
    "    pbar.set_description(f'Processing event {event.getEventNumber()}')\n",
    "\n",
    "    # Iterate through the MCParticle collection and find muon and anti muon\n",
    "    # see page 5 on https://pdg.lbl.gov/2019/reviews/rpp2019-rev-monte-carlo-numbering.pdf\n",
    "    iso_leptons = event.getCollection('ISOLeptons')\n",
    "    \n",
    "    E = 0\n",
    "    pX = 0\n",
    "    pY = 0\n",
    "    pZ = 0\n",
    "    n_muons = 0\n",
    "    \n",
    "    for iso_lepton in iso_leptons:\n",
    "        if abs(iso_lepton.getType()) == 13:\n",
    "            mom = iso_lepton.getMomentum()\n",
    "            \n",
    "            E += iso_lepton.getEnergy()\n",
    "            pX += mom[0]\n",
    "            pY += mom[1]\n",
    "            pZ += mom[2]\n",
    "            n_muons += 1\n",
    "\n",
    "    if n_muons == 2:\n",
    "        result.append([E, pX, pY, pZ])\n",
    "        \n",
    "    # break\n",
    "\n",
    "reader.getNumberOfEvents()\n",
    "\n",
    "result = np.array(result)"
   ]
  },
  {
   "cell_type": "code",
   "execution_count": 14,
   "metadata": {},
   "outputs": [
    {
     "data": {
      "text/plain": [
       "9400"
      ]
     },
     "execution_count": 14,
     "metadata": {},
     "output_type": "execute_result"
    }
   ],
   "source": [
    "reader.getNumberOfEvents()"
   ]
  },
  {
   "cell_type": "code",
   "execution_count": 17,
   "metadata": {},
   "outputs": [
    {
     "data": {
      "text/plain": [
       "8355"
      ]
     },
     "execution_count": 17,
     "metadata": {},
     "output_type": "execute_result"
    }
   ],
   "source": [
    "len(result)"
   ]
  },
  {
   "cell_type": "code",
   "execution_count": 18,
   "metadata": {},
   "outputs": [],
   "source": [
    "np.save('mumuH_250.npy', result)"
   ]
  }
 ],
 "metadata": {
  "kernelspec": {
   "display_name": "py311",
   "language": "python",
   "name": "python3"
  },
  "language_info": {
   "codemirror_mode": {
    "name": "ipython",
    "version": 3
   },
   "file_extension": ".py",
   "mimetype": "text/x-python",
   "name": "python",
   "nbconvert_exporter": "python",
   "pygments_lexer": "ipython3",
   "version": "3.11.9"
  }
 },
 "nbformat": 4,
 "nbformat_minor": 2
}
