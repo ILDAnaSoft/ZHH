{
 "cells": [
  {
   "cell_type": "code",
   "execution_count": 1,
   "metadata": {},
   "outputs": [],
   "source": [
    "from zhh import zhh_cuts, fetch_preselection_data, Cut, ProcessCategories, fs_columns\n",
    "import zhh, os, ROOT\n",
    "from glob import glob\n",
    "import uproot as ur\n",
    "import numpy as np\n",
    "import matplotlib.pyplot as plt\n",
    "import seaborn as sns\n",
    "import pandas as pd"
   ]
  },
  {
   "cell_type": "code",
   "execution_count": 2,
   "metadata": {},
   "outputs": [
    {
     "data": {
      "image/png": "[encoded data removed]",
      "text/plain": [
       "<Figure size 640x480 with 1 Axes>"
      ]
     },
     "metadata": {},
     "output_type": "display_data"
    }
   ],
   "source": [
    "def plot_counts(tree):\n",
    "    pdg = np.array(tree[f'final_state_counts/final_state_counts.first'].array(entry_stop=1)[0])\n",
    "    count = np.array(tree[f'final_state_counts/final_state_counts.second'].array()).sum(axis=0)\n",
    "    xpos = np.arange(len(fs_columns))\n",
    "    \n",
    "    fig, ax = plt.subplots()\n",
    "    ax.set_xticks(xpos)\n",
    "    ax.set_xticklabels(fs_columns, rotation=45)\n",
    "    ax.set_xlim(-1, len(fs_columns))\n",
    "    ax.bar(xpos, count)\n",
    "    ax.set_title('Final state counts')\n",
    "    ax.set_yscale('log')\n",
    "    \n",
    "tf = ur.open('/gpfs/home/ilc/bliewert/DevRepositories/ZHH/scripts/zhh_AIDA.root')\n",
    "plot_counts(tf['FinalStates'])"
   ]
  },
  {
   "cell_type": "code",
   "execution_count": 3,
   "metadata": {},
   "outputs": [
    {
     "name": "stdout",
     "output_type": "stream",
     "text": [
      "Found 2400 output files\n"
     ]
    }
   ],
   "source": [
    "prefix1 = '/home/ilc/bliewert/jobresults/550-llhh-ana'\n",
    "prefix2 = '/home/ilc/bliewert/jobresults/550-2l4q-ana'\n",
    "\n",
    "files = glob(f'{prefix1}/*.root') + glob(f'{prefix2}/*.root')\n",
    "output = list(filter(lambda path: any([elem in path for elem in ['e1e1hh', 'e2e2hh', 'P6f']]), files))\n",
    "output.sort()\n",
    "\n",
    "print(f'Found {len(output)} output files')"
   ]
  },
  {
   "cell_type": "code",
   "execution_count": 4,
   "metadata": {},
   "outputs": [],
   "source": [
    "from configurations import llhh1_lvbbqq\n",
    "WORK_ROOT = '/home/ilc/bliewert/jobresults/analysis'\n",
    "\n",
    "llhh1_lvbbqq.initialize(WORK_ROOT, root_files=output, trees=['FinalStates', 'EventObservablesLL', 'KinFitLLZHH'])\n",
    "\n",
    "rf = llhh1_lvbbqq.rf\n",
    "tree = rf['Merged']"
   ]
  },
  {
   "cell_type": "code",
   "execution_count": 5,
   "metadata": {},
   "outputs": [
    {
     "data": {
      "image/png": "[encoded data removed]",
      "text/plain": [
       "<Figure size 640x480 with 1 Axes>"
      ]
     },
     "metadata": {},
     "output_type": "display_data"
    }
   ],
   "source": [
    "plot_counts(tree)"
   ]
  },
  {
   "cell_type": "code",
   "execution_count": 6,
   "metadata": {},
   "outputs": [],
   "source": [
    "llhh1_lvbbqq.fetch('ll')\n",
    "data = llhh1_lvbbqq.summary"
   ]
  },
  {
   "cell_type": "code",
   "execution_count": 7,
   "metadata": {},
   "outputs": [
    {
     "name": "stdout",
     "output_type": "stream",
     "text": [
      "[ 1  2  3  4  5  6 11 12 13 14 15 16 21 22 23 24 25]\n"
     ]
    }
   ],
   "source": [
    "# split into signal and background\n",
    "pdgs = np.array(rf['Merged/final_state_counts.first'].array(entry_stop=1)[0])\n",
    "print(pdgs)\n",
    "\n",
    "counts = np.array(rf['Merged/final_state_counts.second'].array())\n",
    "n_d = counts[:, 0]\n",
    "n_u = counts[:, 1]\n",
    "n_s = counts[:, 2]\n",
    "n_c = counts[:, 3]\n",
    "n_b = counts[:, 4]\n",
    "n_t = counts[:, 5]\n",
    "n_q = n_d + n_u + n_s + n_c + n_b + n_t\n",
    "\n",
    "n_v = counts[:, 7] + counts[:, 9] + counts[:, 11]\n",
    "n_e = counts[:, 6]\n",
    "n_mu = counts[:, 8]\n",
    "n_tau = counts[:, 10]\n",
    "n_charged_lep = n_e + n_mu + n_tau\n",
    "\n",
    "#sig = subset[subset['process']  > 0]\n",
    "#bkg = subset[subset['process'] == 0]\n",
    "\n",
    "#is_sig = np.isin(data['id'], sig['id'])\n",
    "#is_bkg = np.isin(data['id'], bkg['id'])\n",
    "\n",
    "is_sig = np.isin(np.array(rf['Merged/process']), [ProcessCategories.e1e1hh, ProcessCategories.e2e2hh])\n",
    "is_bkg = (n_charged_lep == 1) & (n_v == 1) & (n_q == 4) & (n_b >= 2)\n",
    "\n",
    "data['is_sig'] = is_sig\n",
    "data['is_bkg'] = is_bkg"
   ]
  },
  {
   "cell_type": "code",
   "execution_count": 8,
   "metadata": {},
   "outputs": [
    {
     "name": "stdout",
     "output_type": "stream",
     "text": [
      "Process e1e1hh       with Pol eL.pL has    698409 events xsec=5.121E-04 wt=4.620E-07\n",
      "Process e1e1hh       with Pol eR.pR has     19426 events xsec=8.317E-03 wt=5.566E-05\n",
      "Process f6_yyvlyx    with Pol eL.pL has    583397 events xsec=1.965E+02 wt=2.122E-01\n",
      "Process f6_yyvlyx    with Pol eR.pR has    365285 events xsec=7.378E+01 wt=2.626E-02\n",
      "Process f6_yyxylv    with Pol eL.pL has    557536 events xsec=1.960E+02 wt=2.214E-01\n",
      "Process f6_yyxylv    with Pol eR.pR has    367384 events xsec=7.348E+01 wt=2.600E-02\n",
      "Process f6_yyxyev    with Pol eL.pL has    402003 events xsec=9.937E+01 wt=1.557E-01\n",
      "Process f6_yyxyev    with Pol eR.pR has    204546 events xsec=3.691E+01 wt=2.346E-02\n",
      "Process f6_yyveyx    with Pol eL.pL has    430103 events xsec=4.999E-01 wt=7.322E-04\n",
      "Process f6_yyveyx    with Pol eR.pR has    159887 events xsec=3.671E+01 wt=2.985E-02\n",
      "Process f6_eexxxx    with Pol eL.pL has     37500 events xsec=1.588E-02 wt=2.668E-04\n",
      "Process f6_eexxxx    with Pol eR.pR has     40000 events xsec=2.450E-02 wt=7.963E-05\n",
      "Process f6_eexyyx    with Pol eL.pL has     90406 events xsec=4.469E+00 wt=3.114E-02\n",
      "Process f6_eexyyx    with Pol eR.pR has     42237 events xsec=1.827E+00 wt=5.623E-03\n",
      "Process f6_eeyyyy    with Pol eL.pL has     37500 events xsec=1.467E-02 wt=2.464E-04\n",
      "Process f6_eeyyyy    with Pol eR.pR has     37500 events xsec=3.768E-02 wt=1.306E-04\n",
      "Process f6_llxxxx    with Pol eL.pL has     20000 events xsec=8.363E-02 wt=2.634E-03\n",
      "Process f6_llxxxx    with Pol eR.pR has     20000 events xsec=3.065E-02 wt=1.993E-04\n",
      "Process f6_llxyyx    with Pol eL.pL has     35541 events xsec=7.110E+00 wt=1.260E-01\n",
      "Process f6_llxyyx    with Pol eR.pR has     20000 events xsec=1.591E-01 wt=1.034E-03\n",
      "Process f6_llyyyy    with Pol eL.pL has     20000 events xsec=2.022E-01 wt=6.369E-03\n",
      "Process f6_llyyyy    with Pol eR.pR has     20000 events xsec=6.648E-02 wt=4.321E-04\n",
      "Process f6_vvxxxx    with Pol eL.pL has     20000 events xsec=3.478E-01 wt=1.096E-02\n",
      "Process f6_vvxxxx    with Pol eR.pR has     20000 events xsec=4.542E-02 wt=2.953E-04\n",
      "Process f6_vvxyyx    with Pol eL.pL has     82118 events xsec=1.858E+01 wt=1.426E-01\n",
      "Process f6_vvxyyx    with Pol eR.pR has     20000 events xsec=2.618E-01 wt=1.701E-03\n",
      "Process f6_vvyyyy    with Pol eL.pL has     20000 events xsec=1.002E+00 wt=3.157E-02\n",
      "Process f6_vvyyyy    with Pol eR.pR has     20000 events xsec=1.024E-01 wt=6.654E-04\n",
      "Process f6_xxveyx    with Pol eL.pL has     40000 events xsec=2.437E-01 wt=3.839E-03\n",
      "Process f6_xxveyx    with Pol eR.pR has     20000 events xsec=3.000E-02 wt=1.950E-04\n",
      "Process f6_xxvlyx    with Pol eL.pL has     32019 events xsec=6.405E+00 wt=1.260E-01\n",
      "Process f6_xxvlyx    with Pol eR.pR has     20000 events xsec=6.023E-02 wt=3.915E-04\n",
      "Process f6_xxxyev    with Pol eL.pL has     20000 events xsec=3.849E+00 wt=1.212E-01\n",
      "Process f6_xxxyev    with Pol eR.pR has     40000 events xsec=3.006E-02 wt=9.770E-05\n",
      "Process f6_xxxylv    with Pol eL.pL has     31978 events xsec=6.397E+00 wt=1.260E-01\n",
      "Process f6_xxxylv    with Pol eR.pR has     20000 events xsec=6.011E-02 wt=3.907E-04\n"
     ]
    }
   ],
   "source": [
    "# calculate and apply weights\n",
    "weights, processes = llhh1_lvbbqq.weight()"
   ]
  },
  {
   "cell_type": "code",
   "execution_count": 9,
   "metadata": {},
   "outputs": [],
   "source": [
    "t = np.array(tree[f'final_state_counts/final_state_counts.second'].array())"
   ]
  },
  {
   "cell_type": "code",
   "execution_count": 10,
   "metadata": {},
   "outputs": [],
   "source": [
    "assert(np.array(tree['error_code'].array()).sum() == 0)"
   ]
  },
  {
   "cell_type": "code",
   "execution_count": 11,
   "metadata": {},
   "outputs": [],
   "source": [
    "from matplotlib.ticker import MultipleLocator\n",
    "from phc import plot_hist, export_figures, set_colorpalette\n",
    "from zhh import fig_ild_style, plot_preselection_by_event_categories, \\\n",
    "    calc_preselection_by_event_categories, plot_preselection_by_calc_dict, \\\n",
    "    Cut, WindowCut, LessThanEqualCut, GreaterThanEqualCut, EqualCut, zhh_cuts, \\\n",
    "    colorpalette_desy, assign_colors, annotate_cut, weighted_counts_by_categories, \\\n",
    "    plot_total_efficiency, plot_cut_efficiencies, annotate_cut\n",
    "\n",
    "plot_options = {\n",
    "    'llbbbb': [\n",
    "        { 'xlabel': 'IsoLeptons', 'plot_hist_kwargs': { 'int_bins': True }, 'ild_style_kwargs': { 'xminor': False, 'xlocator': MultipleLocator(1) } },\n",
    "        { 'xlabel': 'm_{ll}', 'xlim': [40, 140], 'xunit': 'GeV' },\n",
    "        { 'xlabel': 'm_{H1}', 'xlim': [0, 250], 'xunit': 'GeV' },\n",
    "        { 'xlabel': 'm_{H2}', 'xlim': [0, 250], 'xunit': 'GeV' },\n",
    "        { 'xlabel': 'p_{t}^{miss}', 'xlim': [0, 200], 'xunit': 'GeV' },\n",
    "        { 'xlabel': 'thrust' },\n",
    "        None\n",
    "    ],\n",
    "    'vvbbbb': [\n",
    "        { 'xlabel': 'IsoLeptons', 'plot_hist_kwargs': { 'int_bins': True }, 'ild_style_kwargs': { 'xminor': False, 'xlocator': MultipleLocator(1) } },\n",
    "        { 'xlabel': 'm_{H1}', 'xlim': [0, 250], 'xunit': 'GeV' },\n",
    "        { 'xlabel': 'm_{H2}', 'xlim': [0, 250], 'xunit': 'GeV' },\n",
    "        { 'xlabel': 'p_{t}^{miss}', 'xlim': [0, 200], 'xunit': 'GeV' },\n",
    "        { 'xlabel': 'thrust' },\n",
    "        { 'xlabel': 'E_{vis}' },\n",
    "        { 'xlabel': 'm_{HH}', 'xunit': 'GeV' },\n",
    "        { 'xlabel': 'bmax3' },\n",
    "        None\n",
    "    ],\n",
    "    'qqbbbb': [\n",
    "        { 'xlabel': 'IsoLeptons', 'plot_hist_kwargs': { 'int_bins': True }, 'ild_style_kwargs': { 'xminor': False, 'xlocator': MultipleLocator(1) } },\n",
    "        { 'xlabel': 'm_{H1}', 'xlim': [0, 250], 'xunit': 'GeV' },\n",
    "        { 'xlabel': 'm_{H2}', 'xlim': [0, 250], 'xunit': 'GeV' },\n",
    "        { 'xlabel': 'p_{t}^{miss}', 'xlim': [0, 200], 'xunit': 'GeV' },\n",
    "        { 'xlabel': 'thrust' },\n",
    "        { 'xlabel': 'bmax4' },\n",
    "        None\n",
    "    ]\n",
    "}"
   ]
  },
  {
   "cell_type": "code",
   "execution_count": null,
   "metadata": {},
   "outputs": [
    {
     "name": "stdout",
     "output_type": "stream",
     "text": [
      "Processing <Cut on nisoleps >= 2> before: 4614775 after: 936075\n"
     ]
    },
    {
     "data": {
      "application/vnd.jupyter.widget-view+json": {
       "model_id": "22d2f05ef9c3444c9c58a0916f57f5c6",
       "version_major": 2,
       "version_minor": 0
      },
      "text/plain": [
       "  0%|          | 0/4 [00:00<?, ?it/s]"
      ]
     },
     "metadata": {},
     "output_type": "display_data"
    },
    {
     "name": "stdout",
     "output_type": "stream",
     "text": [
      "Processing <Cut on 71.2 <= m_{Z} <= 111.2> before: 936075 after: 280796\n"
     ]
    },
    {
     "data": {
      "application/vnd.jupyter.widget-view+json": {
       "model_id": "841480fdad7f44d3a50ed9ee3e51c5bd",
       "version_major": 2,
       "version_minor": 0
      },
      "text/plain": [
       "  0%|          | 0/4 [00:00<?, ?it/s]"
      ]
     },
     "metadata": {},
     "output_type": "display_data"
    },
    {
     "name": "stdout",
     "output_type": "stream",
     "text": [
      "Processing <Cut on 60.0 <= m_{H1} <= 180.0> before: 280796 after: 267868\n"
     ]
    },
    {
     "data": {
      "application/vnd.jupyter.widget-view+json": {
       "model_id": "d241d246fcd14b69956945d428235c16",
       "version_major": 2,
       "version_minor": 0
      },
      "text/plain": [
       "  0%|          | 0/4 [00:00<?, ?it/s]"
      ]
     },
     "metadata": {},
     "output_type": "display_data"
    },
    {
     "name": "stdout",
     "output_type": "stream",
     "text": [
      "Processing <Cut on 60.0 <= m_{H2} <= 180.0> before: 267868 after: 252297\n"
     ]
    },
    {
     "data": {
      "application/vnd.jupyter.widget-view+json": {
       "model_id": "5253cebbec7645b4aa17a0ae17318de9",
       "version_major": 2,
       "version_minor": 0
      },
      "text/plain": [
       "  0%|          | 0/4 [00:00<?, ?it/s]"
      ]
     },
     "metadata": {},
     "output_type": "display_data"
    },
    {
     "name": "stdout",
     "output_type": "stream",
     "text": [
      "Processing <Cut on p_{t}^{miss} <= 70.0> before: 252297 after: 120675\n"
     ]
    },
    {
     "data": {
      "application/vnd.jupyter.widget-view+json": {
       "model_id": "f8e81d3f83124058b033d227ba5b9c4b",
       "version_major": 2,
       "version_minor": 0
      },
      "text/plain": [
       "  0%|          | 0/4 [00:00<?, ?it/s]"
      ]
     },
     "metadata": {},
     "output_type": "display_data"
    },
    {
     "name": "stdout",
     "output_type": "stream",
     "text": [
      "Processing <Cut on thrust <= 0.9> before: 120675 after: 118591\n"
     ]
    },
    {
     "data": {
      "application/vnd.jupyter.widget-view+json": {
       "model_id": "1b6d5aabe586446c96de098382cc3165",
       "version_major": 2,
       "version_minor": 0
      },
      "text/plain": [
       "  0%|          | 0/4 [00:00<?, ?it/s]"
      ]
     },
     "metadata": {},
     "output_type": "display_data"
    },
    {
     "name": "stderr",
     "output_type": "stream",
     "text": [
      "findfont: Font family 'Arial' not found.\n",
      "findfont: Font family ['Arial'] not found. Falling back to DejaVu Sans.\n",
      "findfont: Font family 'Arial' not found.\n",
      "/cvmfs/sw.hsf.org/key4hep/releases/2024-10-03/x86_64-almalinux9-gcc14.2.0-opt/py-matplotlib/3.9.2-es64w5/lib/python3.11/site-packages/matplotlib/ticker.py:2926: RuntimeWarning: divide by zero encountered in scalar divide\n",
      "  minorstep = majorstep / ndivs\n",
      "/cvmfs/sw.hsf.org/key4hep/releases/2024-10-03/x86_64-almalinux9-gcc14.2.0-opt/py-matplotlib/3.9.2-es64w5/lib/python3.11/site-packages/matplotlib/ticker.py:2932: RuntimeWarning: invalid value encountered in multiply\n",
      "  locs = (np.arange(tmin, tmax) * minorstep) + t0\n",
      "findfont: Font family 'Arial' not found.\n",
      "findfont: Font family 'Arial' not found.\n",
      "findfont: Font family 'Arial' not found.\n",
      "findfont: Font family 'Arial' not found.\n",
      "findfont: Font family 'Arial' not found.\n",
      "findfont: Font family 'Arial' not found.\n",
      "findfont: Font family 'Arial' not found.\n",
      "findfont: Font family 'Arial' not found.\n",
      "findfont: Font family 'Arial' not found.\n",
      "findfont: Font family 'Arial' not found.\n",
      "findfont: Font family 'Arial' not found.\n",
      "findfont: Font family 'Arial' not found.\n",
      "findfont: Font family 'Arial' not found.\n",
      "findfont: Font family 'Arial' not found.\n",
      "findfont: Font family 'Arial' not found.\n",
      "findfont: Font family 'Arial' not found.\n",
      "findfont: Font family 'Arial' not found.\n",
      "findfont: Font family 'Arial' not found.\n",
      "findfont: Font family 'Arial' not found.\n",
      "findfont: Font family 'Arial' not found.\n",
      "findfont: Font family 'Arial' not found.\n",
      "findfont: Font family 'Arial' not found.\n",
      "findfont: Font family 'Arial' not found.\n",
      "findfont: Font family ['Arial'] not found. Falling back to DejaVu Sans.\n",
      "findfont: Font family 'Arial' not found.\n",
      "findfont: Font family 'Arial' not found.\n",
      "findfont: Font family 'Arial' not found.\n",
      "findfont: Font family 'Arial' not found.\n",
      "findfont: Font family 'Arial' not found.\n",
      "findfont: Font family 'Arial' not found.\n",
      "findfont: Font family 'Arial' not found.\n",
      "findfont: Font family 'Arial' not found.\n",
      "findfont: Font family 'Arial' not found.\n",
      "findfont: Font family 'Arial' not found.\n",
      "findfont: Font family 'Arial' not found.\n",
      "findfont: Font family 'Arial' not found.\n",
      "findfont: Font family 'Arial' not found.\n",
      "findfont: Font family 'Arial' not found.\n",
      "findfont: Font family 'Arial' not found.\n",
      "findfont: Font family 'Arial' not found.\n",
      "findfont: Font family 'Arial' not found.\n",
      "findfont: Font family 'Arial' not found.\n",
      "findfont: Font family 'Arial' not found.\n",
      "findfont: Font family 'Arial' not found.\n",
      "findfont: Font family 'Arial' not found.\n",
      "findfont: Font family 'Arial' not found.\n",
      "findfont: Font family 'Arial' not found.\n",
      "findfont: Font family 'Arial' not found.\n",
      "findfont: Font family 'Arial' not found.\n",
      "findfont: Font family 'Arial' not found.\n",
      "findfont: Font family 'Arial' not found.\n",
      "findfont: Font family 'Arial' not found.\n",
      "findfont: Font family 'Arial' not found.\n",
      "findfont: Font family 'Arial' not found.\n",
      "findfont: Font family 'Arial' not found.\n",
      "findfont: Font family 'Arial' not found.\n",
      "findfont: Font family 'Arial' not found.\n",
      "findfont: Font family 'Arial' not found.\n",
      "findfont: Font family 'Arial' not found.\n",
      "findfont: Font family 'Arial' not found.\n",
      "findfont: Font family 'Arial' not found.\n",
      "findfont: Font family 'Arial' not found.\n",
      "findfont: Font family 'Arial' not found.\n",
      "findfont: Font family 'Arial' not found.\n",
      "findfont: Font family 'Arial' not found.\n",
      "findfont: Font family 'Arial' not found.\n",
      "findfont: Font family 'Arial' not found.\n",
      "findfont: Font family 'Arial' not found.\n",
      "findfont: Font family 'Arial' not found.\n",
      "findfont: Font family 'Arial' not found.\n",
      "findfont: Font family 'Arial' not found.\n",
      "findfont: Font family 'Arial' not found.\n",
      "findfont: Font family 'Arial' not found.\n",
      "findfont: Font family 'Arial' not found.\n",
      "findfont: Font family 'Arial' not found.\n",
      "findfont: Font family 'Arial' not found.\n",
      "findfont: Font family 'Arial' not found.\n",
      "findfont: Font family 'Arial' not found.\n",
      "findfont: Font family 'Arial' not found.\n",
      "findfont: Font family 'Arial' not found.\n",
      "findfont: Font family 'Arial' not found.\n",
      "findfont: Font family 'Arial' not found.\n",
      "findfont: Font family 'Arial' not found.\n",
      "findfont: Font family 'Arial' not found.\n",
      "findfont: Font family 'Arial' not found.\n",
      "findfont: Font family 'Arial' not found.\n",
      "findfont: Font family 'Arial' not found.\n",
      "findfont: Font family 'Arial' not found.\n",
      "findfont: Font family 'Arial' not found.\n",
      "findfont: Font family 'Arial' not found.\n",
      "findfont: Font family 'Arial' not found.\n",
      "findfont: Font family 'Arial' not found.\n",
      "findfont: Font family 'Arial' not found.\n",
      "findfont: Font family 'Arial' not found.\n",
      "findfont: Font family 'Arial' not found.\n",
      "findfont: Font family 'Arial' not found.\n",
      "findfont: Font family 'Arial' not found.\n",
      "findfont: Font family 'Arial' not found.\n",
      "findfont: Font family 'Arial' not found.\n",
      "findfont: Font family 'Arial' not found.\n",
      "findfont: Font family 'Arial' not found.\n",
      "findfont: Font family 'Arial' not found.\n",
      "findfont: Font family 'Arial' not found.\n",
      "findfont: Font family 'Arial' not found.\n",
      "findfont: Font family 'Arial' not found.\n",
      "findfont: Font family 'Arial' not found.\n",
      "findfont: Font family 'Arial' not found.\n",
      "findfont: Font family 'Arial' not found.\n",
      "findfont: Font family 'Arial' not found.\n",
      "findfont: Font family 'Arial' not found.\n",
      "findfont: Font family 'Arial' not found.\n",
      "findfont: Font family 'Arial' not found.\n",
      "findfont: Font family 'Arial' not found.\n",
      "findfont: Font family 'Arial' not found.\n",
      "findfont: Font family 'Arial' not found.\n",
      "findfont: Font family 'Arial' not found.\n",
      "findfont: Font family 'Arial' not found.\n",
      "findfont: Font family 'Arial' not found.\n",
      "findfont: Font family 'Arial' not found.\n",
      "findfont: Font family 'Arial' not found.\n",
      "findfont: Font family 'Arial' not found.\n",
      "findfont: Font family 'Arial' not found.\n",
      "findfont: Font family 'Arial' not found.\n",
      "findfont: Font family 'Arial' not found.\n",
      "findfont: Font family 'Arial' not found.\n",
      "findfont: Font family 'Arial' not found.\n",
      "findfont: Font family 'Arial' not found.\n",
      "findfont: Font family 'Arial' not found.\n",
      "findfont: Font family 'Arial' not found.\n",
      "findfont: Font family 'Arial' not found.\n",
      "findfont: Font family 'Arial' not found.\n",
      "findfont: Font family 'Arial' not found.\n",
      "findfont: Font family 'Arial' not found.\n",
      "findfont: Font family 'Arial' not found.\n",
      "findfont: Font family 'Arial' not found.\n",
      "findfont: Font family 'Arial' not found.\n",
      "findfont: Font family 'Arial' not found.\n",
      "findfont: Font family 'Arial' not found.\n",
      "findfont: Font family 'Arial' not found.\n",
      "findfont: Font family 'Arial' not found.\n",
      "findfont: Font family 'Arial' not found.\n",
      "findfont: Font family 'Arial' not found.\n",
      "findfont: Font family 'Arial' not found.\n",
      "findfont: Font family 'Arial' not found.\n",
      "findfont: Font family 'Arial' not found.\n",
      "findfont: Font family 'Arial' not found.\n",
      "findfont: Font family 'Arial' not found.\n",
      "findfont: Font family 'Arial' not found.\n"
     ]
    },
    {
     "data": {
      "image/png": "[encoded data removed]",
      "text/plain": [
       "<Figure size 800x600 with 1 Axes>"
      ]
     },
     "metadata": {},
     "output_type": "display_data"
    },
    {
     "name": "stderr",
     "output_type": "stream",
     "text": [
      "findfont: Font family 'Arial' not found.\n",
      "findfont: Font family 'Arial' not found.\n",
      "findfont: Font family 'Arial' not found.\n",
      "findfont: Font family 'Arial' not found.\n",
      "findfont: Font family 'Arial' not found.\n",
      "findfont: Font family 'Arial' not found.\n",
      "findfont: Font family 'Arial' not found.\n",
      "findfont: Font family 'Arial' not found.\n",
      "findfont: Font family 'Arial' not found.\n",
      "findfont: Font family 'Arial' not found.\n",
      "findfont: Font family 'Arial' not found.\n",
      "findfont: Font family 'Arial' not found.\n",
      "findfont: Font family 'Arial' not found.\n",
      "findfont: Font family 'Arial' not found.\n",
      "findfont: Font family 'Arial' not found.\n",
      "findfont: Font family 'Arial' not found.\n",
      "findfont: Font family 'Arial' not found.\n",
      "findfont: Font family 'Arial' not found.\n",
      "findfont: Font family 'Arial' not found.\n"
     ]
    },
    {
     "data": {
      "image/png": "[encoded data removed]",
      "text/plain": [
       "<Figure size 800x600 with 1 Axes>"
      ]
     },
     "metadata": {},
     "output_type": "display_data"
    },
    {
     "name": "stderr",
     "output_type": "stream",
     "text": [
      "findfont: Font family 'Arial' not found.\n",
      "findfont: Font family 'Arial' not found.\n",
      "findfont: Font family 'Arial' not found.\n",
      "findfont: Font family 'Arial' not found.\n",
      "findfont: Font family 'Arial' not found.\n",
      "findfont: Font family 'Arial' not found.\n",
      "findfont: Font family 'Arial' not found.\n",
      "findfont: Font family 'Arial' not found.\n",
      "findfont: Font family 'Arial' not found.\n",
      "findfont: Font family 'Arial' not found.\n",
      "findfont: Font family 'Arial' not found.\n",
      "findfont: Font family 'Arial' not found.\n",
      "findfont: Font family 'Arial' not found.\n",
      "findfont: Font family 'Arial' not found.\n",
      "findfont: Font family 'Arial' not found.\n",
      "findfont: Font family 'Arial' not found.\n",
      "findfont: Font family 'Arial' not found.\n",
      "findfont: Font family 'Arial' not found.\n",
      "findfont: Font family 'Arial' not found.\n"
     ]
    },
    {
     "data": {
      "image/png": "[encoded data removed]",
      "text/plain": [
       "<Figure size 800x600 with 1 Axes>"
      ]
     },
     "metadata": {},
     "output_type": "display_data"
    },
    {
     "name": "stderr",
     "output_type": "stream",
     "text": [
      "findfont: Font family 'Arial' not found.\n",
      "findfont: Font family 'Arial' not found.\n",
      "findfont: Font family 'Arial' not found.\n",
      "findfont: Font family 'Arial' not found.\n",
      "findfont: Font family 'Arial' not found.\n",
      "findfont: Font family 'Arial' not found.\n",
      "findfont: Font family 'Arial' not found.\n",
      "findfont: Font family 'Arial' not found.\n",
      "findfont: Font family 'Arial' not found.\n",
      "findfont: Font family 'Arial' not found.\n",
      "findfont: Font family 'Arial' not found.\n",
      "findfont: Font family 'Arial' not found.\n",
      "findfont: Font family 'Arial' not found.\n",
      "findfont: Font family 'Arial' not found.\n",
      "findfont: Font family 'Arial' not found.\n",
      "findfont: Font family 'Arial' not found.\n",
      "findfont: Font family 'Arial' not found.\n",
      "findfont: Font family 'Arial' not found.\n",
      "findfont: Font family 'Arial' not found.\n"
     ]
    },
    {
     "data": {
      "image/png": "[encoded data removed]",
      "text/plain": [
       "<Figure size 800x600 with 1 Axes>"
      ]
     },
     "metadata": {},
     "output_type": "display_data"
    },
    {
     "name": "stderr",
     "output_type": "stream",
     "text": [
      "findfont: Font family 'Arial' not found.\n",
      "findfont: Font family 'Arial' not found.\n",
      "findfont: Font family 'Arial' not found.\n",
      "findfont: Font family 'Arial' not found.\n",
      "findfont: Font family 'Arial' not found.\n",
      "findfont: Font family 'Arial' not found.\n",
      "findfont: Font family 'Arial' not found.\n",
      "findfont: Font family 'Arial' not found.\n",
      "findfont: Font family 'Arial' not found.\n",
      "findfont: Font family 'Arial' not found.\n",
      "findfont: Font family 'Arial' not found.\n",
      "findfont: Font family 'Arial' not found.\n",
      "findfont: Font family 'Arial' not found.\n",
      "findfont: Font family 'Arial' not found.\n",
      "findfont: Font family 'Arial' not found.\n",
      "findfont: Font family 'Arial' not found.\n",
      "findfont: Font family 'Arial' not found.\n",
      "findfont: Font family 'Arial' not found.\n",
      "findfont: Font family 'Arial' not found.\n",
      "findfont: Font family 'Arial' not found.\n",
      "findfont: Font family 'Arial' not found.\n",
      "findfont: Font family 'Arial' not found.\n",
      "findfont: Font family 'Arial' not found.\n",
      "findfont: Font family 'Arial' not found.\n",
      "findfont: Font family 'Arial' not found.\n"
     ]
    },
    {
     "data": {
      "image/png": "[encoded data removed]",
      "text/plain": [
       "<Figure size 800x600 with 1 Axes>"
      ]
     },
     "metadata": {},
     "output_type": "display_data"
    },
    {
     "name": "stderr",
     "output_type": "stream",
     "text": [
      "findfont: Font family 'Arial' not found.\n",
      "findfont: Font family 'Arial' not found.\n",
      "findfont: Font family 'Arial' not found.\n",
      "findfont: Font family 'Arial' not found.\n",
      "findfont: Font family 'Arial' not found.\n",
      "findfont: Font family 'Arial' not found.\n",
      "findfont: Font family 'Arial' not found.\n",
      "findfont: Font family 'Arial' not found.\n",
      "findfont: Font family 'Arial' not found.\n",
      "findfont: Font family 'Arial' not found.\n",
      "findfont: Font family 'Arial' not found.\n",
      "findfont: Font family 'Arial' not found.\n",
      "findfont: Font family 'Arial' not found.\n",
      "findfont: Font family 'Arial' not found.\n",
      "findfont: Font family 'Arial' not found.\n",
      "findfont: Font family 'Arial' not found.\n",
      "findfont: Font family 'Arial' not found.\n"
     ]
    },
    {
     "data": {
      "image/png": "[encoded data removed]",
      "text/plain": [
       "<Figure size 800x600 with 1 Axes>"
      ]
     },
     "metadata": {},
     "output_type": "display_data"
    }
   ],
   "source": [
    "data = llhh1_lvbbqq.summary\n",
    "plot = True\n",
    "\n",
    "# apply cuts\n",
    "masks = []\n",
    "figs = []\n",
    "\n",
    "subset = data\n",
    "for i, cut in enumerate(zhh_cuts('ll')):\n",
    "    mask = cut(subset)\n",
    "    masks.append(mask)\n",
    "    \n",
    "    print('Processing', cut, 'before:', len(subset), 'after:', mask.sum())\n",
    "    \n",
    "    if plot:\n",
    "        calc_dics = calc_preselection_by_event_categories(subset, processes, processes, quantity=cut.quantity)\n",
    "        \n",
    "        prefix, suffix, categories_additional, yscale_default = 'full', 'bbbb', 5, 'log'\n",
    "        hypothesis = 'llbbbb'\n",
    "        plot_kwargs = {\n",
    "            'bins': 100,\n",
    "            'xlabel': cut.quantity,\n",
    "            'yscale': yscale_default,\n",
    "            'plot_flat': False,\n",
    "            'ild_style_kwargs': {},\n",
    "            'plot_hist_kwargs': {}\n",
    "        } | plot_options[hypothesis][i]\n",
    "        plot_kwargs['ild_style_kwargs']['title_postfix'] = rf' before cut on ${cut.formula(unit=plot_kwargs[\"xunit\"] if (\"xunit\" in plot_kwargs) else None)}$'\n",
    "\n",
    "        fig = plot_preselection_by_calc_dict(calc_dics[0], hypothesis=hypothesis, **plot_kwargs)[0];\n",
    "        annotate_cut(fig.axes[0], cut);\n",
    "        figs += [fig]\n",
    "        \n",
    "    subset = subset[mask]\n",
    "    \n",
    "passed_presel_mask = np.isin(data['id'], subset['id'])\n",
    "\n",
    "is_sig_and_passed = is_sig & passed_presel_mask\n",
    "is_bkg_and_passed = is_bkg & passed_presel_mask\n",
    "\n",
    "sig = data[is_sig_and_passed]\n",
    "bkg = data[is_bkg_and_passed]"
   ]
  },
  {
   "cell_type": "code",
   "execution_count": 15,
   "metadata": {},
   "outputs": [
    {
     "data": {
      "text/plain": [
       "(array([ 0,  1,  2,  3,  4,  5,  6,  7,  8,  9, 10, 11, 12, 13, 14, 15, 16,\n",
       "        17, 18, 19, 20, 21, 22, 23, 24, 25, 26, 27, 28, 29, 30, 31, 32, 33,\n",
       "        34, 35], dtype=uint32),\n",
       " array([698409,  19426, 583397, 365285, 557536, 367384, 402003, 204546,\n",
       "        430103, 159887,  37500,  40000,  90406,  42237,  37500,  37500,\n",
       "         20000,  20000,  35541,  20000,  20000,  20000,  20000,  20000,\n",
       "         82118,  20000,  20000,  20000,  40000,  20000,  32019,  20000,\n",
       "         20000,  40000,  31978,  20000]))"
      ]
     },
     "execution_count": 15,
     "metadata": {},
     "output_type": "execute_result"
    }
   ],
   "source": [
    "np.unique(weights['pid'], return_counts=True)"
   ]
  },
  {
   "cell_type": "code",
   "execution_count": 16,
   "metadata": {},
   "outputs": [
    {
     "data": {
      "text/plain": [
       "array([False, False, False, ..., False, False, False])"
      ]
     },
     "execution_count": 16,
     "metadata": {},
     "output_type": "execute_result"
    }
   ],
   "source": [
    "weights['pid'] == np.arange(len(weights))"
   ]
  },
  {
   "cell_type": "code",
   "execution_count": 13,
   "metadata": {},
   "outputs": [
    {
     "data": {
      "text/plain": [
       "array([(10, 7027, 0, 0.01588139, 0, 2.6680733e-04),\n",
       "       (10, 7027, 0, 0.01588139, 0, 2.6680733e-04),\n",
       "       (10, 7027, 0, 0.01588139, 0, 2.6680733e-04), ...,\n",
       "       ( 1, 1111, 3, 0.00051212, 0, 5.5657863e-05),\n",
       "       ( 1, 1111, 3, 0.00051212, 0, 5.5657863e-05),\n",
       "       ( 1, 1111, 3, 0.00051212, 0, 5.5657863e-05)],\n",
       "      dtype=[('pid', '<u4'), ('process', '<u4'), ('polarization_code', 'u1'), ('cross_section', '<f4'), ('n_gen', '<u4'), ('weight', '<f4')])"
      ]
     },
     "execution_count": 13,
     "metadata": {},
     "output_type": "execute_result"
    }
   ],
   "source": [
    "weights"
   ]
  },
  {
   "cell_type": "code",
   "execution_count": null,
   "metadata": {},
   "outputs": [],
   "source": []
  },
  {
   "cell_type": "code",
   "execution_count": 57,
   "metadata": {},
   "outputs": [],
   "source": [
    "features = ['evis', 'mzll', 'plmin', 'mbmax34', 'ptmiss', ('npfos', 'I'), 'mvalepminus']\n",
    "names = []\n",
    "dtypes = [('weight', 'f')] + []\n",
    "\n",
    "for feat in features:\n",
    "    if isinstance(feat, str):\n",
    "        dtypes.append((feat, 'f'))\n",
    "        names.append(feat)\n",
    "    elif isinstance(feat, tuple):\n",
    "        dtypes.append(feat)\n",
    "        names.append(feat[0])\n",
    "\n",
    "signal = np.zeros(len(sig), dtype=dtypes)\n",
    "background = np.zeros(len(bkg), dtype=dtypes)\n",
    "\n",
    "with ur.recreate('input.root') as file:\n",
    "    for target, mask, treeName in (\n",
    "        (signal, is_sig_and_passed, 'TreeS'),\n",
    "        (background, is_bkg_and_passed, 'TreeB')\n",
    "    ):\n",
    "        target['weight'] = 1/len(target)\n",
    "        \n",
    "        for feat in names:\n",
    "            target[feat] = np.array(rf[f'Merged/{feat}'].array())[mask]\n",
    "        \n",
    "        file[treeName] = target"
   ]
  },
  {
   "cell_type": "code",
   "execution_count": 14,
   "metadata": {},
   "outputs": [],
   "source": [
    "from zhh import parse_polarization_code, sample_weight, ProcessCategories"
   ]
  },
  {
   "cell_type": "code",
   "execution_count": 15,
   "metadata": {},
   "outputs": [
    {
     "data": {
      "text/plain": [
       "'e1e1hh'"
      ]
     },
     "execution_count": 15,
     "metadata": {},
     "output_type": "execute_result"
    }
   ],
   "source": [
    "ProcessCategories.inverted[1111]"
   ]
  },
  {
   "cell_type": "code",
   "execution_count": 19,
   "metadata": {},
   "outputs": [
    {
     "data": {
      "text/plain": [
       "19706.73"
      ]
     },
     "execution_count": 19,
     "metadata": {},
     "output_type": "execute_result"
    }
   ],
   "source": [
    "weights['weight'].sum()"
   ]
  },
  {
   "cell_type": "code",
   "execution_count": 16,
   "metadata": {},
   "outputs": [
    {
     "data": {
      "text/plain": [
       "array([(0, -1, -1, 0, 1.5881389e-02, 1790369, 5.5883871e-03),\n",
       "       (1,  1,  1, 3, 2.4501428e-02,  994809, 3.2018062e-03),\n",
       "       (2, -1, -1, 0, 5.1213225e-04, 1960368, 1.6458303e-04),\n",
       "       (3,  1,  1, 3, 8.3169974e-03, 1976464, 5.4704241e-04),\n",
       "       (4, -1, -1, 0, 1.9596890e+02,  492739, 2.5055945e+02),\n",
       "       (5,  1,  1, 3, 7.3478470e+01,  320585, 2.9796158e+01)],\n",
       "      dtype=[('pid', '<u2'), ('pol_e', '<i4'), ('pol_p', '<i4'), ('polarization_code', 'u1'), ('cross_sec', '<f4'), ('n_gen', '<u4'), ('weight', '<f4')])"
      ]
     },
     "execution_count": 16,
     "metadata": {},
     "output_type": "execute_result"
    }
   ],
   "source": [
    "processes"
   ]
  },
  {
   "cell_type": "code",
   "execution_count": 50,
   "metadata": {},
   "outputs": [
    {
     "data": {
      "text/plain": [
       "0"
      ]
     },
     "execution_count": 50,
     "metadata": {},
     "output_type": "execute_result"
    }
   ],
   "source": [
    "mask_bkg.sum()"
   ]
  },
  {
   "cell_type": "code",
   "execution_count": 47,
   "metadata": {},
   "outputs": [
    {
     "data": {
      "text/plain": [
       "681589"
      ]
     },
     "execution_count": 47,
     "metadata": {},
     "output_type": "execute_result"
    }
   ],
   "source": [
    "mask_sig.sum()"
   ]
  },
  {
   "cell_type": "code",
   "execution_count": 6,
   "metadata": {},
   "outputs": [],
   "source": [
    "import ROOT"
   ]
  },
  {
   "cell_type": "code",
   "execution_count": 8,
   "metadata": {},
   "outputs": [],
   "source": [
    "rf = ur.open('/home/ilc/bliewert/jobresults/550-2l4q-ana/E550-TDR_ws.P6f_eexxxx.Gwhizard-3_1_5.eL.pL.I410026.0-0_AIDA.root')"
   ]
  },
  {
   "cell_type": "code",
   "execution_count": 9,
   "metadata": {},
   "outputs": [
    {
     "data": {
      "text/plain": [
       "['EventObservablesQQ;1',\n",
       " 'KinFitQQZZZ;2',\n",
       " 'KinFitQQZZZ;1',\n",
       " 'KinFitQQZZH;2',\n",
       " 'KinFitQQZZH;1',\n",
       " 'KinFitQQZHH;2',\n",
       " 'KinFitQQZHH;1',\n",
       " 'KinFitQQNMC;2',\n",
       " 'KinFitQQNMC;1',\n",
       " 'EventObservablesVV;1',\n",
       " 'KinFitVVZZZ;2',\n",
       " 'KinFitVVZZZ;1',\n",
       " 'KinFitVVZZH;2',\n",
       " 'KinFitVVZZH;1',\n",
       " 'KinFitVVZHH;2',\n",
       " 'KinFitVVZHH;1',\n",
       " 'KinFitVVNMC;2',\n",
       " 'KinFitVVNMC;1',\n",
       " 'EventObservablesLL;1',\n",
       " 'KinFitLLZZZ;2',\n",
       " 'KinFitLLZZZ;1',\n",
       " 'KinFitLLZZH;2',\n",
       " 'KinFitLLZZH;1',\n",
       " 'KinFitLLZHH;2',\n",
       " 'KinFitLLZHH;1',\n",
       " 'KinFitLLNMC;2',\n",
       " 'KinFitLLNMC;1',\n",
       " 'SLDCorrection;4',\n",
       " 'SLDCorrection;3',\n",
       " 'SLDCorrection;2',\n",
       " 'SLDCorrection;1',\n",
       " 'SLDStatus;4',\n",
       " 'SLDStatus;3',\n",
       " 'SLDStatus;2',\n",
       " 'SLDStatus;1',\n",
       " 'BHadronType;4',\n",
       " 'BHadronType;3',\n",
       " 'BHadronType;2',\n",
       " 'BHadronType;1',\n",
       " 'CHadronType;4',\n",
       " 'CHadronType;3',\n",
       " 'CHadronType;2',\n",
       " 'CHadronType;1',\n",
       " 'PxResidual;8',\n",
       " 'PxResidual;7',\n",
       " 'PxResidual;6',\n",
       " 'PxResidual;5',\n",
       " 'PxResidual;4',\n",
       " 'PxResidual;3',\n",
       " 'PxResidual;2',\n",
       " 'PxResidual;1',\n",
       " 'PyResidual;8',\n",
       " 'PyResidual;7',\n",
       " 'PyResidual;6',\n",
       " 'PyResidual;5',\n",
       " 'PyResidual;4',\n",
       " 'PyResidual;3',\n",
       " 'PyResidual;2',\n",
       " 'PyResidual;1',\n",
       " 'PzResidual;8',\n",
       " 'PzResidual;7',\n",
       " 'PzResidual;6',\n",
       " 'PzResidual;5',\n",
       " 'PzResidual;4',\n",
       " 'PzResidual;3',\n",
       " 'PzResidual;2',\n",
       " 'PzResidual;1',\n",
       " 'EResidual;8',\n",
       " 'EResidual;7',\n",
       " 'EResidual;6',\n",
       " 'EResidual;5',\n",
       " 'EResidual;4',\n",
       " 'EResidual;3',\n",
       " 'EResidual;2',\n",
       " 'EResidual;1',\n",
       " 'PxNormalizedResidual;8',\n",
       " 'PxNormalizedResidual;7',\n",
       " 'PxNormalizedResidual;6',\n",
       " 'PxNormalizedResidual;5',\n",
       " 'PxNormalizedResidual;4',\n",
       " 'PxNormalizedResidual;3',\n",
       " 'PxNormalizedResidual;2',\n",
       " 'PxNormalizedResidual;1',\n",
       " 'PyNormalizedResidual;8',\n",
       " 'PyNormalizedResidual;7',\n",
       " 'PyNormalizedResidual;6',\n",
       " 'PyNormalizedResidual;5',\n",
       " 'PyNormalizedResidual;4',\n",
       " 'PyNormalizedResidual;3',\n",
       " 'PyNormalizedResidual;2',\n",
       " 'PyNormalizedResidual;1',\n",
       " 'PzNormalizedResidual;8',\n",
       " 'PzNormalizedResidual;7',\n",
       " 'PzNormalizedResidual;6',\n",
       " 'PzNormalizedResidual;5',\n",
       " 'PzNormalizedResidual;4',\n",
       " 'PzNormalizedResidual;3',\n",
       " 'PzNormalizedResidual;2',\n",
       " 'PzNormalizedResidual;1',\n",
       " 'ENormalizedResidual;8',\n",
       " 'ENormalizedResidual;7',\n",
       " 'ENormalizedResidual;6',\n",
       " 'ENormalizedResidual;5',\n",
       " 'ENormalizedResidual;4',\n",
       " 'ENormalizedResidual;3',\n",
       " 'ENormalizedResidual;2',\n",
       " 'ENormalizedResidual;1',\n",
       " 'SLDecayFlavour;4',\n",
       " 'SLDecayFlavour;3',\n",
       " 'SLDecayFlavour;2',\n",
       " 'SLDecayFlavour;1',\n",
       " 'SLDMode B-Hadron;4',\n",
       " 'SLDMode B-Hadron;3',\n",
       " 'SLDMode B-Hadron;2',\n",
       " 'SLDMode B-Hadron;1',\n",
       " 'SLDMode C-Hadron;4',\n",
       " 'SLDMode C-Hadron;3',\n",
       " 'SLDMode C-Hadron;2',\n",
       " 'SLDMode C-Hadron;1',\n",
       " 'SLDecayOrder;4',\n",
       " 'SLDecayOrder;3',\n",
       " 'SLDecayOrder;2',\n",
       " 'SLDecayOrder;1',\n",
       " 'p_{x}^{#nu};4',\n",
       " 'p_{x}^{#nu};3',\n",
       " 'p_{x}^{#nu};2',\n",
       " 'p_{x}^{#nu};1',\n",
       " 'p_{y}^{#nu};4',\n",
       " 'p_{y}^{#nu};3',\n",
       " 'p_{y}^{#nu};2',\n",
       " 'p_{y}^{#nu};1',\n",
       " 'p_{z}^{#nu};4',\n",
       " 'p_{z}^{#nu};3',\n",
       " 'p_{z}^{#nu};2',\n",
       " 'p_{z}^{#nu};1',\n",
       " 'E^{#nu};4',\n",
       " 'E^{#nu};3',\n",
       " 'E^{#nu};2',\n",
       " 'E^{#nu};1',\n",
       " 'secondary_vertices;4',\n",
       " 'secondary_vertices;3',\n",
       " 'secondary_vertices;2',\n",
       " 'secondary_vertices;1',\n",
       " 'LeptonPairing;1',\n",
       " 'FinalStates;1',\n",
       " 'HdecayMode;1',\n",
       " 'ntp;12',\n",
       " 'ntp;11',\n",
       " 'ntp;10',\n",
       " 'ntp;9',\n",
       " 'ntp;8',\n",
       " 'ntp;7',\n",
       " 'ntp;6',\n",
       " 'ntp;5',\n",
       " 'ntp;4',\n",
       " 'ntp;3',\n",
       " 'ntp;2',\n",
       " 'ntp;1']"
      ]
     },
     "execution_count": 9,
     "metadata": {},
     "output_type": "execute_result"
    }
   ],
   "source": [
    "rf.keys()"
   ]
  },
  {
   "cell_type": "code",
   "execution_count": null,
   "metadata": {},
   "outputs": [],
   "source": []
  },
  {
   "cell_type": "code",
   "execution_count": null,
   "metadata": {},
   "outputs": [
    {
     "ename": "AttributeError",
     "evalue": "'AnalysisChannel' object has no attribute '_work_dir'",
     "output_type": "error",
     "traceback": [
      "\u001b[0;31m---------------------------------------------------------------------------\u001b[0m",
      "\u001b[0;31mAttributeError\u001b[0m                            Traceback (most recent call last)",
      "Cell \u001b[0;32mIn[5], line 5\u001b[0m\n\u001b[1;32m      3\u001b[0m \u001b[38;5;28;01mfor\u001b[39;00m i, path \u001b[38;5;129;01min\u001b[39;00m \u001b[38;5;28menumerate\u001b[39m(output):\n\u001b[1;32m      4\u001b[0m     f\u001b[38;5;241m.\u001b[39mwrite(\u001b[38;5;124mf\u001b[39m\u001b[38;5;124m'\u001b[39m\u001b[38;5;124mchain->Add(\u001b[39m\u001b[38;5;124m\"\u001b[39m\u001b[38;5;132;01m{\u001b[39;00mpath\u001b[38;5;132;01m}\u001b[39;00m\u001b[38;5;124m\"\u001b[39m\u001b[38;5;124m);\u001b[39m\u001b[38;5;130;01m\\n\u001b[39;00m\u001b[38;5;124m'\u001b[39m)\n\u001b[0;32m----> 5\u001b[0m f\u001b[38;5;241m.\u001b[39mwrite(\u001b[38;5;124mf\u001b[39m\u001b[38;5;124m'\u001b[39m\u001b[38;5;124mchain->Merge(\u001b[39m\u001b[38;5;124m\"\u001b[39m\u001b[38;5;132;01m{\u001b[39;00m\u001b[43mllhh1_lvbbqq\u001b[49m\u001b[38;5;241;43m.\u001b[39;49m\u001b[43m_work_dir\u001b[49m\u001b[38;5;132;01m}\u001b[39;00m\u001b[38;5;124m\"\u001b[39m\u001b[38;5;124m);\u001b[39m\u001b[38;5;130;01m\\n\u001b[39;00m\u001b[38;5;124m'\u001b[39m)\n",
      "\u001b[0;31mAttributeError\u001b[0m: 'AnalysisChannel' object has no attribute '_work_dir'"
     ]
    }
   ],
   "source": [
    "with open(f'merge.C', 'w') as f:\n",
    "    f.write('TChain *chain = new TChain(\"hAnl\");\\n')\n",
    "    for i, path in enumerate(output):\n",
    "        f.write(f'chain->Add(\"{path}\");\\n')\n",
    "    f.write(f'chain->Merge(\"{llhh1_lvbbqq._work_dir}\");\\n')\n",
    "\n"
   ]
  },
  {
   "cell_type": "code",
   "execution_count": 4,
   "metadata": {},
   "outputs": [],
   "source": [
    "rf = llhh1_lvbbqq.rf"
   ]
  },
  {
   "cell_type": "code",
   "execution_count": 6,
   "metadata": {},
   "outputs": [
    {
     "ename": "ValueError",
     "evalue": "could not broadcast input array from shape (0,) into shape (3500791,)",
     "output_type": "error",
     "traceback": [
      "\u001b[0;31m---------------------------------------------------------------------------\u001b[0m",
      "\u001b[0;31mValueError\u001b[0m                                Traceback (most recent call last)",
      "Cell \u001b[0;32mIn[6], line 1\u001b[0m\n\u001b[0;32m----> 1\u001b[0m a \u001b[38;5;241m=\u001b[39m \u001b[43mfetch_preselection_data\u001b[49m\u001b[43m(\u001b[49m\u001b[43mrf\u001b[49m\u001b[43m)\u001b[49m\n",
      "File \u001b[0;32m/gpfs/home/ilc/bliewert/DevRepositories/ZHH/zhh/analysis/PreselectionAnalysis.py:502\u001b[0m, in \u001b[0;36mfetch_preselection_data\u001b[0;34m(rf, final_states)\u001b[0m\n\u001b[1;32m    499\u001b[0m EvtObsTree \u001b[38;5;241m=\u001b[39m \u001b[38;5;124mf\u001b[39m\u001b[38;5;124m'\u001b[39m\u001b[38;5;124mEventObservables\u001b[39m\u001b[38;5;132;01m{\u001b[39;00mpresel\u001b[38;5;241m.\u001b[39mupper()\u001b[38;5;132;01m}\u001b[39;00m\u001b[38;5;124m'\u001b[39m\n\u001b[1;32m    500\u001b[0m \u001b[38;5;66;03m#KinFitTree = f'KinFit{presel.upper()}_ZHH'\u001b[39;00m\n\u001b[0;32m--> 502\u001b[0m \u001b[43mresults\u001b[49m\u001b[43m[\u001b[49m\u001b[38;5;124;43mf\u001b[39;49m\u001b[38;5;124;43m'\u001b[39;49m\u001b[38;5;132;43;01m{\u001b[39;49;00m\u001b[43mpresel\u001b[49m\u001b[38;5;132;43;01m}\u001b[39;49;00m\u001b[38;5;124;43m_mh1\u001b[39;49m\u001b[38;5;124;43m'\u001b[39;49m\u001b[43m]\u001b[49m \u001b[38;5;241m=\u001b[39m rf[\u001b[38;5;124mf\u001b[39m\u001b[38;5;124m'\u001b[39m\u001b[38;5;132;01m{\u001b[39;00mEvtObsTree\u001b[38;5;132;01m}\u001b[39;00m\u001b[38;5;124m/zhh_mh1\u001b[39m\u001b[38;5;124m'\u001b[39m]\n\u001b[1;32m    503\u001b[0m results[\u001b[38;5;124mf\u001b[39m\u001b[38;5;124m'\u001b[39m\u001b[38;5;132;01m{\u001b[39;00mpresel\u001b[38;5;132;01m}\u001b[39;00m\u001b[38;5;124m_mh2\u001b[39m\u001b[38;5;124m'\u001b[39m] \u001b[38;5;241m=\u001b[39m rf[\u001b[38;5;124mf\u001b[39m\u001b[38;5;124m'\u001b[39m\u001b[38;5;132;01m{\u001b[39;00mEvtObsTree\u001b[38;5;132;01m}\u001b[39;00m\u001b[38;5;124m/zhh_mh2\u001b[39m\u001b[38;5;124m'\u001b[39m]\n\u001b[1;32m    505\u001b[0m \u001b[38;5;28;01mif\u001b[39;00m presel \u001b[38;5;241m==\u001b[39m \u001b[38;5;124m'\u001b[39m\u001b[38;5;124mll\u001b[39m\u001b[38;5;124m'\u001b[39m:                        \n\u001b[1;32m    506\u001b[0m     \u001b[38;5;66;03m#lepTypes = rf['lepTypes'].array()\u001b[39;00m\n\u001b[1;32m    507\u001b[0m     \u001b[38;5;66;03m#pass_ltype11 = np.sum(np.abs(lepTypes) == 11, axis=1) == 2\u001b[39;00m\n\u001b[1;32m    508\u001b[0m     \u001b[38;5;66;03m#pass_ltype13 = np.sum(np.abs(lepTypes) == 13, axis=1) == 2\u001b[39;00m\n\u001b[1;32m    509\u001b[0m     \u001b[38;5;66;03m#results['ll_dilepton_type'] = pass_ltype11*11 + pass_ltype13*13\u001b[39;00m\n",
      "\u001b[0;31mValueError\u001b[0m: could not broadcast input array from shape (0,) into shape (3500791,)"
     ]
    }
   ],
   "source": [
    "a = fetch_preselection_data(rf)"
   ]
  },
  {
   "cell_type": "code",
   "execution_count": 12,
   "metadata": {},
   "outputs": [
    {
     "data": {
      "text/html": [
       "<pre>-----------------\n",
       "type: 0 * float32</pre>"
      ],
      "text/plain": [
       "<Array [] type='0 * float32'>"
      ]
     },
     "execution_count": 12,
     "metadata": {},
     "output_type": "execute_result"
    }
   ],
   "source": [
    "rf['EventObservablesLL']['mzll'].array()"
   ]
  },
  {
   "cell_type": "code",
   "execution_count": 15,
   "metadata": {},
   "outputs": [
    {
     "data": {
      "text/html": [
       "<pre>---------------\n",
       "type: 0 * int32</pre>"
      ],
      "text/plain": [
       "<Array [] type='0 * int32'>"
      ]
     },
     "execution_count": 15,
     "metadata": {},
     "output_type": "execute_result"
    }
   ],
   "source": [
    "rf['EventObservablesLL/errorCode'].array()"
   ]
  },
  {
   "cell_type": "code",
   "execution_count": 8,
   "metadata": {},
   "outputs": [
    {
     "ename": "NameError",
     "evalue": "name 'a' is not defined",
     "output_type": "error",
     "traceback": [
      "\u001b[0;31m---------------------------------------------------------------------------\u001b[0m",
      "\u001b[0;31mNameError\u001b[0m                                 Traceback (most recent call last)",
      "Cell \u001b[0;32mIn[8], line 1\u001b[0m\n\u001b[0;32m----> 1\u001b[0m \u001b[43ma\u001b[49m\u001b[38;5;241m.\u001b[39mnbytes\n",
      "\u001b[0;31mNameError\u001b[0m: name 'a' is not defined"
     ]
    }
   ],
   "source": [
    "a.nbytes"
   ]
  },
  {
   "cell_type": "code",
   "execution_count": null,
   "metadata": {},
   "outputs": [],
   "source": []
  },
  {
   "cell_type": "code",
   "execution_count": null,
   "metadata": {},
   "outputs": [
    {
     "data": {
      "text/plain": [
       "<ReadOnlyDirectory '/' at 0x7fba6bc8da10>"
      ]
     },
     "execution_count": 4,
     "metadata": {},
     "output_type": "execute_result"
    }
   ],
   "source": [
    "llhh1_lvbbqq.rf"
   ]
  },
  {
   "cell_type": "code",
   "execution_count": null,
   "metadata": {},
   "outputs": [],
   "source": []
  },
  {
   "cell_type": "code",
   "execution_count": null,
   "metadata": {},
   "outputs": [],
   "source": []
  },
  {
   "cell_type": "code",
   "execution_count": 40,
   "metadata": {},
   "outputs": [],
   "source": [
    "sig_file = '/home/ilc/bliewert/DevRepositories/ZHH/scripts/sig/zhh_AIDA.root'\n",
    "bkg_file = '/home/ilc/bliewert/DevRepositories/ZHH/scripts/bkg/zhh_AIDA.root'\n",
    "merged_file = '/home/ilc/bliewert/DevRepositories/ZHH/scripts/target.root'\n",
    "\n",
    "sig = ur.open(sig_file)\n",
    "bkg = ur.open(bkg_file)\n",
    "merged = ur.open(merged_file)\n",
    "data = fetch_preselection_data(merged_file)"
   ]
  },
  {
   "cell_type": "code",
   "execution_count": 41,
   "metadata": {},
   "outputs": [
    {
     "data": {
      "text/plain": [
       "array([579530], dtype=uint32)"
      ]
     },
     "execution_count": 41,
     "metadata": {},
     "output_type": "execute_result"
    }
   ],
   "source": [
    "a = data[data['xx_nisoleps'] == 2]\n",
    "\n",
    "a['event'][a['ll_mh1'] == 0]"
   ]
  },
  {
   "cell_type": "code",
   "execution_count": 42,
   "metadata": {},
   "outputs": [
    {
     "data": {
      "text/plain": [
       "array([(1112, 3, 579530, 11, 0, 0, 0, 0.7567164, 343.5149, 42.100082, 199.53299, 2, 0, 0., 0., 0., 0, 0., 0., 133.12218, 134.04944, 339.01794, 131.85199, 97.89545, 0.000218, 0.84293354, 0.52192885, 0.00732994, 0.000218, 0.84293354, 0.52192885, 0.00732994, 0.9998361, 0.00014139, 0.00019322, 0.52192885, 0, 0, 0, 0, 2, 0, 0, 0, 2, 0, 0, 0, 0, 0, 0, 2, 0, 2)],\n",
       "      dtype=[('process', '<u4'), ('pol_code', 'u1'), ('event', '<u4'), ('event_category', 'u1'), ('ll_pass', 'u1'), ('vv_pass', 'u1'), ('qq_pass', 'u1'), ('xx_thrust', '<f4'), ('xx_e_vis', '<f4'), ('xx_pt_miss', '<f4'), ('xx_invmass_miss', '<f4'), ('xx_nisoleps', 'u1'), ('passed', 'u1'), ('weight', '<f4'), ('ll_mh1', '<f4'), ('ll_mh2', '<f4'), ('ll_dilepton_type', 'u1'), ('ll_mz', '<f4'), ('ll_mz_pre_pairing', '<f4'), ('vv_mh1', '<f4'), ('vv_mh2', '<f4'), ('vv_mhh', '<f4'), ('qq_mh1', '<f4'), ('qq_mh2', '<f4'), ('ll_bmax1', '<f4'), ('ll_bmax2', '<f4'), ('ll_bmax3', '<f4'), ('ll_bmax4', '<f4'), ('vv_bmax1', '<f4'), ('vv_bmax2', '<f4'), ('vv_bmax3', '<f4'), ('vv_bmax4', '<f4'), ('qq_bmax1', '<f4'), ('qq_bmax2', '<f4'), ('qq_bmax3', '<f4'), ('qq_bmax4', '<f4'), ('Nd', 'u1'), ('Nu', 'u1'), ('Ns', 'u1'), ('Nc', 'u1'), ('Nb', 'u1'), ('Nt', 'u1'), ('Ne1', 'u1'), ('Nn1', 'u1'), ('Ne2', 'u1'), ('Nn2', 'u1'), ('Ne3', 'u1'), ('Nv3', 'u1'), ('Ng', 'u1'), ('Ny', 'u1'), ('NZ', 'u1'), ('NW', 'u1'), ('NH', 'u1'), ('Nb_from_H', 'u1')])"
      ]
     },
     "execution_count": 42,
     "metadata": {},
     "output_type": "execute_result"
    }
   ],
   "source": [
    "a[a['event'] == 579530]"
   ]
  },
  {
   "cell_type": "code",
   "execution_count": 43,
   "metadata": {},
   "outputs": [
    {
     "data": {
      "text/plain": [
       "array([2], dtype=uint8)"
      ]
     },
     "execution_count": 43,
     "metadata": {},
     "output_type": "execute_result"
    }
   ],
   "source": [
    "a[a['event'] == 579530]['xx_nisoleps']"
   ]
  },
  {
   "cell_type": "code",
   "execution_count": 46,
   "metadata": {},
   "outputs": [
    {
     "name": "stdout",
     "output_type": "stream",
     "text": [
      "(MH1, MH2) 0 entries = (0, 0)\n"
     ]
    },
    {
     "data": {
      "image/png": "[encoded data removed]",
      "text/plain": [
       "<Figure size 640x480 with 1 Axes>"
      ]
     },
     "metadata": {},
     "output_type": "display_data"
    }
   ],
   "source": [
    "mode = 'LL_ZHH'\n",
    "a = 'Boson2BeforeFit'\n",
    "b = 'Boson2AfterFit'\n",
    "\n",
    "mask = np.array(merged[f'EventObservablesLL/zhh_mz'].array() > 0)\n",
    "err = np.array(merged[f'KinFit{mode}']['FitErrorCode'].array())\n",
    "mask = (mask) #& (err == 0)\n",
    "\n",
    "zhh_mh1 = np.array(merged[f'EventObservablesLL/zhh_mh1'].array())[mask]\n",
    "zhh_mh2 = np.array(merged[f'EventObservablesLL/zhh_mh2'].array())[mask]\n",
    "\n",
    "plt.hist([zhh_mh1, zhh_mh2], alpha=0.7)\n",
    "print(f'(MH1, MH2) 0 entries = ({(zhh_mh1 == 0).sum()}, {(zhh_mh2 == 0).sum()})')"
   ]
  },
  {
   "cell_type": "code",
   "execution_count": 3,
   "metadata": {},
   "outputs": [
    {
     "data": {
      "text/plain": [
       "['run',\n",
       " 'event',\n",
       " 'error_code',\n",
       " 'final_states',\n",
       " 'final_state_counts',\n",
       " 'final_state_counts/final_state_counts.first',\n",
       " 'final_state_counts/final_state_counts.second',\n",
       " 'process',\n",
       " 'polarization_code',\n",
       " 'cross_section',\n",
       " 'event_category',\n",
       " 'event_category_zhh',\n",
       " 'n_fermion',\n",
       " 'n_higgs',\n",
       " 'n_b_from_higgs',\n",
       " 'n_c_from_higgs']"
      ]
     },
     "execution_count": 3,
     "metadata": {},
     "output_type": "execute_result"
    }
   ],
   "source": [
    "merged['FinalStates'].keys()"
   ]
  },
  {
   "cell_type": "code",
   "execution_count": 5,
   "metadata": {},
   "outputs": [
    {
     "data": {
      "text/html": [
       "<pre>[3,\n",
       " 3,\n",
       " 3,\n",
       " 3,\n",
       " 3,\n",
       " 3,\n",
       " 3,\n",
       " 3,\n",
       " 3,\n",
       " 3,\n",
       " ...,\n",
       " 0,\n",
       " 0,\n",
       " 0,\n",
       " 0,\n",
       " 0,\n",
       " 0,\n",
       " 0,\n",
       " 0,\n",
       " 0]\n",
       "------------------\n",
       "type: 198 * uint16</pre>"
      ],
      "text/plain": [
       "<Array [3, 3, 3, 3, 3, 3, 3, 3, ..., 0, 0, 0, 0, 0, 0, 0] type='198 * uint16'>"
      ]
     },
     "execution_count": 5,
     "metadata": {},
     "output_type": "execute_result"
    }
   ],
   "source": [
    "merged['FinalStates/polarization_code'].array()"
   ]
  },
  {
   "cell_type": "code",
   "execution_count": 3,
   "metadata": {},
   "outputs": [
    {
     "data": {
      "text/html": [
       "<pre>[[1, 2, 3, 4, 5, 6, 11, 12, 13, 14, 15, 16, 21, 22, 23, 24, 25]]\n",
       "----------------------------------------------------------------\n",
       "type: 1 * var * int32</pre>"
      ],
      "text/plain": [
       "<Array [[1, 2, 3, 4, 5, 6, ..., 16, 21, 22, 23, 24, 25]] type='1 * var * int32'>"
      ]
     },
     "execution_count": 3,
     "metadata": {},
     "output_type": "execute_result"
    }
   ],
   "source": [
    "merged['FinalStates/final_state_counts/final_state_counts.first'].array(entry_stop=1)"
   ]
  },
  {
   "cell_type": "code",
   "execution_count": 4,
   "metadata": {},
   "outputs": [],
   "source": [
    "# background: 2 leptons, 4 jets"
   ]
  },
  {
   "cell_type": "code",
   "execution_count": 5,
   "metadata": {},
   "outputs": [
    {
     "data": {
      "text/html": [
       "<pre>[[0, 0, 0, 0, 4, 0, 0, 0, 2, 0, 0, 0, 0, 0, 0, 0, 0],\n",
       " [0, 0, 0, 0, 0, 0, 0, 0, 2, 0, 0, 0, 2, 0, 0, 2, 0],\n",
       " [0, 0, 0, 0, 4, 0, 0, 0, 2, 0, 0, 0, 0, 0, 0, 0, 0],\n",
       " [0, 0, 0, 0, 2, 0, 0, 0, 2, 0, 0, 0, 2, 0, 0, 0, 0],\n",
       " [0, 0, 0, 0, 2, 0, 0, 0, 2, 0, 0, 0, 0, 0, 0, 2, 0],\n",
       " [0, 0, 0, 0, 2, 0, 0, 0, 2, 0, 0, 0, 0, 0, 0, 2, 0],\n",
       " [0, 0, 0, 0, 4, 0, 0, 0, 2, 0, 0, 0, 0, 0, 0, 0, 0],\n",
       " [0, 0, 0, 0, 4, 0, 0, 0, 2, 0, 0, 0, 0, 0, 0, 0, 0],\n",
       " [0, 0, 0, 0, 4, 0, 0, 0, 2, 0, 0, 0, 0, 0, 0, 0, 0],\n",
       " [0, 0, 0, 0, 0, 0, 0, 0, 2, 0, 0, 0, 0, 0, 0, 4, 0],\n",
       " ...,\n",
       " [0, 0, 2, 0, 0, 0, 0, 0, 2, 0, 0, 0, 0, 2, 0, 0, 0],\n",
       " [0, 2, 0, 0, 2, 0, 0, 0, 2, 0, 0, 0, 0, 0, 0, 0, 0],\n",
       " [0, 2, 0, 0, 0, 0, 0, 0, 2, 0, 0, 0, 0, 0, 0, 2, 0],\n",
       " [0, 0, 2, 0, 0, 0, 0, 0, 2, 0, 0, 0, 0, 0, 0, 2, 0],\n",
       " [0, 0, 2, 0, 0, 0, 0, 0, 2, 0, 0, 0, 0, 0, 0, 2, 0],\n",
       " [2, 0, 0, 0, 2, 0, 0, 0, 2, 0, 0, 0, 0, 0, 0, 0, 0],\n",
       " [0, 0, 2, 0, 0, 0, 0, 0, 2, 0, 0, 0, 0, 0, 0, 2, 0],\n",
       " [0, 0, 0, 0, 2, 0, 0, 0, 2, 0, 2, 0, 0, 0, 0, 0, 0],\n",
       " [0, 0, 2, 0, 2, 0, 0, 0, 2, 0, 0, 0, 0, 0, 0, 0, 0]]\n",
       "-----------------------------------------------------\n",
       "type: 198 * var * int32</pre>"
      ],
      "text/plain": [
       "<Array [[0, 0, 0, 0, 4, 0, ..., 0, 0, 0, 0, 0], ...] type='198 * var * int32'>"
      ]
     },
     "execution_count": 5,
     "metadata": {},
     "output_type": "execute_result"
    }
   ],
   "source": [
    "merged['FinalStates/final_state_counts/final_state_counts.second'].array()"
   ]
  },
  {
   "cell_type": "code",
   "execution_count": 6,
   "metadata": {},
   "outputs": [
    {
     "data": {
      "text/plain": [
       "array([ True, False,  True, False, False, False,  True,  True,  True,\n",
       "       False, False,  True, False, False, False, False,  True, False,\n",
       "        True, False, False, False, False, False, False, False, False,\n",
       "       False, False, False,  True, False, False, False, False, False,\n",
       "       False, False, False,  True,  True, False,  True, False, False,\n",
       "       False, False, False,  True, False, False, False, False, False,\n",
       "        True, False, False,  True,  True,  True,  True, False, False,\n",
       "       False, False,  True, False, False, False, False, False, False,\n",
       "       False, False,  True,  True, False, False,  True, False,  True,\n",
       "        True, False,  True,  True,  True, False, False, False, False,\n",
       "       False, False, False,  True,  True, False, False,  True, False,\n",
       "       False, False, False, False, False, False, False, False, False,\n",
       "       False, False, False, False, False, False, False, False, False,\n",
       "       False, False, False, False, False, False, False, False, False,\n",
       "       False, False, False, False, False, False, False, False, False,\n",
       "       False, False, False, False, False, False, False, False, False,\n",
       "       False, False, False, False, False, False, False, False, False,\n",
       "       False, False, False, False, False, False, False, False, False,\n",
       "       False, False, False, False, False, False, False, False, False,\n",
       "       False, False, False, False, False, False, False, False, False,\n",
       "       False, False, False, False, False, False, False, False, False,\n",
       "       False, False, False, False, False, False, False, False, False])"
      ]
     },
     "execution_count": 6,
     "metadata": {},
     "output_type": "execute_result"
    }
   ],
   "source": [
    "np.isin(np.array(merged['FinalStates/process'].array()), [zhh.ProcessCategories.e1e1hh, zhh.ProcessCategories.e2e2hh]) & (np.array(merged['FinalStates/n_b_from_higgs'].array()) == 4)"
   ]
  },
  {
   "cell_type": "code",
   "execution_count": 7,
   "metadata": {},
   "outputs": [],
   "source": [
    "#fsc = \n",
    "#merged['FinalStates']['n_higgs'].array() == 2"
   ]
  },
  {
   "cell_type": "code",
   "execution_count": null,
   "metadata": {},
   "outputs": [],
   "source": []
  },
  {
   "cell_type": "code",
   "execution_count": null,
   "metadata": {},
   "outputs": [],
   "source": []
  },
  {
   "cell_type": "code",
   "execution_count": 8,
   "metadata": {},
   "outputs": [
    {
     "name": "stdout",
     "output_type": "stream",
     "text": [
      "(Pre, Post) 0 entries = (0, 36)\n"
     ]
    },
    {
     "data": {
      "image/png": "[encoded data removed]",
      "text/plain": [
       "<Figure size 640x480 with 1 Axes>"
      ]
     },
     "metadata": {},
     "output_type": "display_data"
    }
   ],
   "source": [
    "mode = 'LL_ZHH'\n",
    "a = 'Boson2BeforeFit'\n",
    "b = 'Boson2AfterFit'\n",
    "\n",
    "mask = np.array(merged[f'KinFit{mode}']['nIsoLeptons'].array() == 2)\n",
    "err = np.array(merged[f'KinFit{mode}']['FitErrorCode'].array())\n",
    "mask = (mask) #& (err == 0)\n",
    "\n",
    "preFit  = np.array(merged[f'KinFit{mode}'][a].array())[mask]\n",
    "postFit = np.array(merged[f'KinFit{mode}'][b].array())[mask]\n",
    "\n",
    "plt.hist([preFit, postFit], alpha=0.7)\n",
    "print(f'(Pre, Post) 0 entries = ({(preFit == 0).sum()}, {(postFit == 0).sum()})')"
   ]
  },
  {
   "cell_type": "code",
   "execution_count": 9,
   "metadata": {},
   "outputs": [
    {
     "name": "stdout",
     "output_type": "stream",
     "text": [
      "(Pre, Post) 0 entries = (0, 17)\n"
     ]
    },
    {
     "data": {
      "image/png": "[encoded data removed]",
      "text/plain": [
       "<Figure size 640x480 with 1 Axes>"
      ]
     },
     "metadata": {},
     "output_type": "display_data"
    }
   ],
   "source": [
    "mode = 'LL_NMC'\n",
    "a = 'Boson2BeforeFit'\n",
    "b = 'Boson2AfterFit'\n",
    "\n",
    "mask = np.array(merged[f'KinFit{mode}']['nIsoLeptons'].array() == 2)\n",
    "err = np.array(merged[f'KinFit{mode}']['FitErrorCode'].array())\n",
    "mask = (mask) #& (err == 0)\n",
    "\n",
    "preFit  = np.array(merged[f'KinFit{mode}'][a].array())[mask]\n",
    "postFit = np.array(merged[f'KinFit{mode}'][b].array())[mask]\n",
    "\n",
    "plt.hist([preFit, postFit], alpha=0.7)\n",
    "print(f'(Pre, Post) 0 entries = ({(preFit == 0).sum()}, {(postFit == 0).sum()})')"
   ]
  },
  {
   "cell_type": "code",
   "execution_count": null,
   "metadata": {},
   "outputs": [],
   "source": []
  },
  {
   "cell_type": "code",
   "execution_count": 113,
   "metadata": {},
   "outputs": [
    {
     "data": {
      "text/plain": [
       "(array([17.,  2.,  8., 25., 21., 23., 31., 28., 16.,  5.]),\n",
       " array([  0.        ,  35.42832565,  70.85665131, 106.28498077,\n",
       "        141.71330261, 177.14163208, 212.56996155, 247.99829102,\n",
       "        283.42660522, 318.85494995, 354.28326416]),\n",
       " <BarContainer object of 10 artists>)"
      ]
     },
     "execution_count": 113,
     "metadata": {},
     "output_type": "execute_result"
    },
    {
     "data": {
      "image/png": "[encoded data removed]",
      "text/plain": [
       "<Figure size 640x480 with 1 Axes>"
      ]
     },
     "metadata": {},
     "output_type": "display_data"
    }
   ],
   "source": [
    "plt.hist(posFit)"
   ]
  },
  {
   "cell_type": "code",
   "execution_count": null,
   "metadata": {},
   "outputs": [],
   "source": []
  },
  {
   "cell_type": "code",
   "execution_count": 66,
   "metadata": {},
   "outputs": [
    {
     "data": {
      "text/html": [
       "<pre>[[0, 1],\n",
       " [159, 17]]\n",
       "---------------------\n",
       "type: 2 * var * int64</pre>"
      ],
      "text/plain": [
       "<Array [[0, 1], [159, 17]] type='2 * var * int64'>"
      ]
     },
     "execution_count": 66,
     "metadata": {},
     "output_type": "execute_result"
    }
   ],
   "source": [
    "np.unique(vals, return_counts=True)"
   ]
  },
  {
   "cell_type": "code",
   "execution_count": 58,
   "metadata": {},
   "outputs": [
    {
     "data": {
      "text/html": [
       "<pre>[6.6e-25,\n",
       " 0,\n",
       " 3.94e-20,\n",
       " 0,\n",
       " 1.56e-21,\n",
       " 0,\n",
       " 0,\n",
       " 0,\n",
       " 0,\n",
       " 8.05e-16,\n",
       " ...,\n",
       " 0,\n",
       " 0,\n",
       " 3.97e-18,\n",
       " 0,\n",
       " 0,\n",
       " 0,\n",
       " 0,\n",
       " 0,\n",
       " 0]\n",
       "-------------------\n",
       "type: 176 * float32</pre>"
      ],
      "text/plain": [
       "<Array [6.6e-25, 0, 3.94e-20, 0, ..., 0, 0, 0, 0] type='176 * float32'>"
      ]
     },
     "execution_count": 58,
     "metadata": {},
     "output_type": "execute_result"
    }
   ],
   "source": [
    "mask = np.array(merged[f'KinFit{ps}_ZHH']['nIsoLeptons'].array() == 2)\n",
    "merged[f'KinFitLL_ZHH']['FitChi2'].array()[mask]\n",
    "merged[f'KinFitLL_ZHH']['FitProbability'].array()[mask]"
   ]
  },
  {
   "cell_type": "code",
   "execution_count": 74,
   "metadata": {},
   "outputs": [
    {
     "data": {
      "text/plain": [
       "Text(0.5, 0.98, 'e2e2hh Events- ZHH KinFit')"
      ]
     },
     "execution_count": 74,
     "metadata": {},
     "output_type": "execute_result"
    },
    {
     "data": {
      "image/png": "[encoded data removed]",
      "text/plain": [
       "<Figure size 1500x400 with 3 Axes>"
      ]
     },
     "metadata": {},
     "output_type": "display_data"
    }
   ],
   "source": [
    "kwargs = { 'bins': 64 }\n",
    "mask = merged['FinalStates/process'].array() == zhh.ProcessCategories.e2e2hh\n",
    "\n",
    "fig, (ax1, ax2, ax3) = plt.subplots(ncols=3, figsize=(15, 4))\n",
    "ax1.hist(merged[f'KinFitLL_ZHH']['FitErrorCode'].array()[mask], **kwargs)\n",
    "ax1.set_title('Fit Error Code')\n",
    "\n",
    "ax2.hist(merged[f'KinFitLL_ZHH']['FitProbability'].array()[mask], **kwargs)\n",
    "ax2.set_yscale('log')\n",
    "ax2.set_title('Fit Probability')\n",
    "\n",
    "ax3.hist(merged[f'KinFitLL_ZHH']['FitChi2'].array()[mask], **kwargs)\n",
    "ax3.set_yscale('log')\n",
    "ax3.set_title('FitChi2')\n",
    "\n",
    "fig.suptitle('e2e2hh Events- ZHH KinFit')"
   ]
  },
  {
   "cell_type": "code",
   "execution_count": null,
   "metadata": {},
   "outputs": [],
   "source": []
  },
  {
   "cell_type": "code",
   "execution_count": 57,
   "metadata": {},
   "outputs": [
    {
     "data": {
      "image/png": "[encoded data removed]",
      "text/plain": [
       "<Figure size 1000x300 with 3 Axes>"
      ]
     },
     "metadata": {},
     "output_type": "display_data"
    },
    {
     "data": {
      "image/png": "[encoded data removed]",
      "text/plain": [
       "<Figure size 1000x300 with 3 Axes>"
      ]
     },
     "metadata": {},
     "output_type": "display_data"
    },
    {
     "data": {
      "image/png": "[encoded data removed]",
      "text/plain": [
       "<Figure size 1000x300 with 3 Axes>"
      ]
     },
     "metadata": {},
     "output_type": "display_data"
    }
   ],
   "source": [
    "kwargs = {\n",
    "    'bins': 32,\n",
    "    'alpha': 0.7,\n",
    "}\n",
    "\n",
    "for ps, nisol in [\n",
    "    ('LL', 2),\n",
    "    ('QQ', 0),\n",
    "    ('VV', 0)\n",
    "]:\n",
    "    fig, (ax1, ax2) = plt.subplots(ncols=2, figsize=(10, 3))\n",
    "    mask = np.array(merged[f'KinFit{ps}_ZHH']['nIsoLeptons'].array() == nisol)\n",
    "\n",
    "    ax1.hist(merged[f'KinFit{ps}_ZHH']['FitChi2'].array()[mask], label='FitChi2', **kwargs )\n",
    "    ax12 = ax1.twinx()\n",
    "    ax12.hist(merged[f'KinFit{ps}_ZHH']['FitProbability'].array()[mask], label='FitProb', **kwargs )\n",
    "    \n",
    "    ax2.hist(merged[f'KinFit{ps}_ZHH']['Boson1BeforeFit'].array()[mask], label='Boson1BeforeFit', **kwargs )\n",
    "    #ax2.hist(merged[f'KinFit{ps}_ZHH']['FitChi2'].array()[mask], label='FitChi2', **kwargs )\n",
    "    #ax.hist(merged['KinFitLL_NMC']['Boson1AfterFit'].array()[mask], label='with mask', **kwargs)\n",
    "    ax1.legend()\n",
    "    ax12.legend()\n",
    "    fig.suptitle(f'{ps}')\n",
    "    plt.show()"
   ]
  },
  {
   "cell_type": "code",
   "execution_count": null,
   "metadata": {},
   "outputs": [],
   "source": [
    "B1After = np.array(merged['KinFitLL_NMC']['Boson1AfterFit'].array())\n",
    "FitCode = np.array(merged['KinFitLL_NMC']['FitErrorCode'].array())"
   ]
  },
  {
   "cell_type": "code",
   "execution_count": 51,
   "metadata": {},
   "outputs": [
    {
     "data": {
      "text/plain": [
       "array([1, 1, 1, 1, 1, 1, 1, 1, 1, 1, 1, 1, 1, 1, 1, 1, 1, 1, 1, 1, 1, 1,\n",
       "       1, 1, 1, 1, 1, 1, 1, 1, 1, 1, 1, 1, 1, 1, 1, 1, 1], dtype=int32)"
      ]
     },
     "execution_count": 51,
     "metadata": {},
     "output_type": "execute_result"
    }
   ],
   "source": [
    "FitCode[B1After == 0]"
   ]
  },
  {
   "cell_type": "code",
   "execution_count": null,
   "metadata": {},
   "outputs": [],
   "source": []
  },
  {
   "cell_type": "code",
   "execution_count": 45,
   "metadata": {},
   "outputs": [
    {
     "data": {
      "text/html": [
       "<pre>[300,\n",
       " 286,\n",
       " 147,\n",
       " 0,\n",
       " 0,\n",
       " 138,\n",
       " 200,\n",
       " 248,\n",
       " 222,\n",
       " 137,\n",
       " ...,\n",
       " 0,\n",
       " 253,\n",
       " 0,\n",
       " 166,\n",
       " 262,\n",
       " 244,\n",
       " 135,\n",
       " 281,\n",
       " 0]\n",
       "-------------------\n",
       "type: 198 * float32</pre>"
      ],
      "text/plain": [
       "<Array [300, 286, 147, 0, 0, ..., 262, 244, 135, 281, 0] type='198 * float32'>"
      ]
     },
     "execution_count": 45,
     "metadata": {},
     "output_type": "execute_result"
    }
   ],
   "source": [
    "merged['KinFitLL_NMC']['Boson2AfterFit'].array()"
   ]
  },
  {
   "cell_type": "code",
   "execution_count": null,
   "metadata": {},
   "outputs": [],
   "source": []
  },
  {
   "cell_type": "code",
   "execution_count": null,
   "metadata": {},
   "outputs": [
    {
     "data": {
      "text/plain": [
       "(array([ 22.,   2.,   2.,   4.,   9., 144.,  12.,   1.,   1.,   1.]),\n",
       " array([  0.        ,  15.79172707,  31.58345413,  47.37517929,\n",
       "         63.16690826,  78.95863342,  94.75035858, 110.54208374,\n",
       "        126.33381653, 142.12553406, 157.91726685]),\n",
       " <BarContainer object of 10 artists>)"
      ]
     },
     "execution_count": 13,
     "metadata": {},
     "output_type": "execute_result"
    },
    {
     "data": {
      "image/png": "[encoded data removed]",
      "text/plain": [
       "<Figure size 640x480 with 1 Axes>"
      ]
     },
     "metadata": {},
     "output_type": "display_data"
    }
   ],
   "source": [
    "plt.hist(merged['EventObservablesLL']['mzll'].array())"
   ]
  },
  {
   "cell_type": "code",
   "execution_count": null,
   "metadata": {},
   "outputs": [],
   "source": []
  },
  {
   "cell_type": "code",
   "execution_count": null,
   "metadata": {},
   "outputs": [],
   "source": []
  },
  {
   "cell_type": "code",
   "execution_count": null,
   "metadata": {},
   "outputs": [
    {
     "data": {
      "text/plain": [
       "[<Cut on nisoleps >= 2>,\n",
       " <Cut on 71.2 <= m_{Z} <= 111.2>,\n",
       " <Cut on 60.0 <= m_{H1} <= 180.0>,\n",
       " <Cut on 60.0 <= m_{H2} <= 180.0>,\n",
       " <Cut on p_{t}^{miss} <= 70.0>,\n",
       " <Cut on thrust <= 0.9>]"
      ]
     },
     "execution_count": 16,
     "metadata": {},
     "output_type": "execute_result"
    }
   ],
   "source": [
    "zhh_cuts('ll')"
   ]
  },
  {
   "cell_type": "code",
   "execution_count": null,
   "metadata": {},
   "outputs": [],
   "source": []
  },
  {
   "cell_type": "code",
   "execution_count": 49,
   "metadata": {},
   "outputs": [
    {
     "name": "stdout",
     "output_type": "stream",
     "text": [
      "length = 198 prior to <Cut on nisoleps >= 2>\n",
      "length = 177 prior to <Cut on 71.2 <= m_{Z} <= 111.2>\n",
      "length = 162 prior to <Cut on 60.0 <= m_{H1} <= 180.0>\n",
      "length = 159 prior to <Cut on 60.0 <= m_{H2} <= 180.0>\n",
      "length = 153 prior to <Cut on p_{t}^{miss} <= 70.0>\n",
      "length = 59 prior to <Cut on thrust <= 0.9>\n"
     ]
    }
   ],
   "source": [
    "data_all = fetch_preselection_data('/home/ilc/bliewert/DevRepositories/ZHH/scripts/target.root')\n",
    "data = data_all\n",
    "\n",
    "for cut in zhh_cuts('ll'):\n",
    "    print(f'length = {len(data)} prior to', cut)\n",
    "    data = data[cut(data)]\n",
    "    \n",
    "mask = np.ones(len(data_all), dtype=bool)\n",
    "mask[~np.isin(data_all['event'], data['event'])] = False"
   ]
  },
  {
   "cell_type": "code",
   "execution_count": null,
   "metadata": {},
   "outputs": [],
   "source": []
  },
  {
   "cell_type": "code",
   "execution_count": null,
   "metadata": {},
   "outputs": [],
   "source": []
  },
  {
   "cell_type": "code",
   "execution_count": null,
   "metadata": {},
   "outputs": [],
   "source": [
    "def prepare_presel_data(input, hypothesis:str):\n",
    "    dtypes = []\n",
    "        \n",
    "    if hypothesis == '':\n",
    "        \n",
    "    return np.array()"
   ]
  },
  {
   "cell_type": "code",
   "execution_count": null,
   "metadata": {},
   "outputs": [],
   "source": []
  },
  {
   "cell_type": "code",
   "execution_count": null,
   "metadata": {},
   "outputs": [],
   "source": []
  },
  {
   "cell_type": "code",
   "execution_count": null,
   "metadata": {},
   "outputs": [
    {
     "data": {
      "text/plain": [
       "<TBranch 'me_zhh_log' at 0x7fbc49d37d90>"
      ]
     },
     "execution_count": 28,
     "metadata": {},
     "output_type": "execute_result"
    }
   ],
   "source": [
    "LL3 = AnalysisChannel('ZZH, ZZZ', [\n",
    "    'EventObservablesLL/me_zhh_log',\n",
    "    'EventObservablesLL/me_zzh_log',\n",
    "    \n",
    "    # KinFit ZHH\n",
    "    'KinFitLL_ZHH/FitErrorCode',\n",
    "    'KinFitLL_ZHH/Boson2AfterFit',\n",
    "    'KinFitLL_ZHH/Boson3AfterFit',\n",
    "    'KinFitLL_ZHH/p1stAfterFit',\n",
    "    'KinFitLL_ZHH/FitChi2',\n",
    "    'KinFitLL_ZHH/FitProbability',\n",
    "    \n",
    "    # KinFit ZZH\n",
    "    'KinFitLL_ZZH/FitErrorCode',\n",
    "    'KinFitLL_ZZH/Boson2AfterFit',\n",
    "    'KinFitLL_ZZH/Boson3AfterFit',\n",
    "    'KinFitLL_ZZH/p1stAfterFit',\n",
    "    'KinFitLL_ZZH/FitChi2',\n",
    "    'KinFitLL_ZZH/FitProbability',\n",
    "    \n",
    "    # KinFit ZZZ\n",
    "    'KinFitLL_ZZZ/FitErrorCode',\n",
    "    'KinFitLL_ZZZ/Boson2AfterFit',\n",
    "    'KinFitLL_ZZZ/Boson3AfterFit',\n",
    "    'KinFitLL_ZZZ/p1stAfterFit',\n",
    "    'KinFitLL_ZZZ/FitChi2',\n",
    "    'KinFitLL_ZZZ/FitProbability',\n",
    "],\n",
    "    define_sig=lambda data: np.isin(np.array(data['FinalStates/process'].array()), [zhh.ProcessCategories.e1e1hh, zhh.ProcessCategories.e2e2hh]),\n",
    "    define_bkg=lambda data: np.isin(np.array(data['FinalStates/process'].array()), [zhh.ProcessCategories.e1e1qqh, zhh.ProcessCategories.e2e2qqh]))"
   ]
  },
  {
   "cell_type": "code",
   "execution_count": null,
   "metadata": {},
   "outputs": [],
   "source": []
  },
  {
   "cell_type": "code",
   "execution_count": null,
   "metadata": {},
   "outputs": [],
   "source": []
  },
  {
   "cell_type": "code",
   "execution_count": 19,
   "metadata": {},
   "outputs": [
    {
     "data": {
      "text/plain": [
       "<TBranch 'me_zzh_log' at 0x7fbc49d36790>"
      ]
     },
     "execution_count": 19,
     "metadata": {},
     "output_type": "execute_result"
    }
   ],
   "source": [
    "sig['EventObservablesLL/me_zzh_log']"
   ]
  },
  {
   "cell_type": "code",
   "execution_count": 6,
   "metadata": {},
   "outputs": [],
   "source": [
    "from zhh import ProcessIndex"
   ]
  },
  {
   "cell_type": "code",
   "execution_count": null,
   "metadata": {},
   "outputs": [],
   "source": [
    "ProcessIndex()"
   ]
  },
  {
   "cell_type": "code",
   "execution_count": 5,
   "metadata": {},
   "outputs": [
    {
     "data": {
      "text/plain": [
       "['EventObservablesQQ;1',\n",
       " 'KinFitQQ_ZZZ;2',\n",
       " 'KinFitQQ_ZZZ;1',\n",
       " 'KinFitQQ_ZZH;2',\n",
       " 'KinFitQQ_ZZH;1',\n",
       " 'KinFitQQ_ZHH;2',\n",
       " 'KinFitQQ_ZHH;1',\n",
       " 'KinFitQQ_NMC;2',\n",
       " 'KinFitQQ_NMC;1',\n",
       " 'EventObservablesVV;1',\n",
       " 'KinFitVV_ZZZ;2',\n",
       " 'KinFitVV_ZZZ;1',\n",
       " 'KinFitVV_ZZH;2',\n",
       " 'KinFitVV_ZZH;1',\n",
       " 'KinFitVV_ZHH;2',\n",
       " 'KinFitVV_ZHH;1',\n",
       " 'KinFitVV_NMC;2',\n",
       " 'KinFitVV_NMC;1',\n",
       " 'EventObservablesLL;1',\n",
       " 'KinFitLL_ZZZ;2',\n",
       " 'KinFitLL_ZZZ;1',\n",
       " 'KinFitLL_ZZH;2',\n",
       " 'KinFitLL_ZZH;1',\n",
       " 'KinFitLL_ZHH;2',\n",
       " 'KinFitLL_ZHH;1',\n",
       " 'KinFitLL_NMC;2',\n",
       " 'KinFitLL_NMC;1',\n",
       " 'SLDCorrection;4',\n",
       " 'SLDCorrection;3',\n",
       " 'SLDCorrection;2',\n",
       " 'SLDCorrection;1',\n",
       " 'SLDStatus;4',\n",
       " 'SLDStatus;3',\n",
       " 'SLDStatus;2',\n",
       " 'SLDStatus;1',\n",
       " 'BHadronType;4',\n",
       " 'BHadronType;3',\n",
       " 'BHadronType;2',\n",
       " 'BHadronType;1',\n",
       " 'CHadronType;4',\n",
       " 'CHadronType;3',\n",
       " 'CHadronType;2',\n",
       " 'CHadronType;1',\n",
       " 'PxResidual;8',\n",
       " 'PxResidual;7',\n",
       " 'PxResidual;6',\n",
       " 'PxResidual;5',\n",
       " 'PxResidual;4',\n",
       " 'PxResidual;3',\n",
       " 'PxResidual;2',\n",
       " 'PxResidual;1',\n",
       " 'PyResidual;8',\n",
       " 'PyResidual;7',\n",
       " 'PyResidual;6',\n",
       " 'PyResidual;5',\n",
       " 'PyResidual;4',\n",
       " 'PyResidual;3',\n",
       " 'PyResidual;2',\n",
       " 'PyResidual;1',\n",
       " 'PzResidual;8',\n",
       " 'PzResidual;7',\n",
       " 'PzResidual;6',\n",
       " 'PzResidual;5',\n",
       " 'PzResidual;4',\n",
       " 'PzResidual;3',\n",
       " 'PzResidual;2',\n",
       " 'PzResidual;1',\n",
       " 'EResidual;8',\n",
       " 'EResidual;7',\n",
       " 'EResidual;6',\n",
       " 'EResidual;5',\n",
       " 'EResidual;4',\n",
       " 'EResidual;3',\n",
       " 'EResidual;2',\n",
       " 'EResidual;1',\n",
       " 'PxNormalizedResidual;8',\n",
       " 'PxNormalizedResidual;7',\n",
       " 'PxNormalizedResidual;6',\n",
       " 'PxNormalizedResidual;5',\n",
       " 'PxNormalizedResidual;4',\n",
       " 'PxNormalizedResidual;3',\n",
       " 'PxNormalizedResidual;2',\n",
       " 'PxNormalizedResidual;1',\n",
       " 'PyNormalizedResidual;8',\n",
       " 'PyNormalizedResidual;7',\n",
       " 'PyNormalizedResidual;6',\n",
       " 'PyNormalizedResidual;5',\n",
       " 'PyNormalizedResidual;4',\n",
       " 'PyNormalizedResidual;3',\n",
       " 'PyNormalizedResidual;2',\n",
       " 'PyNormalizedResidual;1',\n",
       " 'PzNormalizedResidual;8',\n",
       " 'PzNormalizedResidual;7',\n",
       " 'PzNormalizedResidual;6',\n",
       " 'PzNormalizedResidual;5',\n",
       " 'PzNormalizedResidual;4',\n",
       " 'PzNormalizedResidual;3',\n",
       " 'PzNormalizedResidual;2',\n",
       " 'PzNormalizedResidual;1',\n",
       " 'ENormalizedResidual;8',\n",
       " 'ENormalizedResidual;7',\n",
       " 'ENormalizedResidual;6',\n",
       " 'ENormalizedResidual;5',\n",
       " 'ENormalizedResidual;4',\n",
       " 'ENormalizedResidual;3',\n",
       " 'ENormalizedResidual;2',\n",
       " 'ENormalizedResidual;1',\n",
       " 'SLDecayFlavour;4',\n",
       " 'SLDecayFlavour;3',\n",
       " 'SLDecayFlavour;2',\n",
       " 'SLDecayFlavour;1',\n",
       " 'SLDMode B-Hadron;4',\n",
       " 'SLDMode B-Hadron;3',\n",
       " 'SLDMode B-Hadron;2',\n",
       " 'SLDMode B-Hadron;1',\n",
       " 'SLDMode C-Hadron;4',\n",
       " 'SLDMode C-Hadron;3',\n",
       " 'SLDMode C-Hadron;2',\n",
       " 'SLDMode C-Hadron;1',\n",
       " 'SLDecayOrder;4',\n",
       " 'SLDecayOrder;3',\n",
       " 'SLDecayOrder;2',\n",
       " 'SLDecayOrder;1',\n",
       " 'p_{x}^{#nu};4',\n",
       " 'p_{x}^{#nu};3',\n",
       " 'p_{x}^{#nu};2',\n",
       " 'p_{x}^{#nu};1',\n",
       " 'p_{y}^{#nu};4',\n",
       " 'p_{y}^{#nu};3',\n",
       " 'p_{y}^{#nu};2',\n",
       " 'p_{y}^{#nu};1',\n",
       " 'p_{z}^{#nu};4',\n",
       " 'p_{z}^{#nu};3',\n",
       " 'p_{z}^{#nu};2',\n",
       " 'p_{z}^{#nu};1',\n",
       " 'E^{#nu};4',\n",
       " 'E^{#nu};3',\n",
       " 'E^{#nu};2',\n",
       " 'E^{#nu};1',\n",
       " 'secondary_vertices;4',\n",
       " 'secondary_vertices;3',\n",
       " 'secondary_vertices;2',\n",
       " 'secondary_vertices;1',\n",
       " 'LeptonPairing;1',\n",
       " 'FinalStates;1',\n",
       " 'HdecayMode;1',\n",
       " 'ntp;12',\n",
       " 'ntp;11',\n",
       " 'ntp;10',\n",
       " 'ntp;9',\n",
       " 'ntp;8',\n",
       " 'ntp;7',\n",
       " 'ntp;6',\n",
       " 'ntp;5',\n",
       " 'ntp;4',\n",
       " 'ntp;3',\n",
       " 'ntp;2',\n",
       " 'ntp;1',\n",
       " 'hEvtProcessingTime;1']"
      ]
     },
     "execution_count": 5,
     "metadata": {},
     "output_type": "execute_result"
    }
   ],
   "source": [
    "sig.keys()"
   ]
  },
  {
   "cell_type": "code",
   "execution_count": null,
   "metadata": {},
   "outputs": [],
   "source": []
  },
  {
   "cell_type": "code",
   "execution_count": 19,
   "metadata": {},
   "outputs": [
    {
     "data": {
      "text/plain": [
       "['run',\n",
       " 'event',\n",
       " 'error_code',\n",
       " 'final_states',\n",
       " 'final_state_counts',\n",
       " 'final_state_counts/final_state_counts.first',\n",
       " 'final_state_counts/final_state_counts.second',\n",
       " 'process',\n",
       " 'event_category',\n",
       " 'event_category_zhh',\n",
       " 'n_fermion',\n",
       " 'n_higgs',\n",
       " 'n_b_from_higgs',\n",
       " 'n_c_from_higgs']"
      ]
     },
     "execution_count": 19,
     "metadata": {},
     "output_type": "execute_result"
    }
   ],
   "source": [
    "rf['FinalStates'].keys()"
   ]
  },
  {
   "cell_type": "code",
   "execution_count": null,
   "metadata": {},
   "outputs": [],
   "source": [
    "fsc = np.array(rf['FinalStates']['final_state_counts.second'].array())\n",
    "nb = fsc[:, 4]"
   ]
  },
  {
   "cell_type": "code",
   "execution_count": 132,
   "metadata": {},
   "outputs": [],
   "source": [
    "#is_signal = np.array(rf['FinalStates']['n_b_from_higgs'].array() == 4)\n",
    "#is_signal = np.array(rf['FinalStates']['n_b_from_higgs'].array() == 4)\n",
    "is_signal = nb == 4"
   ]
  },
  {
   "cell_type": "code",
   "execution_count": 133,
   "metadata": {},
   "outputs": [
    {
     "data": {
      "text/plain": [
       "3989121"
      ]
     },
     "execution_count": 133,
     "metadata": {},
     "output_type": "execute_result"
    }
   ],
   "source": [
    "is_signal.nbytes"
   ]
  },
  {
   "cell_type": "code",
   "execution_count": 66,
   "metadata": {},
   "outputs": [
    {
     "data": {
      "text/plain": [
       "array([[ 1,  2,  3,  4,  5,  6, 11, 12, 13, 14, 15, 16, 21, 22, 23, 24,\n",
       "        25]], dtype=int32)"
      ]
     },
     "execution_count": 66,
     "metadata": {},
     "output_type": "execute_result"
    }
   ],
   "source": [
    "PDGs = np.array(rf['FinalStates']['final_state_counts.first'].array(entry_start=0, entry_stop=1))\n",
    "PDGs"
   ]
  },
  {
   "cell_type": "code",
   "execution_count": null,
   "metadata": {},
   "outputs": [],
   "source": []
  },
  {
   "cell_type": "code",
   "execution_count": 83,
   "metadata": {},
   "outputs": [
    {
     "data": {
      "text/plain": [
       "(array([0, 1, 2, 3, 4, 6], dtype=int32),\n",
       " array([ 915880,     638, 1901912,     866,  998318,  171507]))"
      ]
     },
     "execution_count": 83,
     "metadata": {},
     "output_type": "execute_result"
    }
   ],
   "source": [
    "np.unique(nb, return_counts=True)"
   ]
  },
  {
   "cell_type": "code",
   "execution_count": 78,
   "metadata": {},
   "outputs": [],
   "source": [
    "proc = np.array(rf['FinalStates']['process'].array())"
   ]
  },
  {
   "cell_type": "code",
   "execution_count": 79,
   "metadata": {},
   "outputs": [
    {
     "data": {
      "text/plain": [
       "array([1511, 1511, 1511, ..., 2520, 2520, 2520], dtype=int32)"
      ]
     },
     "execution_count": 79,
     "metadata": {},
     "output_type": "execute_result"
    }
   ],
   "source": [
    "proc"
   ]
  },
  {
   "cell_type": "code",
   "execution_count": null,
   "metadata": {},
   "outputs": [],
   "source": []
  },
  {
   "cell_type": "code",
   "execution_count": null,
   "metadata": {},
   "outputs": [],
   "source": []
  }
 ],
 "metadata": {
  "kernelspec": {
   "display_name": "zhhvenv",
   "language": "python",
   "name": "python3"
  },
  "language_info": {
   "codemirror_mode": {
    "name": "ipython",
    "version": 3
   },
   "file_extension": ".py",
   "mimetype": "text/x-python",
   "name": "python",
   "nbconvert_exporter": "python",
   "pygments_lexer": "ipython3",
   "version": "3.11.9"
  }
 },
 "nbformat": 4,
 "nbformat_minor": 2
}
