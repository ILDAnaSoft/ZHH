{
 "cells": [
  {
   "cell_type": "code",
   "execution_count": 1,
   "metadata": {},
   "outputs": [],
   "source": [
    "from zhh import zhh_cuts, fetch_preselection_data, Cut\n",
    "import zhh, os\n",
    "from glob import glob\n",
    "import uproot as ur\n",
    "import numpy as np\n",
    "import matplotlib.pyplot as plt\n",
    "import seaborn as sns\n",
    "import pandas as pd"
   ]
  },
  {
   "cell_type": "code",
   "execution_count": 21,
   "metadata": {},
   "outputs": [
    {
     "name": "stdout",
     "output_type": "stream",
     "text": [
      "Found 1279 output files\n"
     ]
    }
   ],
   "source": [
    "prefix1 = '/home/ilc/bliewert/jobresults/550-llhh-ana'\n",
    "prefix2 = '/home/ilc/bliewert/jobresults/550-2l4q-ana'\n",
    "\n",
    "files = glob(f'{prefix1}/*.root') + glob(f'{prefix2}/*.root')\n",
    "output = list(filter(lambda path: any([elem in path for elem in ['e1e1hh', 'e2e2hh', 'P6f']]), files))\n",
    "output.sort()\n",
    "\n",
    "print(f'Found {len(output)} output files')"
   ]
  },
  {
   "cell_type": "code",
   "execution_count": 23,
   "metadata": {},
   "outputs": [
    {
     "data": {
      "text/plain": [
       "['/home/ilc/bliewert/jobresults/550-2l4q-ana/E550-TDR_ws.P6f_eexxxx.Gwhizard-3_1_5.eL.pL.I410026.1-0_AIDA.root',\n",
       " '/home/ilc/bliewert/jobresults/550-2l4q-ana/E550-TDR_ws.P6f_eexxxx.Gwhizard-3_1_5.eL.pL.I410026.2-0_AIDA.root',\n",
       " '/home/ilc/bliewert/jobresults/550-2l4q-ana/E550-TDR_ws.P6f_eexxxx.Gwhizard-3_1_5.eL.pL.I410026.3-0_AIDA.root',\n",
       " '/home/ilc/bliewert/jobresults/550-2l4q-ana/E550-TDR_ws.P6f_eexxxx.Gwhizard-3_1_5.eL.pL.I410026.4-0_AIDA.root',\n",
       " '/home/ilc/bliewert/jobresults/550-2l4q-ana/E550-TDR_ws.P6f_eexxxx.Gwhizard-3_1_5.eL.pL.I410026.5-0_AIDA.root',\n",
       " '/home/ilc/bliewert/jobresults/550-2l4q-ana/E550-TDR_ws.P6f_eexxxx.Gwhizard-3_1_5.eL.pL.I410026.6-0_AIDA.root',\n",
       " '/home/ilc/bliewert/jobresults/550-2l4q-ana/E550-TDR_ws.P6f_eexxxx.Gwhizard-3_1_5.eL.pR.I410027.0-0_AIDA.root',\n",
       " '/home/ilc/bliewert/jobresults/550-2l4q-ana/E550-TDR_ws.P6f_eexxxx.Gwhizard-3_1_5.eL.pR.I410027.1-0_AIDA.root',\n",
       " '/home/ilc/bliewert/jobresults/550-2l4q-ana/E550-TDR_ws.P6f_eexxxx.Gwhizard-3_1_5.eL.pR.I410027.3-0_AIDA.root',\n",
       " '/home/ilc/bliewert/jobresults/550-2l4q-ana/E550-TDR_ws.P6f_eexxxx.Gwhizard-3_1_5.eL.pR.I410027.4-0_AIDA.root',\n",
       " '/home/ilc/bliewert/jobresults/550-2l4q-ana/E550-TDR_ws.P6f_eexxxx.Gwhizard-3_1_5.eL.pR.I410027.5-0_AIDA.root',\n",
       " '/home/ilc/bliewert/jobresults/550-2l4q-ana/E550-TDR_ws.P6f_eexxxx.Gwhizard-3_1_5.eL.pR.I410027.6-0_AIDA.root',\n",
       " '/home/ilc/bliewert/jobresults/550-2l4q-ana/E550-TDR_ws.P6f_eexxxx.Gwhizard-3_1_5.eL.pR.I410027.7-0_AIDA.root',\n",
       " '/home/ilc/bliewert/jobresults/550-2l4q-ana/E550-TDR_ws.P6f_eexxxx.Gwhizard-3_1_5.eR.pL.I410028.0-0_AIDA.root',\n",
       " '/home/ilc/bliewert/jobresults/550-2l4q-ana/E550-TDR_ws.P6f_eexxxx.Gwhizard-3_1_5.eR.pL.I410028.1-0_AIDA.root',\n",
       " '/home/ilc/bliewert/jobresults/550-2l4q-ana/E550-TDR_ws.P6f_eexxxx.Gwhizard-3_1_5.eR.pL.I410028.2-0_AIDA.root',\n",
       " '/home/ilc/bliewert/jobresults/550-2l4q-ana/E550-TDR_ws.P6f_eexxxx.Gwhizard-3_1_5.eR.pL.I410028.3-0_AIDA.root',\n",
       " '/home/ilc/bliewert/jobresults/550-2l4q-ana/E550-TDR_ws.P6f_eexxxx.Gwhizard-3_1_5.eR.pL.I410028.4-0_AIDA.root',\n",
       " '/home/ilc/bliewert/jobresults/550-2l4q-ana/E550-TDR_ws.P6f_eexxxx.Gwhizard-3_1_5.eR.pL.I410028.5-0_AIDA.root',\n",
       " '/home/ilc/bliewert/jobresults/550-2l4q-ana/E550-TDR_ws.P6f_eexxxx.Gwhizard-3_1_5.eR.pL.I410028.6-0_AIDA.root',\n",
       " '/home/ilc/bliewert/jobresults/550-2l4q-ana/E550-TDR_ws.P6f_eexxxx.Gwhizard-3_1_5.eR.pL.I410028.7-0_AIDA.root',\n",
       " '/home/ilc/bliewert/jobresults/550-2l4q-ana/E550-TDR_ws.P6f_eexxxx.Gwhizard-3_1_5.eR.pR.I410029.1-0_AIDA.root',\n",
       " '/home/ilc/bliewert/jobresults/550-2l4q-ana/E550-TDR_ws.P6f_eexxxx.Gwhizard-3_1_5.eR.pR.I410029.2-0_AIDA.root',\n",
       " '/home/ilc/bliewert/jobresults/550-2l4q-ana/E550-TDR_ws.P6f_eexxxx.Gwhizard-3_1_5.eR.pR.I410029.3-0_AIDA.root',\n",
       " '/home/ilc/bliewert/jobresults/550-2l4q-ana/E550-TDR_ws.P6f_eexxxx.Gwhizard-3_1_5.eR.pR.I410029.4-0_AIDA.root',\n",
       " '/home/ilc/bliewert/jobresults/550-2l4q-ana/E550-TDR_ws.P6f_eexxxx.Gwhizard-3_1_5.eR.pR.I410029.5-0_AIDA.root',\n",
       " '/home/ilc/bliewert/jobresults/550-2l4q-ana/E550-TDR_ws.P6f_eexxxx.Gwhizard-3_1_5.eR.pR.I410029.6-0_AIDA.root',\n",
       " '/home/ilc/bliewert/jobresults/550-2l4q-ana/E550-TDR_ws.P6f_eexyyx.Gwhizard-3_1_5.eL.pL.I410022.6-0_AIDA.root',\n",
       " '/home/ilc/bliewert/jobresults/550-2l4q-ana/E550-TDR_ws.P6f_eexyyx.Gwhizard-3_1_5.eL.pR.I410023.0-0_AIDA.root',\n",
       " '/home/ilc/bliewert/jobresults/550-2l4q-ana/E550-TDR_ws.P6f_eexyyx.Gwhizard-3_1_5.eL.pR.I410023.1-1_AIDA.root',\n",
       " '/home/ilc/bliewert/jobresults/550-2l4q-ana/E550-TDR_ws.P6f_eexyyx.Gwhizard-3_1_5.eL.pR.I410023.1-2_AIDA.root',\n",
       " '/home/ilc/bliewert/jobresults/550-2l4q-ana/E550-TDR_ws.P6f_eexyyx.Gwhizard-3_1_5.eL.pR.I410023.2-0_AIDA.root',\n",
       " '/home/ilc/bliewert/jobresults/550-2l4q-ana/E550-TDR_ws.P6f_eexyyx.Gwhizard-3_1_5.eL.pR.I410023.7-0_AIDA.root',\n",
       " '/home/ilc/bliewert/jobresults/550-2l4q-ana/E550-TDR_ws.P6f_eexyyx.Gwhizard-3_1_5.eR.pL.I410024.3-0_AIDA.root',\n",
       " '/home/ilc/bliewert/jobresults/550-2l4q-ana/E550-TDR_ws.P6f_eexyyx.Gwhizard-3_1_5.eR.pL.I410024.4-0_AIDA.root',\n",
       " '/home/ilc/bliewert/jobresults/550-2l4q-ana/E550-TDR_ws.P6f_eexyyx.Gwhizard-3_1_5.eR.pR.I410025.3-0_AIDA.root',\n",
       " '/home/ilc/bliewert/jobresults/550-2l4q-ana/E550-TDR_ws.P6f_eexyyx.Gwhizard-3_1_5.eR.pR.I410025.6-0_AIDA.root',\n",
       " '/home/ilc/bliewert/jobresults/550-2l4q-ana/E550-TDR_ws.P6f_eeyyyy.Gwhizard-3_1_5.eL.pL.I410030.0-0_AIDA.root',\n",
       " '/home/ilc/bliewert/jobresults/550-2l4q-ana/E550-TDR_ws.P6f_eeyyyy.Gwhizard-3_1_5.eL.pL.I410030.1-0_AIDA.root',\n",
       " '/home/ilc/bliewert/jobresults/550-2l4q-ana/E550-TDR_ws.P6f_eeyyyy.Gwhizard-3_1_5.eL.pL.I410030.2-0_AIDA.root',\n",
       " '/home/ilc/bliewert/jobresults/550-2l4q-ana/E550-TDR_ws.P6f_eeyyyy.Gwhizard-3_1_5.eL.pL.I410030.3-0_AIDA.root',\n",
       " '/home/ilc/bliewert/jobresults/550-2l4q-ana/E550-TDR_ws.P6f_eeyyyy.Gwhizard-3_1_5.eL.pL.I410030.4-0_AIDA.root',\n",
       " '/home/ilc/bliewert/jobresults/550-2l4q-ana/E550-TDR_ws.P6f_eeyyyy.Gwhizard-3_1_5.eL.pL.I410030.5-0_AIDA.root',\n",
       " '/home/ilc/bliewert/jobresults/550-2l4q-ana/E550-TDR_ws.P6f_eeyyyy.Gwhizard-3_1_5.eL.pL.I410030.6-0_AIDA.root',\n",
       " '/home/ilc/bliewert/jobresults/550-2l4q-ana/E550-TDR_ws.P6f_eeyyyy.Gwhizard-3_1_5.eL.pL.I410030.7-0_AIDA.root',\n",
       " '/home/ilc/bliewert/jobresults/550-2l4q-ana/E550-TDR_ws.P6f_eeyyyy.Gwhizard-3_1_5.eL.pR.I410031.0-0_AIDA.root',\n",
       " '/home/ilc/bliewert/jobresults/550-2l4q-ana/E550-TDR_ws.P6f_eeyyyy.Gwhizard-3_1_5.eL.pR.I410031.1-0_AIDA.root',\n",
       " '/home/ilc/bliewert/jobresults/550-2l4q-ana/E550-TDR_ws.P6f_eeyyyy.Gwhizard-3_1_5.eL.pR.I410031.2-0_AIDA.root',\n",
       " '/home/ilc/bliewert/jobresults/550-2l4q-ana/E550-TDR_ws.P6f_eeyyyy.Gwhizard-3_1_5.eL.pR.I410031.3-0_AIDA.root',\n",
       " '/home/ilc/bliewert/jobresults/550-2l4q-ana/E550-TDR_ws.P6f_eeyyyy.Gwhizard-3_1_5.eL.pR.I410031.4-0_AIDA.root',\n",
       " '/home/ilc/bliewert/jobresults/550-2l4q-ana/E550-TDR_ws.P6f_eeyyyy.Gwhizard-3_1_5.eL.pR.I410031.5-0_AIDA.root',\n",
       " '/home/ilc/bliewert/jobresults/550-2l4q-ana/E550-TDR_ws.P6f_eeyyyy.Gwhizard-3_1_5.eL.pR.I410031.6-0_AIDA.root',\n",
       " '/home/ilc/bliewert/jobresults/550-2l4q-ana/E550-TDR_ws.P6f_eeyyyy.Gwhizard-3_1_5.eL.pR.I410031.7-0_AIDA.root',\n",
       " '/home/ilc/bliewert/jobresults/550-2l4q-ana/E550-TDR_ws.P6f_eeyyyy.Gwhizard-3_1_5.eR.pL.I410032.0-0_AIDA.root',\n",
       " '/home/ilc/bliewert/jobresults/550-2l4q-ana/E550-TDR_ws.P6f_eeyyyy.Gwhizard-3_1_5.eR.pL.I410032.1-0_AIDA.root',\n",
       " '/home/ilc/bliewert/jobresults/550-2l4q-ana/E550-TDR_ws.P6f_eeyyyy.Gwhizard-3_1_5.eR.pL.I410032.2-0_AIDA.root',\n",
       " '/home/ilc/bliewert/jobresults/550-2l4q-ana/E550-TDR_ws.P6f_eeyyyy.Gwhizard-3_1_5.eR.pL.I410032.3-0_AIDA.root',\n",
       " '/home/ilc/bliewert/jobresults/550-2l4q-ana/E550-TDR_ws.P6f_eeyyyy.Gwhizard-3_1_5.eR.pL.I410032.4-0_AIDA.root',\n",
       " '/home/ilc/bliewert/jobresults/550-2l4q-ana/E550-TDR_ws.P6f_eeyyyy.Gwhizard-3_1_5.eR.pL.I410032.5-0_AIDA.root',\n",
       " '/home/ilc/bliewert/jobresults/550-2l4q-ana/E550-TDR_ws.P6f_eeyyyy.Gwhizard-3_1_5.eR.pL.I410032.6-0_AIDA.root',\n",
       " '/home/ilc/bliewert/jobresults/550-2l4q-ana/E550-TDR_ws.P6f_eeyyyy.Gwhizard-3_1_5.eR.pL.I410032.7-0_AIDA.root',\n",
       " '/home/ilc/bliewert/jobresults/550-2l4q-ana/E550-TDR_ws.P6f_eeyyyy.Gwhizard-3_1_5.eR.pR.I410033.0-0_AIDA.root',\n",
       " '/home/ilc/bliewert/jobresults/550-2l4q-ana/E550-TDR_ws.P6f_eeyyyy.Gwhizard-3_1_5.eR.pR.I410033.1-0_AIDA.root',\n",
       " '/home/ilc/bliewert/jobresults/550-2l4q-ana/E550-TDR_ws.P6f_eeyyyy.Gwhizard-3_1_5.eR.pR.I410033.2-0_AIDA.root',\n",
       " '/home/ilc/bliewert/jobresults/550-2l4q-ana/E550-TDR_ws.P6f_eeyyyy.Gwhizard-3_1_5.eR.pR.I410033.3-0_AIDA.root',\n",
       " '/home/ilc/bliewert/jobresults/550-2l4q-ana/E550-TDR_ws.P6f_eeyyyy.Gwhizard-3_1_5.eR.pR.I410033.4-0_AIDA.root',\n",
       " '/home/ilc/bliewert/jobresults/550-2l4q-ana/E550-TDR_ws.P6f_eeyyyy.Gwhizard-3_1_5.eR.pR.I410033.5-0_AIDA.root',\n",
       " '/home/ilc/bliewert/jobresults/550-2l4q-ana/E550-TDR_ws.P6f_eeyyyy.Gwhizard-3_1_5.eR.pR.I410033.6-0_AIDA.root',\n",
       " '/home/ilc/bliewert/jobresults/550-2l4q-ana/E550-TDR_ws.P6f_eeyyyy.Gwhizard-3_1_5.eR.pR.I410033.7-0_AIDA.root',\n",
       " '/home/ilc/bliewert/jobresults/550-2l4q-ana/E550-TDR_ws.P6f_llxxxx.Gwhizard-3_1_5.eL.pR.I410014.0-0_AIDA.root',\n",
       " '/home/ilc/bliewert/jobresults/550-2l4q-ana/E550-TDR_ws.P6f_llxxxx.Gwhizard-3_1_5.eL.pR.I410014.1-0_AIDA.root',\n",
       " '/home/ilc/bliewert/jobresults/550-2l4q-ana/E550-TDR_ws.P6f_llxxxx.Gwhizard-3_1_5.eL.pR.I410014.2-0_AIDA.root',\n",
       " '/home/ilc/bliewert/jobresults/550-2l4q-ana/E550-TDR_ws.P6f_llxxxx.Gwhizard-3_1_5.eL.pR.I410014.3-0_AIDA.root',\n",
       " '/home/ilc/bliewert/jobresults/550-2l4q-ana/E550-TDR_ws.P6f_llxxxx.Gwhizard-3_1_5.eL.pR.I410014.4-0_AIDA.root',\n",
       " '/home/ilc/bliewert/jobresults/550-2l4q-ana/E550-TDR_ws.P6f_llxxxx.Gwhizard-3_1_5.eL.pR.I410014.5-0_AIDA.root',\n",
       " '/home/ilc/bliewert/jobresults/550-2l4q-ana/E550-TDR_ws.P6f_llxxxx.Gwhizard-3_1_5.eL.pR.I410014.6-0_AIDA.root',\n",
       " '/home/ilc/bliewert/jobresults/550-2l4q-ana/E550-TDR_ws.P6f_llxxxx.Gwhizard-3_1_5.eL.pR.I410014.7-0_AIDA.root',\n",
       " '/home/ilc/bliewert/jobresults/550-2l4q-ana/E550-TDR_ws.P6f_llxxxx.Gwhizard-3_1_5.eR.pL.I410015.0-0_AIDA.root',\n",
       " '/home/ilc/bliewert/jobresults/550-2l4q-ana/E550-TDR_ws.P6f_llxxxx.Gwhizard-3_1_5.eR.pL.I410015.1-0_AIDA.root',\n",
       " '/home/ilc/bliewert/jobresults/550-2l4q-ana/E550-TDR_ws.P6f_llxxxx.Gwhizard-3_1_5.eR.pL.I410015.2-0_AIDA.root',\n",
       " '/home/ilc/bliewert/jobresults/550-2l4q-ana/E550-TDR_ws.P6f_llxxxx.Gwhizard-3_1_5.eR.pL.I410015.3-0_AIDA.root',\n",
       " '/home/ilc/bliewert/jobresults/550-2l4q-ana/E550-TDR_ws.P6f_llxxxx.Gwhizard-3_1_5.eR.pL.I410015.4-0_AIDA.root',\n",
       " '/home/ilc/bliewert/jobresults/550-2l4q-ana/E550-TDR_ws.P6f_llxxxx.Gwhizard-3_1_5.eR.pL.I410015.5-0_AIDA.root',\n",
       " '/home/ilc/bliewert/jobresults/550-2l4q-ana/E550-TDR_ws.P6f_llxxxx.Gwhizard-3_1_5.eR.pL.I410015.6-0_AIDA.root',\n",
       " '/home/ilc/bliewert/jobresults/550-2l4q-ana/E550-TDR_ws.P6f_llxxxx.Gwhizard-3_1_5.eR.pL.I410015.7-0_AIDA.root',\n",
       " '/home/ilc/bliewert/jobresults/550-2l4q-ana/E550-TDR_ws.P6f_llxyyx.Gwhizard-3_1_5.eL.pR.I410010.0-0_AIDA.root',\n",
       " '/home/ilc/bliewert/jobresults/550-2l4q-ana/E550-TDR_ws.P6f_llxyyx.Gwhizard-3_1_5.eL.pR.I410010.0-1_AIDA.root',\n",
       " '/home/ilc/bliewert/jobresults/550-2l4q-ana/E550-TDR_ws.P6f_llxyyx.Gwhizard-3_1_5.eL.pR.I410010.1-0_AIDA.root',\n",
       " '/home/ilc/bliewert/jobresults/550-2l4q-ana/E550-TDR_ws.P6f_llxyyx.Gwhizard-3_1_5.eL.pR.I410010.1-1_AIDA.root',\n",
       " '/home/ilc/bliewert/jobresults/550-2l4q-ana/E550-TDR_ws.P6f_llxyyx.Gwhizard-3_1_5.eL.pR.I410010.2-0_AIDA.root',\n",
       " '/home/ilc/bliewert/jobresults/550-2l4q-ana/E550-TDR_ws.P6f_llxyyx.Gwhizard-3_1_5.eL.pR.I410010.2-1_AIDA.root',\n",
       " '/home/ilc/bliewert/jobresults/550-2l4q-ana/E550-TDR_ws.P6f_llxyyx.Gwhizard-3_1_5.eL.pR.I410010.3-0_AIDA.root',\n",
       " '/home/ilc/bliewert/jobresults/550-2l4q-ana/E550-TDR_ws.P6f_llxyyx.Gwhizard-3_1_5.eL.pR.I410010.3-1_AIDA.root',\n",
       " '/home/ilc/bliewert/jobresults/550-2l4q-ana/E550-TDR_ws.P6f_llxyyx.Gwhizard-3_1_5.eL.pR.I410010.4-0_AIDA.root',\n",
       " '/home/ilc/bliewert/jobresults/550-2l4q-ana/E550-TDR_ws.P6f_llxyyx.Gwhizard-3_1_5.eL.pR.I410010.4-1_AIDA.root',\n",
       " '/home/ilc/bliewert/jobresults/550-2l4q-ana/E550-TDR_ws.P6f_llxyyx.Gwhizard-3_1_5.eL.pR.I410010.5-0_AIDA.root',\n",
       " '/home/ilc/bliewert/jobresults/550-2l4q-ana/E550-TDR_ws.P6f_llxyyx.Gwhizard-3_1_5.eL.pR.I410010.5-1_AIDA.root',\n",
       " '/home/ilc/bliewert/jobresults/550-2l4q-ana/E550-TDR_ws.P6f_llxyyx.Gwhizard-3_1_5.eL.pR.I410010.6-0_AIDA.root',\n",
       " '/home/ilc/bliewert/jobresults/550-2l4q-ana/E550-TDR_ws.P6f_llxyyx.Gwhizard-3_1_5.eL.pR.I410010.6-1_AIDA.root',\n",
       " '/home/ilc/bliewert/jobresults/550-2l4q-ana/E550-TDR_ws.P6f_llxyyx.Gwhizard-3_1_5.eL.pR.I410010.7-0_AIDA.root',\n",
       " '/home/ilc/bliewert/jobresults/550-2l4q-ana/E550-TDR_ws.P6f_llxyyx.Gwhizard-3_1_5.eL.pR.I410010.7-1_AIDA.root',\n",
       " '/home/ilc/bliewert/jobresults/550-2l4q-ana/E550-TDR_ws.P6f_llxyyx.Gwhizard-3_1_5.eR.pL.I410011.0-0_AIDA.root',\n",
       " '/home/ilc/bliewert/jobresults/550-2l4q-ana/E550-TDR_ws.P6f_llxyyx.Gwhizard-3_1_5.eR.pL.I410011.1-0_AIDA.root',\n",
       " '/home/ilc/bliewert/jobresults/550-2l4q-ana/E550-TDR_ws.P6f_llxyyx.Gwhizard-3_1_5.eR.pL.I410011.2-0_AIDA.root',\n",
       " '/home/ilc/bliewert/jobresults/550-2l4q-ana/E550-TDR_ws.P6f_llxyyx.Gwhizard-3_1_5.eR.pL.I410011.3-0_AIDA.root',\n",
       " '/home/ilc/bliewert/jobresults/550-2l4q-ana/E550-TDR_ws.P6f_llxyyx.Gwhizard-3_1_5.eR.pL.I410011.4-0_AIDA.root',\n",
       " '/home/ilc/bliewert/jobresults/550-2l4q-ana/E550-TDR_ws.P6f_llxyyx.Gwhizard-3_1_5.eR.pL.I410011.5-0_AIDA.root',\n",
       " '/home/ilc/bliewert/jobresults/550-2l4q-ana/E550-TDR_ws.P6f_llxyyx.Gwhizard-3_1_5.eR.pL.I410011.6-0_AIDA.root',\n",
       " '/home/ilc/bliewert/jobresults/550-2l4q-ana/E550-TDR_ws.P6f_llxyyx.Gwhizard-3_1_5.eR.pL.I410011.7-0_AIDA.root',\n",
       " '/home/ilc/bliewert/jobresults/550-2l4q-ana/E550-TDR_ws.P6f_llyyyy.Gwhizard-3_1_5.eL.pR.I410018.0-0_AIDA.root',\n",
       " '/home/ilc/bliewert/jobresults/550-2l4q-ana/E550-TDR_ws.P6f_llyyyy.Gwhizard-3_1_5.eL.pR.I410018.1-0_AIDA.root',\n",
       " '/home/ilc/bliewert/jobresults/550-2l4q-ana/E550-TDR_ws.P6f_llyyyy.Gwhizard-3_1_5.eL.pR.I410018.2-0_AIDA.root',\n",
       " '/home/ilc/bliewert/jobresults/550-2l4q-ana/E550-TDR_ws.P6f_llyyyy.Gwhizard-3_1_5.eL.pR.I410018.3-0_AIDA.root',\n",
       " '/home/ilc/bliewert/jobresults/550-2l4q-ana/E550-TDR_ws.P6f_llyyyy.Gwhizard-3_1_5.eL.pR.I410018.4-0_AIDA.root',\n",
       " '/home/ilc/bliewert/jobresults/550-2l4q-ana/E550-TDR_ws.P6f_llyyyy.Gwhizard-3_1_5.eL.pR.I410018.5-0_AIDA.root',\n",
       " '/home/ilc/bliewert/jobresults/550-2l4q-ana/E550-TDR_ws.P6f_llyyyy.Gwhizard-3_1_5.eL.pR.I410018.6-0_AIDA.root',\n",
       " '/home/ilc/bliewert/jobresults/550-2l4q-ana/E550-TDR_ws.P6f_llyyyy.Gwhizard-3_1_5.eL.pR.I410018.7-0_AIDA.root',\n",
       " '/home/ilc/bliewert/jobresults/550-2l4q-ana/E550-TDR_ws.P6f_llyyyy.Gwhizard-3_1_5.eR.pL.I410019.0-0_AIDA.root',\n",
       " '/home/ilc/bliewert/jobresults/550-2l4q-ana/E550-TDR_ws.P6f_llyyyy.Gwhizard-3_1_5.eR.pL.I410019.1-0_AIDA.root',\n",
       " '/home/ilc/bliewert/jobresults/550-2l4q-ana/E550-TDR_ws.P6f_llyyyy.Gwhizard-3_1_5.eR.pL.I410019.2-0_AIDA.root',\n",
       " '/home/ilc/bliewert/jobresults/550-2l4q-ana/E550-TDR_ws.P6f_llyyyy.Gwhizard-3_1_5.eR.pL.I410019.4-0_AIDA.root',\n",
       " '/home/ilc/bliewert/jobresults/550-2l4q-ana/E550-TDR_ws.P6f_llyyyy.Gwhizard-3_1_5.eR.pL.I410019.5-0_AIDA.root',\n",
       " '/home/ilc/bliewert/jobresults/550-2l4q-ana/E550-TDR_ws.P6f_llyyyy.Gwhizard-3_1_5.eR.pL.I410019.6-0_AIDA.root',\n",
       " '/home/ilc/bliewert/jobresults/550-2l4q-ana/E550-TDR_ws.P6f_llyyyy.Gwhizard-3_1_5.eR.pL.I410019.7-0_AIDA.root',\n",
       " '/home/ilc/bliewert/jobresults/550-2l4q-ana/E550-TDR_ws.P6f_vvxxxx.Gwhizard-3_1_5.eL.pR.I410016.0-0_AIDA.root',\n",
       " '/home/ilc/bliewert/jobresults/550-2l4q-ana/E550-TDR_ws.P6f_vvxxxx.Gwhizard-3_1_5.eL.pR.I410016.1-0_AIDA.root',\n",
       " '/home/ilc/bliewert/jobresults/550-2l4q-ana/E550-TDR_ws.P6f_vvxxxx.Gwhizard-3_1_5.eL.pR.I410016.2-0_AIDA.root',\n",
       " '/home/ilc/bliewert/jobresults/550-2l4q-ana/E550-TDR_ws.P6f_vvxxxx.Gwhizard-3_1_5.eL.pR.I410016.3-0_AIDA.root',\n",
       " '/home/ilc/bliewert/jobresults/550-2l4q-ana/E550-TDR_ws.P6f_vvxxxx.Gwhizard-3_1_5.eL.pR.I410016.4-0_AIDA.root',\n",
       " '/home/ilc/bliewert/jobresults/550-2l4q-ana/E550-TDR_ws.P6f_vvxxxx.Gwhizard-3_1_5.eL.pR.I410016.5-0_AIDA.root',\n",
       " '/home/ilc/bliewert/jobresults/550-2l4q-ana/E550-TDR_ws.P6f_vvxxxx.Gwhizard-3_1_5.eL.pR.I410016.6-0_AIDA.root',\n",
       " '/home/ilc/bliewert/jobresults/550-2l4q-ana/E550-TDR_ws.P6f_vvxxxx.Gwhizard-3_1_5.eL.pR.I410016.7-0_AIDA.root',\n",
       " '/home/ilc/bliewert/jobresults/550-2l4q-ana/E550-TDR_ws.P6f_vvxxxx.Gwhizard-3_1_5.eR.pL.I410017.0-0_AIDA.root',\n",
       " '/home/ilc/bliewert/jobresults/550-2l4q-ana/E550-TDR_ws.P6f_vvxxxx.Gwhizard-3_1_5.eR.pL.I410017.1-0_AIDA.root',\n",
       " '/home/ilc/bliewert/jobresults/550-2l4q-ana/E550-TDR_ws.P6f_vvxxxx.Gwhizard-3_1_5.eR.pL.I410017.2-0_AIDA.root',\n",
       " '/home/ilc/bliewert/jobresults/550-2l4q-ana/E550-TDR_ws.P6f_vvxxxx.Gwhizard-3_1_5.eR.pL.I410017.3-0_AIDA.root',\n",
       " '/home/ilc/bliewert/jobresults/550-2l4q-ana/E550-TDR_ws.P6f_vvxxxx.Gwhizard-3_1_5.eR.pL.I410017.4-0_AIDA.root',\n",
       " '/home/ilc/bliewert/jobresults/550-2l4q-ana/E550-TDR_ws.P6f_vvxxxx.Gwhizard-3_1_5.eR.pL.I410017.5-0_AIDA.root',\n",
       " '/home/ilc/bliewert/jobresults/550-2l4q-ana/E550-TDR_ws.P6f_vvxxxx.Gwhizard-3_1_5.eR.pL.I410017.6-0_AIDA.root',\n",
       " '/home/ilc/bliewert/jobresults/550-2l4q-ana/E550-TDR_ws.P6f_vvxxxx.Gwhizard-3_1_5.eR.pL.I410017.7-0_AIDA.root',\n",
       " '/home/ilc/bliewert/jobresults/550-2l4q-ana/E550-TDR_ws.P6f_vvxyyx.Gwhizard-3_1_5.eL.pR.I410012.1-0_AIDA.root',\n",
       " '/home/ilc/bliewert/jobresults/550-2l4q-ana/E550-TDR_ws.P6f_vvxyyx.Gwhizard-3_1_5.eL.pR.I410012.1-1_AIDA.root',\n",
       " '/home/ilc/bliewert/jobresults/550-2l4q-ana/E550-TDR_ws.P6f_vvxyyx.Gwhizard-3_1_5.eL.pR.I410012.1-2_AIDA.root',\n",
       " '/home/ilc/bliewert/jobresults/550-2l4q-ana/E550-TDR_ws.P6f_vvxyyx.Gwhizard-3_1_5.eL.pR.I410012.1-3_AIDA.root',\n",
       " '/home/ilc/bliewert/jobresults/550-2l4q-ana/E550-TDR_ws.P6f_vvxyyx.Gwhizard-3_1_5.eL.pR.I410012.2-0_AIDA.root',\n",
       " '/home/ilc/bliewert/jobresults/550-2l4q-ana/E550-TDR_ws.P6f_vvxyyx.Gwhizard-3_1_5.eL.pR.I410012.2-2_AIDA.root',\n",
       " '/home/ilc/bliewert/jobresults/550-2l4q-ana/E550-TDR_ws.P6f_vvxyyx.Gwhizard-3_1_5.eL.pR.I410012.2-3_AIDA.root',\n",
       " '/home/ilc/bliewert/jobresults/550-2l4q-ana/E550-TDR_ws.P6f_vvxyyx.Gwhizard-3_1_5.eL.pR.I410012.5-0_AIDA.root',\n",
       " '/home/ilc/bliewert/jobresults/550-2l4q-ana/E550-TDR_ws.P6f_vvxyyx.Gwhizard-3_1_5.eL.pR.I410012.5-1_AIDA.root',\n",
       " '/home/ilc/bliewert/jobresults/550-2l4q-ana/E550-TDR_ws.P6f_vvxyyx.Gwhizard-3_1_5.eL.pR.I410012.5-2_AIDA.root',\n",
       " '/home/ilc/bliewert/jobresults/550-2l4q-ana/E550-TDR_ws.P6f_vvxyyx.Gwhizard-3_1_5.eL.pR.I410012.5-3_AIDA.root',\n",
       " '/home/ilc/bliewert/jobresults/550-2l4q-ana/E550-TDR_ws.P6f_vvxyyx.Gwhizard-3_1_5.eL.pR.I410012.6-1_AIDA.root',\n",
       " '/home/ilc/bliewert/jobresults/550-2l4q-ana/E550-TDR_ws.P6f_vvxyyx.Gwhizard-3_1_5.eL.pR.I410012.6-2_AIDA.root',\n",
       " '/home/ilc/bliewert/jobresults/550-2l4q-ana/E550-TDR_ws.P6f_vvxyyx.Gwhizard-3_1_5.eL.pR.I410012.6-3_AIDA.root',\n",
       " '/home/ilc/bliewert/jobresults/550-2l4q-ana/E550-TDR_ws.P6f_vvxyyx.Gwhizard-3_1_5.eL.pR.I410012.7-0_AIDA.root',\n",
       " '/home/ilc/bliewert/jobresults/550-llhh-ana/E550-Test.Pe1e1hh.Gwhizard-2_8_5.eL.pL.I404021.0-0_AIDA.root',\n",
       " '/home/ilc/bliewert/jobresults/550-llhh-ana/E550-Test.Pe1e1hh.Gwhizard-2_8_5.eL.pL.I404021.0-10_AIDA.root',\n",
       " '/home/ilc/bliewert/jobresults/550-llhh-ana/E550-Test.Pe1e1hh.Gwhizard-2_8_5.eL.pL.I404021.0-11_AIDA.root',\n",
       " '/home/ilc/bliewert/jobresults/550-llhh-ana/E550-Test.Pe1e1hh.Gwhizard-2_8_5.eL.pL.I404021.0-12_AIDA.root',\n",
       " '/home/ilc/bliewert/jobresults/550-llhh-ana/E550-Test.Pe1e1hh.Gwhizard-2_8_5.eL.pL.I404021.0-13_AIDA.root',\n",
       " '/home/ilc/bliewert/jobresults/550-llhh-ana/E550-Test.Pe1e1hh.Gwhizard-2_8_5.eL.pL.I404021.0-14_AIDA.root',\n",
       " '/home/ilc/bliewert/jobresults/550-llhh-ana/E550-Test.Pe1e1hh.Gwhizard-2_8_5.eL.pL.I404021.0-15_AIDA.root',\n",
       " '/home/ilc/bliewert/jobresults/550-llhh-ana/E550-Test.Pe1e1hh.Gwhizard-2_8_5.eL.pL.I404021.0-16_AIDA.root',\n",
       " '/home/ilc/bliewert/jobresults/550-llhh-ana/E550-Test.Pe1e1hh.Gwhizard-2_8_5.eL.pL.I404021.0-17_AIDA.root',\n",
       " '/home/ilc/bliewert/jobresults/550-llhh-ana/E550-Test.Pe1e1hh.Gwhizard-2_8_5.eL.pL.I404021.0-18_AIDA.root',\n",
       " '/home/ilc/bliewert/jobresults/550-llhh-ana/E550-Test.Pe1e1hh.Gwhizard-2_8_5.eL.pL.I404021.0-19_AIDA.root',\n",
       " '/home/ilc/bliewert/jobresults/550-llhh-ana/E550-Test.Pe1e1hh.Gwhizard-2_8_5.eL.pL.I404021.0-1_AIDA.root',\n",
       " '/home/ilc/bliewert/jobresults/550-llhh-ana/E550-Test.Pe1e1hh.Gwhizard-2_8_5.eL.pL.I404021.0-20_AIDA.root',\n",
       " '/home/ilc/bliewert/jobresults/550-llhh-ana/E550-Test.Pe1e1hh.Gwhizard-2_8_5.eL.pL.I404021.0-21_AIDA.root',\n",
       " '/home/ilc/bliewert/jobresults/550-llhh-ana/E550-Test.Pe1e1hh.Gwhizard-2_8_5.eL.pL.I404021.0-2_AIDA.root',\n",
       " '/home/ilc/bliewert/jobresults/550-llhh-ana/E550-Test.Pe1e1hh.Gwhizard-2_8_5.eL.pL.I404021.0-3_AIDA.root',\n",
       " '/home/ilc/bliewert/jobresults/550-llhh-ana/E550-Test.Pe1e1hh.Gwhizard-2_8_5.eL.pL.I404021.0-4_AIDA.root',\n",
       " '/home/ilc/bliewert/jobresults/550-llhh-ana/E550-Test.Pe1e1hh.Gwhizard-2_8_5.eL.pL.I404021.0-5_AIDA.root',\n",
       " '/home/ilc/bliewert/jobresults/550-llhh-ana/E550-Test.Pe1e1hh.Gwhizard-2_8_5.eL.pL.I404021.0-6_AIDA.root',\n",
       " '/home/ilc/bliewert/jobresults/550-llhh-ana/E550-Test.Pe1e1hh.Gwhizard-2_8_5.eL.pL.I404021.0-7_AIDA.root',\n",
       " '/home/ilc/bliewert/jobresults/550-llhh-ana/E550-Test.Pe1e1hh.Gwhizard-2_8_5.eL.pL.I404021.0-8_AIDA.root',\n",
       " '/home/ilc/bliewert/jobresults/550-llhh-ana/E550-Test.Pe1e1hh.Gwhizard-2_8_5.eL.pL.I404021.0-9_AIDA.root',\n",
       " '/home/ilc/bliewert/jobresults/550-llhh-ana/E550-Test.Pe1e1hh.Gwhizard-2_8_5.eL.pL.I404021.1-0_AIDA.root',\n",
       " '/home/ilc/bliewert/jobresults/550-llhh-ana/E550-Test.Pe1e1hh.Gwhizard-2_8_5.eL.pL.I404021.1-10_AIDA.root',\n",
       " '/home/ilc/bliewert/jobresults/550-llhh-ana/E550-Test.Pe1e1hh.Gwhizard-2_8_5.eL.pL.I404021.1-11_AIDA.root',\n",
       " '/home/ilc/bliewert/jobresults/550-llhh-ana/E550-Test.Pe1e1hh.Gwhizard-2_8_5.eL.pL.I404021.1-12_AIDA.root',\n",
       " '/home/ilc/bliewert/jobresults/550-llhh-ana/E550-Test.Pe1e1hh.Gwhizard-2_8_5.eL.pL.I404021.1-13_AIDA.root',\n",
       " '/home/ilc/bliewert/jobresults/550-llhh-ana/E550-Test.Pe1e1hh.Gwhizard-2_8_5.eL.pL.I404021.1-14_AIDA.root',\n",
       " '/home/ilc/bliewert/jobresults/550-llhh-ana/E550-Test.Pe1e1hh.Gwhizard-2_8_5.eL.pL.I404021.1-15_AIDA.root',\n",
       " '/home/ilc/bliewert/jobresults/550-llhh-ana/E550-Test.Pe1e1hh.Gwhizard-2_8_5.eL.pL.I404021.1-16_AIDA.root',\n",
       " '/home/ilc/bliewert/jobresults/550-llhh-ana/E550-Test.Pe1e1hh.Gwhizard-2_8_5.eL.pL.I404021.1-17_AIDA.root',\n",
       " '/home/ilc/bliewert/jobresults/550-llhh-ana/E550-Test.Pe1e1hh.Gwhizard-2_8_5.eL.pL.I404021.1-18_AIDA.root',\n",
       " '/home/ilc/bliewert/jobresults/550-llhh-ana/E550-Test.Pe1e1hh.Gwhizard-2_8_5.eL.pL.I404021.1-19_AIDA.root',\n",
       " '/home/ilc/bliewert/jobresults/550-llhh-ana/E550-Test.Pe1e1hh.Gwhizard-2_8_5.eL.pL.I404021.1-1_AIDA.root',\n",
       " '/home/ilc/bliewert/jobresults/550-llhh-ana/E550-Test.Pe1e1hh.Gwhizard-2_8_5.eL.pL.I404021.1-20_AIDA.root',\n",
       " '/home/ilc/bliewert/jobresults/550-llhh-ana/E550-Test.Pe1e1hh.Gwhizard-2_8_5.eL.pL.I404021.1-21_AIDA.root',\n",
       " '/home/ilc/bliewert/jobresults/550-llhh-ana/E550-Test.Pe1e1hh.Gwhizard-2_8_5.eL.pL.I404021.1-2_AIDA.root',\n",
       " '/home/ilc/bliewert/jobresults/550-llhh-ana/E550-Test.Pe1e1hh.Gwhizard-2_8_5.eL.pL.I404021.1-3_AIDA.root',\n",
       " '/home/ilc/bliewert/jobresults/550-llhh-ana/E550-Test.Pe1e1hh.Gwhizard-2_8_5.eL.pL.I404021.1-4_AIDA.root',\n",
       " '/home/ilc/bliewert/jobresults/550-llhh-ana/E550-Test.Pe1e1hh.Gwhizard-2_8_5.eL.pL.I404021.1-5_AIDA.root',\n",
       " '/home/ilc/bliewert/jobresults/550-llhh-ana/E550-Test.Pe1e1hh.Gwhizard-2_8_5.eL.pL.I404021.1-6_AIDA.root',\n",
       " '/home/ilc/bliewert/jobresults/550-llhh-ana/E550-Test.Pe1e1hh.Gwhizard-2_8_5.eL.pL.I404021.1-7_AIDA.root',\n",
       " '/home/ilc/bliewert/jobresults/550-llhh-ana/E550-Test.Pe1e1hh.Gwhizard-2_8_5.eL.pL.I404021.1-8_AIDA.root',\n",
       " '/home/ilc/bliewert/jobresults/550-llhh-ana/E550-Test.Pe1e1hh.Gwhizard-2_8_5.eL.pL.I404021.1-9_AIDA.root',\n",
       " '/home/ilc/bliewert/jobresults/550-llhh-ana/E550-Test.Pe1e1hh.Gwhizard-2_8_5.eL.pL.I404021.10-0_AIDA.root',\n",
       " '/home/ilc/bliewert/jobresults/550-llhh-ana/E550-Test.Pe1e1hh.Gwhizard-2_8_5.eL.pL.I404021.10-10_AIDA.root',\n",
       " '/home/ilc/bliewert/jobresults/550-llhh-ana/E550-Test.Pe1e1hh.Gwhizard-2_8_5.eL.pL.I404021.10-11_AIDA.root',\n",
       " '/home/ilc/bliewert/jobresults/550-llhh-ana/E550-Test.Pe1e1hh.Gwhizard-2_8_5.eL.pL.I404021.10-12_AIDA.root',\n",
       " '/home/ilc/bliewert/jobresults/550-llhh-ana/E550-Test.Pe1e1hh.Gwhizard-2_8_5.eL.pL.I404021.10-13_AIDA.root',\n",
       " '/home/ilc/bliewert/jobresults/550-llhh-ana/E550-Test.Pe1e1hh.Gwhizard-2_8_5.eL.pL.I404021.10-14_AIDA.root',\n",
       " '/home/ilc/bliewert/jobresults/550-llhh-ana/E550-Test.Pe1e1hh.Gwhizard-2_8_5.eL.pL.I404021.10-15_AIDA.root',\n",
       " '/home/ilc/bliewert/jobresults/550-llhh-ana/E550-Test.Pe1e1hh.Gwhizard-2_8_5.eL.pL.I404021.10-16_AIDA.root',\n",
       " '/home/ilc/bliewert/jobresults/550-llhh-ana/E550-Test.Pe1e1hh.Gwhizard-2_8_5.eL.pL.I404021.10-17_AIDA.root',\n",
       " '/home/ilc/bliewert/jobresults/550-llhh-ana/E550-Test.Pe1e1hh.Gwhizard-2_8_5.eL.pL.I404021.10-18_AIDA.root',\n",
       " '/home/ilc/bliewert/jobresults/550-llhh-ana/E550-Test.Pe1e1hh.Gwhizard-2_8_5.eL.pL.I404021.10-19_AIDA.root',\n",
       " '/home/ilc/bliewert/jobresults/550-llhh-ana/E550-Test.Pe1e1hh.Gwhizard-2_8_5.eL.pL.I404021.10-1_AIDA.root',\n",
       " '/home/ilc/bliewert/jobresults/550-llhh-ana/E550-Test.Pe1e1hh.Gwhizard-2_8_5.eL.pL.I404021.10-20_AIDA.root',\n",
       " '/home/ilc/bliewert/jobresults/550-llhh-ana/E550-Test.Pe1e1hh.Gwhizard-2_8_5.eL.pL.I404021.10-21_AIDA.root',\n",
       " '/home/ilc/bliewert/jobresults/550-llhh-ana/E550-Test.Pe1e1hh.Gwhizard-2_8_5.eL.pL.I404021.10-2_AIDA.root',\n",
       " '/home/ilc/bliewert/jobresults/550-llhh-ana/E550-Test.Pe1e1hh.Gwhizard-2_8_5.eL.pL.I404021.10-3_AIDA.root',\n",
       " '/home/ilc/bliewert/jobresults/550-llhh-ana/E550-Test.Pe1e1hh.Gwhizard-2_8_5.eL.pL.I404021.10-4_AIDA.root',\n",
       " '/home/ilc/bliewert/jobresults/550-llhh-ana/E550-Test.Pe1e1hh.Gwhizard-2_8_5.eL.pL.I404021.10-5_AIDA.root',\n",
       " '/home/ilc/bliewert/jobresults/550-llhh-ana/E550-Test.Pe1e1hh.Gwhizard-2_8_5.eL.pL.I404021.10-6_AIDA.root',\n",
       " '/home/ilc/bliewert/jobresults/550-llhh-ana/E550-Test.Pe1e1hh.Gwhizard-2_8_5.eL.pL.I404021.10-7_AIDA.root',\n",
       " '/home/ilc/bliewert/jobresults/550-llhh-ana/E550-Test.Pe1e1hh.Gwhizard-2_8_5.eL.pL.I404021.10-8_AIDA.root',\n",
       " '/home/ilc/bliewert/jobresults/550-llhh-ana/E550-Test.Pe1e1hh.Gwhizard-2_8_5.eL.pL.I404021.10-9_AIDA.root',\n",
       " '/home/ilc/bliewert/jobresults/550-llhh-ana/E550-Test.Pe1e1hh.Gwhizard-2_8_5.eL.pL.I404021.11-0_AIDA.root',\n",
       " '/home/ilc/bliewert/jobresults/550-llhh-ana/E550-Test.Pe1e1hh.Gwhizard-2_8_5.eL.pL.I404021.11-1_AIDA.root',\n",
       " '/home/ilc/bliewert/jobresults/550-llhh-ana/E550-Test.Pe1e1hh.Gwhizard-2_8_5.eL.pL.I404021.11-2_AIDA.root',\n",
       " '/home/ilc/bliewert/jobresults/550-llhh-ana/E550-Test.Pe1e1hh.Gwhizard-2_8_5.eL.pL.I404021.11-3_AIDA.root',\n",
       " '/home/ilc/bliewert/jobresults/550-llhh-ana/E550-Test.Pe1e1hh.Gwhizard-2_8_5.eL.pL.I404021.12-0_AIDA.root',\n",
       " '/home/ilc/bliewert/jobresults/550-llhh-ana/E550-Test.Pe1e1hh.Gwhizard-2_8_5.eL.pL.I404021.12-10_AIDA.root',\n",
       " '/home/ilc/bliewert/jobresults/550-llhh-ana/E550-Test.Pe1e1hh.Gwhizard-2_8_5.eL.pL.I404021.12-11_AIDA.root',\n",
       " '/home/ilc/bliewert/jobresults/550-llhh-ana/E550-Test.Pe1e1hh.Gwhizard-2_8_5.eL.pL.I404021.12-12_AIDA.root',\n",
       " '/home/ilc/bliewert/jobresults/550-llhh-ana/E550-Test.Pe1e1hh.Gwhizard-2_8_5.eL.pL.I404021.12-13_AIDA.root',\n",
       " '/home/ilc/bliewert/jobresults/550-llhh-ana/E550-Test.Pe1e1hh.Gwhizard-2_8_5.eL.pL.I404021.12-14_AIDA.root',\n",
       " '/home/ilc/bliewert/jobresults/550-llhh-ana/E550-Test.Pe1e1hh.Gwhizard-2_8_5.eL.pL.I404021.12-15_AIDA.root',\n",
       " '/home/ilc/bliewert/jobresults/550-llhh-ana/E550-Test.Pe1e1hh.Gwhizard-2_8_5.eL.pL.I404021.12-16_AIDA.root',\n",
       " '/home/ilc/bliewert/jobresults/550-llhh-ana/E550-Test.Pe1e1hh.Gwhizard-2_8_5.eL.pL.I404021.12-17_AIDA.root',\n",
       " '/home/ilc/bliewert/jobresults/550-llhh-ana/E550-Test.Pe1e1hh.Gwhizard-2_8_5.eL.pL.I404021.12-18_AIDA.root',\n",
       " '/home/ilc/bliewert/jobresults/550-llhh-ana/E550-Test.Pe1e1hh.Gwhizard-2_8_5.eL.pL.I404021.12-19_AIDA.root',\n",
       " '/home/ilc/bliewert/jobresults/550-llhh-ana/E550-Test.Pe1e1hh.Gwhizard-2_8_5.eL.pL.I404021.12-1_AIDA.root',\n",
       " '/home/ilc/bliewert/jobresults/550-llhh-ana/E550-Test.Pe1e1hh.Gwhizard-2_8_5.eL.pL.I404021.12-20_AIDA.root',\n",
       " '/home/ilc/bliewert/jobresults/550-llhh-ana/E550-Test.Pe1e1hh.Gwhizard-2_8_5.eL.pL.I404021.12-21_AIDA.root',\n",
       " '/home/ilc/bliewert/jobresults/550-llhh-ana/E550-Test.Pe1e1hh.Gwhizard-2_8_5.eL.pL.I404021.12-2_AIDA.root',\n",
       " '/home/ilc/bliewert/jobresults/550-llhh-ana/E550-Test.Pe1e1hh.Gwhizard-2_8_5.eL.pL.I404021.12-3_AIDA.root',\n",
       " '/home/ilc/bliewert/jobresults/550-llhh-ana/E550-Test.Pe1e1hh.Gwhizard-2_8_5.eL.pL.I404021.12-4_AIDA.root',\n",
       " '/home/ilc/bliewert/jobresults/550-llhh-ana/E550-Test.Pe1e1hh.Gwhizard-2_8_5.eL.pL.I404021.12-5_AIDA.root',\n",
       " '/home/ilc/bliewert/jobresults/550-llhh-ana/E550-Test.Pe1e1hh.Gwhizard-2_8_5.eL.pL.I404021.12-6_AIDA.root',\n",
       " '/home/ilc/bliewert/jobresults/550-llhh-ana/E550-Test.Pe1e1hh.Gwhizard-2_8_5.eL.pL.I404021.12-7_AIDA.root',\n",
       " '/home/ilc/bliewert/jobresults/550-llhh-ana/E550-Test.Pe1e1hh.Gwhizard-2_8_5.eL.pL.I404021.12-8_AIDA.root',\n",
       " '/home/ilc/bliewert/jobresults/550-llhh-ana/E550-Test.Pe1e1hh.Gwhizard-2_8_5.eL.pL.I404021.12-9_AIDA.root',\n",
       " '/home/ilc/bliewert/jobresults/550-llhh-ana/E550-Test.Pe1e1hh.Gwhizard-2_8_5.eL.pL.I404021.13-0_AIDA.root',\n",
       " '/home/ilc/bliewert/jobresults/550-llhh-ana/E550-Test.Pe1e1hh.Gwhizard-2_8_5.eL.pL.I404021.13-10_AIDA.root',\n",
       " '/home/ilc/bliewert/jobresults/550-llhh-ana/E550-Test.Pe1e1hh.Gwhizard-2_8_5.eL.pL.I404021.13-11_AIDA.root',\n",
       " '/home/ilc/bliewert/jobresults/550-llhh-ana/E550-Test.Pe1e1hh.Gwhizard-2_8_5.eL.pL.I404021.13-12_AIDA.root',\n",
       " '/home/ilc/bliewert/jobresults/550-llhh-ana/E550-Test.Pe1e1hh.Gwhizard-2_8_5.eL.pL.I404021.13-13_AIDA.root',\n",
       " '/home/ilc/bliewert/jobresults/550-llhh-ana/E550-Test.Pe1e1hh.Gwhizard-2_8_5.eL.pL.I404021.13-14_AIDA.root',\n",
       " '/home/ilc/bliewert/jobresults/550-llhh-ana/E550-Test.Pe1e1hh.Gwhizard-2_8_5.eL.pL.I404021.13-15_AIDA.root',\n",
       " '/home/ilc/bliewert/jobresults/550-llhh-ana/E550-Test.Pe1e1hh.Gwhizard-2_8_5.eL.pL.I404021.13-16_AIDA.root',\n",
       " '/home/ilc/bliewert/jobresults/550-llhh-ana/E550-Test.Pe1e1hh.Gwhizard-2_8_5.eL.pL.I404021.13-17_AIDA.root',\n",
       " '/home/ilc/bliewert/jobresults/550-llhh-ana/E550-Test.Pe1e1hh.Gwhizard-2_8_5.eL.pL.I404021.13-18_AIDA.root',\n",
       " '/home/ilc/bliewert/jobresults/550-llhh-ana/E550-Test.Pe1e1hh.Gwhizard-2_8_5.eL.pL.I404021.13-19_AIDA.root',\n",
       " '/home/ilc/bliewert/jobresults/550-llhh-ana/E550-Test.Pe1e1hh.Gwhizard-2_8_5.eL.pL.I404021.13-1_AIDA.root',\n",
       " '/home/ilc/bliewert/jobresults/550-llhh-ana/E550-Test.Pe1e1hh.Gwhizard-2_8_5.eL.pL.I404021.13-20_AIDA.root',\n",
       " '/home/ilc/bliewert/jobresults/550-llhh-ana/E550-Test.Pe1e1hh.Gwhizard-2_8_5.eL.pL.I404021.13-21_AIDA.root',\n",
       " '/home/ilc/bliewert/jobresults/550-llhh-ana/E550-Test.Pe1e1hh.Gwhizard-2_8_5.eL.pL.I404021.13-2_AIDA.root',\n",
       " '/home/ilc/bliewert/jobresults/550-llhh-ana/E550-Test.Pe1e1hh.Gwhizard-2_8_5.eL.pL.I404021.13-3_AIDA.root',\n",
       " '/home/ilc/bliewert/jobresults/550-llhh-ana/E550-Test.Pe1e1hh.Gwhizard-2_8_5.eL.pL.I404021.13-4_AIDA.root',\n",
       " '/home/ilc/bliewert/jobresults/550-llhh-ana/E550-Test.Pe1e1hh.Gwhizard-2_8_5.eL.pL.I404021.13-5_AIDA.root',\n",
       " '/home/ilc/bliewert/jobresults/550-llhh-ana/E550-Test.Pe1e1hh.Gwhizard-2_8_5.eL.pL.I404021.13-6_AIDA.root',\n",
       " '/home/ilc/bliewert/jobresults/550-llhh-ana/E550-Test.Pe1e1hh.Gwhizard-2_8_5.eL.pL.I404021.13-7_AIDA.root',\n",
       " '/home/ilc/bliewert/jobresults/550-llhh-ana/E550-Test.Pe1e1hh.Gwhizard-2_8_5.eL.pL.I404021.13-8_AIDA.root',\n",
       " '/home/ilc/bliewert/jobresults/550-llhh-ana/E550-Test.Pe1e1hh.Gwhizard-2_8_5.eL.pL.I404021.13-9_AIDA.root',\n",
       " '/home/ilc/bliewert/jobresults/550-llhh-ana/E550-Test.Pe1e1hh.Gwhizard-2_8_5.eL.pL.I404021.14-0_AIDA.root',\n",
       " '/home/ilc/bliewert/jobresults/550-llhh-ana/E550-Test.Pe1e1hh.Gwhizard-2_8_5.eL.pL.I404021.14-10_AIDA.root',\n",
       " '/home/ilc/bliewert/jobresults/550-llhh-ana/E550-Test.Pe1e1hh.Gwhizard-2_8_5.eL.pL.I404021.14-11_AIDA.root',\n",
       " '/home/ilc/bliewert/jobresults/550-llhh-ana/E550-Test.Pe1e1hh.Gwhizard-2_8_5.eL.pL.I404021.14-12_AIDA.root',\n",
       " '/home/ilc/bliewert/jobresults/550-llhh-ana/E550-Test.Pe1e1hh.Gwhizard-2_8_5.eL.pL.I404021.14-13_AIDA.root',\n",
       " '/home/ilc/bliewert/jobresults/550-llhh-ana/E550-Test.Pe1e1hh.Gwhizard-2_8_5.eL.pL.I404021.14-14_AIDA.root',\n",
       " '/home/ilc/bliewert/jobresults/550-llhh-ana/E550-Test.Pe1e1hh.Gwhizard-2_8_5.eL.pL.I404021.14-15_AIDA.root',\n",
       " '/home/ilc/bliewert/jobresults/550-llhh-ana/E550-Test.Pe1e1hh.Gwhizard-2_8_5.eL.pL.I404021.14-16_AIDA.root',\n",
       " '/home/ilc/bliewert/jobresults/550-llhh-ana/E550-Test.Pe1e1hh.Gwhizard-2_8_5.eL.pL.I404021.14-17_AIDA.root',\n",
       " '/home/ilc/bliewert/jobresults/550-llhh-ana/E550-Test.Pe1e1hh.Gwhizard-2_8_5.eL.pL.I404021.14-18_AIDA.root',\n",
       " '/home/ilc/bliewert/jobresults/550-llhh-ana/E550-Test.Pe1e1hh.Gwhizard-2_8_5.eL.pL.I404021.14-19_AIDA.root',\n",
       " '/home/ilc/bliewert/jobresults/550-llhh-ana/E550-Test.Pe1e1hh.Gwhizard-2_8_5.eL.pL.I404021.14-1_AIDA.root',\n",
       " '/home/ilc/bliewert/jobresults/550-llhh-ana/E550-Test.Pe1e1hh.Gwhizard-2_8_5.eL.pL.I404021.14-20_AIDA.root',\n",
       " '/home/ilc/bliewert/jobresults/550-llhh-ana/E550-Test.Pe1e1hh.Gwhizard-2_8_5.eL.pL.I404021.14-21_AIDA.root',\n",
       " '/home/ilc/bliewert/jobresults/550-llhh-ana/E550-Test.Pe1e1hh.Gwhizard-2_8_5.eL.pL.I404021.14-2_AIDA.root',\n",
       " '/home/ilc/bliewert/jobresults/550-llhh-ana/E550-Test.Pe1e1hh.Gwhizard-2_8_5.eL.pL.I404021.14-3_AIDA.root',\n",
       " '/home/ilc/bliewert/jobresults/550-llhh-ana/E550-Test.Pe1e1hh.Gwhizard-2_8_5.eL.pL.I404021.14-4_AIDA.root',\n",
       " '/home/ilc/bliewert/jobresults/550-llhh-ana/E550-Test.Pe1e1hh.Gwhizard-2_8_5.eL.pL.I404021.14-5_AIDA.root',\n",
       " '/home/ilc/bliewert/jobresults/550-llhh-ana/E550-Test.Pe1e1hh.Gwhizard-2_8_5.eL.pL.I404021.14-6_AIDA.root',\n",
       " '/home/ilc/bliewert/jobresults/550-llhh-ana/E550-Test.Pe1e1hh.Gwhizard-2_8_5.eL.pL.I404021.14-7_AIDA.root',\n",
       " '/home/ilc/bliewert/jobresults/550-llhh-ana/E550-Test.Pe1e1hh.Gwhizard-2_8_5.eL.pL.I404021.14-8_AIDA.root',\n",
       " '/home/ilc/bliewert/jobresults/550-llhh-ana/E550-Test.Pe1e1hh.Gwhizard-2_8_5.eL.pL.I404021.14-9_AIDA.root',\n",
       " '/home/ilc/bliewert/jobresults/550-llhh-ana/E550-Test.Pe1e1hh.Gwhizard-2_8_5.eL.pL.I404021.15-0_AIDA.root',\n",
       " '/home/ilc/bliewert/jobresults/550-llhh-ana/E550-Test.Pe1e1hh.Gwhizard-2_8_5.eL.pL.I404021.15-1_AIDA.root',\n",
       " '/home/ilc/bliewert/jobresults/550-llhh-ana/E550-Test.Pe1e1hh.Gwhizard-2_8_5.eL.pL.I404021.15-2_AIDA.root',\n",
       " '/home/ilc/bliewert/jobresults/550-llhh-ana/E550-Test.Pe1e1hh.Gwhizard-2_8_5.eL.pL.I404021.15-3_AIDA.root',\n",
       " '/home/ilc/bliewert/jobresults/550-llhh-ana/E550-Test.Pe1e1hh.Gwhizard-2_8_5.eL.pL.I404021.2-0_AIDA.root',\n",
       " '/home/ilc/bliewert/jobresults/550-llhh-ana/E550-Test.Pe1e1hh.Gwhizard-2_8_5.eL.pL.I404021.2-10_AIDA.root',\n",
       " '/home/ilc/bliewert/jobresults/550-llhh-ana/E550-Test.Pe1e1hh.Gwhizard-2_8_5.eL.pL.I404021.2-11_AIDA.root',\n",
       " '/home/ilc/bliewert/jobresults/550-llhh-ana/E550-Test.Pe1e1hh.Gwhizard-2_8_5.eL.pL.I404021.2-12_AIDA.root',\n",
       " '/home/ilc/bliewert/jobresults/550-llhh-ana/E550-Test.Pe1e1hh.Gwhizard-2_8_5.eL.pL.I404021.2-13_AIDA.root',\n",
       " '/home/ilc/bliewert/jobresults/550-llhh-ana/E550-Test.Pe1e1hh.Gwhizard-2_8_5.eL.pL.I404021.2-14_AIDA.root',\n",
       " '/home/ilc/bliewert/jobresults/550-llhh-ana/E550-Test.Pe1e1hh.Gwhizard-2_8_5.eL.pL.I404021.2-15_AIDA.root',\n",
       " '/home/ilc/bliewert/jobresults/550-llhh-ana/E550-Test.Pe1e1hh.Gwhizard-2_8_5.eL.pL.I404021.2-16_AIDA.root',\n",
       " '/home/ilc/bliewert/jobresults/550-llhh-ana/E550-Test.Pe1e1hh.Gwhizard-2_8_5.eL.pL.I404021.2-17_AIDA.root',\n",
       " '/home/ilc/bliewert/jobresults/550-llhh-ana/E550-Test.Pe1e1hh.Gwhizard-2_8_5.eL.pL.I404021.2-18_AIDA.root',\n",
       " '/home/ilc/bliewert/jobresults/550-llhh-ana/E550-Test.Pe1e1hh.Gwhizard-2_8_5.eL.pL.I404021.2-19_AIDA.root',\n",
       " '/home/ilc/bliewert/jobresults/550-llhh-ana/E550-Test.Pe1e1hh.Gwhizard-2_8_5.eL.pL.I404021.2-1_AIDA.root',\n",
       " '/home/ilc/bliewert/jobresults/550-llhh-ana/E550-Test.Pe1e1hh.Gwhizard-2_8_5.eL.pL.I404021.2-20_AIDA.root',\n",
       " '/home/ilc/bliewert/jobresults/550-llhh-ana/E550-Test.Pe1e1hh.Gwhizard-2_8_5.eL.pL.I404021.2-21_AIDA.root',\n",
       " '/home/ilc/bliewert/jobresults/550-llhh-ana/E550-Test.Pe1e1hh.Gwhizard-2_8_5.eL.pL.I404021.2-2_AIDA.root',\n",
       " '/home/ilc/bliewert/jobresults/550-llhh-ana/E550-Test.Pe1e1hh.Gwhizard-2_8_5.eL.pL.I404021.2-3_AIDA.root',\n",
       " '/home/ilc/bliewert/jobresults/550-llhh-ana/E550-Test.Pe1e1hh.Gwhizard-2_8_5.eL.pL.I404021.2-4_AIDA.root',\n",
       " '/home/ilc/bliewert/jobresults/550-llhh-ana/E550-Test.Pe1e1hh.Gwhizard-2_8_5.eL.pL.I404021.2-5_AIDA.root',\n",
       " '/home/ilc/bliewert/jobresults/550-llhh-ana/E550-Test.Pe1e1hh.Gwhizard-2_8_5.eL.pL.I404021.2-6_AIDA.root',\n",
       " '/home/ilc/bliewert/jobresults/550-llhh-ana/E550-Test.Pe1e1hh.Gwhizard-2_8_5.eL.pL.I404021.2-7_AIDA.root',\n",
       " '/home/ilc/bliewert/jobresults/550-llhh-ana/E550-Test.Pe1e1hh.Gwhizard-2_8_5.eL.pL.I404021.2-8_AIDA.root',\n",
       " '/home/ilc/bliewert/jobresults/550-llhh-ana/E550-Test.Pe1e1hh.Gwhizard-2_8_5.eL.pL.I404021.2-9_AIDA.root',\n",
       " '/home/ilc/bliewert/jobresults/550-llhh-ana/E550-Test.Pe1e1hh.Gwhizard-2_8_5.eL.pL.I404021.3-0_AIDA.root',\n",
       " '/home/ilc/bliewert/jobresults/550-llhh-ana/E550-Test.Pe1e1hh.Gwhizard-2_8_5.eL.pL.I404021.3-1_AIDA.root',\n",
       " '/home/ilc/bliewert/jobresults/550-llhh-ana/E550-Test.Pe1e1hh.Gwhizard-2_8_5.eL.pL.I404021.3-2_AIDA.root',\n",
       " '/home/ilc/bliewert/jobresults/550-llhh-ana/E550-Test.Pe1e1hh.Gwhizard-2_8_5.eL.pL.I404021.3-3_AIDA.root',\n",
       " '/home/ilc/bliewert/jobresults/550-llhh-ana/E550-Test.Pe1e1hh.Gwhizard-2_8_5.eL.pL.I404021.4-0_AIDA.root',\n",
       " '/home/ilc/bliewert/jobresults/550-llhh-ana/E550-Test.Pe1e1hh.Gwhizard-2_8_5.eL.pL.I404021.4-10_AIDA.root',\n",
       " '/home/ilc/bliewert/jobresults/550-llhh-ana/E550-Test.Pe1e1hh.Gwhizard-2_8_5.eL.pL.I404021.4-11_AIDA.root',\n",
       " '/home/ilc/bliewert/jobresults/550-llhh-ana/E550-Test.Pe1e1hh.Gwhizard-2_8_5.eL.pL.I404021.4-12_AIDA.root',\n",
       " '/home/ilc/bliewert/jobresults/550-llhh-ana/E550-Test.Pe1e1hh.Gwhizard-2_8_5.eL.pL.I404021.4-13_AIDA.root',\n",
       " '/home/ilc/bliewert/jobresults/550-llhh-ana/E550-Test.Pe1e1hh.Gwhizard-2_8_5.eL.pL.I404021.4-14_AIDA.root',\n",
       " '/home/ilc/bliewert/jobresults/550-llhh-ana/E550-Test.Pe1e1hh.Gwhizard-2_8_5.eL.pL.I404021.4-15_AIDA.root',\n",
       " '/home/ilc/bliewert/jobresults/550-llhh-ana/E550-Test.Pe1e1hh.Gwhizard-2_8_5.eL.pL.I404021.4-16_AIDA.root',\n",
       " '/home/ilc/bliewert/jobresults/550-llhh-ana/E550-Test.Pe1e1hh.Gwhizard-2_8_5.eL.pL.I404021.4-17_AIDA.root',\n",
       " '/home/ilc/bliewert/jobresults/550-llhh-ana/E550-Test.Pe1e1hh.Gwhizard-2_8_5.eL.pL.I404021.4-18_AIDA.root',\n",
       " '/home/ilc/bliewert/jobresults/550-llhh-ana/E550-Test.Pe1e1hh.Gwhizard-2_8_5.eL.pL.I404021.4-19_AIDA.root',\n",
       " '/home/ilc/bliewert/jobresults/550-llhh-ana/E550-Test.Pe1e1hh.Gwhizard-2_8_5.eL.pL.I404021.4-1_AIDA.root',\n",
       " '/home/ilc/bliewert/jobresults/550-llhh-ana/E550-Test.Pe1e1hh.Gwhizard-2_8_5.eL.pL.I404021.4-20_AIDA.root',\n",
       " '/home/ilc/bliewert/jobresults/550-llhh-ana/E550-Test.Pe1e1hh.Gwhizard-2_8_5.eL.pL.I404021.4-21_AIDA.root',\n",
       " '/home/ilc/bliewert/jobresults/550-llhh-ana/E550-Test.Pe1e1hh.Gwhizard-2_8_5.eL.pL.I404021.4-2_AIDA.root',\n",
       " '/home/ilc/bliewert/jobresults/550-llhh-ana/E550-Test.Pe1e1hh.Gwhizard-2_8_5.eL.pL.I404021.4-3_AIDA.root',\n",
       " '/home/ilc/bliewert/jobresults/550-llhh-ana/E550-Test.Pe1e1hh.Gwhizard-2_8_5.eL.pL.I404021.4-4_AIDA.root',\n",
       " '/home/ilc/bliewert/jobresults/550-llhh-ana/E550-Test.Pe1e1hh.Gwhizard-2_8_5.eL.pL.I404021.4-5_AIDA.root',\n",
       " '/home/ilc/bliewert/jobresults/550-llhh-ana/E550-Test.Pe1e1hh.Gwhizard-2_8_5.eL.pL.I404021.4-6_AIDA.root',\n",
       " '/home/ilc/bliewert/jobresults/550-llhh-ana/E550-Test.Pe1e1hh.Gwhizard-2_8_5.eL.pL.I404021.4-7_AIDA.root',\n",
       " '/home/ilc/bliewert/jobresults/550-llhh-ana/E550-Test.Pe1e1hh.Gwhizard-2_8_5.eL.pL.I404021.4-8_AIDA.root',\n",
       " '/home/ilc/bliewert/jobresults/550-llhh-ana/E550-Test.Pe1e1hh.Gwhizard-2_8_5.eL.pL.I404021.4-9_AIDA.root',\n",
       " '/home/ilc/bliewert/jobresults/550-llhh-ana/E550-Test.Pe1e1hh.Gwhizard-2_8_5.eL.pL.I404021.5-0_AIDA.root',\n",
       " '/home/ilc/bliewert/jobresults/550-llhh-ana/E550-Test.Pe1e1hh.Gwhizard-2_8_5.eL.pL.I404021.5-10_AIDA.root',\n",
       " '/home/ilc/bliewert/jobresults/550-llhh-ana/E550-Test.Pe1e1hh.Gwhizard-2_8_5.eL.pL.I404021.5-11_AIDA.root',\n",
       " '/home/ilc/bliewert/jobresults/550-llhh-ana/E550-Test.Pe1e1hh.Gwhizard-2_8_5.eL.pL.I404021.5-12_AIDA.root',\n",
       " '/home/ilc/bliewert/jobresults/550-llhh-ana/E550-Test.Pe1e1hh.Gwhizard-2_8_5.eL.pL.I404021.5-13_AIDA.root',\n",
       " '/home/ilc/bliewert/jobresults/550-llhh-ana/E550-Test.Pe1e1hh.Gwhizard-2_8_5.eL.pL.I404021.5-14_AIDA.root',\n",
       " '/home/ilc/bliewert/jobresults/550-llhh-ana/E550-Test.Pe1e1hh.Gwhizard-2_8_5.eL.pL.I404021.5-15_AIDA.root',\n",
       " '/home/ilc/bliewert/jobresults/550-llhh-ana/E550-Test.Pe1e1hh.Gwhizard-2_8_5.eL.pL.I404021.5-16_AIDA.root',\n",
       " '/home/ilc/bliewert/jobresults/550-llhh-ana/E550-Test.Pe1e1hh.Gwhizard-2_8_5.eL.pL.I404021.5-17_AIDA.root',\n",
       " '/home/ilc/bliewert/jobresults/550-llhh-ana/E550-Test.Pe1e1hh.Gwhizard-2_8_5.eL.pL.I404021.5-18_AIDA.root',\n",
       " '/home/ilc/bliewert/jobresults/550-llhh-ana/E550-Test.Pe1e1hh.Gwhizard-2_8_5.eL.pL.I404021.5-19_AIDA.root',\n",
       " '/home/ilc/bliewert/jobresults/550-llhh-ana/E550-Test.Pe1e1hh.Gwhizard-2_8_5.eL.pL.I404021.5-1_AIDA.root',\n",
       " '/home/ilc/bliewert/jobresults/550-llhh-ana/E550-Test.Pe1e1hh.Gwhizard-2_8_5.eL.pL.I404021.5-20_AIDA.root',\n",
       " '/home/ilc/bliewert/jobresults/550-llhh-ana/E550-Test.Pe1e1hh.Gwhizard-2_8_5.eL.pL.I404021.5-21_AIDA.root',\n",
       " '/home/ilc/bliewert/jobresults/550-llhh-ana/E550-Test.Pe1e1hh.Gwhizard-2_8_5.eL.pL.I404021.5-2_AIDA.root',\n",
       " '/home/ilc/bliewert/jobresults/550-llhh-ana/E550-Test.Pe1e1hh.Gwhizard-2_8_5.eL.pL.I404021.5-3_AIDA.root',\n",
       " '/home/ilc/bliewert/jobresults/550-llhh-ana/E550-Test.Pe1e1hh.Gwhizard-2_8_5.eL.pL.I404021.5-4_AIDA.root',\n",
       " '/home/ilc/bliewert/jobresults/550-llhh-ana/E550-Test.Pe1e1hh.Gwhizard-2_8_5.eL.pL.I404021.5-5_AIDA.root',\n",
       " '/home/ilc/bliewert/jobresults/550-llhh-ana/E550-Test.Pe1e1hh.Gwhizard-2_8_5.eL.pL.I404021.5-6_AIDA.root',\n",
       " '/home/ilc/bliewert/jobresults/550-llhh-ana/E550-Test.Pe1e1hh.Gwhizard-2_8_5.eL.pL.I404021.5-7_AIDA.root',\n",
       " '/home/ilc/bliewert/jobresults/550-llhh-ana/E550-Test.Pe1e1hh.Gwhizard-2_8_5.eL.pL.I404021.5-8_AIDA.root',\n",
       " '/home/ilc/bliewert/jobresults/550-llhh-ana/E550-Test.Pe1e1hh.Gwhizard-2_8_5.eL.pL.I404021.5-9_AIDA.root',\n",
       " '/home/ilc/bliewert/jobresults/550-llhh-ana/E550-Test.Pe1e1hh.Gwhizard-2_8_5.eL.pL.I404021.6-0_AIDA.root',\n",
       " '/home/ilc/bliewert/jobresults/550-llhh-ana/E550-Test.Pe1e1hh.Gwhizard-2_8_5.eL.pL.I404021.6-10_AIDA.root',\n",
       " '/home/ilc/bliewert/jobresults/550-llhh-ana/E550-Test.Pe1e1hh.Gwhizard-2_8_5.eL.pL.I404021.6-11_AIDA.root',\n",
       " '/home/ilc/bliewert/jobresults/550-llhh-ana/E550-Test.Pe1e1hh.Gwhizard-2_8_5.eL.pL.I404021.6-12_AIDA.root',\n",
       " '/home/ilc/bliewert/jobresults/550-llhh-ana/E550-Test.Pe1e1hh.Gwhizard-2_8_5.eL.pL.I404021.6-13_AIDA.root',\n",
       " '/home/ilc/bliewert/jobresults/550-llhh-ana/E550-Test.Pe1e1hh.Gwhizard-2_8_5.eL.pL.I404021.6-14_AIDA.root',\n",
       " '/home/ilc/bliewert/jobresults/550-llhh-ana/E550-Test.Pe1e1hh.Gwhizard-2_8_5.eL.pL.I404021.6-15_AIDA.root',\n",
       " '/home/ilc/bliewert/jobresults/550-llhh-ana/E550-Test.Pe1e1hh.Gwhizard-2_8_5.eL.pL.I404021.6-16_AIDA.root',\n",
       " '/home/ilc/bliewert/jobresults/550-llhh-ana/E550-Test.Pe1e1hh.Gwhizard-2_8_5.eL.pL.I404021.6-17_AIDA.root',\n",
       " '/home/ilc/bliewert/jobresults/550-llhh-ana/E550-Test.Pe1e1hh.Gwhizard-2_8_5.eL.pL.I404021.6-18_AIDA.root',\n",
       " '/home/ilc/bliewert/jobresults/550-llhh-ana/E550-Test.Pe1e1hh.Gwhizard-2_8_5.eL.pL.I404021.6-19_AIDA.root',\n",
       " '/home/ilc/bliewert/jobresults/550-llhh-ana/E550-Test.Pe1e1hh.Gwhizard-2_8_5.eL.pL.I404021.6-1_AIDA.root',\n",
       " '/home/ilc/bliewert/jobresults/550-llhh-ana/E550-Test.Pe1e1hh.Gwhizard-2_8_5.eL.pL.I404021.6-20_AIDA.root',\n",
       " '/home/ilc/bliewert/jobresults/550-llhh-ana/E550-Test.Pe1e1hh.Gwhizard-2_8_5.eL.pL.I404021.6-21_AIDA.root',\n",
       " '/home/ilc/bliewert/jobresults/550-llhh-ana/E550-Test.Pe1e1hh.Gwhizard-2_8_5.eL.pL.I404021.6-2_AIDA.root',\n",
       " '/home/ilc/bliewert/jobresults/550-llhh-ana/E550-Test.Pe1e1hh.Gwhizard-2_8_5.eL.pL.I404021.6-3_AIDA.root',\n",
       " '/home/ilc/bliewert/jobresults/550-llhh-ana/E550-Test.Pe1e1hh.Gwhizard-2_8_5.eL.pL.I404021.6-4_AIDA.root',\n",
       " '/home/ilc/bliewert/jobresults/550-llhh-ana/E550-Test.Pe1e1hh.Gwhizard-2_8_5.eL.pL.I404021.6-5_AIDA.root',\n",
       " '/home/ilc/bliewert/jobresults/550-llhh-ana/E550-Test.Pe1e1hh.Gwhizard-2_8_5.eL.pL.I404021.6-6_AIDA.root',\n",
       " '/home/ilc/bliewert/jobresults/550-llhh-ana/E550-Test.Pe1e1hh.Gwhizard-2_8_5.eL.pL.I404021.6-7_AIDA.root',\n",
       " '/home/ilc/bliewert/jobresults/550-llhh-ana/E550-Test.Pe1e1hh.Gwhizard-2_8_5.eL.pL.I404021.6-8_AIDA.root',\n",
       " '/home/ilc/bliewert/jobresults/550-llhh-ana/E550-Test.Pe1e1hh.Gwhizard-2_8_5.eL.pL.I404021.6-9_AIDA.root',\n",
       " '/home/ilc/bliewert/jobresults/550-llhh-ana/E550-Test.Pe1e1hh.Gwhizard-2_8_5.eL.pL.I404021.7-0_AIDA.root',\n",
       " '/home/ilc/bliewert/jobresults/550-llhh-ana/E550-Test.Pe1e1hh.Gwhizard-2_8_5.eL.pL.I404021.7-1_AIDA.root',\n",
       " '/home/ilc/bliewert/jobresults/550-llhh-ana/E550-Test.Pe1e1hh.Gwhizard-2_8_5.eL.pL.I404021.7-2_AIDA.root',\n",
       " '/home/ilc/bliewert/jobresults/550-llhh-ana/E550-Test.Pe1e1hh.Gwhizard-2_8_5.eL.pL.I404021.7-3_AIDA.root',\n",
       " '/home/ilc/bliewert/jobresults/550-llhh-ana/E550-Test.Pe1e1hh.Gwhizard-2_8_5.eL.pL.I404021.8-0_AIDA.root',\n",
       " '/home/ilc/bliewert/jobresults/550-llhh-ana/E550-Test.Pe1e1hh.Gwhizard-2_8_5.eL.pL.I404021.8-10_AIDA.root',\n",
       " '/home/ilc/bliewert/jobresults/550-llhh-ana/E550-Test.Pe1e1hh.Gwhizard-2_8_5.eL.pL.I404021.8-11_AIDA.root',\n",
       " '/home/ilc/bliewert/jobresults/550-llhh-ana/E550-Test.Pe1e1hh.Gwhizard-2_8_5.eL.pL.I404021.8-12_AIDA.root',\n",
       " '/home/ilc/bliewert/jobresults/550-llhh-ana/E550-Test.Pe1e1hh.Gwhizard-2_8_5.eL.pL.I404021.8-13_AIDA.root',\n",
       " '/home/ilc/bliewert/jobresults/550-llhh-ana/E550-Test.Pe1e1hh.Gwhizard-2_8_5.eL.pL.I404021.8-14_AIDA.root',\n",
       " '/home/ilc/bliewert/jobresults/550-llhh-ana/E550-Test.Pe1e1hh.Gwhizard-2_8_5.eL.pL.I404021.8-15_AIDA.root',\n",
       " '/home/ilc/bliewert/jobresults/550-llhh-ana/E550-Test.Pe1e1hh.Gwhizard-2_8_5.eL.pL.I404021.8-16_AIDA.root',\n",
       " '/home/ilc/bliewert/jobresults/550-llhh-ana/E550-Test.Pe1e1hh.Gwhizard-2_8_5.eL.pL.I404021.8-17_AIDA.root',\n",
       " '/home/ilc/bliewert/jobresults/550-llhh-ana/E550-Test.Pe1e1hh.Gwhizard-2_8_5.eL.pL.I404021.8-18_AIDA.root',\n",
       " '/home/ilc/bliewert/jobresults/550-llhh-ana/E550-Test.Pe1e1hh.Gwhizard-2_8_5.eL.pL.I404021.8-19_AIDA.root',\n",
       " '/home/ilc/bliewert/jobresults/550-llhh-ana/E550-Test.Pe1e1hh.Gwhizard-2_8_5.eL.pL.I404021.8-1_AIDA.root',\n",
       " '/home/ilc/bliewert/jobresults/550-llhh-ana/E550-Test.Pe1e1hh.Gwhizard-2_8_5.eL.pL.I404021.8-20_AIDA.root',\n",
       " '/home/ilc/bliewert/jobresults/550-llhh-ana/E550-Test.Pe1e1hh.Gwhizard-2_8_5.eL.pL.I404021.8-21_AIDA.root',\n",
       " '/home/ilc/bliewert/jobresults/550-llhh-ana/E550-Test.Pe1e1hh.Gwhizard-2_8_5.eL.pL.I404021.8-2_AIDA.root',\n",
       " '/home/ilc/bliewert/jobresults/550-llhh-ana/E550-Test.Pe1e1hh.Gwhizard-2_8_5.eL.pL.I404021.8-3_AIDA.root',\n",
       " '/home/ilc/bliewert/jobresults/550-llhh-ana/E550-Test.Pe1e1hh.Gwhizard-2_8_5.eL.pL.I404021.8-4_AIDA.root',\n",
       " '/home/ilc/bliewert/jobresults/550-llhh-ana/E550-Test.Pe1e1hh.Gwhizard-2_8_5.eL.pL.I404021.8-5_AIDA.root',\n",
       " '/home/ilc/bliewert/jobresults/550-llhh-ana/E550-Test.Pe1e1hh.Gwhizard-2_8_5.eL.pL.I404021.8-6_AIDA.root',\n",
       " '/home/ilc/bliewert/jobresults/550-llhh-ana/E550-Test.Pe1e1hh.Gwhizard-2_8_5.eL.pL.I404021.8-7_AIDA.root',\n",
       " '/home/ilc/bliewert/jobresults/550-llhh-ana/E550-Test.Pe1e1hh.Gwhizard-2_8_5.eL.pL.I404021.8-8_AIDA.root',\n",
       " '/home/ilc/bliewert/jobresults/550-llhh-ana/E550-Test.Pe1e1hh.Gwhizard-2_8_5.eL.pL.I404021.8-9_AIDA.root',\n",
       " '/home/ilc/bliewert/jobresults/550-llhh-ana/E550-Test.Pe1e1hh.Gwhizard-2_8_5.eL.pL.I404021.9-0_AIDA.root',\n",
       " '/home/ilc/bliewert/jobresults/550-llhh-ana/E550-Test.Pe1e1hh.Gwhizard-2_8_5.eL.pL.I404021.9-10_AIDA.root',\n",
       " '/home/ilc/bliewert/jobresults/550-llhh-ana/E550-Test.Pe1e1hh.Gwhizard-2_8_5.eL.pL.I404021.9-11_AIDA.root',\n",
       " '/home/ilc/bliewert/jobresults/550-llhh-ana/E550-Test.Pe1e1hh.Gwhizard-2_8_5.eL.pL.I404021.9-12_AIDA.root',\n",
       " '/home/ilc/bliewert/jobresults/550-llhh-ana/E550-Test.Pe1e1hh.Gwhizard-2_8_5.eL.pL.I404021.9-13_AIDA.root',\n",
       " '/home/ilc/bliewert/jobresults/550-llhh-ana/E550-Test.Pe1e1hh.Gwhizard-2_8_5.eL.pL.I404021.9-14_AIDA.root',\n",
       " '/home/ilc/bliewert/jobresults/550-llhh-ana/E550-Test.Pe1e1hh.Gwhizard-2_8_5.eL.pL.I404021.9-15_AIDA.root',\n",
       " '/home/ilc/bliewert/jobresults/550-llhh-ana/E550-Test.Pe1e1hh.Gwhizard-2_8_5.eL.pL.I404021.9-16_AIDA.root',\n",
       " '/home/ilc/bliewert/jobresults/550-llhh-ana/E550-Test.Pe1e1hh.Gwhizard-2_8_5.eL.pL.I404021.9-17_AIDA.root',\n",
       " '/home/ilc/bliewert/jobresults/550-llhh-ana/E550-Test.Pe1e1hh.Gwhizard-2_8_5.eL.pL.I404021.9-18_AIDA.root',\n",
       " '/home/ilc/bliewert/jobresults/550-llhh-ana/E550-Test.Pe1e1hh.Gwhizard-2_8_5.eL.pL.I404021.9-19_AIDA.root',\n",
       " '/home/ilc/bliewert/jobresults/550-llhh-ana/E550-Test.Pe1e1hh.Gwhizard-2_8_5.eL.pL.I404021.9-1_AIDA.root',\n",
       " '/home/ilc/bliewert/jobresults/550-llhh-ana/E550-Test.Pe1e1hh.Gwhizard-2_8_5.eL.pL.I404021.9-20_AIDA.root',\n",
       " '/home/ilc/bliewert/jobresults/550-llhh-ana/E550-Test.Pe1e1hh.Gwhizard-2_8_5.eL.pL.I404021.9-21_AIDA.root',\n",
       " '/home/ilc/bliewert/jobresults/550-llhh-ana/E550-Test.Pe1e1hh.Gwhizard-2_8_5.eL.pL.I404021.9-2_AIDA.root',\n",
       " '/home/ilc/bliewert/jobresults/550-llhh-ana/E550-Test.Pe1e1hh.Gwhizard-2_8_5.eL.pL.I404021.9-3_AIDA.root',\n",
       " '/home/ilc/bliewert/jobresults/550-llhh-ana/E550-Test.Pe1e1hh.Gwhizard-2_8_5.eL.pL.I404021.9-4_AIDA.root',\n",
       " '/home/ilc/bliewert/jobresults/550-llhh-ana/E550-Test.Pe1e1hh.Gwhizard-2_8_5.eL.pL.I404021.9-5_AIDA.root',\n",
       " '/home/ilc/bliewert/jobresults/550-llhh-ana/E550-Test.Pe1e1hh.Gwhizard-2_8_5.eL.pL.I404021.9-6_AIDA.root',\n",
       " '/home/ilc/bliewert/jobresults/550-llhh-ana/E550-Test.Pe1e1hh.Gwhizard-2_8_5.eL.pL.I404021.9-7_AIDA.root',\n",
       " '/home/ilc/bliewert/jobresults/550-llhh-ana/E550-Test.Pe1e1hh.Gwhizard-2_8_5.eL.pL.I404021.9-8_AIDA.root',\n",
       " '/home/ilc/bliewert/jobresults/550-llhh-ana/E550-Test.Pe1e1hh.Gwhizard-2_8_5.eL.pL.I404021.9-9_AIDA.root',\n",
       " '/home/ilc/bliewert/jobresults/550-llhh-ana/E550-Test.Pe1e1hh.Gwhizard-2_8_5.eL.pR.I404022.0-0_AIDA.root',\n",
       " '/home/ilc/bliewert/jobresults/550-llhh-ana/E550-Test.Pe1e1hh.Gwhizard-2_8_5.eL.pR.I404022.0-10_AIDA.root',\n",
       " '/home/ilc/bliewert/jobresults/550-llhh-ana/E550-Test.Pe1e1hh.Gwhizard-2_8_5.eL.pR.I404022.0-11_AIDA.root',\n",
       " '/home/ilc/bliewert/jobresults/550-llhh-ana/E550-Test.Pe1e1hh.Gwhizard-2_8_5.eL.pR.I404022.0-12_AIDA.root',\n",
       " '/home/ilc/bliewert/jobresults/550-llhh-ana/E550-Test.Pe1e1hh.Gwhizard-2_8_5.eL.pR.I404022.0-13_AIDA.root',\n",
       " '/home/ilc/bliewert/jobresults/550-llhh-ana/E550-Test.Pe1e1hh.Gwhizard-2_8_5.eL.pR.I404022.0-14_AIDA.root',\n",
       " '/home/ilc/bliewert/jobresults/550-llhh-ana/E550-Test.Pe1e1hh.Gwhizard-2_8_5.eL.pR.I404022.0-15_AIDA.root',\n",
       " '/home/ilc/bliewert/jobresults/550-llhh-ana/E550-Test.Pe1e1hh.Gwhizard-2_8_5.eL.pR.I404022.0-16_AIDA.root',\n",
       " '/home/ilc/bliewert/jobresults/550-llhh-ana/E550-Test.Pe1e1hh.Gwhizard-2_8_5.eL.pR.I404022.0-17_AIDA.root',\n",
       " '/home/ilc/bliewert/jobresults/550-llhh-ana/E550-Test.Pe1e1hh.Gwhizard-2_8_5.eL.pR.I404022.0-18_AIDA.root',\n",
       " '/home/ilc/bliewert/jobresults/550-llhh-ana/E550-Test.Pe1e1hh.Gwhizard-2_8_5.eL.pR.I404022.0-19_AIDA.root',\n",
       " '/home/ilc/bliewert/jobresults/550-llhh-ana/E550-Test.Pe1e1hh.Gwhizard-2_8_5.eL.pR.I404022.0-1_AIDA.root',\n",
       " '/home/ilc/bliewert/jobresults/550-llhh-ana/E550-Test.Pe1e1hh.Gwhizard-2_8_5.eL.pR.I404022.0-20_AIDA.root',\n",
       " '/home/ilc/bliewert/jobresults/550-llhh-ana/E550-Test.Pe1e1hh.Gwhizard-2_8_5.eL.pR.I404022.0-21_AIDA.root',\n",
       " '/home/ilc/bliewert/jobresults/550-llhh-ana/E550-Test.Pe1e1hh.Gwhizard-2_8_5.eL.pR.I404022.0-2_AIDA.root',\n",
       " '/home/ilc/bliewert/jobresults/550-llhh-ana/E550-Test.Pe1e1hh.Gwhizard-2_8_5.eL.pR.I404022.0-3_AIDA.root',\n",
       " '/home/ilc/bliewert/jobresults/550-llhh-ana/E550-Test.Pe1e1hh.Gwhizard-2_8_5.eL.pR.I404022.0-4_AIDA.root',\n",
       " '/home/ilc/bliewert/jobresults/550-llhh-ana/E550-Test.Pe1e1hh.Gwhizard-2_8_5.eL.pR.I404022.0-5_AIDA.root',\n",
       " '/home/ilc/bliewert/jobresults/550-llhh-ana/E550-Test.Pe1e1hh.Gwhizard-2_8_5.eL.pR.I404022.0-6_AIDA.root',\n",
       " '/home/ilc/bliewert/jobresults/550-llhh-ana/E550-Test.Pe1e1hh.Gwhizard-2_8_5.eL.pR.I404022.0-7_AIDA.root',\n",
       " '/home/ilc/bliewert/jobresults/550-llhh-ana/E550-Test.Pe1e1hh.Gwhizard-2_8_5.eL.pR.I404022.0-8_AIDA.root',\n",
       " '/home/ilc/bliewert/jobresults/550-llhh-ana/E550-Test.Pe1e1hh.Gwhizard-2_8_5.eL.pR.I404022.0-9_AIDA.root',\n",
       " '/home/ilc/bliewert/jobresults/550-llhh-ana/E550-Test.Pe1e1hh.Gwhizard-2_8_5.eL.pR.I404022.1-0_AIDA.root',\n",
       " '/home/ilc/bliewert/jobresults/550-llhh-ana/E550-Test.Pe1e1hh.Gwhizard-2_8_5.eL.pR.I404022.1-10_AIDA.root',\n",
       " '/home/ilc/bliewert/jobresults/550-llhh-ana/E550-Test.Pe1e1hh.Gwhizard-2_8_5.eL.pR.I404022.1-11_AIDA.root',\n",
       " '/home/ilc/bliewert/jobresults/550-llhh-ana/E550-Test.Pe1e1hh.Gwhizard-2_8_5.eL.pR.I404022.1-12_AIDA.root',\n",
       " '/home/ilc/bliewert/jobresults/550-llhh-ana/E550-Test.Pe1e1hh.Gwhizard-2_8_5.eL.pR.I404022.1-13_AIDA.root',\n",
       " '/home/ilc/bliewert/jobresults/550-llhh-ana/E550-Test.Pe1e1hh.Gwhizard-2_8_5.eL.pR.I404022.1-14_AIDA.root',\n",
       " '/home/ilc/bliewert/jobresults/550-llhh-ana/E550-Test.Pe1e1hh.Gwhizard-2_8_5.eL.pR.I404022.1-15_AIDA.root',\n",
       " '/home/ilc/bliewert/jobresults/550-llhh-ana/E550-Test.Pe1e1hh.Gwhizard-2_8_5.eL.pR.I404022.1-16_AIDA.root',\n",
       " '/home/ilc/bliewert/jobresults/550-llhh-ana/E550-Test.Pe1e1hh.Gwhizard-2_8_5.eL.pR.I404022.1-17_AIDA.root',\n",
       " '/home/ilc/bliewert/jobresults/550-llhh-ana/E550-Test.Pe1e1hh.Gwhizard-2_8_5.eL.pR.I404022.1-18_AIDA.root',\n",
       " '/home/ilc/bliewert/jobresults/550-llhh-ana/E550-Test.Pe1e1hh.Gwhizard-2_8_5.eL.pR.I404022.1-19_AIDA.root',\n",
       " '/home/ilc/bliewert/jobresults/550-llhh-ana/E550-Test.Pe1e1hh.Gwhizard-2_8_5.eL.pR.I404022.1-1_AIDA.root',\n",
       " '/home/ilc/bliewert/jobresults/550-llhh-ana/E550-Test.Pe1e1hh.Gwhizard-2_8_5.eL.pR.I404022.1-20_AIDA.root',\n",
       " '/home/ilc/bliewert/jobresults/550-llhh-ana/E550-Test.Pe1e1hh.Gwhizard-2_8_5.eL.pR.I404022.1-21_AIDA.root',\n",
       " '/home/ilc/bliewert/jobresults/550-llhh-ana/E550-Test.Pe1e1hh.Gwhizard-2_8_5.eL.pR.I404022.1-2_AIDA.root',\n",
       " '/home/ilc/bliewert/jobresults/550-llhh-ana/E550-Test.Pe1e1hh.Gwhizard-2_8_5.eL.pR.I404022.1-3_AIDA.root',\n",
       " '/home/ilc/bliewert/jobresults/550-llhh-ana/E550-Test.Pe1e1hh.Gwhizard-2_8_5.eL.pR.I404022.1-4_AIDA.root',\n",
       " '/home/ilc/bliewert/jobresults/550-llhh-ana/E550-Test.Pe1e1hh.Gwhizard-2_8_5.eL.pR.I404022.1-5_AIDA.root',\n",
       " '/home/ilc/bliewert/jobresults/550-llhh-ana/E550-Test.Pe1e1hh.Gwhizard-2_8_5.eL.pR.I404022.1-6_AIDA.root',\n",
       " '/home/ilc/bliewert/jobresults/550-llhh-ana/E550-Test.Pe1e1hh.Gwhizard-2_8_5.eL.pR.I404022.1-7_AIDA.root',\n",
       " '/home/ilc/bliewert/jobresults/550-llhh-ana/E550-Test.Pe1e1hh.Gwhizard-2_8_5.eL.pR.I404022.1-8_AIDA.root',\n",
       " '/home/ilc/bliewert/jobresults/550-llhh-ana/E550-Test.Pe1e1hh.Gwhizard-2_8_5.eL.pR.I404022.1-9_AIDA.root',\n",
       " '/home/ilc/bliewert/jobresults/550-llhh-ana/E550-Test.Pe1e1hh.Gwhizard-2_8_5.eL.pR.I404022.10-0_AIDA.root',\n",
       " '/home/ilc/bliewert/jobresults/550-llhh-ana/E550-Test.Pe1e1hh.Gwhizard-2_8_5.eL.pR.I404022.10-10_AIDA.root',\n",
       " '/home/ilc/bliewert/jobresults/550-llhh-ana/E550-Test.Pe1e1hh.Gwhizard-2_8_5.eL.pR.I404022.10-11_AIDA.root',\n",
       " '/home/ilc/bliewert/jobresults/550-llhh-ana/E550-Test.Pe1e1hh.Gwhizard-2_8_5.eL.pR.I404022.10-12_AIDA.root',\n",
       " '/home/ilc/bliewert/jobresults/550-llhh-ana/E550-Test.Pe1e1hh.Gwhizard-2_8_5.eL.pR.I404022.10-13_AIDA.root',\n",
       " '/home/ilc/bliewert/jobresults/550-llhh-ana/E550-Test.Pe1e1hh.Gwhizard-2_8_5.eL.pR.I404022.10-14_AIDA.root',\n",
       " '/home/ilc/bliewert/jobresults/550-llhh-ana/E550-Test.Pe1e1hh.Gwhizard-2_8_5.eL.pR.I404022.10-15_AIDA.root',\n",
       " '/home/ilc/bliewert/jobresults/550-llhh-ana/E550-Test.Pe1e1hh.Gwhizard-2_8_5.eL.pR.I404022.10-16_AIDA.root',\n",
       " '/home/ilc/bliewert/jobresults/550-llhh-ana/E550-Test.Pe1e1hh.Gwhizard-2_8_5.eL.pR.I404022.10-17_AIDA.root',\n",
       " '/home/ilc/bliewert/jobresults/550-llhh-ana/E550-Test.Pe1e1hh.Gwhizard-2_8_5.eL.pR.I404022.10-18_AIDA.root',\n",
       " '/home/ilc/bliewert/jobresults/550-llhh-ana/E550-Test.Pe1e1hh.Gwhizard-2_8_5.eL.pR.I404022.10-19_AIDA.root',\n",
       " '/home/ilc/bliewert/jobresults/550-llhh-ana/E550-Test.Pe1e1hh.Gwhizard-2_8_5.eL.pR.I404022.10-1_AIDA.root',\n",
       " '/home/ilc/bliewert/jobresults/550-llhh-ana/E550-Test.Pe1e1hh.Gwhizard-2_8_5.eL.pR.I404022.10-20_AIDA.root',\n",
       " '/home/ilc/bliewert/jobresults/550-llhh-ana/E550-Test.Pe1e1hh.Gwhizard-2_8_5.eL.pR.I404022.10-21_AIDA.root',\n",
       " '/home/ilc/bliewert/jobresults/550-llhh-ana/E550-Test.Pe1e1hh.Gwhizard-2_8_5.eL.pR.I404022.10-2_AIDA.root',\n",
       " '/home/ilc/bliewert/jobresults/550-llhh-ana/E550-Test.Pe1e1hh.Gwhizard-2_8_5.eL.pR.I404022.10-3_AIDA.root',\n",
       " '/home/ilc/bliewert/jobresults/550-llhh-ana/E550-Test.Pe1e1hh.Gwhizard-2_8_5.eL.pR.I404022.10-4_AIDA.root',\n",
       " '/home/ilc/bliewert/jobresults/550-llhh-ana/E550-Test.Pe1e1hh.Gwhizard-2_8_5.eL.pR.I404022.10-5_AIDA.root',\n",
       " '/home/ilc/bliewert/jobresults/550-llhh-ana/E550-Test.Pe1e1hh.Gwhizard-2_8_5.eL.pR.I404022.10-6_AIDA.root',\n",
       " '/home/ilc/bliewert/jobresults/550-llhh-ana/E550-Test.Pe1e1hh.Gwhizard-2_8_5.eL.pR.I404022.10-7_AIDA.root',\n",
       " '/home/ilc/bliewert/jobresults/550-llhh-ana/E550-Test.Pe1e1hh.Gwhizard-2_8_5.eL.pR.I404022.10-8_AIDA.root',\n",
       " '/home/ilc/bliewert/jobresults/550-llhh-ana/E550-Test.Pe1e1hh.Gwhizard-2_8_5.eL.pR.I404022.10-9_AIDA.root',\n",
       " '/home/ilc/bliewert/jobresults/550-llhh-ana/E550-Test.Pe1e1hh.Gwhizard-2_8_5.eL.pR.I404022.11-0_AIDA.root',\n",
       " '/home/ilc/bliewert/jobresults/550-llhh-ana/E550-Test.Pe1e1hh.Gwhizard-2_8_5.eL.pR.I404022.11-1_AIDA.root',\n",
       " '/home/ilc/bliewert/jobresults/550-llhh-ana/E550-Test.Pe1e1hh.Gwhizard-2_8_5.eL.pR.I404022.11-2_AIDA.root',\n",
       " '/home/ilc/bliewert/jobresults/550-llhh-ana/E550-Test.Pe1e1hh.Gwhizard-2_8_5.eL.pR.I404022.11-3_AIDA.root',\n",
       " '/home/ilc/bliewert/jobresults/550-llhh-ana/E550-Test.Pe1e1hh.Gwhizard-2_8_5.eL.pR.I404022.12-0_AIDA.root',\n",
       " '/home/ilc/bliewert/jobresults/550-llhh-ana/E550-Test.Pe1e1hh.Gwhizard-2_8_5.eL.pR.I404022.12-10_AIDA.root',\n",
       " '/home/ilc/bliewert/jobresults/550-llhh-ana/E550-Test.Pe1e1hh.Gwhizard-2_8_5.eL.pR.I404022.12-11_AIDA.root',\n",
       " '/home/ilc/bliewert/jobresults/550-llhh-ana/E550-Test.Pe1e1hh.Gwhizard-2_8_5.eL.pR.I404022.12-12_AIDA.root',\n",
       " '/home/ilc/bliewert/jobresults/550-llhh-ana/E550-Test.Pe1e1hh.Gwhizard-2_8_5.eL.pR.I404022.12-13_AIDA.root',\n",
       " '/home/ilc/bliewert/jobresults/550-llhh-ana/E550-Test.Pe1e1hh.Gwhizard-2_8_5.eL.pR.I404022.12-14_AIDA.root',\n",
       " '/home/ilc/bliewert/jobresults/550-llhh-ana/E550-Test.Pe1e1hh.Gwhizard-2_8_5.eL.pR.I404022.12-15_AIDA.root',\n",
       " '/home/ilc/bliewert/jobresults/550-llhh-ana/E550-Test.Pe1e1hh.Gwhizard-2_8_5.eL.pR.I404022.12-16_AIDA.root',\n",
       " '/home/ilc/bliewert/jobresults/550-llhh-ana/E550-Test.Pe1e1hh.Gwhizard-2_8_5.eL.pR.I404022.12-17_AIDA.root',\n",
       " '/home/ilc/bliewert/jobresults/550-llhh-ana/E550-Test.Pe1e1hh.Gwhizard-2_8_5.eL.pR.I404022.12-18_AIDA.root',\n",
       " '/home/ilc/bliewert/jobresults/550-llhh-ana/E550-Test.Pe1e1hh.Gwhizard-2_8_5.eL.pR.I404022.12-19_AIDA.root',\n",
       " '/home/ilc/bliewert/jobresults/550-llhh-ana/E550-Test.Pe1e1hh.Gwhizard-2_8_5.eL.pR.I404022.12-1_AIDA.root',\n",
       " '/home/ilc/bliewert/jobresults/550-llhh-ana/E550-Test.Pe1e1hh.Gwhizard-2_8_5.eL.pR.I404022.12-20_AIDA.root',\n",
       " '/home/ilc/bliewert/jobresults/550-llhh-ana/E550-Test.Pe1e1hh.Gwhizard-2_8_5.eL.pR.I404022.12-21_AIDA.root',\n",
       " '/home/ilc/bliewert/jobresults/550-llhh-ana/E550-Test.Pe1e1hh.Gwhizard-2_8_5.eL.pR.I404022.12-22_AIDA.root',\n",
       " '/home/ilc/bliewert/jobresults/550-llhh-ana/E550-Test.Pe1e1hh.Gwhizard-2_8_5.eL.pR.I404022.12-2_AIDA.root',\n",
       " '/home/ilc/bliewert/jobresults/550-llhh-ana/E550-Test.Pe1e1hh.Gwhizard-2_8_5.eL.pR.I404022.12-3_AIDA.root',\n",
       " '/home/ilc/bliewert/jobresults/550-llhh-ana/E550-Test.Pe1e1hh.Gwhizard-2_8_5.eL.pR.I404022.12-4_AIDA.root',\n",
       " '/home/ilc/bliewert/jobresults/550-llhh-ana/E550-Test.Pe1e1hh.Gwhizard-2_8_5.eL.pR.I404022.12-5_AIDA.root',\n",
       " '/home/ilc/bliewert/jobresults/550-llhh-ana/E550-Test.Pe1e1hh.Gwhizard-2_8_5.eL.pR.I404022.12-6_AIDA.root',\n",
       " '/home/ilc/bliewert/jobresults/550-llhh-ana/E550-Test.Pe1e1hh.Gwhizard-2_8_5.eL.pR.I404022.12-7_AIDA.root',\n",
       " '/home/ilc/bliewert/jobresults/550-llhh-ana/E550-Test.Pe1e1hh.Gwhizard-2_8_5.eL.pR.I404022.12-8_AIDA.root',\n",
       " '/home/ilc/bliewert/jobresults/550-llhh-ana/E550-Test.Pe1e1hh.Gwhizard-2_8_5.eL.pR.I404022.12-9_AIDA.root',\n",
       " '/home/ilc/bliewert/jobresults/550-llhh-ana/E550-Test.Pe1e1hh.Gwhizard-2_8_5.eL.pR.I404022.13-0_AIDA.root',\n",
       " '/home/ilc/bliewert/jobresults/550-llhh-ana/E550-Test.Pe1e1hh.Gwhizard-2_8_5.eL.pR.I404022.13-10_AIDA.root',\n",
       " '/home/ilc/bliewert/jobresults/550-llhh-ana/E550-Test.Pe1e1hh.Gwhizard-2_8_5.eL.pR.I404022.13-11_AIDA.root',\n",
       " '/home/ilc/bliewert/jobresults/550-llhh-ana/E550-Test.Pe1e1hh.Gwhizard-2_8_5.eL.pR.I404022.13-12_AIDA.root',\n",
       " '/home/ilc/bliewert/jobresults/550-llhh-ana/E550-Test.Pe1e1hh.Gwhizard-2_8_5.eL.pR.I404022.13-13_AIDA.root',\n",
       " '/home/ilc/bliewert/jobresults/550-llhh-ana/E550-Test.Pe1e1hh.Gwhizard-2_8_5.eL.pR.I404022.13-14_AIDA.root',\n",
       " '/home/ilc/bliewert/jobresults/550-llhh-ana/E550-Test.Pe1e1hh.Gwhizard-2_8_5.eL.pR.I404022.13-15_AIDA.root',\n",
       " '/home/ilc/bliewert/jobresults/550-llhh-ana/E550-Test.Pe1e1hh.Gwhizard-2_8_5.eL.pR.I404022.13-16_AIDA.root',\n",
       " '/home/ilc/bliewert/jobresults/550-llhh-ana/E550-Test.Pe1e1hh.Gwhizard-2_8_5.eL.pR.I404022.13-17_AIDA.root',\n",
       " '/home/ilc/bliewert/jobresults/550-llhh-ana/E550-Test.Pe1e1hh.Gwhizard-2_8_5.eL.pR.I404022.13-18_AIDA.root',\n",
       " '/home/ilc/bliewert/jobresults/550-llhh-ana/E550-Test.Pe1e1hh.Gwhizard-2_8_5.eL.pR.I404022.13-19_AIDA.root',\n",
       " '/home/ilc/bliewert/jobresults/550-llhh-ana/E550-Test.Pe1e1hh.Gwhizard-2_8_5.eL.pR.I404022.13-1_AIDA.root',\n",
       " '/home/ilc/bliewert/jobresults/550-llhh-ana/E550-Test.Pe1e1hh.Gwhizard-2_8_5.eL.pR.I404022.13-20_AIDA.root',\n",
       " '/home/ilc/bliewert/jobresults/550-llhh-ana/E550-Test.Pe1e1hh.Gwhizard-2_8_5.eL.pR.I404022.13-21_AIDA.root',\n",
       " '/home/ilc/bliewert/jobresults/550-llhh-ana/E550-Test.Pe1e1hh.Gwhizard-2_8_5.eL.pR.I404022.13-22_AIDA.root',\n",
       " '/home/ilc/bliewert/jobresults/550-llhh-ana/E550-Test.Pe1e1hh.Gwhizard-2_8_5.eL.pR.I404022.13-2_AIDA.root',\n",
       " '/home/ilc/bliewert/jobresults/550-llhh-ana/E550-Test.Pe1e1hh.Gwhizard-2_8_5.eL.pR.I404022.13-3_AIDA.root',\n",
       " '/home/ilc/bliewert/jobresults/550-llhh-ana/E550-Test.Pe1e1hh.Gwhizard-2_8_5.eL.pR.I404022.13-4_AIDA.root',\n",
       " '/home/ilc/bliewert/jobresults/550-llhh-ana/E550-Test.Pe1e1hh.Gwhizard-2_8_5.eL.pR.I404022.13-5_AIDA.root',\n",
       " '/home/ilc/bliewert/jobresults/550-llhh-ana/E550-Test.Pe1e1hh.Gwhizard-2_8_5.eL.pR.I404022.13-6_AIDA.root',\n",
       " '/home/ilc/bliewert/jobresults/550-llhh-ana/E550-Test.Pe1e1hh.Gwhizard-2_8_5.eL.pR.I404022.13-7_AIDA.root',\n",
       " '/home/ilc/bliewert/jobresults/550-llhh-ana/E550-Test.Pe1e1hh.Gwhizard-2_8_5.eL.pR.I404022.13-8_AIDA.root',\n",
       " '/home/ilc/bliewert/jobresults/550-llhh-ana/E550-Test.Pe1e1hh.Gwhizard-2_8_5.eL.pR.I404022.14-0_AIDA.root',\n",
       " '/home/ilc/bliewert/jobresults/550-llhh-ana/E550-Test.Pe1e1hh.Gwhizard-2_8_5.eL.pR.I404022.14-10_AIDA.root',\n",
       " '/home/ilc/bliewert/jobresults/550-llhh-ana/E550-Test.Pe1e1hh.Gwhizard-2_8_5.eL.pR.I404022.14-11_AIDA.root',\n",
       " '/home/ilc/bliewert/jobresults/550-llhh-ana/E550-Test.Pe1e1hh.Gwhizard-2_8_5.eL.pR.I404022.14-12_AIDA.root',\n",
       " '/home/ilc/bliewert/jobresults/550-llhh-ana/E550-Test.Pe1e1hh.Gwhizard-2_8_5.eL.pR.I404022.14-13_AIDA.root',\n",
       " '/home/ilc/bliewert/jobresults/550-llhh-ana/E550-Test.Pe1e1hh.Gwhizard-2_8_5.eL.pR.I404022.14-14_AIDA.root',\n",
       " '/home/ilc/bliewert/jobresults/550-llhh-ana/E550-Test.Pe1e1hh.Gwhizard-2_8_5.eL.pR.I404022.14-15_AIDA.root',\n",
       " '/home/ilc/bliewert/jobresults/550-llhh-ana/E550-Test.Pe1e1hh.Gwhizard-2_8_5.eL.pR.I404022.14-16_AIDA.root',\n",
       " '/home/ilc/bliewert/jobresults/550-llhh-ana/E550-Test.Pe1e1hh.Gwhizard-2_8_5.eL.pR.I404022.14-17_AIDA.root',\n",
       " '/home/ilc/bliewert/jobresults/550-llhh-ana/E550-Test.Pe1e1hh.Gwhizard-2_8_5.eL.pR.I404022.14-18_AIDA.root',\n",
       " '/home/ilc/bliewert/jobresults/550-llhh-ana/E550-Test.Pe1e1hh.Gwhizard-2_8_5.eL.pR.I404022.14-19_AIDA.root',\n",
       " '/home/ilc/bliewert/jobresults/550-llhh-ana/E550-Test.Pe1e1hh.Gwhizard-2_8_5.eL.pR.I404022.14-1_AIDA.root',\n",
       " '/home/ilc/bliewert/jobresults/550-llhh-ana/E550-Test.Pe1e1hh.Gwhizard-2_8_5.eL.pR.I404022.14-20_AIDA.root',\n",
       " '/home/ilc/bliewert/jobresults/550-llhh-ana/E550-Test.Pe1e1hh.Gwhizard-2_8_5.eL.pR.I404022.14-21_AIDA.root',\n",
       " '/home/ilc/bliewert/jobresults/550-llhh-ana/E550-Test.Pe1e1hh.Gwhizard-2_8_5.eL.pR.I404022.14-22_AIDA.root',\n",
       " '/home/ilc/bliewert/jobresults/550-llhh-ana/E550-Test.Pe1e1hh.Gwhizard-2_8_5.eL.pR.I404022.14-2_AIDA.root',\n",
       " '/home/ilc/bliewert/jobresults/550-llhh-ana/E550-Test.Pe1e1hh.Gwhizard-2_8_5.eL.pR.I404022.14-3_AIDA.root',\n",
       " '/home/ilc/bliewert/jobresults/550-llhh-ana/E550-Test.Pe1e1hh.Gwhizard-2_8_5.eL.pR.I404022.14-4_AIDA.root',\n",
       " '/home/ilc/bliewert/jobresults/550-llhh-ana/E550-Test.Pe1e1hh.Gwhizard-2_8_5.eL.pR.I404022.14-5_AIDA.root',\n",
       " '/home/ilc/bliewert/jobresults/550-llhh-ana/E550-Test.Pe1e1hh.Gwhizard-2_8_5.eL.pR.I404022.14-6_AIDA.root',\n",
       " '/home/ilc/bliewert/jobresults/550-llhh-ana/E550-Test.Pe1e1hh.Gwhizard-2_8_5.eL.pR.I404022.14-7_AIDA.root',\n",
       " '/home/ilc/bliewert/jobresults/550-llhh-ana/E550-Test.Pe1e1hh.Gwhizard-2_8_5.eL.pR.I404022.14-8_AIDA.root',\n",
       " '/home/ilc/bliewert/jobresults/550-llhh-ana/E550-Test.Pe1e1hh.Gwhizard-2_8_5.eL.pR.I404022.14-9_AIDA.root',\n",
       " '/home/ilc/bliewert/jobresults/550-llhh-ana/E550-Test.Pe1e1hh.Gwhizard-2_8_5.eL.pR.I404022.15-0_AIDA.root',\n",
       " '/home/ilc/bliewert/jobresults/550-llhh-ana/E550-Test.Pe1e1hh.Gwhizard-2_8_5.eL.pR.I404022.15-1_AIDA.root',\n",
       " '/home/ilc/bliewert/jobresults/550-llhh-ana/E550-Test.Pe1e1hh.Gwhizard-2_8_5.eL.pR.I404022.2-0_AIDA.root',\n",
       " '/home/ilc/bliewert/jobresults/550-llhh-ana/E550-Test.Pe1e1hh.Gwhizard-2_8_5.eL.pR.I404022.2-10_AIDA.root',\n",
       " '/home/ilc/bliewert/jobresults/550-llhh-ana/E550-Test.Pe1e1hh.Gwhizard-2_8_5.eL.pR.I404022.2-11_AIDA.root',\n",
       " '/home/ilc/bliewert/jobresults/550-llhh-ana/E550-Test.Pe1e1hh.Gwhizard-2_8_5.eL.pR.I404022.2-12_AIDA.root',\n",
       " '/home/ilc/bliewert/jobresults/550-llhh-ana/E550-Test.Pe1e1hh.Gwhizard-2_8_5.eL.pR.I404022.2-13_AIDA.root',\n",
       " '/home/ilc/bliewert/jobresults/550-llhh-ana/E550-Test.Pe1e1hh.Gwhizard-2_8_5.eL.pR.I404022.2-14_AIDA.root',\n",
       " '/home/ilc/bliewert/jobresults/550-llhh-ana/E550-Test.Pe1e1hh.Gwhizard-2_8_5.eL.pR.I404022.2-15_AIDA.root',\n",
       " '/home/ilc/bliewert/jobresults/550-llhh-ana/E550-Test.Pe1e1hh.Gwhizard-2_8_5.eL.pR.I404022.2-16_AIDA.root',\n",
       " '/home/ilc/bliewert/jobresults/550-llhh-ana/E550-Test.Pe1e1hh.Gwhizard-2_8_5.eL.pR.I404022.2-17_AIDA.root',\n",
       " '/home/ilc/bliewert/jobresults/550-llhh-ana/E550-Test.Pe1e1hh.Gwhizard-2_8_5.eL.pR.I404022.2-18_AIDA.root',\n",
       " '/home/ilc/bliewert/jobresults/550-llhh-ana/E550-Test.Pe1e1hh.Gwhizard-2_8_5.eL.pR.I404022.2-19_AIDA.root',\n",
       " '/home/ilc/bliewert/jobresults/550-llhh-ana/E550-Test.Pe1e1hh.Gwhizard-2_8_5.eL.pR.I404022.2-1_AIDA.root',\n",
       " '/home/ilc/bliewert/jobresults/550-llhh-ana/E550-Test.Pe1e1hh.Gwhizard-2_8_5.eL.pR.I404022.2-20_AIDA.root',\n",
       " '/home/ilc/bliewert/jobresults/550-llhh-ana/E550-Test.Pe1e1hh.Gwhizard-2_8_5.eL.pR.I404022.2-21_AIDA.root',\n",
       " '/home/ilc/bliewert/jobresults/550-llhh-ana/E550-Test.Pe1e1hh.Gwhizard-2_8_5.eL.pR.I404022.2-2_AIDA.root',\n",
       " '/home/ilc/bliewert/jobresults/550-llhh-ana/E550-Test.Pe1e1hh.Gwhizard-2_8_5.eL.pR.I404022.2-3_AIDA.root',\n",
       " '/home/ilc/bliewert/jobresults/550-llhh-ana/E550-Test.Pe1e1hh.Gwhizard-2_8_5.eL.pR.I404022.2-4_AIDA.root',\n",
       " '/home/ilc/bliewert/jobresults/550-llhh-ana/E550-Test.Pe1e1hh.Gwhizard-2_8_5.eL.pR.I404022.2-5_AIDA.root',\n",
       " '/home/ilc/bliewert/jobresults/550-llhh-ana/E550-Test.Pe1e1hh.Gwhizard-2_8_5.eL.pR.I404022.2-6_AIDA.root',\n",
       " '/home/ilc/bliewert/jobresults/550-llhh-ana/E550-Test.Pe1e1hh.Gwhizard-2_8_5.eL.pR.I404022.2-7_AIDA.root',\n",
       " '/home/ilc/bliewert/jobresults/550-llhh-ana/E550-Test.Pe1e1hh.Gwhizard-2_8_5.eL.pR.I404022.2-8_AIDA.root',\n",
       " '/home/ilc/bliewert/jobresults/550-llhh-ana/E550-Test.Pe1e1hh.Gwhizard-2_8_5.eL.pR.I404022.2-9_AIDA.root',\n",
       " '/home/ilc/bliewert/jobresults/550-llhh-ana/E550-Test.Pe1e1hh.Gwhizard-2_8_5.eL.pR.I404022.3-0_AIDA.root',\n",
       " '/home/ilc/bliewert/jobresults/550-llhh-ana/E550-Test.Pe1e1hh.Gwhizard-2_8_5.eL.pR.I404022.3-1_AIDA.root',\n",
       " '/home/ilc/bliewert/jobresults/550-llhh-ana/E550-Test.Pe1e1hh.Gwhizard-2_8_5.eL.pR.I404022.3-2_AIDA.root',\n",
       " '/home/ilc/bliewert/jobresults/550-llhh-ana/E550-Test.Pe1e1hh.Gwhizard-2_8_5.eL.pR.I404022.3-3_AIDA.root',\n",
       " '/home/ilc/bliewert/jobresults/550-llhh-ana/E550-Test.Pe1e1hh.Gwhizard-2_8_5.eL.pR.I404022.4-0_AIDA.root',\n",
       " '/home/ilc/bliewert/jobresults/550-llhh-ana/E550-Test.Pe1e1hh.Gwhizard-2_8_5.eL.pR.I404022.4-10_AIDA.root',\n",
       " '/home/ilc/bliewert/jobresults/550-llhh-ana/E550-Test.Pe1e1hh.Gwhizard-2_8_5.eL.pR.I404022.4-11_AIDA.root',\n",
       " '/home/ilc/bliewert/jobresults/550-llhh-ana/E550-Test.Pe1e1hh.Gwhizard-2_8_5.eL.pR.I404022.4-12_AIDA.root',\n",
       " '/home/ilc/bliewert/jobresults/550-llhh-ana/E550-Test.Pe1e1hh.Gwhizard-2_8_5.eL.pR.I404022.4-13_AIDA.root',\n",
       " '/home/ilc/bliewert/jobresults/550-llhh-ana/E550-Test.Pe1e1hh.Gwhizard-2_8_5.eL.pR.I404022.4-14_AIDA.root',\n",
       " '/home/ilc/bliewert/jobresults/550-llhh-ana/E550-Test.Pe1e1hh.Gwhizard-2_8_5.eL.pR.I404022.4-15_AIDA.root',\n",
       " '/home/ilc/bliewert/jobresults/550-llhh-ana/E550-Test.Pe1e1hh.Gwhizard-2_8_5.eL.pR.I404022.4-16_AIDA.root',\n",
       " '/home/ilc/bliewert/jobresults/550-llhh-ana/E550-Test.Pe1e1hh.Gwhizard-2_8_5.eL.pR.I404022.4-17_AIDA.root',\n",
       " '/home/ilc/bliewert/jobresults/550-llhh-ana/E550-Test.Pe1e1hh.Gwhizard-2_8_5.eL.pR.I404022.4-18_AIDA.root',\n",
       " '/home/ilc/bliewert/jobresults/550-llhh-ana/E550-Test.Pe1e1hh.Gwhizard-2_8_5.eL.pR.I404022.4-19_AIDA.root',\n",
       " '/home/ilc/bliewert/jobresults/550-llhh-ana/E550-Test.Pe1e1hh.Gwhizard-2_8_5.eL.pR.I404022.4-1_AIDA.root',\n",
       " '/home/ilc/bliewert/jobresults/550-llhh-ana/E550-Test.Pe1e1hh.Gwhizard-2_8_5.eL.pR.I404022.4-20_AIDA.root',\n",
       " '/home/ilc/bliewert/jobresults/550-llhh-ana/E550-Test.Pe1e1hh.Gwhizard-2_8_5.eL.pR.I404022.4-21_AIDA.root',\n",
       " '/home/ilc/bliewert/jobresults/550-llhh-ana/E550-Test.Pe1e1hh.Gwhizard-2_8_5.eL.pR.I404022.4-22_AIDA.root',\n",
       " '/home/ilc/bliewert/jobresults/550-llhh-ana/E550-Test.Pe1e1hh.Gwhizard-2_8_5.eL.pR.I404022.4-2_AIDA.root',\n",
       " '/home/ilc/bliewert/jobresults/550-llhh-ana/E550-Test.Pe1e1hh.Gwhizard-2_8_5.eL.pR.I404022.4-3_AIDA.root',\n",
       " '/home/ilc/bliewert/jobresults/550-llhh-ana/E550-Test.Pe1e1hh.Gwhizard-2_8_5.eL.pR.I404022.4-4_AIDA.root',\n",
       " '/home/ilc/bliewert/jobresults/550-llhh-ana/E550-Test.Pe1e1hh.Gwhizard-2_8_5.eL.pR.I404022.4-5_AIDA.root',\n",
       " '/home/ilc/bliewert/jobresults/550-llhh-ana/E550-Test.Pe1e1hh.Gwhizard-2_8_5.eL.pR.I404022.4-6_AIDA.root',\n",
       " '/home/ilc/bliewert/jobresults/550-llhh-ana/E550-Test.Pe1e1hh.Gwhizard-2_8_5.eL.pR.I404022.4-7_AIDA.root',\n",
       " '/home/ilc/bliewert/jobresults/550-llhh-ana/E550-Test.Pe1e1hh.Gwhizard-2_8_5.eL.pR.I404022.4-8_AIDA.root',\n",
       " '/home/ilc/bliewert/jobresults/550-llhh-ana/E550-Test.Pe1e1hh.Gwhizard-2_8_5.eL.pR.I404022.4-9_AIDA.root',\n",
       " '/home/ilc/bliewert/jobresults/550-llhh-ana/E550-Test.Pe1e1hh.Gwhizard-2_8_5.eL.pR.I404022.5-0_AIDA.root',\n",
       " '/home/ilc/bliewert/jobresults/550-llhh-ana/E550-Test.Pe1e1hh.Gwhizard-2_8_5.eL.pR.I404022.5-10_AIDA.root',\n",
       " '/home/ilc/bliewert/jobresults/550-llhh-ana/E550-Test.Pe1e1hh.Gwhizard-2_8_5.eL.pR.I404022.5-11_AIDA.root',\n",
       " '/home/ilc/bliewert/jobresults/550-llhh-ana/E550-Test.Pe1e1hh.Gwhizard-2_8_5.eL.pR.I404022.5-12_AIDA.root',\n",
       " '/home/ilc/bliewert/jobresults/550-llhh-ana/E550-Test.Pe1e1hh.Gwhizard-2_8_5.eL.pR.I404022.5-13_AIDA.root',\n",
       " '/home/ilc/bliewert/jobresults/550-llhh-ana/E550-Test.Pe1e1hh.Gwhizard-2_8_5.eL.pR.I404022.5-14_AIDA.root',\n",
       " '/home/ilc/bliewert/jobresults/550-llhh-ana/E550-Test.Pe1e1hh.Gwhizard-2_8_5.eL.pR.I404022.5-15_AIDA.root',\n",
       " '/home/ilc/bliewert/jobresults/550-llhh-ana/E550-Test.Pe1e1hh.Gwhizard-2_8_5.eL.pR.I404022.5-16_AIDA.root',\n",
       " '/home/ilc/bliewert/jobresults/550-llhh-ana/E550-Test.Pe1e1hh.Gwhizard-2_8_5.eL.pR.I404022.5-17_AIDA.root',\n",
       " '/home/ilc/bliewert/jobresults/550-llhh-ana/E550-Test.Pe1e1hh.Gwhizard-2_8_5.eL.pR.I404022.5-18_AIDA.root',\n",
       " '/home/ilc/bliewert/jobresults/550-llhh-ana/E550-Test.Pe1e1hh.Gwhizard-2_8_5.eL.pR.I404022.5-19_AIDA.root',\n",
       " '/home/ilc/bliewert/jobresults/550-llhh-ana/E550-Test.Pe1e1hh.Gwhizard-2_8_5.eL.pR.I404022.5-1_AIDA.root',\n",
       " '/home/ilc/bliewert/jobresults/550-llhh-ana/E550-Test.Pe1e1hh.Gwhizard-2_8_5.eL.pR.I404022.5-20_AIDA.root',\n",
       " '/home/ilc/bliewert/jobresults/550-llhh-ana/E550-Test.Pe1e1hh.Gwhizard-2_8_5.eL.pR.I404022.5-21_AIDA.root',\n",
       " '/home/ilc/bliewert/jobresults/550-llhh-ana/E550-Test.Pe1e1hh.Gwhizard-2_8_5.eL.pR.I404022.5-22_AIDA.root',\n",
       " '/home/ilc/bliewert/jobresults/550-llhh-ana/E550-Test.Pe1e1hh.Gwhizard-2_8_5.eL.pR.I404022.5-2_AIDA.root',\n",
       " '/home/ilc/bliewert/jobresults/550-llhh-ana/E550-Test.Pe1e1hh.Gwhizard-2_8_5.eL.pR.I404022.5-3_AIDA.root',\n",
       " '/home/ilc/bliewert/jobresults/550-llhh-ana/E550-Test.Pe1e1hh.Gwhizard-2_8_5.eL.pR.I404022.5-4_AIDA.root',\n",
       " '/home/ilc/bliewert/jobresults/550-llhh-ana/E550-Test.Pe1e1hh.Gwhizard-2_8_5.eL.pR.I404022.5-5_AIDA.root',\n",
       " '/home/ilc/bliewert/jobresults/550-llhh-ana/E550-Test.Pe1e1hh.Gwhizard-2_8_5.eL.pR.I404022.5-6_AIDA.root',\n",
       " '/home/ilc/bliewert/jobresults/550-llhh-ana/E550-Test.Pe1e1hh.Gwhizard-2_8_5.eL.pR.I404022.5-7_AIDA.root',\n",
       " '/home/ilc/bliewert/jobresults/550-llhh-ana/E550-Test.Pe1e1hh.Gwhizard-2_8_5.eL.pR.I404022.5-8_AIDA.root',\n",
       " '/home/ilc/bliewert/jobresults/550-llhh-ana/E550-Test.Pe1e1hh.Gwhizard-2_8_5.eL.pR.I404022.5-9_AIDA.root',\n",
       " '/home/ilc/bliewert/jobresults/550-llhh-ana/E550-Test.Pe1e1hh.Gwhizard-2_8_5.eL.pR.I404022.6-0_AIDA.root',\n",
       " '/home/ilc/bliewert/jobresults/550-llhh-ana/E550-Test.Pe1e1hh.Gwhizard-2_8_5.eL.pR.I404022.6-10_AIDA.root',\n",
       " '/home/ilc/bliewert/jobresults/550-llhh-ana/E550-Test.Pe1e1hh.Gwhizard-2_8_5.eL.pR.I404022.6-11_AIDA.root',\n",
       " '/home/ilc/bliewert/jobresults/550-llhh-ana/E550-Test.Pe1e1hh.Gwhizard-2_8_5.eL.pR.I404022.6-12_AIDA.root',\n",
       " '/home/ilc/bliewert/jobresults/550-llhh-ana/E550-Test.Pe1e1hh.Gwhizard-2_8_5.eL.pR.I404022.6-13_AIDA.root',\n",
       " '/home/ilc/bliewert/jobresults/550-llhh-ana/E550-Test.Pe1e1hh.Gwhizard-2_8_5.eL.pR.I404022.6-14_AIDA.root',\n",
       " '/home/ilc/bliewert/jobresults/550-llhh-ana/E550-Test.Pe1e1hh.Gwhizard-2_8_5.eL.pR.I404022.6-15_AIDA.root',\n",
       " '/home/ilc/bliewert/jobresults/550-llhh-ana/E550-Test.Pe1e1hh.Gwhizard-2_8_5.eL.pR.I404022.6-16_AIDA.root',\n",
       " '/home/ilc/bliewert/jobresults/550-llhh-ana/E550-Test.Pe1e1hh.Gwhizard-2_8_5.eL.pR.I404022.6-17_AIDA.root',\n",
       " '/home/ilc/bliewert/jobresults/550-llhh-ana/E550-Test.Pe1e1hh.Gwhizard-2_8_5.eL.pR.I404022.6-18_AIDA.root',\n",
       " '/home/ilc/bliewert/jobresults/550-llhh-ana/E550-Test.Pe1e1hh.Gwhizard-2_8_5.eL.pR.I404022.6-19_AIDA.root',\n",
       " '/home/ilc/bliewert/jobresults/550-llhh-ana/E550-Test.Pe1e1hh.Gwhizard-2_8_5.eL.pR.I404022.6-1_AIDA.root',\n",
       " '/home/ilc/bliewert/jobresults/550-llhh-ana/E550-Test.Pe1e1hh.Gwhizard-2_8_5.eL.pR.I404022.6-20_AIDA.root',\n",
       " '/home/ilc/bliewert/jobresults/550-llhh-ana/E550-Test.Pe1e1hh.Gwhizard-2_8_5.eL.pR.I404022.6-21_AIDA.root',\n",
       " '/home/ilc/bliewert/jobresults/550-llhh-ana/E550-Test.Pe1e1hh.Gwhizard-2_8_5.eL.pR.I404022.6-22_AIDA.root',\n",
       " '/home/ilc/bliewert/jobresults/550-llhh-ana/E550-Test.Pe1e1hh.Gwhizard-2_8_5.eL.pR.I404022.6-2_AIDA.root',\n",
       " '/home/ilc/bliewert/jobresults/550-llhh-ana/E550-Test.Pe1e1hh.Gwhizard-2_8_5.eL.pR.I404022.6-3_AIDA.root',\n",
       " '/home/ilc/bliewert/jobresults/550-llhh-ana/E550-Test.Pe1e1hh.Gwhizard-2_8_5.eL.pR.I404022.6-4_AIDA.root',\n",
       " '/home/ilc/bliewert/jobresults/550-llhh-ana/E550-Test.Pe1e1hh.Gwhizard-2_8_5.eL.pR.I404022.6-5_AIDA.root',\n",
       " '/home/ilc/bliewert/jobresults/550-llhh-ana/E550-Test.Pe1e1hh.Gwhizard-2_8_5.eL.pR.I404022.6-6_AIDA.root',\n",
       " '/home/ilc/bliewert/jobresults/550-llhh-ana/E550-Test.Pe1e1hh.Gwhizard-2_8_5.eL.pR.I404022.6-7_AIDA.root',\n",
       " '/home/ilc/bliewert/jobresults/550-llhh-ana/E550-Test.Pe1e1hh.Gwhizard-2_8_5.eL.pR.I404022.6-8_AIDA.root',\n",
       " '/home/ilc/bliewert/jobresults/550-llhh-ana/E550-Test.Pe1e1hh.Gwhizard-2_8_5.eL.pR.I404022.6-9_AIDA.root',\n",
       " '/home/ilc/bliewert/jobresults/550-llhh-ana/E550-Test.Pe1e1hh.Gwhizard-2_8_5.eL.pR.I404022.7-0_AIDA.root',\n",
       " '/home/ilc/bliewert/jobresults/550-llhh-ana/E550-Test.Pe1e1hh.Gwhizard-2_8_5.eL.pR.I404022.7-1_AIDA.root',\n",
       " '/home/ilc/bliewert/jobresults/550-llhh-ana/E550-Test.Pe1e1hh.Gwhizard-2_8_5.eL.pR.I404022.8-0_AIDA.root',\n",
       " '/home/ilc/bliewert/jobresults/550-llhh-ana/E550-Test.Pe1e1hh.Gwhizard-2_8_5.eL.pR.I404022.8-10_AIDA.root',\n",
       " '/home/ilc/bliewert/jobresults/550-llhh-ana/E550-Test.Pe1e1hh.Gwhizard-2_8_5.eL.pR.I404022.8-11_AIDA.root',\n",
       " '/home/ilc/bliewert/jobresults/550-llhh-ana/E550-Test.Pe1e1hh.Gwhizard-2_8_5.eL.pR.I404022.8-12_AIDA.root',\n",
       " '/home/ilc/bliewert/jobresults/550-llhh-ana/E550-Test.Pe1e1hh.Gwhizard-2_8_5.eL.pR.I404022.8-13_AIDA.root',\n",
       " '/home/ilc/bliewert/jobresults/550-llhh-ana/E550-Test.Pe1e1hh.Gwhizard-2_8_5.eL.pR.I404022.8-14_AIDA.root',\n",
       " '/home/ilc/bliewert/jobresults/550-llhh-ana/E550-Test.Pe1e1hh.Gwhizard-2_8_5.eL.pR.I404022.8-15_AIDA.root',\n",
       " '/home/ilc/bliewert/jobresults/550-llhh-ana/E550-Test.Pe1e1hh.Gwhizard-2_8_5.eL.pR.I404022.8-16_AIDA.root',\n",
       " '/home/ilc/bliewert/jobresults/550-llhh-ana/E550-Test.Pe1e1hh.Gwhizard-2_8_5.eL.pR.I404022.8-17_AIDA.root',\n",
       " '/home/ilc/bliewert/jobresults/550-llhh-ana/E550-Test.Pe1e1hh.Gwhizard-2_8_5.eL.pR.I404022.8-18_AIDA.root',\n",
       " '/home/ilc/bliewert/jobresults/550-llhh-ana/E550-Test.Pe1e1hh.Gwhizard-2_8_5.eL.pR.I404022.8-19_AIDA.root',\n",
       " '/home/ilc/bliewert/jobresults/550-llhh-ana/E550-Test.Pe1e1hh.Gwhizard-2_8_5.eL.pR.I404022.8-1_AIDA.root',\n",
       " '/home/ilc/bliewert/jobresults/550-llhh-ana/E550-Test.Pe1e1hh.Gwhizard-2_8_5.eL.pR.I404022.8-20_AIDA.root',\n",
       " '/home/ilc/bliewert/jobresults/550-llhh-ana/E550-Test.Pe1e1hh.Gwhizard-2_8_5.eL.pR.I404022.8-21_AIDA.root',\n",
       " '/home/ilc/bliewert/jobresults/550-llhh-ana/E550-Test.Pe1e1hh.Gwhizard-2_8_5.eL.pR.I404022.8-2_AIDA.root',\n",
       " '/home/ilc/bliewert/jobresults/550-llhh-ana/E550-Test.Pe1e1hh.Gwhizard-2_8_5.eL.pR.I404022.8-3_AIDA.root',\n",
       " '/home/ilc/bliewert/jobresults/550-llhh-ana/E550-Test.Pe1e1hh.Gwhizard-2_8_5.eL.pR.I404022.8-4_AIDA.root',\n",
       " '/home/ilc/bliewert/jobresults/550-llhh-ana/E550-Test.Pe1e1hh.Gwhizard-2_8_5.eL.pR.I404022.8-5_AIDA.root',\n",
       " '/home/ilc/bliewert/jobresults/550-llhh-ana/E550-Test.Pe1e1hh.Gwhizard-2_8_5.eL.pR.I404022.8-6_AIDA.root',\n",
       " '/home/ilc/bliewert/jobresults/550-llhh-ana/E550-Test.Pe1e1hh.Gwhizard-2_8_5.eL.pR.I404022.8-7_AIDA.root',\n",
       " '/home/ilc/bliewert/jobresults/550-llhh-ana/E550-Test.Pe1e1hh.Gwhizard-2_8_5.eL.pR.I404022.8-8_AIDA.root',\n",
       " '/home/ilc/bliewert/jobresults/550-llhh-ana/E550-Test.Pe1e1hh.Gwhizard-2_8_5.eL.pR.I404022.8-9_AIDA.root',\n",
       " '/home/ilc/bliewert/jobresults/550-llhh-ana/E550-Test.Pe1e1hh.Gwhizard-2_8_5.eL.pR.I404022.9-0_AIDA.root',\n",
       " '/home/ilc/bliewert/jobresults/550-llhh-ana/E550-Test.Pe1e1hh.Gwhizard-2_8_5.eL.pR.I404022.9-10_AIDA.root',\n",
       " '/home/ilc/bliewert/jobresults/550-llhh-ana/E550-Test.Pe1e1hh.Gwhizard-2_8_5.eL.pR.I404022.9-11_AIDA.root',\n",
       " '/home/ilc/bliewert/jobresults/550-llhh-ana/E550-Test.Pe1e1hh.Gwhizard-2_8_5.eL.pR.I404022.9-12_AIDA.root',\n",
       " '/home/ilc/bliewert/jobresults/550-llhh-ana/E550-Test.Pe1e1hh.Gwhizard-2_8_5.eL.pR.I404022.9-13_AIDA.root',\n",
       " '/home/ilc/bliewert/jobresults/550-llhh-ana/E550-Test.Pe1e1hh.Gwhizard-2_8_5.eL.pR.I404022.9-14_AIDA.root',\n",
       " '/home/ilc/bliewert/jobresults/550-llhh-ana/E550-Test.Pe1e1hh.Gwhizard-2_8_5.eL.pR.I404022.9-15_AIDA.root',\n",
       " '/home/ilc/bliewert/jobresults/550-llhh-ana/E550-Test.Pe1e1hh.Gwhizard-2_8_5.eL.pR.I404022.9-16_AIDA.root',\n",
       " '/home/ilc/bliewert/jobresults/550-llhh-ana/E550-Test.Pe1e1hh.Gwhizard-2_8_5.eL.pR.I404022.9-17_AIDA.root',\n",
       " '/home/ilc/bliewert/jobresults/550-llhh-ana/E550-Test.Pe1e1hh.Gwhizard-2_8_5.eL.pR.I404022.9-18_AIDA.root',\n",
       " '/home/ilc/bliewert/jobresults/550-llhh-ana/E550-Test.Pe1e1hh.Gwhizard-2_8_5.eL.pR.I404022.9-19_AIDA.root',\n",
       " '/home/ilc/bliewert/jobresults/550-llhh-ana/E550-Test.Pe1e1hh.Gwhizard-2_8_5.eL.pR.I404022.9-1_AIDA.root',\n",
       " '/home/ilc/bliewert/jobresults/550-llhh-ana/E550-Test.Pe1e1hh.Gwhizard-2_8_5.eL.pR.I404022.9-20_AIDA.root',\n",
       " '/home/ilc/bliewert/jobresults/550-llhh-ana/E550-Test.Pe1e1hh.Gwhizard-2_8_5.eL.pR.I404022.9-21_AIDA.root',\n",
       " '/home/ilc/bliewert/jobresults/550-llhh-ana/E550-Test.Pe1e1hh.Gwhizard-2_8_5.eL.pR.I404022.9-2_AIDA.root',\n",
       " '/home/ilc/bliewert/jobresults/550-llhh-ana/E550-Test.Pe1e1hh.Gwhizard-2_8_5.eL.pR.I404022.9-3_AIDA.root',\n",
       " '/home/ilc/bliewert/jobresults/550-llhh-ana/E550-Test.Pe1e1hh.Gwhizard-2_8_5.eL.pR.I404022.9-4_AIDA.root',\n",
       " '/home/ilc/bliewert/jobresults/550-llhh-ana/E550-Test.Pe1e1hh.Gwhizard-2_8_5.eL.pR.I404022.9-5_AIDA.root',\n",
       " '/home/ilc/bliewert/jobresults/550-llhh-ana/E550-Test.Pe1e1hh.Gwhizard-2_8_5.eL.pR.I404022.9-6_AIDA.root',\n",
       " '/home/ilc/bliewert/jobresults/550-llhh-ana/E550-Test.Pe1e1hh.Gwhizard-2_8_5.eL.pR.I404022.9-7_AIDA.root',\n",
       " '/home/ilc/bliewert/jobresults/550-llhh-ana/E550-Test.Pe1e1hh.Gwhizard-2_8_5.eL.pR.I404022.9-8_AIDA.root',\n",
       " '/home/ilc/bliewert/jobresults/550-llhh-ana/E550-Test.Pe1e1hh.Gwhizard-2_8_5.eL.pR.I404022.9-9_AIDA.root',\n",
       " '/home/ilc/bliewert/jobresults/550-llhh-ana/E550-Test.Pe1e1hh.Gwhizard-2_8_5.eR.pL.I404023.0-0_AIDA.root',\n",
       " '/home/ilc/bliewert/jobresults/550-llhh-ana/E550-Test.Pe1e1hh.Gwhizard-2_8_5.eR.pL.I404023.0-10_AIDA.root',\n",
       " '/home/ilc/bliewert/jobresults/550-llhh-ana/E550-Test.Pe1e1hh.Gwhizard-2_8_5.eR.pL.I404023.0-11_AIDA.root',\n",
       " '/home/ilc/bliewert/jobresults/550-llhh-ana/E550-Test.Pe1e1hh.Gwhizard-2_8_5.eR.pL.I404023.0-12_AIDA.root',\n",
       " '/home/ilc/bliewert/jobresults/550-llhh-ana/E550-Test.Pe1e1hh.Gwhizard-2_8_5.eR.pL.I404023.0-13_AIDA.root',\n",
       " '/home/ilc/bliewert/jobresults/550-llhh-ana/E550-Test.Pe1e1hh.Gwhizard-2_8_5.eR.pL.I404023.0-14_AIDA.root',\n",
       " '/home/ilc/bliewert/jobresults/550-llhh-ana/E550-Test.Pe1e1hh.Gwhizard-2_8_5.eR.pL.I404023.0-15_AIDA.root',\n",
       " '/home/ilc/bliewert/jobresults/550-llhh-ana/E550-Test.Pe1e1hh.Gwhizard-2_8_5.eR.pL.I404023.0-16_AIDA.root',\n",
       " '/home/ilc/bliewert/jobresults/550-llhh-ana/E550-Test.Pe1e1hh.Gwhizard-2_8_5.eR.pL.I404023.0-17_AIDA.root',\n",
       " '/home/ilc/bliewert/jobresults/550-llhh-ana/E550-Test.Pe1e1hh.Gwhizard-2_8_5.eR.pL.I404023.0-18_AIDA.root',\n",
       " '/home/ilc/bliewert/jobresults/550-llhh-ana/E550-Test.Pe1e1hh.Gwhizard-2_8_5.eR.pL.I404023.0-19_AIDA.root',\n",
       " '/home/ilc/bliewert/jobresults/550-llhh-ana/E550-Test.Pe1e1hh.Gwhizard-2_8_5.eR.pL.I404023.0-1_AIDA.root',\n",
       " '/home/ilc/bliewert/jobresults/550-llhh-ana/E550-Test.Pe1e1hh.Gwhizard-2_8_5.eR.pL.I404023.0-20_AIDA.root',\n",
       " '/home/ilc/bliewert/jobresults/550-llhh-ana/E550-Test.Pe1e1hh.Gwhizard-2_8_5.eR.pL.I404023.0-21_AIDA.root',\n",
       " '/home/ilc/bliewert/jobresults/550-llhh-ana/E550-Test.Pe1e1hh.Gwhizard-2_8_5.eR.pL.I404023.0-2_AIDA.root',\n",
       " '/home/ilc/bliewert/jobresults/550-llhh-ana/E550-Test.Pe1e1hh.Gwhizard-2_8_5.eR.pL.I404023.0-3_AIDA.root',\n",
       " '/home/ilc/bliewert/jobresults/550-llhh-ana/E550-Test.Pe1e1hh.Gwhizard-2_8_5.eR.pL.I404023.0-4_AIDA.root',\n",
       " '/home/ilc/bliewert/jobresults/550-llhh-ana/E550-Test.Pe1e1hh.Gwhizard-2_8_5.eR.pL.I404023.0-5_AIDA.root',\n",
       " '/home/ilc/bliewert/jobresults/550-llhh-ana/E550-Test.Pe1e1hh.Gwhizard-2_8_5.eR.pL.I404023.0-6_AIDA.root',\n",
       " '/home/ilc/bliewert/jobresults/550-llhh-ana/E550-Test.Pe1e1hh.Gwhizard-2_8_5.eR.pL.I404023.0-7_AIDA.root',\n",
       " '/home/ilc/bliewert/jobresults/550-llhh-ana/E550-Test.Pe1e1hh.Gwhizard-2_8_5.eR.pL.I404023.0-8_AIDA.root',\n",
       " '/home/ilc/bliewert/jobresults/550-llhh-ana/E550-Test.Pe1e1hh.Gwhizard-2_8_5.eR.pL.I404023.0-9_AIDA.root',\n",
       " '/home/ilc/bliewert/jobresults/550-llhh-ana/E550-Test.Pe1e1hh.Gwhizard-2_8_5.eR.pL.I404023.1-0_AIDA.root',\n",
       " '/home/ilc/bliewert/jobresults/550-llhh-ana/E550-Test.Pe1e1hh.Gwhizard-2_8_5.eR.pL.I404023.1-10_AIDA.root',\n",
       " '/home/ilc/bliewert/jobresults/550-llhh-ana/E550-Test.Pe1e1hh.Gwhizard-2_8_5.eR.pL.I404023.1-11_AIDA.root',\n",
       " '/home/ilc/bliewert/jobresults/550-llhh-ana/E550-Test.Pe1e1hh.Gwhizard-2_8_5.eR.pL.I404023.1-12_AIDA.root',\n",
       " '/home/ilc/bliewert/jobresults/550-llhh-ana/E550-Test.Pe1e1hh.Gwhizard-2_8_5.eR.pL.I404023.1-13_AIDA.root',\n",
       " '/home/ilc/bliewert/jobresults/550-llhh-ana/E550-Test.Pe1e1hh.Gwhizard-2_8_5.eR.pL.I404023.1-14_AIDA.root',\n",
       " '/home/ilc/bliewert/jobresults/550-llhh-ana/E550-Test.Pe1e1hh.Gwhizard-2_8_5.eR.pL.I404023.1-15_AIDA.root',\n",
       " '/home/ilc/bliewert/jobresults/550-llhh-ana/E550-Test.Pe1e1hh.Gwhizard-2_8_5.eR.pL.I404023.1-16_AIDA.root',\n",
       " '/home/ilc/bliewert/jobresults/550-llhh-ana/E550-Test.Pe1e1hh.Gwhizard-2_8_5.eR.pL.I404023.1-17_AIDA.root',\n",
       " '/home/ilc/bliewert/jobresults/550-llhh-ana/E550-Test.Pe1e1hh.Gwhizard-2_8_5.eR.pL.I404023.1-18_AIDA.root',\n",
       " '/home/ilc/bliewert/jobresults/550-llhh-ana/E550-Test.Pe1e1hh.Gwhizard-2_8_5.eR.pL.I404023.1-19_AIDA.root',\n",
       " '/home/ilc/bliewert/jobresults/550-llhh-ana/E550-Test.Pe1e1hh.Gwhizard-2_8_5.eR.pL.I404023.1-1_AIDA.root',\n",
       " '/home/ilc/bliewert/jobresults/550-llhh-ana/E550-Test.Pe1e1hh.Gwhizard-2_8_5.eR.pL.I404023.1-20_AIDA.root',\n",
       " '/home/ilc/bliewert/jobresults/550-llhh-ana/E550-Test.Pe1e1hh.Gwhizard-2_8_5.eR.pL.I404023.1-21_AIDA.root',\n",
       " '/home/ilc/bliewert/jobresults/550-llhh-ana/E550-Test.Pe1e1hh.Gwhizard-2_8_5.eR.pL.I404023.1-2_AIDA.root',\n",
       " '/home/ilc/bliewert/jobresults/550-llhh-ana/E550-Test.Pe1e1hh.Gwhizard-2_8_5.eR.pL.I404023.1-3_AIDA.root',\n",
       " '/home/ilc/bliewert/jobresults/550-llhh-ana/E550-Test.Pe1e1hh.Gwhizard-2_8_5.eR.pL.I404023.1-4_AIDA.root',\n",
       " '/home/ilc/bliewert/jobresults/550-llhh-ana/E550-Test.Pe1e1hh.Gwhizard-2_8_5.eR.pL.I404023.1-5_AIDA.root',\n",
       " '/home/ilc/bliewert/jobresults/550-llhh-ana/E550-Test.Pe1e1hh.Gwhizard-2_8_5.eR.pL.I404023.1-6_AIDA.root',\n",
       " '/home/ilc/bliewert/jobresults/550-llhh-ana/E550-Test.Pe1e1hh.Gwhizard-2_8_5.eR.pL.I404023.1-7_AIDA.root',\n",
       " '/home/ilc/bliewert/jobresults/550-llhh-ana/E550-Test.Pe1e1hh.Gwhizard-2_8_5.eR.pL.I404023.1-8_AIDA.root',\n",
       " '/home/ilc/bliewert/jobresults/550-llhh-ana/E550-Test.Pe1e1hh.Gwhizard-2_8_5.eR.pL.I404023.1-9_AIDA.root',\n",
       " '/home/ilc/bliewert/jobresults/550-llhh-ana/E550-Test.Pe1e1hh.Gwhizard-2_8_5.eR.pL.I404023.10-0_AIDA.root',\n",
       " '/home/ilc/bliewert/jobresults/550-llhh-ana/E550-Test.Pe1e1hh.Gwhizard-2_8_5.eR.pL.I404023.10-10_AIDA.root',\n",
       " '/home/ilc/bliewert/jobresults/550-llhh-ana/E550-Test.Pe1e1hh.Gwhizard-2_8_5.eR.pL.I404023.10-11_AIDA.root',\n",
       " '/home/ilc/bliewert/jobresults/550-llhh-ana/E550-Test.Pe1e1hh.Gwhizard-2_8_5.eR.pL.I404023.10-13_AIDA.root',\n",
       " '/home/ilc/bliewert/jobresults/550-llhh-ana/E550-Test.Pe1e1hh.Gwhizard-2_8_5.eR.pL.I404023.10-14_AIDA.root',\n",
       " '/home/ilc/bliewert/jobresults/550-llhh-ana/E550-Test.Pe1e1hh.Gwhizard-2_8_5.eR.pL.I404023.10-15_AIDA.root',\n",
       " '/home/ilc/bliewert/jobresults/550-llhh-ana/E550-Test.Pe1e1hh.Gwhizard-2_8_5.eR.pL.I404023.10-16_AIDA.root',\n",
       " '/home/ilc/bliewert/jobresults/550-llhh-ana/E550-Test.Pe1e1hh.Gwhizard-2_8_5.eR.pL.I404023.10-17_AIDA.root',\n",
       " '/home/ilc/bliewert/jobresults/550-llhh-ana/E550-Test.Pe1e1hh.Gwhizard-2_8_5.eR.pL.I404023.10-18_AIDA.root',\n",
       " '/home/ilc/bliewert/jobresults/550-llhh-ana/E550-Test.Pe1e1hh.Gwhizard-2_8_5.eR.pL.I404023.10-19_AIDA.root',\n",
       " '/home/ilc/bliewert/jobresults/550-llhh-ana/E550-Test.Pe1e1hh.Gwhizard-2_8_5.eR.pL.I404023.10-1_AIDA.root',\n",
       " '/home/ilc/bliewert/jobresults/550-llhh-ana/E550-Test.Pe1e1hh.Gwhizard-2_8_5.eR.pL.I404023.10-20_AIDA.root',\n",
       " '/home/ilc/bliewert/jobresults/550-llhh-ana/E550-Test.Pe1e1hh.Gwhizard-2_8_5.eR.pL.I404023.10-21_AIDA.root',\n",
       " '/home/ilc/bliewert/jobresults/550-llhh-ana/E550-Test.Pe1e1hh.Gwhizard-2_8_5.eR.pL.I404023.10-2_AIDA.root',\n",
       " '/home/ilc/bliewert/jobresults/550-llhh-ana/E550-Test.Pe1e1hh.Gwhizard-2_8_5.eR.pL.I404023.10-3_AIDA.root',\n",
       " '/home/ilc/bliewert/jobresults/550-llhh-ana/E550-Test.Pe1e1hh.Gwhizard-2_8_5.eR.pL.I404023.10-4_AIDA.root',\n",
       " '/home/ilc/bliewert/jobresults/550-llhh-ana/E550-Test.Pe1e1hh.Gwhizard-2_8_5.eR.pL.I404023.10-5_AIDA.root',\n",
       " '/home/ilc/bliewert/jobresults/550-llhh-ana/E550-Test.Pe1e1hh.Gwhizard-2_8_5.eR.pL.I404023.10-6_AIDA.root',\n",
       " '/home/ilc/bliewert/jobresults/550-llhh-ana/E550-Test.Pe1e1hh.Gwhizard-2_8_5.eR.pL.I404023.10-7_AIDA.root',\n",
       " '/home/ilc/bliewert/jobresults/550-llhh-ana/E550-Test.Pe1e1hh.Gwhizard-2_8_5.eR.pL.I404023.10-8_AIDA.root',\n",
       " '/home/ilc/bliewert/jobresults/550-llhh-ana/E550-Test.Pe1e1hh.Gwhizard-2_8_5.eR.pL.I404023.10-9_AIDA.root',\n",
       " '/home/ilc/bliewert/jobresults/550-llhh-ana/E550-Test.Pe1e1hh.Gwhizard-2_8_5.eR.pL.I404023.11-0_AIDA.root',\n",
       " '/home/ilc/bliewert/jobresults/550-llhh-ana/E550-Test.Pe1e1hh.Gwhizard-2_8_5.eR.pL.I404023.11-1_AIDA.root',\n",
       " '/home/ilc/bliewert/jobresults/550-llhh-ana/E550-Test.Pe1e1hh.Gwhizard-2_8_5.eR.pL.I404023.11-2_AIDA.root',\n",
       " '/home/ilc/bliewert/jobresults/550-llhh-ana/E550-Test.Pe1e1hh.Gwhizard-2_8_5.eR.pL.I404023.11-3_AIDA.root',\n",
       " '/home/ilc/bliewert/jobresults/550-llhh-ana/E550-Test.Pe1e1hh.Gwhizard-2_8_5.eR.pL.I404023.12-0_AIDA.root',\n",
       " '/home/ilc/bliewert/jobresults/550-llhh-ana/E550-Test.Pe1e1hh.Gwhizard-2_8_5.eR.pL.I404023.12-10_AIDA.root',\n",
       " '/home/ilc/bliewert/jobresults/550-llhh-ana/E550-Test.Pe1e1hh.Gwhizard-2_8_5.eR.pL.I404023.12-11_AIDA.root',\n",
       " '/home/ilc/bliewert/jobresults/550-llhh-ana/E550-Test.Pe1e1hh.Gwhizard-2_8_5.eR.pL.I404023.12-12_AIDA.root',\n",
       " '/home/ilc/bliewert/jobresults/550-llhh-ana/E550-Test.Pe1e1hh.Gwhizard-2_8_5.eR.pL.I404023.12-13_AIDA.root',\n",
       " '/home/ilc/bliewert/jobresults/550-llhh-ana/E550-Test.Pe1e1hh.Gwhizard-2_8_5.eR.pL.I404023.12-14_AIDA.root',\n",
       " '/home/ilc/bliewert/jobresults/550-llhh-ana/E550-Test.Pe1e1hh.Gwhizard-2_8_5.eR.pL.I404023.12-15_AIDA.root',\n",
       " '/home/ilc/bliewert/jobresults/550-llhh-ana/E550-Test.Pe1e1hh.Gwhizard-2_8_5.eR.pL.I404023.12-16_AIDA.root',\n",
       " '/home/ilc/bliewert/jobresults/550-llhh-ana/E550-Test.Pe1e1hh.Gwhizard-2_8_5.eR.pL.I404023.12-17_AIDA.root',\n",
       " '/home/ilc/bliewert/jobresults/550-llhh-ana/E550-Test.Pe1e1hh.Gwhizard-2_8_5.eR.pL.I404023.12-18_AIDA.root',\n",
       " '/home/ilc/bliewert/jobresults/550-llhh-ana/E550-Test.Pe1e1hh.Gwhizard-2_8_5.eR.pL.I404023.12-19_AIDA.root',\n",
       " '/home/ilc/bliewert/jobresults/550-llhh-ana/E550-Test.Pe1e1hh.Gwhizard-2_8_5.eR.pL.I404023.12-1_AIDA.root',\n",
       " '/home/ilc/bliewert/jobresults/550-llhh-ana/E550-Test.Pe1e1hh.Gwhizard-2_8_5.eR.pL.I404023.12-20_AIDA.root',\n",
       " '/home/ilc/bliewert/jobresults/550-llhh-ana/E550-Test.Pe1e1hh.Gwhizard-2_8_5.eR.pL.I404023.12-21_AIDA.root',\n",
       " '/home/ilc/bliewert/jobresults/550-llhh-ana/E550-Test.Pe1e1hh.Gwhizard-2_8_5.eR.pL.I404023.12-2_AIDA.root',\n",
       " '/home/ilc/bliewert/jobresults/550-llhh-ana/E550-Test.Pe1e1hh.Gwhizard-2_8_5.eR.pL.I404023.12-3_AIDA.root',\n",
       " '/home/ilc/bliewert/jobresults/550-llhh-ana/E550-Test.Pe1e1hh.Gwhizard-2_8_5.eR.pL.I404023.12-4_AIDA.root',\n",
       " '/home/ilc/bliewert/jobresults/550-llhh-ana/E550-Test.Pe1e1hh.Gwhizard-2_8_5.eR.pL.I404023.12-5_AIDA.root',\n",
       " '/home/ilc/bliewert/jobresults/550-llhh-ana/E550-Test.Pe1e1hh.Gwhizard-2_8_5.eR.pL.I404023.12-6_AIDA.root',\n",
       " '/home/ilc/bliewert/jobresults/550-llhh-ana/E550-Test.Pe1e1hh.Gwhizard-2_8_5.eR.pL.I404023.12-7_AIDA.root',\n",
       " '/home/ilc/bliewert/jobresults/550-llhh-ana/E550-Test.Pe1e1hh.Gwhizard-2_8_5.eR.pL.I404023.12-8_AIDA.root',\n",
       " '/home/ilc/bliewert/jobresults/550-llhh-ana/E550-Test.Pe1e1hh.Gwhizard-2_8_5.eR.pL.I404023.12-9_AIDA.root',\n",
       " '/home/ilc/bliewert/jobresults/550-llhh-ana/E550-Test.Pe1e1hh.Gwhizard-2_8_5.eR.pL.I404023.13-0_AIDA.root',\n",
       " '/home/ilc/bliewert/jobresults/550-llhh-ana/E550-Test.Pe1e1hh.Gwhizard-2_8_5.eR.pL.I404023.13-10_AIDA.root',\n",
       " '/home/ilc/bliewert/jobresults/550-llhh-ana/E550-Test.Pe1e1hh.Gwhizard-2_8_5.eR.pL.I404023.13-11_AIDA.root',\n",
       " '/home/ilc/bliewert/jobresults/550-llhh-ana/E550-Test.Pe1e1hh.Gwhizard-2_8_5.eR.pL.I404023.13-12_AIDA.root',\n",
       " '/home/ilc/bliewert/jobresults/550-llhh-ana/E550-Test.Pe1e1hh.Gwhizard-2_8_5.eR.pL.I404023.13-13_AIDA.root',\n",
       " '/home/ilc/bliewert/jobresults/550-llhh-ana/E550-Test.Pe1e1hh.Gwhizard-2_8_5.eR.pL.I404023.13-14_AIDA.root',\n",
       " '/home/ilc/bliewert/jobresults/550-llhh-ana/E550-Test.Pe1e1hh.Gwhizard-2_8_5.eR.pL.I404023.13-15_AIDA.root',\n",
       " '/home/ilc/bliewert/jobresults/550-llhh-ana/E550-Test.Pe1e1hh.Gwhizard-2_8_5.eR.pL.I404023.13-16_AIDA.root',\n",
       " '/home/ilc/bliewert/jobresults/550-llhh-ana/E550-Test.Pe1e1hh.Gwhizard-2_8_5.eR.pL.I404023.13-17_AIDA.root',\n",
       " '/home/ilc/bliewert/jobresults/550-llhh-ana/E550-Test.Pe1e1hh.Gwhizard-2_8_5.eR.pL.I404023.13-18_AIDA.root',\n",
       " '/home/ilc/bliewert/jobresults/550-llhh-ana/E550-Test.Pe1e1hh.Gwhizard-2_8_5.eR.pL.I404023.13-19_AIDA.root',\n",
       " '/home/ilc/bliewert/jobresults/550-llhh-ana/E550-Test.Pe1e1hh.Gwhizard-2_8_5.eR.pL.I404023.13-1_AIDA.root',\n",
       " '/home/ilc/bliewert/jobresults/550-llhh-ana/E550-Test.Pe1e1hh.Gwhizard-2_8_5.eR.pL.I404023.13-20_AIDA.root',\n",
       " '/home/ilc/bliewert/jobresults/550-llhh-ana/E550-Test.Pe1e1hh.Gwhizard-2_8_5.eR.pL.I404023.13-21_AIDA.root',\n",
       " '/home/ilc/bliewert/jobresults/550-llhh-ana/E550-Test.Pe1e1hh.Gwhizard-2_8_5.eR.pL.I404023.13-2_AIDA.root',\n",
       " '/home/ilc/bliewert/jobresults/550-llhh-ana/E550-Test.Pe1e1hh.Gwhizard-2_8_5.eR.pL.I404023.13-3_AIDA.root',\n",
       " '/home/ilc/bliewert/jobresults/550-llhh-ana/E550-Test.Pe1e1hh.Gwhizard-2_8_5.eR.pL.I404023.13-4_AIDA.root',\n",
       " '/home/ilc/bliewert/jobresults/550-llhh-ana/E550-Test.Pe1e1hh.Gwhizard-2_8_5.eR.pL.I404023.13-5_AIDA.root',\n",
       " '/home/ilc/bliewert/jobresults/550-llhh-ana/E550-Test.Pe1e1hh.Gwhizard-2_8_5.eR.pL.I404023.13-6_AIDA.root',\n",
       " '/home/ilc/bliewert/jobresults/550-llhh-ana/E550-Test.Pe1e1hh.Gwhizard-2_8_5.eR.pL.I404023.13-7_AIDA.root',\n",
       " '/home/ilc/bliewert/jobresults/550-llhh-ana/E550-Test.Pe1e1hh.Gwhizard-2_8_5.eR.pL.I404023.13-8_AIDA.root',\n",
       " '/home/ilc/bliewert/jobresults/550-llhh-ana/E550-Test.Pe1e1hh.Gwhizard-2_8_5.eR.pL.I404023.13-9_AIDA.root',\n",
       " '/home/ilc/bliewert/jobresults/550-llhh-ana/E550-Test.Pe1e1hh.Gwhizard-2_8_5.eR.pL.I404023.14-0_AIDA.root',\n",
       " '/home/ilc/bliewert/jobresults/550-llhh-ana/E550-Test.Pe1e1hh.Gwhizard-2_8_5.eR.pL.I404023.14-10_AIDA.root',\n",
       " '/home/ilc/bliewert/jobresults/550-llhh-ana/E550-Test.Pe1e1hh.Gwhizard-2_8_5.eR.pL.I404023.14-11_AIDA.root',\n",
       " '/home/ilc/bliewert/jobresults/550-llhh-ana/E550-Test.Pe1e1hh.Gwhizard-2_8_5.eR.pL.I404023.14-12_AIDA.root',\n",
       " '/home/ilc/bliewert/jobresults/550-llhh-ana/E550-Test.Pe1e1hh.Gwhizard-2_8_5.eR.pL.I404023.14-13_AIDA.root',\n",
       " '/home/ilc/bliewert/jobresults/550-llhh-ana/E550-Test.Pe1e1hh.Gwhizard-2_8_5.eR.pL.I404023.14-14_AIDA.root',\n",
       " '/home/ilc/bliewert/jobresults/550-llhh-ana/E550-Test.Pe1e1hh.Gwhizard-2_8_5.eR.pL.I404023.14-15_AIDA.root',\n",
       " '/home/ilc/bliewert/jobresults/550-llhh-ana/E550-Test.Pe1e1hh.Gwhizard-2_8_5.eR.pL.I404023.14-16_AIDA.root',\n",
       " '/home/ilc/bliewert/jobresults/550-llhh-ana/E550-Test.Pe1e1hh.Gwhizard-2_8_5.eR.pL.I404023.14-17_AIDA.root',\n",
       " '/home/ilc/bliewert/jobresults/550-llhh-ana/E550-Test.Pe1e1hh.Gwhizard-2_8_5.eR.pL.I404023.14-18_AIDA.root',\n",
       " '/home/ilc/bliewert/jobresults/550-llhh-ana/E550-Test.Pe1e1hh.Gwhizard-2_8_5.eR.pL.I404023.14-19_AIDA.root',\n",
       " '/home/ilc/bliewert/jobresults/550-llhh-ana/E550-Test.Pe1e1hh.Gwhizard-2_8_5.eR.pL.I404023.14-1_AIDA.root',\n",
       " '/home/ilc/bliewert/jobresults/550-llhh-ana/E550-Test.Pe1e1hh.Gwhizard-2_8_5.eR.pL.I404023.14-20_AIDA.root',\n",
       " '/home/ilc/bliewert/jobresults/550-llhh-ana/E550-Test.Pe1e1hh.Gwhizard-2_8_5.eR.pL.I404023.14-21_AIDA.root',\n",
       " '/home/ilc/bliewert/jobresults/550-llhh-ana/E550-Test.Pe1e1hh.Gwhizard-2_8_5.eR.pL.I404023.14-2_AIDA.root',\n",
       " '/home/ilc/bliewert/jobresults/550-llhh-ana/E550-Test.Pe1e1hh.Gwhizard-2_8_5.eR.pL.I404023.14-3_AIDA.root',\n",
       " '/home/ilc/bliewert/jobresults/550-llhh-ana/E550-Test.Pe1e1hh.Gwhizard-2_8_5.eR.pL.I404023.14-4_AIDA.root',\n",
       " '/home/ilc/bliewert/jobresults/550-llhh-ana/E550-Test.Pe1e1hh.Gwhizard-2_8_5.eR.pL.I404023.14-5_AIDA.root',\n",
       " '/home/ilc/bliewert/jobresults/550-llhh-ana/E550-Test.Pe1e1hh.Gwhizard-2_8_5.eR.pL.I404023.14-6_AIDA.root',\n",
       " '/home/ilc/bliewert/jobresults/550-llhh-ana/E550-Test.Pe1e1hh.Gwhizard-2_8_5.eR.pL.I404023.14-7_AIDA.root',\n",
       " '/home/ilc/bliewert/jobresults/550-llhh-ana/E550-Test.Pe1e1hh.Gwhizard-2_8_5.eR.pL.I404023.14-8_AIDA.root',\n",
       " '/home/ilc/bliewert/jobresults/550-llhh-ana/E550-Test.Pe1e1hh.Gwhizard-2_8_5.eR.pL.I404023.14-9_AIDA.root',\n",
       " '/home/ilc/bliewert/jobresults/550-llhh-ana/E550-Test.Pe1e1hh.Gwhizard-2_8_5.eR.pL.I404023.15-0_AIDA.root',\n",
       " '/home/ilc/bliewert/jobresults/550-llhh-ana/E550-Test.Pe1e1hh.Gwhizard-2_8_5.eR.pL.I404023.15-1_AIDA.root',\n",
       " '/home/ilc/bliewert/jobresults/550-llhh-ana/E550-Test.Pe1e1hh.Gwhizard-2_8_5.eR.pL.I404023.15-2_AIDA.root',\n",
       " '/home/ilc/bliewert/jobresults/550-llhh-ana/E550-Test.Pe1e1hh.Gwhizard-2_8_5.eR.pL.I404023.15-3_AIDA.root',\n",
       " '/home/ilc/bliewert/jobresults/550-llhh-ana/E550-Test.Pe1e1hh.Gwhizard-2_8_5.eR.pL.I404023.2-0_AIDA.root',\n",
       " '/home/ilc/bliewert/jobresults/550-llhh-ana/E550-Test.Pe1e1hh.Gwhizard-2_8_5.eR.pL.I404023.2-10_AIDA.root',\n",
       " '/home/ilc/bliewert/jobresults/550-llhh-ana/E550-Test.Pe1e1hh.Gwhizard-2_8_5.eR.pL.I404023.2-11_AIDA.root',\n",
       " '/home/ilc/bliewert/jobresults/550-llhh-ana/E550-Test.Pe1e1hh.Gwhizard-2_8_5.eR.pL.I404023.2-12_AIDA.root',\n",
       " '/home/ilc/bliewert/jobresults/550-llhh-ana/E550-Test.Pe1e1hh.Gwhizard-2_8_5.eR.pL.I404023.2-13_AIDA.root',\n",
       " '/home/ilc/bliewert/jobresults/550-llhh-ana/E550-Test.Pe1e1hh.Gwhizard-2_8_5.eR.pL.I404023.2-14_AIDA.root',\n",
       " '/home/ilc/bliewert/jobresults/550-llhh-ana/E550-Test.Pe1e1hh.Gwhizard-2_8_5.eR.pL.I404023.2-15_AIDA.root',\n",
       " '/home/ilc/bliewert/jobresults/550-llhh-ana/E550-Test.Pe1e1hh.Gwhizard-2_8_5.eR.pL.I404023.2-16_AIDA.root',\n",
       " '/home/ilc/bliewert/jobresults/550-llhh-ana/E550-Test.Pe1e1hh.Gwhizard-2_8_5.eR.pL.I404023.2-17_AIDA.root',\n",
       " '/home/ilc/bliewert/jobresults/550-llhh-ana/E550-Test.Pe1e1hh.Gwhizard-2_8_5.eR.pL.I404023.2-18_AIDA.root',\n",
       " '/home/ilc/bliewert/jobresults/550-llhh-ana/E550-Test.Pe1e1hh.Gwhizard-2_8_5.eR.pL.I404023.2-19_AIDA.root',\n",
       " '/home/ilc/bliewert/jobresults/550-llhh-ana/E550-Test.Pe1e1hh.Gwhizard-2_8_5.eR.pL.I404023.2-1_AIDA.root',\n",
       " '/home/ilc/bliewert/jobresults/550-llhh-ana/E550-Test.Pe1e1hh.Gwhizard-2_8_5.eR.pL.I404023.2-20_AIDA.root',\n",
       " '/home/ilc/bliewert/jobresults/550-llhh-ana/E550-Test.Pe1e1hh.Gwhizard-2_8_5.eR.pL.I404023.2-21_AIDA.root',\n",
       " '/home/ilc/bliewert/jobresults/550-llhh-ana/E550-Test.Pe1e1hh.Gwhizard-2_8_5.eR.pL.I404023.2-2_AIDA.root',\n",
       " '/home/ilc/bliewert/jobresults/550-llhh-ana/E550-Test.Pe1e1hh.Gwhizard-2_8_5.eR.pL.I404023.2-3_AIDA.root',\n",
       " '/home/ilc/bliewert/jobresults/550-llhh-ana/E550-Test.Pe1e1hh.Gwhizard-2_8_5.eR.pL.I404023.2-4_AIDA.root',\n",
       " '/home/ilc/bliewert/jobresults/550-llhh-ana/E550-Test.Pe1e1hh.Gwhizard-2_8_5.eR.pL.I404023.2-5_AIDA.root',\n",
       " '/home/ilc/bliewert/jobresults/550-llhh-ana/E550-Test.Pe1e1hh.Gwhizard-2_8_5.eR.pL.I404023.2-6_AIDA.root',\n",
       " '/home/ilc/bliewert/jobresults/550-llhh-ana/E550-Test.Pe1e1hh.Gwhizard-2_8_5.eR.pL.I404023.2-7_AIDA.root',\n",
       " '/home/ilc/bliewert/jobresults/550-llhh-ana/E550-Test.Pe1e1hh.Gwhizard-2_8_5.eR.pL.I404023.2-8_AIDA.root',\n",
       " '/home/ilc/bliewert/jobresults/550-llhh-ana/E550-Test.Pe1e1hh.Gwhizard-2_8_5.eR.pL.I404023.2-9_AIDA.root',\n",
       " '/home/ilc/bliewert/jobresults/550-llhh-ana/E550-Test.Pe1e1hh.Gwhizard-2_8_5.eR.pL.I404023.3-0_AIDA.root',\n",
       " '/home/ilc/bliewert/jobresults/550-llhh-ana/E550-Test.Pe1e1hh.Gwhizard-2_8_5.eR.pL.I404023.3-1_AIDA.root',\n",
       " '/home/ilc/bliewert/jobresults/550-llhh-ana/E550-Test.Pe1e1hh.Gwhizard-2_8_5.eR.pL.I404023.3-2_AIDA.root',\n",
       " '/home/ilc/bliewert/jobresults/550-llhh-ana/E550-Test.Pe1e1hh.Gwhizard-2_8_5.eR.pL.I404023.3-3_AIDA.root',\n",
       " '/home/ilc/bliewert/jobresults/550-llhh-ana/E550-Test.Pe1e1hh.Gwhizard-2_8_5.eR.pL.I404023.4-0_AIDA.root',\n",
       " '/home/ilc/bliewert/jobresults/550-llhh-ana/E550-Test.Pe1e1hh.Gwhizard-2_8_5.eR.pL.I404023.4-10_AIDA.root',\n",
       " '/home/ilc/bliewert/jobresults/550-llhh-ana/E550-Test.Pe1e1hh.Gwhizard-2_8_5.eR.pL.I404023.4-11_AIDA.root',\n",
       " '/home/ilc/bliewert/jobresults/550-llhh-ana/E550-Test.Pe1e1hh.Gwhizard-2_8_5.eR.pL.I404023.4-12_AIDA.root',\n",
       " '/home/ilc/bliewert/jobresults/550-llhh-ana/E550-Test.Pe1e1hh.Gwhizard-2_8_5.eR.pL.I404023.4-13_AIDA.root',\n",
       " '/home/ilc/bliewert/jobresults/550-llhh-ana/E550-Test.Pe1e1hh.Gwhizard-2_8_5.eR.pL.I404023.4-14_AIDA.root',\n",
       " '/home/ilc/bliewert/jobresults/550-llhh-ana/E550-Test.Pe1e1hh.Gwhizard-2_8_5.eR.pL.I404023.4-15_AIDA.root',\n",
       " '/home/ilc/bliewert/jobresults/550-llhh-ana/E550-Test.Pe1e1hh.Gwhizard-2_8_5.eR.pL.I404023.4-16_AIDA.root',\n",
       " '/home/ilc/bliewert/jobresults/550-llhh-ana/E550-Test.Pe1e1hh.Gwhizard-2_8_5.eR.pL.I404023.4-17_AIDA.root',\n",
       " '/home/ilc/bliewert/jobresults/550-llhh-ana/E550-Test.Pe1e1hh.Gwhizard-2_8_5.eR.pL.I404023.4-18_AIDA.root',\n",
       " '/home/ilc/bliewert/jobresults/550-llhh-ana/E550-Test.Pe1e1hh.Gwhizard-2_8_5.eR.pL.I404023.4-19_AIDA.root',\n",
       " '/home/ilc/bliewert/jobresults/550-llhh-ana/E550-Test.Pe1e1hh.Gwhizard-2_8_5.eR.pL.I404023.4-1_AIDA.root',\n",
       " '/home/ilc/bliewert/jobresults/550-llhh-ana/E550-Test.Pe1e1hh.Gwhizard-2_8_5.eR.pL.I404023.4-20_AIDA.root',\n",
       " '/home/ilc/bliewert/jobresults/550-llhh-ana/E550-Test.Pe1e1hh.Gwhizard-2_8_5.eR.pL.I404023.4-21_AIDA.root',\n",
       " '/home/ilc/bliewert/jobresults/550-llhh-ana/E550-Test.Pe1e1hh.Gwhizard-2_8_5.eR.pL.I404023.4-2_AIDA.root',\n",
       " '/home/ilc/bliewert/jobresults/550-llhh-ana/E550-Test.Pe1e1hh.Gwhizard-2_8_5.eR.pL.I404023.4-3_AIDA.root',\n",
       " '/home/ilc/bliewert/jobresults/550-llhh-ana/E550-Test.Pe1e1hh.Gwhizard-2_8_5.eR.pL.I404023.4-4_AIDA.root',\n",
       " '/home/ilc/bliewert/jobresults/550-llhh-ana/E550-Test.Pe1e1hh.Gwhizard-2_8_5.eR.pL.I404023.4-5_AIDA.root',\n",
       " '/home/ilc/bliewert/jobresults/550-llhh-ana/E550-Test.Pe1e1hh.Gwhizard-2_8_5.eR.pL.I404023.4-6_AIDA.root',\n",
       " '/home/ilc/bliewert/jobresults/550-llhh-ana/E550-Test.Pe1e1hh.Gwhizard-2_8_5.eR.pL.I404023.4-7_AIDA.root',\n",
       " '/home/ilc/bliewert/jobresults/550-llhh-ana/E550-Test.Pe1e1hh.Gwhizard-2_8_5.eR.pL.I404023.4-8_AIDA.root',\n",
       " '/home/ilc/bliewert/jobresults/550-llhh-ana/E550-Test.Pe1e1hh.Gwhizard-2_8_5.eR.pL.I404023.4-9_AIDA.root',\n",
       " '/home/ilc/bliewert/jobresults/550-llhh-ana/E550-Test.Pe1e1hh.Gwhizard-2_8_5.eR.pL.I404023.5-0_AIDA.root',\n",
       " '/home/ilc/bliewert/jobresults/550-llhh-ana/E550-Test.Pe1e1hh.Gwhizard-2_8_5.eR.pL.I404023.5-10_AIDA.root',\n",
       " '/home/ilc/bliewert/jobresults/550-llhh-ana/E550-Test.Pe1e1hh.Gwhizard-2_8_5.eR.pL.I404023.5-11_AIDA.root',\n",
       " '/home/ilc/bliewert/jobresults/550-llhh-ana/E550-Test.Pe1e1hh.Gwhizard-2_8_5.eR.pL.I404023.5-12_AIDA.root',\n",
       " '/home/ilc/bliewert/jobresults/550-llhh-ana/E550-Test.Pe1e1hh.Gwhizard-2_8_5.eR.pL.I404023.5-13_AIDA.root',\n",
       " '/home/ilc/bliewert/jobresults/550-llhh-ana/E550-Test.Pe1e1hh.Gwhizard-2_8_5.eR.pL.I404023.5-14_AIDA.root',\n",
       " '/home/ilc/bliewert/jobresults/550-llhh-ana/E550-Test.Pe1e1hh.Gwhizard-2_8_5.eR.pL.I404023.5-15_AIDA.root',\n",
       " '/home/ilc/bliewert/jobresults/550-llhh-ana/E550-Test.Pe1e1hh.Gwhizard-2_8_5.eR.pL.I404023.5-16_AIDA.root',\n",
       " '/home/ilc/bliewert/jobresults/550-llhh-ana/E550-Test.Pe1e1hh.Gwhizard-2_8_5.eR.pL.I404023.5-17_AIDA.root',\n",
       " '/home/ilc/bliewert/jobresults/550-llhh-ana/E550-Test.Pe1e1hh.Gwhizard-2_8_5.eR.pL.I404023.5-18_AIDA.root',\n",
       " '/home/ilc/bliewert/jobresults/550-llhh-ana/E550-Test.Pe1e1hh.Gwhizard-2_8_5.eR.pL.I404023.5-19_AIDA.root',\n",
       " '/home/ilc/bliewert/jobresults/550-llhh-ana/E550-Test.Pe1e1hh.Gwhizard-2_8_5.eR.pL.I404023.5-1_AIDA.root',\n",
       " '/home/ilc/bliewert/jobresults/550-llhh-ana/E550-Test.Pe1e1hh.Gwhizard-2_8_5.eR.pL.I404023.5-20_AIDA.root',\n",
       " '/home/ilc/bliewert/jobresults/550-llhh-ana/E550-Test.Pe1e1hh.Gwhizard-2_8_5.eR.pL.I404023.5-21_AIDA.root',\n",
       " '/home/ilc/bliewert/jobresults/550-llhh-ana/E550-Test.Pe1e1hh.Gwhizard-2_8_5.eR.pL.I404023.5-2_AIDA.root',\n",
       " '/home/ilc/bliewert/jobresults/550-llhh-ana/E550-Test.Pe1e1hh.Gwhizard-2_8_5.eR.pL.I404023.5-3_AIDA.root',\n",
       " '/home/ilc/bliewert/jobresults/550-llhh-ana/E550-Test.Pe1e1hh.Gwhizard-2_8_5.eR.pL.I404023.5-4_AIDA.root',\n",
       " '/home/ilc/bliewert/jobresults/550-llhh-ana/E550-Test.Pe1e1hh.Gwhizard-2_8_5.eR.pL.I404023.5-5_AIDA.root',\n",
       " '/home/ilc/bliewert/jobresults/550-llhh-ana/E550-Test.Pe1e1hh.Gwhizard-2_8_5.eR.pL.I404023.5-6_AIDA.root',\n",
       " '/home/ilc/bliewert/jobresults/550-llhh-ana/E550-Test.Pe1e1hh.Gwhizard-2_8_5.eR.pL.I404023.5-7_AIDA.root',\n",
       " '/home/ilc/bliewert/jobresults/550-llhh-ana/E550-Test.Pe1e1hh.Gwhizard-2_8_5.eR.pL.I404023.5-8_AIDA.root',\n",
       " '/home/ilc/bliewert/jobresults/550-llhh-ana/E550-Test.Pe1e1hh.Gwhizard-2_8_5.eR.pL.I404023.5-9_AIDA.root',\n",
       " '/home/ilc/bliewert/jobresults/550-llhh-ana/E550-Test.Pe1e1hh.Gwhizard-2_8_5.eR.pL.I404023.6-0_AIDA.root',\n",
       " '/home/ilc/bliewert/jobresults/550-llhh-ana/E550-Test.Pe1e1hh.Gwhizard-2_8_5.eR.pL.I404023.6-10_AIDA.root',\n",
       " '/home/ilc/bliewert/jobresults/550-llhh-ana/E550-Test.Pe1e1hh.Gwhizard-2_8_5.eR.pL.I404023.6-11_AIDA.root',\n",
       " '/home/ilc/bliewert/jobresults/550-llhh-ana/E550-Test.Pe1e1hh.Gwhizard-2_8_5.eR.pL.I404023.6-12_AIDA.root',\n",
       " '/home/ilc/bliewert/jobresults/550-llhh-ana/E550-Test.Pe1e1hh.Gwhizard-2_8_5.eR.pL.I404023.6-13_AIDA.root',\n",
       " '/home/ilc/bliewert/jobresults/550-llhh-ana/E550-Test.Pe1e1hh.Gwhizard-2_8_5.eR.pL.I404023.6-14_AIDA.root',\n",
       " '/home/ilc/bliewert/jobresults/550-llhh-ana/E550-Test.Pe1e1hh.Gwhizard-2_8_5.eR.pL.I404023.6-15_AIDA.root',\n",
       " '/home/ilc/bliewert/jobresults/550-llhh-ana/E550-Test.Pe1e1hh.Gwhizard-2_8_5.eR.pL.I404023.6-16_AIDA.root',\n",
       " '/home/ilc/bliewert/jobresults/550-llhh-ana/E550-Test.Pe1e1hh.Gwhizard-2_8_5.eR.pL.I404023.6-17_AIDA.root',\n",
       " '/home/ilc/bliewert/jobresults/550-llhh-ana/E550-Test.Pe1e1hh.Gwhizard-2_8_5.eR.pL.I404023.6-18_AIDA.root',\n",
       " '/home/ilc/bliewert/jobresults/550-llhh-ana/E550-Test.Pe1e1hh.Gwhizard-2_8_5.eR.pL.I404023.6-19_AIDA.root',\n",
       " '/home/ilc/bliewert/jobresults/550-llhh-ana/E550-Test.Pe1e1hh.Gwhizard-2_8_5.eR.pL.I404023.6-1_AIDA.root',\n",
       " '/home/ilc/bliewert/jobresults/550-llhh-ana/E550-Test.Pe1e1hh.Gwhizard-2_8_5.eR.pL.I404023.6-20_AIDA.root',\n",
       " '/home/ilc/bliewert/jobresults/550-llhh-ana/E550-Test.Pe1e1hh.Gwhizard-2_8_5.eR.pL.I404023.6-21_AIDA.root',\n",
       " '/home/ilc/bliewert/jobresults/550-llhh-ana/E550-Test.Pe1e1hh.Gwhizard-2_8_5.eR.pL.I404023.6-2_AIDA.root',\n",
       " '/home/ilc/bliewert/jobresults/550-llhh-ana/E550-Test.Pe1e1hh.Gwhizard-2_8_5.eR.pL.I404023.6-3_AIDA.root',\n",
       " '/home/ilc/bliewert/jobresults/550-llhh-ana/E550-Test.Pe1e1hh.Gwhizard-2_8_5.eR.pL.I404023.6-4_AIDA.root',\n",
       " '/home/ilc/bliewert/jobresults/550-llhh-ana/E550-Test.Pe1e1hh.Gwhizard-2_8_5.eR.pL.I404023.6-5_AIDA.root',\n",
       " '/home/ilc/bliewert/jobresults/550-llhh-ana/E550-Test.Pe1e1hh.Gwhizard-2_8_5.eR.pL.I404023.6-6_AIDA.root',\n",
       " '/home/ilc/bliewert/jobresults/550-llhh-ana/E550-Test.Pe1e1hh.Gwhizard-2_8_5.eR.pL.I404023.6-7_AIDA.root',\n",
       " '/home/ilc/bliewert/jobresults/550-llhh-ana/E550-Test.Pe1e1hh.Gwhizard-2_8_5.eR.pL.I404023.6-8_AIDA.root',\n",
       " '/home/ilc/bliewert/jobresults/550-llhh-ana/E550-Test.Pe1e1hh.Gwhizard-2_8_5.eR.pL.I404023.6-9_AIDA.root',\n",
       " '/home/ilc/bliewert/jobresults/550-llhh-ana/E550-Test.Pe1e1hh.Gwhizard-2_8_5.eR.pL.I404023.7-0_AIDA.root',\n",
       " '/home/ilc/bliewert/jobresults/550-llhh-ana/E550-Test.Pe1e1hh.Gwhizard-2_8_5.eR.pL.I404023.7-1_AIDA.root',\n",
       " '/home/ilc/bliewert/jobresults/550-llhh-ana/E550-Test.Pe1e1hh.Gwhizard-2_8_5.eR.pL.I404023.7-2_AIDA.root',\n",
       " '/home/ilc/bliewert/jobresults/550-llhh-ana/E550-Test.Pe1e1hh.Gwhizard-2_8_5.eR.pL.I404023.7-3_AIDA.root',\n",
       " '/home/ilc/bliewert/jobresults/550-llhh-ana/E550-Test.Pe1e1hh.Gwhizard-2_8_5.eR.pL.I404023.8-0_AIDA.root',\n",
       " '/home/ilc/bliewert/jobresults/550-llhh-ana/E550-Test.Pe1e1hh.Gwhizard-2_8_5.eR.pL.I404023.8-10_AIDA.root',\n",
       " '/home/ilc/bliewert/jobresults/550-llhh-ana/E550-Test.Pe1e1hh.Gwhizard-2_8_5.eR.pL.I404023.8-11_AIDA.root',\n",
       " '/home/ilc/bliewert/jobresults/550-llhh-ana/E550-Test.Pe1e1hh.Gwhizard-2_8_5.eR.pL.I404023.8-12_AIDA.root',\n",
       " '/home/ilc/bliewert/jobresults/550-llhh-ana/E550-Test.Pe1e1hh.Gwhizard-2_8_5.eR.pL.I404023.8-13_AIDA.root',\n",
       " '/home/ilc/bliewert/jobresults/550-llhh-ana/E550-Test.Pe1e1hh.Gwhizard-2_8_5.eR.pL.I404023.8-14_AIDA.root',\n",
       " '/home/ilc/bliewert/jobresults/550-llhh-ana/E550-Test.Pe1e1hh.Gwhizard-2_8_5.eR.pL.I404023.8-15_AIDA.root',\n",
       " '/home/ilc/bliewert/jobresults/550-llhh-ana/E550-Test.Pe1e1hh.Gwhizard-2_8_5.eR.pL.I404023.8-16_AIDA.root',\n",
       " '/home/ilc/bliewert/jobresults/550-llhh-ana/E550-Test.Pe1e1hh.Gwhizard-2_8_5.eR.pL.I404023.8-17_AIDA.root',\n",
       " '/home/ilc/bliewert/jobresults/550-llhh-ana/E550-Test.Pe1e1hh.Gwhizard-2_8_5.eR.pL.I404023.8-18_AIDA.root',\n",
       " '/home/ilc/bliewert/jobresults/550-llhh-ana/E550-Test.Pe1e1hh.Gwhizard-2_8_5.eR.pL.I404023.8-19_AIDA.root',\n",
       " '/home/ilc/bliewert/jobresults/550-llhh-ana/E550-Test.Pe1e1hh.Gwhizard-2_8_5.eR.pL.I404023.8-1_AIDA.root',\n",
       " '/home/ilc/bliewert/jobresults/550-llhh-ana/E550-Test.Pe1e1hh.Gwhizard-2_8_5.eR.pL.I404023.8-20_AIDA.root',\n",
       " '/home/ilc/bliewert/jobresults/550-llhh-ana/E550-Test.Pe1e1hh.Gwhizard-2_8_5.eR.pL.I404023.8-21_AIDA.root',\n",
       " '/home/ilc/bliewert/jobresults/550-llhh-ana/E550-Test.Pe1e1hh.Gwhizard-2_8_5.eR.pL.I404023.8-2_AIDA.root',\n",
       " '/home/ilc/bliewert/jobresults/550-llhh-ana/E550-Test.Pe1e1hh.Gwhizard-2_8_5.eR.pL.I404023.8-3_AIDA.root',\n",
       " '/home/ilc/bliewert/jobresults/550-llhh-ana/E550-Test.Pe1e1hh.Gwhizard-2_8_5.eR.pL.I404023.8-4_AIDA.root',\n",
       " '/home/ilc/bliewert/jobresults/550-llhh-ana/E550-Test.Pe1e1hh.Gwhizard-2_8_5.eR.pL.I404023.8-5_AIDA.root',\n",
       " '/home/ilc/bliewert/jobresults/550-llhh-ana/E550-Test.Pe1e1hh.Gwhizard-2_8_5.eR.pL.I404023.8-6_AIDA.root',\n",
       " '/home/ilc/bliewert/jobresults/550-llhh-ana/E550-Test.Pe1e1hh.Gwhizard-2_8_5.eR.pL.I404023.8-7_AIDA.root',\n",
       " '/home/ilc/bliewert/jobresults/550-llhh-ana/E550-Test.Pe1e1hh.Gwhizard-2_8_5.eR.pL.I404023.8-8_AIDA.root',\n",
       " '/home/ilc/bliewert/jobresults/550-llhh-ana/E550-Test.Pe1e1hh.Gwhizard-2_8_5.eR.pL.I404023.8-9_AIDA.root',\n",
       " '/home/ilc/bliewert/jobresults/550-llhh-ana/E550-Test.Pe1e1hh.Gwhizard-2_8_5.eR.pL.I404023.9-0_AIDA.root',\n",
       " '/home/ilc/bliewert/jobresults/550-llhh-ana/E550-Test.Pe1e1hh.Gwhizard-2_8_5.eR.pL.I404023.9-10_AIDA.root',\n",
       " '/home/ilc/bliewert/jobresults/550-llhh-ana/E550-Test.Pe1e1hh.Gwhizard-2_8_5.eR.pL.I404023.9-11_AIDA.root',\n",
       " '/home/ilc/bliewert/jobresults/550-llhh-ana/E550-Test.Pe1e1hh.Gwhizard-2_8_5.eR.pL.I404023.9-12_AIDA.root',\n",
       " '/home/ilc/bliewert/jobresults/550-llhh-ana/E550-Test.Pe1e1hh.Gwhizard-2_8_5.eR.pL.I404023.9-13_AIDA.root',\n",
       " '/home/ilc/bliewert/jobresults/550-llhh-ana/E550-Test.Pe1e1hh.Gwhizard-2_8_5.eR.pL.I404023.9-14_AIDA.root',\n",
       " '/home/ilc/bliewert/jobresults/550-llhh-ana/E550-Test.Pe1e1hh.Gwhizard-2_8_5.eR.pL.I404023.9-15_AIDA.root',\n",
       " '/home/ilc/bliewert/jobresults/550-llhh-ana/E550-Test.Pe1e1hh.Gwhizard-2_8_5.eR.pL.I404023.9-16_AIDA.root',\n",
       " '/home/ilc/bliewert/jobresults/550-llhh-ana/E550-Test.Pe1e1hh.Gwhizard-2_8_5.eR.pL.I404023.9-17_AIDA.root',\n",
       " '/home/ilc/bliewert/jobresults/550-llhh-ana/E550-Test.Pe1e1hh.Gwhizard-2_8_5.eR.pL.I404023.9-18_AIDA.root',\n",
       " '/home/ilc/bliewert/jobresults/550-llhh-ana/E550-Test.Pe1e1hh.Gwhizard-2_8_5.eR.pL.I404023.9-19_AIDA.root',\n",
       " '/home/ilc/bliewert/jobresults/550-llhh-ana/E550-Test.Pe1e1hh.Gwhizard-2_8_5.eR.pL.I404023.9-1_AIDA.root',\n",
       " '/home/ilc/bliewert/jobresults/550-llhh-ana/E550-Test.Pe1e1hh.Gwhizard-2_8_5.eR.pL.I404023.9-20_AIDA.root',\n",
       " '/home/ilc/bliewert/jobresults/550-llhh-ana/E550-Test.Pe1e1hh.Gwhizard-2_8_5.eR.pL.I404023.9-21_AIDA.root',\n",
       " '/home/ilc/bliewert/jobresults/550-llhh-ana/E550-Test.Pe1e1hh.Gwhizard-2_8_5.eR.pL.I404023.9-2_AIDA.root',\n",
       " '/home/ilc/bliewert/jobresults/550-llhh-ana/E550-Test.Pe1e1hh.Gwhizard-2_8_5.eR.pL.I404023.9-3_AIDA.root',\n",
       " '/home/ilc/bliewert/jobresults/550-llhh-ana/E550-Test.Pe1e1hh.Gwhizard-2_8_5.eR.pL.I404023.9-4_AIDA.root',\n",
       " '/home/ilc/bliewert/jobresults/550-llhh-ana/E550-Test.Pe1e1hh.Gwhizard-2_8_5.eR.pL.I404023.9-5_AIDA.root',\n",
       " '/home/ilc/bliewert/jobresults/550-llhh-ana/E550-Test.Pe1e1hh.Gwhizard-2_8_5.eR.pL.I404023.9-6_AIDA.root',\n",
       " '/home/ilc/bliewert/jobresults/550-llhh-ana/E550-Test.Pe1e1hh.Gwhizard-2_8_5.eR.pL.I404023.9-7_AIDA.root',\n",
       " '/home/ilc/bliewert/jobresults/550-llhh-ana/E550-Test.Pe1e1hh.Gwhizard-2_8_5.eR.pL.I404023.9-8_AIDA.root',\n",
       " '/home/ilc/bliewert/jobresults/550-llhh-ana/E550-Test.Pe1e1hh.Gwhizard-2_8_5.eR.pL.I404023.9-9_AIDA.root',\n",
       " '/home/ilc/bliewert/jobresults/550-llhh-ana/E550-Test.Pe1e1hh.Gwhizard-2_8_5.eR.pR.I404024.0-0_AIDA.root',\n",
       " '/home/ilc/bliewert/jobresults/550-llhh-ana/E550-Test.Pe1e1hh.Gwhizard-2_8_5.eR.pR.I404024.0-10_AIDA.root',\n",
       " '/home/ilc/bliewert/jobresults/550-llhh-ana/E550-Test.Pe1e1hh.Gwhizard-2_8_5.eR.pR.I404024.0-11_AIDA.root',\n",
       " '/home/ilc/bliewert/jobresults/550-llhh-ana/E550-Test.Pe1e1hh.Gwhizard-2_8_5.eR.pR.I404024.0-12_AIDA.root',\n",
       " '/home/ilc/bliewert/jobresults/550-llhh-ana/E550-Test.Pe1e1hh.Gwhizard-2_8_5.eR.pR.I404024.0-13_AIDA.root',\n",
       " ...]"
      ]
     },
     "execution_count": 23,
     "metadata": {},
     "output_type": "execute_result"
    }
   ],
   "source": [
    "output"
   ]
  },
  {
   "cell_type": "code",
   "execution_count": 22,
   "metadata": {},
   "outputs": [
    {
     "ename": "ValueError",
     "evalue": "TTree object paths must be specified in the 'files' as {\"filenames*.root\": \"path\"} if any files have more than one TTree\n\n    TTrees: 'EventObservablesQQ', 'KinFitQQZZZ', 'KinFitQQZZH', 'KinFitQQZHH', 'KinFitQQNMC', 'EventObservablesVV', 'KinFitVVZZZ', 'KinFitVVZZH', 'KinFitVVZHH', 'KinFitVVNMC', 'EventObservablesLL', 'KinFitLLZZZ', 'KinFitLLZZH', 'KinFitLLZHH', 'KinFitLLNMC', 'SLDCorrection', 'LeptonPairing', 'FinalStates', 'HdecayMode', 'ntp'\n\nin file /home/ilc/bliewert/jobresults/550-2l4q-ana/E550-TDR_ws.P6f_eexxxx.Gwhizard-3_1_5.eL.pL.I410026.1-0_AIDA.root",
     "output_type": "error",
     "traceback": [
      "\u001b[0;31m---------------------------------------------------------------------------\u001b[0m",
      "\u001b[0;31mValueError\u001b[0m                                Traceback (most recent call last)",
      "Cell \u001b[0;32mIn[22], line 1\u001b[0m\n\u001b[0;32m----> 1\u001b[0m \u001b[43mur\u001b[49m\u001b[38;5;241;43m.\u001b[39;49m\u001b[43mconcatenate\u001b[49m\u001b[43m(\u001b[49m\u001b[43moutput\u001b[49m\u001b[43m)\u001b[49m\n",
      "File \u001b[0;32m/cvmfs/sw.hsf.org/key4hep/releases/2024-10-03/x86_64-almalinux9-gcc14.2.0-opt/py-uproot/5.0.5-z5oim7/lib/python3.11/site-packages/uproot/behaviors/TBranch.py:355\u001b[0m, in \u001b[0;36mconcatenate\u001b[0;34m(files, expressions, cut, filter_name, filter_typename, filter_branch, aliases, language, decompression_executor, interpretation_executor, library, ak_add_doc, how, custom_classes, allow_missing, **options)\u001b[0m\n\u001b[1;32m    353\u001b[0m global_start \u001b[38;5;241m=\u001b[39m \u001b[38;5;241m0\u001b[39m\n\u001b[1;32m    354\u001b[0m \u001b[38;5;28;01mfor\u001b[39;00m file_path, object_path \u001b[38;5;129;01min\u001b[39;00m files:\n\u001b[0;32m--> 355\u001b[0m     hasbranches \u001b[38;5;241m=\u001b[39m \u001b[43muproot\u001b[49m\u001b[38;5;241;43m.\u001b[39;49m\u001b[43m_util\u001b[49m\u001b[38;5;241;43m.\u001b[39;49m\u001b[43mregularize_object_path\u001b[49m\u001b[43m(\u001b[49m\n\u001b[1;32m    356\u001b[0m \u001b[43m        \u001b[49m\u001b[43mfile_path\u001b[49m\u001b[43m,\u001b[49m\u001b[43m \u001b[49m\u001b[43mobject_path\u001b[49m\u001b[43m,\u001b[49m\u001b[43m \u001b[49m\u001b[43mcustom_classes\u001b[49m\u001b[43m,\u001b[49m\u001b[43m \u001b[49m\u001b[43mallow_missing\u001b[49m\u001b[43m,\u001b[49m\u001b[43m \u001b[49m\u001b[43moptions\u001b[49m\n\u001b[1;32m    357\u001b[0m \u001b[43m    \u001b[49m\u001b[43m)\u001b[49m\n\u001b[1;32m    358\u001b[0m     \u001b[38;5;28;01mif\u001b[39;00m hasbranches \u001b[38;5;129;01mis\u001b[39;00m \u001b[38;5;129;01mnot\u001b[39;00m \u001b[38;5;28;01mNone\u001b[39;00m:\n\u001b[1;32m    359\u001b[0m         \u001b[38;5;28;01mwith\u001b[39;00m hasbranches:\n",
      "File \u001b[0;32m/cvmfs/sw.hsf.org/key4hep/releases/2024-10-03/x86_64-almalinux9-gcc14.2.0-opt/py-uproot/5.0.5-z5oim7/lib/python3.11/site-packages/uproot/_util.py:939\u001b[0m, in \u001b[0;36mregularize_object_path\u001b[0;34m(file_path, object_path, custom_classes, allow_missing, options)\u001b[0m\n\u001b[1;32m    937\u001b[0m             \u001b[38;5;28;01melse\u001b[39;00m:\n\u001b[1;32m    938\u001b[0m                 ttree_str \u001b[38;5;241m=\u001b[39m \u001b[38;5;124m\"\u001b[39m\u001b[38;5;124m, \u001b[39m\u001b[38;5;124m\"\u001b[39m\u001b[38;5;241m.\u001b[39mjoin(\u001b[38;5;28mrepr\u001b[39m(x) \u001b[38;5;28;01mfor\u001b[39;00m x \u001b[38;5;129;01min\u001b[39;00m trees)\n\u001b[0;32m--> 939\u001b[0m                 \u001b[38;5;28;01mraise\u001b[39;00m \u001b[38;5;167;01mValueError\u001b[39;00m(\n\u001b[1;32m    940\u001b[0m \u001b[38;5;250m                    \u001b[39m\u001b[38;5;124;03m\"\"\"TTree object paths must be specified in the 'files' \"\"\"\u001b[39;00m\n\u001b[1;32m    941\u001b[0m \u001b[38;5;250m                    \u001b[39m\u001b[38;5;124;03m\"\"\"as {\"filenames*.root\": \"path\"} if any files have \"\"\"\u001b[39;00m\n\u001b[1;32m    942\u001b[0m                     \u001b[38;5;124mf\u001b[39m\u001b[38;5;124m\"\"\"\u001b[39m\u001b[38;5;124mmore than one TTree\u001b[39m\n\u001b[1;32m    943\u001b[0m \n\u001b[1;32m    944\u001b[0m \u001b[38;5;124m    TTrees: \u001b[39m\u001b[38;5;132;01m{\u001b[39;00mttree_str\u001b[38;5;132;01m}\u001b[39;00m\n\u001b[1;32m    945\u001b[0m \n\u001b[1;32m    946\u001b[0m \u001b[38;5;124min file \u001b[39m\u001b[38;5;132;01m{\u001b[39;00mfile_path\u001b[38;5;132;01m}\u001b[39;00m\u001b[38;5;124m\"\"\"\u001b[39m\n\u001b[1;32m    947\u001b[0m                 )\n\u001b[1;32m    949\u001b[0m         \u001b[38;5;28;01melse\u001b[39;00m:\n\u001b[1;32m    950\u001b[0m             \u001b[38;5;28;01mif\u001b[39;00m allow_missing \u001b[38;5;129;01mand\u001b[39;00m object_path \u001b[38;5;129;01mnot\u001b[39;00m \u001b[38;5;129;01min\u001b[39;00m file:\n",
      "\u001b[0;31mValueError\u001b[0m: TTree object paths must be specified in the 'files' as {\"filenames*.root\": \"path\"} if any files have more than one TTree\n\n    TTrees: 'EventObservablesQQ', 'KinFitQQZZZ', 'KinFitQQZZH', 'KinFitQQZHH', 'KinFitQQNMC', 'EventObservablesVV', 'KinFitVVZZZ', 'KinFitVVZZH', 'KinFitVVZHH', 'KinFitVVNMC', 'EventObservablesLL', 'KinFitLLZZZ', 'KinFitLLZZH', 'KinFitLLZHH', 'KinFitLLNMC', 'SLDCorrection', 'LeptonPairing', 'FinalStates', 'HdecayMode', 'ntp'\n\nin file /home/ilc/bliewert/jobresults/550-2l4q-ana/E550-TDR_ws.P6f_eexxxx.Gwhizard-3_1_5.eL.pL.I410026.1-0_AIDA.root"
     ]
    }
   ],
   "source": [
    "ur.concatenate(output)"
   ]
  },
  {
   "cell_type": "code",
   "execution_count": 3,
   "metadata": {},
   "outputs": [
    {
     "ename": "ValueError",
     "evalue": "could not broadcast input array from shape (0,) into shape (3500791,)",
     "output_type": "error",
     "traceback": [
      "\u001b[0;31m---------------------------------------------------------------------------\u001b[0m",
      "\u001b[0;31mValueError\u001b[0m                                Traceback (most recent call last)",
      "Cell \u001b[0;32mIn[3], line 5\u001b[0m\n\u001b[1;32m      2\u001b[0m WORK_ROOT \u001b[38;5;241m=\u001b[39m \u001b[38;5;124m'\u001b[39m\u001b[38;5;124m/home/ilc/bliewert/jobresults/analysis\u001b[39m\u001b[38;5;124m'\u001b[39m\n\u001b[1;32m      4\u001b[0m llhh1_lvbbqq\u001b[38;5;241m.\u001b[39minitialize(WORK_ROOT, root_files\u001b[38;5;241m=\u001b[39moutput)\n\u001b[0;32m----> 5\u001b[0m \u001b[43mllhh1_lvbbqq\u001b[49m\u001b[38;5;241;43m.\u001b[39;49m\u001b[43mfetch\u001b[49m\u001b[43m(\u001b[49m\u001b[43m)\u001b[49m\n",
      "File \u001b[0;32m/gpfs/home/ilc/bliewert/DevRepositories/ZHH/analysis/configurations.py:39\u001b[0m, in \u001b[0;36mAnalysisChannel.fetch\u001b[0;34m(self)\u001b[0m\n\u001b[1;32m     38\u001b[0m \u001b[38;5;28;01mdef\u001b[39;00m \u001b[38;5;21mfetch\u001b[39m(\u001b[38;5;28mself\u001b[39m):\n\u001b[0;32m---> 39\u001b[0m     \u001b[38;5;28mself\u001b[39m\u001b[38;5;241m.\u001b[39mpresel \u001b[38;5;241m=\u001b[39m \u001b[43mfetch_preselection_data\u001b[49m\u001b[43m(\u001b[49m\u001b[38;5;28;43mself\u001b[39;49m\u001b[38;5;241;43m.\u001b[39;49m\u001b[43mrf\u001b[49m\u001b[43m)\u001b[49m\n",
      "File \u001b[0;32m/gpfs/home/ilc/bliewert/DevRepositories/ZHH/zhh/analysis/PreselectionAnalysis.py:502\u001b[0m, in \u001b[0;36mfetch_preselection_data\u001b[0;34m(rf, final_states)\u001b[0m\n\u001b[1;32m    499\u001b[0m EvtObsTree \u001b[38;5;241m=\u001b[39m \u001b[38;5;124mf\u001b[39m\u001b[38;5;124m'\u001b[39m\u001b[38;5;124mEventObservables\u001b[39m\u001b[38;5;132;01m{\u001b[39;00mpresel\u001b[38;5;241m.\u001b[39mupper()\u001b[38;5;132;01m}\u001b[39;00m\u001b[38;5;124m'\u001b[39m\n\u001b[1;32m    500\u001b[0m \u001b[38;5;66;03m#KinFitTree = f'KinFit{presel.upper()}_ZHH'\u001b[39;00m\n\u001b[0;32m--> 502\u001b[0m \u001b[43mresults\u001b[49m\u001b[43m[\u001b[49m\u001b[38;5;124;43mf\u001b[39;49m\u001b[38;5;124;43m'\u001b[39;49m\u001b[38;5;132;43;01m{\u001b[39;49;00m\u001b[43mpresel\u001b[49m\u001b[38;5;132;43;01m}\u001b[39;49;00m\u001b[38;5;124;43m_mh1\u001b[39;49m\u001b[38;5;124;43m'\u001b[39;49m\u001b[43m]\u001b[49m \u001b[38;5;241m=\u001b[39m rf[\u001b[38;5;124mf\u001b[39m\u001b[38;5;124m'\u001b[39m\u001b[38;5;132;01m{\u001b[39;00mEvtObsTree\u001b[38;5;132;01m}\u001b[39;00m\u001b[38;5;124m/zhh_mh1\u001b[39m\u001b[38;5;124m'\u001b[39m]\u001b[38;5;241m.\u001b[39marray()\n\u001b[1;32m    503\u001b[0m results[\u001b[38;5;124mf\u001b[39m\u001b[38;5;124m'\u001b[39m\u001b[38;5;132;01m{\u001b[39;00mpresel\u001b[38;5;132;01m}\u001b[39;00m\u001b[38;5;124m_mh2\u001b[39m\u001b[38;5;124m'\u001b[39m] \u001b[38;5;241m=\u001b[39m rf[\u001b[38;5;124mf\u001b[39m\u001b[38;5;124m'\u001b[39m\u001b[38;5;132;01m{\u001b[39;00mEvtObsTree\u001b[38;5;132;01m}\u001b[39;00m\u001b[38;5;124m/zhh_mh2\u001b[39m\u001b[38;5;124m'\u001b[39m]\u001b[38;5;241m.\u001b[39marray()\n\u001b[1;32m    505\u001b[0m \u001b[38;5;28;01mif\u001b[39;00m presel \u001b[38;5;241m==\u001b[39m \u001b[38;5;124m'\u001b[39m\u001b[38;5;124mll\u001b[39m\u001b[38;5;124m'\u001b[39m:                        \n\u001b[1;32m    506\u001b[0m     \u001b[38;5;66;03m#lepTypes = rf['lepTypes'].array()\u001b[39;00m\n\u001b[1;32m    507\u001b[0m     \u001b[38;5;66;03m#pass_ltype11 = np.sum(np.abs(lepTypes) == 11, axis=1) == 2\u001b[39;00m\n\u001b[1;32m    508\u001b[0m     \u001b[38;5;66;03m#pass_ltype13 = np.sum(np.abs(lepTypes) == 13, axis=1) == 2\u001b[39;00m\n\u001b[1;32m    509\u001b[0m     \u001b[38;5;66;03m#results['ll_dilepton_type'] = pass_ltype11*11 + pass_ltype13*13\u001b[39;00m\n",
      "\u001b[0;31mValueError\u001b[0m: could not broadcast input array from shape (0,) into shape (3500791,)"
     ]
    }
   ],
   "source": [
    "from configurations import llhh1_lvbbqq\n",
    "WORK_ROOT = '/home/ilc/bliewert/jobresults/analysis'\n",
    "\n",
    "llhh1_lvbbqq.initialize(WORK_ROOT, root_files=output)\n",
    "llhh1_lvbbqq.fetch()"
   ]
  },
  {
   "cell_type": "code",
   "execution_count": 4,
   "metadata": {},
   "outputs": [],
   "source": [
    "rf = llhh1_lvbbqq.rf"
   ]
  },
  {
   "cell_type": "code",
   "execution_count": 6,
   "metadata": {},
   "outputs": [
    {
     "ename": "ValueError",
     "evalue": "could not broadcast input array from shape (0,) into shape (3500791,)",
     "output_type": "error",
     "traceback": [
      "\u001b[0;31m---------------------------------------------------------------------------\u001b[0m",
      "\u001b[0;31mValueError\u001b[0m                                Traceback (most recent call last)",
      "Cell \u001b[0;32mIn[6], line 1\u001b[0m\n\u001b[0;32m----> 1\u001b[0m a \u001b[38;5;241m=\u001b[39m \u001b[43mfetch_preselection_data\u001b[49m\u001b[43m(\u001b[49m\u001b[43mrf\u001b[49m\u001b[43m)\u001b[49m\n",
      "File \u001b[0;32m/gpfs/home/ilc/bliewert/DevRepositories/ZHH/zhh/analysis/PreselectionAnalysis.py:502\u001b[0m, in \u001b[0;36mfetch_preselection_data\u001b[0;34m(rf, final_states)\u001b[0m\n\u001b[1;32m    499\u001b[0m EvtObsTree \u001b[38;5;241m=\u001b[39m \u001b[38;5;124mf\u001b[39m\u001b[38;5;124m'\u001b[39m\u001b[38;5;124mEventObservables\u001b[39m\u001b[38;5;132;01m{\u001b[39;00mpresel\u001b[38;5;241m.\u001b[39mupper()\u001b[38;5;132;01m}\u001b[39;00m\u001b[38;5;124m'\u001b[39m\n\u001b[1;32m    500\u001b[0m \u001b[38;5;66;03m#KinFitTree = f'KinFit{presel.upper()}_ZHH'\u001b[39;00m\n\u001b[0;32m--> 502\u001b[0m \u001b[43mresults\u001b[49m\u001b[43m[\u001b[49m\u001b[38;5;124;43mf\u001b[39;49m\u001b[38;5;124;43m'\u001b[39;49m\u001b[38;5;132;43;01m{\u001b[39;49;00m\u001b[43mpresel\u001b[49m\u001b[38;5;132;43;01m}\u001b[39;49;00m\u001b[38;5;124;43m_mh1\u001b[39;49m\u001b[38;5;124;43m'\u001b[39;49m\u001b[43m]\u001b[49m \u001b[38;5;241m=\u001b[39m rf[\u001b[38;5;124mf\u001b[39m\u001b[38;5;124m'\u001b[39m\u001b[38;5;132;01m{\u001b[39;00mEvtObsTree\u001b[38;5;132;01m}\u001b[39;00m\u001b[38;5;124m/zhh_mh1\u001b[39m\u001b[38;5;124m'\u001b[39m]\n\u001b[1;32m    503\u001b[0m results[\u001b[38;5;124mf\u001b[39m\u001b[38;5;124m'\u001b[39m\u001b[38;5;132;01m{\u001b[39;00mpresel\u001b[38;5;132;01m}\u001b[39;00m\u001b[38;5;124m_mh2\u001b[39m\u001b[38;5;124m'\u001b[39m] \u001b[38;5;241m=\u001b[39m rf[\u001b[38;5;124mf\u001b[39m\u001b[38;5;124m'\u001b[39m\u001b[38;5;132;01m{\u001b[39;00mEvtObsTree\u001b[38;5;132;01m}\u001b[39;00m\u001b[38;5;124m/zhh_mh2\u001b[39m\u001b[38;5;124m'\u001b[39m]\n\u001b[1;32m    505\u001b[0m \u001b[38;5;28;01mif\u001b[39;00m presel \u001b[38;5;241m==\u001b[39m \u001b[38;5;124m'\u001b[39m\u001b[38;5;124mll\u001b[39m\u001b[38;5;124m'\u001b[39m:                        \n\u001b[1;32m    506\u001b[0m     \u001b[38;5;66;03m#lepTypes = rf['lepTypes'].array()\u001b[39;00m\n\u001b[1;32m    507\u001b[0m     \u001b[38;5;66;03m#pass_ltype11 = np.sum(np.abs(lepTypes) == 11, axis=1) == 2\u001b[39;00m\n\u001b[1;32m    508\u001b[0m     \u001b[38;5;66;03m#pass_ltype13 = np.sum(np.abs(lepTypes) == 13, axis=1) == 2\u001b[39;00m\n\u001b[1;32m    509\u001b[0m     \u001b[38;5;66;03m#results['ll_dilepton_type'] = pass_ltype11*11 + pass_ltype13*13\u001b[39;00m\n",
      "\u001b[0;31mValueError\u001b[0m: could not broadcast input array from shape (0,) into shape (3500791,)"
     ]
    }
   ],
   "source": [
    "a = fetch_preselection_data(rf)"
   ]
  },
  {
   "cell_type": "code",
   "execution_count": 12,
   "metadata": {},
   "outputs": [
    {
     "data": {
      "text/html": [
       "<pre>-----------------\n",
       "type: 0 * float32</pre>"
      ],
      "text/plain": [
       "<Array [] type='0 * float32'>"
      ]
     },
     "execution_count": 12,
     "metadata": {},
     "output_type": "execute_result"
    }
   ],
   "source": [
    "rf['EventObservablesLL']['mzll'].array()"
   ]
  },
  {
   "cell_type": "code",
   "execution_count": 15,
   "metadata": {},
   "outputs": [
    {
     "data": {
      "text/html": [
       "<pre>---------------\n",
       "type: 0 * int32</pre>"
      ],
      "text/plain": [
       "<Array [] type='0 * int32'>"
      ]
     },
     "execution_count": 15,
     "metadata": {},
     "output_type": "execute_result"
    }
   ],
   "source": [
    "rf['EventObservablesLL/errorCode'].array()"
   ]
  },
  {
   "cell_type": "code",
   "execution_count": 8,
   "metadata": {},
   "outputs": [
    {
     "ename": "NameError",
     "evalue": "name 'a' is not defined",
     "output_type": "error",
     "traceback": [
      "\u001b[0;31m---------------------------------------------------------------------------\u001b[0m",
      "\u001b[0;31mNameError\u001b[0m                                 Traceback (most recent call last)",
      "Cell \u001b[0;32mIn[8], line 1\u001b[0m\n\u001b[0;32m----> 1\u001b[0m \u001b[43ma\u001b[49m\u001b[38;5;241m.\u001b[39mnbytes\n",
      "\u001b[0;31mNameError\u001b[0m: name 'a' is not defined"
     ]
    }
   ],
   "source": [
    "a.nbytes"
   ]
  },
  {
   "cell_type": "code",
   "execution_count": null,
   "metadata": {},
   "outputs": [],
   "source": []
  },
  {
   "cell_type": "code",
   "execution_count": null,
   "metadata": {},
   "outputs": [
    {
     "data": {
      "text/plain": [
       "<ReadOnlyDirectory '/' at 0x7fba6bc8da10>"
      ]
     },
     "execution_count": 4,
     "metadata": {},
     "output_type": "execute_result"
    }
   ],
   "source": [
    "llhh1_lvbbqq.rf"
   ]
  },
  {
   "cell_type": "code",
   "execution_count": null,
   "metadata": {},
   "outputs": [],
   "source": []
  },
  {
   "cell_type": "code",
   "execution_count": null,
   "metadata": {},
   "outputs": [],
   "source": []
  },
  {
   "cell_type": "code",
   "execution_count": 40,
   "metadata": {},
   "outputs": [],
   "source": [
    "sig_file = '/home/ilc/bliewert/DevRepositories/ZHH/scripts/sig/zhh_AIDA.root'\n",
    "bkg_file = '/home/ilc/bliewert/DevRepositories/ZHH/scripts/bkg/zhh_AIDA.root'\n",
    "merged_file = '/home/ilc/bliewert/DevRepositories/ZHH/scripts/target.root'\n",
    "\n",
    "sig = ur.open(sig_file)\n",
    "bkg = ur.open(bkg_file)\n",
    "merged = ur.open(merged_file)\n",
    "data = fetch_preselection_data(merged_file)"
   ]
  },
  {
   "cell_type": "code",
   "execution_count": 41,
   "metadata": {},
   "outputs": [
    {
     "data": {
      "text/plain": [
       "array([579530], dtype=uint32)"
      ]
     },
     "execution_count": 41,
     "metadata": {},
     "output_type": "execute_result"
    }
   ],
   "source": [
    "a = data[data['xx_nisoleps'] == 2]\n",
    "\n",
    "a['event'][a['ll_mh1'] == 0]"
   ]
  },
  {
   "cell_type": "code",
   "execution_count": 42,
   "metadata": {},
   "outputs": [
    {
     "data": {
      "text/plain": [
       "array([(1112, 3, 579530, 11, 0, 0, 0, 0.7567164, 343.5149, 42.100082, 199.53299, 2, 0, 0., 0., 0., 0, 0., 0., 133.12218, 134.04944, 339.01794, 131.85199, 97.89545, 0.000218, 0.84293354, 0.52192885, 0.00732994, 0.000218, 0.84293354, 0.52192885, 0.00732994, 0.9998361, 0.00014139, 0.00019322, 0.52192885, 0, 0, 0, 0, 2, 0, 0, 0, 2, 0, 0, 0, 0, 0, 0, 2, 0, 2)],\n",
       "      dtype=[('process', '<u4'), ('pol_code', 'u1'), ('event', '<u4'), ('event_category', 'u1'), ('ll_pass', 'u1'), ('vv_pass', 'u1'), ('qq_pass', 'u1'), ('xx_thrust', '<f4'), ('xx_e_vis', '<f4'), ('xx_pt_miss', '<f4'), ('xx_invmass_miss', '<f4'), ('xx_nisoleps', 'u1'), ('passed', 'u1'), ('weight', '<f4'), ('ll_mh1', '<f4'), ('ll_mh2', '<f4'), ('ll_dilepton_type', 'u1'), ('ll_mz', '<f4'), ('ll_mz_pre_pairing', '<f4'), ('vv_mh1', '<f4'), ('vv_mh2', '<f4'), ('vv_mhh', '<f4'), ('qq_mh1', '<f4'), ('qq_mh2', '<f4'), ('ll_bmax1', '<f4'), ('ll_bmax2', '<f4'), ('ll_bmax3', '<f4'), ('ll_bmax4', '<f4'), ('vv_bmax1', '<f4'), ('vv_bmax2', '<f4'), ('vv_bmax3', '<f4'), ('vv_bmax4', '<f4'), ('qq_bmax1', '<f4'), ('qq_bmax2', '<f4'), ('qq_bmax3', '<f4'), ('qq_bmax4', '<f4'), ('Nd', 'u1'), ('Nu', 'u1'), ('Ns', 'u1'), ('Nc', 'u1'), ('Nb', 'u1'), ('Nt', 'u1'), ('Ne1', 'u1'), ('Nn1', 'u1'), ('Ne2', 'u1'), ('Nn2', 'u1'), ('Ne3', 'u1'), ('Nv3', 'u1'), ('Ng', 'u1'), ('Ny', 'u1'), ('NZ', 'u1'), ('NW', 'u1'), ('NH', 'u1'), ('Nb_from_H', 'u1')])"
      ]
     },
     "execution_count": 42,
     "metadata": {},
     "output_type": "execute_result"
    }
   ],
   "source": [
    "a[a['event'] == 579530]"
   ]
  },
  {
   "cell_type": "code",
   "execution_count": 43,
   "metadata": {},
   "outputs": [
    {
     "data": {
      "text/plain": [
       "array([2], dtype=uint8)"
      ]
     },
     "execution_count": 43,
     "metadata": {},
     "output_type": "execute_result"
    }
   ],
   "source": [
    "a[a['event'] == 579530]['xx_nisoleps']"
   ]
  },
  {
   "cell_type": "code",
   "execution_count": 46,
   "metadata": {},
   "outputs": [
    {
     "name": "stdout",
     "output_type": "stream",
     "text": [
      "(MH1, MH2) 0 entries = (0, 0)\n"
     ]
    },
    {
     "data": {
      "image/png": "[encoded data removed]",
      "text/plain": [
       "<Figure size 640x480 with 1 Axes>"
      ]
     },
     "metadata": {},
     "output_type": "display_data"
    }
   ],
   "source": [
    "mode = 'LL_ZHH'\n",
    "a = 'Boson2BeforeFit'\n",
    "b = 'Boson2AfterFit'\n",
    "\n",
    "mask = np.array(merged[f'EventObservablesLL/zhh_mz'].array() > 0)\n",
    "err = np.array(merged[f'KinFit{mode}']['FitErrorCode'].array())\n",
    "mask = (mask) #& (err == 0)\n",
    "\n",
    "zhh_mh1 = np.array(merged[f'EventObservablesLL/zhh_mh1'].array())[mask]\n",
    "zhh_mh2 = np.array(merged[f'EventObservablesLL/zhh_mh2'].array())[mask]\n",
    "\n",
    "plt.hist([zhh_mh1, zhh_mh2], alpha=0.7)\n",
    "print(f'(MH1, MH2) 0 entries = ({(zhh_mh1 == 0).sum()}, {(zhh_mh2 == 0).sum()})')"
   ]
  },
  {
   "cell_type": "code",
   "execution_count": 3,
   "metadata": {},
   "outputs": [
    {
     "data": {
      "text/plain": [
       "['run',\n",
       " 'event',\n",
       " 'error_code',\n",
       " 'final_states',\n",
       " 'final_state_counts',\n",
       " 'final_state_counts/final_state_counts.first',\n",
       " 'final_state_counts/final_state_counts.second',\n",
       " 'process',\n",
       " 'polarization_code',\n",
       " 'cross_section',\n",
       " 'event_category',\n",
       " 'event_category_zhh',\n",
       " 'n_fermion',\n",
       " 'n_higgs',\n",
       " 'n_b_from_higgs',\n",
       " 'n_c_from_higgs']"
      ]
     },
     "execution_count": 3,
     "metadata": {},
     "output_type": "execute_result"
    }
   ],
   "source": [
    "merged['FinalStates'].keys()"
   ]
  },
  {
   "cell_type": "code",
   "execution_count": 5,
   "metadata": {},
   "outputs": [
    {
     "data": {
      "text/html": [
       "<pre>[3,\n",
       " 3,\n",
       " 3,\n",
       " 3,\n",
       " 3,\n",
       " 3,\n",
       " 3,\n",
       " 3,\n",
       " 3,\n",
       " 3,\n",
       " ...,\n",
       " 0,\n",
       " 0,\n",
       " 0,\n",
       " 0,\n",
       " 0,\n",
       " 0,\n",
       " 0,\n",
       " 0,\n",
       " 0]\n",
       "------------------\n",
       "type: 198 * uint16</pre>"
      ],
      "text/plain": [
       "<Array [3, 3, 3, 3, 3, 3, 3, 3, ..., 0, 0, 0, 0, 0, 0, 0] type='198 * uint16'>"
      ]
     },
     "execution_count": 5,
     "metadata": {},
     "output_type": "execute_result"
    }
   ],
   "source": [
    "merged['FinalStates/polarization_code'].array()"
   ]
  },
  {
   "cell_type": "code",
   "execution_count": 3,
   "metadata": {},
   "outputs": [
    {
     "data": {
      "text/html": [
       "<pre>[[1, 2, 3, 4, 5, 6, 11, 12, 13, 14, 15, 16, 21, 22, 23, 24, 25]]\n",
       "----------------------------------------------------------------\n",
       "type: 1 * var * int32</pre>"
      ],
      "text/plain": [
       "<Array [[1, 2, 3, 4, 5, 6, ..., 16, 21, 22, 23, 24, 25]] type='1 * var * int32'>"
      ]
     },
     "execution_count": 3,
     "metadata": {},
     "output_type": "execute_result"
    }
   ],
   "source": [
    "merged['FinalStates/final_state_counts/final_state_counts.first'].array(entry_stop=1)"
   ]
  },
  {
   "cell_type": "code",
   "execution_count": 4,
   "metadata": {},
   "outputs": [],
   "source": [
    "# background: 2 leptons, 4 jets"
   ]
  },
  {
   "cell_type": "code",
   "execution_count": 5,
   "metadata": {},
   "outputs": [
    {
     "data": {
      "text/html": [
       "<pre>[[0, 0, 0, 0, 4, 0, 0, 0, 2, 0, 0, 0, 0, 0, 0, 0, 0],\n",
       " [0, 0, 0, 0, 0, 0, 0, 0, 2, 0, 0, 0, 2, 0, 0, 2, 0],\n",
       " [0, 0, 0, 0, 4, 0, 0, 0, 2, 0, 0, 0, 0, 0, 0, 0, 0],\n",
       " [0, 0, 0, 0, 2, 0, 0, 0, 2, 0, 0, 0, 2, 0, 0, 0, 0],\n",
       " [0, 0, 0, 0, 2, 0, 0, 0, 2, 0, 0, 0, 0, 0, 0, 2, 0],\n",
       " [0, 0, 0, 0, 2, 0, 0, 0, 2, 0, 0, 0, 0, 0, 0, 2, 0],\n",
       " [0, 0, 0, 0, 4, 0, 0, 0, 2, 0, 0, 0, 0, 0, 0, 0, 0],\n",
       " [0, 0, 0, 0, 4, 0, 0, 0, 2, 0, 0, 0, 0, 0, 0, 0, 0],\n",
       " [0, 0, 0, 0, 4, 0, 0, 0, 2, 0, 0, 0, 0, 0, 0, 0, 0],\n",
       " [0, 0, 0, 0, 0, 0, 0, 0, 2, 0, 0, 0, 0, 0, 0, 4, 0],\n",
       " ...,\n",
       " [0, 0, 2, 0, 0, 0, 0, 0, 2, 0, 0, 0, 0, 2, 0, 0, 0],\n",
       " [0, 2, 0, 0, 2, 0, 0, 0, 2, 0, 0, 0, 0, 0, 0, 0, 0],\n",
       " [0, 2, 0, 0, 0, 0, 0, 0, 2, 0, 0, 0, 0, 0, 0, 2, 0],\n",
       " [0, 0, 2, 0, 0, 0, 0, 0, 2, 0, 0, 0, 0, 0, 0, 2, 0],\n",
       " [0, 0, 2, 0, 0, 0, 0, 0, 2, 0, 0, 0, 0, 0, 0, 2, 0],\n",
       " [2, 0, 0, 0, 2, 0, 0, 0, 2, 0, 0, 0, 0, 0, 0, 0, 0],\n",
       " [0, 0, 2, 0, 0, 0, 0, 0, 2, 0, 0, 0, 0, 0, 0, 2, 0],\n",
       " [0, 0, 0, 0, 2, 0, 0, 0, 2, 0, 2, 0, 0, 0, 0, 0, 0],\n",
       " [0, 0, 2, 0, 2, 0, 0, 0, 2, 0, 0, 0, 0, 0, 0, 0, 0]]\n",
       "-----------------------------------------------------\n",
       "type: 198 * var * int32</pre>"
      ],
      "text/plain": [
       "<Array [[0, 0, 0, 0, 4, 0, ..., 0, 0, 0, 0, 0], ...] type='198 * var * int32'>"
      ]
     },
     "execution_count": 5,
     "metadata": {},
     "output_type": "execute_result"
    }
   ],
   "source": [
    "merged['FinalStates/final_state_counts/final_state_counts.second'].array()"
   ]
  },
  {
   "cell_type": "code",
   "execution_count": 6,
   "metadata": {},
   "outputs": [
    {
     "data": {
      "text/plain": [
       "array([ True, False,  True, False, False, False,  True,  True,  True,\n",
       "       False, False,  True, False, False, False, False,  True, False,\n",
       "        True, False, False, False, False, False, False, False, False,\n",
       "       False, False, False,  True, False, False, False, False, False,\n",
       "       False, False, False,  True,  True, False,  True, False, False,\n",
       "       False, False, False,  True, False, False, False, False, False,\n",
       "        True, False, False,  True,  True,  True,  True, False, False,\n",
       "       False, False,  True, False, False, False, False, False, False,\n",
       "       False, False,  True,  True, False, False,  True, False,  True,\n",
       "        True, False,  True,  True,  True, False, False, False, False,\n",
       "       False, False, False,  True,  True, False, False,  True, False,\n",
       "       False, False, False, False, False, False, False, False, False,\n",
       "       False, False, False, False, False, False, False, False, False,\n",
       "       False, False, False, False, False, False, False, False, False,\n",
       "       False, False, False, False, False, False, False, False, False,\n",
       "       False, False, False, False, False, False, False, False, False,\n",
       "       False, False, False, False, False, False, False, False, False,\n",
       "       False, False, False, False, False, False, False, False, False,\n",
       "       False, False, False, False, False, False, False, False, False,\n",
       "       False, False, False, False, False, False, False, False, False,\n",
       "       False, False, False, False, False, False, False, False, False,\n",
       "       False, False, False, False, False, False, False, False, False])"
      ]
     },
     "execution_count": 6,
     "metadata": {},
     "output_type": "execute_result"
    }
   ],
   "source": [
    "np.isin(np.array(merged['FinalStates/process'].array()), [zhh.ProcessCategories.e1e1hh, zhh.ProcessCategories.e2e2hh]) & (np.array(merged['FinalStates/n_b_from_higgs'].array()) == 4)"
   ]
  },
  {
   "cell_type": "code",
   "execution_count": 7,
   "metadata": {},
   "outputs": [],
   "source": [
    "#fsc = \n",
    "#merged['FinalStates']['n_higgs'].array() == 2"
   ]
  },
  {
   "cell_type": "code",
   "execution_count": null,
   "metadata": {},
   "outputs": [],
   "source": []
  },
  {
   "cell_type": "code",
   "execution_count": null,
   "metadata": {},
   "outputs": [],
   "source": []
  },
  {
   "cell_type": "code",
   "execution_count": 8,
   "metadata": {},
   "outputs": [
    {
     "name": "stdout",
     "output_type": "stream",
     "text": [
      "(Pre, Post) 0 entries = (0, 36)\n"
     ]
    },
    {
     "data": {
      "image/png": "[encoded data removed]",
      "text/plain": [
       "<Figure size 640x480 with 1 Axes>"
      ]
     },
     "metadata": {},
     "output_type": "display_data"
    }
   ],
   "source": [
    "mode = 'LL_ZHH'\n",
    "a = 'Boson2BeforeFit'\n",
    "b = 'Boson2AfterFit'\n",
    "\n",
    "mask = np.array(merged[f'KinFit{mode}']['nIsoLeptons'].array() == 2)\n",
    "err = np.array(merged[f'KinFit{mode}']['FitErrorCode'].array())\n",
    "mask = (mask) #& (err == 0)\n",
    "\n",
    "preFit  = np.array(merged[f'KinFit{mode}'][a].array())[mask]\n",
    "postFit = np.array(merged[f'KinFit{mode}'][b].array())[mask]\n",
    "\n",
    "plt.hist([preFit, postFit], alpha=0.7)\n",
    "print(f'(Pre, Post) 0 entries = ({(preFit == 0).sum()}, {(postFit == 0).sum()})')"
   ]
  },
  {
   "cell_type": "code",
   "execution_count": 9,
   "metadata": {},
   "outputs": [
    {
     "name": "stdout",
     "output_type": "stream",
     "text": [
      "(Pre, Post) 0 entries = (0, 17)\n"
     ]
    },
    {
     "data": {
      "image/png": "[encoded data removed]",
      "text/plain": [
       "<Figure size 640x480 with 1 Axes>"
      ]
     },
     "metadata": {},
     "output_type": "display_data"
    }
   ],
   "source": [
    "mode = 'LL_NMC'\n",
    "a = 'Boson2BeforeFit'\n",
    "b = 'Boson2AfterFit'\n",
    "\n",
    "mask = np.array(merged[f'KinFit{mode}']['nIsoLeptons'].array() == 2)\n",
    "err = np.array(merged[f'KinFit{mode}']['FitErrorCode'].array())\n",
    "mask = (mask) #& (err == 0)\n",
    "\n",
    "preFit  = np.array(merged[f'KinFit{mode}'][a].array())[mask]\n",
    "postFit = np.array(merged[f'KinFit{mode}'][b].array())[mask]\n",
    "\n",
    "plt.hist([preFit, postFit], alpha=0.7)\n",
    "print(f'(Pre, Post) 0 entries = ({(preFit == 0).sum()}, {(postFit == 0).sum()})')"
   ]
  },
  {
   "cell_type": "code",
   "execution_count": null,
   "metadata": {},
   "outputs": [],
   "source": []
  },
  {
   "cell_type": "code",
   "execution_count": 113,
   "metadata": {},
   "outputs": [
    {
     "data": {
      "text/plain": [
       "(array([17.,  2.,  8., 25., 21., 23., 31., 28., 16.,  5.]),\n",
       " array([  0.        ,  35.42832565,  70.85665131, 106.28498077,\n",
       "        141.71330261, 177.14163208, 212.56996155, 247.99829102,\n",
       "        283.42660522, 318.85494995, 354.28326416]),\n",
       " <BarContainer object of 10 artists>)"
      ]
     },
     "execution_count": 113,
     "metadata": {},
     "output_type": "execute_result"
    },
    {
     "data": {
      "image/png": "[encoded data removed]",
      "text/plain": [
       "<Figure size 640x480 with 1 Axes>"
      ]
     },
     "metadata": {},
     "output_type": "display_data"
    }
   ],
   "source": [
    "plt.hist(posFit)"
   ]
  },
  {
   "cell_type": "code",
   "execution_count": null,
   "metadata": {},
   "outputs": [],
   "source": []
  },
  {
   "cell_type": "code",
   "execution_count": 66,
   "metadata": {},
   "outputs": [
    {
     "data": {
      "text/html": [
       "<pre>[[0, 1],\n",
       " [159, 17]]\n",
       "---------------------\n",
       "type: 2 * var * int64</pre>"
      ],
      "text/plain": [
       "<Array [[0, 1], [159, 17]] type='2 * var * int64'>"
      ]
     },
     "execution_count": 66,
     "metadata": {},
     "output_type": "execute_result"
    }
   ],
   "source": [
    "np.unique(vals, return_counts=True)"
   ]
  },
  {
   "cell_type": "code",
   "execution_count": 58,
   "metadata": {},
   "outputs": [
    {
     "data": {
      "text/html": [
       "<pre>[6.6e-25,\n",
       " 0,\n",
       " 3.94e-20,\n",
       " 0,\n",
       " 1.56e-21,\n",
       " 0,\n",
       " 0,\n",
       " 0,\n",
       " 0,\n",
       " 8.05e-16,\n",
       " ...,\n",
       " 0,\n",
       " 0,\n",
       " 3.97e-18,\n",
       " 0,\n",
       " 0,\n",
       " 0,\n",
       " 0,\n",
       " 0,\n",
       " 0]\n",
       "-------------------\n",
       "type: 176 * float32</pre>"
      ],
      "text/plain": [
       "<Array [6.6e-25, 0, 3.94e-20, 0, ..., 0, 0, 0, 0] type='176 * float32'>"
      ]
     },
     "execution_count": 58,
     "metadata": {},
     "output_type": "execute_result"
    }
   ],
   "source": [
    "mask = np.array(merged[f'KinFit{ps}_ZHH']['nIsoLeptons'].array() == 2)\n",
    "merged[f'KinFitLL_ZHH']['FitChi2'].array()[mask]\n",
    "merged[f'KinFitLL_ZHH']['FitProbability'].array()[mask]"
   ]
  },
  {
   "cell_type": "code",
   "execution_count": 74,
   "metadata": {},
   "outputs": [
    {
     "data": {
      "text/plain": [
       "Text(0.5, 0.98, 'e2e2hh Events- ZHH KinFit')"
      ]
     },
     "execution_count": 74,
     "metadata": {},
     "output_type": "execute_result"
    },
    {
     "data": {
      "image/png": "[encoded data removed]",
      "text/plain": [
       "<Figure size 1500x400 with 3 Axes>"
      ]
     },
     "metadata": {},
     "output_type": "display_data"
    }
   ],
   "source": [
    "kwargs = { 'bins': 64 }\n",
    "mask = merged['FinalStates/process'].array() == zhh.ProcessCategories.e2e2hh\n",
    "\n",
    "fig, (ax1, ax2, ax3) = plt.subplots(ncols=3, figsize=(15, 4))\n",
    "ax1.hist(merged[f'KinFitLL_ZHH']['FitErrorCode'].array()[mask], **kwargs)\n",
    "ax1.set_title('Fit Error Code')\n",
    "\n",
    "ax2.hist(merged[f'KinFitLL_ZHH']['FitProbability'].array()[mask], **kwargs)\n",
    "ax2.set_yscale('log')\n",
    "ax2.set_title('Fit Probability')\n",
    "\n",
    "ax3.hist(merged[f'KinFitLL_ZHH']['FitChi2'].array()[mask], **kwargs)\n",
    "ax3.set_yscale('log')\n",
    "ax3.set_title('FitChi2')\n",
    "\n",
    "fig.suptitle('e2e2hh Events- ZHH KinFit')"
   ]
  },
  {
   "cell_type": "code",
   "execution_count": null,
   "metadata": {},
   "outputs": [],
   "source": []
  },
  {
   "cell_type": "code",
   "execution_count": 57,
   "metadata": {},
   "outputs": [
    {
     "data": {
      "image/png": "[encoded data removed]",
      "text/plain": [
       "<Figure size 1000x300 with 3 Axes>"
      ]
     },
     "metadata": {},
     "output_type": "display_data"
    },
    {
     "data": {
      "image/png": "[encoded data removed]",
      "text/plain": [
       "<Figure size 1000x300 with 3 Axes>"
      ]
     },
     "metadata": {},
     "output_type": "display_data"
    },
    {
     "data": {
      "image/png": "[encoded data removed]",
      "text/plain": [
       "<Figure size 1000x300 with 3 Axes>"
      ]
     },
     "metadata": {},
     "output_type": "display_data"
    }
   ],
   "source": [
    "kwargs = {\n",
    "    'bins': 32,\n",
    "    'alpha': 0.7,\n",
    "}\n",
    "\n",
    "for ps, nisol in [\n",
    "    ('LL', 2),\n",
    "    ('QQ', 0),\n",
    "    ('VV', 0)\n",
    "]:\n",
    "    fig, (ax1, ax2) = plt.subplots(ncols=2, figsize=(10, 3))\n",
    "    mask = np.array(merged[f'KinFit{ps}_ZHH']['nIsoLeptons'].array() == nisol)\n",
    "\n",
    "    ax1.hist(merged[f'KinFit{ps}_ZHH']['FitChi2'].array()[mask], label='FitChi2', **kwargs )\n",
    "    ax12 = ax1.twinx()\n",
    "    ax12.hist(merged[f'KinFit{ps}_ZHH']['FitProbability'].array()[mask], label='FitProb', **kwargs )\n",
    "    \n",
    "    ax2.hist(merged[f'KinFit{ps}_ZHH']['Boson1BeforeFit'].array()[mask], label='Boson1BeforeFit', **kwargs )\n",
    "    #ax2.hist(merged[f'KinFit{ps}_ZHH']['FitChi2'].array()[mask], label='FitChi2', **kwargs )\n",
    "    #ax.hist(merged['KinFitLL_NMC']['Boson1AfterFit'].array()[mask], label='with mask', **kwargs)\n",
    "    ax1.legend()\n",
    "    ax12.legend()\n",
    "    fig.suptitle(f'{ps}')\n",
    "    plt.show()"
   ]
  },
  {
   "cell_type": "code",
   "execution_count": null,
   "metadata": {},
   "outputs": [],
   "source": [
    "B1After = np.array(merged['KinFitLL_NMC']['Boson1AfterFit'].array())\n",
    "FitCode = np.array(merged['KinFitLL_NMC']['FitErrorCode'].array())"
   ]
  },
  {
   "cell_type": "code",
   "execution_count": 51,
   "metadata": {},
   "outputs": [
    {
     "data": {
      "text/plain": [
       "array([1, 1, 1, 1, 1, 1, 1, 1, 1, 1, 1, 1, 1, 1, 1, 1, 1, 1, 1, 1, 1, 1,\n",
       "       1, 1, 1, 1, 1, 1, 1, 1, 1, 1, 1, 1, 1, 1, 1, 1, 1], dtype=int32)"
      ]
     },
     "execution_count": 51,
     "metadata": {},
     "output_type": "execute_result"
    }
   ],
   "source": [
    "FitCode[B1After == 0]"
   ]
  },
  {
   "cell_type": "code",
   "execution_count": null,
   "metadata": {},
   "outputs": [],
   "source": []
  },
  {
   "cell_type": "code",
   "execution_count": 45,
   "metadata": {},
   "outputs": [
    {
     "data": {
      "text/html": [
       "<pre>[300,\n",
       " 286,\n",
       " 147,\n",
       " 0,\n",
       " 0,\n",
       " 138,\n",
       " 200,\n",
       " 248,\n",
       " 222,\n",
       " 137,\n",
       " ...,\n",
       " 0,\n",
       " 253,\n",
       " 0,\n",
       " 166,\n",
       " 262,\n",
       " 244,\n",
       " 135,\n",
       " 281,\n",
       " 0]\n",
       "-------------------\n",
       "type: 198 * float32</pre>"
      ],
      "text/plain": [
       "<Array [300, 286, 147, 0, 0, ..., 262, 244, 135, 281, 0] type='198 * float32'>"
      ]
     },
     "execution_count": 45,
     "metadata": {},
     "output_type": "execute_result"
    }
   ],
   "source": [
    "merged['KinFitLL_NMC']['Boson2AfterFit'].array()"
   ]
  },
  {
   "cell_type": "code",
   "execution_count": null,
   "metadata": {},
   "outputs": [],
   "source": []
  },
  {
   "cell_type": "code",
   "execution_count": null,
   "metadata": {},
   "outputs": [
    {
     "data": {
      "text/plain": [
       "(array([ 22.,   2.,   2.,   4.,   9., 144.,  12.,   1.,   1.,   1.]),\n",
       " array([  0.        ,  15.79172707,  31.58345413,  47.37517929,\n",
       "         63.16690826,  78.95863342,  94.75035858, 110.54208374,\n",
       "        126.33381653, 142.12553406, 157.91726685]),\n",
       " <BarContainer object of 10 artists>)"
      ]
     },
     "execution_count": 13,
     "metadata": {},
     "output_type": "execute_result"
    },
    {
     "data": {
      "image/png": "[encoded data removed]",
      "text/plain": [
       "<Figure size 640x480 with 1 Axes>"
      ]
     },
     "metadata": {},
     "output_type": "display_data"
    }
   ],
   "source": [
    "plt.hist(merged['EventObservablesLL']['mzll'].array())"
   ]
  },
  {
   "cell_type": "code",
   "execution_count": null,
   "metadata": {},
   "outputs": [],
   "source": []
  },
  {
   "cell_type": "code",
   "execution_count": null,
   "metadata": {},
   "outputs": [],
   "source": []
  },
  {
   "cell_type": "code",
   "execution_count": null,
   "metadata": {},
   "outputs": [
    {
     "data": {
      "text/plain": [
       "[<Cut on nisoleps >= 2>,\n",
       " <Cut on 71.2 <= m_{Z} <= 111.2>,\n",
       " <Cut on 60.0 <= m_{H1} <= 180.0>,\n",
       " <Cut on 60.0 <= m_{H2} <= 180.0>,\n",
       " <Cut on p_{t}^{miss} <= 70.0>,\n",
       " <Cut on thrust <= 0.9>]"
      ]
     },
     "execution_count": 16,
     "metadata": {},
     "output_type": "execute_result"
    }
   ],
   "source": [
    "zhh_cuts('ll')"
   ]
  },
  {
   "cell_type": "code",
   "execution_count": null,
   "metadata": {},
   "outputs": [],
   "source": []
  },
  {
   "cell_type": "code",
   "execution_count": 49,
   "metadata": {},
   "outputs": [
    {
     "name": "stdout",
     "output_type": "stream",
     "text": [
      "length = 198 prior to <Cut on nisoleps >= 2>\n",
      "length = 177 prior to <Cut on 71.2 <= m_{Z} <= 111.2>\n",
      "length = 162 prior to <Cut on 60.0 <= m_{H1} <= 180.0>\n",
      "length = 159 prior to <Cut on 60.0 <= m_{H2} <= 180.0>\n",
      "length = 153 prior to <Cut on p_{t}^{miss} <= 70.0>\n",
      "length = 59 prior to <Cut on thrust <= 0.9>\n"
     ]
    }
   ],
   "source": [
    "data_all = fetch_preselection_data('/home/ilc/bliewert/DevRepositories/ZHH/scripts/target.root')\n",
    "data = data_all\n",
    "\n",
    "for cut in zhh_cuts('ll'):\n",
    "    print(f'length = {len(data)} prior to', cut)\n",
    "    data = data[cut(data)]\n",
    "    \n",
    "mask = np.ones(len(data_all), dtype=bool)\n",
    "mask[~np.isin(data_all['event'], data['event'])] = False"
   ]
  },
  {
   "cell_type": "code",
   "execution_count": null,
   "metadata": {},
   "outputs": [],
   "source": []
  },
  {
   "cell_type": "code",
   "execution_count": null,
   "metadata": {},
   "outputs": [],
   "source": []
  },
  {
   "cell_type": "code",
   "execution_count": null,
   "metadata": {},
   "outputs": [],
   "source": [
    "def prepare_presel_data(input, hypothesis:str):\n",
    "    dtypes = []\n",
    "        \n",
    "    if hypothesis == '':\n",
    "        \n",
    "    return np.array()"
   ]
  },
  {
   "cell_type": "code",
   "execution_count": null,
   "metadata": {},
   "outputs": [],
   "source": []
  },
  {
   "cell_type": "code",
   "execution_count": null,
   "metadata": {},
   "outputs": [],
   "source": []
  },
  {
   "cell_type": "code",
   "execution_count": null,
   "metadata": {},
   "outputs": [
    {
     "data": {
      "text/plain": [
       "<TBranch 'me_zhh_log' at 0x7fbc49d37d90>"
      ]
     },
     "execution_count": 28,
     "metadata": {},
     "output_type": "execute_result"
    }
   ],
   "source": [
    "LL3 = AnalysisChannel('ZZH, ZZZ', [\n",
    "    'EventObservablesLL/me_zhh_log',\n",
    "    'EventObservablesLL/me_zzh_log',\n",
    "    \n",
    "    # KinFit ZHH\n",
    "    'KinFitLL_ZHH/FitErrorCode',\n",
    "    'KinFitLL_ZHH/Boson2AfterFit',\n",
    "    'KinFitLL_ZHH/Boson3AfterFit',\n",
    "    'KinFitLL_ZHH/p1stAfterFit',\n",
    "    'KinFitLL_ZHH/FitChi2',\n",
    "    'KinFitLL_ZHH/FitProbability',\n",
    "    \n",
    "    # KinFit ZZH\n",
    "    'KinFitLL_ZZH/FitErrorCode',\n",
    "    'KinFitLL_ZZH/Boson2AfterFit',\n",
    "    'KinFitLL_ZZH/Boson3AfterFit',\n",
    "    'KinFitLL_ZZH/p1stAfterFit',\n",
    "    'KinFitLL_ZZH/FitChi2',\n",
    "    'KinFitLL_ZZH/FitProbability',\n",
    "    \n",
    "    # KinFit ZZZ\n",
    "    'KinFitLL_ZZZ/FitErrorCode',\n",
    "    'KinFitLL_ZZZ/Boson2AfterFit',\n",
    "    'KinFitLL_ZZZ/Boson3AfterFit',\n",
    "    'KinFitLL_ZZZ/p1stAfterFit',\n",
    "    'KinFitLL_ZZZ/FitChi2',\n",
    "    'KinFitLL_ZZZ/FitProbability',\n",
    "],\n",
    "    define_sig=lambda data: np.isin(np.array(data['FinalStates/process'].array()), [zhh.ProcessCategories.e1e1hh, zhh.ProcessCategories.e2e2hh]),\n",
    "    define_bkg=lambda data: np.isin(np.array(data['FinalStates/process'].array()), [zhh.ProcessCategories.e1e1qqh, zhh.ProcessCategories.e2e2qqh]))"
   ]
  },
  {
   "cell_type": "code",
   "execution_count": null,
   "metadata": {},
   "outputs": [],
   "source": []
  },
  {
   "cell_type": "code",
   "execution_count": null,
   "metadata": {},
   "outputs": [],
   "source": []
  },
  {
   "cell_type": "code",
   "execution_count": 19,
   "metadata": {},
   "outputs": [
    {
     "data": {
      "text/plain": [
       "<TBranch 'me_zzh_log' at 0x7fbc49d36790>"
      ]
     },
     "execution_count": 19,
     "metadata": {},
     "output_type": "execute_result"
    }
   ],
   "source": [
    "sig['EventObservablesLL/me_zzh_log']"
   ]
  },
  {
   "cell_type": "code",
   "execution_count": 6,
   "metadata": {},
   "outputs": [],
   "source": [
    "from zhh import ProcessIndex"
   ]
  },
  {
   "cell_type": "code",
   "execution_count": null,
   "metadata": {},
   "outputs": [],
   "source": [
    "ProcessIndex()"
   ]
  },
  {
   "cell_type": "code",
   "execution_count": 5,
   "metadata": {},
   "outputs": [
    {
     "data": {
      "text/plain": [
       "['EventObservablesQQ;1',\n",
       " 'KinFitQQ_ZZZ;2',\n",
       " 'KinFitQQ_ZZZ;1',\n",
       " 'KinFitQQ_ZZH;2',\n",
       " 'KinFitQQ_ZZH;1',\n",
       " 'KinFitQQ_ZHH;2',\n",
       " 'KinFitQQ_ZHH;1',\n",
       " 'KinFitQQ_NMC;2',\n",
       " 'KinFitQQ_NMC;1',\n",
       " 'EventObservablesVV;1',\n",
       " 'KinFitVV_ZZZ;2',\n",
       " 'KinFitVV_ZZZ;1',\n",
       " 'KinFitVV_ZZH;2',\n",
       " 'KinFitVV_ZZH;1',\n",
       " 'KinFitVV_ZHH;2',\n",
       " 'KinFitVV_ZHH;1',\n",
       " 'KinFitVV_NMC;2',\n",
       " 'KinFitVV_NMC;1',\n",
       " 'EventObservablesLL;1',\n",
       " 'KinFitLL_ZZZ;2',\n",
       " 'KinFitLL_ZZZ;1',\n",
       " 'KinFitLL_ZZH;2',\n",
       " 'KinFitLL_ZZH;1',\n",
       " 'KinFitLL_ZHH;2',\n",
       " 'KinFitLL_ZHH;1',\n",
       " 'KinFitLL_NMC;2',\n",
       " 'KinFitLL_NMC;1',\n",
       " 'SLDCorrection;4',\n",
       " 'SLDCorrection;3',\n",
       " 'SLDCorrection;2',\n",
       " 'SLDCorrection;1',\n",
       " 'SLDStatus;4',\n",
       " 'SLDStatus;3',\n",
       " 'SLDStatus;2',\n",
       " 'SLDStatus;1',\n",
       " 'BHadronType;4',\n",
       " 'BHadronType;3',\n",
       " 'BHadronType;2',\n",
       " 'BHadronType;1',\n",
       " 'CHadronType;4',\n",
       " 'CHadronType;3',\n",
       " 'CHadronType;2',\n",
       " 'CHadronType;1',\n",
       " 'PxResidual;8',\n",
       " 'PxResidual;7',\n",
       " 'PxResidual;6',\n",
       " 'PxResidual;5',\n",
       " 'PxResidual;4',\n",
       " 'PxResidual;3',\n",
       " 'PxResidual;2',\n",
       " 'PxResidual;1',\n",
       " 'PyResidual;8',\n",
       " 'PyResidual;7',\n",
       " 'PyResidual;6',\n",
       " 'PyResidual;5',\n",
       " 'PyResidual;4',\n",
       " 'PyResidual;3',\n",
       " 'PyResidual;2',\n",
       " 'PyResidual;1',\n",
       " 'PzResidual;8',\n",
       " 'PzResidual;7',\n",
       " 'PzResidual;6',\n",
       " 'PzResidual;5',\n",
       " 'PzResidual;4',\n",
       " 'PzResidual;3',\n",
       " 'PzResidual;2',\n",
       " 'PzResidual;1',\n",
       " 'EResidual;8',\n",
       " 'EResidual;7',\n",
       " 'EResidual;6',\n",
       " 'EResidual;5',\n",
       " 'EResidual;4',\n",
       " 'EResidual;3',\n",
       " 'EResidual;2',\n",
       " 'EResidual;1',\n",
       " 'PxNormalizedResidual;8',\n",
       " 'PxNormalizedResidual;7',\n",
       " 'PxNormalizedResidual;6',\n",
       " 'PxNormalizedResidual;5',\n",
       " 'PxNormalizedResidual;4',\n",
       " 'PxNormalizedResidual;3',\n",
       " 'PxNormalizedResidual;2',\n",
       " 'PxNormalizedResidual;1',\n",
       " 'PyNormalizedResidual;8',\n",
       " 'PyNormalizedResidual;7',\n",
       " 'PyNormalizedResidual;6',\n",
       " 'PyNormalizedResidual;5',\n",
       " 'PyNormalizedResidual;4',\n",
       " 'PyNormalizedResidual;3',\n",
       " 'PyNormalizedResidual;2',\n",
       " 'PyNormalizedResidual;1',\n",
       " 'PzNormalizedResidual;8',\n",
       " 'PzNormalizedResidual;7',\n",
       " 'PzNormalizedResidual;6',\n",
       " 'PzNormalizedResidual;5',\n",
       " 'PzNormalizedResidual;4',\n",
       " 'PzNormalizedResidual;3',\n",
       " 'PzNormalizedResidual;2',\n",
       " 'PzNormalizedResidual;1',\n",
       " 'ENormalizedResidual;8',\n",
       " 'ENormalizedResidual;7',\n",
       " 'ENormalizedResidual;6',\n",
       " 'ENormalizedResidual;5',\n",
       " 'ENormalizedResidual;4',\n",
       " 'ENormalizedResidual;3',\n",
       " 'ENormalizedResidual;2',\n",
       " 'ENormalizedResidual;1',\n",
       " 'SLDecayFlavour;4',\n",
       " 'SLDecayFlavour;3',\n",
       " 'SLDecayFlavour;2',\n",
       " 'SLDecayFlavour;1',\n",
       " 'SLDMode B-Hadron;4',\n",
       " 'SLDMode B-Hadron;3',\n",
       " 'SLDMode B-Hadron;2',\n",
       " 'SLDMode B-Hadron;1',\n",
       " 'SLDMode C-Hadron;4',\n",
       " 'SLDMode C-Hadron;3',\n",
       " 'SLDMode C-Hadron;2',\n",
       " 'SLDMode C-Hadron;1',\n",
       " 'SLDecayOrder;4',\n",
       " 'SLDecayOrder;3',\n",
       " 'SLDecayOrder;2',\n",
       " 'SLDecayOrder;1',\n",
       " 'p_{x}^{#nu};4',\n",
       " 'p_{x}^{#nu};3',\n",
       " 'p_{x}^{#nu};2',\n",
       " 'p_{x}^{#nu};1',\n",
       " 'p_{y}^{#nu};4',\n",
       " 'p_{y}^{#nu};3',\n",
       " 'p_{y}^{#nu};2',\n",
       " 'p_{y}^{#nu};1',\n",
       " 'p_{z}^{#nu};4',\n",
       " 'p_{z}^{#nu};3',\n",
       " 'p_{z}^{#nu};2',\n",
       " 'p_{z}^{#nu};1',\n",
       " 'E^{#nu};4',\n",
       " 'E^{#nu};3',\n",
       " 'E^{#nu};2',\n",
       " 'E^{#nu};1',\n",
       " 'secondary_vertices;4',\n",
       " 'secondary_vertices;3',\n",
       " 'secondary_vertices;2',\n",
       " 'secondary_vertices;1',\n",
       " 'LeptonPairing;1',\n",
       " 'FinalStates;1',\n",
       " 'HdecayMode;1',\n",
       " 'ntp;12',\n",
       " 'ntp;11',\n",
       " 'ntp;10',\n",
       " 'ntp;9',\n",
       " 'ntp;8',\n",
       " 'ntp;7',\n",
       " 'ntp;6',\n",
       " 'ntp;5',\n",
       " 'ntp;4',\n",
       " 'ntp;3',\n",
       " 'ntp;2',\n",
       " 'ntp;1',\n",
       " 'hEvtProcessingTime;1']"
      ]
     },
     "execution_count": 5,
     "metadata": {},
     "output_type": "execute_result"
    }
   ],
   "source": [
    "sig.keys()"
   ]
  },
  {
   "cell_type": "code",
   "execution_count": null,
   "metadata": {},
   "outputs": [],
   "source": []
  },
  {
   "cell_type": "code",
   "execution_count": 19,
   "metadata": {},
   "outputs": [
    {
     "data": {
      "text/plain": [
       "['run',\n",
       " 'event',\n",
       " 'error_code',\n",
       " 'final_states',\n",
       " 'final_state_counts',\n",
       " 'final_state_counts/final_state_counts.first',\n",
       " 'final_state_counts/final_state_counts.second',\n",
       " 'process',\n",
       " 'event_category',\n",
       " 'event_category_zhh',\n",
       " 'n_fermion',\n",
       " 'n_higgs',\n",
       " 'n_b_from_higgs',\n",
       " 'n_c_from_higgs']"
      ]
     },
     "execution_count": 19,
     "metadata": {},
     "output_type": "execute_result"
    }
   ],
   "source": [
    "rf['FinalStates'].keys()"
   ]
  },
  {
   "cell_type": "code",
   "execution_count": null,
   "metadata": {},
   "outputs": [],
   "source": [
    "fsc = np.array(rf['FinalStates']['final_state_counts.second'].array())\n",
    "nb = fsc[:, 4]"
   ]
  },
  {
   "cell_type": "code",
   "execution_count": 132,
   "metadata": {},
   "outputs": [],
   "source": [
    "#is_signal = np.array(rf['FinalStates']['n_b_from_higgs'].array() == 4)\n",
    "#is_signal = np.array(rf['FinalStates']['n_b_from_higgs'].array() == 4)\n",
    "is_signal = nb == 4"
   ]
  },
  {
   "cell_type": "code",
   "execution_count": 133,
   "metadata": {},
   "outputs": [
    {
     "data": {
      "text/plain": [
       "3989121"
      ]
     },
     "execution_count": 133,
     "metadata": {},
     "output_type": "execute_result"
    }
   ],
   "source": [
    "is_signal.nbytes"
   ]
  },
  {
   "cell_type": "code",
   "execution_count": 66,
   "metadata": {},
   "outputs": [
    {
     "data": {
      "text/plain": [
       "array([[ 1,  2,  3,  4,  5,  6, 11, 12, 13, 14, 15, 16, 21, 22, 23, 24,\n",
       "        25]], dtype=int32)"
      ]
     },
     "execution_count": 66,
     "metadata": {},
     "output_type": "execute_result"
    }
   ],
   "source": [
    "PDGs = np.array(rf['FinalStates']['final_state_counts.first'].array(entry_start=0, entry_stop=1))\n",
    "PDGs"
   ]
  },
  {
   "cell_type": "code",
   "execution_count": null,
   "metadata": {},
   "outputs": [],
   "source": []
  },
  {
   "cell_type": "code",
   "execution_count": 83,
   "metadata": {},
   "outputs": [
    {
     "data": {
      "text/plain": [
       "(array([0, 1, 2, 3, 4, 6], dtype=int32),\n",
       " array([ 915880,     638, 1901912,     866,  998318,  171507]))"
      ]
     },
     "execution_count": 83,
     "metadata": {},
     "output_type": "execute_result"
    }
   ],
   "source": [
    "np.unique(nb, return_counts=True)"
   ]
  },
  {
   "cell_type": "code",
   "execution_count": 78,
   "metadata": {},
   "outputs": [],
   "source": [
    "proc = np.array(rf['FinalStates']['process'].array())"
   ]
  },
  {
   "cell_type": "code",
   "execution_count": 79,
   "metadata": {},
   "outputs": [
    {
     "data": {
      "text/plain": [
       "array([1511, 1511, 1511, ..., 2520, 2520, 2520], dtype=int32)"
      ]
     },
     "execution_count": 79,
     "metadata": {},
     "output_type": "execute_result"
    }
   ],
   "source": [
    "proc"
   ]
  },
  {
   "cell_type": "code",
   "execution_count": null,
   "metadata": {},
   "outputs": [],
   "source": []
  },
  {
   "cell_type": "code",
   "execution_count": null,
   "metadata": {},
   "outputs": [],
   "source": []
  }
 ],
 "metadata": {
  "kernelspec": {
   "display_name": "zhhvenv",
   "language": "python",
   "name": "python3"
  },
  "language_info": {
   "codemirror_mode": {
    "name": "ipython",
    "version": 3
   },
   "file_extension": ".py",
   "mimetype": "text/x-python",
   "name": "python",
   "nbconvert_exporter": "python",
   "pygments_lexer": "ipython3",
   "version": "3.11.9"
  }
 },
 "nbformat": 4,
 "nbformat_minor": 2
}
